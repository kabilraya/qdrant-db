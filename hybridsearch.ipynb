{
 "cells": [
  {
   "cell_type": "markdown",
   "id": "47578ed0",
   "metadata": {},
   "source": [
    "# Load, select, clean json data "
   ]
  },
  {
   "cell_type": "code",
   "execution_count": 2,
   "id": "e2efb57c",
   "metadata": {},
   "outputs": [],
   "source": [
    "import json \n",
    "import re\n",
    "import os"
   ]
  },
  {
   "cell_type": "code",
   "execution_count": null,
   "id": "a8cde4f5",
   "metadata": {},
   "outputs": [],
   "source": [
    "file_name = \"camera-screen-guards.json\"\n",
    "base_name = os.path.splitext(os.path.basename(file_name))[0]\n"
   ]
  },
  {
   "cell_type": "code",
   "execution_count": 4,
   "id": "8929b1ef",
   "metadata": {},
   "outputs": [],
   "source": [
    "with open(file_name,'r',encoding=\"utf-8\") as f:\n",
    "    data = json.load(f)"
   ]
  },
  {
   "cell_type": "code",
   "execution_count": 5,
   "id": "7eaa1012",
   "metadata": {},
   "outputs": [],
   "source": [
    "item_list = data[\"mods\"][\"listItems\"]"
   ]
  },
  {
   "cell_type": "code",
   "execution_count": 6,
   "id": "e6a62703",
   "metadata": {},
   "outputs": [
    {
     "data": {
      "text/plain": [
       "list"
      ]
     },
     "execution_count": 6,
     "metadata": {},
     "output_type": "execute_result"
    }
   ],
   "source": [
    "type(item_list)"
   ]
  },
  {
   "cell_type": "code",
   "execution_count": 7,
   "id": "0d853567",
   "metadata": {},
   "outputs": [],
   "source": [
    "def chunking_each_doc(doc,chunk_size = 128):\n",
    "    start = 0\n",
    "    doc = json.dumps(doc)\n",
    "    tokens = re.findall(r'\\w+|[{}[\\]:,\",]',doc)\n",
    "    chunks = []\n",
    "    while start <= len(tokens):\n",
    "        end = min(start+chunk_size,len(tokens))\n",
    "        chunk = \" \".join(tokens[start:end])\n",
    "        chunks.append(chunk)\n",
    "        start+=chunk_size\n",
    "    return chunks"
   ]
  },
  {
   "cell_type": "code",
   "execution_count": 8,
   "id": "97333568",
   "metadata": {},
   "outputs": [],
   "source": [
    "all_chunks = []\n",
    "for item in item_list:\n",
    "    chunks_of_each_doc= chunking_each_doc(item)\n",
    "    all_chunks.append(chunks_of_each_doc)\n"
   ]
  },
  {
   "cell_type": "code",
   "execution_count": 9,
   "id": "ef9e48aa",
   "metadata": {},
   "outputs": [
    {
     "data": {
      "text/plain": [
       "40"
      ]
     },
     "execution_count": 9,
     "metadata": {},
     "output_type": "execute_result"
    }
   ],
   "source": [
    "len(all_chunks)"
   ]
  },
  {
   "cell_type": "code",
   "execution_count": 10,
   "id": "fd35ac7a",
   "metadata": {},
   "outputs": [
    {
     "data": {
      "text/plain": [
       "'{ \" name \" : \" Redmi Note 14 5g Camera Protector Mettalic Ring Glass \" , \" nid \" : \" 361653530 \" , \" itemId \" : \" 361653530 \" , \" icons \" : [ { \" domClass \" : \" 150565 \" , \" type \" : \" img \" , \" group \" : \" 6 \" , \" showType \" : \" 0 \" } , { \" domClass \" : \" 175175 \" , \" type \" : \" img \" , \" group \" : \" 3 \" , \" showType \" : \" 0 \" } ] , \" image \" : \" https : static 01 daraz com np p 59a3b411d874aeeea2f115c998b18143 jpg \" , \" isSmartImage \" :'"
      ]
     },
     "execution_count": 10,
     "metadata": {},
     "output_type": "execute_result"
    }
   ],
   "source": [
    "all_chunks[0][0]"
   ]
  },
  {
   "cell_type": "code",
   "execution_count": 11,
   "id": "d6463cd0",
   "metadata": {},
   "outputs": [
    {
     "data": {
      "text/plain": [
       "['{ \" name \" : \" Redmi Note 14 5g Camera Protector Mettalic Ring Glass \" , \" nid \" : \" 361653530 \" , \" itemId \" : \" 361653530 \" , \" icons \" : [ { \" domClass \" : \" 150565 \" , \" type \" : \" img \" , \" group \" : \" 6 \" , \" showType \" : \" 0 \" } , { \" domClass \" : \" 175175 \" , \" type \" : \" img \" , \" group \" : \" 3 \" , \" showType \" : \" 0 \" } ] , \" image \" : \" https : static 01 daraz com np p 59a3b411d874aeeea2f115c998b18143 jpg \" , \" isSmartImage \" :',\n",
       " 'false , \" utLogMap \" : { \" srp_name \" : \" LazadaMainSrp \" , \" x_object_type \" : \" item \" , \" src \" : \" organic \" , \" trafficType \" : \" organic \" , \" x_sku_ids \" : \" 1592835298 \" , \" x_item_ids \" : \" 361653530 \" , \" iconList \" : \" 150565 175175 \" , \" SN \" : \" feb7c324dba78761f11a6be643f46dc6 \" , \" current_price \" : \" 239 \" , \" x_object_id \" : \" 361653530 \" } , \" originalPriceShow \" : \" \" , \" priceShow \" : \" Rs 239 \" , \" ratingScore \" : \" 4 4 \" , \" review \" : \" 5 \" , \" location \" : \" Bagmati',\n",
       " 'Province \" , \" description \" : [ ] , \" thumbs \" : [ ] , \" sellerName \" : \" Zap Home \" , \" sellerId \" : \" 900224992449 \" , \" brandName \" : \" No Brand \" , \" brandId \" : \" 39704 \" , \" cheapest_sku \" : \" 361653530_NP 1592835298 \" , \" skuId \" : \" 1592835298 \" , \" sku \" : \" 361653530_NP \" , \" categories \" : [ 240 , 256 , 8204 ] , \" price \" : \" 239 \" , \" inStock \" : true , \" originalPrice \" : \" 299 \" , \" clickTrace \" : \" query : camera nid : 361653530 src : LazadaMainSrp rn : feb7c324dba78761f11a6be643f46dc6 region',\n",
       " ': np sku : 361653530_NP price : 239 client : desktop supplier_id : 900224992449 biz_source : h5_unknow slot : 0 utlog_bucket_id : 470687 asc_category_id : 8204 item_id : 361653530 sku_id : 1592835298 shop_id : 140324 templateInfo : 1_A3_C 1103_L \" , \" itemSoldCntShow \" : \" 30 sold \" , \" longImageDisplayable \" : false , \" skus \" : [ { \" id \" : \" 361653530_NP 1592835298 \" } ] , \" promotionId \" : \" \" , \" isSponsored \" : false , \" tItemType \" : \" nt_product \" , \" skuType \" : \" \" , \" adFlag \" : \" 0 \" , \" directSimilarUrl \" : \" https : native m lazada com dynamicxresult item_img https 3A 2F 2Fstatic 01 daraz',\n",
       " 'com np 2Fp 2F59a3b411d874aeeea2f115c998b18143 jpg src srp_findsimilar item_id 361653530 sku_id 1592835298 params 7B 22sub_src 22 3A 22long_press 22 2C 22src 22 3A 22srp_findsimilar 22 7D m tpp_findSimilar q camera similarType findSimilarV1 price 239 00 spuTriggerItem 0 \" , \" gridTitleLine \" : \" 2 \" , \" isFission \" : \" 0 \" , \" isBadgeAutoScroll \" : false , \" showCart \" : false , \" showBackIcon \" : false , \" showUnitPrice \" : false , \" itemUrl \" : \" www daraz com np products redmi note 14 5g camera protector mettalic ring glass i361653530 html \" , \" querystring \" : \" fs_ab 1 priceCompare skuId 3A1592835298 3Bsource 3Alazada search voucher 3Bsn 3Afeb7c324dba78761f11a6be643f46dc6 3BoriginPrice 3A23900 3BdisplayPrice 3A23900 3BsinglePromotionId 3A50000018794008 3BsingleToolCode 3ApromPrice 3BvoucherPricePlugin 3A0 3Btimestamp',\n",
       " '3A1758872502749 c ratingscore 4 4 freeshipping 0 source search channelLpJumpArgs fuse_fs search 1 sale 30 price 239 review 5 location Bagmati 20Province stock 1 lang en request_id feb7c324dba78761f11a6be643f46dc6 clickTrackInfo query 253Acamera 253Bnid 253A361653530 253Bsrc 253ALazadaMainSrp 253Brn 253Afeb7c324dba78761f11a6be643f46dc6 253Bregion 253Anp 253Bsku 253A361653530_NP 253Bprice 253A239 253Bclient 253Adesktop 253Bsupplier_id 253A900224992449 253Bbiz_source 253Ah5_unknow 253Bslot 253A0 253Butlog_bucket_id 253A470687 253Basc_category_id 253A8204 253Bitem_id 253A361653530 253Bsku_id 253A1592835298 253Bshop_id 253A140324 253BtemplateInfo 253A 1_A3_C 25231103_L 2523 \" }']"
      ]
     },
     "execution_count": 11,
     "metadata": {},
     "output_type": "execute_result"
    }
   ],
   "source": [
    "all_chunks[0]"
   ]
  },
  {
   "cell_type": "code",
   "execution_count": 12,
   "id": "6aac9c32",
   "metadata": {},
   "outputs": [
    {
     "data": {
      "text/plain": [
       "list"
      ]
     },
     "execution_count": 12,
     "metadata": {},
     "output_type": "execute_result"
    }
   ],
   "source": [
    "type(all_chunks)"
   ]
  },
  {
   "cell_type": "markdown",
   "id": "8adc4569",
   "metadata": {},
   "source": [
    "# Qdrant Operation for Hybrid Search"
   ]
  },
  {
   "cell_type": "code",
   "execution_count": null,
   "id": "0e941535",
   "metadata": {},
   "outputs": [],
   "source": [
    "from qdrant_client import QdrantClient,models\n",
    "from sentence_transformers import SentenceTransformer"
   ]
  },
  {
   "cell_type": "code",
   "execution_count": 15,
   "id": "85a6652e",
   "metadata": {},
   "outputs": [],
   "source": [
    "dense_model_name = \"sentence-transformers/all-MiniLM-L6-v2\"\n",
    "sparse_model_name = \"prithivida/Splade_PP_en_v1\""
   ]
  },
  {
   "cell_type": "code",
   "execution_count": null,
   "id": "3ecd218a",
   "metadata": {},
   "outputs": [],
   "source": []
  },
  {
   "cell_type": "code",
   "execution_count": 16,
   "id": "b82f069f",
   "metadata": {},
   "outputs": [],
   "source": [
    "client = QdrantClient(url = \"http://localhost:6333\")"
   ]
  },
  {
   "cell_type": "code",
   "execution_count": 17,
   "id": "38a7f6ca",
   "metadata": {},
   "outputs": [],
   "source": [
    "if not client.collection_exists(\"hybrid_search_daraz\"):\n",
    "    client.create_collection(\n",
    "        collection_name = \"hybrid_search_daraz\",\n",
    "        vectors_config = {\n",
    "            \"dense\" : models.VectorParams(size = client.get_embedding_size(dense_model_name), distance = models.Distance.COSINE)\n",
    "\n",
    "        },\n",
    "        sparse_vectors_config= {\n",
    "            \"sparse\" : models.SparseVectorParams()\n",
    "        }\n",
    "    )"
   ]
  },
  {
   "cell_type": "code",
   "execution_count": 31,
   "id": "9f5ce7bf",
   "metadata": {},
   "outputs": [],
   "source": [
    "# creation of embeddings\n",
    "\n",
    "#dense vectors and sparse vectors of the same document and chunks\n",
    "final_dense_vector = []\n",
    "final_sparse_vector = []\n",
    "for i in range(len(all_chunks)):\n",
    "    for j in range(len(all_chunks[i])):\n",
    "        dense_embeddings = models.Document(text = all_chunks[i][j],model = dense_model_name)\n",
    "        final_dense_vector.append(dense_embeddings)\n",
    "        sparse_embeddings = models.Document(text = all_chunks[i][j],model = sparse_model_name)\n",
    "        final_sparse_vector.append(sparse_embeddings)\n",
    "\n",
    "\n"
   ]
  },
  {
   "cell_type": "code",
   "execution_count": 24,
   "id": "b8ecdd31",
   "metadata": {},
   "outputs": [],
   "source": [
    "from sentence_transformers import SentenceTransformer"
   ]
  },
  {
   "cell_type": "code",
   "execution_count": 25,
   "id": "ead3b8fa",
   "metadata": {},
   "outputs": [],
   "source": [
    "encoder = SentenceTransformer(\"all-MiniLM-L6-v2\")"
   ]
  },
  {
   "cell_type": "code",
   "execution_count": 23,
   "id": "f25ad745",
   "metadata": {},
   "outputs": [
    {
     "data": {
      "text/plain": [
       "Document(text='{ \" name \" : \" Redmi Note 14 5g Camera Protector Mettalic Ring Glass \" , \" nid \" : \" 361653530 \" , \" itemId \" : \" 361653530 \" , \" icons \" : [ { \" domClass \" : \" 150565 \" , \" type \" : \" img \" , \" group \" : \" 6 \" , \" showType \" : \" 0 \" } , { \" domClass \" : \" 175175 \" , \" type \" : \" img \" , \" group \" : \" 3 \" , \" showType \" : \" 0 \" } ] , \" image \" : \" https : static 01 daraz com np p 59a3b411d874aeeea2f115c998b18143 jpg \" , \" isSmartImage \" :', model='sentence-transformers/all-MiniLM-L6-v2', options=None)"
      ]
     },
     "execution_count": 23,
     "metadata": {},
     "output_type": "execute_result"
    }
   ],
   "source": [
    "final_dense_vector[0]"
   ]
  },
  {
   "cell_type": "code",
   "execution_count": null,
   "id": "f3d091ad",
   "metadata": {},
   "outputs": [
    {
     "data": {
      "text/plain": [
       "262"
      ]
     },
     "execution_count": 20,
     "metadata": {},
     "output_type": "execute_result"
    }
   ],
   "source": [
    "final_dense_vector"
   ]
  },
  {
   "cell_type": "code",
   "execution_count": null,
   "id": "1f961f81",
   "metadata": {},
   "outputs": [],
   "source": [
    "final_sparse_vector"
   ]
  },
  {
   "cell_type": "code",
   "execution_count": 34,
   "id": "0c156e68",
   "metadata": {},
   "outputs": [
    {
     "data": {
      "text/plain": [
       "UpdateResult(operation_id=1, status=<UpdateStatus.COMPLETED: 'completed'>)"
      ]
     },
     "execution_count": 34,
     "metadata": {},
     "output_type": "execute_result"
    }
   ],
   "source": [
    "client.create_payload_index(\n",
    "    collection_name = \"hybrid_search_daraz\",\n",
    "    field_name = \"doc_id\",\n",
    "    field_schema = \"integer\"\n",
    ")"
   ]
  },
  {
   "cell_type": "code",
   "execution_count": 35,
   "id": "09245094",
   "metadata": {},
   "outputs": [
    {
     "data": {
      "text/plain": [
       "UpdateResult(operation_id=3, status=<UpdateStatus.COMPLETED: 'completed'>)"
      ]
     },
     "execution_count": 35,
     "metadata": {},
     "output_type": "execute_result"
    }
   ],
   "source": [
    "client.create_payload_index(\n",
    "    collection_name = \"hybrid_search_daraz\",\n",
    "    field_name = \"chunk_id\",\n",
    "    field_schema = \"integer\"\n",
    ")"
   ]
  },
  {
   "cell_type": "code",
   "execution_count": 37,
   "id": "6177fcb0",
   "metadata": {},
   "outputs": [
    {
     "data": {
      "text/plain": [
       "UpdateResult(operation_id=5, status=<UpdateStatus.COMPLETED: 'completed'>)"
      ]
     },
     "execution_count": 37,
     "metadata": {},
     "output_type": "execute_result"
    }
   ],
   "source": [
    "client.create_payload_index(\n",
    "    collection_name = \"hybrid_search_daraz\",\n",
    "    field_name = \"file_name\",\n",
    "    field_schema = \"keyword\"\n",
    ")"
   ]
  },
  {
   "cell_type": "code",
   "execution_count": null,
   "id": "76bb8a06",
   "metadata": {},
   "outputs": [
    {
     "ename": "AssertionError",
     "evalue": "Unknown arguments: ['field_name', 'field_schema']",
     "output_type": "error",
     "traceback": [
      "\u001b[1;31m---------------------------------------------------------------------------\u001b[0m",
      "\u001b[1;31mAssertionError\u001b[0m                            Traceback (most recent call last)",
      "Cell \u001b[1;32mIn[33], line 2\u001b[0m\n\u001b[0;32m      1\u001b[0m offset \u001b[38;5;241m=\u001b[39m \u001b[38;5;241m0\u001b[39m\n\u001b[1;32m----> 2\u001b[0m \u001b[43mclient\u001b[49m\u001b[38;5;241;43m.\u001b[39;49m\u001b[43mscroll\u001b[49m\u001b[43m(\u001b[49m\n\u001b[0;32m      3\u001b[0m \u001b[43m    \u001b[49m\u001b[43mcollection_name\u001b[49m\u001b[43m \u001b[49m\u001b[38;5;241;43m=\u001b[39;49m\u001b[43m \u001b[49m\u001b[38;5;124;43m\"\u001b[39;49m\u001b[38;5;124;43mhybrid_search_daraz\u001b[39;49m\u001b[38;5;124;43m\"\u001b[39;49m\u001b[43m,\u001b[49m\n\u001b[0;32m      4\u001b[0m \u001b[43m    \u001b[49m\u001b[43mfield_name\u001b[49m\u001b[43m \u001b[49m\u001b[38;5;241;43m=\u001b[39;49m\u001b[43m \u001b[49m\u001b[38;5;124;43m\"\u001b[39;49m\u001b[38;5;124;43mdoc_id\u001b[39;49m\u001b[38;5;124;43m\"\u001b[39;49m\u001b[43m,\u001b[49m\n\u001b[0;32m      5\u001b[0m \u001b[43m    \u001b[49m\u001b[43mfield_schema\u001b[49m\u001b[43m \u001b[49m\u001b[38;5;241;43m=\u001b[39;49m\u001b[43m \u001b[49m\u001b[38;5;124;43m\"\u001b[39;49m\u001b[38;5;124;43minteger\u001b[39;49m\u001b[38;5;124;43m\"\u001b[39;49m\n\u001b[0;32m      6\u001b[0m \u001b[43m)\u001b[49m\n",
      "File \u001b[1;32mc:\\Users\\royka\\.conda\\envs\\rag\\lib\\site-packages\\qdrant_client\\qdrant_client.py:1457\u001b[0m, in \u001b[0;36mQdrantClient.scroll\u001b[1;34m(self, collection_name, scroll_filter, limit, order_by, offset, with_payload, with_vectors, consistency, shard_key_selector, timeout, **kwargs)\u001b[0m\n\u001b[0;32m   1403\u001b[0m \u001b[38;5;28;01mdef\u001b[39;00m\u001b[38;5;250m \u001b[39m\u001b[38;5;21mscroll\u001b[39m(\n\u001b[0;32m   1404\u001b[0m     \u001b[38;5;28mself\u001b[39m,\n\u001b[0;32m   1405\u001b[0m     collection_name: \u001b[38;5;28mstr\u001b[39m,\n\u001b[1;32m   (...)\u001b[0m\n\u001b[0;32m   1415\u001b[0m     \u001b[38;5;241m*\u001b[39m\u001b[38;5;241m*\u001b[39mkwargs: Any,\n\u001b[0;32m   1416\u001b[0m ) \u001b[38;5;241m-\u001b[39m\u001b[38;5;241m>\u001b[39m \u001b[38;5;28mtuple\u001b[39m[\u001b[38;5;28mlist\u001b[39m[types\u001b[38;5;241m.\u001b[39mRecord], Optional[types\u001b[38;5;241m.\u001b[39mPointId]]:\n\u001b[0;32m   1417\u001b[0m \u001b[38;5;250m    \u001b[39m\u001b[38;5;124;03m\"\"\"Scroll over all (matching) points in the collection.\u001b[39;00m\n\u001b[0;32m   1418\u001b[0m \n\u001b[0;32m   1419\u001b[0m \u001b[38;5;124;03m    This method provides a way to iterate over all stored points with some optional filtering condition.\u001b[39;00m\n\u001b[1;32m   (...)\u001b[0m\n\u001b[0;32m   1455\u001b[0m \u001b[38;5;124;03m        If next page offset is `None` - there is no more points in the collection to scroll.\u001b[39;00m\n\u001b[0;32m   1456\u001b[0m \u001b[38;5;124;03m    \"\"\"\u001b[39;00m\n\u001b[1;32m-> 1457\u001b[0m     \u001b[38;5;28;01massert\u001b[39;00m \u001b[38;5;28mlen\u001b[39m(kwargs) \u001b[38;5;241m==\u001b[39m \u001b[38;5;241m0\u001b[39m, \u001b[38;5;124mf\u001b[39m\u001b[38;5;124m\"\u001b[39m\u001b[38;5;124mUnknown arguments: \u001b[39m\u001b[38;5;132;01m{\u001b[39;00m\u001b[38;5;28mlist\u001b[39m(kwargs\u001b[38;5;241m.\u001b[39mkeys())\u001b[38;5;132;01m}\u001b[39;00m\u001b[38;5;124m\"\u001b[39m\n\u001b[0;32m   1459\u001b[0m     \u001b[38;5;28;01mreturn\u001b[39;00m \u001b[38;5;28mself\u001b[39m\u001b[38;5;241m.\u001b[39m_client\u001b[38;5;241m.\u001b[39mscroll(\n\u001b[0;32m   1460\u001b[0m         collection_name\u001b[38;5;241m=\u001b[39mcollection_name,\n\u001b[0;32m   1461\u001b[0m         scroll_filter\u001b[38;5;241m=\u001b[39mscroll_filter,\n\u001b[1;32m   (...)\u001b[0m\n\u001b[0;32m   1470\u001b[0m         \u001b[38;5;241m*\u001b[39m\u001b[38;5;241m*\u001b[39mkwargs,\n\u001b[0;32m   1471\u001b[0m     )\n",
      "\u001b[1;31mAssertionError\u001b[0m: Unknown arguments: ['field_name', 'field_schema']"
     ]
    }
   ],
   "source": [
    "offset = 0\n",
    "info = client.get_collection(collection_name = \"hybrid_search_daraz\")\n",
    "file_number = 0\n",
    "client.scroll(\n",
    "    collection_name = \"hybrid_search_daraz\",\n",
    "    field_name = \"doc_id\",\n",
    "    field_schema = \"integer\"\n",
    ")"
   ]
  }
 ],
 "metadata": {
  "kernelspec": {
   "display_name": "rag",
   "language": "python",
   "name": "python3"
  },
  "language_info": {
   "codemirror_mode": {
    "name": "ipython",
    "version": 3
   },
   "file_extension": ".py",
   "mimetype": "text/x-python",
   "name": "python",
   "nbconvert_exporter": "python",
   "pygments_lexer": "ipython3",
   "version": "3.10.18"
  }
 },
 "nbformat": 4,
 "nbformat_minor": 5
}
