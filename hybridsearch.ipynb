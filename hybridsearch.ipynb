{
 "cells": [
  {
   "cell_type": "markdown",
   "id": "47578ed0",
   "metadata": {},
   "source": [
    "# Load, select, clean json data "
   ]
  },
  {
   "cell_type": "code",
   "execution_count": 2,
   "id": "e2efb57c",
   "metadata": {},
   "outputs": [],
   "source": [
    "import json \n",
    "import re\n",
    "import os"
   ]
  },
  {
   "cell_type": "code",
   "execution_count": 3,
   "id": "a8cde4f5",
   "metadata": {},
   "outputs": [],
   "source": [
    "file_name = \"lens-caps.json\"\n",
    "base_name = os.path.splitext(os.path.basename(file_name))[0]\n"
   ]
  },
  {
   "cell_type": "code",
   "execution_count": 4,
   "id": "8929b1ef",
   "metadata": {},
   "outputs": [],
   "source": [
    "with open(file_name,'r',encoding=\"utf-8\") as f:\n",
    "    data = json.load(f)"
   ]
  },
  {
   "cell_type": "code",
   "execution_count": 5,
   "id": "7eaa1012",
   "metadata": {},
   "outputs": [],
   "source": [
    "item_list = data[\"mods\"][\"listItems\"]"
   ]
  },
  {
   "cell_type": "code",
   "execution_count": 72,
   "id": "e256ef5e",
   "metadata": {},
   "outputs": [
    {
     "data": {
      "text/plain": [
       "{'name': 'The lens is suitable for all cameras with sizes 7, 72, 75, 49, 5 quality, 40.ng, and includes 2025新品 one high Wenefa2 55, 58, 62, 67, 82mm special price center clamp quick-release cap.',\n",
       " 'nid': '489419476',\n",
       " 'itemId': '489419476',\n",
       " 'icons': [],\n",
       " 'image': 'https://static-01.daraz.com.np/p/f6485b5ba6430f883f5d828256e2f9ff.png',\n",
       " 'isSmartImage': False,\n",
       " 'originalPriceShow': '',\n",
       " 'priceShow': 'Rs. 1,520',\n",
       " 'ratingScore': '',\n",
       " 'review': '',\n",
       " 'location': 'Overseas',\n",
       " 'thumbs': [],\n",
       " 'sellerName': 'Manhuayuangu',\n",
       " 'sellerId': '900270048480',\n",
       " 'brandName': 'No Brand',\n",
       " 'brandId': '39704',\n",
       " 'cheapest_sku': '489419476_NP-2198959038',\n",
       " 'skuId': '2198959038',\n",
       " 'sku': '489419476_NP',\n",
       " 'categories': [240, 8217, 8220, 8223],\n",
       " 'price': '1520',\n",
       " 'inStock': True,\n",
       " 'originalPrice': '1824',\n",
       " 'clickTrace': 'query:camera;nid:489419476;src:LazadaMainSrp;rn:3e3ad865f4f6894a6f06a36a8a95a2fe;region:np;sku:489419476_NP;price:1520;client:desktop;supplier_id:900270048480;biz_source:h5_unknow;slot:0;utlog_bucket_id:470687;asc_category_id:8223;item_id:489419476;sku_id:2198959038;shop_id:184134;templateInfo:-1_A3_C#1103_L#',\n",
       " 'longImageDisplayable': False,\n",
       " 'skus': [{'id': '489419476_NP-2198959038'}],\n",
       " 'promotionId': '',\n",
       " 'isSponsored': False,\n",
       " 'tItemType': 'nt_product',\n",
       " 'skuType': '',\n",
       " 'adFlag': '0',\n",
       " 'directSimilarUrl': 'https://native.m.lazada.com/dynamicxresult?item_img=https%3A%2F%2Fstatic-01.daraz.com.np%2Fp%2Ff6485b5ba6430f883f5d828256e2f9ff.png&src=srp_findsimilar&item_id=489419476&sku_id=2198959038&params=%7B%22sub_src%22%3A%22long_press%22%2C%22src%22%3A%22srp_findsimilar%22%7D&m=tpp_findSimilar&q=camera&similarType=findSimilarV1&price=1520.00&spuTriggerItem=0',\n",
       " 'gridTitleLine': '2',\n",
       " 'isFission': '0',\n",
       " 'isBadgeAutoScroll': False,\n",
       " 'showCart': False,\n",
       " 'showBackIcon': False,\n",
       " 'showUnitPrice': False,\n",
       " 'itemUrl': '//www.daraz.com.np/products/ng-wenefa2-2025-i489419476.html',\n",
       " 'querystring': 'fs_ab=1&priceCompare=skuId%3A2198959038%3Bsource%3Alazada-search-voucher%3Bsn%3A3e3ad865f4f6894a6f06a36a8a95a2fe%3BoriginPrice%3A152000%3BdisplayPrice%3A152000%3BsinglePromotionId%3A-1%3BsingleToolCode%3AmockedSalePrice%3BvoucherPricePlugin%3A0%3Btimestamp%3A1758778958940&c=&ratingscore=&freeshipping=0&source=search&channelLpJumpArgs=&fuse_fs=&search=1&sale=0&price=1.52E%203&review=&location=Overseas&stock=1&lang=en&request_id=3e3ad865f4f6894a6f06a36a8a95a2fe&clickTrackInfo=query%253Acamera%253Bnid%253A489419476%253Bsrc%253ALazadaMainSrp%253Brn%253A3e3ad865f4f6894a6f06a36a8a95a2fe%253Bregion%253Anp%253Bsku%253A489419476_NP%253Bprice%253A1520%253Bclient%253Adesktop%253Bsupplier_id%253A900270048480%253Bbiz_source%253Ah5_unknow%253Bslot%253A0%253Butlog_bucket_id%253A470687%253Basc_category_id%253A8223%253Bitem_id%253A489419476%253Bsku_id%253A2198959038%253Bshop_id%253A184134%253BtemplateInfo%253A-1_A3_C%25231103_L%2523'}"
      ]
     },
     "execution_count": 72,
     "metadata": {},
     "output_type": "execute_result"
    }
   ],
   "source": [
    "item_list[0]"
   ]
  },
  {
   "cell_type": "code",
   "execution_count": 6,
   "id": "e6a62703",
   "metadata": {},
   "outputs": [
    {
     "data": {
      "text/plain": [
       "list"
      ]
     },
     "execution_count": 6,
     "metadata": {},
     "output_type": "execute_result"
    }
   ],
   "source": [
    "type(item_list)"
   ]
  },
  {
   "cell_type": "code",
   "execution_count": 6,
   "id": "0d853567",
   "metadata": {},
   "outputs": [],
   "source": [
    "def chunking_each_doc(doc,chunk_size = 128):\n",
    "    start = 0\n",
    "    doc = json.dumps(doc)\n",
    "    tokens = re.findall(r'\\w+|[{}[\\]:,\",]',doc)\n",
    "    chunks = []\n",
    "    while start <= len(tokens):\n",
    "        end = min(start+chunk_size,len(tokens))\n",
    "        chunk = \" \".join(tokens[start:end])\n",
    "        chunks.append(chunk)\n",
    "        start+=chunk_size\n",
    "    return chunks"
   ]
  },
  {
   "cell_type": "code",
   "execution_count": 7,
   "id": "97333568",
   "metadata": {},
   "outputs": [],
   "source": [
    "all_chunks = []\n",
    "for item in item_list:\n",
    "    chunks_of_each_doc= chunking_each_doc(item)\n",
    "    all_chunks.append(chunks_of_each_doc)\n"
   ]
  },
  {
   "cell_type": "code",
   "execution_count": 8,
   "id": "99ed3f6b",
   "metadata": {},
   "outputs": [
    {
     "data": {
      "text/plain": [
       "[['{ \" name \" : \" The lens is suitable for all cameras with sizes 7 , 72 , 75 , 49 , 5 quality , 40 ng , and includes 2025 u65b0 u54c1 one high Wenefa2 55 , 58 , 62 , 67 , 82mm special price center clamp quick release cap \" , \" nid \" : \" 489419476 \" , \" itemId \" : \" 489419476 \" , \" icons \" : [ ] , \" image \" : \" https : static 01 daraz com np p f6485b5ba6430f883f5d828256e2f9ff png \" , \" isSmartImage \" : false , \" originalPriceShow \" : \" \" , \" priceShow \" : \" Rs 1 , 520 \" , \" ratingScore \" : \" \" , \" review',\n",
       "  '\" : \" \" , \" location \" : \" Overseas \" , \" thumbs \" : [ ] , \" sellerName \" : \" Manhuayuangu \" , \" sellerId \" : \" 900270048480 \" , \" brandName \" : \" No Brand \" , \" brandId \" : \" 39704 \" , \" cheapest_sku \" : \" 489419476_NP 2198959038 \" , \" skuId \" : \" 2198959038 \" , \" sku \" : \" 489419476_NP \" , \" categories \" : [ 240 , 8217 , 8220 , 8223 ] , \" price \" : \" 1520 \" , \" inStock \" : true , \" originalPrice \" : \" 1824 \" , \" clickTrace \" : \" query : camera nid : 489419476 src : LazadaMainSrp',\n",
       "  'rn : 3e3ad865f4f6894a6f06a36a8a95a2fe region : np sku : 489419476_NP price : 1520 client : desktop supplier_id : 900270048480 biz_source : h5_unknow slot : 0 utlog_bucket_id : 470687 asc_category_id : 8223 item_id : 489419476 sku_id : 2198959038 shop_id : 184134 templateInfo : 1_A3_C 1103_L \" , \" longImageDisplayable \" : false , \" skus \" : [ { \" id \" : \" 489419476_NP 2198959038 \" } ] , \" promotionId \" : \" \" , \" isSponsored \" : false , \" tItemType \" : \" nt_product \" , \" skuType \" : \" \" , \" adFlag \" : \" 0 \" , \" directSimilarUrl \" : \" https : native m lazada com dynamicxresult item_img https 3A 2F 2Fstatic 01 daraz com np 2Fp 2Ff6485b5ba6430f883f5d828256e2f9ff png',\n",
       "  'src srp_findsimilar item_id 489419476 sku_id 2198959038 params 7B 22sub_src 22 3A 22long_press 22 2C 22src 22 3A 22srp_findsimilar 22 7D m tpp_findSimilar q camera similarType findSimilarV1 price 1520 00 spuTriggerItem 0 \" , \" gridTitleLine \" : \" 2 \" , \" isFission \" : \" 0 \" , \" isBadgeAutoScroll \" : false , \" showCart \" : false , \" showBackIcon \" : false , \" showUnitPrice \" : false , \" itemUrl \" : \" www daraz com np products ng wenefa2 2025 i489419476 html \" , \" querystring \" : \" fs_ab 1 priceCompare skuId 3A2198959038 3Bsource 3Alazada search voucher 3Bsn 3A3e3ad865f4f6894a6f06a36a8a95a2fe 3BoriginPrice 3A152000 3BdisplayPrice 3A152000 3BsinglePromotionId 3A 1 3BsingleToolCode 3AmockedSalePrice 3BvoucherPricePlugin 3A0 3Btimestamp 3A1758778958940 c ratingscore freeshipping 0 source search channelLpJumpArgs fuse_fs search',\n",
       "  '1 sale 0 price 1 52E 203 review location Overseas stock 1 lang en request_id 3e3ad865f4f6894a6f06a36a8a95a2fe clickTrackInfo query 253Acamera 253Bnid 253A489419476 253Bsrc 253ALazadaMainSrp 253Brn 253A3e3ad865f4f6894a6f06a36a8a95a2fe 253Bregion 253Anp 253Bsku 253A489419476_NP 253Bprice 253A1520 253Bclient 253Adesktop 253Bsupplier_id 253A900270048480 253Bbiz_source 253Ah5_unknow 253Bslot 253A0 253Butlog_bucket_id 253A470687 253Basc_category_id 253A8223 253Bitem_id 253A489419476 253Bsku_id 253A2198959038 253Bshop_id 253A184134 253BtemplateInfo 253A 1_A3_C 25231103_L 2523 \" }'],\n",
       " ['{ \" name \" : \" Cizzy Canon Logo Lens Cap 62mm Use for 62mm lenses , tamron 70 300 , tamron 18 270vc pzd , tamron18 250 , More 62mm Lenses \" , \" nid \" : \" 421112670 \" , \" itemId \" : \" 421112670 \" , \" icons \" : [ ] , \" image \" : \" https : static 01 daraz com np p c4fe6f2e5882c221c134ff0d42599686 jpg \" , \" isSmartImage \" : false , \" originalPriceShow \" : \" \" , \" priceShow \" : \" Rs 3 , 591 \" , \" ratingScore \" : \" \" , \" review \" : \" \" , \" location \" : \" Overseas \" , \" thumbs \" : [ ] , \"',\n",
       "  'sellerName \" : \" b18a3ea6 \" , \" sellerId \" : \" 900274208423 \" , \" brandName \" : \" No Brand \" , \" brandId \" : \" 39704 \" , \" cheapest_sku \" : \" 421112670_NP 1832681726 \" , \" skuId \" : \" 1832681726 \" , \" sku \" : \" 421112670_NP \" , \" categories \" : [ 240 , 8217 , 8220 , 8223 ] , \" price \" : \" 3591 \" , \" inStock \" : true , \" originalPrice \" : \" 3663 \" , \" clickTrace \" : \" query : camera nid : 421112670 src : LazadaMainSrp rn : 3e3ad865f4f6894a6f06a36a8a95a2fe region : np sku : 421112670_NP price : 3591 client : desktop supplier_id : 900274208423 biz_source : h5_unknow',\n",
       "  'slot : 1 utlog_bucket_id : 470687 asc_category_id : 8223 item_id : 421112670 sku_id : 1832681726 shop_id : 192411 templateInfo : 1_A3_C 1103_L \" , \" longImageDisplayable \" : false , \" skus \" : [ { \" id \" : \" 421112670_NP 1832681726 \" } ] , \" promotionId \" : \" \" , \" isSponsored \" : false , \" tItemType \" : \" nt_product \" , \" skuType \" : \" \" , \" adFlag \" : \" 0 \" , \" directSimilarUrl \" : \" https : native m lazada com dynamicxresult item_img https 3A 2F 2Fstatic 01 daraz com np 2Fp 2Fc4fe6f2e5882c221c134ff0d42599686 jpg src srp_findsimilar item_id 421112670 sku_id 1832681726 params 7B 22sub_src 22 3A 22long_press 22 2C 22src 22 3A 22srp_findsimilar 22 7D m',\n",
       "  'tpp_findSimilar q camera similarType findSimilarV1 price 3591 00 spuTriggerItem 0 \" , \" gridTitleLine \" : \" 2 \" , \" isFission \" : \" 0 \" , \" isBadgeAutoScroll \" : false , \" showCart \" : false , \" showBackIcon \" : false , \" showUnitPrice \" : false , \" itemUrl \" : \" www daraz com np products 62 62 70 300 18 270 18 250 62 i421112670 html \" , \" querystring \" : \" fs_ab 1 priceCompare skuId 3A1832681726 3Bsource 3Alazada search voucher 3Bsn 3A3e3ad865f4f6894a6f06a36a8a95a2fe 3BoriginPrice 3A359100 3BdisplayPrice 3A359100 3BsinglePromotionId 3A 1 3BsingleToolCode 3AmockedSalePrice 3BvoucherPricePlugin 3A0 3Btimestamp 3A1758778958940 c ratingscore freeshipping 0 source search channelLpJumpArgs fuse_fs search 1 sale 0 price 3591 review location Overseas stock 1 lang en request_id 3e3ad865f4f6894a6f06a36a8a95a2fe clickTrackInfo',\n",
       "  'query 253Acamera 253Bnid 253A421112670 253Bsrc 253ALazadaMainSrp 253Brn 253A3e3ad865f4f6894a6f06a36a8a95a2fe 253Bregion 253Anp 253Bsku 253A421112670_NP 253Bprice 253A3591 253Bclient 253Adesktop 253Bsupplier_id 253A900274208423 253Bbiz_source 253Ah5_unknow 253Bslot 253A1 253Butlog_bucket_id 253A470687 253Basc_category_id 253A8223 253Bitem_id 253A421112670 253Bsku_id 253A1832681726 253Bshop_id 253A192411 253BtemplateInfo 253A 1_A3_C 25231103_L 2523 \" }'],\n",
       " ['{ \" name \" : \" Wenefang 1PCS High quality 40 5 49 52 55 58 62 67 72 77 82mm Bargain price center pinch Snap on cap cover for all camera Lens \" , \" nid \" : \" 477347909 \" , \" itemId \" : \" 477347909 \" , \" icons \" : [ ] , \" image \" : \" https : static 01 daraz com np p 80043934870552196f4696a287670794 png \" , \" isSmartImage \" : false , \" originalPriceShow \" : \" \" , \" priceShow \" : \" Rs 1 , 783 \" , \" ratingScore \" : \" \" , \" review \" : \" \" , \" location \" : \" Overseas \" , \" thumbs \" : [ ] ,',\n",
       "  '\" sellerName \" : \" Shunqingping \" , \" sellerId \" : \" 900284192347 \" , \" brandName \" : \" No Brand \" , \" brandId \" : \" 39704 \" , \" cheapest_sku \" : \" 477347909_NP 2124505261 \" , \" skuId \" : \" 2124505261 \" , \" sku \" : \" 477347909_NP \" , \" categories \" : [ 240 , 8217 , 8220 , 8223 ] , \" price \" : \" 1783 \" , \" inStock \" : true , \" originalPrice \" : \" 2139 \" , \" clickTrace \" : \" query : camera nid : 477347909 src : LazadaMainSrp rn : 3e3ad865f4f6894a6f06a36a8a95a2fe region : np sku : 477347909_NP price : 1783 client : desktop supplier_id : 900284192347 biz_source :',\n",
       "  'h5_unknow slot : 2 utlog_bucket_id : 470687 asc_category_id : 8223 item_id : 477347909 sku_id : 2124505261 shop_id : 201042 templateInfo : 1_A3_C 1103_L \" , \" longImageDisplayable \" : false , \" skus \" : [ { \" id \" : \" 477347909_NP 2124505261 \" } ] , \" promotionId \" : \" \" , \" isSponsored \" : false , \" tItemType \" : \" nt_product \" , \" skuType \" : \" \" , \" adFlag \" : \" 0 \" , \" directSimilarUrl \" : \" https : native m lazada com dynamicxresult item_img https 3A 2F 2Fstatic 01 daraz com np 2Fp 2F80043934870552196f4696a287670794 png src srp_findsimilar item_id 477347909 sku_id 2124505261 params 7B 22sub_src 22 3A 22long_press 22 2C 22src 22 3A 22srp_findsimilar 22 7D',\n",
       "  'm tpp_findSimilar q camera similarType findSimilarV1 price 1783 00 spuTriggerItem 0 \" , \" gridTitleLine \" : \" 2 \" , \" isFission \" : \" 0 \" , \" isBadgeAutoScroll \" : false , \" showCart \" : false , \" showBackIcon \" : false , \" showUnitPrice \" : false , \" itemUrl \" : \" www daraz com np products 1 405 49 52 55 58 62 67 72 77 82 i477347909 html \" , \" querystring \" : \" fs_ab 1 priceCompare skuId 3A2124505261 3Bsource 3Alazada search voucher 3Bsn 3A3e3ad865f4f6894a6f06a36a8a95a2fe 3BoriginPrice 3A178300 3BdisplayPrice 3A178300 3BsinglePromotionId 3A 1 3BsingleToolCode 3AmockedSalePrice 3BvoucherPricePlugin 3A0 3Btimestamp 3A1758778958940 c ratingscore freeshipping 0 source search channelLpJumpArgs fuse_fs search 1 sale 0 price 1783 review location Overseas stock 1 lang en',\n",
       "  'request_id 3e3ad865f4f6894a6f06a36a8a95a2fe clickTrackInfo query 253Acamera 253Bnid 253A477347909 253Bsrc 253ALazadaMainSrp 253Brn 253A3e3ad865f4f6894a6f06a36a8a95a2fe 253Bregion 253Anp 253Bsku 253A477347909_NP 253Bprice 253A1783 253Bclient 253Adesktop 253Bsupplier_id 253A900284192347 253Bbiz_source 253Ah5_unknow 253Bslot 253A2 253Butlog_bucket_id 253A470687 253Basc_category_id 253A8223 253Bitem_id 253A477347909 253Bsku_id 253A2124505261 253Bshop_id 253A201042 253BtemplateInfo 253A 1_A3_C 25231103_L 2523 \" }'],\n",
       " ['{ \" name \" : \" Bizzy 67mm lens cap canon 18 135 stm more canon 67mm Lenses \" , \" nid \" : \" 433777326 \" , \" itemId \" : \" 433777326 \" , \" icons \" : [ ] , \" image \" : \" https : static 01 daraz com np p 7694edf5e7c1ddce4f8291ef773f05fb jpg \" , \" isSmartImage \" : false , \" originalPriceShow \" : \" \" , \" priceShow \" : \" Rs 3 , 570 \" , \" ratingScore \" : \" \" , \" review \" : \" \" , \" location \" : \" Overseas \" , \" thumbs \" : [ ] , \" sellerName \" : \" 691f1cea \" , \" sellerId \" : \" 900273664033 \"',\n",
       "  ', \" brandName \" : \" No Brand \" , \" brandId \" : \" 39704 \" , \" cheapest_sku \" : \" 433777326_NP 1867258701 \" , \" skuId \" : \" 1867258701 \" , \" sku \" : \" 433777326_NP \" , \" categories \" : [ 240 , 8217 , 8220 , 8223 ] , \" price \" : \" 3570 \" , \" inStock \" : true , \" originalPrice \" : \" 3642 \" , \" clickTrace \" : \" query : camera nid : 433777326 src : LazadaMainSrp rn : 3e3ad865f4f6894a6f06a36a8a95a2fe region : np sku : 433777326_NP price : 3570 client : desktop supplier_id : 900273664033 biz_source : h5_unknow slot : 3 utlog_bucket_id : 470687 asc_category_id : 8223 item_id : 433777326 sku_id :',\n",
       "  '1867258701 shop_id : 192416 templateInfo : 1_A3_C 1103_L \" , \" longImageDisplayable \" : false , \" skus \" : [ { \" id \" : \" 433777326_NP 1867258701 \" } ] , \" promotionId \" : \" \" , \" isSponsored \" : false , \" tItemType \" : \" nt_product \" , \" skuType \" : \" \" , \" adFlag \" : \" 0 \" , \" directSimilarUrl \" : \" https : native m lazada com dynamicxresult item_img https 3A 2F 2Fstatic 01 daraz com np 2Fp 2F7694edf5e7c1ddce4f8291ef773f05fb jpg src srp_findsimilar item_id 433777326 sku_id 1867258701 params 7B 22sub_src 22 3A 22long_press 22 2C 22src 22 3A 22srp_findsimilar 22 7D m tpp_findSimilar q camera similarType findSimilarV1 price 3570 00 spuTriggerItem 0 \" , \" gridTitleLine',\n",
       "  '\" : \" 2 \" , \" isFission \" : \" 0 \" , \" isBadgeAutoScroll \" : false , \" showCart \" : false , \" showBackIcon \" : false , \" showUnitPrice \" : false , \" itemUrl \" : \" www daraz com np products 67 18 135 67 i433777326 html \" , \" querystring \" : \" fs_ab 1 priceCompare skuId 3A1867258701 3Bsource 3Alazada search voucher 3Bsn 3A3e3ad865f4f6894a6f06a36a8a95a2fe 3BoriginPrice 3A357000 3BdisplayPrice 3A357000 3BsinglePromotionId 3A 1 3BsingleToolCode 3AmockedSalePrice 3BvoucherPricePlugin 3A0 3Btimestamp 3A1758778958940 c ratingscore freeshipping 0 source search channelLpJumpArgs fuse_fs search 1 sale 0 price 3 57E 203 review location Overseas stock 1 lang en request_id 3e3ad865f4f6894a6f06a36a8a95a2fe clickTrackInfo query 253Acamera 253Bnid 253A433777326 253Bsrc 253ALazadaMainSrp 253Brn 253A3e3ad865f4f6894a6f06a36a8a95a2fe 253Bregion 253Anp 253Bsku 253A433777326_NP 253Bprice 253A3570 253Bclient 253Adesktop 253Bsupplier_id',\n",
       "  '253A900273664033 253Bbiz_source 253Ah5_unknow 253Bslot 253A3 253Butlog_bucket_id 253A470687 253Basc_category_id 253A8223 253Bitem_id 253A433777326 253Bsku_id 253A1867258701 253Bshop_id 253A192416 253BtemplateInfo 253A 1_A3_C 25231103_L 2523 \" }'],\n",
       " ['{ \" name \" : \" Wenefang 1PCS High quality 40 5 49 52 55 58 62 67 72 77 82mm Bargain price center pinch Snap on cap cover for all camera Lens \" , \" nid \" : \" 411481284 \" , \" itemId \" : \" 411481284 \" , \" icons \" : [ { \" domClass \" : \" 150565 \" , \" type \" : \" img \" , \" group \" : \" 6 \" , \" showType \" : \" 0 \" } , { \" domClass \" : \" 150318 \" , \" text \" : \" Gems save Rs 50 \" , \" type \" : \" text \" , \" group \" : \" 2 \" , \" showType',\n",
       "  '\" : \" 0 \" } ] , \" image \" : \" https : static 01 daraz com np p 80043934870552196f4696a287670794 png \" , \" isSmartImage \" : false , \" originalPriceShow \" : \" \" , \" priceShow \" : \" Rs 1 , 670 \" , \" ratingScore \" : \" \" , \" review \" : \" \" , \" location \" : \" Overseas \" , \" thumbs \" : [ ] , \" sellerName \" : \" Wenefang \" , \" sellerId \" : \" 900270016692 \" , \" brandName \" : \" No Brand \" , \" brandId \" : \" 39704 \" , \" cheapest_sku \" : \" 411481284_NP 1766074867 \" , \" skuId \" : \" 1766074867 \" ,',\n",
       "  '\" sku \" : \" 411481284_NP \" , \" categories \" : [ 240 , 8217 , 8220 , 8223 ] , \" price \" : \" 1670 \" , \" inStock \" : true , \" originalPrice \" : \" 2504 \" , \" clickTrace \" : \" query : camera nid : 411481284 src : LazadaMainSrp rn : 3e3ad865f4f6894a6f06a36a8a95a2fe region : np sku : 411481284_NP price : 1670 client : desktop supplier_id : 900270016692 biz_source : h5_unknow slot : 4 utlog_bucket_id : 470687 asc_category_id : 8223 item_id : 411481284 sku_id : 1766074867 shop_id : 184195 templateInfo : 1_A3_C 1103_L \" , \" longImageDisplayable \" : false , \" skus \" : [ { \" id \" : \" 411481284_NP 1766074867 \" } ] , \" promotionId',\n",
       "  '\" : \" \" , \" isSponsored \" : false , \" tItemType \" : \" nt_product \" , \" skuType \" : \" \" , \" adFlag \" : \" 0 \" , \" directSimilarUrl \" : \" https : native m lazada com dynamicxresult item_img https 3A 2F 2Fstatic 01 daraz com np 2Fp 2F80043934870552196f4696a287670794 png src srp_findsimilar item_id 411481284 sku_id 1766074867 params 7B 22sub_src 22 3A 22long_press 22 2C 22src 22 3A 22srp_findsimilar 22 7D m tpp_findSimilar q camera similarType findSimilarV1 price 1670 00 spuTriggerItem 0 \" , \" gridTitleLine \" : \" 2 \" , \" isFission \" : \" 0 \" , \" isBadgeAutoScroll \" : false , \" showCart \" : false , \" showBackIcon \" : false , \" showUnitPrice \"',\n",
       "  ': false , \" itemUrl \" : \" www daraz com np products 1 405 49 52 55 58 62 67 72 77 82 bargain price i411481284 html \" , \" querystring \" : \" fs_ab 1 priceCompare skuId 3A1766074867 3Bsource 3Alazada search voucher 3Bsn 3A3e3ad865f4f6894a6f06a36a8a95a2fe 3BoriginPrice 3A167000 3BdisplayPrice 3A167000 3BsinglePromotionId 3A 1 3BsingleToolCode 3AmockedSalePrice 3BvoucherPricePlugin 3A0 3Btimestamp 3A1758778958940 c ratingscore freeshipping 0 source search channelLpJumpArgs fuse_fs search 1 sale 0 price 1 67E 203 review location Overseas stock 1 lang en request_id 3e3ad865f4f6894a6f06a36a8a95a2fe clickTrackInfo query 253Acamera 253Bnid 253A411481284 253Bsrc 253ALazadaMainSrp 253Brn 253A3e3ad865f4f6894a6f06a36a8a95a2fe 253Bregion 253Anp 253Bsku 253A411481284_NP 253Bprice 253A1670 253Bclient 253Adesktop 253Bsupplier_id 253A900270016692 253Bbiz_source 253Ah5_unknow 253Bslot 253A4 253Butlog_bucket_id 253A470687 253Basc_category_id 253A8223 253Bitem_id 253A411481284 253Bsku_id 253A1766074867 253Bshop_id 253A184195 253BtemplateInfo 253A 1_A3_C 25231103_L 2523 \" }'],\n",
       " ['{ \" name \" : \" Vylon Body Cap Canon RF 3 For 450D 500D 550D 600D 650D 700D 750D 760D 77D 70D 80D 800D 40D 50D 70D 6D 5D 1D MKII MKIII MKIV \" , \" nid \" : \" 421535789 \" , \" itemId \" : \" 421535789 \" , \" icons \" : [ ] , \" image \" : \" https : static 01 daraz com np p 063dc705c0c6882583172efe6f2af814 jpg \" , \" isSmartImage \" : false , \" originalPriceShow \" : \" \" , \" priceShow \" : \" Rs 3 , 445 \" , \" ratingScore \" : \" \" , \" review \" : \" \" , \" location \" : \" Overseas \" , \" thumbs \" : [ ]',\n",
       "  ', \" sellerName \" : \" 9366c14c \" , \" sellerId \" : \" 900274208781 \" , \" brandName \" : \" No Brand \" , \" brandId \" : \" 39704 \" , \" cheapest_sku \" : \" 421535789_NP 1836890461 \" , \" skuId \" : \" 1836890461 \" , \" sku \" : \" 421535789_NP \" , \" categories \" : [ 240 , 8217 , 8220 , 8223 ] , \" price \" : \" 3445 \" , \" inStock \" : true , \" originalPrice \" : \" 3514 \" , \" clickTrace \" : \" query : camera nid : 421535789 src : LazadaMainSrp rn : 3e3ad865f4f6894a6f06a36a8a95a2fe region : np sku : 421535789_NP price : 3445 client : desktop supplier_id : 900274208781 biz_source',\n",
       "  ': h5_unknow slot : 5 utlog_bucket_id : 470687 asc_category_id : 8223 item_id : 421535789 sku_id : 1836890461 shop_id : 192506 templateInfo : 1_A3_C 1103_L \" , \" longImageDisplayable \" : false , \" skus \" : [ { \" id \" : \" 421535789_NP 1836890461 \" } ] , \" promotionId \" : \" \" , \" isSponsored \" : false , \" tItemType \" : \" nt_product \" , \" skuType \" : \" \" , \" adFlag \" : \" 0 \" , \" directSimilarUrl \" : \" https : native m lazada com dynamicxresult item_img https 3A 2F 2Fstatic 01 daraz com np 2Fp 2F063dc705c0c6882583172efe6f2af814 jpg src srp_findsimilar item_id 421535789 sku_id 1836890461 params 7B 22sub_src 22 3A 22long_press 22 2C 22src 22 3A 22srp_findsimilar 22',\n",
       "  '7D m tpp_findSimilar q camera similarType findSimilarV1 price 3445 00 spuTriggerItem 0 \" , \" gridTitleLine \" : \" 2 \" , \" isFission \" : \" 0 \" , \" isBadgeAutoScroll \" : false , \" showCart \" : false , \" showBackIcon \" : false , \" showUnitPrice \" : false , \" itemUrl \" : \" www daraz com np products 450d 500d 550d 600d 650d 700d 750d 760d 77d 70d 80d 800d 40d 50d 70d 6d 5d 1d mkii mkiii mkiv rf 3 i421535789 html \" , \" querystring \" : \" fs_ab 1 priceCompare skuId 3A1836890461 3Bsource 3Alazada search voucher 3Bsn 3A3e3ad865f4f6894a6f06a36a8a95a2fe 3BoriginPrice 3A344500 3BdisplayPrice 3A344500 3BsinglePromotionId 3A 1 3BsingleToolCode 3AmockedSalePrice 3BvoucherPricePlugin 3A0 3Btimestamp 3A1758778958940 c ratingscore freeshipping 0 source search channelLpJumpArgs fuse_fs',\n",
       "  'search 1 sale 0 price 3445 review location Overseas stock 1 lang en request_id 3e3ad865f4f6894a6f06a36a8a95a2fe clickTrackInfo query 253Acamera 253Bnid 253A421535789 253Bsrc 253ALazadaMainSrp 253Brn 253A3e3ad865f4f6894a6f06a36a8a95a2fe 253Bregion 253Anp 253Bsku 253A421535789_NP 253Bprice 253A3445 253Bclient 253Adesktop 253Bsupplier_id 253A900274208781 253Bbiz_source 253Ah5_unknow 253Bslot 253A5 253Butlog_bucket_id 253A470687 253Basc_category_id 253A8223 253Bitem_id 253A421535789 253Bsku_id 253A1836890461 253Bshop_id 253A192506 253BtemplateInfo 253A 1_A3_C 25231103_L 2523 \" }'],\n",
       " ['{ \" name \" : \" WapuNew style 10 1pcs Rear Lens Cap for Canon EOS EFS EF EF S EF DSLR SLR Mark II III IV 750D 760D DSLR Cameras \" , \" nid \" : \" 476694433 \" , \" itemId \" : \" 476694433 \" , \" icons \" : [ { \" domClass \" : \" 150565 \" , \" type \" : \" img \" , \" group \" : \" 6 \" , \" showType \" : \" 0 \" } ] , \" image \" : \" https : static 01 daraz com np p 87c4e3498580ba135ff3e5e5ec43b0a5 png \" , \" isSmartImage \" : false , \" originalPriceShow \" : \" \" , \" priceShow \" : \" Rs 1 , 634',\n",
       "  '\" , \" ratingScore \" : \" \" , \" review \" : \" \" , \" location \" : \" Overseas \" , \" thumbs \" : [ ] , \" sellerName \" : \" Wapu \" , \" sellerId \" : \" 900291392730 \" , \" brandName \" : \" No Brand \" , \" brandId \" : \" 39704 \" , \" cheapest_sku \" : \" 476694433_NP 2118850446 \" , \" skuId \" : \" 2118850446 \" , \" sku \" : \" 476694433_NP \" , \" categories \" : [ 240 , 8217 , 8220 , 8223 ] , \" price \" : \" 1634 \" , \" inStock \" : true , \" originalPrice \" : \" 1961 \" , \" clickTrace \"',\n",
       "  ': \" query : camera nid : 476694433 src : LazadaMainSrp rn : 3e3ad865f4f6894a6f06a36a8a95a2fe region : np sku : 476694433_NP price : 1634 client : desktop supplier_id : 900291392730 biz_source : h5_unknow slot : 6 utlog_bucket_id : 470687 asc_category_id : 8223 item_id : 476694433 sku_id : 2118850446 shop_id : 209675 templateInfo : 1_A3_C 1103_L \" , \" longImageDisplayable \" : false , \" skus \" : [ { \" id \" : \" 476694433_NP 2118850446 \" } ] , \" promotionId \" : \" \" , \" isSponsored \" : false , \" tItemType \" : \" nt_product \" , \" skuType \" : \" \" , \" adFlag \" : \" 0 \" , \" directSimilarUrl \" : \" https : native m lazada com dynamicxresult item_img',\n",
       "  'https 3A 2F 2Fstatic 01 daraz com np 2Fp 2F87c4e3498580ba135ff3e5e5ec43b0a5 png src srp_findsimilar item_id 476694433 sku_id 2118850446 params 7B 22sub_src 22 3A 22long_press 22 2C 22src 22 3A 22srp_findsimilar 22 7D m tpp_findSimilar q camera similarType findSimilarV1 price 1634 00 spuTriggerItem 0 \" , \" gridTitleLine \" : \" 2 \" , \" isFission \" : \" 0 \" , \" isBadgeAutoScroll \" : false , \" showCart \" : false , \" showBackIcon \" : false , \" showUnitPrice \" : false , \" itemUrl \" : \" www daraz com np products 750 760 10 1 i476694433 html \" , \" querystring \" : \" fs_ab 1 priceCompare skuId 3A2118850446 3Bsource 3Alazada search voucher 3Bsn 3A3e3ad865f4f6894a6f06a36a8a95a2fe 3BoriginPrice 3A163400 3BdisplayPrice 3A163400 3BsinglePromotionId 3A 1 3BsingleToolCode 3AmockedSalePrice 3BvoucherPricePlugin',\n",
       "  '3A0 3Btimestamp 3A1758778958940 c ratingscore freeshipping 0 source search channelLpJumpArgs fuse_fs search 1 sale 0 price 1634 review location Overseas stock 1 lang en request_id 3e3ad865f4f6894a6f06a36a8a95a2fe clickTrackInfo query 253Acamera 253Bnid 253A476694433 253Bsrc 253ALazadaMainSrp 253Brn 253A3e3ad865f4f6894a6f06a36a8a95a2fe 253Bregion 253Anp 253Bsku 253A476694433_NP 253Bprice 253A1634 253Bclient 253Adesktop 253Bsupplier_id 253A900291392730 253Bbiz_source 253Ah5_unknow 253Bslot 253A6 253Butlog_bucket_id 253A470687 253Basc_category_id 253A8223 253Bitem_id 253A476694433 253Bsku_id 253A2118850446 253Bshop_id 253A209675 253BtemplateInfo 253A 1_A3_C 25231103_L 2523 \" }'],\n",
       " ['{ \" name \" : \" Vylon 39 40 5 43 46 49 52 55 58 62 67 72 77 82 86 95 105mm Camera Lens Cap Protection Cover Lens Front Cap For Canon Nikon DSLR Lens Jing \" , \" nid \" : \" 433069849 \" , \" itemId \" : \" 433069849 \" , \" icons \" : [ ] , \" image \" : \" https : static 01 daraz com np p 201472192d251f27e655f15d0d0a44d1 jpg \" , \" isSmartImage \" : false , \" originalPriceShow \" : \" \" , \" priceShow \" : \" Rs 3 , 487 \" , \" ratingScore \" : \" \" , \" review \" : \" \" , \" location \" : \" Overseas \" , \" thumbs',\n",
       "  '\" : [ ] , \" sellerName \" : \" 9366c14c \" , \" sellerId \" : \" 900274208781 \" , \" brandName \" : \" No Brand \" , \" brandId \" : \" 39704 \" , \" cheapest_sku \" : \" 433069849_NP 1864030613 \" , \" skuId \" : \" 1864030613 \" , \" sku \" : \" 433069849_NP \" , \" categories \" : [ 240 , 8217 , 8220 , 8223 ] , \" price \" : \" 3487 \" , \" inStock \" : true , \" originalPrice \" : \" 3556 \" , \" clickTrace \" : \" query : camera nid : 433069849 src : LazadaMainSrp rn : 3e3ad865f4f6894a6f06a36a8a95a2fe region : np sku : 433069849_NP price : 3487 client : desktop',\n",
       "  'supplier_id : 900274208781 biz_source : h5_unknow slot : 7 utlog_bucket_id : 470687 asc_category_id : 8223 item_id : 433069849 sku_id : 1864030613 shop_id : 192506 templateInfo : 1_A3_C 1103_L \" , \" longImageDisplayable \" : false , \" skus \" : [ { \" id \" : \" 433069849_NP 1864030613 \" } ] , \" promotionId \" : \" \" , \" isSponsored \" : false , \" tItemType \" : \" nt_product \" , \" skuType \" : \" \" , \" adFlag \" : \" 0 \" , \" directSimilarUrl \" : \" https : native m lazada com dynamicxresult item_img https 3A 2F 2Fstatic 01 daraz com np 2Fp 2F201472192d251f27e655f15d0d0a44d1 jpg src srp_findsimilar item_id 433069849 sku_id 1864030613 params 7B 22sub_src 22 3A 22long_press 22 2C 22src',\n",
       "  '22 3A 22srp_findsimilar 22 7D m tpp_findSimilar q camera similarType findSimilarV1 price 3487 00 spuTriggerItem 0 \" , \" gridTitleLine \" : \" 2 \" , \" isFission \" : \" 0 \" , \" isBadgeAutoScroll \" : false , \" showCart \" : false , \" showBackIcon \" : false , \" showUnitPrice \" : false , \" itemUrl \" : \" www daraz com np products 39 405 43 46 49 52 55 58 62 67 72 77 82 86 95 105 nikon slr i433069849 html \" , \" querystring \" : \" fs_ab 1 priceCompare skuId 3A1864030613 3Bsource 3Alazada search voucher 3Bsn 3A3e3ad865f4f6894a6f06a36a8a95a2fe 3BoriginPrice 3A348700 3BdisplayPrice 3A348700 3BsinglePromotionId 3A 1 3BsingleToolCode 3AmockedSalePrice 3BvoucherPricePlugin 3A0 3Btimestamp 3A1758778958940 c ratingscore freeshipping 0 source search channelLpJumpArgs fuse_fs search',\n",
       "  '1 sale 0 price 3487 review location Overseas stock 1 lang en request_id 3e3ad865f4f6894a6f06a36a8a95a2fe clickTrackInfo query 253Acamera 253Bnid 253A433069849 253Bsrc 253ALazadaMainSrp 253Brn 253A3e3ad865f4f6894a6f06a36a8a95a2fe 253Bregion 253Anp 253Bsku 253A433069849_NP 253Bprice 253A3487 253Bclient 253Adesktop 253Bsupplier_id 253A900274208781 253Bbiz_source 253Ah5_unknow 253Bslot 253A7 253Butlog_bucket_id 253A470687 253Basc_category_id 253A8223 253Bitem_id 253A433069849 253Bsku_id 253A1864030613 253Bshop_id 253A192506 253BtemplateInfo 253A 1_A3_C 25231103_L 2523 \" }'],\n",
       " ['{ \" name \" : \" Vylon Nikon 55mm Lens Cap Front Side Black Lens Cap Nikon 55mm Front For 18 55mm AF P18 55mm f 3 5 5 6G VR 18 55mm Lens Cap Nikon 55mm Front For 18 55mm AF P18 55mm f 3 5 5 6G \" , \" nid \" : \" 433833617 \" , \" itemId \" : \" 433833617 \" , \" icons \" : [ ] , \" image \" : \" https : static 01 daraz com np p 78438e6822b546ba98f7e003f8a53721 jpg \" , \" isSmartImage \" : false , \" originalPriceShow \" : \" \" , \" priceShow \" : \" Rs 3 , 474 \" , \" ratingScore \" : \" \" , \" review \" : \" \"',\n",
       "  ', \" location \" : \" Overseas \" , \" thumbs \" : [ ] , \" sellerName \" : \" 9366c14c \" , \" sellerId \" : \" 900274208781 \" , \" brandName \" : \" No Brand \" , \" brandId \" : \" 39704 \" , \" cheapest_sku \" : \" 433833617_NP 1867948234 \" , \" skuId \" : \" 1867948234 \" , \" sku \" : \" 433833617_NP \" , \" categories \" : [ 240 , 8217 , 8220 , 8223 ] , \" price \" : \" 3474 \" , \" inStock \" : true , \" originalPrice \" : \" 3543 \" , \" clickTrace \" : \" query : camera nid : 433833617 src : LazadaMainSrp rn : 3e3ad865f4f6894a6f06a36a8a95a2fe region',\n",
       "  ': np sku : 433833617_NP price : 3474 client : desktop supplier_id : 900274208781 biz_source : h5_unknow slot : 8 utlog_bucket_id : 470687 asc_category_id : 8223 item_id : 433833617 sku_id : 1867948234 shop_id : 192506 templateInfo : 1_A3_C 1103_L \" , \" longImageDisplayable \" : false , \" skus \" : [ { \" id \" : \" 433833617_NP 1867948234 \" } ] , \" promotionId \" : \" \" , \" isSponsored \" : false , \" tItemType \" : \" nt_product \" , \" skuType \" : \" \" , \" adFlag \" : \" 0 \" , \" directSimilarUrl \" : \" https : native m lazada com dynamicxresult item_img https 3A 2F 2Fstatic 01 daraz com np 2Fp 2F78438e6822b546ba98f7e003f8a53721 jpg src srp_findsimilar item_id 433833617',\n",
       "  'sku_id 1867948234 params 7B 22sub_src 22 3A 22long_press 22 2C 22src 22 3A 22srp_findsimilar 22 7D m tpp_findSimilar q camera similarType findSimilarV1 price 3474 00 spuTriggerItem 0 \" , \" gridTitleLine \" : \" 2 \" , \" isFission \" : \" 0 \" , \" isBadgeAutoScroll \" : false , \" showCart \" : false , \" showBackIcon \" : false , \" showUnitPrice \" : false , \" itemUrl \" : \" www daraz com np products 55 55 18 55 18 55 35 56 18 55 55 i433833617 html \" , \" querystring \" : \" fs_ab 1 priceCompare skuId 3A1867948234 3Bsource 3Alazada search voucher 3Bsn 3A3e3ad865f4f6894a6f06a36a8a95a2fe 3BoriginPrice 3A347400 3BdisplayPrice 3A347400 3BsinglePromotionId 3A 1 3BsingleToolCode 3AmockedSalePrice 3BvoucherPricePlugin 3A0 3Btimestamp 3A1758778958940 c ratingscore freeshipping 0 source',\n",
       "  'search channelLpJumpArgs fuse_fs search 1 sale 0 price 3474 review location Overseas stock 1 lang en request_id 3e3ad865f4f6894a6f06a36a8a95a2fe clickTrackInfo query 253Acamera 253Bnid 253A433833617 253Bsrc 253ALazadaMainSrp 253Brn 253A3e3ad865f4f6894a6f06a36a8a95a2fe 253Bregion 253Anp 253Bsku 253A433833617_NP 253Bprice 253A3474 253Bclient 253Adesktop 253Bsupplier_id 253A900274208781 253Bbiz_source 253Ah5_unknow 253Bslot 253A8 253Butlog_bucket_id 253A470687 253Basc_category_id 253A8223 253Bitem_id 253A433833617 253Bsku_id 253A1867948234 253Bshop_id 253A192506 253BtemplateInfo 253A 1_A3_C 25231103_L 2523 \" }'],\n",
       " ['{ \" name \" : \" Ashunqiwen Lens cap 49 52 55 58 62 67 72 77 82 86mm center pinch Snap on cap cover for canon nikon sony camera Lens without logo \" , \" nid \" : \" 434402486 \" , \" itemId \" : \" 434402486 \" , \" icons \" : [ { \" domClass \" : \" 150565 \" , \" type \" : \" img \" , \" group \" : \" 6 \" , \" showType \" : \" 0 \" } , { \" domClass \" : \" 150318 \" , \" text \" : \" Gems save Rs 41 \" , \" type \" : \" text \" , \" group \" : \" 2 \" , \" showType',\n",
       "  '\" : \" 0 \" } ] , \" image \" : \" https : static 01 daraz com np p e6d00244f6819430dd56d9347dea6610 png \" , \" isSmartImage \" : false , \" originalPriceShow \" : \" \" , \" priceShow \" : \" Rs 1 , 382 \" , \" ratingScore \" : \" \" , \" review \" : \" \" , \" location \" : \" Overseas \" , \" thumbs \" : [ ] , \" sellerName \" : \" Huadunwen \" , \" sellerId \" : \" 900266400470 \" , \" brandName \" : \" No Brand \" , \" brandId \" : \" 39704 \" , \" cheapest_sku \" : \" 434402486_NP 1875664954 \" , \" skuId \" : \" 1875664954 \" ,',\n",
       "  '\" sku \" : \" 434402486_NP \" , \" categories \" : [ 240 , 8217 , 8220 , 8223 ] , \" price \" : \" 1382 \" , \" inStock \" : true , \" originalPrice \" : \" 1797 \" , \" clickTrace \" : \" query : camera nid : 434402486 src : LazadaMainSrp rn : 3e3ad865f4f6894a6f06a36a8a95a2fe region : np sku : 434402486_NP price : 1382 client : desktop supplier_id : 900266400470 biz_source : h5_unknow slot : 9 utlog_bucket_id : 470687 asc_category_id : 8223 item_id : 434402486 sku_id : 1875664954 shop_id : 176850 templateInfo : 1_A3_C 1103_L \" , \" longImageDisplayable \" : false , \" skus \" : [ { \" id \" : \" 434402486_NP 1875664954 \" } ] , \" promotionId',\n",
       "  '\" : \" \" , \" isSponsored \" : false , \" tItemType \" : \" nt_product \" , \" skuType \" : \" \" , \" adFlag \" : \" 0 \" , \" directSimilarUrl \" : \" https : native m lazada com dynamicxresult item_img https 3A 2F 2Fstatic 01 daraz com np 2Fp 2Fe6d00244f6819430dd56d9347dea6610 png src srp_findsimilar item_id 434402486 sku_id 1875664954 params 7B 22sub_src 22 3A 22long_press 22 2C 22src 22 3A 22srp_findsimilar 22 7D m tpp_findSimilar q camera similarType findSimilarV1 price 1382 00 spuTriggerItem 0 \" , \" gridTitleLine \" : \" 2 \" , \" isFission \" : \" 0 \" , \" isBadgeAutoScroll \" : false , \" showCart \" : false , \" showBackIcon \" : false , \" showUnitPrice \"',\n",
       "  ': false , \" itemUrl \" : \" www daraz com np products 49 52 55 58 62 67 72 77 82 86 i434402486 html \" , \" querystring \" : \" fs_ab 1 priceCompare skuId 3A1875664954 3Bsource 3Alazada search voucher 3Bsn 3A3e3ad865f4f6894a6f06a36a8a95a2fe 3BoriginPrice 3A138200 3BdisplayPrice 3A138200 3BsinglePromotionId 3A 1 3BsingleToolCode 3AmockedSalePrice 3BvoucherPricePlugin 3A0 3Btimestamp 3A1758778958940 c ratingscore freeshipping 0 source search channelLpJumpArgs fuse_fs search 1 sale 0 price 1382 review location Overseas stock 1 lang en request_id 3e3ad865f4f6894a6f06a36a8a95a2fe clickTrackInfo query 253Acamera 253Bnid 253A434402486 253Bsrc 253ALazadaMainSrp 253Brn 253A3e3ad865f4f6894a6f06a36a8a95a2fe 253Bregion 253Anp 253Bsku 253A434402486_NP 253Bprice 253A1382 253Bclient 253Adesktop 253Bsupplier_id 253A900266400470 253Bbiz_source 253Ah5_unknow 253Bslot 253A9 253Butlog_bucket_id 253A470687 253Basc_category_id 253A8223 253Bitem_id 253A434402486 253Bsku_id 253A1875664954 253Bshop_id 253A176850 253BtemplateInfo 253A 1_A3_C 25231103_L 2523 \" }'],\n",
       " ['{ \" name \" : \" Wenefang 2pcs Eyecup EF Rubber For Canon EOS 760D 750D 700D 650D 600D 550D High Quality 500D 100D 1200D 1100D 1000D Eye Piece Viewfinder Goggles \" , \" nid \" : \" 410782748 \" , \" itemId \" : \" 410782748 \" , \" icons \" : [ { \" domClass \" : \" 150565 \" , \" type \" : \" img \" , \" group \" : \" 6 \" , \" showType \" : \" 0 \" } , { \" domClass \" : \" 150318 \" , \" text \" : \" Gems save Rs 39 \" , \" type \" : \" text \" , \" group \" : \" 2 \" , \" showType \" :',\n",
       "  '\" 0 \" } ] , \" image \" : \" https : static 01 daraz com np p 2b484a34b95a4ca488dd3b30a4917776 png \" , \" isSmartImage \" : false , \" originalPriceShow \" : \" \" , \" priceShow \" : \" Rs 1 , 316 \" , \" ratingScore \" : \" \" , \" review \" : \" \" , \" location \" : \" Overseas \" , \" thumbs \" : [ ] , \" sellerName \" : \" Wenefang \" , \" sellerId \" : \" 900270016692 \" , \" brandName \" : \" No Brand \" , \" brandId \" : \" 39704 \" , \" cheapest_sku \" : \" 410782748_NP 1758420825 \" , \" skuId \" : \" 1758420825 \" , \" sku',\n",
       "  '\" : \" 410782748_NP \" , \" categories \" : [ 240 , 8217 , 8220 , 8223 ] , \" price \" : \" 1316 \" , \" inStock \" : true , \" originalPrice \" : \" 1973 \" , \" clickTrace \" : \" query : camera nid : 410782748 src : LazadaMainSrp rn : 3e3ad865f4f6894a6f06a36a8a95a2fe region : np sku : 410782748_NP price : 1316 client : desktop supplier_id : 900270016692 biz_source : h5_unknow slot : 10 utlog_bucket_id : 470687 asc_category_id : 8223 item_id : 410782748 sku_id : 1758420825 shop_id : 184195 templateInfo : 1_A3_C 1103_L \" , \" longImageDisplayable \" : false , \" skus \" : [ { \" id \" : \" 410782748_NP 1758420825 \" } ] , \" promotionId \" :',\n",
       "  '\" \" , \" isSponsored \" : false , \" tItemType \" : \" nt_product \" , \" skuType \" : \" \" , \" adFlag \" : \" 0 \" , \" directSimilarUrl \" : \" https : native m lazada com dynamicxresult item_img https 3A 2F 2Fstatic 01 daraz com np 2Fp 2F2b484a34b95a4ca488dd3b30a4917776 png src srp_findsimilar item_id 410782748 sku_id 1758420825 params 7B 22sub_src 22 3A 22long_press 22 2C 22src 22 3A 22srp_findsimilar 22 7D m tpp_findSimilar q camera similarType findSimilarV1 price 1316 00 spuTriggerItem 0 \" , \" gridTitleLine \" : \" 2 \" , \" isFission \" : \" 0 \" , \" isBadgeAutoScroll \" : false , \" showCart \" : false , \" showBackIcon \" : false , \" showUnitPrice \" : false',\n",
       "  ', \" itemUrl \" : \" www daraz com np products 760 750 700 700 650 600 550 550 500 100 2025 version 1200 1100 1000 i410782748 html \" , \" querystring \" : \" fs_ab 1 priceCompare skuId 3A1758420825 3Bsource 3Alazada search voucher 3Bsn 3A3e3ad865f4f6894a6f06a36a8a95a2fe 3BoriginPrice 3A131600 3BdisplayPrice 3A131600 3BsinglePromotionId 3A 1 3BsingleToolCode 3AmockedSalePrice 3BvoucherPricePlugin 3A0 3Btimestamp 3A1758778958940 c ratingscore freeshipping 0 source search channelLpJumpArgs fuse_fs search 1 sale 0 price 1316 review location Overseas stock 1 lang en request_id 3e3ad865f4f6894a6f06a36a8a95a2fe clickTrackInfo query 253Acamera 253Bnid 253A410782748 253Bsrc 253ALazadaMainSrp 253Brn 253A3e3ad865f4f6894a6f06a36a8a95a2fe 253Bregion 253Anp 253Bsku 253A410782748_NP 253Bprice 253A1316 253Bclient 253Adesktop 253Bsupplier_id 253A900270016692 253Bbiz_source 253Ah5_unknow 253Bslot 253A10 253Butlog_bucket_id 253A470687 253Basc_category_id 253A8223 253Bitem_id 253A410782748 253Bsku_id 253A1758420825 253Bshop_id 253A184195 253BtemplateInfo 253A 1_A3_C 25231103_L 2523 \" }'],\n",
       " ['{ \" name \" : \" Jufang1PCS High quality 40 5 49 52 55 58 62 67 72 77 82mm Bargain price center pinch Snap on cap cover for all camera Lens 2025 \" , \" nid \" : \" 459447907 \" , \" itemId \" : \" 459447907 \" , \" icons \" : [ { \" domClass \" : \" 150565 \" , \" type \" : \" img \" , \" group \" : \" 6 \" , \" showType \" : \" 0 \" } ] , \" image \" : \" https : static 01 daraz com np p 02ddb1afc73abac739f39194f8c8a1ff png \" , \" isSmartImage \" : false , \" originalPriceShow \" : \" \" , \" priceShow \" : \" Rs 1',\n",
       "  ', 611 \" , \" ratingScore \" : \" \" , \" review \" : \" \" , \" location \" : \" Overseas \" , \" thumbs \" : [ ] , \" sellerName \" : \" Jufang \" , \" sellerId \" : \" 900274448910 \" , \" brandName \" : \" No Brand \" , \" brandId \" : \" 39704 \" , \" cheapest_sku \" : \" 459447907_NP 2054038113 \" , \" skuId \" : \" 2054038113 \" , \" sku \" : \" 459447907_NP \" , \" categories \" : [ 240 , 8217 , 8220 , 8223 ] , \" price \" : \" 1611 \" , \" inStock \" : true , \" originalPrice \" : \" 2417 \" , \"',\n",
       "  'clickTrace \" : \" query : camera nid : 459447907 src : LazadaMainSrp rn : 3e3ad865f4f6894a6f06a36a8a95a2fe region : np sku : 459447907_NP price : 1611 client : desktop supplier_id : 900274448910 biz_source : h5_unknow slot : 11 utlog_bucket_id : 470687 asc_category_id : 8223 item_id : 459447907 sku_id : 2054038113 shop_id : 192835 templateInfo : 1_A3_C 1103_L \" , \" longImageDisplayable \" : false , \" skus \" : [ { \" id \" : \" 459447907_NP 2054038113 \" } ] , \" promotionId \" : \" \" , \" isSponsored \" : false , \" tItemType \" : \" nt_product \" , \" skuType \" : \" \" , \" adFlag \" : \" 0 \" , \" directSimilarUrl \" : \" https : native m lazada com',\n",
       "  'dynamicxresult item_img https 3A 2F 2Fstatic 01 daraz com np 2Fp 2F02ddb1afc73abac739f39194f8c8a1ff png src srp_findsimilar item_id 459447907 sku_id 2054038113 params 7B 22sub_src 22 3A 22long_press 22 2C 22src 22 3A 22srp_findsimilar 22 7D m tpp_findSimilar q camera similarType findSimilarV1 price 1611 00 spuTriggerItem 0 \" , \" gridTitleLine \" : \" 2 \" , \" isFission \" : \" 0 \" , \" isBadgeAutoScroll \" : false , \" showCart \" : false , \" showBackIcon \" : false , \" showUnitPrice \" : false , \" itemUrl \" : \" www daraz com np products 1 405 49 52 55 58 62 67 72 77 82 2025 i459447907 html \" , \" querystring \" : \" fs_ab 1 priceCompare skuId 3A2054038113 3Bsource 3Alazada search voucher 3Bsn 3A3e3ad865f4f6894a6f06a36a8a95a2fe',\n",
       "  '3BoriginPrice 3A161100 3BdisplayPrice 3A161100 3BsinglePromotionId 3A 1 3BsingleToolCode 3AmockedSalePrice 3BvoucherPricePlugin 3A0 3Btimestamp 3A1758778958940 c ratingscore freeshipping 0 source search channelLpJumpArgs fuse_fs search 1 sale 0 price 1611 review location Overseas stock 1 lang en request_id 3e3ad865f4f6894a6f06a36a8a95a2fe clickTrackInfo query 253Acamera 253Bnid 253A459447907 253Bsrc 253ALazadaMainSrp 253Brn 253A3e3ad865f4f6894a6f06a36a8a95a2fe 253Bregion 253Anp 253Bsku 253A459447907_NP 253Bprice 253A1611 253Bclient 253Adesktop 253Bsupplier_id 253A900274448910 253Bbiz_source 253Ah5_unknow 253Bslot 253A11 253Butlog_bucket_id 253A470687 253Basc_category_id 253A8223 253Bitem_id 253A459447907 253Bsku_id 253A2054038113 253Bshop_id 253A192835 253BtemplateInfo 253A 1_A3_C 25231103_L 2523 \" }'],\n",
       " ['{ \" name \" : \" 10 1pcs Rear Lens Cap for Canon EOS EFS EF EF S EF DSLR SLR Mark II III IV 750D 760D DSLR Cameras Original \" , \" nid \" : \" 470662752 \" , \" itemId \" : \" 470662752 \" , \" icons \" : [ { \" domClass \" : \" 150565 \" , \" type \" : \" img \" , \" group \" : \" 6 \" , \" showType \" : \" 0 \" } ] , \" image \" : \" https : static 01 daraz com np p bf572f9cc4631e0bb733b207791aa163 jpg \" , \" isSmartImage \" : false , \" originalPriceShow \" : \" \" , \" priceShow \" : \" Rs 1 , 649 \"',\n",
       "  ', \" ratingScore \" : \" \" , \" review \" : \" \" , \" location \" : \" Overseas \" , \" thumbs \" : [ ] , \" sellerName \" : \" Haomeiyou \" , \" sellerId \" : \" 900267968062 \" , \" brandName \" : \" No Brand \" , \" brandId \" : \" 39704 \" , \" cheapest_sku \" : \" 470662752_NP 2092755508 \" , \" skuId \" : \" 2092755508 \" , \" sku \" : \" 470662752_NP \" , \" categories \" : [ 240 , 8217 , 8220 , 8223 ] , \" price \" : \" 1649 \" , \" inStock \" : true , \" originalPrice \" : \" 2474 \" , \" clickTrace \" :',\n",
       "  '\" query : camera nid : 470662752 src : LazadaMainSrp rn : 3e3ad865f4f6894a6f06a36a8a95a2fe region : np sku : 470662752_NP price : 1649 client : desktop supplier_id : 900267968062 biz_source : h5_unknow slot : 12 utlog_bucket_id : 470687 asc_category_id : 8223 item_id : 470662752 sku_id : 2092755508 shop_id : 181656 templateInfo : 1_A3_C 1103_L \" , \" longImageDisplayable \" : false , \" skus \" : [ { \" id \" : \" 470662752_NP 2092755508 \" } ] , \" promotionId \" : \" \" , \" isSponsored \" : false , \" tItemType \" : \" nt_product \" , \" skuType \" : \" \" , \" adFlag \" : \" 0 \" , \" directSimilarUrl \" : \" https : native m lazada com dynamicxresult item_img https',\n",
       "  '3A 2F 2Fstatic 01 daraz com np 2Fp 2Fbf572f9cc4631e0bb733b207791aa163 jpg src srp_findsimilar item_id 470662752 sku_id 2092755508 params 7B 22sub_src 22 3A 22long_press 22 2C 22src 22 3A 22srp_findsimilar 22 7D m tpp_findSimilar q camera similarType findSimilarV1 price 1649 00 spuTriggerItem 0 \" , \" gridTitleLine \" : \" 2 \" , \" isFission \" : \" 0 \" , \" isBadgeAutoScroll \" : false , \" showCart \" : false , \" showBackIcon \" : false , \" showUnitPrice \" : false , \" itemUrl \" : \" www daraz com np products 750 760 10 1 fi i470662752 html \" , \" querystring \" : \" fs_ab 1 priceCompare skuId 3A2092755508 3Bsource 3Alazada search voucher 3Bsn 3A3e3ad865f4f6894a6f06a36a8a95a2fe 3BoriginPrice 3A164900 3BdisplayPrice 3A164900 3BsinglePromotionId 3A 1 3BsingleToolCode 3AmockedSalePrice 3BvoucherPricePlugin',\n",
       "  '3A0 3Btimestamp 3A1758778958940 c ratingscore freeshipping 0 source search channelLpJumpArgs fuse_fs search 1 sale 0 price 1649 review location Overseas stock 1 lang en request_id 3e3ad865f4f6894a6f06a36a8a95a2fe clickTrackInfo query 253Acamera 253Bnid 253A470662752 253Bsrc 253ALazadaMainSrp 253Brn 253A3e3ad865f4f6894a6f06a36a8a95a2fe 253Bregion 253Anp 253Bsku 253A470662752_NP 253Bprice 253A1649 253Bclient 253Adesktop 253Bsupplier_id 253A900267968062 253Bbiz_source 253Ah5_unknow 253Bslot 253A12 253Butlog_bucket_id 253A470687 253Basc_category_id 253A8223 253Bitem_id 253A470662752 253Bsku_id 253A2092755508 253Bshop_id 253A181656 253BtemplateInfo 253A 1_A3_C 25231103_L 2523 \" }'],\n",
       " ['{ \" name \" : \" Zhulu2025 New 10 1pcs Rear Lens Cap for Canon EOS EFS EF EF S EF DSLR SLR Mark II III IV 750D 760D DSLR Cameras \" , \" nid \" : \" 476709069 \" , \" itemId \" : \" 476709069 \" , \" icons \" : [ { \" domClass \" : \" 150565 \" , \" type \" : \" img \" , \" group \" : \" 6 \" , \" showType \" : \" 0 \" } ] , \" image \" : \" https : static 01 daraz com np p 278339c85ea7bbc8df17b6ecdc9ead64 png \" , \" isSmartImage \" : false , \" originalPriceShow \" : \" \" , \" priceShow \" : \" Rs 1 , 766',\n",
       "  '\" , \" ratingScore \" : \" \" , \" review \" : \" \" , \" location \" : \" Overseas \" , \" thumbs \" : [ ] , \" sellerName \" : \" Zhulu \" , \" sellerId \" : \" 900291520347 \" , \" brandName \" : \" No Brand \" , \" brandId \" : \" 39704 \" , \" cheapest_sku \" : \" 476709069_NP 2118811269 \" , \" skuId \" : \" 2118811269 \" , \" sku \" : \" 476709069_NP \" , \" categories \" : [ 240 , 8217 , 8220 , 8223 ] , \" price \" : \" 1766 \" , \" inStock \" : true , \" originalPrice \" : \" 2119 \" , \" clickTrace \"',\n",
       "  ': \" query : camera nid : 476709069 src : LazadaMainSrp rn : 3e3ad865f4f6894a6f06a36a8a95a2fe region : np sku : 476709069_NP price : 1766 client : desktop supplier_id : 900291520347 biz_source : h5_unknow slot : 13 utlog_bucket_id : 470687 asc_category_id : 8223 item_id : 476709069 sku_id : 2118811269 shop_id : 209692 templateInfo : 1_A3_C 1103_L \" , \" longImageDisplayable \" : false , \" skus \" : [ { \" id \" : \" 476709069_NP 2118811269 \" } ] , \" promotionId \" : \" \" , \" isSponsored \" : false , \" tItemType \" : \" nt_product \" , \" skuType \" : \" \" , \" adFlag \" : \" 0 \" , \" directSimilarUrl \" : \" https : native m lazada com dynamicxresult item_img',\n",
       "  'https 3A 2F 2Fstatic 01 daraz com np 2Fp 2F278339c85ea7bbc8df17b6ecdc9ead64 png src srp_findsimilar item_id 476709069 sku_id 2118811269 params 7B 22sub_src 22 3A 22long_press 22 2C 22src 22 3A 22srp_findsimilar 22 7D m tpp_findSimilar q camera similarType findSimilarV1 price 1766 00 spuTriggerItem 0 \" , \" gridTitleLine \" : \" 2 \" , \" isFission \" : \" 0 \" , \" isBadgeAutoScroll \" : false , \" showCart \" : false , \" showBackIcon \" : false , \" showUnitPrice \" : false , \" itemUrl \" : \" www daraz com np products 2025 750 760 i476709069 html \" , \" querystring \" : \" fs_ab 1 priceCompare skuId 3A2118811269 3Bsource 3Alazada search voucher 3Bsn 3A3e3ad865f4f6894a6f06a36a8a95a2fe 3BoriginPrice 3A176600 3BdisplayPrice 3A176600 3BsinglePromotionId 3A 1 3BsingleToolCode 3AmockedSalePrice 3BvoucherPricePlugin 3A0',\n",
       "  '3Btimestamp 3A1758778958941 c ratingscore freeshipping 0 source search channelLpJumpArgs fuse_fs search 1 sale 0 price 1766 review location Overseas stock 1 lang en request_id 3e3ad865f4f6894a6f06a36a8a95a2fe clickTrackInfo query 253Acamera 253Bnid 253A476709069 253Bsrc 253ALazadaMainSrp 253Brn 253A3e3ad865f4f6894a6f06a36a8a95a2fe 253Bregion 253Anp 253Bsku 253A476709069_NP 253Bprice 253A1766 253Bclient 253Adesktop 253Bsupplier_id 253A900291520347 253Bbiz_source 253Ah5_unknow 253Bslot 253A13 253Butlog_bucket_id 253A470687 253Basc_category_id 253A8223 253Bitem_id 253A476709069 253Bsku_id 253A2118811269 253Bshop_id 253A209692 253BtemplateInfo 253A 1_A3_C 25231103_L 2523 \" }'],\n",
       " ['{ \" name \" : \" QuepingProfesional 10 1pcs Rear Lens Cap for Canon EOS EFS EF EF S EF DSLR SLR Mark II III IV 750D 760D DSLR Cameras \" , \" nid \" : \" 476677805 \" , \" itemId \" : \" 476677805 \" , \" icons \" : [ { \" domClass \" : \" 150565 \" , \" type \" : \" img \" , \" group \" : \" 6 \" , \" showType \" : \" 0 \" } ] , \" image \" : \" https : static 01 daraz com np p 76c34f8a123d57c979a1a97d9ccc6873 png \" , \" isSmartImage \" : false , \" originalPriceShow \" : \" \" , \" priceShow \" : \" Rs 1 , 653 \"',\n",
       "  ', \" ratingScore \" : \" \" , \" review \" : \" \" , \" location \" : \" Overseas \" , \" thumbs \" : [ ] , \" sellerName \" : \" Queping \" , \" sellerId \" : \" 900291536294 \" , \" brandName \" : \" No Brand \" , \" brandId \" : \" 39704 \" , \" cheapest_sku \" : \" 476677805_NP 2118799850 \" , \" skuId \" : \" 2118799850 \" , \" sku \" : \" 476677805_NP \" , \" categories \" : [ 240 , 8217 , 8220 , 8223 ] , \" price \" : \" 1653 \" , \" inStock \" : true , \" originalPrice \" : \" 1984 \" , \" clickTrace \" :',\n",
       "  '\" query : camera nid : 476677805 src : LazadaMainSrp rn : 3e3ad865f4f6894a6f06a36a8a95a2fe region : np sku : 476677805_NP price : 1653 client : desktop supplier_id : 900291536294 biz_source : h5_unknow slot : 14 utlog_bucket_id : 470687 asc_category_id : 8223 item_id : 476677805 sku_id : 2118799850 shop_id : 209664 templateInfo : 1_A3_C 1103_L \" , \" longImageDisplayable \" : false , \" skus \" : [ { \" id \" : \" 476677805_NP 2118799850 \" } ] , \" promotionId \" : \" \" , \" isSponsored \" : false , \" tItemType \" : \" nt_product \" , \" skuType \" : \" \" , \" adFlag \" : \" 0 \" , \" directSimilarUrl \" : \" https : native m lazada com dynamicxresult item_img https',\n",
       "  '3A 2F 2Fstatic 01 daraz com np 2Fp 2F76c34f8a123d57c979a1a97d9ccc6873 png src srp_findsimilar item_id 476677805 sku_id 2118799850 params 7B 22sub_src 22 3A 22long_press 22 2C 22src 22 3A 22srp_findsimilar 22 7D m tpp_findSimilar q camera similarType findSimilarV1 price 1653 00 spuTriggerItem 0 \" , \" gridTitleLine \" : \" 2 \" , \" isFission \" : \" 0 \" , \" isBadgeAutoScroll \" : false , \" showCart \" : false , \" showBackIcon \" : false , \" showUnitPrice \" : false , \" itemUrl \" : \" www daraz com np products 760 10 1 i476677805 html \" , \" querystring \" : \" fs_ab 1 priceCompare skuId 3A2118799850 3Bsource 3Alazada search voucher 3Bsn 3A3e3ad865f4f6894a6f06a36a8a95a2fe 3BoriginPrice 3A165300 3BdisplayPrice 3A165300 3BsinglePromotionId 3A 1 3BsingleToolCode 3AmockedSalePrice 3BvoucherPricePlugin 3A0 3Btimestamp',\n",
       "  '3A1758778958941 c ratingscore freeshipping 0 source search channelLpJumpArgs fuse_fs search 1 sale 0 price 1653 review location Overseas stock 1 lang en request_id 3e3ad865f4f6894a6f06a36a8a95a2fe clickTrackInfo query 253Acamera 253Bnid 253A476677805 253Bsrc 253ALazadaMainSrp 253Brn 253A3e3ad865f4f6894a6f06a36a8a95a2fe 253Bregion 253Anp 253Bsku 253A476677805_NP 253Bprice 253A1653 253Bclient 253Adesktop 253Bsupplier_id 253A900291536294 253Bbiz_source 253Ah5_unknow 253Bslot 253A14 253Butlog_bucket_id 253A470687 253Basc_category_id 253A8223 253Bitem_id 253A476677805 253Bsku_id 253A2118799850 253Bshop_id 253A209664 253BtemplateInfo 253A 1_A3_C 25231103_L 2523 \" }'],\n",
       " ['{ \" name \" : \" Jufang10 1pcs Rear Lens Cap for Canon EOS EFS EF EF S EF DSLR SLR Mark II III IV 750D 760D DSLR Cameras Fashion \" , \" nid \" : \" 458733850 \" , \" itemId \" : \" 458733850 \" , \" icons \" : [ { \" domClass \" : \" 150565 \" , \" type \" : \" img \" , \" group \" : \" 6 \" , \" showType \" : \" 0 \" } ] , \" image \" : \" https : static 01 daraz com np p c0ded524345966c9d49baf2f3bb5f8c9 png \" , \" isSmartImage \" : false , \" originalPriceShow \" : \" \" , \" priceShow \" : \" Rs 1 , 672 \"',\n",
       "  ', \" ratingScore \" : \" \" , \" review \" : \" \" , \" location \" : \" Overseas \" , \" thumbs \" : [ ] , \" sellerName \" : \" Jufang \" , \" sellerId \" : \" 900274448910 \" , \" brandName \" : \" No Brand \" , \" brandId \" : \" 39704 \" , \" cheapest_sku \" : \" 458733850_NP 2046826124 \" , \" skuId \" : \" 2046826124 \" , \" sku \" : \" 458733850_NP \" , \" categories \" : [ 240 , 8217 , 8220 , 8223 ] , \" price \" : \" 1672 \" , \" inStock \" : true , \" originalPrice \" : \" 2508 \" , \" clickTrace \" :',\n",
       "  '\" query : camera nid : 458733850 src : LazadaMainSrp rn : 3e3ad865f4f6894a6f06a36a8a95a2fe region : np sku : 458733850_NP price : 1672 client : desktop supplier_id : 900274448910 biz_source : h5_unknow slot : 15 utlog_bucket_id : 470687 asc_category_id : 8223 item_id : 458733850 sku_id : 2046826124 shop_id : 192835 templateInfo : 1_A3_C 1103_L \" , \" longImageDisplayable \" : false , \" skus \" : [ { \" id \" : \" 458733850_NP 2046826124 \" } ] , \" promotionId \" : \" \" , \" isSponsored \" : false , \" tItemType \" : \" nt_product \" , \" skuType \" : \" \" , \" adFlag \" : \" 0 \" , \" directSimilarUrl \" : \" https : native m lazada com dynamicxresult item_img https',\n",
       "  '3A 2F 2Fstatic 01 daraz com np 2Fp 2Fc0ded524345966c9d49baf2f3bb5f8c9 png src srp_findsimilar item_id 458733850 sku_id 2046826124 params 7B 22sub_src 22 3A 22long_press 22 2C 22src 22 3A 22srp_findsimilar 22 7D m tpp_findSimilar q camera similarType findSimilarV1 price 1672 00 spuTriggerItem 0 \" , \" gridTitleLine \" : \" 2 \" , \" isFission \" : \" 0 \" , \" isBadgeAutoScroll \" : false , \" showCart \" : false , \" showBackIcon \" : false , \" showUnitPrice \" : false , \" itemUrl \" : \" www daraz com np products 750 760 10 1 fa i458733850 html \" , \" querystring \" : \" fs_ab 1 priceCompare skuId 3A2046826124 3Bsource 3Alazada search voucher 3Bsn 3A3e3ad865f4f6894a6f06a36a8a95a2fe 3BoriginPrice 3A167200 3BdisplayPrice 3A167200 3BsinglePromotionId 3A 1 3BsingleToolCode 3AmockedSalePrice 3BvoucherPricePlugin',\n",
       "  '3A0 3Btimestamp 3A1758778958941 c ratingscore freeshipping 0 source search channelLpJumpArgs fuse_fs search 1 sale 0 price 1672 review location Overseas stock 1 lang en request_id 3e3ad865f4f6894a6f06a36a8a95a2fe clickTrackInfo query 253Acamera 253Bnid 253A458733850 253Bsrc 253ALazadaMainSrp 253Brn 253A3e3ad865f4f6894a6f06a36a8a95a2fe 253Bregion 253Anp 253Bsku 253A458733850_NP 253Bprice 253A1672 253Bclient 253Adesktop 253Bsupplier_id 253A900274448910 253Bbiz_source 253Ah5_unknow 253Bslot 253A15 253Butlog_bucket_id 253A470687 253Basc_category_id 253A8223 253Bitem_id 253A458733850 253Bsku_id 253A2046826124 253Bshop_id 253A192835 253BtemplateInfo 253A 1_A3_C 25231103_L 2523 \" }'],\n",
       " ['{ \" name \" : \" QianxiLuxury 10 1pcs Rear Lens Cap for Canon EOS EFS EF EF S EF DSLR SLR Mark II III IV 750D 760D DSLR Cameras \" , \" nid \" : \" 476750422 \" , \" itemId \" : \" 476750422 \" , \" icons \" : [ { \" domClass \" : \" 150565 \" , \" type \" : \" img \" , \" group \" : \" 6 \" , \" showType \" : \" 0 \" } ] , \" image \" : \" https : static 01 daraz com np p 094cc5443b8a7ff67e0cf354723a8af8 png \" , \" isSmartImage \" : false , \" originalPriceShow \" : \" \" , \" priceShow \" : \" Rs 1 , 672 \"',\n",
       "  ', \" ratingScore \" : \" \" , \" review \" : \" \" , \" location \" : \" Overseas \" , \" thumbs \" : [ ] , \" sellerName \" : \" Qianxi \" , \" sellerId \" : \" 900291232989 \" , \" brandName \" : \" No Brand \" , \" brandId \" : \" 39704 \" , \" cheapest_sku \" : \" 476750422_NP 2119376808 \" , \" skuId \" : \" 2119376808 \" , \" sku \" : \" 476750422_NP \" , \" categories \" : [ 240 , 8217 , 8220 , 8223 ] , \" price \" : \" 1672 \" , \" inStock \" : true , \" originalPrice \" : \" 2006 \" , \" clickTrace \" :',\n",
       "  '\" query : camera nid : 476750422 src : LazadaMainSrp rn : 3e3ad865f4f6894a6f06a36a8a95a2fe region : np sku : 476750422_NP price : 1672 client : desktop supplier_id : 900291232989 biz_source : h5_unknow slot : 16 utlog_bucket_id : 470687 asc_category_id : 8223 item_id : 476750422 sku_id : 2119376808 shop_id : 209662 templateInfo : 1_A3_C 1103_L \" , \" longImageDisplayable \" : false , \" skus \" : [ { \" id \" : \" 476750422_NP 2119376808 \" } ] , \" promotionId \" : \" \" , \" isSponsored \" : false , \" tItemType \" : \" nt_product \" , \" skuType \" : \" \" , \" adFlag \" : \" 0 \" , \" directSimilarUrl \" : \" https : native m lazada com dynamicxresult item_img https',\n",
       "  '3A 2F 2Fstatic 01 daraz com np 2Fp 2F094cc5443b8a7ff67e0cf354723a8af8 png src srp_findsimilar item_id 476750422 sku_id 2119376808 params 7B 22sub_src 22 3A 22long_press 22 2C 22src 22 3A 22srp_findsimilar 22 7D m tpp_findSimilar q camera similarType findSimilarV1 price 1672 00 spuTriggerItem 0 \" , \" gridTitleLine \" : \" 2 \" , \" isFission \" : \" 0 \" , \" isBadgeAutoScroll \" : false , \" showCart \" : false , \" showBackIcon \" : false , \" showUnitPrice \" : false , \" itemUrl \" : \" www daraz com np products 750 760 10 1 i476750422 html \" , \" querystring \" : \" fs_ab 1 priceCompare skuId 3A2119376808 3Bsource 3Alazada search voucher 3Bsn 3A3e3ad865f4f6894a6f06a36a8a95a2fe 3BoriginPrice 3A167200 3BdisplayPrice 3A167200 3BsinglePromotionId 3A 1 3BsingleToolCode 3AmockedSalePrice 3BvoucherPricePlugin 3A0',\n",
       "  '3Btimestamp 3A1758778958941 c ratingscore freeshipping 0 source search channelLpJumpArgs fuse_fs search 1 sale 0 price 1672 review location Overseas stock 1 lang en request_id 3e3ad865f4f6894a6f06a36a8a95a2fe clickTrackInfo query 253Acamera 253Bnid 253A476750422 253Bsrc 253ALazadaMainSrp 253Brn 253A3e3ad865f4f6894a6f06a36a8a95a2fe 253Bregion 253Anp 253Bsku 253A476750422_NP 253Bprice 253A1672 253Bclient 253Adesktop 253Bsupplier_id 253A900291232989 253Bbiz_source 253Ah5_unknow 253Bslot 253A16 253Butlog_bucket_id 253A470687 253Basc_category_id 253A8223 253Bitem_id 253A476750422 253Bsku_id 253A2119376808 253Bshop_id 253A209662 253BtemplateInfo 253A 1_A3_C 25231103_L 2523 \" }'],\n",
       " ['{ \" name \" : \" Wenefang 34 37 39 40 5 43 46 49 52 55 58 62 67 72 77 82 86 95mm Camera Lens Fifty percent discount Cap Protection Cover Lens Front Cap for canon nikon DSLR Lens \" , \" nid \" : \" 410843898 \" , \" itemId \" : \" 410843898 \" , \" icons \" : [ { \" domClass \" : \" 150565 \" , \" type \" : \" img \" , \" group \" : \" 6 \" , \" showType \" : \" 0 \" } , { \" domClass \" : \" 150318 \" , \" text \" : \" Gems save Rs 38 \" , \" type \" : \" text \" , \" group',\n",
       "  '\" : \" 2 \" , \" showType \" : \" 0 \" } ] , \" image \" : \" https : static 01 daraz com np p 19139e3e024013488c73923fa16f4755 png \" , \" isSmartImage \" : false , \" originalPriceShow \" : \" \" , \" priceShow \" : \" Rs 1 , 255 \" , \" ratingScore \" : \" \" , \" review \" : \" \" , \" location \" : \" Overseas \" , \" thumbs \" : [ ] , \" sellerName \" : \" Wenefang \" , \" sellerId \" : \" 900270016692 \" , \" brandName \" : \" No Brand \" , \" brandId \" : \" 39704 \" , \" cheapest_sku \" : \" 410843898_NP 1758980004 \" ,',\n",
       "  '\" skuId \" : \" 1758980004 \" , \" sku \" : \" 410843898_NP \" , \" categories \" : [ 240 , 8217 , 8220 , 8223 ] , \" price \" : \" 1255 \" , \" inStock \" : true , \" originalPrice \" : \" 1883 \" , \" clickTrace \" : \" query : camera nid : 410843898 src : LazadaMainSrp rn : 3e3ad865f4f6894a6f06a36a8a95a2fe region : np sku : 410843898_NP price : 1255 client : desktop supplier_id : 900270016692 biz_source : h5_unknow slot : 17 utlog_bucket_id : 470687 asc_category_id : 8223 item_id : 410843898 sku_id : 1758980004 shop_id : 184195 templateInfo : 1_A3_C 1103_L \" , \" longImageDisplayable \" : false , \" skus \" : [ { \" id \" : \"',\n",
       "  '410843898_NP 1758980004 \" } ] , \" promotionId \" : \" \" , \" isSponsored \" : false , \" tItemType \" : \" nt_product \" , \" skuType \" : \" \" , \" adFlag \" : \" 0 \" , \" directSimilarUrl \" : \" https : native m lazada com dynamicxresult item_img https 3A 2F 2Fstatic 01 daraz com np 2Fp 2F19139e3e024013488c73923fa16f4755 png src srp_findsimilar item_id 410843898 sku_id 1758980004 params 7B 22sub_src 22 3A 22long_press 22 2C 22src 22 3A 22srp_findsimilar 22 7D m tpp_findSimilar q camera similarType findSimilarV1 price 1255 00 spuTriggerItem 0 \" , \" gridTitleLine \" : \" 2 \" , \" isFission \" : \" 0 \" , \" isBadgeAutoScroll \" : false , \" showCart \" : false , \"',\n",
       "  'showBackIcon \" : false , \" showUnitPrice \" : false , \" itemUrl \" : \" www daraz com np products 34 37 39 405 43 46 49 52 55 58 62 67 72 77 82 86 95 fifty percent discount i410843898 html \" , \" querystring \" : \" fs_ab 1 priceCompare skuId 3A1758980004 3Bsource 3Alazada search voucher 3Bsn 3A3e3ad865f4f6894a6f06a36a8a95a2fe 3BoriginPrice 3A125500 3BdisplayPrice 3A125500 3BsinglePromotionId 3A 1 3BsingleToolCode 3AmockedSalePrice 3BvoucherPricePlugin 3A0 3Btimestamp 3A1758778958941 c ratingscore freeshipping 0 source search channelLpJumpArgs fuse_fs search 1 sale 0 price 1255 review location Overseas stock 1 lang en request_id 3e3ad865f4f6894a6f06a36a8a95a2fe clickTrackInfo query 253Acamera 253Bnid 253A410843898 253Bsrc 253ALazadaMainSrp 253Brn 253A3e3ad865f4f6894a6f06a36a8a95a2fe 253Bregion 253Anp 253Bsku 253A410843898_NP 253Bprice 253A1255 253Bclient 253Adesktop 253Bsupplier_id 253A900270016692 253Bbiz_source 253Ah5_unknow 253Bslot 253A17 253Butlog_bucket_id 253A470687 253Basc_category_id 253A8223 253Bitem_id 253A410843898 253Bsku_id 253A1758980004',\n",
       "  '253Bshop_id 253A184195 253BtemplateInfo 253A 1_A3_C 25231103_L 2523 \" }'],\n",
       " ['{ \" name \" : \" 10 1pcs Rear Lens Cap for Canon EOS EFS EF EF S EF DSLR SLR Mark II III IV 750D 760D DSLR Cameras Affordable \" , \" nid \" : \" 461459910 \" , \" itemId \" : \" 461459910 \" , \" icons \" : [ { \" domClass \" : \" 150565 \" , \" type \" : \" img \" , \" group \" : \" 6 \" , \" showType \" : \" 0 \" } ] , \" image \" : \" https : static 01 daraz com np p bf572f9cc4631e0bb733b207791aa163 jpg \" , \" isSmartImage \" : false , \" originalPriceShow \" : \" \" , \" priceShow \" : \" Rs 1 , 650 \"',\n",
       "  ', \" ratingScore \" : \" \" , \" review \" : \" \" , \" location \" : \" Overseas \" , \" thumbs \" : [ ] , \" sellerName \" : \" Xuanlin \" , \" sellerId \" : \" 900274656132 \" , \" brandName \" : \" No Brand \" , \" brandId \" : \" 39704 \" , \" cheapest_sku \" : \" 461459910_NP 2068290174 \" , \" skuId \" : \" 2068290174 \" , \" sku \" : \" 461459910_NP \" , \" categories \" : [ 240 , 8217 , 8220 , 8223 ] , \" price \" : \" 1650 \" , \" inStock \" : true , \" originalPrice \" : \" 2475 \" , \" clickTrace \" :',\n",
       "  '\" query : camera nid : 461459910 src : LazadaMainSrp rn : 3e3ad865f4f6894a6f06a36a8a95a2fe region : np sku : 461459910_NP price : 1650 client : desktop supplier_id : 900274656132 biz_source : h5_unknow slot : 18 utlog_bucket_id : 470687 asc_category_id : 8223 item_id : 461459910 sku_id : 2068290174 shop_id : 192903 templateInfo : 1_A3_C 1103_L \" , \" longImageDisplayable \" : false , \" skus \" : [ { \" id \" : \" 461459910_NP 2068290174 \" } ] , \" promotionId \" : \" \" , \" isSponsored \" : false , \" tItemType \" : \" nt_product \" , \" skuType \" : \" \" , \" adFlag \" : \" 0 \" , \" directSimilarUrl \" : \" https : native m lazada com dynamicxresult item_img https',\n",
       "  '3A 2F 2Fstatic 01 daraz com np 2Fp 2Fbf572f9cc4631e0bb733b207791aa163 jpg src srp_findsimilar item_id 461459910 sku_id 2068290174 params 7B 22sub_src 22 3A 22long_press 22 2C 22src 22 3A 22srp_findsimilar 22 7D m tpp_findSimilar q camera similarType findSimilarV1 price 1650 00 spuTriggerItem 0 \" , \" gridTitleLine \" : \" 2 \" , \" isFission \" : \" 0 \" , \" isBadgeAutoScroll \" : false , \" showCart \" : false , \" showBackIcon \" : false , \" showUnitPrice \" : false , \" itemUrl \" : \" www daraz com np products 750 760 10 1 pr i461459910 html \" , \" querystring \" : \" fs_ab 1 priceCompare skuId 3A2068290174 3Bsource 3Alazada search voucher 3Bsn 3A3e3ad865f4f6894a6f06a36a8a95a2fe 3BoriginPrice 3A165000 3BdisplayPrice 3A165000 3BsinglePromotionId 3A 1 3BsingleToolCode 3AmockedSalePrice 3BvoucherPricePlugin',\n",
       "  '3A0 3Btimestamp 3A1758778958941 c ratingscore freeshipping 0 source search channelLpJumpArgs fuse_fs search 1 sale 0 price 1 65E 203 review location Overseas stock 1 lang en request_id 3e3ad865f4f6894a6f06a36a8a95a2fe clickTrackInfo query 253Acamera 253Bnid 253A461459910 253Bsrc 253ALazadaMainSrp 253Brn 253A3e3ad865f4f6894a6f06a36a8a95a2fe 253Bregion 253Anp 253Bsku 253A461459910_NP 253Bprice 253A1650 253Bclient 253Adesktop 253Bsupplier_id 253A900274656132 253Bbiz_source 253Ah5_unknow 253Bslot 253A18 253Butlog_bucket_id 253A470687 253Basc_category_id 253A8223 253Bitem_id 253A461459910 253Bsku_id 253A2068290174 253Bshop_id 253A192903 253BtemplateInfo 253A 1_A3_C 25231103_L 2523 \" }'],\n",
       " ['{ \" name \" : \" 10 1pcs Rear Lens Cap for Canon EOS EFS EF EF S EF DSLR SLR Mark II III IV 750D 760D DSLR Cameras Original \" , \" nid \" : \" 463233366 \" , \" itemId \" : \" 463233366 \" , \" icons \" : [ { \" domClass \" : \" 150565 \" , \" type \" : \" img \" , \" group \" : \" 6 \" , \" showType \" : \" 0 \" } ] , \" image \" : \" https : static 01 daraz com np p bf572f9cc4631e0bb733b207791aa163 jpg \" , \" isSmartImage \" : false , \" originalPriceShow \" : \" \" , \" priceShow \" : \" Rs 1 , 640 \"',\n",
       "  ', \" ratingScore \" : \" \" , \" review \" : \" \" , \" location \" : \" Overseas \" , \" thumbs \" : [ ] , \" sellerName \" : \" Biaoliruyi \" , \" sellerId \" : \" 900268080061 \" , \" brandName \" : \" No Brand \" , \" brandId \" : \" 39704 \" , \" cheapest_sku \" : \" 463233366_NP 2076793007 \" , \" skuId \" : \" 2076793007 \" , \" sku \" : \" 463233366_NP \" , \" categories \" : [ 240 , 8217 , 8220 , 8223 ] , \" price \" : \" 1640 \" , \" inStock \" : true , \" originalPrice \" : \" 2460 \" , \" clickTrace \" :',\n",
       "  '\" query : camera nid : 463233366 src : LazadaMainSrp rn : 3e3ad865f4f6894a6f06a36a8a95a2fe region : np sku : 463233366_NP price : 1640 client : desktop supplier_id : 900268080061 biz_source : h5_unknow slot : 19 utlog_bucket_id : 470687 asc_category_id : 8223 item_id : 463233366 sku_id : 2076793007 shop_id : 181658 templateInfo : 1_A3_C 1103_L \" , \" longImageDisplayable \" : false , \" skus \" : [ { \" id \" : \" 463233366_NP 2076793007 \" } ] , \" promotionId \" : \" \" , \" isSponsored \" : false , \" tItemType \" : \" nt_product \" , \" skuType \" : \" \" , \" adFlag \" : \" 0 \" , \" directSimilarUrl \" : \" https : native m lazada com dynamicxresult item_img https',\n",
       "  '3A 2F 2Fstatic 01 daraz com np 2Fp 2Fbf572f9cc4631e0bb733b207791aa163 jpg src srp_findsimilar item_id 463233366 sku_id 2076793007 params 7B 22sub_src 22 3A 22long_press 22 2C 22src 22 3A 22srp_findsimilar 22 7D m tpp_findSimilar q camera similarType findSimilarV1 price 1640 00 spuTriggerItem 0 \" , \" gridTitleLine \" : \" 2 \" , \" isFission \" : \" 0 \" , \" isBadgeAutoScroll \" : false , \" showCart \" : false , \" showBackIcon \" : false , \" showUnitPrice \" : false , \" itemUrl \" : \" www daraz com np products 750 760 10 1 or i463233366 html \" , \" querystring \" : \" fs_ab 1 priceCompare skuId 3A2076793007 3Bsource 3Alazada search voucher 3Bsn 3A3e3ad865f4f6894a6f06a36a8a95a2fe 3BoriginPrice 3A164000 3BdisplayPrice 3A164000 3BsinglePromotionId 3A 1 3BsingleToolCode 3AmockedSalePrice 3BvoucherPricePlugin',\n",
       "  '3A0 3Btimestamp 3A1758778958941 c ratingscore freeshipping 0 source search channelLpJumpArgs fuse_fs search 1 sale 0 price 1 64E 203 review location Overseas stock 1 lang en request_id 3e3ad865f4f6894a6f06a36a8a95a2fe clickTrackInfo query 253Acamera 253Bnid 253A463233366 253Bsrc 253ALazadaMainSrp 253Brn 253A3e3ad865f4f6894a6f06a36a8a95a2fe 253Bregion 253Anp 253Bsku 253A463233366_NP 253Bprice 253A1640 253Bclient 253Adesktop 253Bsupplier_id 253A900268080061 253Bbiz_source 253Ah5_unknow 253Bslot 253A19 253Butlog_bucket_id 253A470687 253Basc_category_id 253A8223 253Bitem_id 253A463233366 253Bsku_id 253A2076793007 253Bshop_id 253A181658 253BtemplateInfo 253A 1_A3_C 25231103_L 2523 \" }'],\n",
       " ['{ \" name \" : \" MRK3C 10 1pcs Rear Lens Cap for Canon EOS EFS EF EF S EF DSLR SLR Mark II III IV 750D 760D DSLR Cameras \" , \" nid \" : \" 458571123 \" , \" itemId \" : \" 458571123 \" , \" icons \" : [ { \" domClass \" : \" 150565 \" , \" type \" : \" img \" , \" group \" : \" 6 \" , \" showType \" : \" 0 \" } , { \" domClass \" : \" 150318 \" , \" text \" : \" Gems save Rs 51 \" , \" type \" : \" text \" , \" group \" : \" 2 \" , \" showType \" : \"',\n",
       "  '0 \" } ] , \" image \" : \" https : static 01 daraz com np p 08a4a9de330f6de994683e75b1a01651 png \" , \" isSmartImage \" : false , \" originalPriceShow \" : \" \" , \" priceShow \" : \" Rs 1 , 708 \" , \" ratingScore \" : \" \" , \" review \" : \" \" , \" location \" : \" Overseas \" , \" thumbs \" : [ ] , \" sellerName \" : \" MRK3C \" , \" sellerId \" : \" 900239552459 \" , \" brandName \" : \" No Brand \" , \" brandId \" : \" 39704 \" , \" cheapest_sku \" : \" 458571123_NP 2045663421 \" , \" skuId \" : \" 2045663421 \" , \" sku \"',\n",
       "  ': \" 458571123_NP \" , \" categories \" : [ 240 , 8217 , 8220 , 8223 ] , \" price \" : \" 1708 \" , \" inStock \" : true , \" originalPrice \" : \" 2050 \" , \" clickTrace \" : \" query : camera nid : 458571123 src : LazadaMainSrp rn : 3e3ad865f4f6894a6f06a36a8a95a2fe region : np sku : 458571123_NP price : 1708 client : desktop supplier_id : 900239552459 biz_source : h5_unknow slot : 20 utlog_bucket_id : 470687 asc_category_id : 8223 item_id : 458571123 sku_id : 2045663421 shop_id : 148123 templateInfo : 1_A3_C 1103_L \" , \" longImageDisplayable \" : false , \" skus \" : [ { \" id \" : \" 458571123_NP 2045663421 \" } ] , \" promotionId \" : \"',\n",
       "  '\" , \" isSponsored \" : false , \" tItemType \" : \" nt_product \" , \" skuType \" : \" \" , \" adFlag \" : \" 0 \" , \" directSimilarUrl \" : \" https : native m lazada com dynamicxresult item_img https 3A 2F 2Fstatic 01 daraz com np 2Fp 2F08a4a9de330f6de994683e75b1a01651 png src srp_findsimilar item_id 458571123 sku_id 2045663421 params 7B 22sub_src 22 3A 22long_press 22 2C 22src 22 3A 22srp_findsimilar 22 7D m tpp_findSimilar q camera similarType findSimilarV1 price 1708 00 spuTriggerItem 0 \" , \" gridTitleLine \" : \" 2 \" , \" isFission \" : \" 0 \" , \" isBadgeAutoScroll \" : false , \" showCart \" : false , \" showBackIcon \" : false , \" showUnitPrice \" : false ,',\n",
       "  '\" itemUrl \" : \" www daraz com np products 750 760 10 1 i458571123 html \" , \" querystring \" : \" fs_ab 1 priceCompare skuId 3A2045663421 3Bsource 3Alazada search voucher 3Bsn 3A3e3ad865f4f6894a6f06a36a8a95a2fe 3BoriginPrice 3A170800 3BdisplayPrice 3A170800 3BsinglePromotionId 3A 1 3BsingleToolCode 3AmockedSalePrice 3BvoucherPricePlugin 3A0 3Btimestamp 3A1758778958941 c ratingscore freeshipping 1 source search channelLpJumpArgs fuse_fs search 1 sale 0 price 1708 review location Overseas stock 1 lang en request_id 3e3ad865f4f6894a6f06a36a8a95a2fe clickTrackInfo query 253Acamera 253Bnid 253A458571123 253Bsrc 253ALazadaMainSrp 253Brn 253A3e3ad865f4f6894a6f06a36a8a95a2fe 253Bregion 253Anp 253Bsku 253A458571123_NP 253Bprice 253A1708 253Bclient 253Adesktop 253Bsupplier_id 253A900239552459 253Bbiz_source 253Ah5_unknow 253Bslot 253A20 253Butlog_bucket_id 253A470687 253Basc_category_id 253A8223 253Bitem_id 253A458571123 253Bsku_id 253A2045663421 253Bshop_id 253A148123 253BtemplateInfo 253A 1_A3_C 25231103_L 2523 \" }'],\n",
       " ['{ \" name \" : \" 58mm Front Lens Cap Cover with Keeper for Canon EF S 18 55mm Kit Lens on for Canon T7 T6 T5 T100 4000D 2000D SL3 SL2 SL1 T8i T7i \" , \" nid \" : \" 492087274 \" , \" itemId \" : \" 492087274 \" , \" icons \" : [ { \" domClass \" : \" 150565 \" , \" type \" : \" img \" , \" group \" : \" 6 \" , \" showType \" : \" 0 \" } ] , \" image \" : \" https : static 01 daraz com np p 5df4d76a3746ead675a0e8692d30f8e1 jpg \" , \" isSmartImage \" : false , \" originalPriceShow \" : \" \" , \" priceShow \" : \"',\n",
       "  'Rs 2 , 343 \" , \" ratingScore \" : \" \" , \" review \" : \" \" , \" location \" : \" Overseas \" , \" thumbs \" : [ ] , \" sellerName \" : \" Hengyunxi \" , \" sellerId \" : \" 900281200020 \" , \" brandName \" : \" No Brand \" , \" brandId \" : \" 39704 \" , \" cheapest_sku \" : \" 492087274_NP 2209356412 \" , \" skuId \" : \" 2209356412 \" , \" sku \" : \" 492087274_NP \" , \" categories \" : [ 240 , 8217 , 8220 , 8223 ] , \" price \" : \" 2343 \" , \" inStock \" : true , \" originalPrice \" : \" 2812 \"',\n",
       "  ', \" clickTrace \" : \" query : camera nid : 492087274 src : LazadaMainSrp rn : 3e3ad865f4f6894a6f06a36a8a95a2fe region : np sku : 492087274_NP price : 2343 client : desktop supplier_id : 900281200020 biz_source : h5_unknow slot : 21 utlog_bucket_id : 470687 asc_category_id : 8223 item_id : 492087274 sku_id : 2209356412 shop_id : 199211 templateInfo : 1_A3_C 1103_L \" , \" longImageDisplayable \" : false , \" skus \" : [ { \" id \" : \" 492087274_NP 2209356412 \" } ] , \" promotionId \" : \" \" , \" isSponsored \" : false , \" tItemType \" : \" nt_product \" , \" skuType \" : \" \" , \" adFlag \" : \" 0 \" , \" directSimilarUrl \" : \" https : native m',\n",
       "  'lazada com dynamicxresult item_img https 3A 2F 2Fstatic 01 daraz com np 2Fp 2F5df4d76a3746ead675a0e8692d30f8e1 jpg src srp_findsimilar item_id 492087274 sku_id 2209356412 params 7B 22sub_src 22 3A 22long_press 22 2C 22src 22 3A 22srp_findsimilar 22 7D m tpp_findSimilar q camera similarType findSimilarV1 price 2343 00 spuTriggerItem 0 \" , \" gridTitleLine \" : \" 2 \" , \" isFission \" : \" 0 \" , \" isBadgeAutoScroll \" : false , \" showCart \" : false , \" showBackIcon \" : false , \" showUnitPrice \" : false , \" itemUrl \" : \" www daraz com np products 18 55 58 7 6 5 100 4000 2000 3 2 1 8 i492087274 html \" , \" querystring \" : \" fs_ab 1 priceCompare skuId 3A2209356412 3Bsource 3Alazada search',\n",
       "  'voucher 3Bsn 3A3e3ad865f4f6894a6f06a36a8a95a2fe 3BoriginPrice 3A234300 3BdisplayPrice 3A234300 3BsinglePromotionId 3A 1 3BsingleToolCode 3AmockedSalePrice 3BvoucherPricePlugin 3A0 3Btimestamp 3A1758778958941 c ratingscore freeshipping 0 source search channelLpJumpArgs fuse_fs search 1 sale 0 price 2343 review location Overseas stock 1 lang en request_id 3e3ad865f4f6894a6f06a36a8a95a2fe clickTrackInfo query 253Acamera 253Bnid 253A492087274 253Bsrc 253ALazadaMainSrp 253Brn 253A3e3ad865f4f6894a6f06a36a8a95a2fe 253Bregion 253Anp 253Bsku 253A492087274_NP 253Bprice 253A2343 253Bclient 253Adesktop 253Bsupplier_id 253A900281200020 253Bbiz_source 253Ah5_unknow 253Bslot 253A21 253Butlog_bucket_id 253A470687 253Basc_category_id 253A8223 253Bitem_id 253A492087274 253Bsku_id 253A2209356412 253Bshop_id 253A199211 253BtemplateInfo 253A 1_A3_C 25231103_L 2523 \" }'],\n",
       " ['{ \" name \" : \" 10 1pcs Rear Lens Cap for Canon EOS EFS EF EF S EF DSLR SLR Mark II III IV 750D 760D DSLR Cameras \" , \" nid \" : \" 488954589 \" , \" itemId \" : \" 488954589 \" , \" icons \" : [ { \" domClass \" : \" 150565 \" , \" type \" : \" img \" , \" group \" : \" 6 \" , \" showType \" : \" 0 \" } ] , \" image \" : \" https : static 01 daraz com np p dba52c0e852eb0f87e4b9d32f35e8299 jpg \" , \" isSmartImage \" : false , \" originalPriceShow \" : \" \" , \" priceShow \" : \" Rs 1 , 784 \" ,',\n",
       "  '\" ratingScore \" : \" \" , \" review \" : \" \" , \" location \" : \" Overseas \" , \" thumbs \" : [ ] , \" sellerName \" : \" Hengyunxi \" , \" sellerId \" : \" 900281200020 \" , \" brandName \" : \" No Brand \" , \" brandId \" : \" 39704 \" , \" cheapest_sku \" : \" 488954589_NP 2198349239 \" , \" skuId \" : \" 2198349239 \" , \" sku \" : \" 488954589_NP \" , \" categories \" : [ 240 , 8217 , 8220 , 8223 ] , \" price \" : \" 1784 \" , \" inStock \" : true , \" originalPrice \" : \" 2141 \" , \" clickTrace \" : \"',\n",
       "  'query : camera nid : 488954589 src : LazadaMainSrp rn : 3e3ad865f4f6894a6f06a36a8a95a2fe region : np sku : 488954589_NP price : 1784 client : desktop supplier_id : 900281200020 biz_source : h5_unknow slot : 22 utlog_bucket_id : 470687 asc_category_id : 8223 item_id : 488954589 sku_id : 2198349239 shop_id : 199211 templateInfo : 1_A3_C 1103_L \" , \" longImageDisplayable \" : false , \" skus \" : [ { \" id \" : \" 488954589_NP 2198349239 \" } ] , \" promotionId \" : \" \" , \" isSponsored \" : false , \" tItemType \" : \" nt_product \" , \" skuType \" : \" \" , \" adFlag \" : \" 0 \" , \" directSimilarUrl \" : \" https : native m lazada com dynamicxresult item_img https 3A',\n",
       "  '2F 2Fstatic 01 daraz com np 2Fp 2Fdba52c0e852eb0f87e4b9d32f35e8299 jpg src srp_findsimilar item_id 488954589 sku_id 2198349239 params 7B 22sub_src 22 3A 22long_press 22 2C 22src 22 3A 22srp_findsimilar 22 7D m tpp_findSimilar q camera similarType findSimilarV1 price 1784 00 spuTriggerItem 0 \" , \" gridTitleLine \" : \" 2 \" , \" isFission \" : \" 0 \" , \" isBadgeAutoScroll \" : false , \" showCart \" : false , \" showBackIcon \" : false , \" showUnitPrice \" : false , \" itemUrl \" : \" www daraz com np products 750 760 10 1 i488954589 html \" , \" querystring \" : \" fs_ab 1 priceCompare skuId 3A2198349239 3Bsource 3Alazada search voucher 3Bsn 3A3e3ad865f4f6894a6f06a36a8a95a2fe 3BoriginPrice 3A178400 3BdisplayPrice 3A178400 3BsinglePromotionId 3A 1 3BsingleToolCode 3AmockedSalePrice 3BvoucherPricePlugin 3A0 3Btimestamp',\n",
       "  '3A1758778958941 c ratingscore freeshipping 0 source search channelLpJumpArgs fuse_fs search 1 sale 0 price 1784 review location Overseas stock 1 lang en request_id 3e3ad865f4f6894a6f06a36a8a95a2fe clickTrackInfo query 253Acamera 253Bnid 253A488954589 253Bsrc 253ALazadaMainSrp 253Brn 253A3e3ad865f4f6894a6f06a36a8a95a2fe 253Bregion 253Anp 253Bsku 253A488954589_NP 253Bprice 253A1784 253Bclient 253Adesktop 253Bsupplier_id 253A900281200020 253Bbiz_source 253Ah5_unknow 253Bslot 253A22 253Butlog_bucket_id 253A470687 253Basc_category_id 253A8223 253Bitem_id 253A488954589 253Bsku_id 253A2198349239 253Bshop_id 253A199211 253BtemplateInfo 253A 1_A3_C 25231103_L 2523 \" }'],\n",
       " ['{ \" name \" : \" YekeBargain price 10 1pcs Rear Lens Cap for Canon EOS EFS EF EF S EF DSLR SLR Mark II III IV 750D 760D DSLR Cameras \" , \" nid \" : \" 476681642 \" , \" itemId \" : \" 476681642 \" , \" icons \" : [ { \" domClass \" : \" 150565 \" , \" type \" : \" img \" , \" group \" : \" 6 \" , \" showType \" : \" 0 \" } ] , \" image \" : \" https : static 01 daraz com np p a90cf133577371f2ba95ac858c05a4f4 png \" , \" isSmartImage \" : false , \" originalPriceShow \" : \" \" , \" priceShow \" : \" Rs 1 , 747',\n",
       "  '\" , \" ratingScore \" : \" \" , \" review \" : \" \" , \" location \" : \" Overseas \" , \" thumbs \" : [ ] , \" sellerName \" : \" Yeke \" , \" sellerId \" : \" 900291536308 \" , \" brandName \" : \" No Brand \" , \" brandId \" : \" 39704 \" , \" cheapest_sku \" : \" 476681642_NP 2118797361 \" , \" skuId \" : \" 2118797361 \" , \" sku \" : \" 476681642_NP \" , \" categories \" : [ 240 , 8217 , 8220 , 8223 ] , \" price \" : \" 1747 \" , \" inStock \" : true , \" originalPrice \" : \" 2096 \" , \" clickTrace \"',\n",
       "  ': \" query : camera nid : 476681642 src : LazadaMainSrp rn : 3e3ad865f4f6894a6f06a36a8a95a2fe region : np sku : 476681642_NP price : 1747 client : desktop supplier_id : 900291536308 biz_source : h5_unknow slot : 23 utlog_bucket_id : 470687 asc_category_id : 8223 item_id : 476681642 sku_id : 2118797361 shop_id : 209688 templateInfo : 1_A3_C 1103_L \" , \" longImageDisplayable \" : false , \" skus \" : [ { \" id \" : \" 476681642_NP 2118797361 \" } ] , \" promotionId \" : \" \" , \" isSponsored \" : false , \" tItemType \" : \" nt_product \" , \" skuType \" : \" \" , \" adFlag \" : \" 0 \" , \" directSimilarUrl \" : \" https : native m lazada com dynamicxresult item_img',\n",
       "  'https 3A 2F 2Fstatic 01 daraz com np 2Fp 2Fa90cf133577371f2ba95ac858c05a4f4 png src srp_findsimilar item_id 476681642 sku_id 2118797361 params 7B 22sub_src 22 3A 22long_press 22 2C 22src 22 3A 22srp_findsimilar 22 7D m tpp_findSimilar q camera similarType findSimilarV1 price 1747 00 spuTriggerItem 0 \" , \" gridTitleLine \" : \" 2 \" , \" isFission \" : \" 0 \" , \" isBadgeAutoScroll \" : false , \" showCart \" : false , \" showBackIcon \" : false , \" showUnitPrice \" : false , \" itemUrl \" : \" www daraz com np products 10 1 750 760 i476681642 html \" , \" querystring \" : \" fs_ab 1 priceCompare skuId 3A2118797361 3Bsource 3Alazada search voucher 3Bsn 3A3e3ad865f4f6894a6f06a36a8a95a2fe 3BoriginPrice 3A174700 3BdisplayPrice 3A174700 3BsinglePromotionId 3A 1 3BsingleToolCode 3AmockedSalePrice 3BvoucherPricePlugin',\n",
       "  '3A0 3Btimestamp 3A1758778958941 c ratingscore freeshipping 0 source search channelLpJumpArgs fuse_fs search 1 sale 0 price 1747 review location Overseas stock 1 lang en request_id 3e3ad865f4f6894a6f06a36a8a95a2fe clickTrackInfo query 253Acamera 253Bnid 253A476681642 253Bsrc 253ALazadaMainSrp 253Brn 253A3e3ad865f4f6894a6f06a36a8a95a2fe 253Bregion 253Anp 253Bsku 253A476681642_NP 253Bprice 253A1747 253Bclient 253Adesktop 253Bsupplier_id 253A900291536308 253Bbiz_source 253Ah5_unknow 253Bslot 253A23 253Butlog_bucket_id 253A470687 253Basc_category_id 253A8223 253Bitem_id 253A476681642 253Bsku_id 253A2118797361 253Bshop_id 253A209688 253BtemplateInfo 253A 1_A3_C 25231103_L 2523 \" }'],\n",
       " ['{ \" name \" : \" Wenefang 1PCS High quality 40 5 49 52 55 58 62 67 72 77 82mm Bargain price center pinch Snap on cap cover for all camera Lens \" , \" nid \" : \" 490740915 \" , \" itemId \" : \" 490740915 \" , \" icons \" : [ ] , \" image \" : \" https : static 01 daraz com np p 80043934870552196f4696a287670794 png \" , \" isSmartImage \" : false , \" originalPriceShow \" : \" \" , \" priceShow \" : \" Rs 1 , 726 \" , \" ratingScore \" : \" \" , \" review \" : \" \" , \" location \" : \" Overseas \" , \" thumbs \" : [ ] ,',\n",
       "  '\" sellerName \" : \" Jinxiangyue \" , \" sellerId \" : \" 900283920405 \" , \" brandName \" : \" No Brand \" , \" brandId \" : \" 39704 \" , \" cheapest_sku \" : \" 490740915_NP 2201776819 \" , \" skuId \" : \" 2201776819 \" , \" sku \" : \" 490740915_NP \" , \" categories \" : [ 240 , 8217 , 8220 , 8223 ] , \" price \" : \" 1726 \" , \" inStock \" : true , \" originalPrice \" : \" 2072 \" , \" clickTrace \" : \" query : camera nid : 490740915 src : LazadaMainSrp rn : 3e3ad865f4f6894a6f06a36a8a95a2fe region : np sku : 490740915_NP price : 1726 client : desktop supplier_id : 900283920405 biz_source :',\n",
       "  'h5_unknow slot : 24 utlog_bucket_id : 470687 asc_category_id : 8223 item_id : 490740915 sku_id : 2201776819 shop_id : 201040 templateInfo : 1_A3_C 1103_L \" , \" longImageDisplayable \" : false , \" skus \" : [ { \" id \" : \" 490740915_NP 2201776819 \" } ] , \" promotionId \" : \" \" , \" isSponsored \" : false , \" tItemType \" : \" nt_product \" , \" skuType \" : \" \" , \" adFlag \" : \" 0 \" , \" directSimilarUrl \" : \" https : native m lazada com dynamicxresult item_img https 3A 2F 2Fstatic 01 daraz com np 2Fp 2F80043934870552196f4696a287670794 png src srp_findsimilar item_id 490740915 sku_id 2201776819 params 7B 22sub_src 22 3A 22long_press 22 2C 22src 22 3A 22srp_findsimilar 22 7D',\n",
       "  'm tpp_findSimilar q camera similarType findSimilarV1 price 1726 00 spuTriggerItem 0 \" , \" gridTitleLine \" : \" 2 \" , \" isFission \" : \" 0 \" , \" isBadgeAutoScroll \" : false , \" showCart \" : false , \" showBackIcon \" : false , \" showUnitPrice \" : false , \" itemUrl \" : \" www daraz com np products 1 405 49 52 55 58 62 67 72 77 82 i490740915 html \" , \" querystring \" : \" fs_ab 1 priceCompare skuId 3A2201776819 3Bsource 3Alazada search voucher 3Bsn 3A3e3ad865f4f6894a6f06a36a8a95a2fe 3BoriginPrice 3A172600 3BdisplayPrice 3A172600 3BsinglePromotionId 3A 1 3BsingleToolCode 3AmockedSalePrice 3BvoucherPricePlugin 3A0 3Btimestamp 3A1758778958941 c ratingscore freeshipping 0 source search channelLpJumpArgs fuse_fs search 1 sale 0 price 1726 review location Overseas stock 1 lang en',\n",
       "  'request_id 3e3ad865f4f6894a6f06a36a8a95a2fe clickTrackInfo query 253Acamera 253Bnid 253A490740915 253Bsrc 253ALazadaMainSrp 253Brn 253A3e3ad865f4f6894a6f06a36a8a95a2fe 253Bregion 253Anp 253Bsku 253A490740915_NP 253Bprice 253A1726 253Bclient 253Adesktop 253Bsupplier_id 253A900283920405 253Bbiz_source 253Ah5_unknow 253Bslot 253A24 253Butlog_bucket_id 253A470687 253Basc_category_id 253A8223 253Bitem_id 253A490740915 253Bsku_id 253A2201776819 253Bshop_id 253A201040 253BtemplateInfo 253A 1_A3_C 25231103_L 2523 \" }'],\n",
       " ['{ \" name \" : \" 10 1pcs Rear Lens Cap for Canon EOS EFS EF EF S EF DSLR SLR Mark II III IV 750D 760D DSLR Cameras Bargain price \" , \" nid \" : \" 460136484 \" , \" itemId \" : \" 460136484 \" , \" icons \" : [ { \" domClass \" : \" 150565 \" , \" type \" : \" img \" , \" group \" : \" 6 \" , \" showType \" : \" 0 \" } ] , \" image \" : \" https : static 01 daraz com np p bf572f9cc4631e0bb733b207791aa163 jpg \" , \" isSmartImage \" : false , \" originalPriceShow \" : \" \" , \" priceShow \" : \" Rs 1 , 634',\n",
       "  '\" , \" ratingScore \" : \" \" , \" review \" : \" \" , \" location \" : \" Overseas \" , \" thumbs \" : [ ] , \" sellerName \" : \" Zedeshop \" , \" sellerId \" : \" 900274432015 \" , \" brandName \" : \" No Brand \" , \" brandId \" : \" 39704 \" , \" cheapest_sku \" : \" 460136484_NP 2060961369 \" , \" skuId \" : \" 2060961369 \" , \" sku \" : \" 460136484_NP \" , \" categories \" : [ 240 , 8217 , 8220 , 8223 ] , \" price \" : \" 1634 \" , \" inStock \" : true , \" originalPrice \" : \" 2451 \" , \" clickTrace \"',\n",
       "  ': \" query : camera nid : 460136484 src : LazadaMainSrp rn : 3e3ad865f4f6894a6f06a36a8a95a2fe region : np sku : 460136484_NP price : 1634 client : desktop supplier_id : 900274432015 biz_source : h5_unknow slot : 25 utlog_bucket_id : 470687 asc_category_id : 8223 item_id : 460136484 sku_id : 2060961369 shop_id : 192853 templateInfo : 1_A3_C 1103_L \" , \" longImageDisplayable \" : false , \" skus \" : [ { \" id \" : \" 460136484_NP 2060961369 \" } ] , \" promotionId \" : \" \" , \" isSponsored \" : false , \" tItemType \" : \" nt_product \" , \" skuType \" : \" \" , \" adFlag \" : \" 0 \" , \" directSimilarUrl \" : \" https : native m lazada com dynamicxresult item_img',\n",
       "  'https 3A 2F 2Fstatic 01 daraz com np 2Fp 2Fbf572f9cc4631e0bb733b207791aa163 jpg src srp_findsimilar item_id 460136484 sku_id 2060961369 params 7B 22sub_src 22 3A 22long_press 22 2C 22src 22 3A 22srp_findsimilar 22 7D m tpp_findSimilar q camera similarType findSimilarV1 price 1634 00 spuTriggerItem 0 \" , \" gridTitleLine \" : \" 2 \" , \" isFission \" : \" 0 \" , \" isBadgeAutoScroll \" : false , \" showCart \" : false , \" showBackIcon \" : false , \" showUnitPrice \" : false , \" itemUrl \" : \" www daraz com np products 750 760 10 1 ne i460136484 html \" , \" querystring \" : \" fs_ab 1 priceCompare skuId 3A2060961369 3Bsource 3Alazada search voucher 3Bsn 3A3e3ad865f4f6894a6f06a36a8a95a2fe 3BoriginPrice 3A163400 3BdisplayPrice 3A163400 3BsinglePromotionId 3A 1 3BsingleToolCode 3AmockedSalePrice',\n",
       "  '3BvoucherPricePlugin 3A0 3Btimestamp 3A1758778958941 c ratingscore freeshipping 0 source search channelLpJumpArgs fuse_fs search 1 sale 0 price 1634 review location Overseas stock 1 lang en request_id 3e3ad865f4f6894a6f06a36a8a95a2fe clickTrackInfo query 253Acamera 253Bnid 253A460136484 253Bsrc 253ALazadaMainSrp 253Brn 253A3e3ad865f4f6894a6f06a36a8a95a2fe 253Bregion 253Anp 253Bsku 253A460136484_NP 253Bprice 253A1634 253Bclient 253Adesktop 253Bsupplier_id 253A900274432015 253Bbiz_source 253Ah5_unknow 253Bslot 253A25 253Butlog_bucket_id 253A470687 253Basc_category_id 253A8223 253Bitem_id 253A460136484 253Bsku_id 253A2060961369 253Bshop_id 253A192853 253BtemplateInfo 253A 1_A3_C 25231103_L 2523 \" }'],\n",
       " ['{ \" name \" : \" 10 1pcs Rear Lens Cap for Canon EOS EFS EF EF S EF DSLR SLR Mark II III IV 750D 760D DSLR Cameras \" , \" nid \" : \" 482000454 \" , \" itemId \" : \" 482000454 \" , \" icons \" : [ ] , \" image \" : \" https : static 01 daraz com np p 7e579aa4dd2c84c88a300ca4807f54bc jpg \" , \" isSmartImage \" : false , \" originalPriceShow \" : \" \" , \" priceShow \" : \" Rs 1 , 803 \" , \" ratingScore \" : \" \" , \" review \" : \" \" , \" location \" : \" Overseas \" , \" thumbs \" : [ ] , \" sellerName \" :',\n",
       "  '\" Jinxiangyue \" , \" sellerId \" : \" 900283920405 \" , \" brandName \" : \" No Brand \" , \" brandId \" : \" 39704 \" , \" cheapest_sku \" : \" 482000454_NP 2171964688 \" , \" skuId \" : \" 2171964688 \" , \" sku \" : \" 482000454_NP \" , \" categories \" : [ 240 , 8217 , 8220 , 8223 ] , \" price \" : \" 1803 \" , \" inStock \" : true , \" originalPrice \" : \" 2164 \" , \" clickTrace \" : \" query : camera nid : 482000454 src : LazadaMainSrp rn : 3e3ad865f4f6894a6f06a36a8a95a2fe region : np sku : 482000454_NP price : 1803 client : desktop supplier_id : 900283920405 biz_source : h5_unknow slot : 26',\n",
       "  'utlog_bucket_id : 470687 asc_category_id : 8223 item_id : 482000454 sku_id : 2171964688 shop_id : 201040 templateInfo : 1_A3_C 1103_L \" , \" longImageDisplayable \" : false , \" skus \" : [ { \" id \" : \" 482000454_NP 2171964688 \" } ] , \" promotionId \" : \" \" , \" isSponsored \" : false , \" tItemType \" : \" nt_product \" , \" skuType \" : \" \" , \" adFlag \" : \" 0 \" , \" directSimilarUrl \" : \" https : native m lazada com dynamicxresult item_img https 3A 2F 2Fstatic 01 daraz com np 2Fp 2F7e579aa4dd2c84c88a300ca4807f54bc jpg src srp_findsimilar item_id 482000454 sku_id 2171964688 params 7B 22sub_src 22 3A 22long_press 22 2C 22src 22 3A 22srp_findsimilar 22 7D m tpp_findSimilar q camera',\n",
       "  'similarType findSimilarV1 price 1803 00 spuTriggerItem 0 \" , \" gridTitleLine \" : \" 2 \" , \" isFission \" : \" 0 \" , \" isBadgeAutoScroll \" : false , \" showCart \" : false , \" showBackIcon \" : false , \" showUnitPrice \" : false , \" itemUrl \" : \" www daraz com np products 750 760 10 1 i482000454 html \" , \" querystring \" : \" fs_ab 1 priceCompare skuId 3A2171964688 3Bsource 3Alazada search voucher 3Bsn 3A3e3ad865f4f6894a6f06a36a8a95a2fe 3BoriginPrice 3A180300 3BdisplayPrice 3A180300 3BsinglePromotionId 3A 1 3BsingleToolCode 3AmockedSalePrice 3BvoucherPricePlugin 3A0 3Btimestamp 3A1758778958941 c ratingscore freeshipping 0 source search channelLpJumpArgs fuse_fs search 1 sale 0 price 1803 review location Overseas stock 1 lang en request_id 3e3ad865f4f6894a6f06a36a8a95a2fe clickTrackInfo query 253Acamera 253Bnid 253A482000454 253Bsrc 253ALazadaMainSrp 253Brn 253A3e3ad865f4f6894a6f06a36a8a95a2fe',\n",
       "  '253Bregion 253Anp 253Bsku 253A482000454_NP 253Bprice 253A1803 253Bclient 253Adesktop 253Bsupplier_id 253A900283920405 253Bbiz_source 253Ah5_unknow 253Bslot 253A26 253Butlog_bucket_id 253A470687 253Basc_category_id 253A8223 253Bitem_id 253A482000454 253Bsku_id 253A2171964688 253Bshop_id 253A201040 253BtemplateInfo 253A 1_A3_C 25231103_L 2523 \" }'],\n",
       " ['{ \" name \" : \" LutingFifty percent discount 10 1pcs Rear Lens Cap for Canon EOS EFS EF EF S EF DSLR SLR Mark II III IV 750D 760D DSLR Cameras \" , \" nid \" : \" 476687623 \" , \" itemId \" : \" 476687623 \" , \" icons \" : [ { \" domClass \" : \" 150565 \" , \" type \" : \" img \" , \" group \" : \" 6 \" , \" showType \" : \" 0 \" } ] , \" image \" : \" https : static 01 daraz com np p 92a9fa67014b0f4ea602f138f5bc56d3 png \" , \" isSmartImage \" : false , \" originalPriceShow \" : \" \" , \" priceShow \" : \" Rs 1 ,',\n",
       "  '690 \" , \" ratingScore \" : \" \" , \" review \" : \" \" , \" location \" : \" Overseas \" , \" thumbs \" : [ ] , \" sellerName \" : \" Luting \" , \" sellerId \" : \" 900291584034 \" , \" brandName \" : \" No Brand \" , \" brandId \" : \" 39704 \" , \" cheapest_sku \" : \" 476687623_NP 2118800826 \" , \" skuId \" : \" 2118800826 \" , \" sku \" : \" 476687623_NP \" , \" categories \" : [ 240 , 8217 , 8220 , 8223 ] , \" price \" : \" 1690 \" , \" inStock \" : true , \" originalPrice \" : \" 2029 \" , \" clickTrace',\n",
       "  '\" : \" query : camera nid : 476687623 src : LazadaMainSrp rn : 3e3ad865f4f6894a6f06a36a8a95a2fe region : np sku : 476687623_NP price : 1690 client : desktop supplier_id : 900291584034 biz_source : h5_unknow slot : 27 utlog_bucket_id : 470687 asc_category_id : 8223 item_id : 476687623 sku_id : 2118800826 shop_id : 209614 templateInfo : 1_A3_C 1103_L \" , \" longImageDisplayable \" : false , \" skus \" : [ { \" id \" : \" 476687623_NP 2118800826 \" } ] , \" promotionId \" : \" \" , \" isSponsored \" : false , \" tItemType \" : \" nt_product \" , \" skuType \" : \" \" , \" adFlag \" : \" 0 \" , \" directSimilarUrl \" : \" https : native m lazada com dynamicxresult',\n",
       "  'item_img https 3A 2F 2Fstatic 01 daraz com np 2Fp 2F92a9fa67014b0f4ea602f138f5bc56d3 png src srp_findsimilar item_id 476687623 sku_id 2118800826 params 7B 22sub_src 22 3A 22long_press 22 2C 22src 22 3A 22srp_findsimilar 22 7D m tpp_findSimilar q camera similarType findSimilarV1 price 1690 00 spuTriggerItem 0 \" , \" gridTitleLine \" : \" 2 \" , \" isFission \" : \" 0 \" , \" isBadgeAutoScroll \" : false , \" showCart \" : false , \" showBackIcon \" : false , \" showUnitPrice \" : false , \" itemUrl \" : \" www daraz com np products 760 10 1 i476687623 html \" , \" querystring \" : \" fs_ab 1 priceCompare skuId 3A2118800826 3Bsource 3Alazada search voucher 3Bsn 3A3e3ad865f4f6894a6f06a36a8a95a2fe 3BoriginPrice 3A169000 3BdisplayPrice 3A169000 3BsinglePromotionId 3A 1 3BsingleToolCode 3AmockedSalePrice 3BvoucherPricePlugin',\n",
       "  '3A0 3Btimestamp 3A1758778958941 c ratingscore freeshipping 0 source search channelLpJumpArgs fuse_fs search 1 sale 0 price 1 69E 203 review location Overseas stock 1 lang en request_id 3e3ad865f4f6894a6f06a36a8a95a2fe clickTrackInfo query 253Acamera 253Bnid 253A476687623 253Bsrc 253ALazadaMainSrp 253Brn 253A3e3ad865f4f6894a6f06a36a8a95a2fe 253Bregion 253Anp 253Bsku 253A476687623_NP 253Bprice 253A1690 253Bclient 253Adesktop 253Bsupplier_id 253A900291584034 253Bbiz_source 253Ah5_unknow 253Bslot 253A27 253Butlog_bucket_id 253A470687 253Basc_category_id 253A8223 253Bitem_id 253A476687623 253Bsku_id 253A2118800826 253Bshop_id 253A209614 253BtemplateInfo 253A 1_A3_C 25231103_L 2523 \" }'],\n",
       " ['{ \" name \" : \" Zaozhixunba10 1pcs Rear Lens Cap for Canon EOS EFS EF EF S EF DSLR SLR Mark II III IV 750D 760D DSLR Cameras \" , \" nid \" : \" 456233309 \" , \" itemId \" : \" 456233309 \" , \" icons \" : [ ] , \" image \" : \" https : static 01 daraz com np p f8f82e70fe306ad6582d61108d6e6919 png \" , \" isSmartImage \" : false , \" originalPriceShow \" : \" \" , \" priceShow \" : \" Rs 1 , 631 \" , \" ratingScore \" : \" \" , \" review \" : \" \" , \" location \" : \" Overseas \" , \" thumbs \" : [ ] , \" sellerName \" :',\n",
       "  '\" Zaozhixunba \" , \" sellerId \" : \" 900275920279 \" , \" brandName \" : \" No Brand \" , \" brandId \" : \" 39704 \" , \" cheapest_sku \" : \" 456233309_NP 2022872268 \" , \" skuId \" : \" 2022872268 \" , \" sku \" : \" 456233309_NP \" , \" categories \" : [ 240 , 8217 , 8220 , 8223 ] , \" price \" : \" 1631 \" , \" inStock \" : true , \" originalPrice \" : \" 1957 \" , \" clickTrace \" : \" query : camera nid : 456233309 src : LazadaMainSrp rn : 3e3ad865f4f6894a6f06a36a8a95a2fe region : np sku : 456233309_NP price : 1631 client : desktop supplier_id : 900275920279 biz_source : h5_unknow slot : 28',\n",
       "  'utlog_bucket_id : 470687 asc_category_id : 8223 item_id : 456233309 sku_id : 2022872268 shop_id : 194913 templateInfo : 1_A3_C 1103_L \" , \" longImageDisplayable \" : false , \" skus \" : [ { \" id \" : \" 456233309_NP 2022872268 \" } ] , \" promotionId \" : \" \" , \" isSponsored \" : false , \" tItemType \" : \" nt_product \" , \" skuType \" : \" \" , \" adFlag \" : \" 0 \" , \" directSimilarUrl \" : \" https : native m lazada com dynamicxresult item_img https 3A 2F 2Fstatic 01 daraz com np 2Fp 2Ff8f82e70fe306ad6582d61108d6e6919 png src srp_findsimilar item_id 456233309 sku_id 2022872268 params 7B 22sub_src 22 3A 22long_press 22 2C 22src 22 3A 22srp_findsimilar 22 7D m tpp_findSimilar q camera',\n",
       "  'similarType findSimilarV1 price 1631 00 spuTriggerItem 0 \" , \" gridTitleLine \" : \" 2 \" , \" isFission \" : \" 0 \" , \" isBadgeAutoScroll \" : false , \" showCart \" : false , \" showBackIcon \" : false , \" showUnitPrice \" : false , \" itemUrl \" : \" www daraz com np products 750 760 10 1 i456233309 html \" , \" querystring \" : \" fs_ab 1 priceCompare skuId 3A2022872268 3Bsource 3Alazada search voucher 3Bsn 3A3e3ad865f4f6894a6f06a36a8a95a2fe 3BoriginPrice 3A163100 3BdisplayPrice 3A163100 3BsinglePromotionId 3A 1 3BsingleToolCode 3AmockedSalePrice 3BvoucherPricePlugin 3A0 3Btimestamp 3A1758778958941 c ratingscore freeshipping 0 source search channelLpJumpArgs fuse_fs search 1 sale 0 price 1631 review location Overseas stock 1 lang en request_id 3e3ad865f4f6894a6f06a36a8a95a2fe clickTrackInfo query 253Acamera 253Bnid 253A456233309 253Bsrc 253ALazadaMainSrp 253Brn 253A3e3ad865f4f6894a6f06a36a8a95a2fe',\n",
       "  '253Bregion 253Anp 253Bsku 253A456233309_NP 253Bprice 253A1631 253Bclient 253Adesktop 253Bsupplier_id 253A900275920279 253Bbiz_source 253Ah5_unknow 253Bslot 253A28 253Butlog_bucket_id 253A470687 253Basc_category_id 253A8223 253Bitem_id 253A456233309 253Bsku_id 253A2022872268 253Bshop_id 253A194913 253BtemplateInfo 253A 1_A3_C 25231103_L 2523 \" }'],\n",
       " ['{ \" name \" : \" Wenefang High quality 40 5 49 52 55 58 62 67 72 77 82mm center Bargain price pinch Snap on cap cover for all camera Lens \" , \" nid \" : \" 411439816 \" , \" itemId \" : \" 411439816 \" , \" icons \" : [ { \" domClass \" : \" 150565 \" , \" type \" : \" img \" , \" group \" : \" 6 \" , \" showType \" : \" 0 \" } , { \" domClass \" : \" 150318 \" , \" text \" : \" Gems save Rs 48 \" , \" type \" : \" text \" , \" group \" : \" 2 \" , \" showType \"',\n",
       "  ': \" 0 \" } ] , \" image \" : \" https : static 01 daraz com np p 7a07ffc4f097e6645702afcfebaf4fe4 png \" , \" isSmartImage \" : false , \" originalPriceShow \" : \" \" , \" priceShow \" : \" Rs 1 , 593 \" , \" ratingScore \" : \" \" , \" review \" : \" \" , \" location \" : \" Overseas \" , \" thumbs \" : [ ] , \" sellerName \" : \" Wenefang \" , \" sellerId \" : \" 900270016692 \" , \" brandName \" : \" No Brand \" , \" brandId \" : \" 39704 \" , \" cheapest_sku \" : \" 411439816_NP 1765897706 \" , \" skuId \" : \" 1765897706 \" , \"',\n",
       "  'sku \" : \" 411439816_NP \" , \" categories \" : [ 240 , 8217 , 8220 , 8223 ] , \" price \" : \" 1593 \" , \" inStock \" : true , \" originalPrice \" : \" 2390 \" , \" clickTrace \" : \" query : camera nid : 411439816 src : LazadaMainSrp rn : 3e3ad865f4f6894a6f06a36a8a95a2fe region : np sku : 411439816_NP price : 1593 client : desktop supplier_id : 900270016692 biz_source : h5_unknow slot : 29 utlog_bucket_id : 470687 asc_category_id : 8223 item_id : 411439816 sku_id : 1765897706 shop_id : 184195 templateInfo : 1_A3_C 1103_L \" , \" longImageDisplayable \" : false , \" skus \" : [ { \" id \" : \" 411439816_NP 1765897706 \" } ] , \" promotionId \"',\n",
       "  ': \" \" , \" isSponsored \" : false , \" tItemType \" : \" nt_product \" , \" skuType \" : \" \" , \" adFlag \" : \" 0 \" , \" directSimilarUrl \" : \" https : native m lazada com dynamicxresult item_img https 3A 2F 2Fstatic 01 daraz com np 2Fp 2F7a07ffc4f097e6645702afcfebaf4fe4 png src srp_findsimilar item_id 411439816 sku_id 1765897706 params 7B 22sub_src 22 3A 22long_press 22 2C 22src 22 3A 22srp_findsimilar 22 7D m tpp_findSimilar q camera similarType findSimilarV1 price 1593 00 spuTriggerItem 0 \" , \" gridTitleLine \" : \" 2 \" , \" isFission \" : \" 0 \" , \" isBadgeAutoScroll \" : false , \" showCart \" : false , \" showBackIcon \" : false , \" showUnitPrice \" :',\n",
       "  'false , \" itemUrl \" : \" www daraz com np products 405 49 52 55 58 62 67 72 77 82 bargain price i411439816 html \" , \" querystring \" : \" fs_ab 1 priceCompare skuId 3A1765897706 3Bsource 3Alazada search voucher 3Bsn 3A3e3ad865f4f6894a6f06a36a8a95a2fe 3BoriginPrice 3A159300 3BdisplayPrice 3A159300 3BsinglePromotionId 3A 1 3BsingleToolCode 3AmockedSalePrice 3BvoucherPricePlugin 3A0 3Btimestamp 3A1758778958941 c ratingscore freeshipping 0 source search channelLpJumpArgs fuse_fs search 1 sale 0 price 1593 review location Overseas stock 1 lang en request_id 3e3ad865f4f6894a6f06a36a8a95a2fe clickTrackInfo query 253Acamera 253Bnid 253A411439816 253Bsrc 253ALazadaMainSrp 253Brn 253A3e3ad865f4f6894a6f06a36a8a95a2fe 253Bregion 253Anp 253Bsku 253A411439816_NP 253Bprice 253A1593 253Bclient 253Adesktop 253Bsupplier_id 253A900270016692 253Bbiz_source 253Ah5_unknow 253Bslot 253A29 253Butlog_bucket_id 253A470687 253Basc_category_id 253A8223 253Bitem_id 253A411439816 253Bsku_id 253A1765897706 253Bshop_id 253A184195 253BtemplateInfo 253A 1_A3_C 25231103_L 2523 \" }'],\n",
       " ['{ \" name \" : \" KuejutanOriginal 10 1pcs Rear Lens Cap for Canon EOS EFS EF EF S EF DSLR SLR Mark II III IV 750D 760D DSLR Cameras \" , \" nid \" : \" 468476171 \" , \" itemId \" : \" 468476171 \" , \" icons \" : [ { \" domClass \" : \" 150565 \" , \" type \" : \" img \" , \" group \" : \" 6 \" , \" showType \" : \" 0 \" } ] , \" image \" : \" https : static 01 daraz com np p cf2bd51961d45d25bc6eee5fda1e0320 png \" , \" isSmartImage \" : false , \" originalPriceShow \" : \" \" , \" priceShow \" : \" Rs 1 , 653 \"',\n",
       "  ', \" ratingScore \" : \" \" , \" review \" : \" \" , \" location \" : \" Overseas \" , \" thumbs \" : [ ] , \" sellerName \" : \" Kuejutan \" , \" sellerId \" : \" 900275824520 \" , \" brandName \" : \" No Brand \" , \" brandId \" : \" 39704 \" , \" cheapest_sku \" : \" 468476171_NP 2089678931 \" , \" skuId \" : \" 2089678931 \" , \" sku \" : \" 468476171_NP \" , \" categories \" : [ 240 , 8217 , 8220 , 8223 ] , \" price \" : \" 1653 \" , \" inStock \" : true , \" originalPrice \" : \" 2479 \" , \" clickTrace \" :',\n",
       "  '\" query : camera nid : 468476171 src : LazadaMainSrp rn : 3e3ad865f4f6894a6f06a36a8a95a2fe region : np sku : 468476171_NP price : 1653 client : desktop supplier_id : 900275824520 biz_source : h5_unknow slot : 30 utlog_bucket_id : 470687 asc_category_id : 8223 item_id : 468476171 sku_id : 2089678931 shop_id : 194937 templateInfo : 1_A3_C 1103_L \" , \" longImageDisplayable \" : false , \" skus \" : [ { \" id \" : \" 468476171_NP 2089678931 \" } ] , \" promotionId \" : \" \" , \" isSponsored \" : false , \" tItemType \" : \" nt_product \" , \" skuType \" : \" \" , \" adFlag \" : \" 0 \" , \" directSimilarUrl \" : \" https : native m lazada com dynamicxresult item_img https',\n",
       "  '3A 2F 2Fstatic 01 daraz com np 2Fp 2Fcf2bd51961d45d25bc6eee5fda1e0320 png src srp_findsimilar item_id 468476171 sku_id 2089678931 params 7B 22sub_src 22 3A 22long_press 22 2C 22src 22 3A 22srp_findsimilar 22 7D m tpp_findSimilar q camera similarType findSimilarV1 price 1653 00 spuTriggerItem 0 \" , \" gridTitleLine \" : \" 2 \" , \" isFission \" : \" 0 \" , \" isBadgeAutoScroll \" : false , \" showCart \" : false , \" showBackIcon \" : false , \" showUnitPrice \" : false , \" itemUrl \" : \" www daraz com np products original 750 760 10 1 i468476171 html \" , \" querystring \" : \" fs_ab 1 priceCompare skuId 3A2089678931 3Bsource 3Alazada search voucher 3Bsn 3A3e3ad865f4f6894a6f06a36a8a95a2fe 3BoriginPrice 3A165300 3BdisplayPrice 3A165300 3BsinglePromotionId 3A 1 3BsingleToolCode 3AmockedSalePrice 3BvoucherPricePlugin',\n",
       "  '3A0 3Btimestamp 3A1758778958941 c ratingscore freeshipping 0 source search channelLpJumpArgs fuse_fs search 1 sale 0 price 1653 review location Overseas stock 1 lang en request_id 3e3ad865f4f6894a6f06a36a8a95a2fe clickTrackInfo query 253Acamera 253Bnid 253A468476171 253Bsrc 253ALazadaMainSrp 253Brn 253A3e3ad865f4f6894a6f06a36a8a95a2fe 253Bregion 253Anp 253Bsku 253A468476171_NP 253Bprice 253A1653 253Bclient 253Adesktop 253Bsupplier_id 253A900275824520 253Bbiz_source 253Ah5_unknow 253Bslot 253A30 253Butlog_bucket_id 253A470687 253Basc_category_id 253A8223 253Bitem_id 253A468476171 253Bsku_id 253A2089678931 253Bshop_id 253A194937 253BtemplateInfo 253A 1_A3_C 25231103_L 2523 \" }'],\n",
       " ['{ \" name \" : \" Likewen2025 10 1pcs Rear Lens Cap for Canon EOS EFS EF EF S EF DSLR SLR Mark II III IV 750D 760D DSLR Cameras \" , \" nid \" : \" 476681780 \" , \" itemId \" : \" 476681780 \" , \" icons \" : [ { \" domClass \" : \" 150565 \" , \" type \" : \" img \" , \" group \" : \" 6 \" , \" showType \" : \" 0 \" } ] , \" image \" : \" https : static 01 daraz com np p 24e2ac3dbf4ce522bc693cfdde8e504e png \" , \" isSmartImage \" : false , \" originalPriceShow \" : \" \" , \" priceShow \" : \" Rs 1 , 803 \"',\n",
       "  ', \" ratingScore \" : \" \" , \" review \" : \" \" , \" location \" : \" Overseas \" , \" thumbs \" : [ ] , \" sellerName \" : \" Likewen \" , \" sellerId \" : \" 900291376964 \" , \" brandName \" : \" No Brand \" , \" brandId \" : \" 39704 \" , \" cheapest_sku \" : \" 476681780_NP 2118868212 \" , \" skuId \" : \" 2118868212 \" , \" sku \" : \" 476681780_NP \" , \" categories \" : [ 240 , 8217 , 8220 , 8223 ] , \" price \" : \" 1803 \" , \" inStock \" : true , \" originalPrice \" : \" 2164 \" , \" clickTrace \" :',\n",
       "  '\" query : camera nid : 476681780 src : LazadaMainSrp rn : 3e3ad865f4f6894a6f06a36a8a95a2fe region : np sku : 476681780_NP price : 1803 client : desktop supplier_id : 900291376964 biz_source : h5_unknow slot : 31 utlog_bucket_id : 470687 asc_category_id : 8223 item_id : 476681780 sku_id : 2118868212 shop_id : 209699 templateInfo : 1_A3_C 1103_L \" , \" longImageDisplayable \" : false , \" skus \" : [ { \" id \" : \" 476681780_NP 2118868212 \" } ] , \" promotionId \" : \" \" , \" isSponsored \" : false , \" tItemType \" : \" nt_product \" , \" skuType \" : \" \" , \" adFlag \" : \" 0 \" , \" directSimilarUrl \" : \" https : native m lazada com dynamicxresult item_img https',\n",
       "  '3A 2F 2Fstatic 01 daraz com np 2Fp 2F24e2ac3dbf4ce522bc693cfdde8e504e png src srp_findsimilar item_id 476681780 sku_id 2118868212 params 7B 22sub_src 22 3A 22long_press 22 2C 22src 22 3A 22srp_findsimilar 22 7D m tpp_findSimilar q camera similarType findSimilarV1 price 1803 00 spuTriggerItem 0 \" , \" gridTitleLine \" : \" 2 \" , \" isFission \" : \" 0 \" , \" isBadgeAutoScroll \" : false , \" showCart \" : false , \" showBackIcon \" : false , \" showUnitPrice \" : false , \" itemUrl \" : \" www daraz com np products 2025 10 1 750 760 i476681780 html \" , \" querystring \" : \" fs_ab 1 priceCompare skuId 3A2118868212 3Bsource 3Alazada search voucher 3Bsn 3A3e3ad865f4f6894a6f06a36a8a95a2fe 3BoriginPrice 3A180300 3BdisplayPrice 3A180300 3BsinglePromotionId 3A 1 3BsingleToolCode 3AmockedSalePrice 3BvoucherPricePlugin',\n",
       "  '3A0 3Btimestamp 3A1758778958941 c ratingscore freeshipping 0 source search channelLpJumpArgs fuse_fs search 1 sale 0 price 1803 review location Overseas stock 1 lang en request_id 3e3ad865f4f6894a6f06a36a8a95a2fe clickTrackInfo query 253Acamera 253Bnid 253A476681780 253Bsrc 253ALazadaMainSrp 253Brn 253A3e3ad865f4f6894a6f06a36a8a95a2fe 253Bregion 253Anp 253Bsku 253A476681780_NP 253Bprice 253A1803 253Bclient 253Adesktop 253Bsupplier_id 253A900291376964 253Bbiz_source 253Ah5_unknow 253Bslot 253A31 253Butlog_bucket_id 253A470687 253Basc_category_id 253A8223 253Bitem_id 253A476681780 253Bsku_id 253A2118868212 253Bshop_id 253A209699 253BtemplateInfo 253A 1_A3_C 25231103_L 2523 \" }'],\n",
       " ['{ \" name \" : \" 10 1pcs Rear Lens Cap for Canon EOS EFS EF EF S EF DSLR SLR Mark II III IV 750D 760D DSLR Cameras Fifty percent discount \" , \" nid \" : \" 472961457 \" , \" itemId \" : \" 472961457 \" , \" icons \" : [ { \" domClass \" : \" 150565 \" , \" type \" : \" img \" , \" group \" : \" 6 \" , \" showType \" : \" 0 \" } ] , \" image \" : \" https : static 01 daraz com np p bf572f9cc4631e0bb733b207791aa163 jpg \" , \" isSmartImage \" : false , \" originalPriceShow \" : \" \" , \" priceShow \" : \" Rs 1 ,',\n",
       "  '655 \" , \" ratingScore \" : \" \" , \" review \" : \" \" , \" location \" : \" Overseas \" , \" thumbs \" : [ ] , \" sellerName \" : \" Baoliuzhe \" , \" sellerId \" : \" 900269024163 \" , \" brandName \" : \" No Brand \" , \" brandId \" : \" 39704 \" , \" cheapest_sku \" : \" 472961457_NP 2096797164 \" , \" skuId \" : \" 2096797164 \" , \" sku \" : \" 472961457_NP \" , \" categories \" : [ 240 , 8217 , 8220 , 8223 ] , \" price \" : \" 1655 \" , \" inStock \" : true , \" originalPrice \" : \" 1986 \" , \" clickTrace',\n",
       "  '\" : \" query : camera nid : 472961457 src : LazadaMainSrp rn : 3e3ad865f4f6894a6f06a36a8a95a2fe region : np sku : 472961457_NP price : 1655 client : desktop supplier_id : 900269024163 biz_source : h5_unknow slot : 32 utlog_bucket_id : 470687 asc_category_id : 8223 item_id : 472961457 sku_id : 2096797164 shop_id : 181657 templateInfo : 1_A3_C 1103_L \" , \" longImageDisplayable \" : false , \" skus \" : [ { \" id \" : \" 472961457_NP 2096797164 \" } ] , \" promotionId \" : \" \" , \" isSponsored \" : false , \" tItemType \" : \" nt_product \" , \" skuType \" : \" \" , \" adFlag \" : \" 0 \" , \" directSimilarUrl \" : \" https : native m lazada com dynamicxresult',\n",
       "  'item_img https 3A 2F 2Fstatic 01 daraz com np 2Fp 2Fbf572f9cc4631e0bb733b207791aa163 jpg src srp_findsimilar item_id 472961457 sku_id 2096797164 params 7B 22sub_src 22 3A 22long_press 22 2C 22src 22 3A 22srp_findsimilar 22 7D m tpp_findSimilar q camera similarType findSimilarV1 price 1655 00 spuTriggerItem 0 \" , \" gridTitleLine \" : \" 2 \" , \" isFission \" : \" 0 \" , \" isBadgeAutoScroll \" : false , \" showCart \" : false , \" showBackIcon \" : false , \" showUnitPrice \" : false , \" itemUrl \" : \" www daraz com np products 750 760 10 1 i472961457 html \" , \" querystring \" : \" fs_ab 1 priceCompare skuId 3A2096797164 3Bsource 3Alazada search voucher 3Bsn 3A3e3ad865f4f6894a6f06a36a8a95a2fe 3BoriginPrice 3A165500 3BdisplayPrice 3A165500 3BsinglePromotionId 3A 1 3BsingleToolCode 3AmockedSalePrice',\n",
       "  '3BvoucherPricePlugin 3A0 3Btimestamp 3A1758778958941 c ratingscore freeshipping 0 source search channelLpJumpArgs fuse_fs search 1 sale 0 price 1655 review location Overseas stock 1 lang en request_id 3e3ad865f4f6894a6f06a36a8a95a2fe clickTrackInfo query 253Acamera 253Bnid 253A472961457 253Bsrc 253ALazadaMainSrp 253Brn 253A3e3ad865f4f6894a6f06a36a8a95a2fe 253Bregion 253Anp 253Bsku 253A472961457_NP 253Bprice 253A1655 253Bclient 253Adesktop 253Bsupplier_id 253A900269024163 253Bbiz_source 253Ah5_unknow 253Bslot 253A32 253Butlog_bucket_id 253A470687 253Basc_category_id 253A8223 253Bitem_id 253A472961457 253Bsku_id 253A2096797164 253Bshop_id 253A181657 253BtemplateInfo 253A 1_A3_C 25231103_L 2523 \" }'],\n",
       " ['{ \" name \" : \" ChanxiFifty percent discount 10 1pcs Rear Lens Cap for Canon EOS EFS EF EF S EF DSLR SLR Mark II III IV 750D 760D DSLR Cameras \" , \" nid \" : \" 476706180 \" , \" itemId \" : \" 476706180 \" , \" icons \" : [ { \" domClass \" : \" 150565 \" , \" type \" : \" img \" , \" group \" : \" 6 \" , \" showType \" : \" 0 \" } ] , \" image \" : \" https : static 01 daraz com np p 404b13b3d4f6650f8627b4c6ccd72a1c png \" , \" isSmartImage \" : false , \" originalPriceShow \" : \" \" , \" priceShow \" : \" Rs 1 ,',\n",
       "  '709 \" , \" ratingScore \" : \" \" , \" review \" : \" \" , \" location \" : \" Overseas \" , \" thumbs \" : [ ] , \" sellerName \" : \" Chanxi \" , \" sellerId \" : \" 900291200956 \" , \" brandName \" : \" No Brand \" , \" brandId \" : \" 39704 \" , \" cheapest_sku \" : \" 476706180_NP 2118817483 \" , \" skuId \" : \" 2118817483 \" , \" sku \" : \" 476706180_NP \" , \" categories \" : [ 240 , 8217 , 8220 , 8223 ] , \" price \" : \" 1709 \" , \" inStock \" : true , \" originalPrice \" : \" 2051 \" , \" clickTrace',\n",
       "  '\" : \" query : camera nid : 476706180 src : LazadaMainSrp rn : 3e3ad865f4f6894a6f06a36a8a95a2fe region : np sku : 476706180_NP price : 1709 client : desktop supplier_id : 900291200956 biz_source : h5_unknow slot : 33 utlog_bucket_id : 470687 asc_category_id : 8223 item_id : 476706180 sku_id : 2118817483 shop_id : 209606 templateInfo : 1_A3_C 1103_L \" , \" longImageDisplayable \" : false , \" skus \" : [ { \" id \" : \" 476706180_NP 2118817483 \" } ] , \" promotionId \" : \" \" , \" isSponsored \" : false , \" tItemType \" : \" nt_product \" , \" skuType \" : \" \" , \" adFlag \" : \" 0 \" , \" directSimilarUrl \" : \" https : native m lazada com dynamicxresult',\n",
       "  'item_img https 3A 2F 2Fstatic 01 daraz com np 2Fp 2F404b13b3d4f6650f8627b4c6ccd72a1c png src srp_findsimilar item_id 476706180 sku_id 2118817483 params 7B 22sub_src 22 3A 22long_press 22 2C 22src 22 3A 22srp_findsimilar 22 7D m tpp_findSimilar q camera similarType findSimilarV1 price 1709 00 spuTriggerItem 0 \" , \" gridTitleLine \" : \" 2 \" , \" isFission \" : \" 0 \" , \" isBadgeAutoScroll \" : false , \" showCart \" : false , \" showBackIcon \" : false , \" showUnitPrice \" : false , \" itemUrl \" : \" www daraz com np products 760 10 1 i476706180 html \" , \" querystring \" : \" fs_ab 1 priceCompare skuId 3A2118817483 3Bsource 3Alazada search voucher 3Bsn 3A3e3ad865f4f6894a6f06a36a8a95a2fe 3BoriginPrice 3A170900 3BdisplayPrice 3A170900 3BsinglePromotionId 3A 1 3BsingleToolCode 3AmockedSalePrice 3BvoucherPricePlugin',\n",
       "  '3A0 3Btimestamp 3A1758778958941 c ratingscore freeshipping 0 source search channelLpJumpArgs fuse_fs search 1 sale 0 price 1709 review location Overseas stock 1 lang en request_id 3e3ad865f4f6894a6f06a36a8a95a2fe clickTrackInfo query 253Acamera 253Bnid 253A476706180 253Bsrc 253ALazadaMainSrp 253Brn 253A3e3ad865f4f6894a6f06a36a8a95a2fe 253Bregion 253Anp 253Bsku 253A476706180_NP 253Bprice 253A1709 253Bclient 253Adesktop 253Bsupplier_id 253A900291200956 253Bbiz_source 253Ah5_unknow 253Bslot 253A33 253Butlog_bucket_id 253A470687 253Basc_category_id 253A8223 253Bitem_id 253A476706180 253Bsku_id 253A2118817483 253Bshop_id 253A209606 253BtemplateInfo 253A 1_A3_C 25231103_L 2523 \" }'],\n",
       " ['{ \" name \" : \" Wenefang Camera Lens Cap 34 37 39 40 5 43 46 49 52 55 58 62 67 72 77 82 86 95mm Protection Cover Lens Front Cap for canon nikon DSLR Lens \" , \" nid \" : \" 411220716 \" , \" itemId \" : \" 411220716 \" , \" icons \" : [ { \" domClass \" : \" 150565 \" , \" type \" : \" img \" , \" group \" : \" 6 \" , \" showType \" : \" 0 \" } , { \" domClass \" : \" 150318 \" , \" text \" : \" Gems save Rs 46 \" , \" type \" : \" text \" , \" group \" : \"',\n",
       "  '2 \" , \" showType \" : \" 0 \" } ] , \" image \" : \" https : static 01 daraz com np p 592f8b49ed6052289c7f4bdd21d455c7 png \" , \" isSmartImage \" : false , \" originalPriceShow \" : \" \" , \" priceShow \" : \" Rs 1 , 538 \" , \" ratingScore \" : \" \" , \" review \" : \" \" , \" location \" : \" Overseas \" , \" thumbs \" : [ ] , \" sellerName \" : \" Wenefang \" , \" sellerId \" : \" 900270016692 \" , \" brandName \" : \" No Brand \" , \" brandId \" : \" 39704 \" , \" cheapest_sku \" : \" 411220716_NP 1763291566 \" , \" skuId \"',\n",
       "  ': \" 1763291566 \" , \" sku \" : \" 411220716_NP \" , \" categories \" : [ 240 , 8217 , 8220 , 8223 ] , \" price \" : \" 1538 \" , \" inStock \" : true , \" originalPrice \" : \" 2307 \" , \" clickTrace \" : \" query : camera nid : 411220716 src : LazadaMainSrp rn : 3e3ad865f4f6894a6f06a36a8a95a2fe region : np sku : 411220716_NP price : 1538 client : desktop supplier_id : 900270016692 biz_source : h5_unknow slot : 34 utlog_bucket_id : 470687 asc_category_id : 8223 item_id : 411220716 sku_id : 1763291566 shop_id : 184195 templateInfo : 1_A3_C 1103_L \" , \" longImageDisplayable \" : false , \" skus \" : [ { \" id \" : \" 411220716_NP 1763291566 \"',\n",
       "  '} ] , \" promotionId \" : \" \" , \" isSponsored \" : false , \" tItemType \" : \" nt_product \" , \" skuType \" : \" \" , \" adFlag \" : \" 0 \" , \" directSimilarUrl \" : \" https : native m lazada com dynamicxresult item_img https 3A 2F 2Fstatic 01 daraz com np 2Fp 2F592f8b49ed6052289c7f4bdd21d455c7 png src srp_findsimilar item_id 411220716 sku_id 1763291566 params 7B 22sub_src 22 3A 22long_press 22 2C 22src 22 3A 22srp_findsimilar 22 7D m tpp_findSimilar q camera similarType findSimilarV1 price 1538 00 spuTriggerItem 0 \" , \" gridTitleLine \" : \" 2 \" , \" isFission \" : \" 0 \" , \" isBadgeAutoScroll \" : false , \" showCart \" : false , \" showBackIcon \" :',\n",
       "  'false , \" showUnitPrice \" : false , \" itemUrl \" : \" www daraz com np products 34 37 39 405 43 46 49 52 55 58 62 67 72 77 82 86 95 luxury i411220716 html \" , \" querystring \" : \" fs_ab 1 priceCompare skuId 3A1763291566 3Bsource 3Alazada search voucher 3Bsn 3A3e3ad865f4f6894a6f06a36a8a95a2fe 3BoriginPrice 3A153800 3BdisplayPrice 3A153800 3BsinglePromotionId 3A 1 3BsingleToolCode 3AmockedSalePrice 3BvoucherPricePlugin 3A0 3Btimestamp 3A1758778958941 c ratingscore freeshipping 0 source search channelLpJumpArgs fuse_fs search 1 sale 0 price 1538 review location Overseas stock 1 lang en request_id 3e3ad865f4f6894a6f06a36a8a95a2fe clickTrackInfo query 253Acamera 253Bnid 253A411220716 253Bsrc 253ALazadaMainSrp 253Brn 253A3e3ad865f4f6894a6f06a36a8a95a2fe 253Bregion 253Anp 253Bsku 253A411220716_NP 253Bprice 253A1538 253Bclient 253Adesktop 253Bsupplier_id 253A900270016692 253Bbiz_source 253Ah5_unknow 253Bslot 253A34 253Butlog_bucket_id 253A470687 253Basc_category_id 253A8223 253Bitem_id 253A411220716 253Bsku_id 253A1763291566 253Bshop_id 253A184195 253BtemplateInfo 253A 1_A3_C',\n",
       "  '25231103_L 2523 \" }'],\n",
       " ['{ \" name \" : \" BiaonianyupaProfesional 1PCS High quality 40 5 49 52 55 58 62 67 72 77 82mm Bargain price center pinch Snap on cap cover for all camera Lens \" , \" nid \" : \" 460597226 \" , \" itemId \" : \" 460597226 \" , \" icons \" : [ { \" domClass \" : \" 150565 \" , \" type \" : \" img \" , \" group \" : \" 6 \" , \" showType \" : \" 0 \" } ] , \" image \" : \" https : static 01 daraz com np p 01bd77c4d85e58243feac17678afca81 png \" , \" isSmartImage \" : false , \" originalPriceShow \" : \" \" , \" priceShow \" : \" Rs 1',\n",
       "  ', 595 \" , \" ratingScore \" : \" \" , \" review \" : \" \" , \" location \" : \" Overseas \" , \" thumbs \" : [ ] , \" sellerName \" : \" Biaonianyupa \" , \" sellerId \" : \" 900275872447 \" , \" brandName \" : \" No Brand \" , \" brandId \" : \" 39704 \" , \" cheapest_sku \" : \" 460597226_NP 2064033947 \" , \" skuId \" : \" 2064033947 \" , \" sku \" : \" 460597226_NP \" , \" categories \" : [ 240 , 8217 , 8220 , 8223 ] , \" price \" : \" 1595 \" , \" inStock \" : true , \" originalPrice \" : \" 2393 \" , \"',\n",
       "  'clickTrace \" : \" query : camera nid : 460597226 src : LazadaMainSrp rn : 3e3ad865f4f6894a6f06a36a8a95a2fe region : np sku : 460597226_NP price : 1595 client : desktop supplier_id : 900275872447 biz_source : h5_unknow slot : 35 utlog_bucket_id : 470687 asc_category_id : 8223 item_id : 460597226 sku_id : 2064033947 shop_id : 194917 templateInfo : 1_A3_C 1103_L \" , \" longImageDisplayable \" : false , \" skus \" : [ { \" id \" : \" 460597226_NP 2064033947 \" } ] , \" promotionId \" : \" \" , \" isSponsored \" : false , \" tItemType \" : \" nt_product \" , \" skuType \" : \" \" , \" adFlag \" : \" 0 \" , \" directSimilarUrl \" : \" https : native m lazada com',\n",
       "  'dynamicxresult item_img https 3A 2F 2Fstatic 01 daraz com np 2Fp 2F01bd77c4d85e58243feac17678afca81 png src srp_findsimilar item_id 460597226 sku_id 2064033947 params 7B 22sub_src 22 3A 22long_press 22 2C 22src 22 3A 22srp_findsimilar 22 7D m tpp_findSimilar q camera similarType findSimilarV1 price 1595 00 spuTriggerItem 0 \" , \" gridTitleLine \" : \" 2 \" , \" isFission \" : \" 0 \" , \" isBadgeAutoScroll \" : false , \" showCart \" : false , \" showBackIcon \" : false , \" showUnitPrice \" : false , \" itemUrl \" : \" www daraz com np products 2025 version 1 405 49 52 55 58 62 67 72 77 82 i460597226 html \" , \" querystring \" : \" fs_ab 1 priceCompare skuId 3A2064033947 3Bsource 3Alazada search voucher 3Bsn',\n",
       "  '3A3e3ad865f4f6894a6f06a36a8a95a2fe 3BoriginPrice 3A159500 3BdisplayPrice 3A159500 3BsinglePromotionId 3A 1 3BsingleToolCode 3AmockedSalePrice 3BvoucherPricePlugin 3A0 3Btimestamp 3A1758778958941 c ratingscore freeshipping 0 source search channelLpJumpArgs fuse_fs search 1 sale 0 price 1595 review location Overseas stock 1 lang en request_id 3e3ad865f4f6894a6f06a36a8a95a2fe clickTrackInfo query 253Acamera 253Bnid 253A460597226 253Bsrc 253ALazadaMainSrp 253Brn 253A3e3ad865f4f6894a6f06a36a8a95a2fe 253Bregion 253Anp 253Bsku 253A460597226_NP 253Bprice 253A1595 253Bclient 253Adesktop 253Bsupplier_id 253A900275872447 253Bbiz_source 253Ah5_unknow 253Bslot 253A35 253Butlog_bucket_id 253A470687 253Basc_category_id 253A8223 253Bitem_id 253A460597226 253Bsku_id 253A2064033947 253Bshop_id 253A194917 253BtemplateInfo 253A 1_A3_C 25231103_L 2523 \" }'],\n",
       " ['{ \" name \" : \" Nzytkownikeiu 10 1pcs Rear Lens Cap for Canon EOS EFS EF EF S EF DSLR SLR Mark II III IV 750D 760D DSLR Cameras \" , \" nid \" : \" 474431479 \" , \" itemId \" : \" 474431479 \" , \" icons \" : [ { \" domClass \" : \" 150565 \" , \" type \" : \" img \" , \" group \" : \" 6 \" , \" showType \" : \" 0 \" } , { \" domClass \" : \" 150318 \" , \" text \" : \" Gems save Rs 34 \" , \" type \" : \" text \" , \" group \" : \" 2 \" , \" showType \" : \"',\n",
       "  '0 \" } ] , \" image \" : \" https : static 01 daraz com np p 911d6b14c7a14dcc4e74aa976bc3899a jpg \" , \" isSmartImage \" : false , \" originalPriceShow \" : \" \" , \" priceShow \" : \" Rs 1 , 709 \" , \" ratingScore \" : \" \" , \" review \" : \" \" , \" location \" : \" Overseas \" , \" thumbs \" : [ ] , \" sellerName \" : \" Nzytkownikeiu \" , \" sellerId \" : \" 900241472883 \" , \" brandName \" : \" No Brand \" , \" brandId \" : \" 39704 \" , \" cheapest_sku \" : \" 474431479_NP 2107556401 \" , \" skuId \" : \" 2107556401 \" , \" sku \"',\n",
       "  ': \" 474431479_NP \" , \" categories \" : [ 240 , 8217 , 8220 , 8223 ] , \" price \" : \" 1709 \" , \" inStock \" : true , \" originalPrice \" : \" 2051 \" , \" clickTrace \" : \" query : camera nid : 474431479 src : LazadaMainSrp rn : 3e3ad865f4f6894a6f06a36a8a95a2fe region : np sku : 474431479_NP price : 1709 client : desktop supplier_id : 900241472883 biz_source : h5_unknow slot : 36 utlog_bucket_id : 470687 asc_category_id : 8223 item_id : 474431479 sku_id : 2107556401 shop_id : 149137 templateInfo : 1_A3_C 1103_L \" , \" longImageDisplayable \" : false , \" skus \" : [ { \" id \" : \" 474431479_NP 2107556401 \" } ] , \" promotionId \" : \"',\n",
       "  '\" , \" isSponsored \" : false , \" tItemType \" : \" nt_product \" , \" skuType \" : \" \" , \" adFlag \" : \" 0 \" , \" directSimilarUrl \" : \" https : native m lazada com dynamicxresult item_img https 3A 2F 2Fstatic 01 daraz com np 2Fp 2F911d6b14c7a14dcc4e74aa976bc3899a jpg src srp_findsimilar item_id 474431479 sku_id 2107556401 params 7B 22sub_src 22 3A 22long_press 22 2C 22src 22 3A 22srp_findsimilar 22 7D m tpp_findSimilar q camera similarType findSimilarV1 price 1709 00 spuTriggerItem 0 \" , \" gridTitleLine \" : \" 2 \" , \" isFission \" : \" 0 \" , \" isBadgeAutoScroll \" : false , \" showCart \" : false , \" showBackIcon \" : false , \" showUnitPrice \" : false ,',\n",
       "  '\" itemUrl \" : \" www daraz com np products 750 760 10 1 i474431479 html \" , \" querystring \" : \" fs_ab 1 priceCompare skuId 3A2107556401 3Bsource 3Alazada search voucher 3Bsn 3A3e3ad865f4f6894a6f06a36a8a95a2fe 3BoriginPrice 3A170900 3BdisplayPrice 3A170900 3BsinglePromotionId 3A 1 3BsingleToolCode 3AmockedSalePrice 3BvoucherPricePlugin 3A0 3Btimestamp 3A1758778958941 c ratingscore freeshipping 1 source search channelLpJumpArgs fuse_fs search 1 sale 0 price 1709 review location Overseas stock 1 lang en request_id 3e3ad865f4f6894a6f06a36a8a95a2fe clickTrackInfo query 253Acamera 253Bnid 253A474431479 253Bsrc 253ALazadaMainSrp 253Brn 253A3e3ad865f4f6894a6f06a36a8a95a2fe 253Bregion 253Anp 253Bsku 253A474431479_NP 253Bprice 253A1709 253Bclient 253Adesktop 253Bsupplier_id 253A900241472883 253Bbiz_source 253Ah5_unknow 253Bslot 253A36 253Butlog_bucket_id 253A470687 253Basc_category_id 253A8223 253Bitem_id 253A474431479 253Bsku_id 253A2107556401 253Bshop_id 253A149137 253BtemplateInfo 253A 1_A3_C 25231103_L 2523 \" }'],\n",
       " ['{ \" name \" : \" Yikaohuang10 1pcs Rear Lens Cap for Canon EOS EFS EF EF S EF DSLR SLR Mark II III IV 750D 760D DSLR Cameras Luxury \" , \" nid \" : \" 458377754 \" , \" itemId \" : \" 458377754 \" , \" icons \" : [ { \" domClass \" : \" 150565 \" , \" type \" : \" img \" , \" group \" : \" 6 \" , \" showType \" : \" 0 \" } ] , \" image \" : \" https : static 01 daraz com np p 3c2a1aa226e2e37d1581040f75a02c0d png \" , \" isSmartImage \" : false , \" originalPriceShow \" : \" \" , \" priceShow \" : \" Rs 1 , 653 \"',\n",
       "  ', \" ratingScore \" : \" \" , \" review \" : \" \" , \" location \" : \" Overseas \" , \" thumbs \" : [ ] , \" sellerName \" : \" Yikaohuang \" , \" sellerId \" : \" 900268080062 \" , \" brandName \" : \" No Brand \" , \" brandId \" : \" 39704 \" , \" cheapest_sku \" : \" 458377754_NP 2044359069 \" , \" skuId \" : \" 2044359069 \" , \" sku \" : \" 458377754_NP \" , \" categories \" : [ 240 , 8217 , 8220 , 8223 ] , \" price \" : \" 1653 \" , \" inStock \" : true , \" originalPrice \" : \" 2479 \" , \" clickTrace \" :',\n",
       "  '\" query : camera nid : 458377754 src : LazadaMainSrp rn : 3e3ad865f4f6894a6f06a36a8a95a2fe region : np sku : 458377754_NP price : 1653 client : desktop supplier_id : 900268080062 biz_source : h5_unknow slot : 37 utlog_bucket_id : 470687 asc_category_id : 8223 item_id : 458377754 sku_id : 2044359069 shop_id : 181670 templateInfo : 1_A3_C 1103_L \" , \" longImageDisplayable \" : false , \" skus \" : [ { \" id \" : \" 458377754_NP 2044359069 \" } ] , \" promotionId \" : \" \" , \" isSponsored \" : false , \" tItemType \" : \" nt_product \" , \" skuType \" : \" \" , \" adFlag \" : \" 0 \" , \" directSimilarUrl \" : \" https : native m lazada com dynamicxresult item_img https',\n",
       "  '3A 2F 2Fstatic 01 daraz com np 2Fp 2F3c2a1aa226e2e37d1581040f75a02c0d png src srp_findsimilar item_id 458377754 sku_id 2044359069 params 7B 22sub_src 22 3A 22long_press 22 2C 22src 22 3A 22srp_findsimilar 22 7D m tpp_findSimilar q camera similarType findSimilarV1 price 1653 00 spuTriggerItem 0 \" , \" gridTitleLine \" : \" 2 \" , \" isFission \" : \" 0 \" , \" isBadgeAutoScroll \" : false , \" showCart \" : false , \" showBackIcon \" : false , \" showUnitPrice \" : false , \" itemUrl \" : \" www daraz com np products 750 760 10 1 ne i458377754 html \" , \" querystring \" : \" fs_ab 1 priceCompare skuId 3A2044359069 3Bsource 3Alazada search voucher 3Bsn 3A3e3ad865f4f6894a6f06a36a8a95a2fe 3BoriginPrice 3A165300 3BdisplayPrice 3A165300 3BsinglePromotionId 3A 1 3BsingleToolCode 3AmockedSalePrice 3BvoucherPricePlugin',\n",
       "  '3A0 3Btimestamp 3A1758778958941 c ratingscore freeshipping 0 source search channelLpJumpArgs fuse_fs search 1 sale 0 price 1653 review location Overseas stock 1 lang en request_id 3e3ad865f4f6894a6f06a36a8a95a2fe clickTrackInfo query 253Acamera 253Bnid 253A458377754 253Bsrc 253ALazadaMainSrp 253Brn 253A3e3ad865f4f6894a6f06a36a8a95a2fe 253Bregion 253Anp 253Bsku 253A458377754_NP 253Bprice 253A1653 253Bclient 253Adesktop 253Bsupplier_id 253A900268080062 253Bbiz_source 253Ah5_unknow 253Bslot 253A37 253Butlog_bucket_id 253A470687 253Basc_category_id 253A8223 253Bitem_id 253A458377754 253Bsku_id 253A2044359069 253Bshop_id 253A181670 253BtemplateInfo 253A 1_A3_C 25231103_L 2523 \" }'],\n",
       " ['{ \" name \" : \" ZongmaoLuxury 10 1pcs Rear Lens Cap for Canon EOS EFS EF EF S EF DSLR SLR Mark II III IV 750D 760D DSLR Cameras \" , \" nid \" : \" 476673946 \" , \" itemId \" : \" 476673946 \" , \" icons \" : [ { \" domClass \" : \" 150565 \" , \" type \" : \" img \" , \" group \" : \" 6 \" , \" showType \" : \" 0 \" } ] , \" image \" : \" https : static 01 daraz com np p fdabe785cb520d12e3cbc5cf701e2935 png \" , \" isSmartImage \" : false , \" originalPriceShow \" : \" \" , \" priceShow \" : \" Rs 1 , 784 \"',\n",
       "  ', \" ratingScore \" : \" \" , \" review \" : \" \" , \" location \" : \" Overseas \" , \" thumbs \" : [ ] , \" sellerName \" : \" Zongmao \" , \" sellerId \" : \" 900291504333 \" , \" brandName \" : \" No Brand \" , \" brandId \" : \" 39704 \" , \" cheapest_sku \" : \" 476673946_NP 2118816206 \" , \" skuId \" : \" 2118816206 \" , \" sku \" : \" 476673946_NP \" , \" categories \" : [ 240 , 8217 , 8220 , 8223 ] , \" price \" : \" 1784 \" , \" inStock \" : true , \" originalPrice \" : \" 2141 \" , \" clickTrace \" :',\n",
       "  '\" query : camera nid : 476673946 src : LazadaMainSrp rn : 3e3ad865f4f6894a6f06a36a8a95a2fe region : np sku : 476673946_NP price : 1784 client : desktop supplier_id : 900291504333 biz_source : h5_unknow slot : 38 utlog_bucket_id : 470687 asc_category_id : 8223 item_id : 476673946 sku_id : 2118816206 shop_id : 209702 templateInfo : 1_A3_C 1103_L \" , \" longImageDisplayable \" : false , \" skus \" : [ { \" id \" : \" 476673946_NP 2118816206 \" } ] , \" promotionId \" : \" \" , \" isSponsored \" : false , \" tItemType \" : \" nt_product \" , \" skuType \" : \" \" , \" adFlag \" : \" 0 \" , \" directSimilarUrl \" : \" https : native m lazada com dynamicxresult item_img https',\n",
       "  '3A 2F 2Fstatic 01 daraz com np 2Fp 2Ffdabe785cb520d12e3cbc5cf701e2935 png src srp_findsimilar item_id 476673946 sku_id 2118816206 params 7B 22sub_src 22 3A 22long_press 22 2C 22src 22 3A 22srp_findsimilar 22 7D m tpp_findSimilar q camera similarType findSimilarV1 price 1784 00 spuTriggerItem 0 \" , \" gridTitleLine \" : \" 2 \" , \" isFission \" : \" 0 \" , \" isBadgeAutoScroll \" : false , \" showCart \" : false , \" showBackIcon \" : false , \" showUnitPrice \" : false , \" itemUrl \" : \" www daraz com np products 750 760 10 1 i476673946 html \" , \" querystring \" : \" fs_ab 1 priceCompare skuId 3A2118816206 3Bsource 3Alazada search voucher 3Bsn 3A3e3ad865f4f6894a6f06a36a8a95a2fe 3BoriginPrice 3A178400 3BdisplayPrice 3A178400 3BsinglePromotionId 3A 1 3BsingleToolCode 3AmockedSalePrice 3BvoucherPricePlugin 3A0',\n",
       "  '3Btimestamp 3A1758778958941 c ratingscore freeshipping 0 source search channelLpJumpArgs fuse_fs search 1 sale 0 price 1784 review location Overseas stock 1 lang en request_id 3e3ad865f4f6894a6f06a36a8a95a2fe clickTrackInfo query 253Acamera 253Bnid 253A476673946 253Bsrc 253ALazadaMainSrp 253Brn 253A3e3ad865f4f6894a6f06a36a8a95a2fe 253Bregion 253Anp 253Bsku 253A476673946_NP 253Bprice 253A1784 253Bclient 253Adesktop 253Bsupplier_id 253A900291504333 253Bbiz_source 253Ah5_unknow 253Bslot 253A38 253Butlog_bucket_id 253A470687 253Basc_category_id 253A8223 253Bitem_id 253A476673946 253Bsku_id 253A2118816206 253Bshop_id 253A209702 253BtemplateInfo 253A 1_A3_C 25231103_L 2523 \" }'],\n",
       " ['{ \" name \" : \" Weihonghunfei10 1pcs Rear Lens Cap for Canon EOS EFS EF EF S EF DSLR SLR Mark II III IV 750D 760D DSLR Cameras \" , \" nid \" : \" 478370243 \" , \" itemId \" : \" 478370243 \" , \" icons \" : [ { \" domClass \" : \" 150565 \" , \" type \" : \" img \" , \" group \" : \" 6 \" , \" showType \" : \" 0 \" } ] , \" image \" : \" https : static 01 daraz com np p 9c91795b5587441e02d57c16e44b078e png \" , \" isSmartImage \" : false , \" originalPriceShow \" : \" \" , \" priceShow \" : \" Rs 1 , 672 \" ,',\n",
       "  '\" ratingScore \" : \" \" , \" review \" : \" \" , \" location \" : \" Overseas \" , \" thumbs \" : [ ] , \" sellerName \" : \" Weihonghunfei \" , \" sellerId \" : \" 900275984073 \" , \" brandName \" : \" No Brand \" , \" brandId \" : \" 39704 \" , \" cheapest_sku \" : \" 478370243_NP 2133774040 \" , \" skuId \" : \" 2133774040 \" , \" sku \" : \" 478370243_NP \" , \" categories \" : [ 240 , 8217 , 8220 , 8223 ] , \" price \" : \" 1672 \" , \" inStock \" : true , \" originalPrice \" : \" 2006 \" , \" clickTrace \" : \"',\n",
       "  'query : camera nid : 478370243 src : LazadaMainSrp rn : 3e3ad865f4f6894a6f06a36a8a95a2fe region : np sku : 478370243_NP price : 1672 client : desktop supplier_id : 900275984073 biz_source : h5_unknow slot : 39 utlog_bucket_id : 470687 asc_category_id : 8223 item_id : 478370243 sku_id : 2133774040 shop_id : 195113 templateInfo : 1_A3_C 1103_L \" , \" longImageDisplayable \" : false , \" skus \" : [ { \" id \" : \" 478370243_NP 2133774040 \" } ] , \" promotionId \" : \" \" , \" isSponsored \" : false , \" tItemType \" : \" nt_product \" , \" skuType \" : \" \" , \" adFlag \" : \" 0 \" , \" directSimilarUrl \" : \" https : native m lazada com dynamicxresult item_img https 3A',\n",
       "  '2F 2Fstatic 01 daraz com np 2Fp 2F9c91795b5587441e02d57c16e44b078e png src srp_findsimilar item_id 478370243 sku_id 2133774040 params 7B 22sub_src 22 3A 22long_press 22 2C 22src 22 3A 22srp_findsimilar 22 7D m tpp_findSimilar q camera similarType findSimilarV1 price 1672 00 spuTriggerItem 0 \" , \" gridTitleLine \" : \" 2 \" , \" isFission \" : \" 0 \" , \" isBadgeAutoScroll \" : false , \" showCart \" : false , \" showBackIcon \" : false , \" showUnitPrice \" : false , \" itemUrl \" : \" www daraz com np products 750 760 10 1 hi i478370243 html \" , \" querystring \" : \" fs_ab 1 priceCompare skuId 3A2133774040 3Bsource 3Alazada search voucher 3Bsn 3A3e3ad865f4f6894a6f06a36a8a95a2fe 3BoriginPrice 3A167200 3BdisplayPrice 3A167200 3BsinglePromotionId 3A 1 3BsingleToolCode 3AmockedSalePrice 3BvoucherPricePlugin 3A0',\n",
       "  '3Btimestamp 3A1758778958941 c ratingscore freeshipping 0 source search channelLpJumpArgs fuse_fs search 1 sale 0 price 1672 review location Overseas stock 1 lang en request_id 3e3ad865f4f6894a6f06a36a8a95a2fe clickTrackInfo query 253Acamera 253Bnid 253A478370243 253Bsrc 253ALazadaMainSrp 253Brn 253A3e3ad865f4f6894a6f06a36a8a95a2fe 253Bregion 253Anp 253Bsku 253A478370243_NP 253Bprice 253A1672 253Bclient 253Adesktop 253Bsupplier_id 253A900275984073 253Bbiz_source 253Ah5_unknow 253Bslot 253A39 253Butlog_bucket_id 253A470687 253Basc_category_id 253A8223 253Bitem_id 253A478370243 253Bsku_id 253A2133774040 253Bshop_id 253A195113 253BtemplateInfo 253A 1_A3_C 25231103_L 2523 \" }']]"
      ]
     },
     "execution_count": 8,
     "metadata": {},
     "output_type": "execute_result"
    }
   ],
   "source": [
    "all_chunks"
   ]
  },
  {
   "cell_type": "code",
   "execution_count": 75,
   "id": "ef9e48aa",
   "metadata": {},
   "outputs": [
    {
     "data": {
      "text/plain": [
       "40"
      ]
     },
     "execution_count": 75,
     "metadata": {},
     "output_type": "execute_result"
    }
   ],
   "source": [
    "len(all_chunks)"
   ]
  },
  {
   "cell_type": "code",
   "execution_count": 76,
   "id": "fd35ac7a",
   "metadata": {},
   "outputs": [
    {
     "data": {
      "text/plain": [
       "'{ \" name \" : \" The lens is suitable for all cameras with sizes 7 , 72 , 75 , 49 , 5 quality , 40 ng , and includes 2025 u65b0 u54c1 one high Wenefa2 55 , 58 , 62 , 67 , 82mm special price center clamp quick release cap \" , \" nid \" : \" 489419476 \" , \" itemId \" : \" 489419476 \" , \" icons \" : [ ] , \" image \" : \" https : static 01 daraz com np p f6485b5ba6430f883f5d828256e2f9ff png \" , \" isSmartImage \" : false , \" originalPriceShow \" : \" \" , \" priceShow \" : \" Rs 1 , 520 \" , \" ratingScore \" : \" \" , \" review'"
      ]
     },
     "execution_count": 76,
     "metadata": {},
     "output_type": "execute_result"
    }
   ],
   "source": [
    "all_chunks[0][0]"
   ]
  },
  {
   "cell_type": "code",
   "execution_count": 77,
   "id": "d6463cd0",
   "metadata": {},
   "outputs": [
    {
     "data": {
      "text/plain": [
       "['{ \" name \" : \" The lens is suitable for all cameras with sizes 7 , 72 , 75 , 49 , 5 quality , 40 ng , and includes 2025 u65b0 u54c1 one high Wenefa2 55 , 58 , 62 , 67 , 82mm special price center clamp quick release cap \" , \" nid \" : \" 489419476 \" , \" itemId \" : \" 489419476 \" , \" icons \" : [ ] , \" image \" : \" https : static 01 daraz com np p f6485b5ba6430f883f5d828256e2f9ff png \" , \" isSmartImage \" : false , \" originalPriceShow \" : \" \" , \" priceShow \" : \" Rs 1 , 520 \" , \" ratingScore \" : \" \" , \" review',\n",
       " '\" : \" \" , \" location \" : \" Overseas \" , \" thumbs \" : [ ] , \" sellerName \" : \" Manhuayuangu \" , \" sellerId \" : \" 900270048480 \" , \" brandName \" : \" No Brand \" , \" brandId \" : \" 39704 \" , \" cheapest_sku \" : \" 489419476_NP 2198959038 \" , \" skuId \" : \" 2198959038 \" , \" sku \" : \" 489419476_NP \" , \" categories \" : [ 240 , 8217 , 8220 , 8223 ] , \" price \" : \" 1520 \" , \" inStock \" : true , \" originalPrice \" : \" 1824 \" , \" clickTrace \" : \" query : camera nid : 489419476 src : LazadaMainSrp',\n",
       " 'rn : 3e3ad865f4f6894a6f06a36a8a95a2fe region : np sku : 489419476_NP price : 1520 client : desktop supplier_id : 900270048480 biz_source : h5_unknow slot : 0 utlog_bucket_id : 470687 asc_category_id : 8223 item_id : 489419476 sku_id : 2198959038 shop_id : 184134 templateInfo : 1_A3_C 1103_L \" , \" longImageDisplayable \" : false , \" skus \" : [ { \" id \" : \" 489419476_NP 2198959038 \" } ] , \" promotionId \" : \" \" , \" isSponsored \" : false , \" tItemType \" : \" nt_product \" , \" skuType \" : \" \" , \" adFlag \" : \" 0 \" , \" directSimilarUrl \" : \" https : native m lazada com dynamicxresult item_img https 3A 2F 2Fstatic 01 daraz com np 2Fp 2Ff6485b5ba6430f883f5d828256e2f9ff png',\n",
       " 'src srp_findsimilar item_id 489419476 sku_id 2198959038 params 7B 22sub_src 22 3A 22long_press 22 2C 22src 22 3A 22srp_findsimilar 22 7D m tpp_findSimilar q camera similarType findSimilarV1 price 1520 00 spuTriggerItem 0 \" , \" gridTitleLine \" : \" 2 \" , \" isFission \" : \" 0 \" , \" isBadgeAutoScroll \" : false , \" showCart \" : false , \" showBackIcon \" : false , \" showUnitPrice \" : false , \" itemUrl \" : \" www daraz com np products ng wenefa2 2025 i489419476 html \" , \" querystring \" : \" fs_ab 1 priceCompare skuId 3A2198959038 3Bsource 3Alazada search voucher 3Bsn 3A3e3ad865f4f6894a6f06a36a8a95a2fe 3BoriginPrice 3A152000 3BdisplayPrice 3A152000 3BsinglePromotionId 3A 1 3BsingleToolCode 3AmockedSalePrice 3BvoucherPricePlugin 3A0 3Btimestamp 3A1758778958940 c ratingscore freeshipping 0 source search channelLpJumpArgs fuse_fs search',\n",
       " '1 sale 0 price 1 52E 203 review location Overseas stock 1 lang en request_id 3e3ad865f4f6894a6f06a36a8a95a2fe clickTrackInfo query 253Acamera 253Bnid 253A489419476 253Bsrc 253ALazadaMainSrp 253Brn 253A3e3ad865f4f6894a6f06a36a8a95a2fe 253Bregion 253Anp 253Bsku 253A489419476_NP 253Bprice 253A1520 253Bclient 253Adesktop 253Bsupplier_id 253A900270048480 253Bbiz_source 253Ah5_unknow 253Bslot 253A0 253Butlog_bucket_id 253A470687 253Basc_category_id 253A8223 253Bitem_id 253A489419476 253Bsku_id 253A2198959038 253Bshop_id 253A184134 253BtemplateInfo 253A 1_A3_C 25231103_L 2523 \" }']"
      ]
     },
     "execution_count": 77,
     "metadata": {},
     "output_type": "execute_result"
    }
   ],
   "source": [
    "all_chunks[0]"
   ]
  },
  {
   "cell_type": "code",
   "execution_count": 12,
   "id": "6aac9c32",
   "metadata": {},
   "outputs": [
    {
     "data": {
      "text/plain": [
       "list"
      ]
     },
     "execution_count": 12,
     "metadata": {},
     "output_type": "execute_result"
    }
   ],
   "source": [
    "type(all_chunks)"
   ]
  },
  {
   "cell_type": "markdown",
   "id": "8adc4569",
   "metadata": {},
   "source": [
    "# Qdrant Operation for Hybrid Search"
   ]
  },
  {
   "cell_type": "code",
   "execution_count": null,
   "id": "0e941535",
   "metadata": {},
   "outputs": [],
   "source": [
    "from qdrant_client import QdrantClient,models\n",
    "from sentence_transformers import SentenceTransformer"
   ]
  },
  {
   "cell_type": "code",
   "execution_count": 15,
   "id": "85a6652e",
   "metadata": {},
   "outputs": [],
   "source": [
    "dense_model_name = \"sentence-transformers/all-MiniLM-L6-v2\"\n",
    "sparse_model_name = \"prithivida/Splade_PP_en_v1\""
   ]
  },
  {
   "cell_type": "code",
   "execution_count": null,
   "id": "3ecd218a",
   "metadata": {},
   "outputs": [],
   "source": []
  },
  {
   "cell_type": "code",
   "execution_count": 16,
   "id": "b82f069f",
   "metadata": {},
   "outputs": [],
   "source": [
    "client = QdrantClient(url = \"http://localhost:6333\")"
   ]
  },
  {
   "cell_type": "code",
   "execution_count": 56,
   "id": "38a7f6ca",
   "metadata": {},
   "outputs": [],
   "source": [
    "if not client.collection_exists(\"hybrid_search_daraz\"):\n",
    "    client.create_collection(\n",
    "        collection_name = \"hybrid_search_daraz\",\n",
    "        vectors_config = {\n",
    "            \"dense\" : models.VectorParams(size = client.get_embedding_size(dense_model_name), distance = models.Distance.COSINE)\n",
    "\n",
    "        },\n",
    "        sparse_vectors_config= {\n",
    "            \"sparse\" : models.SparseVectorParams()\n",
    "        }\n",
    "    )"
   ]
  },
  {
   "cell_type": "code",
   "execution_count": 40,
   "id": "9e5c20cf",
   "metadata": {},
   "outputs": [],
   "source": [
    "encoder = SentenceTransformer(\"all-MiniLM-L6-v2\")"
   ]
  },
  {
   "cell_type": "code",
   "execution_count": 78,
   "id": "9f5ce7bf",
   "metadata": {},
   "outputs": [
    {
     "name": "stderr",
     "output_type": "stream",
     "text": [
      "Batches: 100%|██████████| 1/1 [00:00<00:00,  1.40it/s]\n",
      "Batches: 100%|██████████| 1/1 [00:00<00:00,  5.60it/s]\n",
      "Batches: 100%|██████████| 1/1 [00:00<00:00,  6.21it/s]\n",
      "Batches: 100%|██████████| 1/1 [00:00<00:00,  4.95it/s]\n",
      "Batches: 100%|██████████| 1/1 [00:00<00:00,  6.13it/s]\n",
      "Batches: 100%|██████████| 1/1 [00:00<00:00,  6.69it/s]\n",
      "Batches: 100%|██████████| 1/1 [00:00<00:00,  6.65it/s]\n",
      "Batches: 100%|██████████| 1/1 [00:00<00:00,  6.33it/s]\n",
      "Batches: 100%|██████████| 1/1 [00:00<00:00,  7.28it/s]\n",
      "Batches: 100%|██████████| 1/1 [00:00<00:00,  6.83it/s]\n",
      "Batches: 100%|██████████| 1/1 [00:00<00:00,  6.67it/s]\n",
      "Batches: 100%|██████████| 1/1 [00:00<00:00,  6.34it/s]\n",
      "Batches: 100%|██████████| 1/1 [00:00<00:00,  6.08it/s]\n",
      "Batches: 100%|██████████| 1/1 [00:00<00:00,  4.87it/s]\n",
      "Batches: 100%|██████████| 1/1 [00:00<00:00,  6.03it/s]\n",
      "Batches: 100%|██████████| 1/1 [00:00<00:00,  6.17it/s]\n",
      "Batches: 100%|██████████| 1/1 [00:00<00:00,  6.65it/s]\n",
      "Batches: 100%|██████████| 1/1 [00:00<00:00,  4.95it/s]\n",
      "Batches: 100%|██████████| 1/1 [00:00<00:00,  5.39it/s]\n",
      "Batches: 100%|██████████| 1/1 [00:00<00:00,  6.52it/s]\n",
      "Batches: 100%|██████████| 1/1 [00:00<00:00,  6.01it/s]\n",
      "Batches: 100%|██████████| 1/1 [00:00<00:00,  5.46it/s]\n",
      "Batches: 100%|██████████| 1/1 [00:00<00:00,  6.77it/s]\n",
      "Batches: 100%|██████████| 1/1 [00:00<00:00,  6.94it/s]\n",
      "Batches: 100%|██████████| 1/1 [00:00<00:00,  6.98it/s]\n",
      "Batches: 100%|██████████| 1/1 [00:00<00:00,  7.44it/s]\n",
      "Batches: 100%|██████████| 1/1 [00:00<00:00,  7.23it/s]\n",
      "Batches: 100%|██████████| 1/1 [00:00<00:00,  6.68it/s]\n",
      "Batches: 100%|██████████| 1/1 [00:00<00:00,  6.92it/s]\n",
      "Batches: 100%|██████████| 1/1 [00:00<00:00,  7.58it/s]\n",
      "Batches: 100%|██████████| 1/1 [00:00<00:00,  7.36it/s]\n",
      "Batches: 100%|██████████| 1/1 [00:00<00:00,  6.25it/s]\n",
      "Batches: 100%|██████████| 1/1 [00:00<00:00,  7.27it/s]\n",
      "Batches: 100%|██████████| 1/1 [00:00<00:00,  7.14it/s]\n",
      "Batches: 100%|██████████| 1/1 [00:00<00:00,  5.90it/s]\n",
      "Batches: 100%|██████████| 1/1 [00:00<00:00,  7.25it/s]\n",
      "Batches: 100%|██████████| 1/1 [00:00<00:00,  7.93it/s]\n",
      "Batches: 100%|██████████| 1/1 [00:00<00:00,  8.07it/s]\n",
      "Batches: 100%|██████████| 1/1 [00:00<00:00,  6.86it/s]\n",
      "Batches: 100%|██████████| 1/1 [00:00<00:00,  7.73it/s]\n"
     ]
    }
   ],
   "source": [
    "# creation of embeddings\n",
    "\n",
    "#dense vectors and sparse vectors of the same document and chunks\n",
    "final_dense_vector = []\n",
    "final_sparse_vector = []\n",
    "for i in range(len(all_chunks)):\n",
    "        dense_embeddings = encoder.encode(all_chunks[i],show_progress_bar=True,convert_to_numpy=True)\n",
    "        final_dense_vector.append(dense_embeddings)\n",
    "\n",
    "\n",
    "\n"
   ]
  },
  {
   "cell_type": "code",
   "execution_count": 79,
   "id": "2517238b",
   "metadata": {},
   "outputs": [
    {
     "data": {
      "text/plain": [
       "[array([[-0.01725098,  0.01887227, -0.04758353, ..., -0.01119488,\n",
       "         -0.11504184,  0.06792808],\n",
       "        [-0.01740227, -0.01158251, -0.08259612, ..., -0.0480869 ,\n",
       "         -0.08224002,  0.10919204],\n",
       "        [-0.02663496,  0.07192978, -0.07561843, ..., -0.0192584 ,\n",
       "         -0.0247532 ,  0.04867316],\n",
       "        [-0.06852859,  0.04353247, -0.1091061 , ..., -0.03919964,\n",
       "         -0.02819419,  0.04249191],\n",
       "        [ 0.03060741, -0.03198544, -0.02841446, ..., -0.09633103,\n",
       "         -0.05300676,  0.06436794]], shape=(5, 384), dtype=float32),\n",
       " array([[ 0.01110107,  0.03198135, -0.02528231, ..., -0.04988011,\n",
       "         -0.09079593,  0.03829745],\n",
       "        [-0.06231314,  0.01525998, -0.09074757, ..., -0.02340672,\n",
       "         -0.06704278,  0.07382487],\n",
       "        [-0.03285393,  0.06424579, -0.06658939, ..., -0.02639928,\n",
       "         -0.02288486,  0.06052505],\n",
       "        [-0.05790181,  0.02922601, -0.08560897, ..., -0.01738248,\n",
       "          0.02005384,  0.04824462],\n",
       "        [-0.00626088,  0.01350834, -0.01631294, ...,  0.00098419,\n",
       "         -0.01636735,  0.04376085]], shape=(5, 384), dtype=float32),\n",
       " array([[-0.04832885,  0.02544329, -0.04139431, ..., -0.03587975,\n",
       "         -0.10807832,  0.10302973],\n",
       "        [-0.06306975, -0.01403428, -0.07512767, ..., -0.04560521,\n",
       "         -0.06391539,  0.07273532],\n",
       "        [-0.02896501,  0.06976327, -0.06774987, ..., -0.02848505,\n",
       "         -0.01230383,  0.06921416],\n",
       "        [-0.04130366,  0.02639452, -0.08585308, ..., -0.02188186,\n",
       "          0.01995633,  0.04266587],\n",
       "        [-0.01275937,  0.00445324, -0.01146485, ..., -0.01001549,\n",
       "         -0.04647132,  0.04488738]], shape=(5, 384), dtype=float32),\n",
       " array([[ 0.00746139,  0.03938871, -0.0189742 , ..., -0.03969337,\n",
       "         -0.09023207,  0.04706454],\n",
       "        [-0.02634168, -0.00904689, -0.07534923, ..., -0.01108305,\n",
       "         -0.06172088,  0.07012769],\n",
       "        [-0.04560224,  0.05229414, -0.08074182, ..., -0.01522587,\n",
       "         -0.02286902,  0.04529233],\n",
       "        [-0.07057946, -0.00527846, -0.11072776, ..., -0.0296926 ,\n",
       "          0.02113478,  0.05060374],\n",
       "        [-0.04272157, -0.01045415, -0.04770182, ...,  0.01532001,\n",
       "          0.03794257, -0.01065357]], shape=(5, 384), dtype=float32),\n",
       " array([[-0.03121117,  0.09217154, -0.00843414, ..., -0.05754684,\n",
       "         -0.08359548,  0.05850647],\n",
       "        [-0.03660351,  0.00937953, -0.06394843, ..., -0.05188366,\n",
       "         -0.05109714,  0.06747304],\n",
       "        [-0.03036276,  0.0512094 , -0.06618967, ..., -0.03851471,\n",
       "         -0.04711569,  0.09908418],\n",
       "        [-0.06115137,  0.00696304, -0.10549387, ...,  0.00242713,\n",
       "         -0.04044572,  0.03865184],\n",
       "        [-0.06231354,  0.00174714, -0.09799824, ..., -0.0623919 ,\n",
       "          0.02517385,  0.05851286]], shape=(5, 384), dtype=float32),\n",
       " array([[-0.01489394,  0.04527356, -0.01773969, ..., -0.04425577,\n",
       "         -0.06318375,  0.06920586],\n",
       "        [-0.04208301, -0.01469867, -0.095411  , ..., -0.03913705,\n",
       "         -0.06902261,  0.06882752],\n",
       "        [-0.0405533 ,  0.04911375, -0.07378155, ..., -0.03681602,\n",
       "         -0.02031931,  0.0666744 ],\n",
       "        [-0.05084999,  0.04592694, -0.07892542, ..., -0.04370362,\n",
       "         -0.01627415,  0.04420893],\n",
       "        [ 0.02492832, -0.02436322, -0.02885058, ..., -0.07767216,\n",
       "         -0.04886167,  0.06902531]], shape=(5, 384), dtype=float32),\n",
       " array([[ 0.02361111,  0.0534956 ,  0.00510976, ...,  0.01573918,\n",
       "         -0.06879076,  0.04010554],\n",
       "        [-0.06955569, -0.06304806, -0.06984328, ..., -0.05537507,\n",
       "         -0.04142571,  0.09302925],\n",
       "        [-0.01642999,  0.08559787, -0.07549392, ...,  0.00893403,\n",
       "         -0.04739318,  0.08938739],\n",
       "        [-0.06558304,  0.04237136, -0.09189729, ..., -0.0317084 ,\n",
       "         -0.04494999,  0.05104729],\n",
       "        [ 0.03516579, -0.03901029, -0.04625544, ..., -0.07962393,\n",
       "         -0.00993812,  0.07658353]], shape=(5, 384), dtype=float32),\n",
       " array([[-0.04707978,  0.02940497, -0.03938999, ..., -0.02339731,\n",
       "         -0.09332801,  0.08258616],\n",
       "        [-0.03570564, -0.01614081, -0.09666583, ..., -0.04662556,\n",
       "         -0.09289089,  0.06972782],\n",
       "        [-0.06244512,  0.08397331, -0.05847678, ..., -0.02348641,\n",
       "         -0.00338705,  0.04646979],\n",
       "        [-0.06151371, -0.00844278, -0.09461161, ..., -0.04076527,\n",
       "         -0.04459274,  0.04514803],\n",
       "        [ 0.0177226 , -0.0280195 , -0.02216126, ..., -0.08980394,\n",
       "         -0.05278568,  0.06808759]], shape=(5, 384), dtype=float32),\n",
       " array([[-0.03259863,  0.03162927, -0.04677402, ..., -0.01561715,\n",
       "         -0.11399124,  0.06080201],\n",
       "        [-0.01190062, -0.03437372, -0.08319766, ..., -0.06729012,\n",
       "         -0.09045637,  0.09305092],\n",
       "        [-0.03252378,  0.06449422, -0.08414119, ...,  0.00775324,\n",
       "         -0.00958408,  0.04021651],\n",
       "        [-0.07437956,  0.01448516, -0.12226486, ..., -0.02554158,\n",
       "         -0.04845523,  0.04975194],\n",
       "        [-0.00295102, -0.04172708, -0.01705206, ..., -0.06287576,\n",
       "         -0.04729885,  0.06322645]], shape=(5, 384), dtype=float32),\n",
       " array([[-0.03082129,  0.06682464, -0.00550765, ..., -0.04683779,\n",
       "         -0.1091189 ,  0.07123677],\n",
       "        [-0.03862713,  0.00909202, -0.06143056, ..., -0.04621471,\n",
       "         -0.0374706 ,  0.06794319],\n",
       "        [-0.03066335,  0.03548199, -0.08553813, ..., -0.02915202,\n",
       "         -0.04908643,  0.08382075],\n",
       "        [-0.05248237,  0.0101062 , -0.09177878, ..., -0.00183236,\n",
       "         -0.03514255,  0.03830372],\n",
       "        [-0.05987265,  0.00344117, -0.09432836, ..., -0.06221493,\n",
       "          0.04538821,  0.05676253]], shape=(5, 384), dtype=float32),\n",
       " array([[-0.00761783,  0.04594063,  0.01724744, ..., -0.06592701,\n",
       "         -0.02713822,  0.04952746],\n",
       "        [-0.03701116,  0.0176765 , -0.07032138, ..., -0.04810636,\n",
       "         -0.05949419,  0.05364133],\n",
       "        [-0.04094841,  0.05420448, -0.07152497, ..., -0.047562  ,\n",
       "         -0.04217869,  0.08458687],\n",
       "        [-0.06022547,  0.01078294, -0.09974512, ..., -0.01108287,\n",
       "         -0.04342511,  0.03572936],\n",
       "        [-0.06433151, -0.01188261, -0.08584434, ..., -0.04777567,\n",
       "          0.00951003,  0.05817839]], shape=(5, 384), dtype=float32),\n",
       " array([[-0.02251114,  0.07840772,  0.00010158, ..., -0.03512931,\n",
       "         -0.08826949,  0.06580595],\n",
       "        [-0.04795968, -0.05400509, -0.06726845, ..., -0.07636355,\n",
       "         -0.07274111,  0.0769707 ],\n",
       "        [-0.0243566 ,  0.04071077, -0.06102497, ..., -0.00700169,\n",
       "         -0.04640427,  0.08832426],\n",
       "        [-0.05929837,  0.04900929, -0.05654947, ..., -0.04844004,\n",
       "         -0.05025066,  0.03563143],\n",
       "        [-0.0204635 , -0.06625365, -0.06459424, ..., -0.09303232,\n",
       "          0.00384413,  0.08062039]], shape=(5, 384), dtype=float32),\n",
       " array([[ 0.01799199,  0.02962619,  0.00537814, ...,  0.00515168,\n",
       "         -0.08265707,  0.03069431],\n",
       "        [-0.05162613, -0.06269363, -0.08493841, ..., -0.05542988,\n",
       "         -0.05019533,  0.09016736],\n",
       "        [-0.01503771,  0.07086933, -0.07431238, ...,  0.01624194,\n",
       "         -0.06572001,  0.09305543],\n",
       "        [-0.06482774,  0.02395783, -0.10267945, ..., -0.04293115,\n",
       "         -0.05435698,  0.0596787 ],\n",
       "        [ 0.03028967, -0.04217864, -0.04908457, ..., -0.08640777,\n",
       "         -0.02074342,  0.07782367]], shape=(5, 384), dtype=float32),\n",
       " array([[ 0.01862722,  0.03608344,  0.00171731, ...,  0.01007957,\n",
       "         -0.08732811,  0.04656518],\n",
       "        [-0.07032638, -0.05094585, -0.05683656, ..., -0.07769654,\n",
       "         -0.0643695 ,  0.08995087],\n",
       "        [-0.00533637,  0.06835235, -0.07550126, ...,  0.01672232,\n",
       "         -0.05524242,  0.08491194],\n",
       "        [-0.07043848,  0.03284999, -0.09390171, ..., -0.03117739,\n",
       "         -0.05120763,  0.06137971],\n",
       "        [ 0.01127149, -0.03594735, -0.04965933, ..., -0.0835387 ,\n",
       "         -0.02561086,  0.07451332]], shape=(5, 384), dtype=float32),\n",
       " array([[ 0.02079164,  0.0436483 , -0.00398017, ...,  0.01457276,\n",
       "         -0.06437407,  0.04060074],\n",
       "        [-0.0511438 , -0.06195059, -0.07374474, ..., -0.05953737,\n",
       "         -0.04942839,  0.09633961],\n",
       "        [ 0.0011386 ,  0.06304041, -0.07695206, ...,  0.02447705,\n",
       "         -0.05482297,  0.09028116],\n",
       "        [-0.06679475,  0.02837927, -0.10211057, ..., -0.01486676,\n",
       "         -0.05022104,  0.05800968],\n",
       "        [ 0.00310523, -0.02673417, -0.05917867, ..., -0.07777284,\n",
       "         -0.03327871,  0.07613537]], shape=(5, 384), dtype=float32),\n",
       " array([[ 0.02128365,  0.0518295 ,  0.01277175, ...,  0.00538427,\n",
       "         -0.07274197,  0.02829222],\n",
       "        [-0.05609865, -0.05415057, -0.07181457, ..., -0.06174982,\n",
       "         -0.04950675,  0.09085722],\n",
       "        [-0.01257822,  0.08233503, -0.078766  , ...,  0.00058792,\n",
       "         -0.05253274,  0.08958531],\n",
       "        [-0.06824309,  0.02211652, -0.10130349, ..., -0.01934593,\n",
       "         -0.05390782,  0.05990189],\n",
       "        [ 0.01861834, -0.04436271, -0.04369909, ..., -0.0885526 ,\n",
       "         -0.01749686,  0.07539525]], shape=(5, 384), dtype=float32),\n",
       " array([[ 0.0233657 ,  0.03858743, -0.00450997, ...,  0.00977145,\n",
       "         -0.0668681 ,  0.04143128],\n",
       "        [-0.06152432, -0.05067543, -0.07498643, ..., -0.06579677,\n",
       "         -0.0508021 ,  0.10442475],\n",
       "        [-0.00401048,  0.07023419, -0.07797432, ...,  0.01451776,\n",
       "         -0.05724951,  0.09545518],\n",
       "        [-0.05997007,  0.02495566, -0.09856354, ..., -0.01951271,\n",
       "         -0.05371734,  0.05363318],\n",
       "        [ 0.01204697, -0.03451539, -0.05601199, ..., -0.07940656,\n",
       "         -0.01602985,  0.07688279]], shape=(5, 384), dtype=float32),\n",
       " array([[-3.66631337e-02,  1.12919860e-01, -1.85812276e-03, ...,\n",
       "         -3.76344584e-02, -5.28760217e-02,  4.96550240e-02],\n",
       "        [-4.57695797e-02,  2.66090389e-02, -7.39690736e-02, ...,\n",
       "         -4.85190488e-02, -3.66522409e-02,  7.35266060e-02],\n",
       "        [-3.38305198e-02, -4.36228793e-03, -8.51662159e-02, ...,\n",
       "         -3.27505395e-02, -7.19282478e-02,  1.00183234e-01],\n",
       "        [-7.69808218e-02,  4.50731131e-05, -1.07322454e-01, ...,\n",
       "          5.51051460e-03, -5.15849888e-02,  2.95573734e-02],\n",
       "        [-6.96247369e-02,  8.79912544e-03, -1.21691629e-01, ...,\n",
       "         -5.63287251e-02,  1.92372669e-02,  5.28538041e-02],\n",
       "        [-1.30234629e-01, -1.75580531e-02, -7.96516612e-02, ...,\n",
       "         -1.54396016e-02, -1.60958758e-03, -2.69440655e-02]],\n",
       "       shape=(6, 384), dtype=float32),\n",
       " array([[ 0.0162834 ,  0.03839494,  0.00090522, ..., -0.00510646,\n",
       "         -0.08628861,  0.03008925],\n",
       "        [-0.05954811, -0.06482875, -0.08413146, ..., -0.06438553,\n",
       "         -0.04888088,  0.09307957],\n",
       "        [-0.01754039,  0.0777416 , -0.0740181 , ...,  0.00295483,\n",
       "         -0.05997884,  0.09521874],\n",
       "        [-0.06222001,  0.0267676 , -0.10447028, ..., -0.03847906,\n",
       "         -0.05832584,  0.05574038],\n",
       "        [ 0.02686528, -0.03636515, -0.0470186 , ..., -0.07351548,\n",
       "         -0.02444236,  0.07926618]], shape=(5, 384), dtype=float32),\n",
       " array([[ 1.47721795e-02,  3.03640980e-02, -7.39856041e-04, ...,\n",
       "          4.94144578e-03, -7.68949240e-02,  3.18024978e-02],\n",
       "        [-5.30246906e-02, -6.16010390e-02, -9.25787464e-02, ...,\n",
       "         -5.95855005e-02, -5.35966903e-02,  9.11523029e-02],\n",
       "        [-1.44710345e-02,  7.23652467e-02, -7.81709552e-02, ...,\n",
       "          2.47518201e-05, -6.31362274e-02,  9.46824923e-02],\n",
       "        [-6.48509935e-02,  1.83946416e-02, -9.86506268e-02, ...,\n",
       "         -3.74195017e-02, -4.83359098e-02,  5.97952493e-02],\n",
       "        [ 2.56237872e-02, -4.35104631e-02, -4.50295582e-02, ...,\n",
       "         -8.26643109e-02, -1.98058728e-02,  7.86363557e-02]],\n",
       "       shape=(5, 384), dtype=float32),\n",
       " array([[ 0.01408614,  0.02952848, -0.01080975, ...,  0.00929925,\n",
       "         -0.08336712,  0.03705663],\n",
       "        [-0.03573854,  0.01500192, -0.06784763, ..., -0.05047901,\n",
       "         -0.04902426,  0.0414819 ],\n",
       "        [-0.04128325,  0.06415285, -0.06082182, ..., -0.03486868,\n",
       "         -0.03092702,  0.07606461],\n",
       "        [-0.05689491,  0.01578436, -0.09717113, ..., -0.01300336,\n",
       "         -0.03020344,  0.03956152],\n",
       "        [-0.06835661, -0.00904008, -0.07864708, ..., -0.07390284,\n",
       "          0.03119698,  0.06759757]], shape=(5, 384), dtype=float32),\n",
       " array([[-0.00726625,  0.08828059,  0.00831673, ..., -0.05153667,\n",
       "         -0.08122018,  0.02309739],\n",
       "        [-0.03364123, -0.07604889, -0.09324332, ..., -0.06213658,\n",
       "         -0.10047898,  0.06915206],\n",
       "        [-0.03309913,  0.04649605, -0.07734687, ..., -0.01340334,\n",
       "         -0.04092245,  0.08643899],\n",
       "        [-0.04310192,  0.03934133, -0.08036683, ..., -0.03021997,\n",
       "         -0.04653699,  0.0394166 ],\n",
       "        [-0.03780707, -0.06358639, -0.08177669, ..., -0.10481418,\n",
       "          0.02601439,  0.07135499]], shape=(5, 384), dtype=float32),\n",
       " array([[ 0.02604128,  0.03103519,  0.00286783, ...,  0.00806302,\n",
       "         -0.06306747,  0.03467062],\n",
       "        [-0.05378368, -0.07100055, -0.07385025, ..., -0.08298871,\n",
       "         -0.04692381,  0.09729821],\n",
       "        [-0.01473445,  0.07219819, -0.07477561, ..., -0.01356493,\n",
       "         -0.05765705,  0.10423554],\n",
       "        [-0.05732401,  0.01721328, -0.09307104, ..., -0.02656078,\n",
       "         -0.0469339 ,  0.06061103],\n",
       "        [ 0.00074838, -0.02914281, -0.06448215, ..., -0.07596314,\n",
       "         -0.03148238,  0.08147477]], shape=(5, 384), dtype=float32),\n",
       " array([[ 0.02022786,  0.05359725,  0.00672437, ..., -0.00666107,\n",
       "         -0.07734133,  0.03612791],\n",
       "        [-0.05040064, -0.05761853, -0.06845307, ..., -0.06810985,\n",
       "         -0.04169552,  0.08611868],\n",
       "        [-0.01070041,  0.06694599, -0.08301697, ...,  0.01822921,\n",
       "         -0.05024152,  0.09092165],\n",
       "        [-0.06899653,  0.0424212 , -0.09448368, ..., -0.02667238,\n",
       "         -0.04538975,  0.05283966],\n",
       "        [ 0.03462195, -0.03442397, -0.04664567, ..., -0.08140757,\n",
       "         -0.0136658 ,  0.07820983]], shape=(5, 384), dtype=float32),\n",
       " array([[-0.04994741,  0.02705946, -0.04336431, ..., -0.04420836,\n",
       "         -0.11478269,  0.10175619],\n",
       "        [-0.05769888, -0.01463045, -0.0759412 , ..., -0.05095861,\n",
       "         -0.07044087,  0.07661436],\n",
       "        [-0.03660516,  0.05387342, -0.06733998, ..., -0.02861711,\n",
       "         -0.01963484,  0.0662393 ],\n",
       "        [-0.04094957,  0.0242583 , -0.08331543, ..., -0.02544701,\n",
       "          0.01984082,  0.04334057],\n",
       "        [-0.00833794,  0.00407788, -0.00485666, ..., -0.00813061,\n",
       "         -0.04372556,  0.04322282]], shape=(5, 384), dtype=float32),\n",
       " array([[ 0.00880846,  0.03515026, -0.00308565, ..., -0.0080504 ,\n",
       "         -0.08458534,  0.03465182],\n",
       "        [-0.0711953 , -0.03821439, -0.06657625, ..., -0.05159194,\n",
       "         -0.04518908,  0.09175269],\n",
       "        [-0.02732002,  0.07250186, -0.0768942 , ..., -0.00948199,\n",
       "         -0.06110895,  0.08815365],\n",
       "        [-0.06303824,  0.04159826, -0.09167406, ..., -0.03581797,\n",
       "         -0.04157802,  0.05674804],\n",
       "        [-0.02151518, -0.06589573, -0.06862763, ..., -0.10859413,\n",
       "          0.01676351,  0.07822435]], shape=(5, 384), dtype=float32),\n",
       " array([[ 0.00690301,  0.00536029, -0.0213946 , ..., -0.01996382,\n",
       "         -0.10835603,  0.071975  ],\n",
       "        [-0.05348077, -0.01884439, -0.06499797, ..., -0.0496005 ,\n",
       "         -0.07729912,  0.08375322],\n",
       "        [-0.03088883,  0.07939073, -0.05011173, ..., -0.05244471,\n",
       "         -0.01877397,  0.06991722],\n",
       "        [-0.07234354, -0.02685819, -0.11406457, ..., -0.02837882,\n",
       "          0.04878437,  0.04065287],\n",
       "        [-0.02231481,  0.01774137, -0.03367823, ..., -0.00399067,\n",
       "          0.01453909,  0.02174711]], shape=(5, 384), dtype=float32),\n",
       " array([[ 0.00572558,  0.04292743, -0.00013202, ..., -0.01159885,\n",
       "         -0.06849547,  0.04984813],\n",
       "        [-0.05092016, -0.07167358, -0.07270274, ..., -0.06857403,\n",
       "         -0.06192246,  0.07673508],\n",
       "        [-0.00019147,  0.06855054, -0.07159569, ...,  0.01842283,\n",
       "         -0.05262944,  0.081058  ],\n",
       "        [-0.05842568,  0.0451097 , -0.08413246, ..., -0.03931113,\n",
       "         -0.05336187,  0.04889416],\n",
       "        [ 0.02127777, -0.04439307, -0.04038569, ..., -0.09277616,\n",
       "         -0.01648988,  0.07993571]], shape=(5, 384), dtype=float32),\n",
       " array([[ 0.00883977,  0.01832332, -0.02667733, ..., -0.01134856,\n",
       "         -0.10158793,  0.06954245],\n",
       "        [-0.06357652, -0.01414873, -0.11282075, ..., -0.04766745,\n",
       "         -0.05796927,  0.08207153],\n",
       "        [-0.03689381,  0.08248769, -0.05824869, ..., -0.03967993,\n",
       "         -0.02031445,  0.06484234],\n",
       "        [-0.07172458, -0.03303338, -0.11572518, ..., -0.03294077,\n",
       "          0.05136585,  0.03872416],\n",
       "        [-0.02296057,  0.00628464, -0.03759851, ...,  0.00042247,\n",
       "          0.02641752,  0.02147366]], shape=(5, 384), dtype=float32),\n",
       " array([[-0.03440614,  0.09562172,  0.00482494, ..., -0.05087684,\n",
       "         -0.09846243,  0.06170424],\n",
       "        [-0.03151264,  0.02494131, -0.06404409, ..., -0.04860811,\n",
       "         -0.05172308,  0.06551185],\n",
       "        [-0.03820715,  0.04066247, -0.08281318, ..., -0.03609229,\n",
       "         -0.04533055,  0.10053011],\n",
       "        [-0.05587824,  0.00808655, -0.10385752, ..., -0.0007889 ,\n",
       "         -0.02823351,  0.04131916],\n",
       "        [-0.07045157, -0.0107079 , -0.09101476, ..., -0.06078412,\n",
       "          0.04448765,  0.06135975]], shape=(5, 384), dtype=float32),\n",
       " array([[ 0.0286781 ,  0.03633983,  0.00999472, ...,  0.01251404,\n",
       "         -0.07204483,  0.03556303],\n",
       "        [-0.05809389, -0.05979079, -0.077754  , ..., -0.0525086 ,\n",
       "         -0.05263352,  0.09225662],\n",
       "        [-0.01683041,  0.07036857, -0.08007272, ...,  0.00869917,\n",
       "         -0.05736085,  0.09022439],\n",
       "        [-0.06182635,  0.0227032 , -0.08561324, ..., -0.02896247,\n",
       "         -0.04953167,  0.06040746],\n",
       "        [ 0.02538507, -0.03870153, -0.04431796, ..., -0.08781897,\n",
       "         -0.02454869,  0.07492321]], shape=(5, 384), dtype=float32),\n",
       " array([[ 0.02523061,  0.0374378 ,  0.00214706, ...,  0.01550741,\n",
       "         -0.07567737,  0.03927417],\n",
       "        [-0.05710148, -0.05818452, -0.07349603, ..., -0.05535266,\n",
       "         -0.05758   ,  0.09593527],\n",
       "        [-0.0131371 ,  0.07336567, -0.06900153, ...,  0.01017864,\n",
       "         -0.05676979,  0.09073546],\n",
       "        [-0.06655014,  0.01765084, -0.097224  , ..., -0.02479513,\n",
       "         -0.05627301,  0.05432696],\n",
       "        [ 0.02951443, -0.03979671, -0.04885459, ..., -0.08532439,\n",
       "         -0.02172728,  0.07758039]], shape=(5, 384), dtype=float32),\n",
       " array([[ 0.00933241,  0.04341548,  0.00106748, ..., -0.00969671,\n",
       "         -0.08614204,  0.0371958 ],\n",
       "        [-0.05893486, -0.05714815, -0.0813164 , ..., -0.08475032,\n",
       "         -0.05564302,  0.09133095],\n",
       "        [-0.01504974,  0.06867146, -0.07670245, ...,  0.00298812,\n",
       "         -0.06063216,  0.08265506],\n",
       "        [-0.05402161,  0.05076701, -0.07521276, ..., -0.04952588,\n",
       "         -0.04654926,  0.05586223],\n",
       "        [-0.02938027, -0.05877836, -0.07295237, ..., -0.11024991,\n",
       "          0.01211102,  0.07595275]], shape=(5, 384), dtype=float32),\n",
       " array([[ 0.01620851,  0.0445448 , -0.0058527 , ..., -0.01185138,\n",
       "         -0.07858417,  0.04309085],\n",
       "        [-0.04745443, -0.0714952 , -0.06347872, ..., -0.07764352,\n",
       "         -0.07012914,  0.08202212],\n",
       "        [-0.00250878,  0.06392013, -0.07687277, ...,  0.01451724,\n",
       "         -0.06113876,  0.08010831],\n",
       "        [-0.05981213,  0.05332974, -0.07818118, ..., -0.03402426,\n",
       "         -0.05078118,  0.04635489],\n",
       "        [ 0.02176957, -0.03999371, -0.04774529, ..., -0.091185  ,\n",
       "         -0.0249193 ,  0.07602293]], shape=(5, 384), dtype=float32),\n",
       " array([[-0.01904097,  0.08937567, -0.00080643, ..., -0.01647674,\n",
       "         -0.06953869,  0.04943595],\n",
       "        [-0.03448476,  0.02046637, -0.06378652, ..., -0.03298662,\n",
       "         -0.04141534,  0.06954549],\n",
       "        [-0.0329362 ,  0.06185077, -0.06632678, ..., -0.0357235 ,\n",
       "         -0.04895353,  0.10580165],\n",
       "        [-0.05604924,  0.02114232, -0.10706311, ..., -0.00515543,\n",
       "         -0.04689947,  0.02957543],\n",
       "        [-0.05511005,  0.01580631, -0.11749456, ..., -0.06381546,\n",
       "          0.02754332,  0.06346051],\n",
       "        [-0.0898392 , -0.02230501, -0.04881248, ...,  0.04182759,\n",
       "          0.00385573, -0.04544275]], shape=(6, 384), dtype=float32),\n",
       " array([[-0.02635468,  0.07223303, -0.00060967, ..., -0.02247933,\n",
       "         -0.08168041,  0.06284339],\n",
       "        [-0.04378378, -0.05850805, -0.08021753, ..., -0.08028125,\n",
       "         -0.064174  ,  0.07170431],\n",
       "        [-0.03308842,  0.03033138, -0.07380214, ..., -0.01246132,\n",
       "         -0.05337689,  0.09536541],\n",
       "        [-0.05947447,  0.0397813 , -0.0491139 , ..., -0.04496835,\n",
       "         -0.03734615,  0.03746884],\n",
       "        [-0.04188107, -0.07629763, -0.09288087, ..., -0.09457657,\n",
       "          0.03159108,  0.07788751]], shape=(5, 384), dtype=float32),\n",
       " array([[ 0.01973763,  0.03852915, -0.00910394, ...,  0.0021845 ,\n",
       "         -0.07988405,  0.02646458],\n",
       "        [-0.04349209,  0.0209366 , -0.0732647 , ..., -0.06302866,\n",
       "         -0.05137998,  0.03915461],\n",
       "        [-0.02947677,  0.0476581 , -0.06965595, ..., -0.0412837 ,\n",
       "         -0.03300021,  0.0765226 ],\n",
       "        [-0.05808467,  0.01859285, -0.11113959, ..., -0.0140069 ,\n",
       "         -0.03666128,  0.0417067 ],\n",
       "        [-0.05670423, -0.01025029, -0.09219268, ..., -0.07208505,\n",
       "          0.02132838,  0.07479301]], shape=(5, 384), dtype=float32),\n",
       " array([[ 0.03292258,  0.04870662,  0.00314174, ...,  0.00894559,\n",
       "         -0.06674142,  0.03469829],\n",
       "        [-0.05669566, -0.04886324, -0.09281813, ..., -0.04989403,\n",
       "         -0.04914154,  0.08928303],\n",
       "        [-0.0029559 ,  0.06885191, -0.07812581, ...,  0.01667042,\n",
       "         -0.05033809,  0.09495012],\n",
       "        [-0.06531864,  0.02411992, -0.09960354, ..., -0.01358435,\n",
       "         -0.05202274,  0.05557119],\n",
       "        [ 0.01365601, -0.04543534, -0.04630112, ..., -0.09064633,\n",
       "         -0.0118222 ,  0.07638522]], shape=(5, 384), dtype=float32),\n",
       " array([[ 0.02250762,  0.04688725,  0.00219784, ...,  0.00920565,\n",
       "         -0.06968059,  0.03548799],\n",
       "        [-0.05906627, -0.05891862, -0.07835764, ..., -0.06426453,\n",
       "         -0.05235513,  0.08955409],\n",
       "        [-0.01302167,  0.07907765, -0.07496361, ...,  0.00505973,\n",
       "         -0.05459785,  0.09788898],\n",
       "        [-0.06566244,  0.02013253, -0.10445943, ..., -0.02967904,\n",
       "         -0.05800403,  0.05946112],\n",
       "        [ 0.02702528, -0.03736002, -0.05177119, ..., -0.07738677,\n",
       "         -0.00973799,  0.07742676]], shape=(5, 384), dtype=float32),\n",
       " array([[ 0.02476827,  0.04001686,  0.0010982 , ...,  0.02188483,\n",
       "         -0.06541546,  0.03179711],\n",
       "        [-0.06160257, -0.06392606, -0.06722634, ..., -0.07382981,\n",
       "         -0.04498   ,  0.09747459],\n",
       "        [-0.0111541 ,  0.07360183, -0.07374538, ..., -0.01199593,\n",
       "         -0.05906611,  0.09353661],\n",
       "        [-0.06126036,  0.02229119, -0.09570592, ..., -0.01676112,\n",
       "         -0.05485853,  0.05129453],\n",
       "        [ 0.01495893, -0.03122456, -0.04796328, ..., -0.08210494,\n",
       "         -0.01029027,  0.07529879]], shape=(5, 384), dtype=float32)]"
      ]
     },
     "execution_count": 79,
     "metadata": {},
     "output_type": "execute_result"
    }
   ],
   "source": [
    "final_dense_vector"
   ]
  },
  {
   "cell_type": "code",
   "execution_count": 57,
   "id": "0c156e68",
   "metadata": {},
   "outputs": [
    {
     "data": {
      "text/plain": [
       "UpdateResult(operation_id=1, status=<UpdateStatus.COMPLETED: 'completed'>)"
      ]
     },
     "execution_count": 57,
     "metadata": {},
     "output_type": "execute_result"
    }
   ],
   "source": [
    "client.create_payload_index(\n",
    "    collection_name = \"hybrid_search_daraz\",\n",
    "    field_name = \"doc_id\",\n",
    "    field_schema = \"integer\"\n",
    ")"
   ]
  },
  {
   "cell_type": "code",
   "execution_count": 58,
   "id": "09245094",
   "metadata": {},
   "outputs": [
    {
     "data": {
      "text/plain": [
       "UpdateResult(operation_id=3, status=<UpdateStatus.COMPLETED: 'completed'>)"
      ]
     },
     "execution_count": 58,
     "metadata": {},
     "output_type": "execute_result"
    }
   ],
   "source": [
    "client.create_payload_index(\n",
    "    collection_name = \"hybrid_search_daraz\",\n",
    "    field_name = \"chunk_id\",\n",
    "    \n",
    "    field_schema = \"integer\"\n",
    ")"
   ]
  },
  {
   "cell_type": "code",
   "execution_count": 59,
   "id": "6177fcb0",
   "metadata": {},
   "outputs": [
    {
     "data": {
      "text/plain": [
       "UpdateResult(operation_id=5, status=<UpdateStatus.COMPLETED: 'completed'>)"
      ]
     },
     "execution_count": 59,
     "metadata": {},
     "output_type": "execute_result"
    }
   ],
   "source": [
    "client.create_payload_index(\n",
    "    collection_name = \"hybrid_search_daraz\",\n",
    "    field_name = \"file_name\",\n",
    "    field_schema = \"keyword\"\n",
    ")"
   ]
  },
  {
   "cell_type": "code",
   "execution_count": 68,
   "id": "9868d1a8",
   "metadata": {},
   "outputs": [
    {
     "ename": "ImportError",
     "evalue": "cannot import name 'SparseEmbedding' from 'fastembed.embedding' (c:\\Users\\royka\\.conda\\envs\\rag\\lib\\site-packages\\fastembed\\embedding.py)",
     "output_type": "error",
     "traceback": [
      "\u001b[1;31m---------------------------------------------------------------------------\u001b[0m",
      "\u001b[1;31mImportError\u001b[0m                               Traceback (most recent call last)",
      "Cell \u001b[1;32mIn[68], line 1\u001b[0m\n\u001b[1;32m----> 1\u001b[0m \u001b[38;5;28;01mfrom\u001b[39;00m\u001b[38;5;250m \u001b[39m\u001b[38;5;21;01mfastembed\u001b[39;00m\u001b[38;5;21;01m.\u001b[39;00m\u001b[38;5;21;01membedding\u001b[39;00m\u001b[38;5;250m \u001b[39m\u001b[38;5;28;01mimport\u001b[39;00m SparseEmbedding\n",
      "\u001b[1;31mImportError\u001b[0m: cannot import name 'SparseEmbedding' from 'fastembed.embedding' (c:\\Users\\royka\\.conda\\envs\\rag\\lib\\site-packages\\fastembed\\embedding.py)"
     ]
    }
   ],
   "source": [
    "from fastembed.embedding import SparseEmbedding"
   ]
  },
  {
   "cell_type": "code",
   "execution_count": 80,
   "id": "76bb8a06",
   "metadata": {},
   "outputs": [],
   "source": [
    "offset = 0\n",
    "info = client.get_collection(collection_name = \"hybrid_search_daraz\")\n",
    "file_number = 0\n",
    "count = info.points_count\n",
    "if(count!=0):\n",
    "    res, _ = client.scroll(\n",
    "        collection_name = \"hybrid_search_daraz\",\n",
    "        with_payload = True,\n",
    "        with_vectors=False,\n",
    "        limit = 1,\n",
    "        order_by = {\n",
    "            \"key\":\"chunk_id\",\n",
    "            \"direction\" : \"desc\"\n",
    "        }\n",
    ")\n",
    "    \n",
    "    if(res):\n",
    "        file_number = res[0].payload.get(\"doc_id\")[0]\n",
    "        file_number = file_number + 1\n",
    "        last_id = res[0].id\n",
    "        offset = last_id + 1\n",
    "    else:\n",
    "        offset = 0\n",
    "else:\n",
    "    offset = 0\n",
    "    file_number = 0\n",
    "\n",
    "\n",
    "for doc in range(len(all_chunks)):\n",
    "    for idx in range(len(all_chunks[doc])):\n",
    "        client.upsert(\n",
    "            collection_name = \"hybrid_search_daraz\",\n",
    "            points = [\n",
    "                models.PointStruct(\n",
    "                    id = offset,\n",
    "                    payload = {\n",
    "                        \"doc_id\" : (file_number,doc),\n",
    "                        \"chunk_id\":offset,\n",
    "                        \"chunk\" : all_chunks[doc][idx],\n",
    "                        \"file_name\" : base_name\n",
    "                    },\n",
    "                    vector = {\n",
    "                        \"dense\" : final_dense_vector[doc][idx].tolist(),\n",
    "                        \"sparse\" : models.Document(text = all_chunks[doc][idx],model = sparse_model_name)\n",
    "                    }\n",
    "                )\n",
    "            ]\n",
    "        )\n",
    "        offset+=1"
   ]
  },
  {
   "cell_type": "code",
   "execution_count": 1,
   "id": "36dd2092",
   "metadata": {},
   "outputs": [
    {
     "name": "stderr",
     "output_type": "stream",
     "text": [
      "c:\\Users\\royka\\.conda\\envs\\rag\\lib\\site-packages\\tqdm\\auto.py:21: TqdmWarning: IProgress not found. Please update jupyter and ipywidgets. See https://ipywidgets.readthedocs.io/en/stable/user_install.html\n",
      "  from .autonotebook import tqdm as notebook_tqdm\n",
      "\u001b[32m2025-10-06 16:36:18.625\u001b[0m | \u001b[33m\u001b[1mWARNING \u001b[0m | \u001b[36mfastembed.embedding\u001b[0m:\u001b[36m<module>\u001b[0m:\u001b[36m7\u001b[0m - \u001b[33m\u001b[1mDefaultEmbedding, FlagEmbedding, JinaEmbedding are deprecated.Use from fastembed import TextEmbedding instead.\u001b[0m\n"
     ]
    },
    {
     "ename": "ImportError",
     "evalue": "cannot import name 'SparseEmbedding' from 'fastembed.embedding' (c:\\Users\\royka\\.conda\\envs\\rag\\lib\\site-packages\\fastembed\\embedding.py)",
     "output_type": "error",
     "traceback": [
      "\u001b[1;31m---------------------------------------------------------------------------\u001b[0m",
      "\u001b[1;31mImportError\u001b[0m                               Traceback (most recent call last)",
      "Cell \u001b[1;32mIn[1], line 1\u001b[0m\n\u001b[1;32m----> 1\u001b[0m \u001b[38;5;28;01mfrom\u001b[39;00m\u001b[38;5;250m \u001b[39m\u001b[38;5;21;01mfastembed\u001b[39;00m\u001b[38;5;21;01m.\u001b[39;00m\u001b[38;5;21;01membedding\u001b[39;00m\u001b[38;5;250m \u001b[39m\u001b[38;5;28;01mimport\u001b[39;00m SparseEmbedding\n",
      "\u001b[1;31mImportError\u001b[0m: cannot import name 'SparseEmbedding' from 'fastembed.embedding' (c:\\Users\\royka\\.conda\\envs\\rag\\lib\\site-packages\\fastembed\\embedding.py)"
     ]
    }
   ],
   "source": [
    "from fastembed.embedding import SparseEmbedding"
   ]
  },
  {
   "cell_type": "code",
   "execution_count": 2,
   "id": "1b00cb3a",
   "metadata": {},
   "outputs": [],
   "source": [
    "from fastembed import TextEmbedding\n"
   ]
  },
  {
   "cell_type": "code",
   "execution_count": 7,
   "id": "7d833b88",
   "metadata": {},
   "outputs": [
    {
     "ename": "ValueError",
     "evalue": "Model Qdrant/bge-sparse-en-v1.5 is not supported in TextEmbedding. Please check the supported models using `TextEmbedding.list_supported_models()`",
     "output_type": "error",
     "traceback": [
      "\u001b[1;31m---------------------------------------------------------------------------\u001b[0m",
      "\u001b[1;31mValueError\u001b[0m                                Traceback (most recent call last)",
      "Cell \u001b[1;32mIn[7], line 2\u001b[0m\n\u001b[0;32m      1\u001b[0m sparse_model_name \u001b[38;5;241m=\u001b[39m \u001b[38;5;124m\"\u001b[39m\u001b[38;5;124mQdrant/bge-sparse-en-v1.5\u001b[39m\u001b[38;5;124m\"\u001b[39m\n\u001b[1;32m----> 2\u001b[0m sparse_model \u001b[38;5;241m=\u001b[39m \u001b[43mTextEmbedding\u001b[49m\u001b[43m(\u001b[49m\u001b[43mmodel_name\u001b[49m\u001b[38;5;241;43m=\u001b[39;49m\u001b[43msparse_model_name\u001b[49m\u001b[43m)\u001b[49m\n",
      "File \u001b[1;32mc:\\Users\\royka\\.conda\\envs\\rag\\lib\\site-packages\\fastembed\\text\\text_embedding.py:126\u001b[0m, in \u001b[0;36mTextEmbedding.__init__\u001b[1;34m(self, model_name, cache_dir, threads, providers, cuda, device_ids, lazy_load, **kwargs)\u001b[0m\n\u001b[0;32m    114\u001b[0m         \u001b[38;5;28mself\u001b[39m\u001b[38;5;241m.\u001b[39mmodel \u001b[38;5;241m=\u001b[39m EMBEDDING_MODEL_TYPE(\n\u001b[0;32m    115\u001b[0m             model_name\u001b[38;5;241m=\u001b[39mmodel_name,\n\u001b[0;32m    116\u001b[0m             cache_dir\u001b[38;5;241m=\u001b[39mcache_dir,\n\u001b[1;32m   (...)\u001b[0m\n\u001b[0;32m    122\u001b[0m             \u001b[38;5;241m*\u001b[39m\u001b[38;5;241m*\u001b[39mkwargs,\n\u001b[0;32m    123\u001b[0m         )\n\u001b[0;32m    124\u001b[0m         \u001b[38;5;28;01mreturn\u001b[39;00m\n\u001b[1;32m--> 126\u001b[0m \u001b[38;5;28;01mraise\u001b[39;00m \u001b[38;5;167;01mValueError\u001b[39;00m(\n\u001b[0;32m    127\u001b[0m     \u001b[38;5;124mf\u001b[39m\u001b[38;5;124m\"\u001b[39m\u001b[38;5;124mModel \u001b[39m\u001b[38;5;132;01m{\u001b[39;00mmodel_name\u001b[38;5;132;01m}\u001b[39;00m\u001b[38;5;124m is not supported in TextEmbedding. \u001b[39m\u001b[38;5;124m\"\u001b[39m\n\u001b[0;32m    128\u001b[0m     \u001b[38;5;124m\"\u001b[39m\u001b[38;5;124mPlease check the supported models using `TextEmbedding.list_supported_models()`\u001b[39m\u001b[38;5;124m\"\u001b[39m\n\u001b[0;32m    129\u001b[0m )\n",
      "\u001b[1;31mValueError\u001b[0m: Model Qdrant/bge-sparse-en-v1.5 is not supported in TextEmbedding. Please check the supported models using `TextEmbedding.list_supported_models()`"
     ]
    }
   ],
   "source": [
    "sparse_model_name = \"Qdrant/bge-sparse-en-v1.5\"\n",
    "sparse_model = TextEmbedding(model_name=sparse_model_name)"
   ]
  },
  {
   "cell_type": "code",
   "execution_count": 9,
   "id": "15a2d0ea",
   "metadata": {},
   "outputs": [
    {
     "name": "stdout",
     "output_type": "stream",
     "text": [
      "--- Verifying fastembed installation ---\n",
      "\n",
      "Checking for supported sparse models...\n",
      "\n",
      "  [FAILURE] No sparse models found. The installation may not have updated correctly.\n"
     ]
    }
   ],
   "source": [
    "from fastembed import TextEmbedding\n",
    "\n",
    "print(\"--- Verifying fastembed installation ---\")\n",
    "\n",
    "supported_models = TextEmbedding.list_supported_models()\n",
    "\n",
    "found_sparse = False\n",
    "print(\"\\nChecking for supported sparse models...\")\n",
    "for model_info in supported_models:\n",
    "    # We are looking for the official sparse models\n",
    "    if \"sparse\" in model_info[\"model\"] or \"bm25\" in model_info[\"model\"]:\n",
    "        print(f\"  [SUCCESS] Found sparse model: {model_info['model']}\")\n",
    "        found_sparse = True\n",
    "\n",
    "if not found_sparse:\n",
    "    print(\"\\n  [FAILURE] No sparse models found. The installation may not have updated correctly.\")\n",
    "else:\n",
    "    print(\"\\n[SUCCESS] Your fastembed installation now supports both dense and sparse models!\")"
   ]
  },
  {
   "cell_type": "code",
   "execution_count": 5,
   "id": "917e0238",
   "metadata": {},
   "outputs": [
    {
     "name": "stdout",
     "output_type": "stream",
     "text": [
      "{'model': 'BAAI/bge-base-en', 'sources': {'hf': 'Qdrant/fast-bge-base-en', 'url': 'https://storage.googleapis.com/qdrant-fastembed/fast-bge-base-en.tar.gz', '_deprecated_tar_struct': True}, 'model_file': 'model_optimized.onnx', 'description': 'Text embeddings, Unimodal (text), English, 512 input tokens truncation, Prefixes for queries/documents: necessary, 2023 year.', 'license': 'mit', 'size_in_GB': 0.42, 'additional_files': [], 'dim': 768, 'tasks': {}}\n",
      "{'model': 'BAAI/bge-base-en-v1.5', 'sources': {'hf': 'qdrant/bge-base-en-v1.5-onnx-q', 'url': 'https://storage.googleapis.com/qdrant-fastembed/fast-bge-base-en-v1.5.tar.gz', '_deprecated_tar_struct': True}, 'model_file': 'model_optimized.onnx', 'description': 'Text embeddings, Unimodal (text), English, 512 input tokens truncation, Prefixes for queries/documents: not so necessary, 2023 year.', 'license': 'mit', 'size_in_GB': 0.21, 'additional_files': [], 'dim': 768, 'tasks': {}}\n",
      "{'model': 'BAAI/bge-large-en-v1.5', 'sources': {'hf': 'qdrant/bge-large-en-v1.5-onnx', 'url': None, '_deprecated_tar_struct': False}, 'model_file': 'model.onnx', 'description': 'Text embeddings, Unimodal (text), English, 512 input tokens truncation, Prefixes for queries/documents: not so necessary, 2023 year.', 'license': 'mit', 'size_in_GB': 1.2, 'additional_files': [], 'dim': 1024, 'tasks': {}}\n",
      "{'model': 'BAAI/bge-small-en', 'sources': {'hf': 'Qdrant/bge-small-en', 'url': 'https://storage.googleapis.com/qdrant-fastembed/BAAI-bge-small-en.tar.gz', '_deprecated_tar_struct': True}, 'model_file': 'model_optimized.onnx', 'description': 'Text embeddings, Unimodal (text), English, 512 input tokens truncation, Prefixes for queries/documents: necessary, 2023 year.', 'license': 'mit', 'size_in_GB': 0.13, 'additional_files': [], 'dim': 384, 'tasks': {}}\n",
      "{'model': 'BAAI/bge-small-en-v1.5', 'sources': {'hf': 'qdrant/bge-small-en-v1.5-onnx-q', 'url': None, '_deprecated_tar_struct': False}, 'model_file': 'model_optimized.onnx', 'description': 'Text embeddings, Unimodal (text), English, 512 input tokens truncation, Prefixes for queries/documents: not so necessary, 2023 year.', 'license': 'mit', 'size_in_GB': 0.067, 'additional_files': [], 'dim': 384, 'tasks': {}}\n",
      "{'model': 'BAAI/bge-small-zh-v1.5', 'sources': {'hf': 'Qdrant/bge-small-zh-v1.5', 'url': 'https://storage.googleapis.com/qdrant-fastembed/fast-bge-small-zh-v1.5.tar.gz', '_deprecated_tar_struct': True}, 'model_file': 'model_optimized.onnx', 'description': 'Text embeddings, Unimodal (text), Chinese, 512 input tokens truncation, Prefixes for queries/documents: not so necessary, 2023 year.', 'license': 'mit', 'size_in_GB': 0.09, 'additional_files': [], 'dim': 512, 'tasks': {}}\n",
      "{'model': 'mixedbread-ai/mxbai-embed-large-v1', 'sources': {'hf': 'mixedbread-ai/mxbai-embed-large-v1', 'url': None, '_deprecated_tar_struct': False}, 'model_file': 'onnx/model.onnx', 'description': 'Text embeddings, Unimodal (text), English, 512 input tokens truncation, Prefixes for queries/documents: necessary, 2024 year.', 'license': 'apache-2.0', 'size_in_GB': 0.64, 'additional_files': [], 'dim': 1024, 'tasks': {}}\n",
      "{'model': 'snowflake/snowflake-arctic-embed-xs', 'sources': {'hf': 'snowflake/snowflake-arctic-embed-xs', 'url': None, '_deprecated_tar_struct': False}, 'model_file': 'onnx/model.onnx', 'description': 'Text embeddings, Unimodal (text), English, 512 input tokens truncation, Prefixes for queries/documents: necessary, 2024 year.', 'license': 'apache-2.0', 'size_in_GB': 0.09, 'additional_files': [], 'dim': 384, 'tasks': {}}\n",
      "{'model': 'snowflake/snowflake-arctic-embed-s', 'sources': {'hf': 'snowflake/snowflake-arctic-embed-s', 'url': None, '_deprecated_tar_struct': False}, 'model_file': 'onnx/model.onnx', 'description': 'Text embeddings, Unimodal (text), English, 512 input tokens truncation, Prefixes for queries/documents: necessary, 2024 year.', 'license': 'apache-2.0', 'size_in_GB': 0.13, 'additional_files': [], 'dim': 384, 'tasks': {}}\n",
      "{'model': 'snowflake/snowflake-arctic-embed-m', 'sources': {'hf': 'Snowflake/snowflake-arctic-embed-m', 'url': None, '_deprecated_tar_struct': False}, 'model_file': 'onnx/model.onnx', 'description': 'Text embeddings, Unimodal (text), English, 512 input tokens truncation, Prefixes for queries/documents: necessary, 2024 year.', 'license': 'apache-2.0', 'size_in_GB': 0.43, 'additional_files': [], 'dim': 768, 'tasks': {}}\n",
      "{'model': 'snowflake/snowflake-arctic-embed-m-long', 'sources': {'hf': 'snowflake/snowflake-arctic-embed-m-long', 'url': None, '_deprecated_tar_struct': False}, 'model_file': 'onnx/model.onnx', 'description': 'Text embeddings, Unimodal (text), English, 2048 input tokens truncation, Prefixes for queries/documents: necessary, 2024 year.', 'license': 'apache-2.0', 'size_in_GB': 0.54, 'additional_files': [], 'dim': 768, 'tasks': {}}\n",
      "{'model': 'snowflake/snowflake-arctic-embed-l', 'sources': {'hf': 'snowflake/snowflake-arctic-embed-l', 'url': None, '_deprecated_tar_struct': False}, 'model_file': 'onnx/model.onnx', 'description': 'Text embeddings, Unimodal (text), English, 512 input tokens truncation, Prefixes for queries/documents: necessary, 2024 year.', 'license': 'apache-2.0', 'size_in_GB': 1.02, 'additional_files': [], 'dim': 1024, 'tasks': {}}\n",
      "{'model': 'jinaai/jina-clip-v1', 'sources': {'hf': 'jinaai/jina-clip-v1', 'url': None, '_deprecated_tar_struct': False}, 'model_file': 'onnx/text_model.onnx', 'description': 'Text embeddings, Multimodal (text&image), English, Prefixes for queries/documents: not necessary, 2024 year', 'license': 'apache-2.0', 'size_in_GB': 0.55, 'additional_files': [], 'dim': 768, 'tasks': {}}\n",
      "{'model': 'Qdrant/clip-ViT-B-32-text', 'sources': {'hf': 'Qdrant/clip-ViT-B-32-text', 'url': None, '_deprecated_tar_struct': False}, 'model_file': 'model.onnx', 'description': 'Text embeddings, Multimodal (text&image), English, 77 input tokens truncation, Prefixes for queries/documents: not necessary, 2021 year', 'license': 'mit', 'size_in_GB': 0.25, 'additional_files': [], 'dim': 512, 'tasks': {}}\n",
      "{'model': 'sentence-transformers/all-MiniLM-L6-v2', 'sources': {'hf': 'qdrant/all-MiniLM-L6-v2-onnx', 'url': 'https://storage.googleapis.com/qdrant-fastembed/sentence-transformers-all-MiniLM-L6-v2.tar.gz', '_deprecated_tar_struct': True}, 'model_file': 'model.onnx', 'description': 'Text embeddings, Unimodal (text), English, 256 input tokens truncation, Prefixes for queries/documents: not necessary, 2021 year.', 'license': 'apache-2.0', 'size_in_GB': 0.09, 'additional_files': [], 'dim': 384, 'tasks': {}}\n",
      "{'model': 'jinaai/jina-embeddings-v2-base-en', 'sources': {'hf': 'xenova/jina-embeddings-v2-base-en', 'url': None, '_deprecated_tar_struct': False}, 'model_file': 'onnx/model.onnx', 'description': 'Text embeddings, Unimodal (text), English, 8192 input tokens truncation, Prefixes for queries/documents: not necessary, 2023 year.', 'license': 'apache-2.0', 'size_in_GB': 0.52, 'additional_files': [], 'dim': 768, 'tasks': {}}\n",
      "{'model': 'jinaai/jina-embeddings-v2-small-en', 'sources': {'hf': 'xenova/jina-embeddings-v2-small-en', 'url': None, '_deprecated_tar_struct': False}, 'model_file': 'onnx/model.onnx', 'description': 'Text embeddings, Unimodal (text), English, 8192 input tokens truncation, Prefixes for queries/documents: not necessary, 2023 year.', 'license': 'apache-2.0', 'size_in_GB': 0.12, 'additional_files': [], 'dim': 512, 'tasks': {}}\n",
      "{'model': 'jinaai/jina-embeddings-v2-base-de', 'sources': {'hf': 'jinaai/jina-embeddings-v2-base-de', 'url': None, '_deprecated_tar_struct': False}, 'model_file': 'onnx/model_fp16.onnx', 'description': 'Text embeddings, Unimodal (text), Multilingual (German, English), 8192 input tokens truncation, Prefixes for queries/documents: not necessary, 2024 year.', 'license': 'apache-2.0', 'size_in_GB': 0.32, 'additional_files': [], 'dim': 768, 'tasks': {}}\n",
      "{'model': 'jinaai/jina-embeddings-v2-base-code', 'sources': {'hf': 'jinaai/jina-embeddings-v2-base-code', 'url': None, '_deprecated_tar_struct': False}, 'model_file': 'onnx/model.onnx', 'description': 'Text embeddings, Unimodal (text), Multilingual (English, 30 programming languages), 8192 input tokens truncation, Prefixes for queries/documents: not necessary, 2024 year.', 'license': 'apache-2.0', 'size_in_GB': 0.64, 'additional_files': [], 'dim': 768, 'tasks': {}}\n",
      "{'model': 'jinaai/jina-embeddings-v2-base-zh', 'sources': {'hf': 'jinaai/jina-embeddings-v2-base-zh', 'url': None, '_deprecated_tar_struct': False}, 'model_file': 'onnx/model.onnx', 'description': 'Text embeddings, Unimodal (text), supports mixed Chinese-English input text, 8192 input tokens truncation, Prefixes for queries/documents: not necessary, 2024 year.', 'license': 'apache-2.0', 'size_in_GB': 0.64, 'additional_files': [], 'dim': 768, 'tasks': {}}\n",
      "{'model': 'jinaai/jina-embeddings-v2-base-es', 'sources': {'hf': 'jinaai/jina-embeddings-v2-base-es', 'url': None, '_deprecated_tar_struct': False}, 'model_file': 'onnx/model.onnx', 'description': 'Text embeddings, Unimodal (text), supports mixed Spanish-English input text, 8192 input tokens truncation, Prefixes for queries/documents: not necessary, 2024 year.', 'license': 'apache-2.0', 'size_in_GB': 0.64, 'additional_files': [], 'dim': 768, 'tasks': {}}\n",
      "{'model': 'thenlper/gte-base', 'sources': {'hf': 'thenlper/gte-base', 'url': None, '_deprecated_tar_struct': False}, 'model_file': 'onnx/model.onnx', 'description': 'General text embeddings, Unimodal (text), supports English only input text, 512 input tokens truncation, Prefixes for queries/documents: not necessary, 2024 year.', 'license': 'mit', 'size_in_GB': 0.44, 'additional_files': [], 'dim': 768, 'tasks': {}}\n",
      "{'model': 'thenlper/gte-large', 'sources': {'hf': 'qdrant/gte-large-onnx', 'url': None, '_deprecated_tar_struct': False}, 'model_file': 'model.onnx', 'description': 'Text embeddings, Unimodal (text), English, 512 input tokens truncation, Prefixes for queries/documents: not necessary, 2023 year.', 'license': 'mit', 'size_in_GB': 1.2, 'additional_files': [], 'dim': 1024, 'tasks': {}}\n",
      "{'model': 'nomic-ai/nomic-embed-text-v1.5', 'sources': {'hf': 'nomic-ai/nomic-embed-text-v1.5', 'url': None, '_deprecated_tar_struct': False}, 'model_file': 'onnx/model.onnx', 'description': 'Text embeddings, Multimodal (text, image), English, 8192 input tokens truncation, Prefixes for queries/documents: necessary, 2024 year.', 'license': 'apache-2.0', 'size_in_GB': 0.52, 'additional_files': [], 'dim': 768, 'tasks': {}}\n",
      "{'model': 'nomic-ai/nomic-embed-text-v1.5-Q', 'sources': {'hf': 'nomic-ai/nomic-embed-text-v1.5', 'url': None, '_deprecated_tar_struct': False}, 'model_file': 'onnx/model_quantized.onnx', 'description': 'Text embeddings, Multimodal (text, image), English, 8192 input tokens truncation, Prefixes for queries/documents: necessary, 2024 year.', 'license': 'apache-2.0', 'size_in_GB': 0.13, 'additional_files': [], 'dim': 768, 'tasks': {}}\n",
      "{'model': 'nomic-ai/nomic-embed-text-v1', 'sources': {'hf': 'nomic-ai/nomic-embed-text-v1', 'url': None, '_deprecated_tar_struct': False}, 'model_file': 'onnx/model.onnx', 'description': 'Text embeddings, Multimodal (text, image), English, 8192 input tokens truncation, Prefixes for queries/documents: necessary, 2024 year.', 'license': 'apache-2.0', 'size_in_GB': 0.52, 'additional_files': [], 'dim': 768, 'tasks': {}}\n",
      "{'model': 'sentence-transformers/paraphrase-multilingual-MiniLM-L12-v2', 'sources': {'hf': 'qdrant/paraphrase-multilingual-MiniLM-L12-v2-onnx-Q', 'url': None, '_deprecated_tar_struct': False}, 'model_file': 'model_optimized.onnx', 'description': 'Text embeddings, Unimodal (text), Multilingual (~50 languages), 512 input tokens truncation, Prefixes for queries/documents: not necessary, 2019 year.', 'license': 'apache-2.0', 'size_in_GB': 0.22, 'additional_files': [], 'dim': 384, 'tasks': {}}\n",
      "{'model': 'sentence-transformers/paraphrase-multilingual-mpnet-base-v2', 'sources': {'hf': 'xenova/paraphrase-multilingual-mpnet-base-v2', 'url': None, '_deprecated_tar_struct': False}, 'model_file': 'onnx/model.onnx', 'description': 'Text embeddings, Unimodal (text), Multilingual (~50 languages), 384 input tokens truncation, Prefixes for queries/documents: not necessary, 2021 year.', 'license': 'apache-2.0', 'size_in_GB': 1.0, 'additional_files': [], 'dim': 768, 'tasks': {}}\n",
      "{'model': 'intfloat/multilingual-e5-large', 'sources': {'hf': 'qdrant/multilingual-e5-large-onnx', 'url': 'https://storage.googleapis.com/qdrant-fastembed/fast-multilingual-e5-large.tar.gz', '_deprecated_tar_struct': True}, 'model_file': 'model.onnx', 'description': 'Text embeddings, Unimodal (text), Multilingual (~100 languages), 512 input tokens truncation, Prefixes for queries/documents: necessary, 2024 year.', 'license': 'mit', 'size_in_GB': 2.24, 'additional_files': ['model.onnx_data'], 'dim': 1024, 'tasks': {}}\n",
      "{'model': 'jinaai/jina-embeddings-v3', 'sources': {'hf': 'jinaai/jina-embeddings-v3', 'url': None, '_deprecated_tar_struct': False}, 'model_file': 'onnx/model.onnx', 'description': 'Multi-task unimodal (text) embedding model, multi-lingual (~100), 1024 tokens truncation, and 8192 sequence length. Prefixes for queries/documents: not necessary, 2024 year.', 'license': 'cc-by-nc-4.0', 'size_in_GB': 2.29, 'additional_files': ['onnx/model.onnx_data'], 'dim': 1024, 'tasks': {'retrieval.query': 0, 'retrieval.passage': 1, 'separation': 2, 'classification': 3, 'text-matching': 4}}\n"
     ]
    }
   ],
   "source": [
    "from fastembed import TextEmbedding\n",
    "\n",
    "\n",
    "supported_models = TextEmbedding.list_supported_models()\n",
    "\n",
    "\n",
    "for model_info in supported_models:\n",
    "    print(model_info)"
   ]
  },
  {
   "cell_type": "code",
   "execution_count": 47,
   "id": "4bfdc6ff",
   "metadata": {},
   "outputs": [
    {
     "data": {
      "text/plain": [
       "40"
      ]
     },
     "execution_count": 47,
     "metadata": {},
     "output_type": "execute_result"
    }
   ],
   "source": [
    "len(all_chunks)"
   ]
  },
  {
   "cell_type": "markdown",
   "id": "46ccbb1e",
   "metadata": {},
   "source": [
    "# Searching Logic"
   ]
  },
  {
   "cell_type": "code",
   "execution_count": 87,
   "id": "bd84f124",
   "metadata": {},
   "outputs": [],
   "source": [
    "class HybridSearch:\n",
    "    \n",
    "    def __init__(self,collection_name):\n",
    "        self.collection_name = collection_name\n",
    "        self.client = QdrantClient(url = \"http://localhost:6333\")\n",
    "        self.encoder_dense = SentenceTransformer(\"all-MiniLM-L6-v2\")\n",
    "        self.sparse_model = \"prithivida/Splade_PP_en_v1\"\n",
    "    def search_points(self,item:str):\n",
    "        search_result = self.client.query_points(\n",
    "            collection_name = self.collection_name,\n",
    "            query = models.FusionQuery(\n",
    "                fusion = models.Fusion.RRF\n",
    "            ),\n",
    "            prefetch=[\n",
    "                models.Prefetch(\n",
    "                    query= self.encoder_dense.encode([item])[0].tolist(),\n",
    "                    using = \"dense\",\n",
    "                    \n",
    "                ),\n",
    "                models.Prefetch(\n",
    "                    query = models.Document(text = item,model = self.sparse_model),\n",
    "                    using = \"sparse\",\n",
    "                )\n",
    "                ],\n",
    "                query_filter=None,\n",
    "                limit = 3\n",
    "        ).points\n",
    "\n",
    "        dense_result = self.client.query_points(\n",
    "        collection_name=self.collection_name,\n",
    "        query=self.encoder_dense.encode([item])[0].tolist(),\n",
    "        using=\"dense\",\n",
    "        limit=3\n",
    "        ).points\n",
    "\n",
    "        sparse_result = self.client.query_points(\n",
    "        collection_name=self.collection_name,\n",
    "        query=models.Document(text=item, model=self.sparse_model),\n",
    "        using=\"sparse\",\n",
    "        limit=3\n",
    "        ).points\n",
    "\n",
    "        for point in search_result:\n",
    "            print(\"score = \",point.score, \"Point_id=\", point.id, \"doc_id = \", point.payload.get(\"doc_id\"), \"file_name = \",point.payload.get(\"file_name\"), \"chunk_id = \" , point.payload.get(\"chunk_id\"))\n",
    "        for point in dense_result:\n",
    "            print(\"score = \",point.score, \"Point_id=\", point.id, \"doc_id = \", point.payload.get(\"doc_id\"), \"file_name = \",point.payload.get(\"file_name\"), \"chunk_id = \" , point.payload.get(\"chunk_id\"))\n",
    "        for point in sparse_result:\n",
    "            print(\"score = \",point.score, \"Point_id=\", point.id, \"doc_id = \", point.payload.get(\"doc_id\"), \"file_name = \",point.payload.get(\"file_name\"), \"chunk_id = \" , point.payload.get(\"chunk_id\"))\n",
    "        \n"
   ]
  },
  {
   "cell_type": "code",
   "execution_count": 83,
   "id": "aa646350",
   "metadata": {},
   "outputs": [
    {
     "data": {
      "text/plain": [
       "UpdateResult(operation_id=471, status=<UpdateStatus.COMPLETED: 'completed'>)"
      ]
     },
     "execution_count": 83,
     "metadata": {},
     "output_type": "execute_result"
    }
   ],
   "source": [
    "client.create_payload_index(\n",
    "    collection_name= \"hybrid_search_daraz\",\n",
    "    field_name = \"doc_id\",\n",
    "    field_schema = \"integer\"\n",
    ")"
   ]
  },
  {
   "cell_type": "code",
   "execution_count": 89,
   "id": "76c85bc6",
   "metadata": {},
   "outputs": [
    {
     "name": "stdout",
     "output_type": "stream",
     "text": [
      "score =  0.5 Point_id= 267 doc_id =  [1, 1] file_name =  lens-caps chunk_id =  267\n",
      "score =  0.5 Point_id= 434 doc_id =  [1, 34] file_name =  lens-caps chunk_id =  434\n",
      "score =  0.33333334 Point_id= 268 doc_id =  [1, 1] file_name =  lens-caps chunk_id =  268\n",
      "score =  0.5274915 Point_id= 267 doc_id =  [1, 1] file_name =  lens-caps chunk_id =  267\n",
      "score =  0.50564957 Point_id= 277 doc_id =  [1, 3] file_name =  lens-caps chunk_id =  277\n",
      "score =  0.50542873 Point_id= 302 doc_id =  [1, 8] file_name =  lens-caps chunk_id =  302\n",
      "score =  19.040468 Point_id= 434 doc_id =  [1, 34] file_name =  lens-caps chunk_id =  434\n",
      "score =  19.022373 Point_id= 268 doc_id =  [1, 1] file_name =  lens-caps chunk_id =  268\n",
      "score =  18.919115 Point_id= 308 doc_id =  [1, 9] file_name =  lens-caps chunk_id =  308\n"
     ]
    }
   ],
   "source": [
    "search_item = HybridSearch(\"hybrid_search_daraz\")\n",
    "search_item.search_points(\"lens-cap\")"
   ]
  }
 ],
 "metadata": {
  "kernelspec": {
   "display_name": "rag",
   "language": "python",
   "name": "python3"
  },
  "language_info": {
   "codemirror_mode": {
    "name": "ipython",
    "version": 3
   },
   "file_extension": ".py",
   "mimetype": "text/x-python",
   "name": "python",
   "nbconvert_exporter": "python",
   "pygments_lexer": "ipython3",
   "version": "3.10.18"
  }
 },
 "nbformat": 4,
 "nbformat_minor": 5
}
