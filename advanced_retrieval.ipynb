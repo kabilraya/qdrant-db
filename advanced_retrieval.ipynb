{
 "cells": [
  {
   "cell_type": "markdown",
   "id": "616ee13e",
   "metadata": {},
   "source": [
    "### imports"
   ]
  },
  {
   "cell_type": "code",
   "execution_count": 22,
   "id": "4fe90ffd",
   "metadata": {},
   "outputs": [],
   "source": [
    "import re\n",
    "import json\n",
    "from qdrant_client import QdrantClient, models\n",
    "from sentence_transformers import SentenceTransformer\n",
    "import os\n",
    "from fastembed import TextEmbedding,LateInteractionTextEmbedding,SparseTextEmbedding"
   ]
  },
  {
   "cell_type": "markdown",
   "id": "1b8a69a2",
   "metadata": {},
   "source": [
    "## Load, Clean and Chunking of json"
   ]
  },
  {
   "cell_type": "code",
   "execution_count": 3,
   "id": "355e8aee",
   "metadata": {},
   "outputs": [],
   "source": [
    "file_path = \"camera-screen-guards.json\"\n",
    "base_name = os.path.splitext(os.path.basename(file_path))[0]\n"
   ]
  },
  {
   "cell_type": "code",
   "execution_count": 4,
   "id": "db4efa87",
   "metadata": {},
   "outputs": [],
   "source": [
    "with open(file_path,'r',encoding='utf-8') as fd:\n",
    "    data = json.load(fd)"
   ]
  },
  {
   "cell_type": "code",
   "execution_count": 6,
   "id": "75063470",
   "metadata": {},
   "outputs": [
    {
     "data": {
      "text/plain": [
       "dict"
      ]
     },
     "execution_count": 6,
     "metadata": {},
     "output_type": "execute_result"
    }
   ],
   "source": [
    "type(data)"
   ]
  },
  {
   "cell_type": "code",
   "execution_count": 9,
   "id": "ec88642f",
   "metadata": {},
   "outputs": [],
   "source": [
    "item_list = data[\"mods\"][\"listItems\"]"
   ]
  },
  {
   "cell_type": "code",
   "execution_count": null,
   "id": "33b1e584",
   "metadata": {},
   "outputs": [],
   "source": [
    "item_list"
   ]
  },
  {
   "cell_type": "code",
   "execution_count": 10,
   "id": "5073fb6b",
   "metadata": {},
   "outputs": [
    {
     "data": {
      "text/plain": [
       "list"
      ]
     },
     "execution_count": 10,
     "metadata": {},
     "output_type": "execute_result"
    }
   ],
   "source": [
    "type(item_list)"
   ]
  },
  {
   "cell_type": "code",
   "execution_count": 11,
   "id": "7ee4cae1",
   "metadata": {},
   "outputs": [
    {
     "data": {
      "text/plain": [
       "dict"
      ]
     },
     "execution_count": 11,
     "metadata": {},
     "output_type": "execute_result"
    }
   ],
   "source": [
    "type(item_list[0])"
   ]
  },
  {
   "cell_type": "code",
   "execution_count": 19,
   "id": "9cbe1acc",
   "metadata": {},
   "outputs": [],
   "source": [
    "def chunks_of_each_doc(doc,chunk_size=128):\n",
    "    chunks = []\n",
    "    doc = json.dumps(doc)\n",
    "    start = 0\n",
    "    tokens = re.findall(r'\\w+|[{}[\\]:,\",]',doc)\n",
    "    while start<=len(tokens):\n",
    "        end = min(start+chunk_size,len(tokens))\n",
    "        chunk = \" \".join(tokens[start:end])\n",
    "        chunks.append(chunk)\n",
    "        start+=chunk_size\n",
    "    return chunks"
   ]
  },
  {
   "cell_type": "code",
   "execution_count": 20,
   "id": "0b4e5f1c",
   "metadata": {},
   "outputs": [],
   "source": [
    "all_chunks = []\n",
    "for doc in item_list:\n",
    "    chunks = chunks_of_each_doc(doc)\n",
    "    all_chunks.append(chunks)\n",
    "    "
   ]
  },
  {
   "cell_type": "code",
   "execution_count": 21,
   "id": "5951995d",
   "metadata": {},
   "outputs": [
    {
     "data": {
      "text/plain": [
       "[['{ \" name \" : \" Redmi Note 14 5g Camera Protector Mettalic Ring Glass \" , \" nid \" : \" 361653530 \" , \" itemId \" : \" 361653530 \" , \" icons \" : [ { \" domClass \" : \" 150565 \" , \" type \" : \" img \" , \" group \" : \" 6 \" , \" showType \" : \" 0 \" } , { \" domClass \" : \" 175175 \" , \" type \" : \" img \" , \" group \" : \" 3 \" , \" showType \" : \" 0 \" } ] , \" image \" : \" https : static 01 daraz com np p 59a3b411d874aeeea2f115c998b18143 jpg \" , \" isSmartImage \" :',\n",
       "  'false , \" utLogMap \" : { \" srp_name \" : \" LazadaMainSrp \" , \" x_object_type \" : \" item \" , \" src \" : \" organic \" , \" trafficType \" : \" organic \" , \" x_sku_ids \" : \" 1592835298 \" , \" x_item_ids \" : \" 361653530 \" , \" iconList \" : \" 150565 175175 \" , \" SN \" : \" feb7c324dba78761f11a6be643f46dc6 \" , \" current_price \" : \" 239 \" , \" x_object_id \" : \" 361653530 \" } , \" originalPriceShow \" : \" \" , \" priceShow \" : \" Rs 239 \" , \" ratingScore \" : \" 4 4 \" , \" review \" : \" 5 \" , \" location \" : \" Bagmati',\n",
       "  'Province \" , \" description \" : [ ] , \" thumbs \" : [ ] , \" sellerName \" : \" Zap Home \" , \" sellerId \" : \" 900224992449 \" , \" brandName \" : \" No Brand \" , \" brandId \" : \" 39704 \" , \" cheapest_sku \" : \" 361653530_NP 1592835298 \" , \" skuId \" : \" 1592835298 \" , \" sku \" : \" 361653530_NP \" , \" categories \" : [ 240 , 256 , 8204 ] , \" price \" : \" 239 \" , \" inStock \" : true , \" originalPrice \" : \" 299 \" , \" clickTrace \" : \" query : camera nid : 361653530 src : LazadaMainSrp rn : feb7c324dba78761f11a6be643f46dc6 region',\n",
       "  ': np sku : 361653530_NP price : 239 client : desktop supplier_id : 900224992449 biz_source : h5_unknow slot : 0 utlog_bucket_id : 470687 asc_category_id : 8204 item_id : 361653530 sku_id : 1592835298 shop_id : 140324 templateInfo : 1_A3_C 1103_L \" , \" itemSoldCntShow \" : \" 30 sold \" , \" longImageDisplayable \" : false , \" skus \" : [ { \" id \" : \" 361653530_NP 1592835298 \" } ] , \" promotionId \" : \" \" , \" isSponsored \" : false , \" tItemType \" : \" nt_product \" , \" skuType \" : \" \" , \" adFlag \" : \" 0 \" , \" directSimilarUrl \" : \" https : native m lazada com dynamicxresult item_img https 3A 2F 2Fstatic 01 daraz',\n",
       "  'com np 2Fp 2F59a3b411d874aeeea2f115c998b18143 jpg src srp_findsimilar item_id 361653530 sku_id 1592835298 params 7B 22sub_src 22 3A 22long_press 22 2C 22src 22 3A 22srp_findsimilar 22 7D m tpp_findSimilar q camera similarType findSimilarV1 price 239 00 spuTriggerItem 0 \" , \" gridTitleLine \" : \" 2 \" , \" isFission \" : \" 0 \" , \" isBadgeAutoScroll \" : false , \" showCart \" : false , \" showBackIcon \" : false , \" showUnitPrice \" : false , \" itemUrl \" : \" www daraz com np products redmi note 14 5g camera protector mettalic ring glass i361653530 html \" , \" querystring \" : \" fs_ab 1 priceCompare skuId 3A1592835298 3Bsource 3Alazada search voucher 3Bsn 3Afeb7c324dba78761f11a6be643f46dc6 3BoriginPrice 3A23900 3BdisplayPrice 3A23900 3BsinglePromotionId 3A50000018794008 3BsingleToolCode 3ApromPrice 3BvoucherPricePlugin 3A0 3Btimestamp',\n",
       "  '3A1758872502749 c ratingscore 4 4 freeshipping 0 source search channelLpJumpArgs fuse_fs search 1 sale 30 price 239 review 5 location Bagmati 20Province stock 1 lang en request_id feb7c324dba78761f11a6be643f46dc6 clickTrackInfo query 253Acamera 253Bnid 253A361653530 253Bsrc 253ALazadaMainSrp 253Brn 253Afeb7c324dba78761f11a6be643f46dc6 253Bregion 253Anp 253Bsku 253A361653530_NP 253Bprice 253A239 253Bclient 253Adesktop 253Bsupplier_id 253A900224992449 253Bbiz_source 253Ah5_unknow 253Bslot 253A0 253Butlog_bucket_id 253A470687 253Basc_category_id 253A8204 253Bitem_id 253A361653530 253Bsku_id 253A1592835298 253Bshop_id 253A140324 253BtemplateInfo 253A 1_A3_C 25231103_L 2523 \" }'],\n",
       " ['{ \" name \" : \" Metal Ring Camera Lens Protector For iPhone 12 Pro Max \" , \" nid \" : \" 105302375 \" , \" itemId \" : \" 105302375 \" , \" icons \" : [ { \" domClass \" : \" 150565 \" , \" type \" : \" img \" , \" group \" : \" 6 \" , \" showType \" : \" 0 \" } , { \" domClass \" : \" 150318 \" , \" text \" : \" Gems save Rs 2 \" , \" type \" : \" text \" , \" group \" : \" 2 \" , \" showType \" : \" 0 \" } , { \" domClass \" : \" 175175 \" , \"',\n",
       "  'type \" : \" img \" , \" group \" : \" 3 \" , \" showType \" : \" 0 \" } ] , \" image \" : \" https : static 01 daraz com np p 9a0243a98628b906632c5346c28db43b jpg \" , \" isSmartImage \" : false , \" utLogMap \" : { \" srp_name \" : \" LazadaMainSrp \" , \" x_object_type \" : \" item \" , \" src \" : \" organic \" , \" trafficType \" : \" organic \" , \" x_sku_ids \" : \" 1026982951 \" , \" x_item_ids \" : \" 105302375 \" , \" iconList \" : \" 150565 150318 175175 \" , \" SN \" : \" feb7c324dba78761f11a6be643f46dc6 \" , \" current_price \" : \" 153 \" , \"',\n",
       "  'x_object_id \" : \" 105302375 \" } , \" originalPriceShow \" : \" \" , \" priceShow \" : \" Rs 153 \" , \" ratingScore \" : \" 4 2 \" , \" review \" : \" 20 \" , \" location \" : \" Bagmati Province \" , \" description \" : [ \" Aluminum alloy protection sticker , \" , \" Easy fit , Effective dispersion of impact power when surface is strongly impacted 2 9d arc surface full protection lens , \" , \" Avoid force concentration after grinding \" , \" Hydrophobic oil treatment , Not easily contaminated with fingerprints \" , \" Nami adsorption , Simple and easy fit , Super adsorption Alignment and deposition can automatically adsorb and exhaust the air',\n",
       "  '\" ] , \" thumbs \" : [ ] , \" sellerName \" : \" Lavish Deals \" , \" sellerId \" : \" 1006106 \" , \" brandName \" : \" No Brand \" , \" brandId \" : \" 39704 \" , \" cheapest_sku \" : \" 105302375_NP 1026982951 \" , \" skuId \" : \" 1026982951 \" , \" sku \" : \" 105302375_NP \" , \" categories \" : [ 240 , 256 , 8204 ] , \" price \" : \" 153 \" , \" inStock \" : true , \" originalPrice \" : \" 399 \" , \" clickTrace \" : \" query : camera nid : 105302375 src : LazadaMainSrp rn : feb7c324dba78761f11a6be643f46dc6 region : np sku : 105302375_NP price :',\n",
       "  '153 client : desktop supplier_id : 1006106 biz_source : h5_unknow slot : 1 utlog_bucket_id : 470687 asc_category_id : 8204 item_id : 105302375 sku_id : 1026982951 shop_id : 16001 templateInfo : 1_A3_C 1103_L \" , \" itemSoldCntShow \" : \" 116 sold \" , \" longImageDisplayable \" : false , \" skus \" : [ { \" id \" : \" 105302375_NP 1026982951 \" } ] , \" promotionId \" : \" \" , \" isSponsored \" : false , \" tItemType \" : \" nt_product \" , \" skuType \" : \" \" , \" adFlag \" : \" 0 \" , \" directSimilarUrl \" : \" https : native m lazada com dynamicxresult item_img https 3A 2F 2Fstatic 01 daraz com np 2Fp 2F9a0243a98628b906632c5346c28db43b jpg src srp_findsimilar',\n",
       "  'item_id 105302375 sku_id 1026982951 params 7B 22sub_src 22 3A 22long_press 22 2C 22src 22 3A 22srp_findsimilar 22 7D m tpp_findSimilar q camera similarType findSimilarV1 price 153 00 spuTriggerItem 0 \" , \" gridTitleLine \" : \" 2 \" , \" isFission \" : \" 0 \" , \" isBadgeAutoScroll \" : false , \" showCart \" : false , \" showBackIcon \" : false , \" showUnitPrice \" : false , \" itemUrl \" : \" www daraz com np products metal ring camera lens protector for iphone 12 pro max i105302375 html \" , \" querystring \" : \" fs_ab 1 priceCompare skuId 3A1026982951 3Bsource 3Alazada search voucher 3Bsn 3Afeb7c324dba78761f11a6be643f46dc6 3BoriginPrice 3A15300 3BdisplayPrice 3A15300 3BsinglePromotionId 3A50000018794008 3BsingleToolCode 3ApromPrice 3BvoucherPricePlugin 3A0 3Btimestamp 3A1758872502749 c ratingscore 4 2 freeshipping',\n",
       "  '0 source search channelLpJumpArgs fuse_fs search 1 sale 116 price 153 review 20 location Bagmati 20Province stock 1 lang en request_id feb7c324dba78761f11a6be643f46dc6 clickTrackInfo query 253Acamera 253Bnid 253A105302375 253Bsrc 253ALazadaMainSrp 253Brn 253Afeb7c324dba78761f11a6be643f46dc6 253Bregion 253Anp 253Bsku 253A105302375_NP 253Bprice 253A153 253Bclient 253Adesktop 253Bsupplier_id 253A1006106 253Bbiz_source 253Ah5_unknow 253Bslot 253A1 253Butlog_bucket_id 253A470687 253Basc_category_id 253A8204 253Bitem_id 253A105302375 253Bsku_id 253A1026982951 253Bshop_id 253A16001 253BtemplateInfo 253A 1_A3_C 25231103_L 2523 \" }'],\n",
       " ['{ \" name \" : \" Xiaomi 14T Camera Lens Protector \" , \" nid \" : \" 435211489 \" , \" itemId \" : \" 435211489 \" , \" icons \" : [ { \" domClass \" : \" 150565 \" , \" type \" : \" img \" , \" group \" : \" 6 \" , \" showType \" : \" 0 \" } ] , \" image \" : \" https : static 01 daraz com np p f66ece6c7404757f5cc91837d9ca7169 jpg \" , \" isSmartImage \" : false , \" utLogMap \" : { \" srp_name \" : \" LazadaMainSrp \" , \" x_object_type \" : \" item \" , \" src \" : \" organic \" , \" trafficType \" : \" organic \"',\n",
       "  ', \" x_sku_ids \" : \" 1884390647 \" , \" x_item_ids \" : \" 435211489 \" , \" iconList \" : \" 150565 \" , \" SN \" : \" feb7c324dba78761f11a6be643f46dc6 \" , \" current_price \" : \" 350 \" , \" x_object_id \" : \" 435211489 \" } , \" originalPriceShow \" : \" \" , \" priceShow \" : \" Rs 350 \" , \" ratingScore \" : \" 5 0 \" , \" review \" : \" 5 \" , \" location \" : \" Bagmati Province \" , \" description \" : [ ] , \" thumbs \" : [ ] , \" sellerName \" : \" Tech Gadgets \" , \" sellerId \" : \" 900214336035 \" , \" brandName \" : \"',\n",
       "  'No Brand \" , \" brandId \" : \" 39704 \" , \" cheapest_sku \" : \" 435211489_NP 1884390647 \" , \" skuId \" : \" 1884390647 \" , \" sku \" : \" 435211489_NP \" , \" categories \" : [ 240 , 256 , 8204 ] , \" price \" : \" 350 \" , \" inStock \" : true , \" originalPrice \" : \" 599 \" , \" clickTrace \" : \" query : camera nid : 435211489 src : LazadaMainSrp rn : feb7c324dba78761f11a6be643f46dc6 region : np sku : 435211489_NP price : 350 client : desktop supplier_id : 900214336035 biz_source : h5_unknow slot : 2 utlog_bucket_id : 470687 asc_category_id : 8204 item_id : 435211489 sku_id : 1884390647 shop_id : 130971 templateInfo : 1_A3_C 1103_L',\n",
       "  '\" , \" itemSoldCntShow \" : \" 23 sold \" , \" longImageDisplayable \" : false , \" skus \" : [ { \" id \" : \" 435211489_NP 1884390647 \" } ] , \" promotionId \" : \" \" , \" isSponsored \" : false , \" tItemType \" : \" nt_product \" , \" skuType \" : \" \" , \" adFlag \" : \" 0 \" , \" directSimilarUrl \" : \" https : native m lazada com dynamicxresult item_img https 3A 2F 2Fstatic 01 daraz com np 2Fp 2Ff66ece6c7404757f5cc91837d9ca7169 jpg src srp_findsimilar item_id 435211489 sku_id 1884390647 params 7B 22sub_src 22 3A 22long_press 22 2C 22src 22 3A 22srp_findsimilar 22 7D m tpp_findSimilar q camera similarType findSimilarV1 price 350 00 spuTriggerItem 0 \" , \"',\n",
       "  'gridTitleLine \" : \" 2 \" , \" isFission \" : \" 0 \" , \" isBadgeAutoScroll \" : false , \" showCart \" : false , \" showBackIcon \" : false , \" showUnitPrice \" : false , \" itemUrl \" : \" www daraz com np products xiaomi 14t camera lens protector i435211489 html \" , \" querystring \" : \" fs_ab 1 priceCompare skuId 3A1884390647 3Bsource 3Alazada search voucher 3Bsn 3Afeb7c324dba78761f11a6be643f46dc6 3BoriginPrice 3A35000 3BdisplayPrice 3A35000 3BsinglePromotionId 3A 1 3BsingleToolCode 3AmockedSalePrice 3BvoucherPricePlugin 3A0 3Btimestamp 3A1758872502749 c ratingscore 5 0 freeshipping 0 source search channelLpJumpArgs fuse_fs search 1 sale 23 price 3 5E 202 review 5 location Bagmati 20Province stock 1 lang en request_id feb7c324dba78761f11a6be643f46dc6 clickTrackInfo query 253Acamera 253Bnid 253A435211489 253Bsrc 253ALazadaMainSrp 253Brn 253Afeb7c324dba78761f11a6be643f46dc6 253Bregion 253Anp 253Bsku',\n",
       "  '253A435211489_NP 253Bprice 253A350 253Bclient 253Adesktop 253Bsupplier_id 253A900214336035 253Bbiz_source 253Ah5_unknow 253Bslot 253A2 253Butlog_bucket_id 253A470687 253Basc_category_id 253A8204 253Bitem_id 253A435211489 253Bsku_id 253A1884390647 253Bshop_id 253A130971 253BtemplateInfo 253A 1_A3_C 25231103_L 2523 \" }'],\n",
       " ['{ \" name \" : \" Redmi Note 14 Pro 5g Camera Protector Mettalic Ring Glass \" , \" nid \" : \" 361670427 \" , \" itemId \" : \" 361670427 \" , \" icons \" : [ { \" domClass \" : \" 150565 \" , \" type \" : \" img \" , \" group \" : \" 6 \" , \" showType \" : \" 0 \" } , { \" domClass \" : \" 175175 \" , \" type \" : \" img \" , \" group \" : \" 3 \" , \" showType \" : \" 0 \" } ] , \" image \" : \" https : static 01 daraz com np p 200a15858889b26f88f8b62d604a8f0c jpg \" , \" isSmartImage \"',\n",
       "  ': false , \" utLogMap \" : { \" srp_name \" : \" LazadaMainSrp \" , \" x_object_type \" : \" item \" , \" src \" : \" organic \" , \" trafficType \" : \" organic \" , \" x_sku_ids \" : \" 1592834541 \" , \" x_item_ids \" : \" 361670427 \" , \" iconList \" : \" 150565 175175 \" , \" SN \" : \" feb7c324dba78761f11a6be643f46dc6 \" , \" current_price \" : \" 279 \" , \" x_object_id \" : \" 361670427 \" } , \" originalPriceShow \" : \" \" , \" priceShow \" : \" Rs 279 \" , \" ratingScore \" : \" 1 0 \" , \" review \" : \" 1 \" , \" location \" : \"',\n",
       "  'Bagmati Province \" , \" description \" : [ ] , \" thumbs \" : [ ] , \" sellerName \" : \" Zap Home \" , \" sellerId \" : \" 900224992449 \" , \" brandName \" : \" No Brand \" , \" brandId \" : \" 39704 \" , \" cheapest_sku \" : \" 361670427_NP 1592834541 \" , \" skuId \" : \" 1592834541 \" , \" sku \" : \" 361670427_NP \" , \" categories \" : [ 240 , 256 , 8204 ] , \" price \" : \" 279 \" , \" inStock \" : true , \" originalPrice \" : \" 350 \" , \" clickTrace \" : \" query : camera nid : 361670427 src : LazadaMainSrp rn : feb7c324dba78761f11a6be643f46dc6',\n",
       "  'region : np sku : 361670427_NP price : 279 client : desktop supplier_id : 900224992449 biz_source : h5_unknow slot : 3 utlog_bucket_id : 470687 asc_category_id : 8204 item_id : 361670427 sku_id : 1592834541 shop_id : 140324 templateInfo : 1_A3_C 1103_L \" , \" itemSoldCntShow \" : \" 16 sold \" , \" longImageDisplayable \" : false , \" skus \" : [ { \" id \" : \" 361670427_NP 1592834541 \" } ] , \" promotionId \" : \" \" , \" isSponsored \" : false , \" tItemType \" : \" nt_product \" , \" skuType \" : \" \" , \" adFlag \" : \" 0 \" , \" directSimilarUrl \" : \" https : native m lazada com dynamicxresult item_img https 3A 2F 2Fstatic 01',\n",
       "  'daraz com np 2Fp 2F200a15858889b26f88f8b62d604a8f0c jpg src srp_findsimilar item_id 361670427 sku_id 1592834541 params 7B 22sub_src 22 3A 22long_press 22 2C 22src 22 3A 22srp_findsimilar 22 7D m tpp_findSimilar q camera similarType findSimilarV1 price 279 00 spuTriggerItem 0 \" , \" gridTitleLine \" : \" 2 \" , \" isFission \" : \" 0 \" , \" isBadgeAutoScroll \" : false , \" showCart \" : false , \" showBackIcon \" : false , \" showUnitPrice \" : false , \" itemUrl \" : \" www daraz com np products redmi note 14 pro 5g camera protector mettalic ring glass i361670427 html \" , \" querystring \" : \" fs_ab 1 priceCompare skuId 3A1592834541 3Bsource 3Alazada search voucher 3Bsn 3Afeb7c324dba78761f11a6be643f46dc6 3BoriginPrice 3A27900 3BdisplayPrice 3A27900 3BsinglePromotionId 3A50000018794008 3BsingleToolCode 3ApromPrice 3BvoucherPricePlugin',\n",
       "  '3A0 3Btimestamp 3A1758872502749 c ratingscore 1 0 freeshipping 0 source search channelLpJumpArgs fuse_fs search 1 sale 16 price 279 review 1 location Bagmati 20Province stock 1 lang en request_id feb7c324dba78761f11a6be643f46dc6 clickTrackInfo query 253Acamera 253Bnid 253A361670427 253Bsrc 253ALazadaMainSrp 253Brn 253Afeb7c324dba78761f11a6be643f46dc6 253Bregion 253Anp 253Bsku 253A361670427_NP 253Bprice 253A279 253Bclient 253Adesktop 253Bsupplier_id 253A900224992449 253Bbiz_source 253Ah5_unknow 253Bslot 253A3 253Butlog_bucket_id 253A470687 253Basc_category_id 253A8204 253Bitem_id 253A361670427 253Bsku_id 253A1592834541 253Bshop_id 253A140324 253BtemplateInfo 253A 1_A3_C 25231103_L 2523 \" }'],\n",
       " ['{ \" name \" : \" Tempered Glass Screen Protector for GoPro Hero 9 and 10 Black \" , \" nid \" : \" 114434334 \" , \" itemId \" : \" 114434334 \" , \" icons \" : [ { \" domClass \" : \" 150564 \" , \" type \" : \" img \" , \" group \" : \" 6 \" , \" showType \" : \" 0 \" } , { \" domClass \" : \" 175175 \" , \" type \" : \" img \" , \" group \" : \" 3 \" , \" showType \" : \" 0 \" } ] , \" image \" : \" https : static 01 daraz com np p 7a42043b5c7acda34ae7d554fc4bf9be jpg \" , \" isSmartImage',\n",
       "  '\" : false , \" utLogMap \" : { \" srp_name \" : \" LazadaMainSrp \" , \" x_object_type \" : \" item \" , \" src \" : \" organic \" , \" trafficType \" : \" organic \" , \" x_sku_ids \" : \" 1031065436 \" , \" x_item_ids \" : \" 114434334 \" , \" iconList \" : \" 150564 175175 \" , \" SN \" : \" feb7c324dba78761f11a6be643f46dc6 \" , \" current_price \" : \" 323 \" , \" x_object_id \" : \" 114434334 \" } , \" originalPriceShow \" : \" \" , \" priceShow \" : \" Rs 323 \" , \" ratingScore \" : \" 4 617021276595745 \" , \" review \" : \" 47 \" , \" location \" :',\n",
       "  '\" Bagmati Province \" , \" description \" : [ ] , \" thumbs \" : [ ] , \" sellerName \" : \" Kushal CD Cassette Store \" , \" sellerId \" : \" 900153420038 \" , \" brandName \" : \" No Brand \" , \" brandId \" : \" 39704 \" , \" cheapest_sku \" : \" 114434334_NP 1031065436 \" , \" skuId \" : \" 1031065436 \" , \" sku \" : \" 114434334_NP \" , \" categories \" : [ 240 , 256 , 8204 ] , \" price \" : \" 323 \" , \" inStock \" : true , \" originalPrice \" : \" 700 \" , \" clickTrace \" : \" query : camera nid : 114434334 src : LazadaMainSrp',\n",
       "  'rn : feb7c324dba78761f11a6be643f46dc6 region : np sku : 114434334_NP price : 323 client : desktop supplier_id : 900153420038 biz_source : h5_unknow slot : 4 utlog_bucket_id : 470687 asc_category_id : 8204 item_id : 114434334 sku_id : 1031065436 shop_id : 62174 templateInfo : 1_A3_C 1103_L \" , \" itemSoldCntShow \" : \" 180 sold \" , \" longImageDisplayable \" : false , \" skus \" : [ { \" id \" : \" 114434334_NP 1031065436 \" } ] , \" promotionId \" : \" \" , \" isSponsored \" : false , \" tItemType \" : \" nt_product \" , \" skuType \" : \" \" , \" adFlag \" : \" 0 \" , \" directSimilarUrl \" : \" https : native m lazada com dynamicxresult item_img https 3A',\n",
       "  '2F 2Fstatic 01 daraz com np 2Fp 2F7a42043b5c7acda34ae7d554fc4bf9be jpg src srp_findsimilar item_id 114434334 sku_id 1031065436 params 7B 22sub_src 22 3A 22long_press 22 2C 22src 22 3A 22srp_findsimilar 22 7D m tpp_findSimilar q camera similarType findSimilarV1 price 323 00 spuTriggerItem 0 \" , \" gridTitleLine \" : \" 2 \" , \" isFission \" : \" 0 \" , \" isBadgeAutoScroll \" : false , \" showCart \" : false , \" showBackIcon \" : false , \" showUnitPrice \" : false , \" itemUrl \" : \" www daraz com np products tempered glass screen protector for gopro hero 9 and 10 black i114434334 html \" , \" querystring \" : \" fs_ab 1 priceCompare skuId 3A1031065436 3Bsource 3Alazada search voucher 3Bsn 3Afeb7c324dba78761f11a6be643f46dc6 3BoriginPrice 3A32300 3BdisplayPrice 3A32300 3BsinglePromotionId',\n",
       "  '3A50000018794008 3BsingleToolCode 3ApromPrice 3BvoucherPricePlugin 3A0 3Btimestamp 3A1758872502749 c ratingscore 4 617021276595745 freeshipping 0 source search channelLpJumpArgs fuse_fs search 1 sale 180 price 323 review 47 location Bagmati 20Province stock 1 lang en request_id feb7c324dba78761f11a6be643f46dc6 clickTrackInfo query 253Acamera 253Bnid 253A114434334 253Bsrc 253ALazadaMainSrp 253Brn 253Afeb7c324dba78761f11a6be643f46dc6 253Bregion 253Anp 253Bsku 253A114434334_NP 253Bprice 253A323 253Bclient 253Adesktop 253Bsupplier_id 253A900153420038 253Bbiz_source 253Ah5_unknow 253Bslot 253A4 253Butlog_bucket_id 253A470687 253Basc_category_id 253A8204 253Bitem_id 253A114434334 253Bsku_id 253A1031065436 253Bshop_id 253A62174 253BtemplateInfo 253A 1_A3_C 25231103_L 2523 \" }'],\n",
       " ['{ \" name \" : \" For Samsung Galaxy A56 A36 A26 5G 9H Rear Camera Lens Aluminum Alloy Ring Tempered Glass Film Black \" , \" nid \" : \" 362308861 \" , \" itemId \" : \" 362308861 \" , \" icons \" : [ { \" domClass \" : \" 150564 \" , \" type \" : \" img \" , \" group \" : \" 6 \" , \" showType \" : \" 0 \" } , { \" domClass \" : \" 175175 \" , \" type \" : \" img \" , \" group \" : \" 3 \" , \" showType \" : \" 0 \" } ] , \" image \" : \" https : static 01 daraz com np',\n",
       "  'p d747667f3f74450b25419075276810e9 jpg \" , \" isSmartImage \" : false , \" utLogMap \" : { \" srp_name \" : \" LazadaMainSrp \" , \" x_object_type \" : \" item \" , \" src \" : \" organic \" , \" trafficType \" : \" organic \" , \" x_sku_ids \" : \" 1597089146 \" , \" x_item_ids \" : \" 362308861 \" , \" iconList \" : \" 150564 175175 \" , \" SN \" : \" feb7c324dba78761f11a6be643f46dc6 \" , \" current_price \" : \" 366 \" , \" x_object_id \" : \" 362308861 \" } , \" originalPriceShow \" : \" \" , \" priceShow \" : \" Rs 366 \" , \" ratingScore \" : \" 3 6666666666666665 \" , \" review \" : \"',\n",
       "  '6 \" , \" location \" : \" Bagmati Province \" , \" description \" : [ ] , \" thumbs \" : [ ] , \" sellerName \" : \" Mero Deals \" , \" sellerId \" : \" 900157494400 \" , \" brandName \" : \" No Brand \" , \" brandId \" : \" 39704 \" , \" cheapest_sku \" : \" 362308861_NP 1597089146 \" , \" skuId \" : \" 1597089146 \" , \" sku \" : \" 362308861_NP \" , \" categories \" : [ 240 , 256 , 8204 ] , \" price \" : \" 366 \" , \" inStock \" : true , \" originalPrice \" : \" 470 \" , \" clickTrace \" : \" query : camera nid',\n",
       "  ': 362308861 src : LazadaMainSrp rn : feb7c324dba78761f11a6be643f46dc6 region : np sku : 362308861_NP price : 366 client : desktop supplier_id : 900157494400 biz_source : h5_unknow slot : 5 utlog_bucket_id : 470687 asc_category_id : 8204 item_id : 362308861 sku_id : 1597089146 shop_id : 93492 templateInfo : 1_A3_C 1103_L \" , \" itemSoldCntShow \" : \" 27 sold \" , \" longImageDisplayable \" : false , \" skus \" : [ { \" id \" : \" 362308861_NP 1597089146 \" } ] , \" promotionId \" : \" \" , \" isSponsored \" : false , \" tItemType \" : \" nt_product \" , \" skuType \" : \" \" , \" adFlag \" : \" 0 \" , \" directSimilarUrl \" : \" https : native m lazada',\n",
       "  'com dynamicxresult item_img https 3A 2F 2Fstatic 01 daraz com np 2Fp 2Fd747667f3f74450b25419075276810e9 jpg src srp_findsimilar item_id 362308861 sku_id 1597089146 params 7B 22sub_src 22 3A 22long_press 22 2C 22src 22 3A 22srp_findsimilar 22 7D m tpp_findSimilar q camera similarType findSimilarV1 price 366 00 spuTriggerItem 0 \" , \" gridTitleLine \" : \" 2 \" , \" isFission \" : \" 0 \" , \" isBadgeAutoScroll \" : false , \" showCart \" : false , \" showBackIcon \" : false , \" showUnitPrice \" : false , \" itemUrl \" : \" www daraz com np products for samsung galaxy a56 a36 a26 5g 9h rear camera lens aluminum alloy ring tempered glass filmblack i362308861 html \" , \" querystring \" : \" fs_ab 1 priceCompare skuId 3A1597089146',\n",
       "  '3Bsource 3Alazada search voucher 3Bsn 3Afeb7c324dba78761f11a6be643f46dc6 3BoriginPrice 3A36600 3BdisplayPrice 3A36600 3BsinglePromotionId 3A50000018794008 3BsingleToolCode 3ApromPrice 3BvoucherPricePlugin 3A0 3Btimestamp 3A1758872502749 c ratingscore 3 6666666666666665 freeshipping 0 source search channelLpJumpArgs fuse_fs search 1 sale 27 price 366 review 6 location Bagmati 20Province stock 1 lang en request_id feb7c324dba78761f11a6be643f46dc6 clickTrackInfo query 253Acamera 253Bnid 253A362308861 253Bsrc 253ALazadaMainSrp 253Brn 253Afeb7c324dba78761f11a6be643f46dc6 253Bregion 253Anp 253Bsku 253A362308861_NP 253Bprice 253A366 253Bclient 253Adesktop 253Bsupplier_id 253A900157494400 253Bbiz_source 253Ah5_unknow 253Bslot 253A5 253Butlog_bucket_id 253A470687 253Basc_category_id 253A8204 253Bitem_id 253A362308861 253Bsku_id 253A1597089146 253Bshop_id 253A93492 253BtemplateInfo 253A 1_A3_C 25231103_L 2523 \" }'],\n",
       " ['{ \" name \" : \" Lens Protector For Samsung Galaxy S24 Ultra Metal Ring Protective By Panchakumari Mobile Hub \" , \" nid \" : \" 129702350 \" , \" itemId \" : \" 129702350 \" , \" icons \" : [ { \" domClass \" : \" 150565 \" , \" type \" : \" img \" , \" group \" : \" 6 \" , \" showType \" : \" 0 \" } , { \" domClass \" : \" 116088 \" , \" type \" : \" img \" , \" group \" : \" 2 \" , \" showType \" : \" 0 \" } , { \" domClass \" : \" 150318 \" , \" text \" : \" Gems save Rs',\n",
       "  '3 \" , \" type \" : \" text \" , \" group \" : \" 2 \" , \" showType \" : \" 0 \" } , { \" domClass \" : \" 175175 \" , \" type \" : \" img \" , \" group \" : \" 3 \" , \" showType \" : \" 0 \" } ] , \" image \" : \" https : static 01 daraz com np p 0782c29cea9bcce34ca2002007b41577 jpg \" , \" isSmartImage \" : false , \" utLogMap \" : { \" srp_name \" : \" LazadaMainSrp \" , \" x_object_type \" : \" item \" , \" src \" : \" organic \" , \" trafficType \" : \" organic \" , \" x_sku_ids \" : \"',\n",
       "  '1059476616 \" , \" x_item_ids \" : \" 129702350 \" , \" iconList \" : \" 150565 116088 150318 175175 \" , \" SN \" : \" feb7c324dba78761f11a6be643f46dc6 \" , \" current_price \" : \" 293 \" , \" x_object_id \" : \" 129702350 \" } , \" originalPriceShow \" : \" \" , \" priceShow \" : \" Rs 293 \" , \" ratingScore \" : \" 4 545454545454546 \" , \" review \" : \" 11 \" , \" location \" : \" Bagmati Province \" , \" description \" : [ \" The new high quality combination provides more comprehensive protection for your phone , Please confirm the model size before buying \" , \" The optical grade antireflection coating technology on the glass surface',\n",
       "  'prevents fingerprints , sweat and grease residues \" , \" Aluminum alloy explosion proof Camera Lens Protector , strong protection of your lens , ensuring worry free taking pictures Anti Scratch Water Dust full coverage protection , protect camera lens from daily life \" ] , \" thumbs \" : [ ] , \" sellerName \" : \" Panchakumari Mobile Hub \" , \" sellerId \" : \" 9677 \" , \" brandName \" : \" No Brand \" , \" brandId \" : \" 39704 \" , \" cheapest_sku \" : \" 129702350_NP 1059476616 \" , \" skuId \" : \" 1059476616 \" , \" sku \" : \" 129702350_NP \" , \" categories \" : [ 240 , 256 , 8204 ] , \" price \"',\n",
       "  ': \" 293 \" , \" inStock \" : true , \" originalPrice \" : \" 850 \" , \" clickTrace \" : \" query : camera nid : 129702350 src : LazadaMainSrp rn : feb7c324dba78761f11a6be643f46dc6 region : np sku : 129702350_NP price : 293 client : desktop supplier_id : 9677 biz_source : h5_unknow slot : 6 utlog_bucket_id : 470687 asc_category_id : 8204 item_id : 129702350 sku_id : 1059476616 shop_id : 9677 templateInfo : 1_A3_C 1103_L \" , \" itemSoldCntShow \" : \" 106 sold \" , \" longImageDisplayable \" : false , \" skus \" : [ { \" id \" : \" 129702350_NP 1059476616 \" } ] , \" promotionId \" : \" \" , \" isSponsored \" : false , \" tItemType \" : \"',\n",
       "  'nt_product \" , \" skuType \" : \" \" , \" adFlag \" : \" 0 \" , \" directSimilarUrl \" : \" https : native m lazada com dynamicxresult item_img https 3A 2F 2Fstatic 01 daraz com np 2Fp 2F0782c29cea9bcce34ca2002007b41577 jpg src srp_findsimilar item_id 129702350 sku_id 1059476616 params 7B 22sub_src 22 3A 22long_press 22 2C 22src 22 3A 22srp_findsimilar 22 7D m tpp_findSimilar q camera similarType findSimilarV1 price 293 00 spuTriggerItem 0 \" , \" gridTitleLine \" : \" 2 \" , \" isFission \" : \" 0 \" , \" isBadgeAutoScroll \" : false , \" showCart \" : false , \" showBackIcon \" : false , \" showUnitPrice \" : false , \" itemUrl \" : \" www daraz com np products lens protector for',\n",
       "  'samsung galaxy ultra metal ring protective by panchakumari mobile hub i129702350 html \" , \" querystring \" : \" fs_ab 1 priceCompare skuId 3A1059476616 3Bsource 3Alazada search voucher 3Bsn 3Afeb7c324dba78761f11a6be643f46dc6 3BoriginPrice 3A29300 3BdisplayPrice 3A29300 3BsinglePromotionId 3A50000018794008 3BsingleToolCode 3ApromPrice 3BvoucherPricePlugin 3A0 3Btimestamp 3A1758872502749 c ratingscore 4 545454545454546 freeshipping 0 source search channelLpJumpArgs fuse_fs search 1 sale 106 price 293 review 11 location Bagmati 20Province stock 1 lang en request_id feb7c324dba78761f11a6be643f46dc6 clickTrackInfo query 253Acamera 253Bnid 253A129702350 253Bsrc 253ALazadaMainSrp 253Brn 253Afeb7c324dba78761f11a6be643f46dc6 253Bregion 253Anp 253Bsku 253A129702350_NP 253Bprice 253A293 253Bclient 253Adesktop 253Bsupplier_id 253A9677 253Bbiz_source 253Ah5_unknow 253Bslot 253A6 253Butlog_bucket_id 253A470687 253Basc_category_id 253A8204 253Bitem_id 253A129702350 253Bsku_id 253A1059476616 253Bshop_id 253A9677 253BtemplateInfo 253A 1_A3_C 25231103_L 2523 \" }'],\n",
       " ['{ \" name \" : \" Metal Ring Camera Lens Protector For iPhone 14 Plus By Lavish Deals \" , \" nid \" : \" 129860037 \" , \" itemId \" : \" 129860037 \" , \" icons \" : [ { \" domClass \" : \" 150565 \" , \" type \" : \" img \" , \" group \" : \" 6 \" , \" showType \" : \" 0 \" } , { \" domClass \" : \" 150318 \" , \" text \" : \" Gems save Rs 1 \" , \" type \" : \" text \" , \" group \" : \" 2 \" , \" showType \" : \" 0 \" } , { \" domClass \" : \" 175175 \"',\n",
       "  ', \" type \" : \" img \" , \" group \" : \" 3 \" , \" showType \" : \" 0 \" } ] , \" image \" : \" https : static 01 daraz com np p a5b0057ef10ced3b6e74b54873315c9d jpg \" , \" isSmartImage \" : false , \" utLogMap \" : { \" srp_name \" : \" LazadaMainSrp \" , \" x_object_type \" : \" item \" , \" src \" : \" organic \" , \" trafficType \" : \" organic \" , \" x_sku_ids \" : \" 1037690624 \" , \" x_item_ids \" : \" 129860037 \" , \" iconList \" : \" 150565 150318 175175 \" , \" SN \" : \" feb7c324dba78761f11a6be643f46dc6 \" , \" current_price \" : \" 123 \"',\n",
       "  ', \" x_object_id \" : \" 129860037 \" } , \" originalPriceShow \" : \" \" , \" priceShow \" : \" Rs 123 \" , \" ratingScore \" : \" 3 95 \" , \" review \" : \" 20 \" , \" location \" : \" Bagmati Province \" , \" description \" : [ \" Aluminum alloy protection sticker , \" , \" Easy fit , Effective dispersion of impact power when surface is strongly impacted 2 9d arc surface full protection lens , \" , \" Avoid force concentration after grinding Hydrophobic oil treatment , Not easily contaminated with fingerprints \" , \" Nami adsorption , Simple and easy fit , Super adsorption Alignment and deposition can automatically adsorb and exhaust the air \"',\n",
       "  '] , \" thumbs \" : [ ] , \" sellerName \" : \" Lavish Deals \" , \" sellerId \" : \" 1006106 \" , \" brandName \" : \" No Brand \" , \" brandId \" : \" 39704 \" , \" cheapest_sku \" : \" 129860037_NP 1037690624 \" , \" skuId \" : \" 1037690624 \" , \" sku \" : \" 129860037_NP \" , \" categories \" : [ 240 , 256 , 8204 ] , \" price \" : \" 123 \" , \" inStock \" : true , \" originalPrice \" : \" 399 \" , \" clickTrace \" : \" query : camera nid : 129860037 src : LazadaMainSrp rn : feb7c324dba78761f11a6be643f46dc6 region : np sku : 129860037_NP price : 123',\n",
       "  'client : desktop supplier_id : 1006106 biz_source : h5_unknow slot : 7 utlog_bucket_id : 470687 asc_category_id : 8204 item_id : 129860037 sku_id : 1037690624 shop_id : 16001 templateInfo : 1_A3_C 1103_L \" , \" itemSoldCntShow \" : \" 77 sold \" , \" longImageDisplayable \" : false , \" skus \" : [ { \" id \" : \" 129860037_NP 1037690624 \" } ] , \" promotionId \" : \" \" , \" isSponsored \" : false , \" tItemType \" : \" nt_product \" , \" skuType \" : \" \" , \" adFlag \" : \" 0 \" , \" directSimilarUrl \" : \" https : native m lazada com dynamicxresult item_img https 3A 2F 2Fstatic 01 daraz com np 2Fp 2Fa5b0057ef10ced3b6e74b54873315c9d jpg src srp_findsimilar item_id',\n",
       "  '129860037 sku_id 1037690624 params 7B 22sub_src 22 3A 22long_press 22 2C 22src 22 3A 22srp_findsimilar 22 7D m tpp_findSimilar q camera similarType findSimilarV1 price 123 00 spuTriggerItem 0 \" , \" gridTitleLine \" : \" 2 \" , \" isFission \" : \" 0 \" , \" isBadgeAutoScroll \" : false , \" showCart \" : false , \" showBackIcon \" : false , \" showUnitPrice \" : false , \" itemUrl \" : \" www daraz com np products metal ring camera lens protector for iphone 14 plus by lavish deals i129860037 html \" , \" querystring \" : \" fs_ab 1 priceCompare skuId 3A1037690624 3Bsource 3Alazada search voucher 3Bsn 3Afeb7c324dba78761f11a6be643f46dc6 3BoriginPrice 3A12300 3BdisplayPrice 3A12300 3BsinglePromotionId 3A50000018794008 3BsingleToolCode 3ApromPrice 3BvoucherPricePlugin 3A0 3Btimestamp 3A1758872502749 c ratingscore 3 95',\n",
       "  'freeshipping 0 source search channelLpJumpArgs fuse_fs search 1 sale 77 price 123 review 20 location Bagmati 20Province stock 1 lang en request_id feb7c324dba78761f11a6be643f46dc6 clickTrackInfo query 253Acamera 253Bnid 253A129860037 253Bsrc 253ALazadaMainSrp 253Brn 253Afeb7c324dba78761f11a6be643f46dc6 253Bregion 253Anp 253Bsku 253A129860037_NP 253Bprice 253A123 253Bclient 253Adesktop 253Bsupplier_id 253A1006106 253Bbiz_source 253Ah5_unknow 253Bslot 253A7 253Butlog_bucket_id 253A470687 253Basc_category_id 253A8204 253Bitem_id 253A129860037 253Bsku_id 253A1037690624 253Bshop_id 253A16001 253BtemplateInfo 253A 1_A3_C 25231103_L 2523 \" }'],\n",
       " ['{ \" name \" : \" Nothing phone 3A Camera Lens Protector \" , \" nid \" : \" 386176979 \" , \" itemId \" : \" 386176979 \" , \" icons \" : [ { \" domClass \" : \" 150565 \" , \" type \" : \" img \" , \" group \" : \" 6 \" , \" showType \" : \" 0 \" } , { \" domClass \" : \" 175175 \" , \" type \" : \" img \" , \" group \" : \" 3 \" , \" showType \" : \" 0 \" } ] , \" image \" : \" https : static 01 daraz com np p 16d48664d8e14c65711670476b4e6050 jpg \" , \" isSmartImage \" : false , \"',\n",
       "  'utLogMap \" : { \" srp_name \" : \" LazadaMainSrp \" , \" x_object_type \" : \" item \" , \" src \" : \" organic \" , \" trafficType \" : \" organic \" , \" x_sku_ids \" : \" 1678551503 \" , \" x_item_ids \" : \" 386176979 \" , \" iconList \" : \" 150565 175175 \" , \" SN \" : \" feb7c324dba78761f11a6be643f46dc6 \" , \" current_price \" : \" 286 \" , \" x_object_id \" : \" 386176979 \" } , \" originalPriceShow \" : \" \" , \" priceShow \" : \" Rs 286 \" , \" ratingScore \" : \" 4 222222222222222 \" , \" review \" : \" 9 \" , \" location \" : \" Bagmati Province \" ,',\n",
       "  '\" description \" : [ ] , \" thumbs \" : [ ] , \" sellerName \" : \" Tech NexT \" , \" sellerId \" : \" 900163664044 \" , \" brandName \" : \" No Brand \" , \" brandId \" : \" 39704 \" , \" cheapest_sku \" : \" 386176979_NP 1678551503 \" , \" skuId \" : \" 1678551503 \" , \" sku \" : \" 386176979_NP \" , \" categories \" : [ 240 , 256 , 8204 ] , \" price \" : \" 286 \" , \" inStock \" : true , \" originalPrice \" : \" 444 \" , \" clickTrace \" : \" query : camera nid : 386176979 src : LazadaMainSrp rn : feb7c324dba78761f11a6be643f46dc6 region : np sku',\n",
       "  ': 386176979_NP price : 286 client : desktop supplier_id : 900163664044 biz_source : h5_unknow slot : 8 utlog_bucket_id : 470687 asc_category_id : 8204 item_id : 386176979 sku_id : 1678551503 shop_id : 105340 templateInfo : 1_A3_C 1103_L \" , \" itemSoldCntShow \" : \" 27 sold \" , \" longImageDisplayable \" : false , \" skus \" : [ { \" id \" : \" 386176979_NP 1678551503 \" } ] , \" promotionId \" : \" \" , \" isSponsored \" : false , \" tItemType \" : \" nt_product \" , \" skuType \" : \" \" , \" adFlag \" : \" 0 \" , \" directSimilarUrl \" : \" https : native m lazada com dynamicxresult item_img https 3A 2F 2Fstatic 01 daraz com np 2Fp',\n",
       "  '2F16d48664d8e14c65711670476b4e6050 jpg src srp_findsimilar item_id 386176979 sku_id 1678551503 params 7B 22sub_src 22 3A 22long_press 22 2C 22src 22 3A 22srp_findsimilar 22 7D m tpp_findSimilar q camera similarType findSimilarV1 price 286 00 spuTriggerItem 0 \" , \" gridTitleLine \" : \" 2 \" , \" isFission \" : \" 0 \" , \" isBadgeAutoScroll \" : false , \" showCart \" : false , \" showBackIcon \" : false , \" showUnitPrice \" : false , \" itemUrl \" : \" www daraz com np products nothing phone 3a camera lens protector i386176979 html \" , \" querystring \" : \" fs_ab 1 priceCompare skuId 3A1678551503 3Bsource 3Alazada search voucher 3Bsn 3Afeb7c324dba78761f11a6be643f46dc6 3BoriginPrice 3A28600 3BdisplayPrice 3A28600 3BsinglePromotionId 3A50000018794008 3BsingleToolCode 3ApromPrice 3BvoucherPricePlugin 3A0 3Btimestamp 3A1758872502749 c ratingscore 4 222222222222222 freeshipping',\n",
       "  '0 source search channelLpJumpArgs fuse_fs search 1 sale 27 price 286 review 9 location Bagmati 20Province stock 1 lang en request_id feb7c324dba78761f11a6be643f46dc6 clickTrackInfo query 253Acamera 253Bnid 253A386176979 253Bsrc 253ALazadaMainSrp 253Brn 253Afeb7c324dba78761f11a6be643f46dc6 253Bregion 253Anp 253Bsku 253A386176979_NP 253Bprice 253A286 253Bclient 253Adesktop 253Bsupplier_id 253A900163664044 253Bbiz_source 253Ah5_unknow 253Bslot 253A8 253Butlog_bucket_id 253A470687 253Basc_category_id 253A8204 253Bitem_id 253A386176979 253Bsku_id 253A1678551503 253Bshop_id 253A105340 253BtemplateInfo 253A 1_A3_C 25231103_L 2523 \" }'],\n",
       " ['{ \" name \" : \" Redmi Note 14 Pro Plus 5g Camera Protector Full Glue Glass \" , \" nid \" : \" 361651522 \" , \" itemId \" : \" 361651522 \" , \" icons \" : [ { \" domClass \" : \" 150565 \" , \" type \" : \" img \" , \" group \" : \" 6 \" , \" showType \" : \" 0 \" } , { \" domClass \" : \" 175175 \" , \" type \" : \" img \" , \" group \" : \" 3 \" , \" showType \" : \" 0 \" } ] , \" image \" : \" https : static 01 daraz com np p 66b02da4185fda88aea27764e6f956cf jpg \" , \" isSmartImage',\n",
       "  '\" : false , \" utLogMap \" : { \" srp_name \" : \" LazadaMainSrp \" , \" x_object_type \" : \" item \" , \" src \" : \" organic \" , \" trafficType \" : \" organic \" , \" x_sku_ids \" : \" 1592745716 \" , \" x_item_ids \" : \" 361651522 \" , \" iconList \" : \" 150565 175175 \" , \" SN \" : \" feb7c324dba78761f11a6be643f46dc6 \" , \" current_price \" : \" 239 \" , \" x_object_id \" : \" 361651522 \" } , \" originalPriceShow \" : \" \" , \" priceShow \" : \" Rs 239 \" , \" ratingScore \" : \" 4 875 \" , \" review \" : \" 8 \" , \" location \" :',\n",
       "  '\" Bagmati Province \" , \" description \" : [ ] , \" thumbs \" : [ ] , \" sellerName \" : \" Zap Home \" , \" sellerId \" : \" 900224992449 \" , \" brandName \" : \" No Brand \" , \" brandId \" : \" 39704 \" , \" cheapest_sku \" : \" 361651522_NP 1592745716 \" , \" skuId \" : \" 1592745716 \" , \" sku \" : \" 361651522_NP \" , \" categories \" : [ 240 , 256 , 8204 ] , \" price \" : \" 239 \" , \" inStock \" : true , \" originalPrice \" : \" 299 \" , \" clickTrace \" : \" query : camera nid : 361651522 src : LazadaMainSrp rn :',\n",
       "  'feb7c324dba78761f11a6be643f46dc6 region : np sku : 361651522_NP price : 239 client : desktop supplier_id : 900224992449 biz_source : h5_unknow slot : 9 utlog_bucket_id : 470687 asc_category_id : 8204 item_id : 361651522 sku_id : 1592745716 shop_id : 140324 templateInfo : 1_A3_C 1103_L \" , \" itemSoldCntShow \" : \" 21 sold \" , \" longImageDisplayable \" : false , \" skus \" : [ { \" id \" : \" 361651522_NP 1592745716 \" } ] , \" promotionId \" : \" \" , \" isSponsored \" : false , \" tItemType \" : \" nt_product \" , \" skuType \" : \" \" , \" adFlag \" : \" 0 \" , \" directSimilarUrl \" : \" https : native m lazada com dynamicxresult item_img https 3A 2F 2Fstatic',\n",
       "  '01 daraz com np 2Fp 2F66b02da4185fda88aea27764e6f956cf jpg src srp_findsimilar item_id 361651522 sku_id 1592745716 params 7B 22sub_src 22 3A 22long_press 22 2C 22src 22 3A 22srp_findsimilar 22 7D m tpp_findSimilar q camera similarType findSimilarV1 price 239 00 spuTriggerItem 0 \" , \" gridTitleLine \" : \" 2 \" , \" isFission \" : \" 0 \" , \" isBadgeAutoScroll \" : false , \" showCart \" : false , \" showBackIcon \" : false , \" showUnitPrice \" : false , \" itemUrl \" : \" www daraz com np products redmi note 14 pro plus 5g camera protector full glue glass i361651522 html \" , \" querystring \" : \" fs_ab 1 priceCompare skuId 3A1592745716 3Bsource 3Alazada search voucher 3Bsn 3Afeb7c324dba78761f11a6be643f46dc6 3BoriginPrice 3A23900 3BdisplayPrice 3A23900 3BsinglePromotionId 3A50000018794008 3BsingleToolCode',\n",
       "  '3ApromPrice 3BvoucherPricePlugin 3A0 3Btimestamp 3A1758872502749 c ratingscore 4 875 freeshipping 0 source search channelLpJumpArgs fuse_fs search 1 sale 21 price 239 review 8 location Bagmati 20Province stock 1 lang en request_id feb7c324dba78761f11a6be643f46dc6 clickTrackInfo query 253Acamera 253Bnid 253A361651522 253Bsrc 253ALazadaMainSrp 253Brn 253Afeb7c324dba78761f11a6be643f46dc6 253Bregion 253Anp 253Bsku 253A361651522_NP 253Bprice 253A239 253Bclient 253Adesktop 253Bsupplier_id 253A900224992449 253Bbiz_source 253Ah5_unknow 253Bslot 253A9 253Butlog_bucket_id 253A470687 253Basc_category_id 253A8204 253Bitem_id 253A361651522 253Bsku_id 253A1592745716 253Bshop_id 253A140324 253BtemplateInfo 253A 1_A3_C 25231103_L 2523 \" }'],\n",
       " ['{ \" name \" : \" Metal Ring Camera Lens Protector For iPhone 14 by Lavish Deals \" , \" nid \" : \" 129853204 \" , \" itemId \" : \" 129853204 \" , \" icons \" : [ { \" domClass \" : \" 150565 \" , \" type \" : \" img \" , \" group \" : \" 6 \" , \" showType \" : \" 0 \" } , { \" domClass \" : \" 150318 \" , \" text \" : \" Gems save Rs 2 \" , \" type \" : \" text \" , \" group \" : \" 2 \" , \" showType \" : \" 0 \" } , { \" domClass \" : \" 175175 \" ,',\n",
       "  '\" type \" : \" img \" , \" group \" : \" 3 \" , \" showType \" : \" 0 \" } ] , \" image \" : \" https : static 01 daraz com np p df51e79bc95897a37b921b4208e4674d jpg \" , \" isSmartImage \" : false , \" utLogMap \" : { \" srp_name \" : \" LazadaMainSrp \" , \" x_object_type \" : \" item \" , \" src \" : \" organic \" , \" trafficType \" : \" organic \" , \" x_sku_ids \" : \" 1037700115 \" , \" x_item_ids \" : \" 129853204 \" , \" iconList \" : \" 150565 150318 175175 \" , \" SN \" : \" feb7c324dba78761f11a6be643f46dc6 \" , \" current_price \" : \" 163 \" ,',\n",
       "  '\" x_object_id \" : \" 129853204 \" } , \" originalPriceShow \" : \" \" , \" priceShow \" : \" Rs 163 \" , \" ratingScore \" : \" 4 055555555555555 \" , \" review \" : \" 18 \" , \" location \" : \" Bagmati Province \" , \" description \" : [ \" Aluminum alloy protection sticker , \" , \" Easy fit , Effective dispersion of impact power when surface is strongly impacted 2 9d arc surface full protection lens , \" , \" Avoid force concentration after grinding Hydrophobic oil treatment , Not easily contaminated with fingerprints \" , \" Nami adsorption , Simple and easy fit , Super adsorption Alignment and deposition can automatically adsorb and exhaust the air \" ]',\n",
       "  ', \" thumbs \" : [ ] , \" sellerName \" : \" Lavish Deals \" , \" sellerId \" : \" 1006106 \" , \" brandName \" : \" No Brand \" , \" brandId \" : \" 39704 \" , \" cheapest_sku \" : \" 129853204_NP 1037700115 \" , \" skuId \" : \" 1037700115 \" , \" sku \" : \" 129853204_NP \" , \" categories \" : [ 240 , 256 , 8204 ] , \" price \" : \" 163 \" , \" inStock \" : true , \" originalPrice \" : \" 399 \" , \" clickTrace \" : \" query : camera nid : 129853204 src : LazadaMainSrp rn : feb7c324dba78761f11a6be643f46dc6 region : np sku : 129853204_NP price : 163 client',\n",
       "  ': desktop supplier_id : 1006106 biz_source : h5_unknow slot : 10 utlog_bucket_id : 470687 asc_category_id : 8204 item_id : 129853204 sku_id : 1037700115 shop_id : 16001 templateInfo : 1_A3_C 1103_L \" , \" itemSoldCntShow \" : \" 67 sold \" , \" longImageDisplayable \" : false , \" skus \" : [ { \" id \" : \" 129853204_NP 1037700115 \" } ] , \" promotionId \" : \" \" , \" isSponsored \" : false , \" tItemType \" : \" nt_product \" , \" skuType \" : \" \" , \" adFlag \" : \" 0 \" , \" directSimilarUrl \" : \" https : native m lazada com dynamicxresult item_img https 3A 2F 2Fstatic 01 daraz com np 2Fp 2Fdf51e79bc95897a37b921b4208e4674d jpg src srp_findsimilar item_id 129853204',\n",
       "  'sku_id 1037700115 params 7B 22sub_src 22 3A 22long_press 22 2C 22src 22 3A 22srp_findsimilar 22 7D m tpp_findSimilar q camera similarType findSimilarV1 price 163 00 spuTriggerItem 0 \" , \" gridTitleLine \" : \" 2 \" , \" isFission \" : \" 0 \" , \" isBadgeAutoScroll \" : false , \" showCart \" : false , \" showBackIcon \" : false , \" showUnitPrice \" : false , \" itemUrl \" : \" www daraz com np products metal ring camera lens protector for iphone 14 by lavish deals i129853204 html \" , \" querystring \" : \" fs_ab 1 priceCompare skuId 3A1037700115 3Bsource 3Alazada search voucher 3Bsn 3Afeb7c324dba78761f11a6be643f46dc6 3BoriginPrice 3A16300 3BdisplayPrice 3A16300 3BsinglePromotionId 3A50000018794008 3BsingleToolCode 3ApromPrice 3BvoucherPricePlugin 3A0 3Btimestamp 3A1758872502749 c ratingscore 4 055555555555555 freeshipping 0',\n",
       "  'source search channelLpJumpArgs fuse_fs search 1 sale 67 price 163 review 18 location Bagmati 20Province stock 1 lang en request_id feb7c324dba78761f11a6be643f46dc6 clickTrackInfo query 253Acamera 253Bnid 253A129853204 253Bsrc 253ALazadaMainSrp 253Brn 253Afeb7c324dba78761f11a6be643f46dc6 253Bregion 253Anp 253Bsku 253A129853204_NP 253Bprice 253A163 253Bclient 253Adesktop 253Bsupplier_id 253A1006106 253Bbiz_source 253Ah5_unknow 253Bslot 253A10 253Butlog_bucket_id 253A470687 253Basc_category_id 253A8204 253Bitem_id 253A129853204 253Bsku_id 253A1037700115 253Bshop_id 253A16001 253BtemplateInfo 253A 1_A3_C 25231103_L 2523 \" }'],\n",
       " ['{ \" name \" : \" Camera Lens for Redmi Note 13 Pro Plus 5G Individual Metal Ring Tempered Glass Camera Screen Protector with Locator Black \" , \" nid \" : \" 131305546 \" , \" itemId \" : \" 131305546 \" , \" icons \" : [ ] , \" image \" : \" https : static 01 daraz com np p f9c0599852dccc48cde82bc5d468ba72 jpg \" , \" isSmartImage \" : false , \" utLogMap \" : { \" srp_name \" : \" LazadaMainSrp \" , \" x_object_type \" : \" item \" , \" src \" : \" organic \" , \" trafficType \" : \" organic \" , \" x_sku_ids \" : \" 1038156726 \" , \" x_item_ids \" : \" 131305546 \" , \"',\n",
       "  'SN \" : \" feb7c324dba78761f11a6be643f46dc6 \" , \" current_price \" : \" 290 \" , \" x_object_id \" : \" 131305546 \" } , \" originalPriceShow \" : \" \" , \" priceShow \" : \" Rs 290 \" , \" ratingScore \" : \" 4 142857142857143 \" , \" review \" : \" 28 \" , \" location \" : \" Bagmati Province \" , \" description \" : [ \" u3010Compatible with Redmi Note 13 Pro Plus 5G u3011Back Camera Lens Protector is exclusively designed for Redmi Note 13 Pro Plus 5G phone , not for other models \" , \" u3010High quality materials u3011The rear camera protector is made of aviation aluminum alloy and tempered glass , which is more wear resistant and stronger High',\n",
       "  'transparency maintains the original visual effect \" , \" u3010Full Lens Coverage u3011The camera lens protector full cover the lens of the mobile phone It can prevent your camera lens from scratch effectively in daily life while prevent dust and water \" , \" u30103D Texture u3011The delicate and precise spiral pattern produces fascinating reflections and the unbeatable shine in any light The camera protector not only protect your lens but also making it a personalized decoration \" , \" u3010Case Friendly u3011The ultra thin design fit for most phone cases and will not affect the use of the case Easy to install and remove \" ] , \" thumbs \" : [ ] , \" sellerName \" : \" 55 STORE \" , \" sellerId \" :',\n",
       "  '\" 900154653638 \" , \" brandName \" : \" No Brand \" , \" brandId \" : \" 39704 \" , \" cheapest_sku \" : \" 131305546_NP 1038156726 \" , \" skuId \" : \" 1038156726 \" , \" sku \" : \" 131305546_NP \" , \" categories \" : [ 240 , 256 , 8204 ] , \" price \" : \" 290 \" , \" inStock \" : true , \" originalPrice \" : \" 475 \" , \" clickTrace \" : \" query : camera nid : 131305546 src : LazadaMainSrp rn : feb7c324dba78761f11a6be643f46dc6 region : np sku : 131305546_NP price : 290 client : desktop supplier_id : 900154653638 biz_source : h5_unknow slot : 11 utlog_bucket_id : 470687 asc_category_id : 8204 item_id : 131305546 sku_id',\n",
       "  ': 1038156726 shop_id : 70477 templateInfo : 1_A3_C 1103_L \" , \" itemSoldCntShow \" : \" 99 sold \" , \" longImageDisplayable \" : false , \" skus \" : [ { \" id \" : \" 131305546_NP 1038156726 \" } ] , \" promotionId \" : \" \" , \" isSponsored \" : false , \" tItemType \" : \" nt_product \" , \" skuType \" : \" \" , \" adFlag \" : \" 0 \" , \" directSimilarUrl \" : \" https : native m lazada com dynamicxresult item_img https 3A 2F 2Fstatic 01 daraz com np 2Fp 2Ff9c0599852dccc48cde82bc5d468ba72 jpg src srp_findsimilar item_id 131305546 sku_id 1038156726 params 7B 22sub_src 22 3A 22long_press 22 2C 22src 22 3A 22srp_findsimilar 22 7D m tpp_findSimilar q camera similarType',\n",
       "  'findSimilarV1 price 290 00 spuTriggerItem 0 \" , \" gridTitleLine \" : \" 2 \" , \" isFission \" : \" 0 \" , \" isBadgeAutoScroll \" : false , \" showCart \" : false , \" showBackIcon \" : false , \" showUnitPrice \" : false , \" itemUrl \" : \" www daraz com np products camera lens for redmi note 13 pro plus 5g individual metal ring tempered glass camera screen protector with locator black i131305546 html \" , \" querystring \" : \" fs_ab 1 priceCompare skuId 3A1038156726 3Bsource 3Alazada search voucher 3Bsn 3Afeb7c324dba78761f11a6be643f46dc6 3BoriginPrice 3A29000 3BdisplayPrice 3A29000 3BsinglePromotionId 3A 1 3BsingleToolCode 3AmockedSalePrice 3BvoucherPricePlugin 3A0 3Btimestamp 3A1758872502749 c ratingscore 4 142857142857143 freeshipping 0 source search channelLpJumpArgs fuse_fs search 1 sale 99 price 2 9E',\n",
       "  '202 review 28 location Bagmati 20Province stock 1 lang en request_id feb7c324dba78761f11a6be643f46dc6 clickTrackInfo query 253Acamera 253Bnid 253A131305546 253Bsrc 253ALazadaMainSrp 253Brn 253Afeb7c324dba78761f11a6be643f46dc6 253Bregion 253Anp 253Bsku 253A131305546_NP 253Bprice 253A290 253Bclient 253Adesktop 253Bsupplier_id 253A900154653638 253Bbiz_source 253Ah5_unknow 253Bslot 253A11 253Butlog_bucket_id 253A470687 253Basc_category_id 253A8204 253Bitem_id 253A131305546 253Bsku_id 253A1038156726 253Bshop_id 253A70477 253BtemplateInfo 253A 1_A3_C 25231103_L 2523 \" }'],\n",
       " ['{ \" name \" : \" Ultra Clear Tempered Glass Screen Lens Front Screen Protector For GoPro Hero 12 Black \" , \" nid \" : \" 128298846 \" , \" itemId \" : \" 128298846 \" , \" icons \" : [ { \" domClass \" : \" 150565 \" , \" type \" : \" img \" , \" group \" : \" 6 \" , \" showType \" : \" 0 \" } , { \" domClass \" : \" 175175 \" , \" type \" : \" img \" , \" group \" : \" 3 \" , \" showType \" : \" 0 \" } ] , \" image \" : \" https : static 01 daraz com np p 072c6c627428c9378044da979de668ca jpg \"',\n",
       "  ', \" isSmartImage \" : false , \" utLogMap \" : { \" srp_name \" : \" LazadaMainSrp \" , \" x_object_type \" : \" item \" , \" src \" : \" organic \" , \" trafficType \" : \" organic \" , \" x_sku_ids \" : \" 1035554918 \" , \" x_item_ids \" : \" 128298846 \" , \" iconList \" : \" 150565 175175 \" , \" SN \" : \" feb7c324dba78761f11a6be643f46dc6 \" , \" current_price \" : \" 435 \" , \" x_object_id \" : \" 128298846 \" } , \" originalPriceShow \" : \" \" , \" priceShow \" : \" Rs 435 \" , \" ratingScore \" : \" 4 7272727272727275 \" , \" review \" : \" 11 \" , \"',\n",
       "  'location \" : \" Bagmati Province \" , \" description \" : [ \" For Go Pro Hero 12 Black \" , \" 3 Pcs Screen Protector \" , \" Colour Transparent \" , \" 0 3mm thickness \" , \" Made of high quality tempered glass \" , \" Item Weight u200e30 g \" , \" Package Dimensions u200e10 2 x 7 x 3 1 cm 30 Grams \" , \" 1 x Lens Protection Film \" , \" 2 x Small Display HD Protective Film \" , \" 1 x Wipes \" , \" 1 x Screen Dust Absorb er \" ] , \" thumbs \" : [ ] , \" sellerName \" : \" Next Buy \" , \" sellerId \" : \" 900151185319 \"',\n",
       "  ', \" brandName \" : \" No Brand \" , \" brandId \" : \" 39704 \" , \" cheapest_sku \" : \" 128298846_NP 1035554918 \" , \" skuId \" : \" 1035554918 \" , \" sku \" : \" 128298846_NP \" , \" categories \" : [ 240 , 256 , 8204 ] , \" price \" : \" 435 \" , \" inStock \" : true , \" originalPrice \" : \" 700 \" , \" clickTrace \" : \" query : camera nid : 128298846 src : LazadaMainSrp rn : feb7c324dba78761f11a6be643f46dc6 region : np sku : 128298846_NP price : 435 client : desktop supplier_id : 900151185319 biz_source : h5_unknow slot : 12 utlog_bucket_id : 470687 asc_category_id : 8204 item_id : 128298846 sku_id : 1035554918 shop_id',\n",
       "  ': 23709 templateInfo : 1_A3_C 1103_L \" , \" itemSoldCntShow \" : \" 41 sold \" , \" longImageDisplayable \" : false , \" skus \" : [ { \" id \" : \" 128298846_NP 1035554918 \" } ] , \" promotionId \" : \" \" , \" isSponsored \" : false , \" tItemType \" : \" nt_product \" , \" skuType \" : \" \" , \" adFlag \" : \" 0 \" , \" directSimilarUrl \" : \" https : native m lazada com dynamicxresult item_img https 3A 2F 2Fstatic 01 daraz com np 2Fp 2F072c6c627428c9378044da979de668ca jpg src srp_findsimilar item_id 128298846 sku_id 1035554918 params 7B 22sub_src 22 3A 22long_press 22 2C 22src 22 3A 22srp_findsimilar 22 7D m tpp_findSimilar q camera similarType findSimilarV1 price 435',\n",
       "  '00 spuTriggerItem 0 \" , \" gridTitleLine \" : \" 2 \" , \" isFission \" : \" 0 \" , \" isBadgeAutoScroll \" : false , \" showCart \" : false , \" showBackIcon \" : false , \" showUnitPrice \" : false , \" itemUrl \" : \" www daraz com np products ultra clear tempered glass screen lens front screen protector for gopro hero 12 black i128298846 html \" , \" querystring \" : \" fs_ab 1 priceCompare skuId 3A1035554918 3Bsource 3Alazada search voucher 3Bsn 3Afeb7c324dba78761f11a6be643f46dc6 3BoriginPrice 3A43500 3BdisplayPrice 3A43500 3BsinglePromotionId 3A50000018794008 3BsingleToolCode 3ApromPrice 3BvoucherPricePlugin 3A0 3Btimestamp 3A1758872502749 c ratingscore 4 7272727272727275 freeshipping 0 source search channelLpJumpArgs fuse_fs search 1 sale 41 price 435 review 11 location Bagmati 20Province stock 1 lang en request_id feb7c324dba78761f11a6be643f46dc6',\n",
       "  'clickTrackInfo query 253Acamera 253Bnid 253A128298846 253Bsrc 253ALazadaMainSrp 253Brn 253Afeb7c324dba78761f11a6be643f46dc6 253Bregion 253Anp 253Bsku 253A128298846_NP 253Bprice 253A435 253Bclient 253Adesktop 253Bsupplier_id 253A900151185319 253Bbiz_source 253Ah5_unknow 253Bslot 253A12 253Butlog_bucket_id 253A470687 253Basc_category_id 253A8204 253Bitem_id 253A128298846 253Bsku_id 253A1035554918 253Bshop_id 253A23709 253BtemplateInfo 253A 1_A3_C 25231103_L 2523 \" }'],\n",
       " ['{ \" name \" : \" Iphone 11 Camera Protector Mettalic Ring Glass \" , \" nid \" : \" 149524700 \" , \" itemId \" : \" 149524700 \" , \" icons \" : [ { \" domClass \" : \" 150565 \" , \" type \" : \" img \" , \" group \" : \" 6 \" , \" showType \" : \" 0 \" } , { \" domClass \" : \" 175175 \" , \" type \" : \" img \" , \" group \" : \" 3 \" , \" showType \" : \" 0 \" } ] , \" image \" : \" https : static 01 daraz com np p 866b4fb72cb2f4d66ceef71b82778d49 jpg \" , \" isSmartImage \" : false ,',\n",
       "  '\" utLogMap \" : { \" srp_name \" : \" LazadaMainSrp \" , \" x_object_type \" : \" item \" , \" src \" : \" organic \" , \" trafficType \" : \" organic \" , \" x_sku_ids \" : \" 1104136091 \" , \" x_item_ids \" : \" 149524700 \" , \" iconList \" : \" 150565 175175 \" , \" SN \" : \" feb7c324dba78761f11a6be643f46dc6 \" , \" current_price \" : \" 158 37 \" , \" x_object_id \" : \" 149524700 \" } , \" originalPriceShow \" : \" \" , \" priceShow \" : \" Rs 158 \" , \" ratingScore \" : \" 5 0 \" , \" review \" : \" 3 \" , \" location \" : \" Bagmati Province',\n",
       "  '\" , \" description \" : [ ] , \" thumbs \" : [ ] , \" sellerName \" : \" Zap Home \" , \" sellerId \" : \" 900224992449 \" , \" brandName \" : \" No Brand \" , \" brandId \" : \" 39704 \" , \" cheapest_sku \" : \" 149524700_NP 1104136091 \" , \" skuId \" : \" 1104136091 \" , \" sku \" : \" 149524700_NP \" , \" categories \" : [ 240 , 256 , 8204 ] , \" price \" : \" 158 37 \" , \" inStock \" : true , \" originalPrice \" : \" 299 \" , \" clickTrace \" : \" query : camera nid : 149524700 src : LazadaMainSrp rn : feb7c324dba78761f11a6be643f46dc6 region',\n",
       "  ': np sku : 149524700_NP price : 158 37 client : desktop supplier_id : 900224992449 biz_source : h5_unknow slot : 13 utlog_bucket_id : 470687 asc_category_id : 8204 item_id : 149524700 sku_id : 1104136091 shop_id : 140324 templateInfo : 1_A3_C 1103_L \" , \" itemSoldCntShow \" : \" 10 sold \" , \" longImageDisplayable \" : false , \" skus \" : [ { \" id \" : \" 149524700_NP 1104136091 \" } ] , \" promotionId \" : \" \" , \" isSponsored \" : false , \" tItemType \" : \" nt_product \" , \" skuType \" : \" \" , \" adFlag \" : \" 0 \" , \" directSimilarUrl \" : \" https : native m lazada com dynamicxresult item_img https 3A 2F 2Fstatic 01',\n",
       "  'daraz com np 2Fp 2F866b4fb72cb2f4d66ceef71b82778d49 jpg src srp_findsimilar item_id 149524700 sku_id 1104136091 params 7B 22sub_src 22 3A 22long_press 22 2C 22src 22 3A 22srp_findsimilar 22 7D m tpp_findSimilar q camera similarType findSimilarV1 price 158 37 spuTriggerItem 0 \" , \" gridTitleLine \" : \" 2 \" , \" isFission \" : \" 0 \" , \" isBadgeAutoScroll \" : false , \" showCart \" : false , \" showBackIcon \" : false , \" showUnitPrice \" : false , \" itemUrl \" : \" www daraz com np products iphone 11 camera protector mettalic ring glass i149524700 html \" , \" querystring \" : \" fs_ab 1 priceCompare skuId 3A1104136091 3Bsource 3Alazada search voucher 3Bsn 3Afeb7c324dba78761f11a6be643f46dc6 3BoriginPrice 3A15800 3BdisplayPrice 3A15800 3BsinglePromotionId 3A50000018794008 3BsingleToolCode 3ApromPrice 3BvoucherPricePlugin 3A0 3Btimestamp 3A1758872502749',\n",
       "  'c ratingscore 5 0 freeshipping 0 source search channelLpJumpArgs fuse_fs search 1 sale 10 price 158 37 review 3 location Bagmati 20Province stock 1 lang en request_id feb7c324dba78761f11a6be643f46dc6 clickTrackInfo query 253Acamera 253Bnid 253A149524700 253Bsrc 253ALazadaMainSrp 253Brn 253Afeb7c324dba78761f11a6be643f46dc6 253Bregion 253Anp 253Bsku 253A149524700_NP 253Bprice 253A158 37 253Bclient 253Adesktop 253Bsupplier_id 253A900224992449 253Bbiz_source 253Ah5_unknow 253Bslot 253A13 253Butlog_bucket_id 253A470687 253Basc_category_id 253A8204 253Bitem_id 253A149524700 253Bsku_id 253A1104136091 253Bshop_id 253A140324 253BtemplateInfo 253A 1_A3_C 25231103_L 2523 \" }'],\n",
       " ['{ \" name \" : \" For Samsung Galaxy A16 5G 9H Rear Camera Lens Aluminum Alloy Ring Tempered Glass Film Black \" , \" nid \" : \" 188477533 \" , \" itemId \" : \" 188477533 \" , \" icons \" : [ { \" domClass \" : \" 150564 \" , \" type \" : \" img \" , \" group \" : \" 6 \" , \" showType \" : \" 0 \" } , { \" domClass \" : \" 175175 \" , \" type \" : \" img \" , \" group \" : \" 3 \" , \" showType \" : \" 0 \" } ] , \" image \" : \" https : static 01 daraz com np p bc8d479cd058b669424939a4b3167e2a',\n",
       "  'jpg \" , \" isSmartImage \" : false , \" utLogMap \" : { \" srp_name \" : \" LazadaMainSrp \" , \" x_object_type \" : \" item \" , \" src \" : \" organic \" , \" trafficType \" : \" organic \" , \" x_sku_ids \" : \" 1231381669 \" , \" x_item_ids \" : \" 188477533 \" , \" iconList \" : \" 150564 175175 \" , \" SN \" : \" feb7c324dba78761f11a6be643f46dc6 \" , \" current_price \" : \" 337 \" , \" x_object_id \" : \" 188477533 \" } , \" originalPriceShow \" : \" \" , \" priceShow \" : \" Rs 337 \" , \" ratingScore \" : \" 5 0 \" , \" review \" : \" 5 \"',\n",
       "  ', \" location \" : \" Bagmati Province \" , \" description \" : [ ] , \" thumbs \" : [ ] , \" sellerName \" : \" Mero Deals \" , \" sellerId \" : \" 900157494400 \" , \" brandName \" : \" No Brand \" , \" brandId \" : \" 39704 \" , \" cheapest_sku \" : \" 188477533_NP 1231381669 \" , \" skuId \" : \" 1231381669 \" , \" sku \" : \" 188477533_NP \" , \" categories \" : [ 240 , 256 , 8204 ] , \" price \" : \" 337 \" , \" inStock \" : true , \" originalPrice \" : \" 466 \" , \" clickTrace \" : \" query : camera nid : 188477533',\n",
       "  'src : LazadaMainSrp rn : feb7c324dba78761f11a6be643f46dc6 region : np sku : 188477533_NP price : 337 client : desktop supplier_id : 900157494400 biz_source : h5_unknow slot : 14 utlog_bucket_id : 470687 asc_category_id : 8204 item_id : 188477533 sku_id : 1231381669 shop_id : 93492 templateInfo : 1_A3_C 1103_L \" , \" itemSoldCntShow \" : \" 12 sold \" , \" longImageDisplayable \" : false , \" skus \" : [ { \" id \" : \" 188477533_NP 1231381669 \" } ] , \" promotionId \" : \" \" , \" isSponsored \" : false , \" tItemType \" : \" nt_product \" , \" skuType \" : \" \" , \" adFlag \" : \" 0 \" , \" directSimilarUrl \" : \" https : native m lazada com dynamicxresult',\n",
       "  'item_img https 3A 2F 2Fstatic 01 daraz com np 2Fp 2Fbc8d479cd058b669424939a4b3167e2a jpg src srp_findsimilar item_id 188477533 sku_id 1231381669 params 7B 22sub_src 22 3A 22long_press 22 2C 22src 22 3A 22srp_findsimilar 22 7D m tpp_findSimilar q camera similarType findSimilarV1 price 337 00 spuTriggerItem 0 \" , \" gridTitleLine \" : \" 2 \" , \" isFission \" : \" 0 \" , \" isBadgeAutoScroll \" : false , \" showCart \" : false , \" showBackIcon \" : false , \" showUnitPrice \" : false , \" itemUrl \" : \" www daraz com np products for samsung galaxy a16 5g 9h rear camera lens aluminum alloy ring tempered glass filmblack i188477533 html \" , \" querystring \" : \" fs_ab 1 priceCompare skuId 3A1231381669 3Bsource 3Alazada search voucher',\n",
       "  '3Bsn 3Afeb7c324dba78761f11a6be643f46dc6 3BoriginPrice 3A33700 3BdisplayPrice 3A33700 3BsinglePromotionId 3A50000018794008 3BsingleToolCode 3ApromPrice 3BvoucherPricePlugin 3A0 3Btimestamp 3A1758872502749 c ratingscore 5 0 freeshipping 0 source search channelLpJumpArgs fuse_fs search 1 sale 12 price 337 review 5 location Bagmati 20Province stock 1 lang en request_id feb7c324dba78761f11a6be643f46dc6 clickTrackInfo query 253Acamera 253Bnid 253A188477533 253Bsrc 253ALazadaMainSrp 253Brn 253Afeb7c324dba78761f11a6be643f46dc6 253Bregion 253Anp 253Bsku 253A188477533_NP 253Bprice 253A337 253Bclient 253Adesktop 253Bsupplier_id 253A900157494400 253Bbiz_source 253Ah5_unknow 253Bslot 253A14 253Butlog_bucket_id 253A470687 253Basc_category_id 253A8204 253Bitem_id 253A188477533 253Bsku_id 253A1231381669 253Bshop_id 253A93492 253BtemplateInfo 253A 1_A3_C 25231103_L 2523 \" }'],\n",
       " ['{ \" name \" : \" Nothing phone 3A Pro Camera Lens Protector \" , \" nid \" : \" 386981835 \" , \" itemId \" : \" 386981835 \" , \" icons \" : [ { \" domClass \" : \" 150565 \" , \" type \" : \" img \" , \" group \" : \" 6 \" , \" showType \" : \" 0 \" } , { \" domClass \" : \" 175175 \" , \" type \" : \" img \" , \" group \" : \" 3 \" , \" showType \" : \" 0 \" } ] , \" image \" : \" https : static 01 daraz com np p 99d105200f4b58daf00529b5c00c9714 jpg \" , \" isSmartImage \" : false ,',\n",
       "  '\" utLogMap \" : { \" srp_name \" : \" LazadaMainSrp \" , \" x_object_type \" : \" item \" , \" src \" : \" organic \" , \" trafficType \" : \" organic \" , \" x_sku_ids \" : \" 1680588187 \" , \" x_item_ids \" : \" 386981835 \" , \" iconList \" : \" 150565 175175 \" , \" SN \" : \" feb7c324dba78761f11a6be643f46dc6 \" , \" current_price \" : \" 285 \" , \" x_object_id \" : \" 386981835 \" } , \" originalPriceShow \" : \" \" , \" priceShow \" : \" Rs 285 \" , \" ratingScore \" : \" 5 0 \" , \" review \" : \" 1 \" , \" location \" : \" Bagmati Province \"',\n",
       "  ', \" description \" : [ ] , \" thumbs \" : [ ] , \" sellerName \" : \" Tech NexT \" , \" sellerId \" : \" 900163664044 \" , \" brandName \" : \" No Brand \" , \" brandId \" : \" 39704 \" , \" cheapest_sku \" : \" 386981835_NP 1680588187 \" , \" skuId \" : \" 1680588187 \" , \" sku \" : \" 386981835_NP \" , \" categories \" : [ 240 , 256 , 8204 ] , \" price \" : \" 285 \" , \" inStock \" : true , \" originalPrice \" : \" 444 \" , \" clickTrace \" : \" query : camera nid : 386981835 src : LazadaMainSrp rn : feb7c324dba78761f11a6be643f46dc6 region : np',\n",
       "  'sku : 386981835_NP price : 285 client : desktop supplier_id : 900163664044 biz_source : h5_unknow slot : 15 utlog_bucket_id : 470687 asc_category_id : 8204 item_id : 386981835 sku_id : 1680588187 shop_id : 105340 templateInfo : 1_A3_C 1103_L \" , \" itemSoldCntShow \" : \" 10 sold \" , \" longImageDisplayable \" : false , \" skus \" : [ { \" id \" : \" 386981835_NP 1680588187 \" } ] , \" promotionId \" : \" \" , \" isSponsored \" : false , \" tItemType \" : \" nt_product \" , \" skuType \" : \" \" , \" adFlag \" : \" 0 \" , \" directSimilarUrl \" : \" https : native m lazada com dynamicxresult item_img https 3A 2F 2Fstatic 01 daraz com np',\n",
       "  '2Fp 2F99d105200f4b58daf00529b5c00c9714 jpg src srp_findsimilar item_id 386981835 sku_id 1680588187 params 7B 22sub_src 22 3A 22long_press 22 2C 22src 22 3A 22srp_findsimilar 22 7D m tpp_findSimilar q camera similarType findSimilarV1 price 285 00 spuTriggerItem 0 \" , \" gridTitleLine \" : \" 2 \" , \" isFission \" : \" 0 \" , \" isBadgeAutoScroll \" : false , \" showCart \" : false , \" showBackIcon \" : false , \" showUnitPrice \" : false , \" itemUrl \" : \" www daraz com np products nothing phone 3a pro camera lens protector i386981835 html \" , \" querystring \" : \" fs_ab 1 priceCompare skuId 3A1680588187 3Bsource 3Alazada search voucher 3Bsn 3Afeb7c324dba78761f11a6be643f46dc6 3BoriginPrice 3A28500 3BdisplayPrice 3A28500 3BsinglePromotionId 3A50000018794008 3BsingleToolCode 3ApromPrice 3BvoucherPricePlugin 3A0 3Btimestamp 3A1758872502749 c ratingscore 5',\n",
       "  '0 freeshipping 0 source search channelLpJumpArgs fuse_fs search 1 sale 10 price 285 review 1 location Bagmati 20Province stock 1 lang en request_id feb7c324dba78761f11a6be643f46dc6 clickTrackInfo query 253Acamera 253Bnid 253A386981835 253Bsrc 253ALazadaMainSrp 253Brn 253Afeb7c324dba78761f11a6be643f46dc6 253Bregion 253Anp 253Bsku 253A386981835_NP 253Bprice 253A285 253Bclient 253Adesktop 253Bsupplier_id 253A900163664044 253Bbiz_source 253Ah5_unknow 253Bslot 253A15 253Butlog_bucket_id 253A470687 253Basc_category_id 253A8204 253Bitem_id 253A386981835 253Bsku_id 253A1680588187 253Bshop_id 253A105340 253BtemplateInfo 253A 1_A3_C 25231103_L 2523 \" }'],\n",
       " ['{ \" name \" : \" XMart Apple iPhone 16 iPhone 16 Plus Camera Ring Tempered Glass \" , \" nid \" : \" 105132088 \" , \" itemId \" : \" 105132088 \" , \" icons \" : [ { \" domClass \" : \" 150565 \" , \" type \" : \" img \" , \" group \" : \" 6 \" , \" showType \" : \" 0 \" } , { \" domClass \" : \" 150318 \" , \" text \" : \" Gems save Rs 10 \" , \" type \" : \" text \" , \" group \" : \" 2 \" , \" showType \" : \" 0 \" } , { \" domClass \" : \" 175175 \" ,',\n",
       "  '\" type \" : \" img \" , \" group \" : \" 3 \" , \" showType \" : \" 0 \" } ] , \" image \" : \" https : static 01 daraz com np p 4e7cdf33d4ce8b45665cf8eba105f617 png \" , \" isSmartImage \" : false , \" utLogMap \" : { \" srp_name \" : \" LazadaMainSrp \" , \" x_object_type \" : \" item \" , \" src \" : \" organic \" , \" trafficType \" : \" organic \" , \" x_sku_ids \" : \" 1124823363 \" , \" x_item_ids \" : \" 105132088 \" , \" iconList \" : \" 150565 150318 175175 \" , \" SN \" : \" feb7c324dba78761f11a6be643f46dc6 \" , \" current_price \" : \" 336 \" ,',\n",
       "  '\" x_object_id \" : \" 105132088 \" } , \" originalPriceShow \" : \" \" , \" priceShow \" : \" Rs 336 \" , \" ratingScore \" : \" 4 75 \" , \" review \" : \" 4 \" , \" location \" : \" Bagmati Province \" , \" description \" : [ \" Tempered glass screen protector for iPhone 16 iPhone 16 Plus \" , \" Available in different colors to match your style \" , \" Protects against scratches and impact \" , \" Easy to install and does not affect camera functionality \" ] , \" thumbs \" : [ ] , \" sellerName \" : \" Freakypanda \" , \" sellerId \" : \" 1010509 \" , \" brandName \" :',\n",
       "  '\" No Brand \" , \" brandId \" : \" 39704 \" , \" cheapest_sku \" : \" 105132088_NP 1124823363 \" , \" skuId \" : \" 1124823363 \" , \" sku \" : \" 105132088_NP \" , \" categories \" : [ 240 , 256 , 8204 ] , \" price \" : \" 336 \" , \" inStock \" : true , \" originalPrice \" : \" 899 \" , \" clickTrace \" : \" query : camera nid : 105132088 src : LazadaMainSrp rn : feb7c324dba78761f11a6be643f46dc6 region : np sku : 105132088_NP price : 336 client : desktop supplier_id : 1010509 biz_source : h5_unknow slot : 16 utlog_bucket_id : 470687 asc_category_id : 8204 item_id : 105132088 sku_id : 1124823363 shop_id : 20257 templateInfo : 1_A3_C',\n",
       "  '1103_L \" , \" itemSoldCntShow \" : \" 18 sold \" , \" longImageDisplayable \" : false , \" skus \" : [ { \" id \" : \" 105132088_NP 1124823363 \" } ] , \" promotionId \" : \" \" , \" isSponsored \" : false , \" tItemType \" : \" nt_product \" , \" skuType \" : \" \" , \" adFlag \" : \" 0 \" , \" directSimilarUrl \" : \" https : native m lazada com dynamicxresult item_img https 3A 2F 2Fstatic 01 daraz com np 2Fp 2F4e7cdf33d4ce8b45665cf8eba105f617 png src srp_findsimilar item_id 105132088 sku_id 1124823363 params 7B 22sub_src 22 3A 22long_press 22 2C 22src 22 3A 22srp_findsimilar 22 7D m tpp_findSimilar q camera similarType findSimilarV1 price 336 00 spuTriggerItem 0 \" ,',\n",
       "  '\" gridTitleLine \" : \" 2 \" , \" isFission \" : \" 0 \" , \" isBadgeAutoScroll \" : false , \" showCart \" : false , \" showBackIcon \" : false , \" showUnitPrice \" : false , \" itemUrl \" : \" www daraz com np products xmart apple iphone 16 iphone 16 plus camera ring tempered glass i105132088 html \" , \" querystring \" : \" fs_ab 1 priceCompare skuId 3A1124823363 3Bsource 3Alazada search voucher 3Bsn 3Afeb7c324dba78761f11a6be643f46dc6 3BoriginPrice 3A33600 3BdisplayPrice 3A33600 3BsinglePromotionId 3A50000018794008 3BsingleToolCode 3ApromPrice 3BvoucherPricePlugin 3A0 3Btimestamp 3A1758872502749 c ratingscore 4 75 freeshipping 0 source search channelLpJumpArgs fuse_fs search 1 sale 18 price 336 review 4 location Bagmati 20Province stock 1 lang en request_id feb7c324dba78761f11a6be643f46dc6 clickTrackInfo query 253Acamera 253Bnid 253A105132088 253Bsrc 253ALazadaMainSrp 253Brn',\n",
       "  '253Afeb7c324dba78761f11a6be643f46dc6 253Bregion 253Anp 253Bsku 253A105132088_NP 253Bprice 253A336 253Bclient 253Adesktop 253Bsupplier_id 253A1010509 253Bbiz_source 253Ah5_unknow 253Bslot 253A16 253Butlog_bucket_id 253A470687 253Basc_category_id 253A8204 253Bitem_id 253A105132088 253Bsku_id 253A1124823363 253Bshop_id 253A20257 253BtemplateInfo 253A 1_A3_C 25231103_L 2523 \" }'],\n",
       " ['{ \" name \" : \" Ultra Clear Tempered Glass Screen Lens Front Screen Protector For GoPro Hero 11 Black \" , \" nid \" : \" 122073984 \" , \" itemId \" : \" 122073984 \" , \" icons \" : [ { \" domClass \" : \" 150565 \" , \" type \" : \" img \" , \" group \" : \" 6 \" , \" showType \" : \" 0 \" } , { \" domClass \" : \" 175175 \" , \" type \" : \" img \" , \" group \" : \" 3 \" , \" showType \" : \" 0 \" } ] , \" image \" : \" https : static 01 daraz com np p ca855fbda1726716fb85e43bfd3dddc4 jpg \"',\n",
       "  ', \" isSmartImage \" : false , \" utLogMap \" : { \" srp_name \" : \" LazadaMainSrp \" , \" x_object_type \" : \" item \" , \" src \" : \" organic \" , \" trafficType \" : \" organic \" , \" x_sku_ids \" : \" 1033187475 \" , \" x_item_ids \" : \" 122073984 \" , \" iconList \" : \" 150565 175175 \" , \" SN \" : \" feb7c324dba78761f11a6be643f46dc6 \" , \" current_price \" : \" 435 \" , \" x_object_id \" : \" 122073984 \" } , \" originalPriceShow \" : \" \" , \" priceShow \" : \" Rs 435 \" , \" ratingScore \" : \" 4 75 \" , \" review \" : \" 32 \" , \"',\n",
       "  'location \" : \" Bagmati Province \" , \" description \" : [ \" Go Pro Hero 11 Black \" , \" You can use on go pro hero 10 and 9 \" , \" 3 Pcs Screen Protector \" , \" Colour Transparent \" , \" 0 3mm thickness \" , \" Made of high quality tempered glass \" , \" Item Weight lrm 30 g \" , \" Package Dimensions lrm 10 2 x 7 x 3 1 cm 30 Grams \" , \" 1 x Lens Protection Film \" , \" 2 x Small Display HD Protective Film \" , \" 1 x Wipes \" , \" 1 x Screen Dust Absorb er \" , \" 9H Hardness \" , \" High Definition \" ,',\n",
       "  '\" Anti shatter \" ] , \" thumbs \" : [ ] , \" sellerName \" : \" Next Buy \" , \" sellerId \" : \" 900151185319 \" , \" brandName \" : \" No Brand \" , \" brandId \" : \" 39704 \" , \" cheapest_sku \" : \" 122073984_NP 1033187475 \" , \" skuId \" : \" 1033187475 \" , \" sku \" : \" 122073984_NP \" , \" categories \" : [ 240 , 256 , 8204 ] , \" price \" : \" 435 \" , \" inStock \" : true , \" originalPrice \" : \" 600 \" , \" clickTrace \" : \" query : camera nid : 122073984 src : LazadaMainSrp rn : feb7c324dba78761f11a6be643f46dc6 region : np sku :',\n",
       "  '122073984_NP price : 435 client : desktop supplier_id : 900151185319 biz_source : h5_unknow slot : 17 utlog_bucket_id : 470687 asc_category_id : 8204 item_id : 122073984 sku_id : 1033187475 shop_id : 23709 templateInfo : 1_A3_C 1103_L \" , \" itemSoldCntShow \" : \" 117 sold \" , \" longImageDisplayable \" : false , \" skus \" : [ { \" id \" : \" 122073984_NP 1033187475 \" } ] , \" promotionId \" : \" \" , \" isSponsored \" : false , \" tItemType \" : \" nt_product \" , \" skuType \" : \" \" , \" adFlag \" : \" 0 \" , \" directSimilarUrl \" : \" https : native m lazada com dynamicxresult item_img https 3A 2F 2Fstatic 01 daraz com np 2Fp 2Fca855fbda1726716fb85e43bfd3dddc4',\n",
       "  'jpg src srp_findsimilar item_id 122073984 sku_id 1033187475 params 7B 22sub_src 22 3A 22long_press 22 2C 22src 22 3A 22srp_findsimilar 22 7D m tpp_findSimilar q camera similarType findSimilarV1 price 435 00 spuTriggerItem 0 \" , \" gridTitleLine \" : \" 2 \" , \" isFission \" : \" 0 \" , \" isBadgeAutoScroll \" : false , \" showCart \" : false , \" showBackIcon \" : false , \" showUnitPrice \" : false , \" itemUrl \" : \" www daraz com np products ultra clear tempered glass screen lens front screen protector for gopro hero 11 black i122073984 html \" , \" querystring \" : \" fs_ab 1 priceCompare skuId 3A1033187475 3Bsource 3Alazada search voucher 3Bsn 3Afeb7c324dba78761f11a6be643f46dc6 3BoriginPrice 3A43500 3BdisplayPrice 3A43500 3BsinglePromotionId 3A50000018794008 3BsingleToolCode 3ApromPrice 3BvoucherPricePlugin 3A0',\n",
       "  '3Btimestamp 3A1758872502749 c ratingscore 4 75 freeshipping 0 source search channelLpJumpArgs fuse_fs search 1 sale 117 price 435 review 32 location Bagmati 20Province stock 1 lang en request_id feb7c324dba78761f11a6be643f46dc6 clickTrackInfo query 253Acamera 253Bnid 253A122073984 253Bsrc 253ALazadaMainSrp 253Brn 253Afeb7c324dba78761f11a6be643f46dc6 253Bregion 253Anp 253Bsku 253A122073984_NP 253Bprice 253A435 253Bclient 253Adesktop 253Bsupplier_id 253A900151185319 253Bbiz_source 253Ah5_unknow 253Bslot 253A17 253Butlog_bucket_id 253A470687 253Basc_category_id 253A8204 253Bitem_id 253A122073984 253Bsku_id 253A1033187475 253Bshop_id 253A23709 253BtemplateInfo 253A 1_A3_C 25231103_L 2523 \" }'],\n",
       " ['{ \" name \" : \" Iphone XR Flexible Camera Lens Protector Tempered Glass Film 3pics \" , \" nid \" : \" 239250947 \" , \" itemId \" : \" 239250947 \" , \" icons \" : [ { \" domClass \" : \" 150564 \" , \" type \" : \" img \" , \" group \" : \" 6 \" , \" showType \" : \" 0 \" } , { \" domClass \" : \" 175175 \" , \" type \" : \" img \" , \" group \" : \" 3 \" , \" showType \" : \" 0 \" } ] , \" image \" : \" https : static 01 daraz com np p 31d215daa8884aeef98ee4791b8f2bbe jpg \" , \" isSmartImage \"',\n",
       "  ': false , \" utLogMap \" : { \" srp_name \" : \" LazadaMainSrp \" , \" x_object_type \" : \" item \" , \" src \" : \" organic \" , \" trafficType \" : \" organic \" , \" x_sku_ids \" : \" 1252924823 \" , \" x_item_ids \" : \" 239250947 \" , \" iconList \" : \" 150564 175175 \" , \" SN \" : \" feb7c324dba78761f11a6be643f46dc6 \" , \" current_price \" : \" 98 \" , \" x_object_id \" : \" 239250947 \" } , \" originalPriceShow \" : \" \" , \" priceShow \" : \" Rs 98 \" , \" ratingScore \" : \" 5 0 \" , \" review \" : \" 2 \" , \" location \" : \"',\n",
       "  'Bagmati Province \" , \" description \" : [ ] , \" thumbs \" : [ ] , \" sellerName \" : \" shine movie and mobile \" , \" sellerId \" : \" 900152370346 \" , \" brandName \" : \" No Brand \" , \" brandId \" : \" 39704 \" , \" cheapest_sku \" : \" 239250947_NP 1252924823 \" , \" skuId \" : \" 1252924823 \" , \" sku \" : \" 239250947_NP \" , \" categories \" : [ 240 , 256 , 8204 ] , \" price \" : \" 98 \" , \" inStock \" : true , \" originalPrice \" : \" 200 \" , \" clickTrace \" : \" query : camera nid : 239250947 src : LazadaMainSrp rn',\n",
       "  ': feb7c324dba78761f11a6be643f46dc6 region : np sku : 239250947_NP price : 98 client : desktop supplier_id : 900152370346 biz_source : h5_unknow slot : 18 utlog_bucket_id : 470687 asc_category_id : 8204 item_id : 239250947 sku_id : 1252924823 shop_id : 46116 templateInfo : 1_A3_C 1103_L \" , \" itemSoldCntShow \" : \" 12 sold \" , \" longImageDisplayable \" : false , \" skus \" : [ { \" id \" : \" 239250947_NP 1252924823 \" } ] , \" promotionId \" : \" \" , \" isSponsored \" : false , \" tItemType \" : \" nt_product \" , \" skuType \" : \" \" , \" adFlag \" : \" 0 \" , \" directSimilarUrl \" : \" https : native m lazada com dynamicxresult item_img https 3A 2F',\n",
       "  '2Fstatic 01 daraz com np 2Fp 2F31d215daa8884aeef98ee4791b8f2bbe jpg src srp_findsimilar item_id 239250947 sku_id 1252924823 params 7B 22sub_src 22 3A 22long_press 22 2C 22src 22 3A 22srp_findsimilar 22 7D m tpp_findSimilar q camera similarType findSimilarV1 price 98 00 spuTriggerItem 0 \" , \" gridTitleLine \" : \" 2 \" , \" isFission \" : \" 0 \" , \" isBadgeAutoScroll \" : false , \" showCart \" : false , \" showBackIcon \" : false , \" showUnitPrice \" : false , \" itemUrl \" : \" www daraz com np products iphone xr flexible camera lens protector tempered glass film3pics i239250947 html \" , \" querystring \" : \" fs_ab 1 priceCompare skuId 3A1252924823 3Bsource 3Alazada search voucher 3Bsn 3Afeb7c324dba78761f11a6be643f46dc6 3BoriginPrice 3A9800 3BdisplayPrice 3A9800 3BsinglePromotionId 3A50000018794008 3BsingleToolCode 3ApromPrice',\n",
       "  '3BvoucherPricePlugin 3A0 3Btimestamp 3A1758872502749 c ratingscore 5 0 freeshipping 0 source search channelLpJumpArgs fuse_fs search 1 sale 12 price 98 review 2 location Bagmati 20Province stock 1 lang en request_id feb7c324dba78761f11a6be643f46dc6 clickTrackInfo query 253Acamera 253Bnid 253A239250947 253Bsrc 253ALazadaMainSrp 253Brn 253Afeb7c324dba78761f11a6be643f46dc6 253Bregion 253Anp 253Bsku 253A239250947_NP 253Bprice 253A98 253Bclient 253Adesktop 253Bsupplier_id 253A900152370346 253Bbiz_source 253Ah5_unknow 253Bslot 253A18 253Butlog_bucket_id 253A470687 253Basc_category_id 253A8204 253Bitem_id 253A239250947 253Bsku_id 253A1252924823 253Bshop_id 253A46116 253BtemplateInfo 253A 1_A3_C 25231103_L 2523 \" }'],\n",
       " ['{ \" name \" : \" Honor 400 Pro 5G Camera Lens Protector \" , \" nid \" : \" 476385321 \" , \" itemId \" : \" 476385321 \" , \" icons \" : [ { \" domClass \" : \" 150565 \" , \" type \" : \" img \" , \" group \" : \" 6 \" , \" showType \" : \" 0 \" } , { \" domClass \" : \" 162933 \" , \" type \" : \" img \" , \" group \" : \" 2 \" , \" showType \" : \" 0 \" } ] , \" image \" : \" https : static 01 daraz com np p c2a387ea8abb0958179a85bdda075b07 jpg \" , \" isSmartImage \" : false ,',\n",
       "  '\" utLogMap \" : { \" srp_name \" : \" LazadaMainSrp \" , \" x_object_type \" : \" item \" , \" src \" : \" organic \" , \" trafficType \" : \" organic \" , \" x_sku_ids \" : \" 2115623431 \" , \" x_item_ids \" : \" 476385321 \" , \" iconList \" : \" 150565 162933 \" , \" SN \" : \" feb7c324dba78761f11a6be643f46dc6 \" , \" current_price \" : \" 299 \" , \" x_object_id \" : \" 476385321 \" } , \" originalPriceShow \" : \" \" , \" priceShow \" : \" Rs 299 \" , \" ratingScore \" : \" 5 0 \" , \" review \" : \" 1 \" , \" location \" : \" Bagmati Province \"',\n",
       "  ', \" description \" : [ ] , \" thumbs \" : [ ] , \" sellerName \" : \" Tech NexT \" , \" sellerId \" : \" 900163664044 \" , \" brandName \" : \" No Brand \" , \" brandId \" : \" 39704 \" , \" cheapest_sku \" : \" 476385321_NP 2115623431 \" , \" skuId \" : \" 2115623431 \" , \" sku \" : \" 476385321_NP \" , \" categories \" : [ 240 , 256 , 8204 ] , \" price \" : \" 299 \" , \" inStock \" : true , \" originalPrice \" : \" 830 \" , \" clickTrace \" : \" query : camera nid : 476385321 src : LazadaMainSrp rn : feb7c324dba78761f11a6be643f46dc6 region : np',\n",
       "  'sku : 476385321_NP price : 299 client : desktop supplier_id : 900163664044 biz_source : h5_unknow slot : 19 utlog_bucket_id : 470687 asc_category_id : 8204 item_id : 476385321 sku_id : 2115623431 shop_id : 105340 templateInfo : 1_A3_C 1103_L \" , \" longImageDisplayable \" : false , \" skus \" : [ { \" id \" : \" 476385321_NP 2115623431 \" } ] , \" promotionId \" : \" \" , \" isSponsored \" : false , \" tItemType \" : \" nt_product \" , \" skuType \" : \" \" , \" adFlag \" : \" 0 \" , \" directSimilarUrl \" : \" https : native m lazada com dynamicxresult item_img https 3A 2F 2Fstatic 01 daraz com np 2Fp 2Fc2a387ea8abb0958179a85bdda075b07 jpg src srp_findsimilar item_id 476385321 sku_id 2115623431',\n",
       "  'params 7B 22sub_src 22 3A 22long_press 22 2C 22src 22 3A 22srp_findsimilar 22 7D m tpp_findSimilar q camera similarType findSimilarV1 price 299 00 spuTriggerItem 0 \" , \" gridTitleLine \" : \" 2 \" , \" isFission \" : \" 0 \" , \" isBadgeAutoScroll \" : false , \" showCart \" : false , \" showBackIcon \" : false , \" showUnitPrice \" : false , \" itemUrl \" : \" www daraz com np products honor 400 pro 5g camera lens protector i476385321 html \" , \" querystring \" : \" fs_ab 1 priceCompare skuId 3A2115623431 3Bsource 3Alazada search voucher 3Bsn 3Afeb7c324dba78761f11a6be643f46dc6 3BoriginPrice 3A29900 3BdisplayPrice 3A29900 3BsinglePromotionId 3A 1 3BsingleToolCode 3AmockedSalePrice 3BvoucherPricePlugin 3A0 3Btimestamp 3A1758872502749 c ratingscore 5 0 freeshipping 0 source search channelLpJumpArgs fuse_fs search',\n",
       "  '1 sale 3 price 299 review 1 location Bagmati 20Province stock 1 lang en request_id feb7c324dba78761f11a6be643f46dc6 clickTrackInfo query 253Acamera 253Bnid 253A476385321 253Bsrc 253ALazadaMainSrp 253Brn 253Afeb7c324dba78761f11a6be643f46dc6 253Bregion 253Anp 253Bsku 253A476385321_NP 253Bprice 253A299 253Bclient 253Adesktop 253Bsupplier_id 253A900163664044 253Bbiz_source 253Ah5_unknow 253Bslot 253A19 253Butlog_bucket_id 253A470687 253Basc_category_id 253A8204 253Bitem_id 253A476385321 253Bsku_id 253A2115623431 253Bshop_id 253A105340 253BtemplateInfo 253A 1_A3_C 25231103_L 2523 \" }'],\n",
       " ['{ \" name \" : \" Full Coverage Back Camera Lens Protector For iPhone 13 By Panchakumari Mobile Hub \" , \" nid \" : \" 130149722 \" , \" itemId \" : \" 130149722 \" , \" icons \" : [ { \" domClass \" : \" 150565 \" , \" type \" : \" img \" , \" group \" : \" 6 \" , \" showType \" : \" 0 \" } , { \" domClass \" : \" 150318 \" , \" text \" : \" Gems save Rs 3 \" , \" type \" : \" text \" , \" group \" : \" 2 \" , \" showType \" : \" 0 \" } ] , \" image \" : \" https',\n",
       "  ': static 01 daraz com np p 8f846866601d76ec2e37019e82a0b4fd jpg \" , \" isSmartImage \" : false , \" utLogMap \" : { \" srp_name \" : \" LazadaMainSrp \" , \" x_object_type \" : \" item \" , \" src \" : \" organic \" , \" trafficType \" : \" organic \" , \" x_sku_ids \" : \" 1038059658 \" , \" x_item_ids \" : \" 130149722 \" , \" iconList \" : \" 150565 150318 \" , \" SN \" : \" feb7c324dba78761f11a6be643f46dc6 \" , \" current_price \" : \" 299 \" , \" x_object_id \" : \" 130149722 \" } , \" originalPriceShow \" : \" \" , \" priceShow \" : \" Rs 299 \" , \" ratingScore \" : \" 5 0 \"',\n",
       "  ', \" review \" : \" 1 \" , \" location \" : \" Bagmati Province \" , \" description \" : [ \" Diamond grid matrix craft Ultra thin Lightweight \" , \" Full round coverage \" , \" 0 2mm higher than phone s camera for better protection \" , \" Easy installation \" , \" Cover All surface around Back Camera \" ] , \" thumbs \" : [ ] , \" sellerName \" : \" Panchakumari Mobile Hub \" , \" sellerId \" : \" 9677 \" , \" brandName \" : \" No Brand \" , \" brandId \" : \" 39704 \" , \" cheapest_sku \" : \" 130149722_NP 1038059658 \" , \" skuId \" : \" 1038059658 \" , \" sku',\n",
       "  '\" : \" 130149722_NP \" , \" categories \" : [ 240 , 256 , 8204 ] , \" price \" : \" 299 \" , \" inStock \" : true , \" originalPrice \" : \" 950 \" , \" clickTrace \" : \" query : camera nid : 130149722 src : LazadaMainSrp rn : feb7c324dba78761f11a6be643f46dc6 region : np sku : 130149722_NP price : 299 client : desktop supplier_id : 9677 biz_source : h5_unknow slot : 20 utlog_bucket_id : 470687 asc_category_id : 8204 item_id : 130149722 sku_id : 1038059658 shop_id : 9677 templateInfo : 1_A3_C 1103_L \" , \" longImageDisplayable \" : false , \" skus \" : [ { \" id \" : \" 130149722_NP 1038059658 \" } ] , \" promotionId \" : \" \"',\n",
       "  ', \" isSponsored \" : false , \" tItemType \" : \" nt_product \" , \" skuType \" : \" \" , \" adFlag \" : \" 0 \" , \" directSimilarUrl \" : \" https : native m lazada com dynamicxresult item_img https 3A 2F 2Fstatic 01 daraz com np 2Fp 2F8f846866601d76ec2e37019e82a0b4fd jpg src srp_findsimilar item_id 130149722 sku_id 1038059658 params 7B 22sub_src 22 3A 22long_press 22 2C 22src 22 3A 22srp_findsimilar 22 7D m tpp_findSimilar q camera similarType findSimilarV1 price 299 00 spuTriggerItem 0 \" , \" gridTitleLine \" : \" 2 \" , \" isFission \" : \" 0 \" , \" isBadgeAutoScroll \" : false , \" showCart \" : false , \" showBackIcon \" : false , \" showUnitPrice \" : false , \"',\n",
       "  'itemUrl \" : \" www daraz com np products full coverage back camera lens protector for iphone 13 by panchakumari mobile hub i130149722 html \" , \" querystring \" : \" fs_ab 1 priceCompare skuId 3A1038059658 3Bsource 3Alazada search voucher 3Bsn 3Afeb7c324dba78761f11a6be643f46dc6 3BoriginPrice 3A29900 3BdisplayPrice 3A29900 3BsinglePromotionId 3A 1 3BsingleToolCode 3AmockedSalePrice 3BvoucherPricePlugin 3A0 3Btimestamp 3A1758872502749 c ratingscore 5 0 freeshipping 0 source search channelLpJumpArgs fuse_fs search 1 sale 4 price 299 review 1 location Bagmati 20Province stock 1 lang en request_id feb7c324dba78761f11a6be643f46dc6 clickTrackInfo query 253Acamera 253Bnid 253A130149722 253Bsrc 253ALazadaMainSrp 253Brn 253Afeb7c324dba78761f11a6be643f46dc6 253Bregion 253Anp 253Bsku 253A130149722_NP 253Bprice 253A299 253Bclient 253Adesktop 253Bsupplier_id 253A9677 253Bbiz_source 253Ah5_unknow 253Bslot 253A20 253Butlog_bucket_id 253A470687 253Basc_category_id 253A8204 253Bitem_id 253A130149722 253Bsku_id 253A1038059658 253Bshop_id 253A9677 253BtemplateInfo 253A 1_A3_C 25231103_L 2523 \" }'],\n",
       " ['{ \" name \" : \" Iphone 14 Pro Max Camera Protector Mettalic Ring Glass \" , \" nid \" : \" 149565279 \" , \" itemId \" : \" 149565279 \" , \" icons \" : [ { \" domClass \" : \" 150565 \" , \" type \" : \" img \" , \" group \" : \" 6 \" , \" showType \" : \" 0 \" } , { \" domClass \" : \" 175175 \" , \" type \" : \" img \" , \" group \" : \" 3 \" , \" showType \" : \" 0 \" } ] , \" image \" : \" https : static 01 daraz com np p a4e6700e032386159ad2b8f50cb96819 png \" , \" isSmartImage \" :',\n",
       "  'false , \" utLogMap \" : { \" srp_name \" : \" LazadaMainSrp \" , \" x_object_type \" : \" item \" , \" src \" : \" organic \" , \" trafficType \" : \" organic \" , \" x_sku_ids \" : \" 1104028853 \" , \" x_item_ids \" : \" 149565279 \" , \" iconList \" : \" 150565 175175 \" , \" SN \" : \" feb7c324dba78761f11a6be643f46dc6 \" , \" current_price \" : \" 158 37 \" , \" x_object_id \" : \" 149565279 \" } , \" originalPriceShow \" : \" \" , \" priceShow \" : \" Rs 158 \" , \" ratingScore \" : \" 4 7272727272727275 \" , \" review \" : \" 11 \" , \" location \" : \"',\n",
       "  'Bagmati Province \" , \" description \" : [ ] , \" thumbs \" : [ ] , \" sellerName \" : \" Zap Home \" , \" sellerId \" : \" 900224992449 \" , \" brandName \" : \" No Brand \" , \" brandId \" : \" 39704 \" , \" cheapest_sku \" : \" 149565279_NP 1104028853 \" , \" skuId \" : \" 1104028853 \" , \" sku \" : \" 149565279_NP \" , \" categories \" : [ 240 , 256 , 8204 ] , \" price \" : \" 158 37 \" , \" inStock \" : true , \" originalPrice \" : \" 299 \" , \" clickTrace \" : \" query : camera nid : 149565279 src : LazadaMainSrp rn :',\n",
       "  'feb7c324dba78761f11a6be643f46dc6 region : np sku : 149565279_NP price : 158 37 client : desktop supplier_id : 900224992449 biz_source : h5_unknow slot : 21 utlog_bucket_id : 470687 asc_category_id : 8204 item_id : 149565279 sku_id : 1104028853 shop_id : 140324 templateInfo : 1_A3_C 1103_L \" , \" itemSoldCntShow \" : \" 51 sold \" , \" longImageDisplayable \" : false , \" skus \" : [ { \" id \" : \" 149565279_NP 1104028853 \" } ] , \" promotionId \" : \" \" , \" isSponsored \" : false , \" tItemType \" : \" nt_product \" , \" skuType \" : \" \" , \" adFlag \" : \" 0 \" , \" directSimilarUrl \" : \" https : native m lazada com dynamicxresult item_img https 3A 2F',\n",
       "  '2Fstatic 01 daraz com np 2Fp 2Fa4e6700e032386159ad2b8f50cb96819 png src srp_findsimilar item_id 149565279 sku_id 1104028853 params 7B 22sub_src 22 3A 22long_press 22 2C 22src 22 3A 22srp_findsimilar 22 7D m tpp_findSimilar q camera similarType findSimilarV1 price 158 37 spuTriggerItem 0 \" , \" gridTitleLine \" : \" 2 \" , \" isFission \" : \" 0 \" , \" isBadgeAutoScroll \" : false , \" showCart \" : false , \" showBackIcon \" : false , \" showUnitPrice \" : false , \" itemUrl \" : \" www daraz com np products iphone 14 pro max camera protector mettalic ring glass i149565279 html \" , \" querystring \" : \" fs_ab 1 priceCompare skuId 3A1104028853 3Bsource 3Alazada search voucher 3Bsn 3Afeb7c324dba78761f11a6be643f46dc6 3BoriginPrice 3A15800 3BdisplayPrice 3A15800 3BsinglePromotionId 3A50000018794008 3BsingleToolCode 3ApromPrice',\n",
       "  '3BvoucherPricePlugin 3A0 3Btimestamp 3A1758872502749 c ratingscore 4 7272727272727275 freeshipping 0 source search channelLpJumpArgs fuse_fs search 1 sale 51 price 158 37 review 11 location Bagmati 20Province stock 1 lang en request_id feb7c324dba78761f11a6be643f46dc6 clickTrackInfo query 253Acamera 253Bnid 253A149565279 253Bsrc 253ALazadaMainSrp 253Brn 253Afeb7c324dba78761f11a6be643f46dc6 253Bregion 253Anp 253Bsku 253A149565279_NP 253Bprice 253A158 37 253Bclient 253Adesktop 253Bsupplier_id 253A900224992449 253Bbiz_source 253Ah5_unknow 253Bslot 253A21 253Butlog_bucket_id 253A470687 253Basc_category_id 253A8204 253Bitem_id 253A149565279 253Bsku_id 253A1104028853 253Bshop_id 253A140324 253BtemplateInfo 253A 1_A3_C 25231103_L 2523 \" }'],\n",
       " ['{ \" name \" : \" Lens Ring for OnePlus Nord CE 4 Lite 5G Tempered Protector Glass Back Camera Cover Protection Aluminum Alloy Lens Ring Cover Black 1 \" , \" nid \" : \" 179337091 \" , \" itemId \" : \" 179337091 \" , \" icons \" : [ { \" domClass \" : \" 150564 \" , \" type \" : \" img \" , \" group \" : \" 6 \" , \" showType \" : \" 0 \" } , { \" domClass \" : \" 175175 \" , \" type \" : \" img \" , \" group \" : \" 3 \" , \" showType \" : \" 0 \" } ] , \" image \" : \" https :',\n",
       "  'static 01 daraz com np p 1b925d6195aa47ff04511025112f3533 jpg \" , \" isSmartImage \" : false , \" utLogMap \" : { \" srp_name \" : \" LazadaMainSrp \" , \" x_object_type \" : \" item \" , \" src \" : \" organic \" , \" trafficType \" : \" organic \" , \" x_sku_ids \" : \" 1208103214 \" , \" x_item_ids \" : \" 179337091 \" , \" iconList \" : \" 150564 175175 \" , \" SN \" : \" feb7c324dba78761f11a6be643f46dc6 \" , \" current_price \" : \" 356 \" , \" x_object_id \" : \" 179337091 \" } , \" originalPriceShow \" : \" \" , \" priceShow \" : \" Rs 356 \" , \" ratingScore \" : \" 5 0 \" ,',\n",
       "  '\" review \" : \" 6 \" , \" location \" : \" Bagmati Province \" , \" description \" : [ ] , \" thumbs \" : [ ] , \" sellerName \" : \" Sathi ko Pasal \" , \" sellerId \" : \" 900153150036 \" , \" brandName \" : \" No Brand \" , \" brandId \" : \" 39704 \" , \" cheapest_sku \" : \" 179337091_NP 1208103214 \" , \" skuId \" : \" 1208103214 \" , \" sku \" : \" 179337091_NP \" , \" categories \" : [ 240 , 256 , 8204 ] , \" price \" : \" 356 \" , \" inStock \" : true , \" originalPrice \" : \" 475 \" , \" clickTrace \"',\n",
       "  ': \" query : camera nid : 179337091 src : LazadaMainSrp rn : feb7c324dba78761f11a6be643f46dc6 region : np sku : 179337091_NP price : 356 client : desktop supplier_id : 900153150036 biz_source : h5_unknow slot : 22 utlog_bucket_id : 470687 asc_category_id : 8204 item_id : 179337091 sku_id : 1208103214 shop_id : 58627 templateInfo : 1_A3_C 1103_L \" , \" itemSoldCntShow \" : \" 19 sold \" , \" longImageDisplayable \" : false , \" skus \" : [ { \" id \" : \" 179337091_NP 1208103214 \" } ] , \" promotionId \" : \" \" , \" isSponsored \" : false , \" tItemType \" : \" nt_product \" , \" skuType \" : \" \" , \" adFlag \" : \" 0 \" , \" directSimilarUrl \" :',\n",
       "  '\" https : native m lazada com dynamicxresult item_img https 3A 2F 2Fstatic 01 daraz com np 2Fp 2F1b925d6195aa47ff04511025112f3533 jpg src srp_findsimilar item_id 179337091 sku_id 1208103214 params 7B 22sub_src 22 3A 22long_press 22 2C 22src 22 3A 22srp_findsimilar 22 7D m tpp_findSimilar q camera similarType findSimilarV1 price 356 00 spuTriggerItem 0 \" , \" gridTitleLine \" : \" 2 \" , \" isFission \" : \" 0 \" , \" isBadgeAutoScroll \" : false , \" showCart \" : false , \" showBackIcon \" : false , \" showUnitPrice \" : false , \" itemUrl \" : \" www daraz com np products lens ring for oneplus nord ce 4 lite 5g tempered protector glass back camera cover protection aluminum alloy lens ring cover black 1 i179337091 html',\n",
       "  '\" , \" querystring \" : \" fs_ab 1 priceCompare skuId 3A1208103214 3Bsource 3Alazada search voucher 3Bsn 3Afeb7c324dba78761f11a6be643f46dc6 3BoriginPrice 3A35600 3BdisplayPrice 3A35600 3BsinglePromotionId 3A50000018794008 3BsingleToolCode 3ApromPrice 3BvoucherPricePlugin 3A0 3Btimestamp 3A1758872502749 c ratingscore 5 0 freeshipping 0 source search channelLpJumpArgs fuse_fs search 1 sale 19 price 356 review 6 location Bagmati 20Province stock 1 lang en request_id feb7c324dba78761f11a6be643f46dc6 clickTrackInfo query 253Acamera 253Bnid 253A179337091 253Bsrc 253ALazadaMainSrp 253Brn 253Afeb7c324dba78761f11a6be643f46dc6 253Bregion 253Anp 253Bsku 253A179337091_NP 253Bprice 253A356 253Bclient 253Adesktop 253Bsupplier_id 253A900153150036 253Bbiz_source 253Ah5_unknow 253Bslot 253A22 253Butlog_bucket_id 253A470687 253Basc_category_id 253A8204 253Bitem_id 253A179337091 253Bsku_id 253A1208103214 253Bshop_id 253A58627 253BtemplateInfo 253A 1_A3_C 25231103_L 2523 \" }'],\n",
       " ['{ \" name \" : \" Metal Ring Camera Lens Protector For iPhone 12 By Panchakumari Mobile Hub \" , \" nid \" : \" 131709587 \" , \" itemId \" : \" 131709587 \" , \" icons \" : [ { \" domClass \" : \" 150565 \" , \" type \" : \" img \" , \" group \" : \" 6 \" , \" showType \" : \" 0 \" } , { \" domClass \" : \" 150318 \" , \" text \" : \" Gems save Rs 2 \" , \" type \" : \" text \" , \" group \" : \" 2 \" , \" showType \" : \" 0 \" } , { \" domClass \" : \" 175175 \"',\n",
       "  ', \" type \" : \" img \" , \" group \" : \" 3 \" , \" showType \" : \" 0 \" } ] , \" image \" : \" https : static 01 daraz com np p 8fb02660228dc0c76d558f5023eab4d0 jpg \" , \" isSmartImage \" : false , \" utLogMap \" : { \" srp_name \" : \" LazadaMainSrp \" , \" x_object_type \" : \" item \" , \" src \" : \" organic \" , \" trafficType \" : \" organic \" , \" x_sku_ids \" : \" 1038900965 \" , \" x_item_ids \" : \" 131709587 \" , \" iconList \" : \" 150565 150318 175175 \" , \" SN \" : \" feb7c324dba78761f11a6be643f46dc6 \" , \" current_price \" : \" 161 \"',\n",
       "  ', \" x_object_id \" : \" 131709587 \" } , \" originalPriceShow \" : \" \" , \" priceShow \" : \" Rs 161 \" , \" ratingScore \" : \" 5 0 \" , \" review \" : \" 1 \" , \" location \" : \" Bagmati Province \" , \" description \" : [ \" Aluminum alloy protection sticker , \" , \" Easy fit , Effective dispersion of impact power when surface is strongly impacted 2 9d arc surface full protection lens , \" , \" Avoid force concentration after grinding Hydrophobic oil treatment , Not easily contaminated with fingerprints \" , \" Nami adsorption , Simple and easy fit , Super adsorption Alignment and deposition can automatically adsorb and exhaust the air \"',\n",
       "  '] , \" thumbs \" : [ ] , \" sellerName \" : \" Panchakumari Mobile Hub \" , \" sellerId \" : \" 9677 \" , \" brandName \" : \" No Brand \" , \" brandId \" : \" 39704 \" , \" cheapest_sku \" : \" 131709587_NP 1038900965 \" , \" skuId \" : \" 1038900965 \" , \" sku \" : \" 131709587_NP \" , \" categories \" : [ 240 , 256 , 8204 ] , \" price \" : \" 161 \" , \" inStock \" : true , \" originalPrice \" : \" 550 \" , \" clickTrace \" : \" query : camera nid : 131709587 src : LazadaMainSrp rn : feb7c324dba78761f11a6be643f46dc6 region : np sku : 131709587_NP price :',\n",
       "  '161 client : desktop supplier_id : 9677 biz_source : h5_unknow slot : 23 utlog_bucket_id : 470687 asc_category_id : 8204 item_id : 131709587 sku_id : 1038900965 shop_id : 9677 templateInfo : 1_A3_C 1103_L \" , \" itemSoldCntShow \" : \" 5 sold \" , \" longImageDisplayable \" : false , \" skus \" : [ { \" id \" : \" 131709587_NP 1038900965 \" } ] , \" promotionId \" : \" \" , \" isSponsored \" : false , \" tItemType \" : \" nt_product \" , \" skuType \" : \" \" , \" adFlag \" : \" 0 \" , \" directSimilarUrl \" : \" https : native m lazada com dynamicxresult item_img https 3A 2F 2Fstatic 01 daraz com np 2Fp 2F8fb02660228dc0c76d558f5023eab4d0 jpg src srp_findsimilar',\n",
       "  'item_id 131709587 sku_id 1038900965 params 7B 22sub_src 22 3A 22long_press 22 2C 22src 22 3A 22srp_findsimilar 22 7D m tpp_findSimilar q camera similarType findSimilarV1 price 161 00 spuTriggerItem 0 \" , \" gridTitleLine \" : \" 2 \" , \" isFission \" : \" 0 \" , \" isBadgeAutoScroll \" : false , \" showCart \" : false , \" showBackIcon \" : false , \" showUnitPrice \" : false , \" itemUrl \" : \" www daraz com np products metal ring camera lens protector for iphone 12 by panchakumari mobile hub i131709587 html \" , \" querystring \" : \" fs_ab 1 priceCompare skuId 3A1038900965 3Bsource 3Alazada search voucher 3Bsn 3Afeb7c324dba78761f11a6be643f46dc6 3BoriginPrice 3A16100 3BdisplayPrice 3A16100 3BsinglePromotionId 3A50000018794008 3BsingleToolCode 3ApromPrice 3BvoucherPricePlugin 3A0 3Btimestamp 3A1758872502749 c ratingscore 5',\n",
       "  '0 freeshipping 0 source search channelLpJumpArgs fuse_fs search 1 sale 5 price 161 review 1 location Bagmati 20Province stock 1 lang en request_id feb7c324dba78761f11a6be643f46dc6 clickTrackInfo query 253Acamera 253Bnid 253A131709587 253Bsrc 253ALazadaMainSrp 253Brn 253Afeb7c324dba78761f11a6be643f46dc6 253Bregion 253Anp 253Bsku 253A131709587_NP 253Bprice 253A161 253Bclient 253Adesktop 253Bsupplier_id 253A9677 253Bbiz_source 253Ah5_unknow 253Bslot 253A23 253Butlog_bucket_id 253A470687 253Basc_category_id 253A8204 253Bitem_id 253A131709587 253Bsku_id 253A1038900965 253Bshop_id 253A9677 253BtemplateInfo 253A 1_A3_C 25231103_L 2523 \" }'],\n",
       " ['{ \" name \" : \" Iphone 11 Pro Max Camera Protector Mettalic Ring Glass \" , \" nid \" : \" 149565277 \" , \" itemId \" : \" 149565277 \" , \" icons \" : [ { \" domClass \" : \" 150565 \" , \" type \" : \" img \" , \" group \" : \" 6 \" , \" showType \" : \" 0 \" } , { \" domClass \" : \" 175175 \" , \" type \" : \" img \" , \" group \" : \" 3 \" , \" showType \" : \" 0 \" } ] , \" image \" : \" https : static 01 daraz com np p 8226b49c8797d0a5a2118c4fb6a09039 jpg \" , \" isSmartImage \" :',\n",
       "  'false , \" utLogMap \" : { \" srp_name \" : \" LazadaMainSrp \" , \" x_object_type \" : \" item \" , \" src \" : \" organic \" , \" trafficType \" : \" organic \" , \" x_sku_ids \" : \" 1104088465 \" , \" x_item_ids \" : \" 149565277 \" , \" iconList \" : \" 150565 175175 \" , \" SN \" : \" feb7c324dba78761f11a6be643f46dc6 \" , \" current_price \" : \" 158 37 \" , \" x_object_id \" : \" 149565277 \" } , \" originalPriceShow \" : \" \" , \" priceShow \" : \" Rs 158 \" , \" ratingScore \" : \" 4 333333333333333 \" , \" review \" : \" 3 \" , \" location \" : \"',\n",
       "  'Bagmati Province \" , \" description \" : [ ] , \" thumbs \" : [ ] , \" sellerName \" : \" Zap Home \" , \" sellerId \" : \" 900224992449 \" , \" brandName \" : \" No Brand \" , \" brandId \" : \" 39704 \" , \" cheapest_sku \" : \" 149565277_NP 1104088465 \" , \" skuId \" : \" 1104088465 \" , \" sku \" : \" 149565277_NP \" , \" categories \" : [ 240 , 256 , 8204 ] , \" price \" : \" 158 37 \" , \" inStock \" : true , \" originalPrice \" : \" 299 \" , \" clickTrace \" : \" query : camera nid : 149565277 src : LazadaMainSrp rn :',\n",
       "  'feb7c324dba78761f11a6be643f46dc6 region : np sku : 149565277_NP price : 158 37 client : desktop supplier_id : 900224992449 biz_source : h5_unknow slot : 24 utlog_bucket_id : 470687 asc_category_id : 8204 item_id : 149565277 sku_id : 1104088465 shop_id : 140324 templateInfo : 1_A3_C 1103_L \" , \" itemSoldCntShow \" : \" 5 sold \" , \" longImageDisplayable \" : false , \" skus \" : [ { \" id \" : \" 149565277_NP 1104088465 \" } ] , \" promotionId \" : \" \" , \" isSponsored \" : false , \" tItemType \" : \" nt_product \" , \" skuType \" : \" \" , \" adFlag \" : \" 0 \" , \" directSimilarUrl \" : \" https : native m lazada com dynamicxresult item_img https 3A 2F',\n",
       "  '2Fstatic 01 daraz com np 2Fp 2F8226b49c8797d0a5a2118c4fb6a09039 jpg src srp_findsimilar item_id 149565277 sku_id 1104088465 params 7B 22sub_src 22 3A 22long_press 22 2C 22src 22 3A 22srp_findsimilar 22 7D m tpp_findSimilar q camera similarType findSimilarV1 price 158 37 spuTriggerItem 0 \" , \" gridTitleLine \" : \" 2 \" , \" isFission \" : \" 0 \" , \" isBadgeAutoScroll \" : false , \" showCart \" : false , \" showBackIcon \" : false , \" showUnitPrice \" : false , \" itemUrl \" : \" www daraz com np products iphone 11 pro max camera protector mettalic ring glass i149565277 html \" , \" querystring \" : \" fs_ab 1 priceCompare skuId 3A1104088465 3Bsource 3Alazada search voucher 3Bsn 3Afeb7c324dba78761f11a6be643f46dc6 3BoriginPrice 3A15800 3BdisplayPrice 3A15800 3BsinglePromotionId 3A50000018794008 3BsingleToolCode 3ApromPrice',\n",
       "  '3BvoucherPricePlugin 3A0 3Btimestamp 3A1758872502749 c ratingscore 4 333333333333333 freeshipping 0 source search channelLpJumpArgs fuse_fs search 1 sale 5 price 158 37 review 3 location Bagmati 20Province stock 1 lang en request_id feb7c324dba78761f11a6be643f46dc6 clickTrackInfo query 253Acamera 253Bnid 253A149565277 253Bsrc 253ALazadaMainSrp 253Brn 253Afeb7c324dba78761f11a6be643f46dc6 253Bregion 253Anp 253Bsku 253A149565277_NP 253Bprice 253A158 37 253Bclient 253Adesktop 253Bsupplier_id 253A900224992449 253Bbiz_source 253Ah5_unknow 253Bslot 253A24 253Butlog_bucket_id 253A470687 253Basc_category_id 253A8204 253Bitem_id 253A149565277 253Bsku_id 253A1104088465 253Bshop_id 253A140324 253BtemplateInfo 253A 1_A3_C 25231103_L 2523 \" }'],\n",
       " ['{ \" name \" : \" Full Coverage Screen Protector for Any DSLR , MirrorlessCamera , Go Pro , and 2 Pcs Set , Any Camera Models Request and Get Order \" , \" nid \" : \" 126175959 \" , \" itemId \" : \" 126175959 \" , \" icons \" : [ { \" domClass \" : \" 150565 \" , \" type \" : \" img \" , \" group \" : \" 6 \" , \" showType \" : \" 0 \" } , { \" domClass \" : \" 150318 \" , \" text \" : \" Gems save Rs 8 \" , \" type \" : \" text \" , \" group \" : \" 2 \" , \" showType \" :',\n",
       "  '\" 0 \" } , { \" domClass \" : \" 175175 \" , \" type \" : \" img \" , \" group \" : \" 3 \" , \" showType \" : \" 0 \" } ] , \" image \" : \" https : static 01 daraz com np p b75446b563e29b31002bceddf0d4a4e3 jpg \" , \" isSmartImage \" : false , \" utLogMap \" : { \" srp_name \" : \" LazadaMainSrp \" , \" x_object_type \" : \" item \" , \" src \" : \" organic \" , \" trafficType \" : \" organic \" , \" x_sku_ids \" : \" 1034188183 \" , \" x_item_ids \" : \" 126175959 \" , \" iconList \" : \" 150565 150318 175175 \" , \" SN',\n",
       "  '\" : \" feb7c324dba78761f11a6be643f46dc6 \" , \" current_price \" : \" 261 \" , \" x_object_id \" : \" 126175959 \" } , \" originalPriceShow \" : \" \" , \" priceShow \" : \" Rs 261 \" , \" ratingScore \" : \" 4 533333333333333 \" , \" review \" : \" 15 \" , \" location \" : \" Bagmati Province \" , \" description \" : [ \" u3010High Tech Nano Flexible Material u3011 : This 9H glass screen protector is made of nano coating technology , it has an invisible coating film on your camera screen , improving the smooth surface of your Camera Made from flexible nano coated glass 9H hardness that s been reinforced for superior shock absorbency Resists drop , cracks',\n",
       "  ', and scratches , making your Camera look as flawless and level 5 scratch free as the day you bought it Better than cheap amp thick temper glasses Plus , the ballistic glass protective cases are shatterproof and won t break into smaller pieces in the event of extreme impact or power \" , \" u3010Ultra Clear u3011 : 99 9 Transparency The glass protects against sweat and oil residue from fingerprints , keeping your Camera screen spotless over long term use \" , \" u301010X Sronger u3011 : 10times of tempered time , this screen protector can withstand the impact of a falling 22lbs steel ball from the height of 3ft 9H Hardness Screen Protector keeps your screen safe from any keys , coins , and even',\n",
       "  'knives in your pocket \" , \" u3010Easy Installation u3011 : Made from the 0 40 mm quality 9H Glass with 100 Bubble Free Adhesives for easy installation and no residue when removed \" , \" u3010The kit Includes u3011 : 2 Pcs Screen Protector Alcohol Cleansing Wipes 1x Instruction Paper 1x Dust Absorber Sticker \" ] , \" thumbs \" : [ ] , \" sellerName \" : \" Sasto Sales \" , \" sellerId \" : \" 1011154 \" , \" brandName \" : \" No Brand \" , \" brandId \" : \" 39704 \" , \" cheapest_sku \" : \" 126175959_NP 1034188183 \" , \" skuId \" : \" 1034188183 \" , \" sku \" : \" 126175959_NP \" , \" categories \" :',\n",
       "  '[ 240 , 256 , 8204 ] , \" price \" : \" 261 \" , \" inStock \" : true , \" originalPrice \" : \" 600 \" , \" clickTrace \" : \" query : camera nid : 126175959 src : LazadaMainSrp rn : feb7c324dba78761f11a6be643f46dc6 region : np sku : 126175959_NP price : 261 client : desktop supplier_id : 1011154 biz_source : h5_unknow slot : 25 utlog_bucket_id : 470687 asc_category_id : 8204 item_id : 126175959 sku_id : 1034188183 shop_id : 20846 templateInfo : 1_A3_C 1103_L \" , \" itemSoldCntShow \" : \" 44 sold \" , \" longImageDisplayable \" : false , \" skus \" : [ { \" id \" : \" 126175959_NP 1034188183 \" } ] , \" promotionId \" : \" \" ,',\n",
       "  '\" isSponsored \" : false , \" tItemType \" : \" nt_product \" , \" skuType \" : \" \" , \" adFlag \" : \" 0 \" , \" directSimilarUrl \" : \" https : native m lazada com dynamicxresult item_img https 3A 2F 2Fstatic 01 daraz com np 2Fp 2Fb75446b563e29b31002bceddf0d4a4e3 jpg src srp_findsimilar item_id 126175959 sku_id 1034188183 params 7B 22sub_src 22 3A 22long_press 22 2C 22src 22 3A 22srp_findsimilar 22 7D m tpp_findSimilar q camera similarType findSimilarV1 price 261 00 spuTriggerItem 0 \" , \" gridTitleLine \" : \" 2 \" , \" isFission \" : \" 0 \" , \" isBadgeAutoScroll \" : false , \" showCart \" : false , \" showBackIcon \" : false , \" showUnitPrice \" : false , \" itemUrl',\n",
       "  '\" : \" www daraz com np products full coverage screen protector for any dslr mirrorlesscamera go pro and 2 pcs set any camera models request and get order i126175959 html \" , \" querystring \" : \" fs_ab 1 priceCompare skuId 3A1034188183 3Bsource 3Alazada search voucher 3Bsn 3Afeb7c324dba78761f11a6be643f46dc6 3BoriginPrice 3A26100 3BdisplayPrice 3A26100 3BsinglePromotionId 3A50000018794008 3BsingleToolCode 3ApromPrice 3BvoucherPricePlugin 3A0 3Btimestamp 3A1758872502749 c ratingscore 4 533333333333333 freeshipping 0 source search channelLpJumpArgs fuse_fs search 1 sale 44 price 261 review 15 location Bagmati 20Province stock 1 lang en request_id feb7c324dba78761f11a6be643f46dc6 clickTrackInfo query 253Acamera 253Bnid 253A126175959 253Bsrc 253ALazadaMainSrp 253Brn 253Afeb7c324dba78761f11a6be643f46dc6 253Bregion 253Anp 253Bsku 253A126175959_NP 253Bprice 253A261 253Bclient 253Adesktop 253Bsupplier_id 253A1011154 253Bbiz_source 253Ah5_unknow 253Bslot 253A25 253Butlog_bucket_id 253A470687 253Basc_category_id 253A8204 253Bitem_id 253A126175959 253Bsku_id 253A1034188183 253Bshop_id 253A20846 253BtemplateInfo 253A 1_A3_C 25231103_L 2523 \" }',\n",
       "  ''],\n",
       " ['{ \" name \" : \" Telesin Tempered Glass For Dji Action 5 Pro Camera Screen scratch Protector Glass 3 Pcs Set \" , \" nid \" : \" 171223059 \" , \" itemId \" : \" 171223059 \" , \" icons \" : [ { \" domClass \" : \" 150565 \" , \" type \" : \" img \" , \" group \" : \" 6 \" , \" showType \" : \" 0 \" } ] , \" image \" : \" https : static 01 daraz com np p d15e938e8731af369583a7fc3a90cd64 jpg \" , \" isSmartImage \" : false , \" utLogMap \" : { \" srp_name \" : \" LazadaMainSrp \" , \" x_object_type \" : \" item \" , \" src \" :',\n",
       "  '\" organic \" , \" trafficType \" : \" organic \" , \" x_sku_ids \" : \" 1190480977 \" , \" x_item_ids \" : \" 171223059 \" , \" iconList \" : \" 150565 \" , \" SN \" : \" feb7c324dba78761f11a6be643f46dc6 \" , \" current_price \" : \" 799 \" , \" x_object_id \" : \" 171223059 \" } , \" originalPriceShow \" : \" \" , \" priceShow \" : \" Rs 799 \" , \" ratingScore \" : \" 5 0 \" , \" review \" : \" 4 \" , \" location \" : \" Bagmati Province \" , \" description \" : [ \" Superior Protection : 9H hardness ensures maximum defense against scratches , scuffs , and drops \" , \" HD',\n",
       "  'Clarity : Ultra clear glass preserves the original sharpness and vibrant colors of your screen \" , \" 2D Curved Edge : Smooth , curved edges for comfortable handling and seamless integration with your camera \" , \" Easy , Bubble Free Installation : Apply easily with a bubble free adhesive for a precise , secure fit \" , \" Anti Fingerprint Coating : Smudge resistant surface keeps your screen clean and clear \" , \" Enhance your DJI Action 5 Pro experience with GetZget u00ae , ensuring both protection and HD clarity on all your adventures \" , \" Package Include : 1 x Screen glass Back , 1 x Screen glass front , 1 x Lens Glass , 1 x Wet and Dry wipes , 1',\n",
       "  'x Dust absorber \" , \" Note : Action Camera is not included \" ] , \" thumbs \" : [ ] , \" sellerName \" : \" gizmo nepal \" , \" sellerId \" : \" 900152730006 \" , \" brandName \" : \" No Brand \" , \" brandId \" : \" 39704 \" , \" cheapest_sku \" : \" 171223059_NP 1190480977 \" , \" skuId \" : \" 1190480977 \" , \" sku \" : \" 171223059_NP \" , \" categories \" : [ 240 , 256 , 8204 ] , \" price \" : \" 799 \" , \" inStock \" : true , \" originalPrice \" : \" 1199 \" , \" clickTrace \" : \" query : camera nid : 171223059 src',\n",
       "  ': LazadaMainSrp rn : feb7c324dba78761f11a6be643f46dc6 region : np sku : 171223059_NP price : 799 client : desktop supplier_id : 900152730006 biz_source : h5_unknow slot : 26 utlog_bucket_id : 470687 asc_category_id : 8204 item_id : 171223059 sku_id : 1190480977 shop_id : 50985 templateInfo : 1_A3_C 1103_L \" , \" itemSoldCntShow \" : \" 21 sold \" , \" longImageDisplayable \" : false , \" skus \" : [ { \" id \" : \" 171223059_NP 1190480977 \" } ] , \" promotionId \" : \" \" , \" isSponsored \" : false , \" tItemType \" : \" nt_product \" , \" skuType \" : \" \" , \" adFlag \" : \" 0 \" , \" directSimilarUrl \" : \" https : native m lazada com dynamicxresult item_img',\n",
       "  'https 3A 2F 2Fstatic 01 daraz com np 2Fp 2Fd15e938e8731af369583a7fc3a90cd64 jpg src srp_findsimilar item_id 171223059 sku_id 1190480977 params 7B 22sub_src 22 3A 22long_press 22 2C 22src 22 3A 22srp_findsimilar 22 7D m tpp_findSimilar q camera similarType findSimilarV1 price 799 00 spuTriggerItem 0 \" , \" gridTitleLine \" : \" 2 \" , \" isFission \" : \" 0 \" , \" isBadgeAutoScroll \" : false , \" showCart \" : false , \" showBackIcon \" : false , \" showUnitPrice \" : false , \" itemUrl \" : \" www daraz com np products telesin tempered glass for dji action 5 pro camera screen scratch protector glass 3 pcs set i171223059 html \" , \" querystring \" : \" fs_ab 1 priceCompare skuId 3A1190480977 3Bsource 3Alazada search voucher',\n",
       "  '3Bsn 3Afeb7c324dba78761f11a6be643f46dc6 3BoriginPrice 3A79900 3BdisplayPrice 3A79900 3BsinglePromotionId 3A 1 3BsingleToolCode 3AmockedSalePrice 3BvoucherPricePlugin 3A0 3Btimestamp 3A1758872502749 c ratingscore 5 0 freeshipping 0 source search channelLpJumpArgs fuse_fs search 1 sale 21 price 799 review 4 location Bagmati 20Province stock 1 lang en request_id feb7c324dba78761f11a6be643f46dc6 clickTrackInfo query 253Acamera 253Bnid 253A171223059 253Bsrc 253ALazadaMainSrp 253Brn 253Afeb7c324dba78761f11a6be643f46dc6 253Bregion 253Anp 253Bsku 253A171223059_NP 253Bprice 253A799 253Bclient 253Adesktop 253Bsupplier_id 253A900152730006 253Bbiz_source 253Ah5_unknow 253Bslot 253A26 253Butlog_bucket_id 253A470687 253Basc_category_id 253A8204 253Bitem_id 253A171223059 253Bsku_id 253A1190480977 253Bshop_id 253A50985 253BtemplateInfo 253A 1_A3_C 25231103_L 2523 \" }'],\n",
       " ['{ \" name \" : \" Puluz 2 5D Curved Edge 9H Surface Hardness Tempered Glass Screen Protector Kit For Canon 5D Mark Iv Mark Iii Accessories \" , \" nid \" : \" 100280248 \" , \" itemId \" : \" 100280248 \" , \" icons \" : [ { \" domClass \" : \" 150565 \" , \" type \" : \" img \" , \" group \" : \" 6 \" , \" showType \" : \" 0 \" } , { \" domClass \" : \" 150318 \" , \" text \" : \" Gems save Rs 24 \" , \" type \" : \" text \" , \" group \" : \" 2 \" , \" showType \" : \" 0 \" }',\n",
       "  ', { \" domClass \" : \" 175175 \" , \" type \" : \" img \" , \" group \" : \" 3 \" , \" showType \" : \" 0 \" } ] , \" image \" : \" https : static 01 daraz com np p a2d960ed7f8fc6a25482133aa41d7eb4 jpg \" , \" isSmartImage \" : false , \" utLogMap \" : { \" srp_name \" : \" LazadaMainSrp \" , \" x_object_type \" : \" item \" , \" src \" : \" organic \" , \" trafficType \" : \" organic \" , \" x_sku_ids \" : \" 1020537589 \" , \" x_item_ids \" : \" 100280248 \" , \" iconList \" : \" 150565 150318 175175 \" , \" SN \" : \" feb7c324dba78761f11a6be643f46dc6',\n",
       "  '\" , \" current_price \" : \" 489 \" , \" x_object_id \" : \" 100280248 \" } , \" originalPriceShow \" : \" \" , \" priceShow \" : \" Rs 489 \" , \" ratingScore \" : \" 4 142857142857143 \" , \" review \" : \" 5 \" , \" location \" : \" Bagmati Province \" , \" description \" : [ ] , \" thumbs \" : [ ] , \" sellerName \" : \" Aafno Pasal \" , \" sellerId \" : \" 131 \" , \" brandName \" : \" No Brand \" , \" brandId \" : \" 39704 \" , \" cheapest_sku \" : \" 100280248_NP 1020537589 \" , \" skuId \" : \" 1020537589 \" , \" sku',\n",
       "  '\" : \" 100280248_NP \" , \" categories \" : [ 240 , 256 , 8204 ] , \" price \" : \" 489 \" , \" inStock \" : true , \" originalPrice \" : \" 999 \" , \" clickTrace \" : \" query : camera nid : 100280248 src : LazadaMainSrp rn : feb7c324dba78761f11a6be643f46dc6 region : np sku : 100280248_NP price : 489 client : desktop supplier_id : 131 biz_source : h5_unknow slot : 27 utlog_bucket_id : 470687 asc_category_id : 8204 item_id : 100280248 sku_id : 1020537589 shop_id : 8795 templateInfo : 1_A3_C 1103_L \" , \" itemSoldCntShow \" : \" 36 sold \" , \" longImageDisplayable \" : false , \" skus \" : [ { \" id \" : \" 100280248_NP 1020537589 \"',\n",
       "  '} ] , \" promotionId \" : \" \" , \" isSponsored \" : false , \" tItemType \" : \" nt_product \" , \" skuType \" : \" \" , \" adFlag \" : \" 0 \" , \" directSimilarUrl \" : \" https : native m lazada com dynamicxresult item_img https 3A 2F 2Fstatic 01 daraz com np 2Fp 2Fa2d960ed7f8fc6a25482133aa41d7eb4 jpg src srp_findsimilar item_id 100280248 sku_id 1020537589 params 7B 22sub_src 22 3A 22long_press 22 2C 22src 22 3A 22srp_findsimilar 22 7D m tpp_findSimilar q camera similarType findSimilarV1 price 489 00 spuTriggerItem 0 \" , \" gridTitleLine \" : \" 2 \" , \" isFission \" : \" 0 \" , \" isBadgeAutoScroll \" : false , \" showCart \" : false , \" showBackIcon \" :',\n",
       "  'false , \" showUnitPrice \" : false , \" itemUrl \" : \" www daraz com np products puluz 25d curved edge 9h surface hardness tempered glass screen protector kit for canon 5d mark iv mark iii accessories i100280248 html \" , \" querystring \" : \" fs_ab 1 priceCompare skuId 3A1020537589 3Bsource 3Alazada search voucher 3Bsn 3Afeb7c324dba78761f11a6be643f46dc6 3BoriginPrice 3A48900 3BdisplayPrice 3A48900 3BsinglePromotionId 3A50000018794008 3BsingleToolCode 3ApromPrice 3BvoucherPricePlugin 3A0 3Btimestamp 3A1758872502749 c ratingscore 4 142857142857143 freeshipping 0 source search channelLpJumpArgs fuse_fs search 1 sale 36 price 489 review 5 location Bagmati 20Province stock 1 lang en request_id feb7c324dba78761f11a6be643f46dc6 clickTrackInfo query 253Acamera 253Bnid 253A100280248 253Bsrc 253ALazadaMainSrp 253Brn 253Afeb7c324dba78761f11a6be643f46dc6 253Bregion 253Anp 253Bsku 253A100280248_NP 253Bprice 253A489 253Bclient 253Adesktop 253Bsupplier_id 253A131 253Bbiz_source 253Ah5_unknow 253Bslot 253A27 253Butlog_bucket_id 253A470687 253Basc_category_id 253A8204 253Bitem_id 253A100280248 253Bsku_id 253A1020537589',\n",
       "  '253Bshop_id 253A8795 253BtemplateInfo 253A 1_A3_C 25231103_L 2523 \" }'],\n",
       " ['{ \" name \" : \" Lens Protector For Redmi Note 13 Pro Metal Ring Protective By Panchakumari Mobile Hub \" , \" nid \" : \" 131338150 \" , \" itemId \" : \" 131338150 \" , \" icons \" : [ { \" domClass \" : \" 150565 \" , \" type \" : \" img \" , \" group \" : \" 6 \" , \" showType \" : \" 0 \" } , { \" domClass \" : \" 150318 \" , \" text \" : \" Gems save Rs 3 \" , \" type \" : \" text \" , \" group \" : \" 2 \" , \" showType \" : \" 0 \" } , { \" domClass \" : \"',\n",
       "  '175175 \" , \" type \" : \" img \" , \" group \" : \" 3 \" , \" showType \" : \" 0 \" } ] , \" image \" : \" https : static 01 daraz com np p 029644aab3d306468c19414be860184f jpg \" , \" isSmartImage \" : false , \" utLogMap \" : { \" srp_name \" : \" LazadaMainSrp \" , \" x_object_type \" : \" item \" , \" src \" : \" organic \" , \" trafficType \" : \" organic \" , \" x_sku_ids \" : \" 1038193572 \" , \" x_item_ids \" : \" 131338150 \" , \" iconList \" : \" 150565 150318 175175 \" , \" SN \" : \" feb7c324dba78761f11a6be643f46dc6 \" , \" current_price \" : \"',\n",
       "  '284 \" , \" x_object_id \" : \" 131338150 \" } , \" originalPriceShow \" : \" \" , \" priceShow \" : \" Rs 284 \" , \" ratingScore \" : \" 4 0 \" , \" review \" : \" 4 \" , \" location \" : \" Bagmati Province \" , \" description \" : [ \" The new high quality combination provides more comprehensive protection for your phone , Please confirm the model size before buying \" , \" The optical grade antireflection coating technology on the glass surface prevents fingerprints , sweat and grease residues \" , \" Aluminum alloy explosion proof Camera Lens Protector , strong protection of your lens , ensuring worry free taking pictures Anti Scratch Water Dust full coverage',\n",
       "  'protection , protect camera lens from daily life \" ] , \" thumbs \" : [ ] , \" sellerName \" : \" Panchakumari Mobile Hub \" , \" sellerId \" : \" 9677 \" , \" brandName \" : \" No Brand \" , \" brandId \" : \" 39704 \" , \" cheapest_sku \" : \" 131338150_NP 1038193572 \" , \" skuId \" : \" 1038193572 \" , \" sku \" : \" 131338150_NP \" , \" categories \" : [ 240 , 256 , 8204 ] , \" price \" : \" 284 \" , \" inStock \" : true , \" originalPrice \" : \" 699 \" , \" clickTrace \" : \" query : camera nid : 131338150 src : LazadaMainSrp rn :',\n",
       "  'feb7c324dba78761f11a6be643f46dc6 region : np sku : 131338150_NP price : 284 client : desktop supplier_id : 9677 biz_source : h5_unknow slot : 28 utlog_bucket_id : 470687 asc_category_id : 8204 item_id : 131338150 sku_id : 1038193572 shop_id : 9677 templateInfo : 1_A3_C 1103_L \" , \" itemSoldCntShow \" : \" 12 sold \" , \" longImageDisplayable \" : false , \" skus \" : [ { \" id \" : \" 131338150_NP 1038193572 \" } ] , \" promotionId \" : \" \" , \" isSponsored \" : false , \" tItemType \" : \" nt_product \" , \" skuType \" : \" \" , \" adFlag \" : \" 0 \" , \" directSimilarUrl \" : \" https : native m lazada com dynamicxresult item_img https 3A 2F 2Fstatic',\n",
       "  '01 daraz com np 2Fp 2F029644aab3d306468c19414be860184f jpg src srp_findsimilar item_id 131338150 sku_id 1038193572 params 7B 22sub_src 22 3A 22long_press 22 2C 22src 22 3A 22srp_findsimilar 22 7D m tpp_findSimilar q camera similarType findSimilarV1 price 284 00 spuTriggerItem 0 \" , \" gridTitleLine \" : \" 2 \" , \" isFission \" : \" 0 \" , \" isBadgeAutoScroll \" : false , \" showCart \" : false , \" showBackIcon \" : false , \" showUnitPrice \" : false , \" itemUrl \" : \" www daraz com np products lens protector for redmi note 13 pro metal ring protective by panchakumari mobile hub i131338150 html \" , \" querystring \" : \" fs_ab 1 priceCompare skuId 3A1038193572 3Bsource 3Alazada search voucher 3Bsn 3Afeb7c324dba78761f11a6be643f46dc6 3BoriginPrice 3A28400 3BdisplayPrice 3A28400',\n",
       "  '3BsinglePromotionId 3A50000018794008 3BsingleToolCode 3ApromPrice 3BvoucherPricePlugin 3A0 3Btimestamp 3A1758872502749 c ratingscore 4 0 freeshipping 0 source search channelLpJumpArgs fuse_fs search 1 sale 12 price 284 review 4 location Bagmati 20Province stock 1 lang en request_id feb7c324dba78761f11a6be643f46dc6 clickTrackInfo query 253Acamera 253Bnid 253A131338150 253Bsrc 253ALazadaMainSrp 253Brn 253Afeb7c324dba78761f11a6be643f46dc6 253Bregion 253Anp 253Bsku 253A131338150_NP 253Bprice 253A284 253Bclient 253Adesktop 253Bsupplier_id 253A9677 253Bbiz_source 253Ah5_unknow 253Bslot 253A28 253Butlog_bucket_id 253A470687 253Basc_category_id 253A8204 253Bitem_id 253A131338150 253Bsku_id 253A1038193572 253Bshop_id 253A9677 253BtemplateInfo 253A 1_A3_C 25231103_L 2523 \" }'],\n",
       " ['{ \" name \" : \" Lens Guard for Oneplus Nord Ce 3 Lite 5G Black Metallic Camera Ring Protector \" , \" nid \" : \" 159676400 \" , \" itemId \" : \" 159676400 \" , \" icons \" : [ ] , \" image \" : \" https : static 01 daraz com np p 31aadc8cc48739492870b674d0f0b762 jpg \" , \" isSmartImage \" : false , \" utLogMap \" : { \" srp_name \" : \" LazadaMainSrp \" , \" x_object_type \" : \" item \" , \" src \" : \" organic \" , \" trafficType \" : \" organic \" , \" x_sku_ids \" : \" 1143413350 \" , \" x_item_ids \" : \" 159676400 \" , \" SN \" : \" feb7c324dba78761f11a6be643f46dc6 \"',\n",
       "  ', \" current_price \" : \" 425 \" , \" x_object_id \" : \" 159676400 \" } , \" originalPriceShow \" : \" \" , \" priceShow \" : \" Rs 425 \" , \" ratingScore \" : \" 3 6666666666666665 \" , \" review \" : \" 3 \" , \" location \" : \" Bagmati Province \" , \" description \" : [ ] , \" thumbs \" : [ ] , \" sellerName \" : \" 55 STORE \" , \" sellerId \" : \" 900154653638 \" , \" brandName \" : \" No Brand \" , \" brandId \" : \" 39704 \" , \" cheapest_sku \" : \" 159676400_NP 1143413350 \" , \" skuId \" : \" 1143413350 \" , \" sku \"',\n",
       "  ': \" 159676400_NP \" , \" categories \" : [ 240 , 256 , 8204 ] , \" price \" : \" 425 \" , \" inStock \" : true , \" originalPrice \" : \" 525 \" , \" clickTrace \" : \" query : camera nid : 159676400 src : LazadaMainSrp rn : feb7c324dba78761f11a6be643f46dc6 region : np sku : 159676400_NP price : 425 client : desktop supplier_id : 900154653638 biz_source : h5_unknow slot : 29 utlog_bucket_id : 470687 asc_category_id : 8204 item_id : 159676400 sku_id : 1143413350 shop_id : 70477 templateInfo : 1_A3_C 1103_L \" , \" itemSoldCntShow \" : \" 15 sold \" , \" longImageDisplayable \" : false , \" skus \" : [ { \" id \" : \" 159676400_NP 1143413350 \" }',\n",
       "  '] , \" promotionId \" : \" \" , \" isSponsored \" : false , \" tItemType \" : \" nt_product \" , \" skuType \" : \" \" , \" adFlag \" : \" 0 \" , \" directSimilarUrl \" : \" https : native m lazada com dynamicxresult item_img https 3A 2F 2Fstatic 01 daraz com np 2Fp 2F31aadc8cc48739492870b674d0f0b762 jpg src srp_findsimilar item_id 159676400 sku_id 1143413350 params 7B 22sub_src 22 3A 22long_press 22 2C 22src 22 3A 22srp_findsimilar 22 7D m tpp_findSimilar q camera similarType findSimilarV1 price 425 00 spuTriggerItem 0 \" , \" gridTitleLine \" : \" 2 \" , \" isFission \" : \" 0 \" , \" isBadgeAutoScroll \" : false , \" showCart \" : false , \" showBackIcon \" : false',\n",
       "  ', \" showUnitPrice \" : false , \" itemUrl \" : \" www daraz com np products lens guard for oneplus nord ce 3 lite 5g black metallic camera ring protector i159676400 html \" , \" querystring \" : \" fs_ab 1 priceCompare skuId 3A1143413350 3Bsource 3Alazada search voucher 3Bsn 3Afeb7c324dba78761f11a6be643f46dc6 3BoriginPrice 3A42500 3BdisplayPrice 3A42500 3BsinglePromotionId 3A 1 3BsingleToolCode 3AmockedSalePrice 3BvoucherPricePlugin 3A0 3Btimestamp 3A1758872502749 c ratingscore 3 6666666666666665 freeshipping 0 source search channelLpJumpArgs fuse_fs search 1 sale 15 price 425 review 3 location Bagmati 20Province stock 1 lang en request_id feb7c324dba78761f11a6be643f46dc6 clickTrackInfo query 253Acamera 253Bnid 253A159676400 253Bsrc 253ALazadaMainSrp 253Brn 253Afeb7c324dba78761f11a6be643f46dc6 253Bregion 253Anp 253Bsku 253A159676400_NP 253Bprice 253A425 253Bclient 253Adesktop 253Bsupplier_id 253A900154653638 253Bbiz_source 253Ah5_unknow 253Bslot 253A29 253Butlog_bucket_id 253A470687 253Basc_category_id 253A8204 253Bitem_id 253A159676400 253Bsku_id 253A1143413350 253Bshop_id 253A70477 253BtemplateInfo 253A 1_A3_C 25231103_L',\n",
       "  '2523 \" }'],\n",
       " ['{ \" name \" : \" Samsung Galaxy A55 Samsung Galaxy A35 Camera Film Ring Tempered Glass Screen Protector \" , \" nid \" : \" 136761126 \" , \" itemId \" : \" 136761126 \" , \" icons \" : [ { \" domClass \" : \" 150565 \" , \" type \" : \" img \" , \" group \" : \" 6 \" , \" showType \" : \" 0 \" } , { \" domClass \" : \" 150318 \" , \" text \" : \" Gems save Rs 15 \" , \" type \" : \" text \" , \" group \" : \" 2 \" , \" showType \" : \" 0 \" } , { \" domClass \" : \" 175175',\n",
       "  '\" , \" type \" : \" img \" , \" group \" : \" 3 \" , \" showType \" : \" 0 \" } ] , \" image \" : \" https : static 01 daraz com np p 6f5e13bffad14fe1cdd2113ea9949324 png \" , \" isSmartImage \" : false , \" utLogMap \" : { \" srp_name \" : \" LazadaMainSrp \" , \" x_object_type \" : \" item \" , \" src \" : \" organic \" , \" trafficType \" : \" organic \" , \" x_sku_ids \" : \" 1063987402 \" , \" x_item_ids \" : \" 136761126 \" , \" iconList \" : \" 150565 150318 175175 \" , \" SN \" : \" feb7c324dba78761f11a6be643f46dc6 \" , \" current_price \" : \" 495',\n",
       "  '\" , \" x_object_id \" : \" 136761126 \" } , \" originalPriceShow \" : \" \" , \" priceShow \" : \" Rs 495 \" , \" ratingScore \" : \" 3 6666666666666665 \" , \" review \" : \" 3 \" , \" location \" : \" Bagmati Province \" , \" description \" : [ \" The thickness is only 0 33mm , and don t affect the Use of the camera \" , \" Full coverage to protect the edges of the lens at the same time \" , \" Scratch resistant Dirt resistant Water resistant oil resistant Shock Proof YIWHO Full coverage \" , \" 100 new good quality , and protector your phone camera \" , \" Material : Organic Tempered Glass',\n",
       "  'uff0c it is made of organic tempered glass \" , \" 9H hardness to protect your phone lens from scratches \" ] , \" thumbs \" : [ ] , \" sellerName \" : \" Freakypanda \" , \" sellerId \" : \" 1010509 \" , \" brandName \" : \" No Brand \" , \" brandId \" : \" 39704 \" , \" cheapest_sku \" : \" 136761126_NP 1063987402 \" , \" skuId \" : \" 1063987402 \" , \" sku \" : \" 136761126_NP \" , \" categories \" : [ 240 , 256 , 8204 ] , \" price \" : \" 495 \" , \" inStock \" : true , \" originalPrice \" : \" 690 \" , \" clickTrace \" : \" query',\n",
       "  ': camera nid : 136761126 src : LazadaMainSrp rn : feb7c324dba78761f11a6be643f46dc6 region : np sku : 136761126_NP price : 495 client : desktop supplier_id : 1010509 biz_source : h5_unknow slot : 30 utlog_bucket_id : 470687 asc_category_id : 8204 item_id : 136761126 sku_id : 1063987402 shop_id : 20257 templateInfo : 1_A3_C 1103_L \" , \" itemSoldCntShow \" : \" 22 sold \" , \" longImageDisplayable \" : false , \" skus \" : [ { \" id \" : \" 136761126_NP 1063987402 \" } ] , \" promotionId \" : \" \" , \" isSponsored \" : false , \" tItemType \" : \" nt_product \" , \" skuType \" : \" \" , \" adFlag \" : \" 0 \" , \" directSimilarUrl \" : \" https :',\n",
       "  'native m lazada com dynamicxresult item_img https 3A 2F 2Fstatic 01 daraz com np 2Fp 2F6f5e13bffad14fe1cdd2113ea9949324 png src srp_findsimilar item_id 136761126 sku_id 1063987402 params 7B 22sub_src 22 3A 22long_press 22 2C 22src 22 3A 22srp_findsimilar 22 7D m tpp_findSimilar q camera similarType findSimilarV1 price 495 00 spuTriggerItem 0 \" , \" gridTitleLine \" : \" 2 \" , \" isFission \" : \" 0 \" , \" isBadgeAutoScroll \" : false , \" showCart \" : false , \" showBackIcon \" : false , \" showUnitPrice \" : false , \" itemUrl \" : \" www daraz com np products samsung galaxy a55 samsung galaxy a35 camera film ring tempered glass screen protector i136761126 html \" , \" querystring \" : \" fs_ab 1 priceCompare skuId 3A1063987402 3Bsource',\n",
       "  '3Alazada search voucher 3Bsn 3Afeb7c324dba78761f11a6be643f46dc6 3BoriginPrice 3A49500 3BdisplayPrice 3A49500 3BsinglePromotionId 3A50000018794008 3BsingleToolCode 3ApromPrice 3BvoucherPricePlugin 3A0 3Btimestamp 3A1758872502749 c ratingscore 3 6666666666666665 freeshipping 0 source search channelLpJumpArgs fuse_fs search 1 sale 22 price 495 review 3 location Bagmati 20Province stock 1 lang en request_id feb7c324dba78761f11a6be643f46dc6 clickTrackInfo query 253Acamera 253Bnid 253A136761126 253Bsrc 253ALazadaMainSrp 253Brn 253Afeb7c324dba78761f11a6be643f46dc6 253Bregion 253Anp 253Bsku 253A136761126_NP 253Bprice 253A495 253Bclient 253Adesktop 253Bsupplier_id 253A1010509 253Bbiz_source 253Ah5_unknow 253Bslot 253A30 253Butlog_bucket_id 253A470687 253Basc_category_id 253A8204 253Bitem_id 253A136761126 253Bsku_id 253A1063987402 253Bshop_id 253A20257 253BtemplateInfo 253A 1_A3_C 25231103_L 2523 \" }'],\n",
       " ['{ \" name \" : \" Full Coverage Back Camera Lens Protector For Vivo X200 Pro By Panchakumari Mobile Hub \" , \" nid \" : \" 420480658 \" , \" itemId \" : \" 420480658 \" , \" icons \" : [ { \" domClass \" : \" 150565 \" , \" type \" : \" img \" , \" group \" : \" 6 \" , \" showType \" : \" 0 \" } , { \" domClass \" : \" 150318 \" , \" text \" : \" Gems save Rs 4 \" , \" type \" : \" text \" , \" group \" : \" 2 \" , \" showType \" : \" 0 \" } , { \" domClass \" : \"',\n",
       "  '175175 \" , \" type \" : \" img \" , \" group \" : \" 3 \" , \" showType \" : \" 0 \" } ] , \" image \" : \" https : static 01 daraz com np p 9582596ce17560c223bbae70fc35ea7b jpg \" , \" isSmartImage \" : false , \" utLogMap \" : { \" srp_name \" : \" LazadaMainSrp \" , \" x_object_type \" : \" item \" , \" src \" : \" organic \" , \" trafficType \" : \" organic \" , \" x_sku_ids \" : \" 1826206102 \" , \" x_item_ids \" : \" 420480658 \" , \" iconList \" : \" 150565 150318 175175 \" , \" SN \" : \" feb7c324dba78761f11a6be643f46dc6 \" , \" current_price \" : \"',\n",
       "  '427 \" , \" x_object_id \" : \" 420480658 \" } , \" originalPriceShow \" : \" \" , \" priceShow \" : \" Rs 427 \" , \" ratingScore \" : \" 5 0 \" , \" review \" : \" 0 \" , \" location \" : \" Bagmati Province \" , \" description \" : [ ] , \" thumbs \" : [ ] , \" sellerName \" : \" Panchakumari Mobile Hub \" , \" sellerId \" : \" 9677 \" , \" brandName \" : \" No Brand \" , \" brandId \" : \" 39704 \" , \" cheapest_sku \" : \" 420480658_NP 1826206102 \" , \" skuId \" : \" 1826206102 \" , \" sku \" : \" 420480658_NP \" ,',\n",
       "  '\" categories \" : [ 240 , 256 , 8204 ] , \" price \" : \" 427 \" , \" inStock \" : true , \" originalPrice \" : \" 599 \" , \" clickTrace \" : \" query : camera nid : 420480658 src : LazadaMainSrp rn : feb7c324dba78761f11a6be643f46dc6 region : np sku : 420480658_NP price : 427 client : desktop supplier_id : 9677 biz_source : h5_unknow slot : 31 utlog_bucket_id : 470687 asc_category_id : 8204 item_id : 420480658 sku_id : 1826206102 shop_id : 9677 templateInfo : 1_A3_C 1103_L \" , \" longImageDisplayable \" : false , \" skus \" : [ { \" id \" : \" 420480658_NP 1826206102 \" } ] , \" promotionId \" : \" \" , \" isSponsored \" : false',\n",
       "  ', \" tItemType \" : \" nt_product \" , \" skuType \" : \" \" , \" adFlag \" : \" 0 \" , \" directSimilarUrl \" : \" https : native m lazada com dynamicxresult item_img https 3A 2F 2Fstatic 01 daraz com np 2Fp 2F9582596ce17560c223bbae70fc35ea7b jpg src srp_findsimilar item_id 420480658 sku_id 1826206102 params 7B 22sub_src 22 3A 22long_press 22 2C 22src 22 3A 22srp_findsimilar 22 7D m tpp_findSimilar q camera similarType findSimilarV1 price 427 00 spuTriggerItem 0 \" , \" gridTitleLine \" : \" 2 \" , \" isFission \" : \" 0 \" , \" isBadgeAutoScroll \" : false , \" showCart \" : false , \" showBackIcon \" : false , \" showUnitPrice \" : false , \" itemUrl \" : \" www daraz',\n",
       "  'com np products full coverage back camera lens protector for vivo x200 pro by panchakumari mobile hub i420480658 html \" , \" querystring \" : \" fs_ab 1 priceCompare skuId 3A1826206102 3Bsource 3Alazada search voucher 3Bsn 3Afeb7c324dba78761f11a6be643f46dc6 3BoriginPrice 3A42700 3BdisplayPrice 3A42700 3BsinglePromotionId 3A50000018794008 3BsingleToolCode 3ApromPrice 3BvoucherPricePlugin 3A0 3Btimestamp 3A1758872502749 c ratingscore 5 0 freeshipping 0 source search channelLpJumpArgs fuse_fs search 1 sale 4 price 427 review 0 location Bagmati 20Province stock 1 lang en request_id feb7c324dba78761f11a6be643f46dc6 clickTrackInfo query 253Acamera 253Bnid 253A420480658 253Bsrc 253ALazadaMainSrp 253Brn 253Afeb7c324dba78761f11a6be643f46dc6 253Bregion 253Anp 253Bsku 253A420480658_NP 253Bprice 253A427 253Bclient 253Adesktop 253Bsupplier_id 253A9677 253Bbiz_source 253Ah5_unknow 253Bslot 253A31 253Butlog_bucket_id 253A470687 253Basc_category_id 253A8204 253Bitem_id 253A420480658 253Bsku_id 253A1826206102 253Bshop_id 253A9677 253BtemplateInfo 253A 1_A3_C 25231103_L 2523 \" }'],\n",
       " ['{ \" name \" : \" Back Camera Protector Glass for 13 Pro Max \" , \" nid \" : \" 129926039 \" , \" itemId \" : \" 129926039 \" , \" icons \" : [ { \" domClass \" : \" 150565 \" , \" type \" : \" img \" , \" group \" : \" 6 \" , \" showType \" : \" 0 \" } , { \" domClass \" : \" 150318 \" , \" text \" : \" Gems save Rs 3 \" , \" type \" : \" text \" , \" group \" : \" 2 \" , \" showType \" : \" 0 \" } ] , \" image \" : \" https : static 01 daraz com',\n",
       "  'np p 31a33b2dac0a93393566e2751f46e2ba jpg \" , \" isSmartImage \" : false , \" utLogMap \" : { \" srp_name \" : \" LazadaMainSrp \" , \" x_object_type \" : \" item \" , \" src \" : \" organic \" , \" trafficType \" : \" organic \" , \" x_sku_ids \" : \" 1037785165 \" , \" x_item_ids \" : \" 129926039 \" , \" iconList \" : \" 150565 150318 \" , \" SN \" : \" feb7c324dba78761f11a6be643f46dc6 \" , \" current_price \" : \" 269 \" , \" x_object_id \" : \" 129926039 \" } , \" originalPriceShow \" : \" \" , \" priceShow \" : \" Rs 269 \" , \" ratingScore \" : \" 5 0 \" , \" review \" :',\n",
       "  '\" 1 \" , \" location \" : \" Bagmati Province \" , \" description \" : [ \" [ Compatible Model ] Compatible for iPhone 13 13 pro and 13 Pro Max Camera Lens Protector , perfectly protect your rear camera from scratches \" , \" [ Innovative Design ] The 9H tempered glass protector hole is embedded with night anti glare coating Protect your camera and keep the original picture quality \" , \" [ Highly Clear ] 99 99 transparency preserves the original screen or picture brightness Not Disturbing the picture quality \" , \" [ Excellent Protection ] The camera lens protector with oleophobic layer prevents water , oil , dust Keep your phone lens in HD transparent and clean all the time \"',\n",
       "  ', \" [ Comprehensive after sales service ] If you have any questions , please feel free to contact us We will reply you within 24 hours \" ] , \" thumbs \" : [ ] , \" sellerName \" : \" Om canvas \" , \" sellerId \" : \" 900151659082 \" , \" brandName \" : \" No Brand \" , \" brandId \" : \" 39704 \" , \" cheapest_sku \" : \" 129926039_NP 1037785165 \" , \" skuId \" : \" 1037785165 \" , \" sku \" : \" 129926039_NP \" , \" categories \" : [ 240 , 256 , 8204 ] , \" price \" : \" 269 \" , \" inStock \" : true , \" originalPrice \" : \" 300',\n",
       "  '\" , \" clickTrace \" : \" query : camera nid : 129926039 src : LazadaMainSrp rn : feb7c324dba78761f11a6be643f46dc6 region : np sku : 129926039_NP price : 269 client : desktop supplier_id : 900151659082 biz_source : h5_unknow slot : 32 utlog_bucket_id : 470687 asc_category_id : 8204 item_id : 129926039 sku_id : 1037785165 shop_id : 31100 templateInfo : 1_A3_C 1103_L \" , \" itemSoldCntShow \" : \" 9 sold \" , \" longImageDisplayable \" : false , \" skus \" : [ { \" id \" : \" 129926039_NP 1037785165 \" } ] , \" promotionId \" : \" \" , \" isSponsored \" : false , \" tItemType \" : \" nt_product \" , \" skuType \" : \" \" , \" adFlag \" : \" 0 \"',\n",
       "  ', \" directSimilarUrl \" : \" https : native m lazada com dynamicxresult item_img https 3A 2F 2Fstatic 01 daraz com np 2Fp 2F31a33b2dac0a93393566e2751f46e2ba jpg src srp_findsimilar item_id 129926039 sku_id 1037785165 params 7B 22sub_src 22 3A 22long_press 22 2C 22src 22 3A 22srp_findsimilar 22 7D m tpp_findSimilar q camera similarType findSimilarV1 price 269 00 spuTriggerItem 0 \" , \" gridTitleLine \" : \" 2 \" , \" isFission \" : \" 0 \" , \" isBadgeAutoScroll \" : false , \" showCart \" : false , \" showBackIcon \" : false , \" showUnitPrice \" : false , \" itemUrl \" : \" www daraz com np products back camera protector glass for 13 pro max i129926039 html \" , \" querystring \" : \" fs_ab 1 priceCompare',\n",
       "  'skuId 3A1037785165 3Bsource 3Alazada search voucher 3Bsn 3Afeb7c324dba78761f11a6be643f46dc6 3BoriginPrice 3A26900 3BdisplayPrice 3A26900 3BsinglePromotionId 3A 1 3BsingleToolCode 3AmockedSalePrice 3BvoucherPricePlugin 3A0 3Btimestamp 3A1758872502749 c ratingscore 5 0 freeshipping 0 source search channelLpJumpArgs fuse_fs search 1 sale 9 price 269 review 1 location Bagmati 20Province stock 1 lang en request_id feb7c324dba78761f11a6be643f46dc6 clickTrackInfo query 253Acamera 253Bnid 253A129926039 253Bsrc 253ALazadaMainSrp 253Brn 253Afeb7c324dba78761f11a6be643f46dc6 253Bregion 253Anp 253Bsku 253A129926039_NP 253Bprice 253A269 253Bclient 253Adesktop 253Bsupplier_id 253A900151659082 253Bbiz_source 253Ah5_unknow 253Bslot 253A32 253Butlog_bucket_id 253A470687 253Basc_category_id 253A8204 253Bitem_id 253A129926039 253Bsku_id 253A1037785165 253Bshop_id 253A31100 253BtemplateInfo 253A 1_A3_C 25231103_L 2523 \" }'],\n",
       " ['{ \" name \" : \" Ultra Clear Tempered Glass Screen Protector for GoPro Hero 12 , 11 , 10 , 9 Black \" , \" nid \" : \" 109751082 \" , \" itemId \" : \" 109751082 \" , \" icons \" : [ { \" domClass \" : \" 150565 \" , \" type \" : \" img \" , \" group \" : \" 6 \" , \" showType \" : \" 0 \" } , { \" domClass \" : \" 150318 \" , \" text \" : \" Gems save Rs 5 \" , \" type \" : \" text \" , \" group \" : \" 2 \" , \" showType \" : \" 0 \" } , { \" domClass',\n",
       "  '\" : \" 175175 \" , \" type \" : \" img \" , \" group \" : \" 3 \" , \" showType \" : \" 0 \" } ] , \" image \" : \" https : static 01 daraz com np p c701f33d4573cbe44c60c2455fd45cee png \" , \" isSmartImage \" : false , \" utLogMap \" : { \" srp_name \" : \" LazadaMainSrp \" , \" x_object_type \" : \" item \" , \" src \" : \" organic \" , \" trafficType \" : \" organic \" , \" x_sku_ids \" : \" 1029715910 \" , \" x_item_ids \" : \" 109751082 \" , \" iconList \" : \" 150565 150318 175175 \" , \" SN \" : \" feb7c324dba78761f11a6be643f46dc6 \" , \" current_price',\n",
       "  '\" : \" 498 \" , \" x_object_id \" : \" 109751082 \" } , \" originalPriceShow \" : \" \" , \" priceShow \" : \" Rs 498 \" , \" ratingScore \" : \" 4 523809523809524 \" , \" review \" : \" 21 \" , \" location \" : \" Bagmati Province \" , \" description \" : [ \" The highly transparent surface of the protection film for GoPro Hero 10 9 allows a pin sharp and genuine presentation of contents and colors on the screen , maintains the original touch experience and high transparency \" , \" Perfectly protect the screen from daily scratches , dust , scrapes , and normal signs of wear allow a pin sharp and genuine presentation of contents',\n",
       "  'and colors on the screen \" , \" High definition and precise touch sensitivity \" , \" Compatible with GoPro Hero 9 Black Camera \" , \" An oleophobic coating on the surface prevents fingerprints and other contaminants and makes the film easy to clean \" , \" Includes : 1X Tempered Glass Screen Protector , 1X Tempered Glass Lens Protector , 2X Plastic Film Front Display Protector , 1X Alcohol saturated wet wipes , 2X Dust Absorber , 1X Cleaning Cloth \" ] , \" thumbs \" : [ ] , \" sellerName \" : \" Galaxy Stores \" , \" sellerId \" : \" 900153132041 \" , \" brandName \" : \" No Brand \" , \" brandId \" : \" 39704 \" , \" cheapest_sku',\n",
       "  '\" : \" 109751082_NP 1029715910 \" , \" skuId \" : \" 1029715910 \" , \" sku \" : \" 109751082_NP \" , \" categories \" : [ 240 , 256 , 8204 ] , \" price \" : \" 498 \" , \" inStock \" : true , \" originalPrice \" : \" 700 \" , \" clickTrace \" : \" query : camera nid : 109751082 src : LazadaMainSrp rn : feb7c324dba78761f11a6be643f46dc6 region : np sku : 109751082_NP price : 498 client : desktop supplier_id : 900153132041 biz_source : h5_unknow slot : 33 utlog_bucket_id : 470687 asc_category_id : 8204 item_id : 109751082 sku_id : 1029715910 shop_id : 58419 templateInfo : 1_A3_C 1103_L \" , \" itemSoldCntShow \" : \" 89 sold \" , \" longImageDisplayable \"',\n",
       "  ': false , \" skus \" : [ { \" id \" : \" 109751082_NP 1029715910 \" } ] , \" promotionId \" : \" \" , \" isSponsored \" : false , \" tItemType \" : \" nt_product \" , \" skuType \" : \" \" , \" adFlag \" : \" 0 \" , \" directSimilarUrl \" : \" https : native m lazada com dynamicxresult item_img https 3A 2F 2Fstatic 01 daraz com np 2Fp 2Fc701f33d4573cbe44c60c2455fd45cee png src srp_findsimilar item_id 109751082 sku_id 1029715910 params 7B 22sub_src 22 3A 22long_press 22 2C 22src 22 3A 22srp_findsimilar 22 7D m tpp_findSimilar q camera similarType findSimilarV1 price 498 00 spuTriggerItem 0 \" , \" gridTitleLine \" : \" 2 \" , \" isFission \" : \" 0 \"',\n",
       "  ', \" isBadgeAutoScroll \" : false , \" showCart \" : false , \" showBackIcon \" : false , \" showUnitPrice \" : false , \" itemUrl \" : \" www daraz com np products ultra clear tempered glass screen protector for gopro hero 12 11 10 9 black i109751082 html \" , \" querystring \" : \" fs_ab 1 priceCompare skuId 3A1029715910 3Bsource 3Alazada search voucher 3Bsn 3Afeb7c324dba78761f11a6be643f46dc6 3BoriginPrice 3A49800 3BdisplayPrice 3A49800 3BsinglePromotionId 3A50000018794008 3BsingleToolCode 3ApromPrice 3BvoucherPricePlugin 3A0 3Btimestamp 3A1758872502749 c ratingscore 4 523809523809524 freeshipping 0 source search channelLpJumpArgs fuse_fs search 1 sale 89 price 498 review 21 location Bagmati 20Province stock 1 lang en request_id feb7c324dba78761f11a6be643f46dc6 clickTrackInfo query 253Acamera 253Bnid 253A109751082 253Bsrc 253ALazadaMainSrp 253Brn 253Afeb7c324dba78761f11a6be643f46dc6 253Bregion 253Anp 253Bsku 253A109751082_NP 253Bprice 253A498 253Bclient 253Adesktop 253Bsupplier_id 253A900153132041 253Bbiz_source',\n",
       "  '253Ah5_unknow 253Bslot 253A33 253Butlog_bucket_id 253A470687 253Basc_category_id 253A8204 253Bitem_id 253A109751082 253Bsku_id 253A1029715910 253Bshop_id 253A58419 253BtemplateInfo 253A 1_A3_C 25231103_L 2523 \" }'],\n",
       " ['{ \" name \" : \" Samsung Galaxy A26 Samsung A36 Samsung A56 Camera Glass Screen Protector \" , \" nid \" : \" 365900189 \" , \" itemId \" : \" 365900189 \" , \" icons \" : [ { \" domClass \" : \" 150565 \" , \" type \" : \" img \" , \" group \" : \" 6 \" , \" showType \" : \" 0 \" } ] , \" image \" : \" https : static 01 daraz com np p 37a2c00ba3a075eeb4fd271d8e791d93 png \" , \" isSmartImage \" : false , \" utLogMap \" : { \" srp_name \" : \" LazadaMainSrp \" , \" x_object_type \" : \" item \" , \" src \" : \" organic \" , \"',\n",
       "  'trafficType \" : \" organic \" , \" x_sku_ids \" : \" 1620626496 \" , \" x_item_ids \" : \" 365900189 \" , \" iconList \" : \" 150565 \" , \" SN \" : \" feb7c324dba78761f11a6be643f46dc6 \" , \" current_price \" : \" 499 \" , \" x_object_id \" : \" 365900189 \" } , \" originalPriceShow \" : \" \" , \" priceShow \" : \" Rs 499 \" , \" ratingScore \" : \" 5 0 \" , \" review \" : \" 1 \" , \" location \" : \" Bagmati Province \" , \" description \" : [ \" The thickness is only 0 33mm , and don t affect the Use of the camera \" , \" Full coverage to protect the',\n",
       "  'edges of the lens at the same time \" , \" Scratch resistant Dirt resistant Water resistant oil resistant Shock Proof YIWHO Full coverage \" , \" 100 new good quality , and protector your phone camera \" , \" Material : Organic Tempered Glass uff0c it is made of organic tempered glass \" , \" 9H hardness to protect your phone lens from scratches \" ] , \" thumbs \" : [ ] , \" sellerName \" : \" SaturnTech \" , \" sellerId \" : \" 900152283013 \" , \" brandName \" : \" No Brand \" , \" brandId \" : \" 39704 \" , \" cheapest_sku \" : \" 365900189_NP 1620626496 \" , \" skuId \" : \" 1620626496 \" , \" sku \"',\n",
       "  ': \" 365900189_NP \" , \" categories \" : [ 240 , 256 , 8204 ] , \" price \" : \" 499 \" , \" inStock \" : true , \" originalPrice \" : \" 699 \" , \" clickTrace \" : \" query : camera nid : 365900189 src : LazadaMainSrp rn : feb7c324dba78761f11a6be643f46dc6 region : np sku : 365900189_NP price : 499 client : desktop supplier_id : 900152283013 biz_source : h5_unknow slot : 34 utlog_bucket_id : 470687 asc_category_id : 8204 item_id : 365900189 sku_id : 1620626496 shop_id : 42772 templateInfo : 1_A3_C 1103_L \" , \" longImageDisplayable \" : false , \" skus \" : [ { \" id \" : \" 365900189_NP 1620626496 \" } ] , \" promotionId \" : \" \" ,',\n",
       "  '\" isSponsored \" : false , \" tItemType \" : \" nt_product \" , \" skuType \" : \" \" , \" adFlag \" : \" 0 \" , \" directSimilarUrl \" : \" https : native m lazada com dynamicxresult item_img https 3A 2F 2Fstatic 01 daraz com np 2Fp 2F37a2c00ba3a075eeb4fd271d8e791d93 png src srp_findsimilar item_id 365900189 sku_id 1620626496 params 7B 22sub_src 22 3A 22long_press 22 2C 22src 22 3A 22srp_findsimilar 22 7D m tpp_findSimilar q camera similarType findSimilarV1 price 499 00 spuTriggerItem 0 \" , \" gridTitleLine \" : \" 2 \" , \" isFission \" : \" 0 \" , \" isBadgeAutoScroll \" : false , \" showCart \" : false , \" showBackIcon \" : false , \" showUnitPrice \" : false , \" itemUrl',\n",
       "  '\" : \" www daraz com np products samsung galaxy a26 samsung a36 samsung a56 camera glass screen protector i365900189 html \" , \" querystring \" : \" fs_ab 1 priceCompare skuId 3A1620626496 3Bsource 3Alazada search voucher 3Bsn 3Afeb7c324dba78761f11a6be643f46dc6 3BoriginPrice 3A49900 3BdisplayPrice 3A49900 3BsinglePromotionId 3A 1 3BsingleToolCode 3AmockedSalePrice 3BvoucherPricePlugin 3A0 3Btimestamp 3A1758872502749 c ratingscore 5 0 freeshipping 0 source search channelLpJumpArgs fuse_fs search 1 sale 4 price 499 review 1 location Bagmati 20Province stock 1 lang en request_id feb7c324dba78761f11a6be643f46dc6 clickTrackInfo query 253Acamera 253Bnid 253A365900189 253Bsrc 253ALazadaMainSrp 253Brn 253Afeb7c324dba78761f11a6be643f46dc6 253Bregion 253Anp 253Bsku 253A365900189_NP 253Bprice 253A499 253Bclient 253Adesktop 253Bsupplier_id 253A900152283013 253Bbiz_source 253Ah5_unknow 253Bslot 253A34 253Butlog_bucket_id 253A470687 253Basc_category_id 253A8204 253Bitem_id 253A365900189 253Bsku_id 253A1620626496 253Bshop_id 253A42772 253BtemplateInfo 253A 1_A3_C 25231103_L 2523 \" }'],\n",
       " ['{ \" name \" : \" Tempered Glass Lens , LCD Screen Protector for GoPro Hero 13 Action Camera \" , \" nid \" : \" 181562636 \" , \" itemId \" : \" 181562636 \" , \" icons \" : [ { \" domClass \" : \" 150565 \" , \" type \" : \" img \" , \" group \" : \" 6 \" , \" showType \" : \" 0 \" } , { \" domClass \" : \" 150318 \" , \" text \" : \" Gems save Rs 5 \" , \" type \" : \" text \" , \" group \" : \" 2 \" , \" showType \" : \" 0 \" } , { \" domClass \" : \" 175175',\n",
       "  '\" , \" type \" : \" img \" , \" group \" : \" 3 \" , \" showType \" : \" 0 \" } ] , \" image \" : \" https : static 01 daraz com np p d9147a8bd00d53d7375d9ca75174f2fc jpg \" , \" isSmartImage \" : false , \" utLogMap \" : { \" srp_name \" : \" LazadaMainSrp \" , \" x_object_type \" : \" item \" , \" src \" : \" organic \" , \" trafficType \" : \" organic \" , \" x_sku_ids \" : \" 1212744098 \" , \" x_item_ids \" : \" 181562636 \" , \" iconList \" : \" 150565 150318 175175 \" , \" SN \" : \" feb7c324dba78761f11a6be643f46dc6 \" , \" current_price \" : \" 498',\n",
       "  '\" , \" x_object_id \" : \" 181562636 \" } , \" originalPriceShow \" : \" \" , \" priceShow \" : \" Rs 498 \" , \" ratingScore \" : \" 5 0 \" , \" review \" : \" 1 \" , \" location \" : \" Bagmati Province \" , \" description \" : [ ] , \" thumbs \" : [ ] , \" sellerName \" : \" Galaxy Stores \" , \" sellerId \" : \" 900153132041 \" , \" brandName \" : \" No Brand \" , \" brandId \" : \" 39704 \" , \" cheapest_sku \" : \" 181562636_NP 1212744098 \" , \" skuId \" : \" 1212744098 \" , \" sku \" : \" 181562636_NP \" , \" categories',\n",
       "  '\" : [ 240 , 256 , 8204 ] , \" price \" : \" 498 \" , \" inStock \" : true , \" originalPrice \" : \" 699 \" , \" clickTrace \" : \" query : camera nid : 181562636 src : LazadaMainSrp rn : feb7c324dba78761f11a6be643f46dc6 region : np sku : 181562636_NP price : 498 client : desktop supplier_id : 900153132041 biz_source : h5_unknow slot : 35 utlog_bucket_id : 470687 asc_category_id : 8204 item_id : 181562636 sku_id : 1212744098 shop_id : 58419 templateInfo : 1_A3_C 1103_L \" , \" itemSoldCntShow \" : \" 9 sold \" , \" longImageDisplayable \" : false , \" skus \" : [ { \" id \" : \" 181562636_NP 1212744098 \" } ] , \" promotionId \" : \"',\n",
       "  '\" , \" isSponsored \" : false , \" tItemType \" : \" nt_product \" , \" skuType \" : \" \" , \" adFlag \" : \" 0 \" , \" directSimilarUrl \" : \" https : native m lazada com dynamicxresult item_img https 3A 2F 2Fstatic 01 daraz com np 2Fp 2Fd9147a8bd00d53d7375d9ca75174f2fc jpg src srp_findsimilar item_id 181562636 sku_id 1212744098 params 7B 22sub_src 22 3A 22long_press 22 2C 22src 22 3A 22srp_findsimilar 22 7D m tpp_findSimilar q camera similarType findSimilarV1 price 498 00 spuTriggerItem 0 \" , \" gridTitleLine \" : \" 2 \" , \" isFission \" : \" 0 \" , \" isBadgeAutoScroll \" : false , \" showCart \" : false , \" showBackIcon \" : false , \" showUnitPrice \" : false ,',\n",
       "  '\" itemUrl \" : \" www daraz com np products tempered glass lens lcd screen protector for gopro hero 13 action camera i181562636 html \" , \" querystring \" : \" fs_ab 1 priceCompare skuId 3A1212744098 3Bsource 3Alazada search voucher 3Bsn 3Afeb7c324dba78761f11a6be643f46dc6 3BoriginPrice 3A49800 3BdisplayPrice 3A49800 3BsinglePromotionId 3A50000018794008 3BsingleToolCode 3ApromPrice 3BvoucherPricePlugin 3A0 3Btimestamp 3A1758872502749 c ratingscore 5 0 freeshipping 0 source search channelLpJumpArgs fuse_fs search 1 sale 9 price 498 review 1 location Bagmati 20Province stock 1 lang en request_id feb7c324dba78761f11a6be643f46dc6 clickTrackInfo query 253Acamera 253Bnid 253A181562636 253Bsrc 253ALazadaMainSrp 253Brn 253Afeb7c324dba78761f11a6be643f46dc6 253Bregion 253Anp 253Bsku 253A181562636_NP 253Bprice 253A498 253Bclient 253Adesktop 253Bsupplier_id 253A900153132041 253Bbiz_source 253Ah5_unknow 253Bslot 253A35 253Butlog_bucket_id 253A470687 253Basc_category_id 253A8204 253Bitem_id 253A181562636 253Bsku_id 253A1212744098 253Bshop_id 253A58419 253BtemplateInfo 253A 1_A3_C 25231103_L 2523 \" }'],\n",
       " ['{ \" name \" : \" Lens Protector Ring for Samsung Galaxy A35 A55 5G Tempered Glass Back Camera Cover Protection Aluminum Alloy Lens Ring Cover Black \" , \" nid \" : \" 135495100 \" , \" itemId \" : \" 135495100 \" , \" icons \" : [ ] , \" image \" : \" https : static 01 daraz com np p def9507cb247448730efd72fe1bb0872 jpg \" , \" isSmartImage \" : false , \" utLogMap \" : { \" srp_name \" : \" LazadaMainSrp \" , \" x_object_type \" : \" item \" , \" src \" : \" organic \" , \" trafficType \" : \" organic \" , \" x_sku_ids \" : \" 1060377971 \" , \" x_item_ids \" : \" 135495100 \" ,',\n",
       "  '\" SN \" : \" feb7c324dba78761f11a6be643f46dc6 \" , \" current_price \" : \" 375 \" , \" x_object_id \" : \" 135495100 \" } , \" originalPriceShow \" : \" \" , \" priceShow \" : \" Rs 375 \" , \" ratingScore \" : \" 5 0 \" , \" review \" : \" 6 \" , \" location \" : \" Bagmati Province \" , \" description \" : [ ] , \" thumbs \" : [ ] , \" sellerName \" : \" Sketch Nepal \" , \" sellerId \" : \" 900152148046 \" , \" brandName \" : \" No Brand \" , \" brandId \" : \" 39704 \" , \" cheapest_sku \" : \" 135495100_NP 1060377971 \" , \" skuId \" :',\n",
       "  '\" 1060377971 \" , \" sku \" : \" 135495100_NP \" , \" categories \" : [ 240 , 256 , 8204 ] , \" price \" : \" 375 \" , \" inStock \" : true , \" originalPrice \" : \" 475 \" , \" clickTrace \" : \" query : camera nid : 135495100 src : LazadaMainSrp rn : feb7c324dba78761f11a6be643f46dc6 region : np sku : 135495100_NP price : 375 client : desktop supplier_id : 900152148046 biz_source : h5_unknow slot : 36 utlog_bucket_id : 470687 asc_category_id : 8204 item_id : 135495100 sku_id : 1060377971 shop_id : 39023 templateInfo : 1_A3_C 1103_L \" , \" itemSoldCntShow \" : \" 23 sold \" , \" longImageDisplayable \" : false , \" skus \" : [ { \" id',\n",
       "  '\" : \" 135495100_NP 1060377971 \" } ] , \" promotionId \" : \" \" , \" isSponsored \" : false , \" tItemType \" : \" nt_product \" , \" skuType \" : \" \" , \" adFlag \" : \" 0 \" , \" directSimilarUrl \" : \" https : native m lazada com dynamicxresult item_img https 3A 2F 2Fstatic 01 daraz com np 2Fp 2Fdef9507cb247448730efd72fe1bb0872 jpg src srp_findsimilar item_id 135495100 sku_id 1060377971 params 7B 22sub_src 22 3A 22long_press 22 2C 22src 22 3A 22srp_findsimilar 22 7D m tpp_findSimilar q camera similarType findSimilarV1 price 375 00 spuTriggerItem 0 \" , \" gridTitleLine \" : \" 2 \" , \" isFission \" : \" 0 \" , \" isBadgeAutoScroll \" : false , \" showCart \" :',\n",
       "  'false , \" showBackIcon \" : false , \" showUnitPrice \" : false , \" itemUrl \" : \" www daraz com np products lens protector ring for samsung galaxy a35 a55 5g tempered glass back camera cover protection aluminum alloy lens ring cover black i135495100 html \" , \" querystring \" : \" fs_ab 1 priceCompare skuId 3A1060377971 3Bsource 3Alazada search voucher 3Bsn 3Afeb7c324dba78761f11a6be643f46dc6 3BoriginPrice 3A37500 3BdisplayPrice 3A37500 3BsinglePromotionId 3A 1 3BsingleToolCode 3AmockedSalePrice 3BvoucherPricePlugin 3A0 3Btimestamp 3A1758872502749 c ratingscore 5 0 freeshipping 0 source search channelLpJumpArgs fuse_fs search 1 sale 23 price 375 review 6 location Bagmati 20Province stock 1 lang en request_id feb7c324dba78761f11a6be643f46dc6 clickTrackInfo query 253Acamera 253Bnid 253A135495100 253Bsrc 253ALazadaMainSrp 253Brn 253Afeb7c324dba78761f11a6be643f46dc6 253Bregion 253Anp 253Bsku 253A135495100_NP 253Bprice 253A375 253Bclient 253Adesktop 253Bsupplier_id 253A900152148046 253Bbiz_source 253Ah5_unknow 253Bslot 253A36',\n",
       "  '253Butlog_bucket_id 253A470687 253Basc_category_id 253A8204 253Bitem_id 253A135495100 253Bsku_id 253A1060377971 253Bshop_id 253A39023 253BtemplateInfo 253A 1_A3_C 25231103_L 2523 \" }'],\n",
       " ['{ \" name \" : \" Insta 360 X3 Full Glue Curved Tempered Glass \" , \" nid \" : \" 134241594 \" , \" itemId \" : \" 134241594 \" , \" icons \" : [ { \" domClass \" : \" 150565 \" , \" type \" : \" img \" , \" group \" : \" 6 \" , \" showType \" : \" 0 \" } , { \" domClass \" : \" 150318 \" , \" text \" : \" Gems save Rs 5 \" , \" type \" : \" text \" , \" group \" : \" 2 \" , \" showType \" : \" 0 \" } , { \" domClass \" : \" 175175 \" , \" type \"',\n",
       "  ': \" img \" , \" group \" : \" 3 \" , \" showType \" : \" 0 \" } ] , \" image \" : \" https : static 01 daraz com np p 299999092f0edbed5a7f50a1cbb786e9 jpg \" , \" isSmartImage \" : false , \" utLogMap \" : { \" srp_name \" : \" LazadaMainSrp \" , \" x_object_type \" : \" item \" , \" src \" : \" organic \" , \" trafficType \" : \" organic \" , \" x_sku_ids \" : \" 1057583594 \" , \" x_item_ids \" : \" 134241594 \" , \" iconList \" : \" 150565 150318 175175 \" , \" SN \" : \" feb7c324dba78761f11a6be643f46dc6 \" , \" current_price \" : \" 450 \" , \" x_object_id \"',\n",
       "  ': \" 134241594 \" } , \" originalPriceShow \" : \" \" , \" priceShow \" : \" Rs 450 \" , \" ratingScore \" : \" 4 0 \" , \" review \" : \" 1 \" , \" location \" : \" Bagmati Province \" , \" description \" : [ \" u2022 Ceramic Flexible Full Glue Protective Glass for Zeblaze Btalk 2 lite \" , \" u2022 Provides full coverage protection for your smartwatch screen \" , \" u2022 Made with high quality ceramic material for durability \" , \" u2022 Flexible design allows for easy installation and removal \" , \" u2022 Full glue adhesive ensures a secure fit to your device \" , \" u2022 Compatible with Zeblaze Btalk 2 lite smartwatches \"',\n",
       "  ', \" u2022 Protects against scratches , cracks , and other damage \" , \" u2022 Easy to clean and maintain for long lasting use \" ] , \" thumbs \" : [ ] , \" sellerName \" : \" Titan Tech \" , \" sellerId \" : \" 900159732413 \" , \" brandName \" : \" No Brand \" , \" brandId \" : \" 39704 \" , \" cheapest_sku \" : \" 134241594_NP 1057583594 \" , \" skuId \" : \" 1057583594 \" , \" sku \" : \" 134241594_NP \" , \" categories \" : [ 240 , 256 , 8204 ] , \" price \" : \" 450 \" , \" inStock \" : true , \" clickTrace \" : \" query : camera',\n",
       "  'nid : 134241594 src : LazadaMainSrp rn : feb7c324dba78761f11a6be643f46dc6 region : np sku : 134241594_NP price : 450 client : desktop supplier_id : 900159732413 biz_source : h5_unknow slot : 37 utlog_bucket_id : 470687 asc_category_id : 8204 item_id : 134241594 sku_id : 1057583594 shop_id : 102439 templateInfo : 1_A3_C 1103_L \" , \" itemSoldCntShow \" : \" 9 sold \" , \" longImageDisplayable \" : false , \" skus \" : [ { \" id \" : \" 134241594_NP 1057583594 \" } ] , \" promotionId \" : \" \" , \" isSponsored \" : false , \" tItemType \" : \" nt_product \" , \" skuType \" : \" \" , \" adFlag \" : \" 0 \" , \" directSimilarUrl \" : \" https : native m',\n",
       "  'lazada com dynamicxresult item_img https 3A 2F 2Fstatic 01 daraz com np 2Fp 2F299999092f0edbed5a7f50a1cbb786e9 jpg src srp_findsimilar item_id 134241594 sku_id 1057583594 params 7B 22sub_src 22 3A 22long_press 22 2C 22src 22 3A 22srp_findsimilar 22 7D m tpp_findSimilar q camera similarType findSimilarV1 price 450 00 spuTriggerItem 0 \" , \" gridTitleLine \" : \" 2 \" , \" isFission \" : \" 0 \" , \" isBadgeAutoScroll \" : false , \" showCart \" : false , \" showBackIcon \" : false , \" showUnitPrice \" : false , \" itemUrl \" : \" www daraz com np products insta 360 x3 full glue curved tempered glass i134241594 html \" , \" querystring \" : \" fs_ab 1 priceCompare skuId 3A1057583594 3Bsource 3Alazada search voucher 3Bsn 3Afeb7c324dba78761f11a6be643f46dc6 3BoriginPrice 3A45000',\n",
       "  '3BdisplayPrice 3A45000 3BsinglePromotionId 3A50000018794008 3BsingleToolCode 3ApromPrice 3BvoucherPricePlugin 3A0 3Btimestamp 3A1758872502749 c ratingscore 4 0 freeshipping 0 source search channelLpJumpArgs fuse_fs search 1 sale 9 price 4 5E 202 review 1 location Bagmati 20Province stock 1 lang en request_id feb7c324dba78761f11a6be643f46dc6 clickTrackInfo query 253Acamera 253Bnid 253A134241594 253Bsrc 253ALazadaMainSrp 253Brn 253Afeb7c324dba78761f11a6be643f46dc6 253Bregion 253Anp 253Bsku 253A134241594_NP 253Bprice 253A450 253Bclient 253Adesktop 253Bsupplier_id 253A900159732413 253Bbiz_source 253Ah5_unknow 253Bslot 253A37 253Butlog_bucket_id 253A470687 253Basc_category_id 253A8204 253Bitem_id 253A134241594 253Bsku_id 253A1057583594 253Bshop_id 253A102439 253BtemplateInfo 253A 1_A3_C 25231103_L 2523 \" }'],\n",
       " ['{ \" name \" : \" Apple iPhone 14 Pro iPhone 14 Pro Max Camera Film Tempered Glass In Different Color \" , \" nid \" : \" 131511853 \" , \" itemId \" : \" 131511853 \" , \" icons \" : [ { \" domClass \" : \" 150565 \" , \" type \" : \" img \" , \" group \" : \" 6 \" , \" showType \" : \" 0 \" } , { \" domClass \" : \" 150318 \" , \" text \" : \" Gems save Rs 17 \" , \" type \" : \" text \" , \" group \" : \" 2 \" , \" showType \" : \" 0 \" } ] , \" image \" :',\n",
       "  '\" https : static 01 daraz com np p f46e85fa1c86a0387159506d98871cc1 jpg \" , \" isSmartImage \" : false , \" utLogMap \" : { \" srp_name \" : \" LazadaMainSrp \" , \" x_object_type \" : \" item \" , \" src \" : \" organic \" , \" trafficType \" : \" organic \" , \" x_sku_ids \" : \" 1038671036 \" , \" x_item_ids \" : \" 131511853 \" , \" iconList \" : \" 150565 150318 \" , \" SN \" : \" feb7c324dba78761f11a6be643f46dc6 \" , \" current_price \" : \" 550 \" , \" x_object_id \" : \" 131511853 \" } , \" originalPriceShow \" : \" \" , \" priceShow \" : \" Rs 550 \" , \" ratingScore \" : \" 5',\n",
       "  '0 \" , \" review \" : \" 1 \" , \" location \" : \" Bagmati Province \" , \" description \" : [ \" Tempered glass screen protector for iPhone 14 Pro iPhone 14 Pro Max camera u2022 Available in different colors to match your style \" , \" u2022 Protects against scratches and impact \" , \" u2022 Easy to install and does not affect camera functionality \" ] , \" thumbs \" : [ ] , \" sellerName \" : \" Freakypanda \" , \" sellerId \" : \" 1010509 \" , \" brandName \" : \" No Brand \" , \" brandId \" : \" 39704 \" , \" cheapest_sku \" : \" 131511853_NP 1038671036 \" , \" skuId \" : \" 1038671036',\n",
       "  '\" , \" sku \" : \" 131511853_NP \" , \" categories \" : [ 240 , 256 , 8204 ] , \" price \" : \" 550 \" , \" inStock \" : true , \" originalPrice \" : \" 590 \" , \" clickTrace \" : \" query : camera nid : 131511853 src : LazadaMainSrp rn : feb7c324dba78761f11a6be643f46dc6 region : np sku : 131511853_NP price : 550 client : desktop supplier_id : 1010509 biz_source : h5_unknow slot : 38 utlog_bucket_id : 470687 asc_category_id : 8204 item_id : 131511853 sku_id : 1038671036 shop_id : 20257 templateInfo : 1_A3_C 1103_L \" , \" itemSoldCntShow \" : \" 8 sold \" , \" longImageDisplayable \" : false , \" skus \" : [ { \" id \" :',\n",
       "  '\" 131511853_NP 1038671036 \" } ] , \" promotionId \" : \" \" , \" isSponsored \" : false , \" tItemType \" : \" nt_product \" , \" skuType \" : \" \" , \" adFlag \" : \" 0 \" , \" directSimilarUrl \" : \" https : native m lazada com dynamicxresult item_img https 3A 2F 2Fstatic 01 daraz com np 2Fp 2Ff46e85fa1c86a0387159506d98871cc1 jpg src srp_findsimilar item_id 131511853 sku_id 1038671036 params 7B 22sub_src 22 3A 22long_press 22 2C 22src 22 3A 22srp_findsimilar 22 7D m tpp_findSimilar q camera similarType findSimilarV1 price 550 00 spuTriggerItem 0 \" , \" gridTitleLine \" : \" 2 \" , \" isFission \" : \" 0 \" , \" isBadgeAutoScroll \" : false , \" showCart \" : false ,',\n",
       "  '\" showBackIcon \" : false , \" showUnitPrice \" : false , \" itemUrl \" : \" www daraz com np products apple iphone 14 pro iphone 14 pro max camera film tempered glass in different color i131511853 html \" , \" querystring \" : \" fs_ab 1 priceCompare skuId 3A1038671036 3Bsource 3Alazada search voucher 3Bsn 3Afeb7c324dba78761f11a6be643f46dc6 3BoriginPrice 3A55000 3BdisplayPrice 3A55000 3BsinglePromotionId 3A 1 3BsingleToolCode 3AmockedSalePrice 3BvoucherPricePlugin 3A0 3Btimestamp 3A1758872502749 c ratingscore 5 0 freeshipping 0 source search channelLpJumpArgs fuse_fs search 1 sale 8 price 5 5E 202 review 1 location Bagmati 20Province stock 1 lang en request_id feb7c324dba78761f11a6be643f46dc6 clickTrackInfo query 253Acamera 253Bnid 253A131511853 253Bsrc 253ALazadaMainSrp 253Brn 253Afeb7c324dba78761f11a6be643f46dc6 253Bregion 253Anp 253Bsku 253A131511853_NP 253Bprice 253A550 253Bclient 253Adesktop 253Bsupplier_id 253A1010509 253Bbiz_source 253Ah5_unknow 253Bslot 253A38 253Butlog_bucket_id 253A470687 253Basc_category_id 253A8204 253Bitem_id 253A131511853',\n",
       "  '253Bsku_id 253A1038671036 253Bshop_id 253A20257 253BtemplateInfo 253A 1_A3_C 25231103_L 2523 \" }'],\n",
       " ['{ \" name \" : \" Back Camera Lens Glass Protector For 15 Pro Max \" , \" nid \" : \" 130112433 \" , \" itemId \" : \" 130112433 \" , \" icons \" : [ { \" domClass \" : \" 150565 \" , \" type \" : \" img \" , \" group \" : \" 6 \" , \" showType \" : \" 0 \" } ] , \" image \" : \" https : static 01 daraz com np p aea5511506a6583a51428e563f0d83c1 jpg \" , \" isSmartImage \" : false , \" utLogMap \" : { \" srp_name \" : \" LazadaMainSrp \" , \" x_object_type \" : \" item \" , \" src \" : \" organic \" , \" trafficType \"',\n",
       "  ': \" organic \" , \" x_sku_ids \" : \" 1038006068 \" , \" x_item_ids \" : \" 130112433 \" , \" iconList \" : \" 150565 \" , \" SN \" : \" feb7c324dba78761f11a6be643f46dc6 \" , \" current_price \" : \" 199 \" , \" x_object_id \" : \" 130112433 \" } , \" originalPriceShow \" : \" \" , \" priceShow \" : \" Rs 199 \" , \" ratingScore \" : \" 4 833333333333333 \" , \" review \" : \" 6 \" , \" location \" : \" Bagmati Province \" , \" description \" : [ \" Step 1 : \" , \" Product Title : Back Camera Lens Glass Protector For 15 Pro Max \" , \" Category Path : Cameras gt',\n",
       "  'Camera Accessories gt Camera Screen Protector \" , \" Step 2 : \" , \" Additional Keywords : None \" , \" Step 3 : \" , \" u2022 Protects back camera lens from scratches and damage \" , \" u2022 Specifically designed for 15 Pro Max camera lens \" , \" u2022 Easy to install and provides a clear view \" , \" u2022 Durable glass material ensures long lasting protection \" , \" Step 4 : \" , \" No false information found \" , \" Step 5 : \" , \" Return the product highlights to the user \" ] , \" thumbs \" : [ ] , \" sellerName \" : \" Tech Eleven \" , \" sellerId \" : \" 900164096666 \" ,',\n",
       "  '\" brandName \" : \" No Brand \" , \" brandId \" : \" 39704 \" , \" cheapest_sku \" : \" 130112433_NP 1038006068 \" , \" skuId \" : \" 1038006068 \" , \" sku \" : \" 130112433_NP \" , \" categories \" : [ 240 , 256 , 8204 ] , \" price \" : \" 199 \" , \" inStock \" : true , \" clickTrace \" : \" query : camera nid : 130112433 src : LazadaMainSrp rn : feb7c324dba78761f11a6be643f46dc6 region : np sku : 130112433_NP price : 199 client : desktop supplier_id : 900164096666 biz_source : h5_unknow slot : 39 utlog_bucket_id : 470687 asc_category_id : 8204 item_id : 130112433 sku_id : 1038006068 shop_id : 105674 templateInfo : 1_A3_C 1103_L \" , \"',\n",
       "  'itemSoldCntShow \" : \" 29 sold \" , \" longImageDisplayable \" : false , \" skus \" : [ { \" id \" : \" 130112433_NP 1038006068 \" } ] , \" promotionId \" : \" \" , \" isSponsored \" : false , \" tItemType \" : \" nt_product \" , \" skuType \" : \" \" , \" adFlag \" : \" 0 \" , \" directSimilarUrl \" : \" https : native m lazada com dynamicxresult item_img https 3A 2F 2Fstatic 01 daraz com np 2Fp 2Faea5511506a6583a51428e563f0d83c1 jpg src srp_findsimilar item_id 130112433 sku_id 1038006068 params 7B 22sub_src 22 3A 22long_press 22 2C 22src 22 3A 22srp_findsimilar 22 7D m tpp_findSimilar q camera similarType findSimilarV1 price 199 00 spuTriggerItem 0 \" , \" gridTitleLine \" :',\n",
       "  '\" 2 \" , \" isFission \" : \" 0 \" , \" isBadgeAutoScroll \" : false , \" showCart \" : false , \" showBackIcon \" : false , \" showUnitPrice \" : false , \" itemUrl \" : \" www daraz com np products back camera lens glass protector for 15 pro max i130112433 html \" , \" querystring \" : \" fs_ab 1 priceCompare skuId 3A1038006068 3Bsource 3Alazada search voucher 3Bsn 3Afeb7c324dba78761f11a6be643f46dc6 3BoriginPrice 3A19900 3BdisplayPrice 3A19900 3BsinglePromotionId 3A 1 3BsingleToolCode 3AmockedSalePrice 3BvoucherPricePlugin 3A0 3Btimestamp 3A1758872502749 c ratingscore 4 833333333333333 freeshipping 0 source search channelLpJumpArgs fuse_fs search 1 sale 29 price 199 review 6 location Bagmati 20Province stock 1 lang en request_id feb7c324dba78761f11a6be643f46dc6 clickTrackInfo query 253Acamera 253Bnid 253A130112433 253Bsrc 253ALazadaMainSrp 253Brn 253Afeb7c324dba78761f11a6be643f46dc6 253Bregion 253Anp 253Bsku 253A130112433_NP',\n",
       "  '253Bprice 253A199 253Bclient 253Adesktop 253Bsupplier_id 253A900164096666 253Bbiz_source 253Ah5_unknow 253Bslot 253A39 253Butlog_bucket_id 253A470687 253Basc_category_id 253A8204 253Bitem_id 253A130112433 253Bsku_id 253A1038006068 253Bshop_id 253A105674 253BtemplateInfo 253A 1_A3_C 25231103_L 2523 \" }']]"
      ]
     },
     "execution_count": 21,
     "metadata": {},
     "output_type": "execute_result"
    }
   ],
   "source": [
    "all_chunks"
   ]
  },
  {
   "cell_type": "markdown",
   "id": "fc86b35e",
   "metadata": {},
   "source": [
    "## Qdrant Operations"
   ]
  },
  {
   "cell_type": "code",
   "execution_count": 25,
   "id": "a92f6e9b",
   "metadata": {},
   "outputs": [
    {
     "name": "stderr",
     "output_type": "stream",
     "text": [
      "Fetching 5 files:   0%|          | 0/5 [00:00<?, ?it/s]c:\\Users\\royka\\.conda\\envs\\rag\\lib\\site-packages\\huggingface_hub\\file_download.py:143: UserWarning: `huggingface_hub` cache-system uses symlinks by default to efficiently store duplicated files but your machine does not support them in C:\\Users\\royka\\AppData\\Local\\Temp\\fastembed_cache\\models--colbert-ir--colbertv2.0. Caching files will still work but in a degraded version that might require more space on your disk. This warning can be disabled by setting the `HF_HUB_DISABLE_SYMLINKS_WARNING` environment variable. For more details, see https://huggingface.co/docs/huggingface_hub/how-to-cache#limitations.\n",
      "To support symlinks on Windows, you either need to activate Developer Mode or to run Python as an administrator. In order to activate developer mode, see this article: https://docs.microsoft.com/en-us/windows/apps/get-started/enable-your-device-for-development\n",
      "  warnings.warn(message)\n",
      "Fetching 5 files: 100%|██████████| 5/5 [00:41<00:00,  8.37s/it]\n"
     ]
    }
   ],
   "source": [
    "collection_name = \"Reranking_Hybrid_Search\"\n",
    "dense_encoder = TextEmbedding(\"sentence-transformers/all-MiniLM-L6-v2\")\n",
    "sparse_encoder = SparseTextEmbedding(\"Qdrant/bm25\")\n",
    "late_colbert_embedder = LateInteractionTextEmbedding(\"colbert-ir/colbertv2.0\")"
   ]
  },
  {
   "cell_type": "code",
   "execution_count": 26,
   "id": "100308c0",
   "metadata": {},
   "outputs": [],
   "source": [
    "client = QdrantClient(url = \"http://localhost:6333\")"
   ]
  },
  {
   "cell_type": "code",
   "execution_count": 33,
   "id": "6bf1577a",
   "metadata": {},
   "outputs": [
    {
     "data": {
      "text/plain": [
       "384"
      ]
     },
     "execution_count": 33,
     "metadata": {},
     "output_type": "execute_result"
    }
   ],
   "source": [
    "dense_encoder.embedding_size"
   ]
  },
  {
   "cell_type": "code",
   "execution_count": 74,
   "id": "8667720c",
   "metadata": {},
   "outputs": [
    {
     "data": {
      "text/plain": [
       "128"
      ]
     },
     "execution_count": 74,
     "metadata": {},
     "output_type": "execute_result"
    }
   ],
   "source": [
    "late_colbert_embedder.embedding_size"
   ]
  },
  {
   "cell_type": "code",
   "execution_count": 98,
   "id": "2a6b00a3",
   "metadata": {},
   "outputs": [],
   "source": [
    "if not client.collection_exists(collection_name = collection_name):\n",
    "    client.create_collection(\n",
    "        collection_name = collection_name,\n",
    "        vectors_config= {\n",
    "            \"dense\" : models.VectorParams(\n",
    "                size = dense_encoder.embedding_size,\n",
    "                distance= models.Distance.COSINE\n",
    "            ),\n",
    "            \"lateInteraction\" : models.VectorParams(\n",
    "                size = late_colbert_embedder.embedding_size,\n",
    "                distance = models.Distance.COSINE,\n",
    "                multivector_config=models.MultiVectorConfig(\n",
    "                    comparator=models.MultiVectorComparator.MAX_SIM\n",
    "                ),\n",
    "                hnsw_config=models.HnswConfigDiff(m=0)\n",
    "            )\n",
    "        },\n",
    "        sparse_vectors_config={\"sparse\": models.SparseVectorParams(modifier = models.Modifier.IDF)}\n",
    "        )\n",
    "    "
   ]
  },
  {
   "cell_type": "code",
   "execution_count": 35,
   "id": "c901dfb1",
   "metadata": {},
   "outputs": [
    {
     "data": {
      "text/plain": [
       "UpdateResult(operation_id=1, status=<UpdateStatus.COMPLETED: 'completed'>)"
      ]
     },
     "execution_count": 35,
     "metadata": {},
     "output_type": "execute_result"
    }
   ],
   "source": [
    "client.create_payload_index(\n",
    "    collection_name=collection_name,\n",
    "    field_name = \"doc_id\",\n",
    "    field_schema = \"integer\"\n",
    ")"
   ]
  },
  {
   "cell_type": "code",
   "execution_count": 36,
   "id": "e2e6bb14",
   "metadata": {},
   "outputs": [
    {
     "data": {
      "text/plain": [
       "UpdateResult(operation_id=3, status=<UpdateStatus.COMPLETED: 'completed'>)"
      ]
     },
     "execution_count": 36,
     "metadata": {},
     "output_type": "execute_result"
    }
   ],
   "source": [
    "client.create_payload_index(\n",
    "    collection_name=collection_name,\n",
    "    field_name = \"chunk_id\",\n",
    "    field_schema = \"integer\"\n",
    ")"
   ]
  },
  {
   "cell_type": "code",
   "execution_count": 37,
   "id": "7be854a2",
   "metadata": {},
   "outputs": [
    {
     "data": {
      "text/plain": [
       "UpdateResult(operation_id=5, status=<UpdateStatus.COMPLETED: 'completed'>)"
      ]
     },
     "execution_count": 37,
     "metadata": {},
     "output_type": "execute_result"
    }
   ],
   "source": [
    "client.create_payload_index(\n",
    "    collection_name=collection_name,\n",
    "    field_name = \"file_name\",\n",
    "    field_schema = \"keyword\"\n",
    ")"
   ]
  },
  {
   "cell_type": "code",
   "execution_count": 42,
   "id": "36b206d4",
   "metadata": {},
   "outputs": [
    {
     "data": {
      "text/plain": [
       "40"
      ]
     },
     "execution_count": 42,
     "metadata": {},
     "output_type": "execute_result"
    }
   ],
   "source": [
    "len(all_chunks)"
   ]
  },
  {
   "cell_type": "code",
   "execution_count": 43,
   "id": "dd18a31e",
   "metadata": {},
   "outputs": [
    {
     "data": {
      "text/plain": [
       "['{ \" name \" : \" Redmi Note 14 5g Camera Protector Mettalic Ring Glass \" , \" nid \" : \" 361653530 \" , \" itemId \" : \" 361653530 \" , \" icons \" : [ { \" domClass \" : \" 150565 \" , \" type \" : \" img \" , \" group \" : \" 6 \" , \" showType \" : \" 0 \" } , { \" domClass \" : \" 175175 \" , \" type \" : \" img \" , \" group \" : \" 3 \" , \" showType \" : \" 0 \" } ] , \" image \" : \" https : static 01 daraz com np p 59a3b411d874aeeea2f115c998b18143 jpg \" , \" isSmartImage \" :',\n",
       " 'false , \" utLogMap \" : { \" srp_name \" : \" LazadaMainSrp \" , \" x_object_type \" : \" item \" , \" src \" : \" organic \" , \" trafficType \" : \" organic \" , \" x_sku_ids \" : \" 1592835298 \" , \" x_item_ids \" : \" 361653530 \" , \" iconList \" : \" 150565 175175 \" , \" SN \" : \" feb7c324dba78761f11a6be643f46dc6 \" , \" current_price \" : \" 239 \" , \" x_object_id \" : \" 361653530 \" } , \" originalPriceShow \" : \" \" , \" priceShow \" : \" Rs 239 \" , \" ratingScore \" : \" 4 4 \" , \" review \" : \" 5 \" , \" location \" : \" Bagmati',\n",
       " 'Province \" , \" description \" : [ ] , \" thumbs \" : [ ] , \" sellerName \" : \" Zap Home \" , \" sellerId \" : \" 900224992449 \" , \" brandName \" : \" No Brand \" , \" brandId \" : \" 39704 \" , \" cheapest_sku \" : \" 361653530_NP 1592835298 \" , \" skuId \" : \" 1592835298 \" , \" sku \" : \" 361653530_NP \" , \" categories \" : [ 240 , 256 , 8204 ] , \" price \" : \" 239 \" , \" inStock \" : true , \" originalPrice \" : \" 299 \" , \" clickTrace \" : \" query : camera nid : 361653530 src : LazadaMainSrp rn : feb7c324dba78761f11a6be643f46dc6 region',\n",
       " ': np sku : 361653530_NP price : 239 client : desktop supplier_id : 900224992449 biz_source : h5_unknow slot : 0 utlog_bucket_id : 470687 asc_category_id : 8204 item_id : 361653530 sku_id : 1592835298 shop_id : 140324 templateInfo : 1_A3_C 1103_L \" , \" itemSoldCntShow \" : \" 30 sold \" , \" longImageDisplayable \" : false , \" skus \" : [ { \" id \" : \" 361653530_NP 1592835298 \" } ] , \" promotionId \" : \" \" , \" isSponsored \" : false , \" tItemType \" : \" nt_product \" , \" skuType \" : \" \" , \" adFlag \" : \" 0 \" , \" directSimilarUrl \" : \" https : native m lazada com dynamicxresult item_img https 3A 2F 2Fstatic 01 daraz',\n",
       " 'com np 2Fp 2F59a3b411d874aeeea2f115c998b18143 jpg src srp_findsimilar item_id 361653530 sku_id 1592835298 params 7B 22sub_src 22 3A 22long_press 22 2C 22src 22 3A 22srp_findsimilar 22 7D m tpp_findSimilar q camera similarType findSimilarV1 price 239 00 spuTriggerItem 0 \" , \" gridTitleLine \" : \" 2 \" , \" isFission \" : \" 0 \" , \" isBadgeAutoScroll \" : false , \" showCart \" : false , \" showBackIcon \" : false , \" showUnitPrice \" : false , \" itemUrl \" : \" www daraz com np products redmi note 14 5g camera protector mettalic ring glass i361653530 html \" , \" querystring \" : \" fs_ab 1 priceCompare skuId 3A1592835298 3Bsource 3Alazada search voucher 3Bsn 3Afeb7c324dba78761f11a6be643f46dc6 3BoriginPrice 3A23900 3BdisplayPrice 3A23900 3BsinglePromotionId 3A50000018794008 3BsingleToolCode 3ApromPrice 3BvoucherPricePlugin 3A0 3Btimestamp',\n",
       " '3A1758872502749 c ratingscore 4 4 freeshipping 0 source search channelLpJumpArgs fuse_fs search 1 sale 30 price 239 review 5 location Bagmati 20Province stock 1 lang en request_id feb7c324dba78761f11a6be643f46dc6 clickTrackInfo query 253Acamera 253Bnid 253A361653530 253Bsrc 253ALazadaMainSrp 253Brn 253Afeb7c324dba78761f11a6be643f46dc6 253Bregion 253Anp 253Bsku 253A361653530_NP 253Bprice 253A239 253Bclient 253Adesktop 253Bsupplier_id 253A900224992449 253Bbiz_source 253Ah5_unknow 253Bslot 253A0 253Butlog_bucket_id 253A470687 253Basc_category_id 253A8204 253Bitem_id 253A361653530 253Bsku_id 253A1592835298 253Bshop_id 253A140324 253BtemplateInfo 253A 1_A3_C 25231103_L 2523 \" }']"
      ]
     },
     "execution_count": 43,
     "metadata": {},
     "output_type": "execute_result"
    }
   ],
   "source": [
    "all_chunks[0]"
   ]
  },
  {
   "cell_type": "code",
   "execution_count": 60,
   "id": "5d6960ff",
   "metadata": {},
   "outputs": [],
   "source": [
    "all_embeds = []\n",
    "for i in range(len(all_chunks)):\n",
    "    dense_embed = list(dense_encoder.embed(chunk for chunk in all_chunks[i]))\n",
    "    all_embeds.append(dense_embed)"
   ]
  },
  {
   "cell_type": "code",
   "execution_count": 65,
   "id": "b37ebfd8",
   "metadata": {},
   "outputs": [
    {
     "data": {
      "text/plain": [
       "384"
      ]
     },
     "execution_count": 65,
     "metadata": {},
     "output_type": "execute_result"
    }
   ],
   "source": [
    "len(all_embeds[39][0])"
   ]
  },
  {
   "cell_type": "code",
   "execution_count": 66,
   "id": "ec0dda6c",
   "metadata": {},
   "outputs": [],
   "source": [
    "all_sparse_embeds = []\n",
    "for i in range(len(all_chunks)):\n",
    "    sparse_embeds = list(sparse_encoder.embed(chunk for chunk in all_chunks[i]))\n",
    "    all_sparse_embeds.append(sparse_embeds)"
   ]
  },
  {
   "cell_type": "code",
   "execution_count": 67,
   "id": "7e9a18c9",
   "metadata": {},
   "outputs": [
    {
     "data": {
      "text/plain": [
       "40"
      ]
     },
     "execution_count": 67,
     "metadata": {},
     "output_type": "execute_result"
    }
   ],
   "source": [
    "len(all_sparse_embeds)"
   ]
  },
  {
   "cell_type": "code",
   "execution_count": 88,
   "id": "438593eb",
   "metadata": {},
   "outputs": [
    {
     "data": {
      "text/plain": [
       "SparseEmbedding(values=array([1.51969779, 1.51969779, 1.51969779, 1.51969779, 1.51969779,\n",
       "       1.51969779, 1.51969779, 1.51969779, 1.51969779, 1.51969779,\n",
       "       1.51969779, 1.79763805, 1.51969779, 1.51969779, 1.79763805,\n",
       "       1.51969779, 1.79763805, 1.79763805, 1.79763805, 1.51969779,\n",
       "       1.79763805, 1.79763805, 1.51969779, 1.51969779, 1.51969779,\n",
       "       1.51969779, 1.51969779, 1.51969779, 1.51969779, 1.51969779,\n",
       "       1.51969779, 1.51969779, 1.51969779, 1.51969779, 1.51969779]), indices=array([ 609270800, 1778632963, 1062750627, 1749031367, 1059329584,\n",
       "        841855028, 1456707543,   11975937, 1787999043, 1048581230,\n",
       "       1857907475, 1016489826,  655156632,  784623807, 1805940582,\n",
       "       1389699125, 2045916435, 1180690720, 1021187622,  670727360,\n",
       "       2146037506,  764297089,  571576912,  264741300,  301030427,\n",
       "        494071086, 1733861963, 1642882560, 1394524943, 1746685302,\n",
       "       1962653560, 1737498726, 1740037055,  492009405,  171018802]))"
      ]
     },
     "execution_count": 88,
     "metadata": {},
     "output_type": "execute_result"
    }
   ],
   "source": [
    "all_sparse_embeds[0][0]"
   ]
  },
  {
   "cell_type": "code",
   "execution_count": 68,
   "id": "4b804c9e",
   "metadata": {},
   "outputs": [],
   "source": [
    "all_colbert_embeds = []\n",
    "for i in range(len(all_chunks)):\n",
    "    colbert_embeds = list(late_colbert_embedder.embed(chunk for chunk in all_chunks[i]))\n",
    "    all_colbert_embeds.append(colbert_embeds)"
   ]
  },
  {
   "cell_type": "code",
   "execution_count": 69,
   "id": "9949a0d7",
   "metadata": {},
   "outputs": [
    {
     "data": {
      "text/plain": [
       "40"
      ]
     },
     "execution_count": 69,
     "metadata": {},
     "output_type": "execute_result"
    }
   ],
   "source": [
    "len(all_colbert_embeds)"
   ]
  },
  {
   "cell_type": "code",
   "execution_count": 70,
   "id": "91ba1fae",
   "metadata": {},
   "outputs": [
    {
     "data": {
      "text/plain": [
       "6"
      ]
     },
     "execution_count": 70,
     "metadata": {},
     "output_type": "execute_result"
    }
   ],
   "source": [
    "len(all_colbert_embeds[0])"
   ]
  },
  {
   "cell_type": "code",
   "execution_count": 72,
   "id": "8076e7cd",
   "metadata": {},
   "outputs": [
    {
     "data": {
      "text/plain": [
       "array([[ 0.00251025, -0.01207562, -0.04687465, ...,  0.18435912,\n",
       "         0.03935328,  0.14785266],\n",
       "       [ 0.012442  , -0.02606458,  0.02447613, ...,  0.12791172,\n",
       "         0.10145351,  0.1175167 ],\n",
       "       [ 0.26488927, -0.02670211, -0.01263453, ...,  0.00032795,\n",
       "         0.02624566, -0.04959461],\n",
       "       ...,\n",
       "       [ 0.01959956, -0.16498293, -0.05470958, ...,  0.20559762,\n",
       "         0.00072175,  0.08538444],\n",
       "       [ 0.00889958, -0.07320152, -0.10042106, ...,  0.17369933,\n",
       "         0.10223102,  0.05024001],\n",
       "       [-0.03807788, -0.05215594, -0.00461329, ...,  0.10503891,\n",
       "         0.05580763,  0.08187871]], shape=(97, 128), dtype=float32)"
      ]
     },
     "execution_count": 72,
     "metadata": {},
     "output_type": "execute_result"
    }
   ],
   "source": [
    "all_colbert_embeds[0][0]"
   ]
  },
  {
   "cell_type": "code",
   "execution_count": 99,
   "id": "93eda2c9",
   "metadata": {},
   "outputs": [],
   "source": [
    "#embeddings\n",
    "offset = 0\n",
    "doc_offset = 0\n",
    "info = client.get_collection(collection_name=collection_name)\n",
    "\n",
    "count = info.points_count\n",
    "if(count!=0):\n",
    "    res, _ = client.scroll(\n",
    "        collection_name = collection_name,\n",
    "        limit = 1,\n",
    "        with_payload=True,\n",
    "        with_vectors=False,\n",
    "        order_by={\n",
    "            \"key\" : \"chunk_id\",\n",
    "            \"direction\" : \"desc\"\n",
    "        }\n",
    "    )\n",
    "    if(res):\n",
    "        doc_number = res[0].payload.get(\"doc_id\")\n",
    "        last_id = res[0].id\n",
    "        offset = last_id + 1\n",
    "        doc_offset = doc_number + 1\n",
    "    else:\n",
    "        offset = 0\n",
    "        doc_offset = 0\n",
    "else:\n",
    "    offset = 0\n",
    "    doc_offset = 0\n",
    "\n",
    "for doc in range (len(all_chunks)):\n",
    "    for idx in range(len(all_chunks[doc])):\n",
    "        client.upsert(\n",
    "            collection_name = collection_name,\n",
    "            points = [\n",
    "                models.PointStruct(\n",
    "                    id = offset,\n",
    "                    payload = {\n",
    "                        \"doc_id\" : doc_offset,\n",
    "                        \"chunk_id\" : offset,\n",
    "                        \"chunk\": all_chunks[doc][idx],\n",
    "                        \"file_name\" : base_name\n",
    "                    },\n",
    "                    vector = {\n",
    "                        \"dense\" : all_embeds[doc][idx],\n",
    "                        \"sparse\" : all_sparse_embeds[doc][idx].as_object(),\n",
    "                        \"lateInteraction\" : all_colbert_embeds[doc][idx]\n",
    "                    }\n",
    "                )\n",
    "            ]\n",
    "        )\n",
    "        offset+=1\n",
    "    doc_offset+=1"
   ]
  },
  {
   "cell_type": "markdown",
   "id": "e82ba01f",
   "metadata": {},
   "source": [
    "## Retrieval\n"
   ]
  },
  {
   "cell_type": "code",
   "execution_count": 75,
   "id": "7be09187",
   "metadata": {},
   "outputs": [],
   "source": [
    "query = \"Redmi Note 14 (5g) Camera Protector Mettalic Ring Glass\""
   ]
  },
  {
   "cell_type": "code",
   "execution_count": null,
   "id": "afc730a6",
   "metadata": {},
   "outputs": [],
   "source": [
    "#Conversion of query into dense,sparse and multi vector(late interaction) with colbert\n"
   ]
  },
  {
   "cell_type": "code",
   "execution_count": 85,
   "id": "4a59a27a",
   "metadata": {},
   "outputs": [],
   "source": [
    "dense_query = next(dense_encoder.query_embed(query))\n",
    "sparse_query = next(sparse_encoder.query_embed(query))\n",
    "late_query = next(late_colbert_embedder.query_embed(query))"
   ]
  },
  {
   "cell_type": "code",
   "execution_count": 79,
   "id": "10edee44",
   "metadata": {},
   "outputs": [
    {
     "data": {
      "text/plain": [
       "384"
      ]
     },
     "execution_count": 79,
     "metadata": {},
     "output_type": "execute_result"
    }
   ],
   "source": [
    "len(dense_query)"
   ]
  },
  {
   "cell_type": "code",
   "execution_count": 82,
   "id": "5e1261c4",
   "metadata": {},
   "outputs": [
    {
     "data": {
      "text/plain": [
       "2"
      ]
     },
     "execution_count": 82,
     "metadata": {},
     "output_type": "execute_result"
    }
   ],
   "source": [
    "len(sparse_query.as_object())"
   ]
  },
  {
   "cell_type": "code",
   "execution_count": 83,
   "id": "f9dc0bf5",
   "metadata": {},
   "outputs": [
    {
     "data": {
      "text/plain": [
       "SparseEmbedding(values=array([1, 1, 1, 1, 1, 1, 1, 1, 1], dtype=int32), indices=array([  11975937, 1778632963, 1062750627, 1787999043, 1749031367,\n",
       "       1048581230, 1059329584,  841855028, 1456707543], dtype=int32))"
      ]
     },
     "execution_count": 83,
     "metadata": {},
     "output_type": "execute_result"
    }
   ],
   "source": [
    "sparse_query"
   ]
  },
  {
   "cell_type": "code",
   "execution_count": 86,
   "id": "47bd9b0c",
   "metadata": {},
   "outputs": [
    {
     "data": {
      "text/plain": [
       "array([[ 0.00888275,  0.07050345, -0.01304437, ...,  0.14082532,\n",
       "        -0.00021858,  0.1043042 ],\n",
       "       [ 0.03422824,  0.08853906,  0.08569521, ...,  0.04264636,\n",
       "        -0.07035516,  0.05971263],\n",
       "       [ 0.01190052,  0.06758404,  0.12808558, ...,  0.03874952,\n",
       "        -0.07684994,  0.03781619],\n",
       "       ...,\n",
       "       [-0.09446603, -0.01095389,  0.0261399 , ..., -0.01319735,\n",
       "        -0.02223087,  0.04420255],\n",
       "       [-0.09299886, -0.1114521 , -0.15131466, ..., -0.14390084,\n",
       "         0.00923404,  0.03162364],\n",
       "       [-0.07768752, -0.10909093, -0.15863313, ..., -0.1447693 ,\n",
       "         0.00255403,  0.01892057]], shape=(32, 128), dtype=float32)"
      ]
     },
     "execution_count": 86,
     "metadata": {},
     "output_type": "execute_result"
    }
   ],
   "source": [
    "late_query"
   ]
  },
  {
   "cell_type": "code",
   "execution_count": 91,
   "id": "d803c76b",
   "metadata": {},
   "outputs": [],
   "source": [
    "prefetch = [\n",
    "    models.Prefetch(query = dense_query,\n",
    "    using = \"dense\",\n",
    "    limit = 20,\n",
    "    ),\n",
    "    models.Prefetch(query = models.SparseVector(**sparse_query.as_object()),\n",
    "                    using = \"sparse\",\n",
    "                    limit = 20)\n",
    "]"
   ]
  },
  {
   "cell_type": "code",
   "execution_count": 92,
   "id": "a8551c8c",
   "metadata": {},
   "outputs": [],
   "source": [
    "query_results = client.query_points(\n",
    "    collection_name = collection_name,\n",
    "    prefetch=prefetch,\n",
    "    query = late_query,\n",
    "    using = \"lateInteraction\",\n",
    "    limit = 5,\n",
    "    with_payload = True,\n",
    "    with_vectors= False\n",
    ")"
   ]
  },
  {
   "cell_type": "code",
   "execution_count": 100,
   "id": "9704716a",
   "metadata": {},
   "outputs": [
    {
     "data": {
      "text/plain": [
       "QueryResponse(points=[ScoredPoint(id=0, version=6, score=27.49305, payload={'doc_id': [0, 0], 'chunk_id': 0, 'chunk': '{ \" name \" : \" Redmi Note 14 5g Camera Protector Mettalic Ring Glass \" , \" nid \" : \" 361653530 \" , \" itemId \" : \" 361653530 \" , \" icons \" : [ { \" domClass \" : \" 150565 \" , \" type \" : \" img \" , \" group \" : \" 6 \" , \" showType \" : \" 0 \" } , { \" domClass \" : \" 175175 \" , \" type \" : \" img \" , \" group \" : \" 3 \" , \" showType \" : \" 0 \" } ] , \" image \" : \" https : static 01 daraz com np p 59a3b411d874aeeea2f115c998b18143 jpg \" , \" isSmartImage \" :', 'file_name': 'camera-screen-guards'}, vector=None, shard_key=None, order_value=None), ScoredPoint(id=19, version=25, score=26.960112, payload={'doc_id': [0, 3], 'chunk_id': 19, 'chunk': '{ \" name \" : \" Redmi Note 14 Pro 5g Camera Protector Mettalic Ring Glass \" , \" nid \" : \" 361670427 \" , \" itemId \" : \" 361670427 \" , \" icons \" : [ { \" domClass \" : \" 150565 \" , \" type \" : \" img \" , \" group \" : \" 6 \" , \" showType \" : \" 0 \" } , { \" domClass \" : \" 175175 \" , \" type \" : \" img \" , \" group \" : \" 3 \" , \" showType \" : \" 0 \" } ] , \" image \" : \" https : static 01 daraz com np p 200a15858889b26f88f8b62d604a8f0c jpg \" , \" isSmartImage \"', 'file_name': 'camera-screen-guards'}, vector=None, shard_key=None, order_value=None), ScoredPoint(id=4, version=10, score=24.9347, payload={'doc_id': [0, 0], 'chunk_id': 4, 'chunk': 'com np 2Fp 2F59a3b411d874aeeea2f115c998b18143 jpg src srp_findsimilar item_id 361653530 sku_id 1592835298 params 7B 22sub_src 22 3A 22long_press 22 2C 22src 22 3A 22srp_findsimilar 22 7D m tpp_findSimilar q camera similarType findSimilarV1 price 239 00 spuTriggerItem 0 \" , \" gridTitleLine \" : \" 2 \" , \" isFission \" : \" 0 \" , \" isBadgeAutoScroll \" : false , \" showCart \" : false , \" showBackIcon \" : false , \" showUnitPrice \" : false , \" itemUrl \" : \" www daraz com np products redmi note 14 5g camera protector mettalic ring glass i361653530 html \" , \" querystring \" : \" fs_ab 1 priceCompare skuId 3A1592835298 3Bsource 3Alazada search voucher 3Bsn 3Afeb7c324dba78761f11a6be643f46dc6 3BoriginPrice 3A23900 3BdisplayPrice 3A23900 3BsinglePromotionId 3A50000018794008 3BsingleToolCode 3ApromPrice 3BvoucherPricePlugin 3A0 3Btimestamp', 'file_name': 'camera-screen-guards'}, vector=None, shard_key=None, order_value=None), ScoredPoint(id=23, version=29, score=24.552612, payload={'doc_id': [0, 3], 'chunk_id': 23, 'chunk': 'daraz com np 2Fp 2F200a15858889b26f88f8b62d604a8f0c jpg src srp_findsimilar item_id 361670427 sku_id 1592834541 params 7B 22sub_src 22 3A 22long_press 22 2C 22src 22 3A 22srp_findsimilar 22 7D m tpp_findSimilar q camera similarType findSimilarV1 price 279 00 spuTriggerItem 0 \" , \" gridTitleLine \" : \" 2 \" , \" isFission \" : \" 0 \" , \" isBadgeAutoScroll \" : false , \" showCart \" : false , \" showBackIcon \" : false , \" showUnitPrice \" : false , \" itemUrl \" : \" www daraz com np products redmi note 14 pro 5g camera protector mettalic ring glass i361670427 html \" , \" querystring \" : \" fs_ab 1 priceCompare skuId 3A1592834541 3Bsource 3Alazada search voucher 3Bsn 3Afeb7c324dba78761f11a6be643f46dc6 3BoriginPrice 3A27900 3BdisplayPrice 3A27900 3BsinglePromotionId 3A50000018794008 3BsingleToolCode 3ApromPrice 3BvoucherPricePlugin', 'file_name': 'camera-screen-guards'}, vector=None, shard_key=None, order_value=None), ScoredPoint(id=57, version=63, score=21.683334, payload={'doc_id': [0, 9], 'chunk_id': 57, 'chunk': '{ \" name \" : \" Redmi Note 14 Pro Plus 5g Camera Protector Full Glue Glass \" , \" nid \" : \" 361651522 \" , \" itemId \" : \" 361651522 \" , \" icons \" : [ { \" domClass \" : \" 150565 \" , \" type \" : \" img \" , \" group \" : \" 6 \" , \" showType \" : \" 0 \" } , { \" domClass \" : \" 175175 \" , \" type \" : \" img \" , \" group \" : \" 3 \" , \" showType \" : \" 0 \" } ] , \" image \" : \" https : static 01 daraz com np p 66b02da4185fda88aea27764e6f956cf jpg \" , \" isSmartImage', 'file_name': 'camera-screen-guards'}, vector=None, shard_key=None, order_value=None)])"
      ]
     },
     "execution_count": 100,
     "metadata": {},
     "output_type": "execute_result"
    }
   ],
   "source": [
    "query_results"
   ]
  },
  {
   "cell_type": "code",
   "execution_count": null,
   "id": "0350311e",
   "metadata": {},
   "outputs": [],
   "source": []
  },
  {
   "cell_type": "code",
   "execution_count": 94,
   "id": "38806dac",
   "metadata": {},
   "outputs": [
    {
     "ename": "TypeError",
     "evalue": "'QueryResponse' object is not subscriptable",
     "output_type": "error",
     "traceback": [
      "\u001b[1;31m---------------------------------------------------------------------------\u001b[0m",
      "\u001b[1;31mTypeError\u001b[0m                                 Traceback (most recent call last)",
      "Cell \u001b[1;32mIn[94], line 1\u001b[0m\n\u001b[1;32m----> 1\u001b[0m \u001b[43mquery_results\u001b[49m\u001b[43m[\u001b[49m\u001b[38;5;241;43m0\u001b[39;49m\u001b[43m]\u001b[49m\n",
      "\u001b[1;31mTypeError\u001b[0m: 'QueryResponse' object is not subscriptable"
     ]
    }
   ],
   "source": [
    "query_results[0]"
   ]
  },
  {
   "cell_type": "code",
   "execution_count": 93,
   "id": "5aa2864f",
   "metadata": {},
   "outputs": [
    {
     "ename": "AttributeError",
     "evalue": "'tuple' object has no attribute 'score'",
     "output_type": "error",
     "traceback": [
      "\u001b[1;31m---------------------------------------------------------------------------\u001b[0m",
      "\u001b[1;31mAttributeError\u001b[0m                            Traceback (most recent call last)",
      "Cell \u001b[1;32mIn[93], line 2\u001b[0m\n\u001b[0;32m      1\u001b[0m \u001b[38;5;28;01mfor\u001b[39;00m point \u001b[38;5;129;01min\u001b[39;00m query_results:\n\u001b[1;32m----> 2\u001b[0m     \u001b[38;5;28mprint\u001b[39m(\u001b[38;5;124m\"\u001b[39m\u001b[38;5;124mscore = \u001b[39m\u001b[38;5;124m\"\u001b[39m,\u001b[43mpoint\u001b[49m\u001b[38;5;241;43m.\u001b[39;49m\u001b[43mscore\u001b[49m, \u001b[38;5;124m\"\u001b[39m\u001b[38;5;124mPoint_id=\u001b[39m\u001b[38;5;124m\"\u001b[39m, point\u001b[38;5;241m.\u001b[39mid, \u001b[38;5;124m\"\u001b[39m\u001b[38;5;124mdoc_id = \u001b[39m\u001b[38;5;124m\"\u001b[39m, point\u001b[38;5;241m.\u001b[39mpayload\u001b[38;5;241m.\u001b[39mget(\u001b[38;5;124m\"\u001b[39m\u001b[38;5;124mdoc_id\u001b[39m\u001b[38;5;124m\"\u001b[39m), \u001b[38;5;124m\"\u001b[39m\u001b[38;5;124mfile_name = \u001b[39m\u001b[38;5;124m\"\u001b[39m,point\u001b[38;5;241m.\u001b[39mpayload\u001b[38;5;241m.\u001b[39mget(\u001b[38;5;124m\"\u001b[39m\u001b[38;5;124mfile_name\u001b[39m\u001b[38;5;124m\"\u001b[39m), \u001b[38;5;124m\"\u001b[39m\u001b[38;5;124mchunk_id = \u001b[39m\u001b[38;5;124m\"\u001b[39m , point\u001b[38;5;241m.\u001b[39mpayload\u001b[38;5;241m.\u001b[39mget(\u001b[38;5;124m\"\u001b[39m\u001b[38;5;124mchunk_id\u001b[39m\u001b[38;5;124m\"\u001b[39m))\n",
      "\u001b[1;31mAttributeError\u001b[0m: 'tuple' object has no attribute 'score'"
     ]
    }
   ],
   "source": [
    "for point in query_results:\n",
    "    print(\"score = \",point.score, \"Point_id=\", point.id, \"doc_id = \", point.payload.get(\"doc_id\"), \"file_name = \",point.payload.get(\"file_name\"), \"chunk_id = \" , point.payload.get(\"chunk_id\"))"
   ]
  },
  {
   "cell_type": "code",
   "execution_count": 102,
   "id": "a8155e29",
   "metadata": {},
   "outputs": [
    {
     "data": {
      "text/plain": [
       "([Record(id=0, payload={'doc_id': 0, 'chunk_id': 0, 'chunk': '{ \" name \" : \" Redmi Note 14 5g Camera Protector Mettalic Ring Glass \" , \" nid \" : \" 361653530 \" , \" itemId \" : \" 361653530 \" , \" icons \" : [ { \" domClass \" : \" 150565 \" , \" type \" : \" img \" , \" group \" : \" 6 \" , \" showType \" : \" 0 \" } , { \" domClass \" : \" 175175 \" , \" type \" : \" img \" , \" group \" : \" 3 \" , \" showType \" : \" 0 \" } ] , \" image \" : \" https : static 01 daraz com np p 59a3b411d874aeeea2f115c998b18143 jpg \" , \" isSmartImage \" :', 'file_name': 'camera-screen-guards'}, vector=None, shard_key=None, order_value=None),\n",
       "  Record(id=1, payload={'doc_id': 0, 'chunk_id': 1, 'chunk': 'false , \" utLogMap \" : { \" srp_name \" : \" LazadaMainSrp \" , \" x_object_type \" : \" item \" , \" src \" : \" organic \" , \" trafficType \" : \" organic \" , \" x_sku_ids \" : \" 1592835298 \" , \" x_item_ids \" : \" 361653530 \" , \" iconList \" : \" 150565 175175 \" , \" SN \" : \" feb7c324dba78761f11a6be643f46dc6 \" , \" current_price \" : \" 239 \" , \" x_object_id \" : \" 361653530 \" } , \" originalPriceShow \" : \" \" , \" priceShow \" : \" Rs 239 \" , \" ratingScore \" : \" 4 4 \" , \" review \" : \" 5 \" , \" location \" : \" Bagmati', 'file_name': 'camera-screen-guards'}, vector=None, shard_key=None, order_value=None),\n",
       "  Record(id=2, payload={'doc_id': 0, 'chunk_id': 2, 'chunk': 'Province \" , \" description \" : [ ] , \" thumbs \" : [ ] , \" sellerName \" : \" Zap Home \" , \" sellerId \" : \" 900224992449 \" , \" brandName \" : \" No Brand \" , \" brandId \" : \" 39704 \" , \" cheapest_sku \" : \" 361653530_NP 1592835298 \" , \" skuId \" : \" 1592835298 \" , \" sku \" : \" 361653530_NP \" , \" categories \" : [ 240 , 256 , 8204 ] , \" price \" : \" 239 \" , \" inStock \" : true , \" originalPrice \" : \" 299 \" , \" clickTrace \" : \" query : camera nid : 361653530 src : LazadaMainSrp rn : feb7c324dba78761f11a6be643f46dc6 region', 'file_name': 'camera-screen-guards'}, vector=None, shard_key=None, order_value=None),\n",
       "  Record(id=3, payload={'doc_id': 0, 'chunk_id': 3, 'chunk': ': np sku : 361653530_NP price : 239 client : desktop supplier_id : 900224992449 biz_source : h5_unknow slot : 0 utlog_bucket_id : 470687 asc_category_id : 8204 item_id : 361653530 sku_id : 1592835298 shop_id : 140324 templateInfo : 1_A3_C 1103_L \" , \" itemSoldCntShow \" : \" 30 sold \" , \" longImageDisplayable \" : false , \" skus \" : [ { \" id \" : \" 361653530_NP 1592835298 \" } ] , \" promotionId \" : \" \" , \" isSponsored \" : false , \" tItemType \" : \" nt_product \" , \" skuType \" : \" \" , \" adFlag \" : \" 0 \" , \" directSimilarUrl \" : \" https : native m lazada com dynamicxresult item_img https 3A 2F 2Fstatic 01 daraz', 'file_name': 'camera-screen-guards'}, vector=None, shard_key=None, order_value=None),\n",
       "  Record(id=4, payload={'doc_id': 0, 'chunk_id': 4, 'chunk': 'com np 2Fp 2F59a3b411d874aeeea2f115c998b18143 jpg src srp_findsimilar item_id 361653530 sku_id 1592835298 params 7B 22sub_src 22 3A 22long_press 22 2C 22src 22 3A 22srp_findsimilar 22 7D m tpp_findSimilar q camera similarType findSimilarV1 price 239 00 spuTriggerItem 0 \" , \" gridTitleLine \" : \" 2 \" , \" isFission \" : \" 0 \" , \" isBadgeAutoScroll \" : false , \" showCart \" : false , \" showBackIcon \" : false , \" showUnitPrice \" : false , \" itemUrl \" : \" www daraz com np products redmi note 14 5g camera protector mettalic ring glass i361653530 html \" , \" querystring \" : \" fs_ab 1 priceCompare skuId 3A1592835298 3Bsource 3Alazada search voucher 3Bsn 3Afeb7c324dba78761f11a6be643f46dc6 3BoriginPrice 3A23900 3BdisplayPrice 3A23900 3BsinglePromotionId 3A50000018794008 3BsingleToolCode 3ApromPrice 3BvoucherPricePlugin 3A0 3Btimestamp', 'file_name': 'camera-screen-guards'}, vector=None, shard_key=None, order_value=None),\n",
       "  Record(id=5, payload={'doc_id': 0, 'chunk_id': 5, 'chunk': '3A1758872502749 c ratingscore 4 4 freeshipping 0 source search channelLpJumpArgs fuse_fs search 1 sale 30 price 239 review 5 location Bagmati 20Province stock 1 lang en request_id feb7c324dba78761f11a6be643f46dc6 clickTrackInfo query 253Acamera 253Bnid 253A361653530 253Bsrc 253ALazadaMainSrp 253Brn 253Afeb7c324dba78761f11a6be643f46dc6 253Bregion 253Anp 253Bsku 253A361653530_NP 253Bprice 253A239 253Bclient 253Adesktop 253Bsupplier_id 253A900224992449 253Bbiz_source 253Ah5_unknow 253Bslot 253A0 253Butlog_bucket_id 253A470687 253Basc_category_id 253A8204 253Bitem_id 253A361653530 253Bsku_id 253A1592835298 253Bshop_id 253A140324 253BtemplateInfo 253A 1_A3_C 25231103_L 2523 \" }', 'file_name': 'camera-screen-guards'}, vector=None, shard_key=None, order_value=None)],\n",
       " None)"
      ]
     },
     "execution_count": 102,
     "metadata": {},
     "output_type": "execute_result"
    }
   ],
   "source": [
    "client.scroll(\n",
    "    collection_name=collection_name,\n",
    "    scroll_filter=models.Filter(\n",
    "        must=[\n",
    "            models.FieldCondition(key=\"doc_id\", match=models.MatchValue(value=0)),\n",
    "        ]\n",
    "    ),\n",
    "    limit=10,\n",
    "    with_payload=True,\n",
    "    with_vectors=False,\n",
    ")"
   ]
  }
 ],
 "metadata": {
  "kernelspec": {
   "display_name": "rag",
   "language": "python",
   "name": "python3"
  },
  "language_info": {
   "codemirror_mode": {
    "name": "ipython",
    "version": 3
   },
   "file_extension": ".py",
   "mimetype": "text/x-python",
   "name": "python",
   "nbconvert_exporter": "python",
   "pygments_lexer": "ipython3",
   "version": "3.10.18"
  }
 },
 "nbformat": 4,
 "nbformat_minor": 5
}
