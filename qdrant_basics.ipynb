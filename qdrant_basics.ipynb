{
 "cells": [
  {
   "cell_type": "code",
   "execution_count": 1,
   "id": "cd580c0f",
   "metadata": {},
   "outputs": [],
   "source": [
    "from qdrant_client import QdrantClient , models\n",
    "\n"
   ]
  },
  {
   "cell_type": "code",
   "execution_count": 2,
   "id": "58041f65",
   "metadata": {},
   "outputs": [],
   "source": [
    "client = QdrantClient(url=\"http://localhost:6333\")"
   ]
  },
  {
   "cell_type": "code",
   "execution_count": 4,
   "id": "1e53d9e0",
   "metadata": {},
   "outputs": [
    {
     "data": {
      "text/plain": [
       "True"
      ]
     },
     "execution_count": 4,
     "metadata": {},
     "output_type": "execute_result"
    }
   ],
   "source": [
    "client.create_collection(\n",
    "    collection_name=\"qdrant_basics\",\n",
    "    vectors_config = models.VectorParams(size=3,distance=models.Distance.COSINE)\n",
    ")"
   ]
  },
  {
   "cell_type": "code",
   "execution_count": 5,
   "id": "ece0cf5e",
   "metadata": {},
   "outputs": [
    {
     "data": {
      "text/plain": [
       "UpdateResult(operation_id=0, status=<UpdateStatus.COMPLETED: 'completed'>)"
      ]
     },
     "execution_count": 5,
     "metadata": {},
     "output_type": "execute_result"
    }
   ],
   "source": [
    "client.upsert(\n",
    "    collection_name=\"qdrant_basics\",\n",
    "    points=[\n",
    "        models.PointStruct(\n",
    "            id=1,\n",
    "            payload={\"color\":\"red\"},\n",
    "            vector=[0.1,0.2,0.3]\n",
    "        ),\n",
    "        models.PointStruct(\n",
    "            id=2,\n",
    "            payload={\"color\":\"blue\"},\n",
    "            vector=[0.22,0.45,0.55]\n",
    "        )\n",
    "\n",
    "            ]\n",
    "    \n",
    ")"
   ]
  },
  {
   "cell_type": "code",
   "execution_count": 6,
   "id": "5ff836a8",
   "metadata": {},
   "outputs": [
    {
     "data": {
      "text/plain": [
       "UpdateResult(operation_id=1, status=<UpdateStatus.COMPLETED: 'completed'>)"
      ]
     },
     "execution_count": 6,
     "metadata": {},
     "output_type": "execute_result"
    }
   ],
   "source": [
    "client.upsert(\n",
    "    collection_name=\"qdrant_basics\",\n",
    "    points = [\n",
    "        models.PointStruct(\n",
    "            id=3,\n",
    "            payload={\"color\":\"red\"},\n",
    "            vector=[0.1,0.22,0.5]\n",
    "        ),\n",
    "        models.PointStruct(\n",
    "            id=4,\n",
    "            payload={\"color\":\"red\"},\n",
    "            vector=[0.2,0.56,0.33]\n",
    "        )\n",
    "\n",
    "    ]\n",
    ")"
   ]
  },
  {
   "cell_type": "markdown",
   "id": "dc71bf9b",
   "metadata": {},
   "source": [
    "# Updating the Payloads"
   ]
  },
  {
   "cell_type": "code",
   "execution_count": 7,
   "id": "785e8a2b",
   "metadata": {},
   "outputs": [
    {
     "data": {
      "text/plain": [
       "UpdateResult(operation_id=2, status=<UpdateStatus.COMPLETED: 'completed'>)"
      ]
     },
     "execution_count": 7,
     "metadata": {},
     "output_type": "execute_result"
    }
   ],
   "source": [
    "client.set_payload(\n",
    "    collection_name=\"qdrant_basics\",\n",
    "    payload={\"color\":\"green\",\n",
    "             \"size\":\"medium\"},\n",
    "    points=[1,4]\n",
    ")"
   ]
  },
  {
   "cell_type": "code",
   "execution_count": 8,
   "id": "0d86a576",
   "metadata": {},
   "outputs": [
    {
     "data": {
      "text/plain": [
       "UpdateResult(operation_id=3, status=<UpdateStatus.COMPLETED: 'completed'>)"
      ]
     },
     "execution_count": 8,
     "metadata": {},
     "output_type": "execute_result"
    }
   ],
   "source": [
    "client.set_payload(\n",
    "    collection_name = \"qdrant_basics\",\n",
    "    payload = {\"color\":\"green\",\"size\":\"medium\"},\n",
    "\n",
    "    points = models.Filter(\n",
    "        must = [models.FieldCondition(\n",
    "                key = \"color\",\n",
    "                match = models.MatchValue(value = \"red\")\n",
    "\n",
    "        ),\n",
    "        models.FieldCondition(\n",
    "            key=\"size\",\n",
    "            match = models.MatchValue(value=\"large\")\n",
    "        )\n",
    "        ]\n",
    "    )\n",
    "\n",
    ")"
   ]
  },
  {
   "cell_type": "code",
   "execution_count": 9,
   "id": "773357e8",
   "metadata": {},
   "outputs": [
    {
     "data": {
      "text/plain": [
       "UpdateResult(operation_id=4, status=<UpdateStatus.COMPLETED: 'completed'>)"
      ]
     },
     "execution_count": 9,
     "metadata": {},
     "output_type": "execute_result"
    }
   ],
   "source": [
    "#deleting the payloads\n",
    "\n",
    "client.clear_payload(\n",
    "    collection_name = \"qdrant_basics\",\n",
    "\n",
    "    points_selector = [1]\n",
    "\n",
    ")"
   ]
  },
  {
   "cell_type": "code",
   "execution_count": 10,
   "id": "ef8c6950",
   "metadata": {},
   "outputs": [
    {
     "data": {
      "text/plain": [
       "UpdateResult(operation_id=5, status=<UpdateStatus.COMPLETED: 'completed'>)"
      ]
     },
     "execution_count": 10,
     "metadata": {},
     "output_type": "execute_result"
    }
   ],
   "source": [
    "#with filter\n",
    "\n",
    "client.clear_payload(\n",
    "    collection_name = \"qdrant_basics\",\n",
    "    points_selector = models.Filter(\n",
    "        must = [\n",
    "            models.FieldCondition(\n",
    "                key = \"color\",\n",
    "                match = models.MatchValue(value = \"red\")\n",
    "            ),\n",
    "            models.FieldCondition(\n",
    "                key = \"size\",\n",
    "                match = models.MatchValue(value = \"small\")\n",
    "            )\n",
    "        ]\n",
    "    )\n",
    ")\n",
    "\n"
   ]
  },
  {
   "cell_type": "code",
   "execution_count": 11,
   "id": "830b716e",
   "metadata": {},
   "outputs": [
    {
     "data": {
      "text/plain": [
       "UpdateResult(operation_id=7, status=<UpdateStatus.COMPLETED: 'completed'>)"
      ]
     },
     "execution_count": 11,
     "metadata": {},
     "output_type": "execute_result"
    }
   ],
   "source": [
    "#creating indexes according to the payload values\n",
    "\n",
    "client.create_payload_index(\n",
    "    collection_name = \"qdrant_basics\",\n",
    "    field_name = \"color\",\n",
    "    field_schema= \"keyword\" #this denotes that color is string type with categorical value\n",
    ")"
   ]
  },
  {
   "cell_type": "code",
   "execution_count": 3,
   "id": "4f983d28",
   "metadata": {},
   "outputs": [
    {
     "data": {
      "text/plain": [
       "UpdateResult(operation_id=11, status=<UpdateStatus.COMPLETED: 'completed'>)"
      ]
     },
     "execution_count": 3,
     "metadata": {},
     "output_type": "execute_result"
    }
   ],
   "source": [
    "#Inserting ten datas with payloads size and color\n",
    "\n",
    "client.upsert(\n",
    "    collection_name = \"qdrant_basics\",\n",
    "    points = [\n",
    "        models.PointStruct(\n",
    "            id=5,\n",
    "            payload = {\n",
    "                \"color\" : \"red\",\n",
    "                \"size\" : \"medium\"\n",
    "            },\n",
    "            vector = [0.11,0.34,0.33]\n",
    "        ),\n",
    "        models.PointStruct(\n",
    "            id=6,\n",
    "            payload = {\n",
    "                \"color\":\"black\",\n",
    "                \"size\" : \"small\"\n",
    "            },\n",
    "            vector = [0.2,0.35,0.27]\n",
    "        ),\n",
    "        models.PointStruct(\n",
    "            id=7,\n",
    "            payload = {\n",
    "                \"color\":\"blue\",\n",
    "                \"size\" : \"large\"\n",
    "            },\n",
    "            vector = [0.21,0.32,0.29]\n",
    "        ),\n",
    "        models.PointStruct(\n",
    "            id=8,\n",
    "            payload = {\n",
    "                \"color\":\"green\",\n",
    "                \"size\" : \"medium\"\n",
    "            },\n",
    "            vector = [0.32,0.11,0.56]\n",
    "        ),\n",
    "        models.PointStruct(\n",
    "            id=9,\n",
    "            payload = {\n",
    "                \"color\":\"red\",\n",
    "                \"size\" : \"small\"\n",
    "            },\n",
    "            vector = [0.22,0.51,0.01]\n",
    "        ),\n",
    "        models.PointStruct(\n",
    "            id=10,\n",
    "            payload = {\n",
    "                \"color\":\"blue\",\n",
    "                \"size\" : \"large\"\n",
    "            },\n",
    "            vector = [0.2,0.35,0.27]\n",
    "        ),\n",
    "        models.PointStruct(\n",
    "            id=11,\n",
    "            payload = {\n",
    "                \"color\":\"red\",\n",
    "                \"size\" : \"large\"\n",
    "            },\n",
    "            vector = [0.11,0.63,0.92]\n",
    "        ),\n",
    "        models.PointStruct(\n",
    "            id=12,\n",
    "            payload = {\n",
    "                \"color\":\"green\",\n",
    "                \"size\" : \"medium\"\n",
    "            },\n",
    "            vector = [0.23,0.82,0.61]\n",
    "        )\n",
    "        \n",
    "    ]\n",
    ")"
   ]
  },
  {
   "cell_type": "code",
   "execution_count": 4,
   "id": "7f20f8c4",
   "metadata": {},
   "outputs": [
    {
     "data": {
      "text/plain": [
       "UpdateResult(operation_id=12, status=<UpdateStatus.COMPLETED: 'completed'>)"
      ]
     },
     "execution_count": 4,
     "metadata": {},
     "output_type": "execute_result"
    }
   ],
   "source": [
    "#setting payloads for points having no size payload\n",
    "\n",
    "client.set_payload(\n",
    "    collection_name = \"qdrant_basics\",\n",
    "    payload = {\"size\":\"small\"},\n",
    "    points = [2,3]\n",
    ")"
   ]
  },
  {
   "cell_type": "code",
   "execution_count": 12,
   "id": "1593e89b",
   "metadata": {},
   "outputs": [
    {
     "data": {
      "text/plain": [
       "UpdateResult(operation_id=8, status=<UpdateStatus.COMPLETED: 'completed'>)"
      ]
     },
     "execution_count": 12,
     "metadata": {},
     "output_type": "execute_result"
    }
   ],
   "source": [
    "client.set_payload(\n",
    "    collection_name= \"qdrant_basics\",\n",
    "    payload = {\n",
    "        \"color\" : \"black\",\n",
    "        \"size\" : \"large\"\n",
    "    },\n",
    "    points = [1]\n",
    ")"
   ]
  },
  {
   "cell_type": "code",
   "execution_count": 13,
   "id": "dc13e39f",
   "metadata": {},
   "outputs": [
    {
     "data": {
      "text/plain": [
       "UpdateResult(operation_id=10, status=<UpdateStatus.COMPLETED: 'completed'>)"
      ]
     },
     "execution_count": 13,
     "metadata": {},
     "output_type": "execute_result"
    }
   ],
   "source": [
    "client.create_payload_index(\n",
    "    collection_name=\"qdrant_basics\",\n",
    "    field_name = \"size\",\n",
    "    field_schema = \"keyword\"\n",
    ")"
   ]
  },
  {
   "cell_type": "code",
   "execution_count": 12,
   "id": "5206896e",
   "metadata": {},
   "outputs": [
    {
     "data": {
      "text/plain": [
       "FacetResponse(hits=[FacetValueHit(value='blue', count=2), FacetValueHit(value='black', count=1), FacetValueHit(value='red', count=1)])"
      ]
     },
     "execution_count": 12,
     "metadata": {},
     "output_type": "execute_result"
    }
   ],
   "source": [
    "#Facet Counts is like the MySQL count aggregation with where and group by clause in vector database\n",
    "client.facet(\n",
    "    collection_name = \"qdrant_basics\",\n",
    "    key = \"color\", #this is like the gorup by clause where the count is done grouped by color key(payload)\n",
    "    facet_filter= models.Filter(must=[models.FieldCondition(\n",
    "        key = \"size\",\n",
    "        match = models.MatchValue(value=\"large\")\n",
    "    )])\n",
    "    #this is like the where clause where the count is \n",
    "    #only done on the basis of the points where size = large\n",
    "    #this is optional field \n",
    ")"
   ]
  },
  {
   "cell_type": "code",
   "execution_count": 5,
   "id": "a753c527",
   "metadata": {},
   "outputs": [
    {
     "data": {
      "text/plain": [
       "FacetResponse(hits=[FacetValueHit(value='red', count=4), FacetValueHit(value='blue', count=3), FacetValueHit(value='green', count=3), FacetValueHit(value='black', count=2)])"
      ]
     },
     "execution_count": 5,
     "metadata": {},
     "output_type": "execute_result"
    }
   ],
   "source": [
    "client.facet(\n",
    "    collection_name = \"qdrant_basics\",\n",
    "    key = \"color\"\n",
    ")"
   ]
  },
  {
   "cell_type": "markdown",
   "id": "2dd8e17e",
   "metadata": {},
   "source": [
    "# Searching\n"
   ]
  },
  {
   "cell_type": "code",
   "execution_count": 13,
   "id": "59fffef1",
   "metadata": {},
   "outputs": [
    {
     "data": {
      "text/plain": [
       "QueryResponse(points=[ScoredPoint(id=1, version=8, score=0.9999998, payload={'color': 'black', 'size': 'large'}, vector=None, shard_key=None, order_value=None), ScoredPoint(id=2, version=12, score=0.9951674, payload={'color': 'blue', 'size': 'small'}, vector=None, shard_key=None, order_value=None), ScoredPoint(id=11, version=11, score=0.9851332, payload={'color': 'red', 'size': 'large'}, vector=None, shard_key=None, order_value=None), ScoredPoint(id=3, version=12, score=0.98176813, payload={'color': 'red', 'size': 'small'}, vector=None, shard_key=None, order_value=None), ScoredPoint(id=5, version=11, score=0.9780219, payload={'color': 'red', 'size': 'medium'}, vector=None, shard_key=None, order_value=None), ScoredPoint(id=7, version=11, score=0.9572706, payload={'color': 'blue', 'size': 'large'}, vector=None, shard_key=None, order_value=None), ScoredPoint(id=12, version=11, score=0.9439634, payload={'color': 'green', 'size': 'medium'}, vector=None, shard_key=None, order_value=None), ScoredPoint(id=10, version=11, score=0.9419521, payload={'color': 'blue', 'size': 'large'}, vector=None, shard_key=None, order_value=None), ScoredPoint(id=6, version=11, score=0.9419521, payload={'color': 'black', 'size': 'small'}, vector=None, shard_key=None, order_value=None), ScoredPoint(id=4, version=2, score=0.9078039, payload={'color': 'green', 'size': 'medium'}, vector=None, shard_key=None, order_value=None)])"
      ]
     },
     "execution_count": 13,
     "metadata": {},
     "output_type": "execute_result"
    }
   ],
   "source": [
    "client.query_points(\n",
    "    collection_name = \"qdrant_basics\",\n",
    "    query = [0.1,0.2,0.3]\n",
    ")"
   ]
  },
  {
   "cell_type": "code",
   "execution_count": 14,
   "id": "4888c5b1",
   "metadata": {},
   "outputs": [
    {
     "data": {
      "text/plain": [
       "QueryResponse(points=[ScoredPoint(id=5, version=11, score=0.97903967, payload={'color': 'red', 'size': 'medium'}, vector=None, shard_key=None, order_value=None), ScoredPoint(id=11, version=11, score=0.9618025, payload={'color': 'red', 'size': 'large'}, vector=None, shard_key=None, order_value=None), ScoredPoint(id=3, version=12, score=0.9571761, payload={'color': 'red', 'size': 'small'}, vector=None, shard_key=None, order_value=None), ScoredPoint(id=9, version=11, score=0.67289865, payload={'color': 'red', 'size': 'small'}, vector=None, shard_key=None, order_value=None)])"
      ]
     },
     "execution_count": 14,
     "metadata": {},
     "output_type": "execute_result"
    }
   ],
   "source": [
    "#searching with Filtering, Limits and Params\n",
    "\n",
    "client.query_points(\n",
    "    collection_name = \"qdrant_basics\",\n",
    "    query = [0.22,0.34,0.45],\n",
    "\n",
    "    query_filter = models.Filter(\n",
    "        must = [\n",
    "            models.FieldCondition(\n",
    "                key = \"color\",\n",
    "                match = models.MatchValue(value = \"red\")\n",
    "            )\n",
    "        ]\n",
    "\n",
    "    ),\n",
    "    search_params = models.SearchParams(hnsw_ef = 128,exact = False), #here the search params are the custom parameters for search\n",
    "    #hnsw = graph search algorithm and the ef paramater determines the number nearest neighbours to expand at once, \n",
    "    # exact determines whether or not to search for the point with the exact vector\n",
    "    #indexed_only = determines whether or not to include the vectors that are indexed\n",
    "    limit = 4 #how many points to return from the search\n",
    "\n",
    ")"
   ]
  },
  {
   "cell_type": "code",
   "execution_count": 15,
   "id": "2d8ce7c8",
   "metadata": {},
   "outputs": [
    {
     "data": {
      "text/plain": [
       "True"
      ]
     },
     "execution_count": 15,
     "metadata": {},
     "output_type": "execute_result"
    }
   ],
   "source": [
    "#creation of multiple vectors for a point named vectors\n",
    "\n",
    "client.create_collection(\n",
    "    collection_name = \"named_vectored_collection\",\n",
    "    vectors_config = {\n",
    "        \"image\" : models.VectorParams(size = 3, distance=models.Distance.COSINE),\n",
    "        \"text\" : models.VectorParams(size = 4, distance=models.Distance.COSINE)\n",
    "    }\n",
    ")"
   ]
  },
  {
   "cell_type": "code",
   "execution_count": 17,
   "id": "b6b329ab",
   "metadata": {},
   "outputs": [
    {
     "data": {
      "text/plain": [
       "UpdateResult(operation_id=0, status=<UpdateStatus.COMPLETED: 'completed'>)"
      ]
     },
     "execution_count": 17,
     "metadata": {},
     "output_type": "execute_result"
    }
   ],
   "source": [
    "#inserting 10 points in the named Vectors\n",
    "\n",
    "client.upsert(\n",
    "    collection_name = \"named_vectored_collection\",\n",
    "    points = [\n",
    "        models.PointStruct(\n",
    "            id=1,\n",
    "            payload = {\"color\":\"red\", \"size\" : \"XXL\" },\n",
    "            vector = {\n",
    "                \"image\" :[0.1,0.2,0.3],\n",
    "                \"text\" : [0.11,0.21,0.31,0.2]\n",
    "            },\n",
    "\n",
    "        )\n",
    "    ]\n",
    ")"
   ]
  },
  {
   "cell_type": "code",
   "execution_count": 18,
   "id": "76b9aa26",
   "metadata": {},
   "outputs": [
    {
     "data": {
      "text/plain": [
       "UpdateResult(operation_id=1, status=<UpdateStatus.COMPLETED: 'completed'>)"
      ]
     },
     "execution_count": 18,
     "metadata": {},
     "output_type": "execute_result"
    }
   ],
   "source": [
    "client.upsert(\n",
    "    collection_name = \"named_vectored_collection\",\n",
    "    points = [\n",
    "        models.PointStruct(\n",
    "            id=2,\n",
    "            vector = {\n",
    "                \"image\" :[0.23,0.44,0.33],\n",
    "                \"text\" : [0.11,0.2,0.23,0.71]\n",
    "            }\n",
    "        ),\n",
    "        models.PointStruct(\n",
    "            id=3,\n",
    "            vector = {\n",
    "                \"image\" :[0.21,0.34,0.83],\n",
    "                \"text\" : [0.71,0.87,0.91,0.21]\n",
    "            }\n",
    "        ),\n",
    "        models.PointStruct(\n",
    "            id=4,\n",
    "            vector = {\n",
    "                \"image\" :[0.12,0.73,0.93],\n",
    "                \"text\" : [0.01,0.02,0.03,0.11]\n",
    "            }\n",
    "        )\n",
    "    ]\n",
    ")"
   ]
  },
  {
   "cell_type": "code",
   "execution_count": 19,
   "id": "4a70d61b",
   "metadata": {},
   "outputs": [
    {
     "data": {
      "text/plain": [
       "UpdateResult(operation_id=2, status=<UpdateStatus.COMPLETED: 'completed'>)"
      ]
     },
     "execution_count": 19,
     "metadata": {},
     "output_type": "execute_result"
    }
   ],
   "source": [
    "client.set_payload(\n",
    "    collection_name = \"named_vectored_collection\",\n",
    "    payload = {\n",
    "        \"color\":\"black\",\n",
    "        \"size\":\"XL\"\n",
    "    },\n",
    "    points = [2,3,4]\n",
    ")"
   ]
  },
  {
   "cell_type": "code",
   "execution_count": 21,
   "id": "6f04418c",
   "metadata": {},
   "outputs": [
    {
     "data": {
      "text/plain": [
       "UpdateResult(operation_id=4, status=<UpdateStatus.COMPLETED: 'completed'>)"
      ]
     },
     "execution_count": 21,
     "metadata": {},
     "output_type": "execute_result"
    }
   ],
   "source": [
    "client.create_payload_index(\n",
    "    collection_name = \"named_vectored_collection\",\n",
    "    field_name = \"color\",\n",
    "    field_schema = \"keyword\"\n",
    ")\n"
   ]
  },
  {
   "cell_type": "code",
   "execution_count": 22,
   "id": "11c9334b",
   "metadata": {},
   "outputs": [
    {
     "data": {
      "text/plain": [
       "UpdateResult(operation_id=6, status=<UpdateStatus.COMPLETED: 'completed'>)"
      ]
     },
     "execution_count": 22,
     "metadata": {},
     "output_type": "execute_result"
    }
   ],
   "source": [
    "client.create_payload_index(\n",
    "    collection_name = \"named_vectored_collection\",\n",
    "    field_name = \"size\",\n",
    "    field_schema = \"keyword\"\n",
    ")"
   ]
  },
  {
   "cell_type": "code",
   "execution_count": null,
   "id": "c1375853",
   "metadata": {},
   "outputs": [
    {
     "data": {
      "text/plain": [
       "QueryResponse(points=[ScoredPoint(id=3, version=2, score=0.9429046, payload={'color': 'black', 'size': 'XL'}, vector=None, shard_key=None, order_value=None), ScoredPoint(id=1, version=0, score=0.9285713, payload={'color': 'red', 'size': 'XXL'}, vector=None, shard_key=None, order_value=None), ScoredPoint(id=2, version=2, score=0.8473035, payload={'color': 'black', 'size': 'XL'}, vector=None, shard_key=None, order_value=None), ScoredPoint(id=4, version=2, score=0.8456209, payload={'color': 'black', 'size': 'XL'}, vector=None, shard_key=None, order_value=None)])"
      ]
     },
     "execution_count": 23,
     "metadata": {},
     "output_type": "execute_result"
    }
   ],
   "source": [
    "#searching in the named vector\n",
    "\n",
    "client.query_points(\n",
    "    collection_name = \"named_vectored_collection\",\n",
    "    query = [0.2,0.1,0.3],\n",
    "    using = \"image\" # this specifies which vector among the text and image to use for the search \n",
    ")"
   ]
  }
 ],
 "metadata": {
  "kernelspec": {
   "display_name": "rag",
   "language": "python",
   "name": "python3"
  },
  "language_info": {
   "codemirror_mode": {
    "name": "ipython",
    "version": 3
   },
   "file_extension": ".py",
   "mimetype": "text/x-python",
   "name": "python",
   "nbconvert_exporter": "python",
   "pygments_lexer": "ipython3",
   "version": "3.10.18"
  }
 },
 "nbformat": 4,
 "nbformat_minor": 5
}
