{
 "cells": [
  {
   "cell_type": "code",
   "execution_count": null,
   "id": "cd580c0f",
   "metadata": {},
   "outputs": [],
   "source": [
    "from qdrant_client import QdrantClient , models\n",
    "\n"
   ]
  },
  {
   "cell_type": "code",
   "execution_count": null,
   "id": "58041f65",
   "metadata": {},
   "outputs": [],
   "source": [
    "client = QdrantClient(url=\"http://localhost:6333\")"
   ]
  },
  {
   "cell_type": "code",
   "execution_count": null,
   "id": "1e53d9e0",
   "metadata": {},
   "outputs": [],
   "source": [
    "client.create_collection(\n",
    "    collection_name=\"qdrant_basics\",\n",
    "    vectors_config = models.VectorParams(size=3,distance=models.Distance.COSINE)\n",
    ")"
   ]
  },
  {
   "cell_type": "code",
   "execution_count": null,
   "id": "c4e9b4d5",
   "metadata": {},
   "outputs": [],
   "source": [
    "client.create_collection(\n",
    "    collection_name = \"random\",\n",
    "    vectors_config=models.VectorParams(size=4,distance = models.Distance.COSINE)\n",
    ")"
   ]
  },
  {
   "cell_type": "code",
   "execution_count": null,
   "id": "ece0cf5e",
   "metadata": {},
   "outputs": [],
   "source": [
    "client.upsert(\n",
    "    collection_name=\"qdrant_basics\",\n",
    "    points=[\n",
    "        models.PointStruct(\n",
    "            id=1,\n",
    "            payload={\"color\":\"red\"},\n",
    "            vector=[0.1,0.2,0.3]\n",
    "        ),\n",
    "        models.PointStruct(\n",
    "            id=2,\n",
    "            payload={\"color\":\"blue\"},\n",
    "            vector=[0.22,0.45,0.55]\n",
    "        )\n",
    "\n",
    "            ]\n",
    "    \n",
    ")"
   ]
  },
  {
   "cell_type": "code",
   "execution_count": null,
   "id": "5ff836a8",
   "metadata": {},
   "outputs": [],
   "source": [
    "client.upsert(\n",
    "    collection_name=\"qdrant_basics\",\n",
    "    points = [\n",
    "        models.PointStruct(\n",
    "            id=3,\n",
    "            payload={\"color\":\"red\"},\n",
    "            vector=[0.1,0.22,0.5]\n",
    "        ),\n",
    "        models.PointStruct(\n",
    "            id=4,\n",
    "            payload={\"color\":\"red\"},\n",
    "            vector=[0.2,0.56,0.33]\n",
    "        )\n",
    "\n",
    "    ]\n",
    ")"
   ]
  },
  {
   "cell_type": "markdown",
   "id": "dc71bf9b",
   "metadata": {},
   "source": [
    "# Updating the Payloads"
   ]
  },
  {
   "cell_type": "code",
   "execution_count": null,
   "id": "785e8a2b",
   "metadata": {},
   "outputs": [],
   "source": [
    "client.set_payload(\n",
    "    collection_name=\"qdrant_basics\",\n",
    "    payload={\"color\":\"green\",\n",
    "             \"size\":\"medium\"},\n",
    "    points=[1,4]\n",
    ")"
   ]
  },
  {
   "cell_type": "code",
   "execution_count": null,
   "id": "0d86a576",
   "metadata": {},
   "outputs": [],
   "source": [
    "client.set_payload(\n",
    "    collection_name = \"qdrant_basics\",\n",
    "    payload = {\"color\":\"green\",\"size\":\"medium\"},\n",
    "\n",
    "    points = models.Filter(\n",
    "        must = [models.FieldCondition(\n",
    "                key = \"color\",\n",
    "                match = models.MatchValue(value = \"red\")\n",
    "\n",
    "        ),\n",
    "        models.FieldCondition(\n",
    "            key=\"size\",\n",
    "            match = models.MatchValue(value=\"large\")\n",
    "        )\n",
    "        ]\n",
    "    )\n",
    "\n",
    ")"
   ]
  },
  {
   "cell_type": "code",
   "execution_count": null,
   "id": "773357e8",
   "metadata": {},
   "outputs": [],
   "source": [
    "#deleting the payloads\n",
    "\n",
    "client.clear_payload(\n",
    "    collection_name = \"qdrant_basics\",\n",
    "\n",
    "    points_selector = [1]\n",
    "\n",
    ")"
   ]
  },
  {
   "cell_type": "code",
   "execution_count": null,
   "id": "ef8c6950",
   "metadata": {},
   "outputs": [],
   "source": [
    "#with filter\n",
    "\n",
    "client.clear_payload(\n",
    "    collection_name = \"qdrant_basics\",\n",
    "    points_selector = models.Filter(\n",
    "        must = [\n",
    "            models.FieldCondition(\n",
    "                key = \"color\",\n",
    "                match = models.MatchValue(value = \"red\")\n",
    "            ),\n",
    "            models.FieldCondition(\n",
    "                key = \"size\",\n",
    "                match = models.MatchValue(value = \"small\")\n",
    "            )\n",
    "        ]\n",
    "    )\n",
    ")\n",
    "\n"
   ]
  },
  {
   "cell_type": "code",
   "execution_count": null,
   "id": "830b716e",
   "metadata": {},
   "outputs": [],
   "source": [
    "#creating indexes according to the payload values\n",
    "\n",
    "client.create_payload_index(\n",
    "    collection_name = \"qdrant_basics\",\n",
    "    field_name = \"color\",\n",
    "    field_schema= \"keyword\" #this denotes that color is string type with categorical value\n",
    ")"
   ]
  },
  {
   "cell_type": "code",
   "execution_count": null,
   "id": "4f983d28",
   "metadata": {},
   "outputs": [],
   "source": [
    "#Inserting ten datas with payloads size and color\n",
    "\n",
    "client.upsert(\n",
    "    collection_name = \"qdrant_basics\",\n",
    "    points = [\n",
    "        models.PointStruct(\n",
    "            id=5,\n",
    "            payload = {\n",
    "                \"color\" : \"red\",\n",
    "                \"size\" : \"medium\"\n",
    "            },\n",
    "            vector = [0.11,0.34,0.33]\n",
    "        ),\n",
    "        models.PointStruct(\n",
    "            id=6,\n",
    "            payload = {\n",
    "                \"color\":\"black\",\n",
    "                \"size\" : \"small\"\n",
    "            },\n",
    "            vector = [0.2,0.35,0.27]\n",
    "        ),\n",
    "        models.PointStruct(\n",
    "            id=7,\n",
    "            payload = {\n",
    "                \"color\":\"blue\",\n",
    "                \"size\" : \"large\"\n",
    "            },\n",
    "            vector = [0.21,0.32,0.29]\n",
    "        ),\n",
    "        models.PointStruct(\n",
    "            id=8,\n",
    "            payload = {\n",
    "                \"color\":\"green\",\n",
    "                \"size\" : \"medium\"\n",
    "            },\n",
    "            vector = [0.32,0.11,0.56]\n",
    "        ),\n",
    "        models.PointStruct(\n",
    "            id=9,\n",
    "            payload = {\n",
    "                \"color\":\"red\",\n",
    "                \"size\" : \"small\"\n",
    "            },\n",
    "            vector = [0.22,0.51,0.01]\n",
    "        ),\n",
    "        models.PointStruct(\n",
    "            id=10,\n",
    "            payload = {\n",
    "                \"color\":\"blue\",\n",
    "                \"size\" : \"large\"\n",
    "            },\n",
    "            vector = [0.2,0.35,0.27]\n",
    "        ),\n",
    "        models.PointStruct(\n",
    "            id=11,\n",
    "            payload = {\n",
    "                \"color\":\"red\",\n",
    "                \"size\" : \"large\"\n",
    "            },\n",
    "            vector = [0.11,0.63,0.92]\n",
    "        ),\n",
    "        models.PointStruct(\n",
    "            id=12,\n",
    "            payload = {\n",
    "                \"color\":\"green\",\n",
    "                \"size\" : \"medium\"\n",
    "            },\n",
    "            vector = [0.23,0.82,0.61]\n",
    "        )\n",
    "        \n",
    "    ]\n",
    ")"
   ]
  },
  {
   "cell_type": "code",
   "execution_count": null,
   "id": "7f20f8c4",
   "metadata": {},
   "outputs": [],
   "source": [
    "#setting payloads for points having no size payload\n",
    "\n",
    "client.set_payload(\n",
    "    collection_name = \"qdrant_basics\",\n",
    "    payload = {\"size\":\"small\"},\n",
    "    points = [2,3]\n",
    ")"
   ]
  },
  {
   "cell_type": "code",
   "execution_count": null,
   "id": "1593e89b",
   "metadata": {},
   "outputs": [],
   "source": [
    "client.set_payload(\n",
    "    collection_name= \"qdrant_basics\",\n",
    "    payload = {\n",
    "        \"color\" : \"black\",\n",
    "        \"size\" : \"large\"\n",
    "    },\n",
    "    points = [1]\n",
    ")"
   ]
  },
  {
   "cell_type": "code",
   "execution_count": null,
   "id": "dc13e39f",
   "metadata": {},
   "outputs": [],
   "source": [
    "client.create_payload_index(\n",
    "    collection_name=\"qdrant_basics\",\n",
    "    field_name = \"size\",\n",
    "    field_schema = \"keyword\"\n",
    ")"
   ]
  },
  {
   "cell_type": "code",
   "execution_count": null,
   "id": "5206896e",
   "metadata": {},
   "outputs": [],
   "source": [
    "#Facet Counts is like the MySQL count aggregation with where and group by clause in vector database\n",
    "client.facet(\n",
    "    collection_name = \"qdrant_basics\",\n",
    "    key = \"color\", #this is like the gorup by clause where the count is done grouped by color key(payload)\n",
    "    facet_filter= models.Filter(must=[models.FieldCondition(\n",
    "        key = \"size\",\n",
    "        match = models.MatchValue(value=\"large\")\n",
    "    )])\n",
    "    #this is like the where clause where the count is \n",
    "    #only done on the basis of the points where size = large\n",
    "    #this is optional field \n",
    ")"
   ]
  },
  {
   "cell_type": "code",
   "execution_count": null,
   "id": "a753c527",
   "metadata": {},
   "outputs": [],
   "source": [
    "client.facet(\n",
    "    collection_name = \"qdrant_basics\",\n",
    "    key = \"color\"\n",
    ")"
   ]
  },
  {
   "cell_type": "markdown",
   "id": "2dd8e17e",
   "metadata": {},
   "source": [
    "# Searching\n"
   ]
  },
  {
   "cell_type": "code",
   "execution_count": null,
   "id": "59fffef1",
   "metadata": {},
   "outputs": [],
   "source": [
    "client.query_points(\n",
    "    collection_name = \"qdrant_basics\",\n",
    "    query = [0.1,0.2,0.3]\n",
    ")"
   ]
  },
  {
   "cell_type": "code",
   "execution_count": null,
   "id": "4888c5b1",
   "metadata": {},
   "outputs": [],
   "source": [
    "#searching with Filtering, Limits and Params\n",
    "\n",
    "client.query_points(\n",
    "    collection_name = \"qdrant_basics\",\n",
    "    query = [0.22,0.34,0.45],\n",
    "\n",
    "    query_filter = models.Filter(\n",
    "        must = [\n",
    "            models.FieldCondition(\n",
    "                key = \"color\",\n",
    "                match = models.MatchValue(value = \"red\")\n",
    "            )\n",
    "        ]\n",
    "\n",
    "    ),\n",
    "    search_params = models.SearchParams(hnsw_ef = 128,exact = False), #here the search params are the custom parameters for search\n",
    "    #hnsw = graph search algorithm and the ef paramater determines the number nearest neighbours to expand at once, \n",
    "    # exact determines whether or not to search for the point with the exact vector\n",
    "    #indexed_only = determines whether or not to include the vectors that are indexed\n",
    "    limit = 4 #how many points to return from the search\n",
    "\n",
    ")"
   ]
  },
  {
   "cell_type": "code",
   "execution_count": null,
   "id": "3eb13d1c",
   "metadata": {},
   "outputs": [],
   "source": [
    "#searching with more params\n",
    "\n",
    "client.query_points(\n",
    "    collection_name = \"qdrant_basics\",\n",
    "    query = [0.21,0.32,0.43],\n",
    "    with_vectors = True,\n",
    "    with_payload = models.PayloadSelectorExclude(\n",
    "        exclude = [\"color\"]\n",
    "    )\n",
    ")"
   ]
  },
  {
   "cell_type": "code",
   "execution_count": null,
   "id": "ffbb0f99",
   "metadata": {},
   "outputs": [],
   "source": [
    "#batch search \n",
    "# so we create different single requests and batch them together in a single request \n",
    "filter_ = models.Filter(\n",
    "    must = [\n",
    "        models.FieldCondition(\n",
    "            key = \"color\",\n",
    "            match = models.MatchValue(value = \"red\")\n",
    "        )\n",
    "    ]\n",
    ")\n",
    "search_params = models.SearchParams(hnsw_ef = 128, exact = False )\n",
    "search_queries = [\n",
    "    models.QueryRequest(query=[0.1,0.2,0.3],filter=filter_,limit = 3),\n",
    "    models.QueryRequest(query = [0.11,0.22,0.33],filter = filter_, limit = 5, params = search_params)\n",
    "]\n",
    "\n",
    "client.query_batch_points(collection_name = \"qdrant_basics\",requests = search_queries)   "
   ]
  },
  {
   "cell_type": "code",
   "execution_count": null,
   "id": "a754da65",
   "metadata": {},
   "outputs": [],
   "source": [
    "#query by id\n",
    "#using the id of a point which fetches the vector of that point and use it as query\n",
    "\n",
    "client.query_points(\n",
    "    collection_name = \"qdrant_basics\",\n",
    "    query = 1 #point 1 is excluded\n",
    ")"
   ]
  },
  {
   "cell_type": "code",
   "execution_count": null,
   "id": "8a3dcc74",
   "metadata": {},
   "outputs": [],
   "source": [
    "#search with an offset. So if the offset is set to 100 the search result skips all the 100 search result and starts\n",
    "#after the first 100 results. This is known as pagination\n",
    "\n",
    "client.query_points(\n",
    "    collection_name = \"qdrant_basics\",\n",
    "    query = [0.11,0.22,0.23],\n",
    "    offset = 2,\n",
    "    with_vectors = True,\n",
    "    with_payload = True,\n",
    "    limit = 4\n",
    ")"
   ]
  },
  {
   "cell_type": "code",
   "execution_count": null,
   "id": "797e7067",
   "metadata": {},
   "outputs": [],
   "source": [
    "# Group Searching\n",
    "\n",
    "client.query_points_groups(\n",
    "    collection_name = \"qdrant_basics\",\n",
    "    group_by = \"color\",\n",
    "    limit = 4,\n",
    "    query = [0.1,0.2,0.3],\n",
    "    group_size = 2\n",
    ")"
   ]
  },
  {
   "cell_type": "code",
   "execution_count": null,
   "id": "1886c92b",
   "metadata": {},
   "outputs": [],
   "source": [
    "#Random Sampling\n",
    "#this is used to use random sample just to retrieve the points\n",
    "client.query_points(\n",
    "    collection_name = \"qdrant_basics\",\n",
    "    query = models.SampleQuery(sample = models.Sample.RANDOM)\n",
    ")"
   ]
  },
  {
   "cell_type": "code",
   "execution_count": null,
   "id": "1f779688",
   "metadata": {},
   "outputs": [],
   "source": [
    "#Parametarized Indexing of the payloads\n",
    "client.create_payload_index(\n",
    "    collection_name = \"qdrant_basics\",\n",
    "    field_name = \"age\",\n",
    "    field_schema = models.IntegerIndexParams(\n",
    "        type = models.IntegerIndexType.INTEGER,\n",
    "        lookup = False,\n",
    "        range = True\n",
    "    )\n",
    ")"
   ]
  },
  {
   "cell_type": "code",
   "execution_count": null,
   "id": "b1dd7c67",
   "metadata": {},
   "outputs": [],
   "source": [
    "client.create_payload_index(\n",
    "    collection_name = \"qdrant_basics\",\n",
    "    field_name = \"color\",\n",
    "    field_schema = models.KeywordIndexParams(\n",
    "        type = models.KeywordIndexType.KEYWORD,\n",
    "        on_disk=True\n",
    "    )\n",
    ")"
   ]
  },
  {
   "cell_type": "code",
   "execution_count": null,
   "id": "4348ac87",
   "metadata": {},
   "outputs": [],
   "source": [
    "client.set_payload(\n",
    "    collection_name = \"qdrant_basics\",\n",
    "    payload = {\"tenant_id\":\"A\"},\n",
    "    points = [1,2,3,4,5,6]\n",
    ")"
   ]
  },
  {
   "cell_type": "code",
   "execution_count": null,
   "id": "619beec6",
   "metadata": {},
   "outputs": [],
   "source": [
    "client.set_payload(\n",
    "    collection_name = \"qdrant_basics\",\n",
    "    payload = {\"tenant_id\":\"B\"},\n",
    "    points = [7,8,9,10,11,12]\n",
    ")"
   ]
  },
  {
   "cell_type": "code",
   "execution_count": null,
   "id": "ef55fec8",
   "metadata": {},
   "outputs": [],
   "source": [
    "client.create_payload_index(\n",
    "    collection_name = \"qdrant_basics\",\n",
    "    field_name = \"tenant_id\",\n",
    "    field_schema=models.KeywordIndexParams(\n",
    "        type = models.KeywordIndexType.KEYWORD,\n",
    "        is_tenant = True\n",
    "    )\n",
    "    \n",
    ")"
   ]
  },
  {
   "cell_type": "code",
   "execution_count": null,
   "id": "6f9bf6aa",
   "metadata": {},
   "outputs": [],
   "source": [
    "client.set_payload(\n",
    "    collection_name = \"qdrant_basics\",\n",
    "    payload = {\n",
    "        \"age\" :12\n",
    "    },\n",
    "    points= [1,2,3,4]\n",
    ")"
   ]
  },
  {
   "cell_type": "code",
   "execution_count": null,
   "id": "e13dffa4",
   "metadata": {},
   "outputs": [],
   "source": [
    "client.set_payload(\n",
    "    collection_name = \"qdrant_basics\",\n",
    "    payload = {\n",
    "        \"age\" :13\n",
    "    },\n",
    "    points= [5,6,7,8]\n",
    ")"
   ]
  },
  {
   "cell_type": "code",
   "execution_count": null,
   "id": "48aca0b9",
   "metadata": {},
   "outputs": [],
   "source": [
    "client.set_payload(\n",
    "    collection_name = \"qdrant_basics\",\n",
    "    payload = {\n",
    "        \"age\" :14\n",
    "    },\n",
    "    points= [9,10,11,12]\n",
    ")"
   ]
  },
  {
   "cell_type": "code",
   "execution_count": null,
   "id": "5f36551d",
   "metadata": {},
   "outputs": [],
   "source": [
    "client.query_points(\n",
    "    collection_name=\"qdrant_basics\",\n",
    "    query=[0.1,0.2,0.3],\n",
    "    query_filter=models.Filter(\n",
    "        must=[models.FieldCondition(\n",
    "            key=\"age\", \n",
    "            range=models.Range(gte=10, lte=13)\n",
    "        )]\n",
    "    )\n",
    ")"
   ]
  },
  {
   "cell_type": "markdown",
   "id": "56770fb6",
   "metadata": {},
   "source": [
    "# Named Vectors Collection"
   ]
  },
  {
   "cell_type": "code",
   "execution_count": null,
   "id": "2d8ce7c8",
   "metadata": {},
   "outputs": [],
   "source": [
    "#creation of multiple vectors for a point named vectors\n",
    "\n",
    "client.create_collection(\n",
    "    collection_name = \"named_vectored_collection\",\n",
    "    vectors_config = {\n",
    "        \"image\" : models.VectorParams(size = 3, distance=models.Distance.COSINE),\n",
    "        \"text\" : models.VectorParams(size = 4, distance=models.Distance.COSINE)\n",
    "    }\n",
    ")"
   ]
  },
  {
   "cell_type": "code",
   "execution_count": null,
   "id": "b6b329ab",
   "metadata": {},
   "outputs": [],
   "source": [
    "#inserting 10 points in the named Vectors\n",
    "\n",
    "client.upsert(\n",
    "    collection_name = \"named_vectored_collection\",\n",
    "    points = [\n",
    "        models.PointStruct(\n",
    "            id=1,\n",
    "            payload = {\"color\":\"red\", \"size\" : \"XXL\" },\n",
    "            vector = {\n",
    "                \"image\" :[0.1,0.2,0.3],\n",
    "                \"text\" : [0.11,0.21,0.31,0.2]\n",
    "            },\n",
    "\n",
    "        )\n",
    "    ]\n",
    ")"
   ]
  },
  {
   "cell_type": "code",
   "execution_count": null,
   "id": "76b9aa26",
   "metadata": {},
   "outputs": [],
   "source": [
    "client.upsert(\n",
    "    collection_name = \"named_vectored_collection\",\n",
    "    points = [\n",
    "        models.PointStruct(\n",
    "            id=2,\n",
    "            vector = {\n",
    "                \"image\" :[0.23,0.44,0.33],\n",
    "                \"text\" : [0.11,0.2,0.23,0.71]\n",
    "            }\n",
    "        ),\n",
    "        models.PointStruct(\n",
    "            id=3,\n",
    "            vector = {\n",
    "                \"image\" :[0.21,0.34,0.83],\n",
    "                \"text\" : [0.71,0.87,0.91,0.21]\n",
    "            }\n",
    "        ),\n",
    "        models.PointStruct(\n",
    "            id=4,\n",
    "            vector = {\n",
    "                \"image\" :[0.12,0.73,0.93],\n",
    "                \"text\" : [0.01,0.02,0.03,0.11]\n",
    "            }\n",
    "        )\n",
    "    ]\n",
    ")"
   ]
  },
  {
   "cell_type": "code",
   "execution_count": null,
   "id": "4a70d61b",
   "metadata": {},
   "outputs": [],
   "source": [
    "client.set_payload(\n",
    "    collection_name = \"named_vectored_collection\",\n",
    "    payload = {\n",
    "        \"color\":\"black\",\n",
    "        \"size\":\"XL\"\n",
    "    },\n",
    "    points = [2,3,4]\n",
    ")"
   ]
  },
  {
   "cell_type": "code",
   "execution_count": null,
   "id": "6f04418c",
   "metadata": {},
   "outputs": [],
   "source": [
    "client.create_payload_index(\n",
    "    collection_name = \"named_vectored_collection\",\n",
    "    field_name = \"color\",\n",
    "    field_schema = \"keyword\"\n",
    ")\n"
   ]
  },
  {
   "cell_type": "code",
   "execution_count": null,
   "id": "11c9334b",
   "metadata": {},
   "outputs": [],
   "source": [
    "client.create_payload_index(\n",
    "    collection_name = \"named_vectored_collection\",\n",
    "    field_name = \"size\",\n",
    "    field_schema = \"keyword\"\n",
    ")"
   ]
  },
  {
   "cell_type": "code",
   "execution_count": null,
   "id": "c1375853",
   "metadata": {},
   "outputs": [],
   "source": [
    "#searching in the named vector\n",
    "\n",
    "client.query_points(\n",
    "    collection_name = \"named_vectored_collection\",\n",
    "    query = [0.2,0.1,0.3],\n",
    "    using = \"image\" # this specifies which vector among the text and image to use for the search \n",
    ")"
   ]
  },
  {
   "cell_type": "markdown",
   "id": "053963f3",
   "metadata": {},
   "source": [
    "# Snapshots"
   ]
  },
  {
   "cell_type": "code",
   "execution_count": null,
   "id": "d7e034d8",
   "metadata": {},
   "outputs": [],
   "source": [
    "client.create_snapshot(\n",
    "    collection_name = \"qdrant_basics\"\n",
    ")"
   ]
  },
  {
   "cell_type": "code",
   "execution_count": null,
   "id": "06c60c9f",
   "metadata": {},
   "outputs": [],
   "source": [
    "client.list_snapshots(\n",
    "    collection_name = \"qdrant_basics\"\n",
    ")"
   ]
  },
  {
   "cell_type": "markdown",
   "id": "c03b4b20",
   "metadata": {},
   "source": [
    "# RRF and Hybrid Queries\n"
   ]
  },
  {
   "cell_type": "code",
   "execution_count": null,
   "id": "800960ee",
   "metadata": {},
   "outputs": [],
   "source": [
    "client.create_collection(\n",
    "    collection_name=\"for_rrf\",\n",
    "    vectors_config={\"dense\":models.VectorParams(size=3, distance=models.Distance.COSINE)},\n",
    "    sparse_vectors_config = {\"sparse\":models.SparseVectorParams()}\n",
    ")"
   ]
  },
  {
   "cell_type": "code",
   "execution_count": null,
   "id": "9d73426d",
   "metadata": {},
   "outputs": [],
   "source": [
    "client.upsert(\n",
    "    collection_name = \"for_rrf\",\n",
    "    points= [\n",
    "    models.PointStruct(\n",
    "        id =2,\n",
    "        payload = {\"text\":\"Cats are lovely pets\"},\n",
    "        vector = {\n",
    "            \"dense\":[0.11, 0.25, 0.37],\n",
    "            \"sparse\":models.SparseVector(indices=[10, 42],values=[0.7, 0.3])\n",
    "            \n",
    "        },\n",
    "        \n",
    "    ),\n",
    "    models.PointStruct(\n",
    "        id =3,\n",
    "        payload = {\"text\":\"Dogs are loyal companion\"},\n",
    "        vector = {\n",
    "            \"dense\":[0.15, 0.22, 0.39],\n",
    "            \"sparse\":models.SparseVector(indices=[15, 42],values=[0.5, 0.4])\n",
    "            \n",
    "        },\n",
    "        \n",
    "    ),\n",
    "    models.PointStruct(\n",
    "        id =4,\n",
    "        payload = {\"text\":\"Cats and dogs often play together\"},\n",
    "        vector = {\n",
    "            \"dense\":[0.14, 0.28, 0.36],\n",
    "            \"sparse\":models.SparseVector(indices=[10, 15],values=[0.6, 0.5])\n",
    "            \n",
    "        },\n",
    "        \n",
    "    ),\n",
    "    ]\n",
    ")"
   ]
  },
  {
   "cell_type": "code",
   "execution_count": null,
   "id": "9bc77e39",
   "metadata": {},
   "outputs": [],
   "source": [
    "client.query_points(\n",
    "    collection_name = \"for_rrf\",\n",
    "    prefetch = [models.Prefetch(\n",
    "        query = [0.1,0.2,0.3],\n",
    "        using = \"dense\"\n",
    "    ),\n",
    "    models.Prefetch(\n",
    "        query = models.SparseVector(indices = [10,42],values=[0.61,0.43]),\n",
    "        using = \"sparse\"\n",
    "    ),\n",
    "\n",
    "    ],\n",
    "    query = models.FusionQuery(fusion = models.Fusion.RRF)\n",
    ")"
   ]
  },
  {
   "cell_type": "markdown",
   "id": "3fdbbedb",
   "metadata": {},
   "source": [
    "# Qdrant Basic for a Json File"
   ]
  },
  {
   "cell_type": "code",
   "execution_count": 1,
   "id": "0e8504e9",
   "metadata": {},
   "outputs": [],
   "source": [
    "from qdrant_client import QdrantClient, models\n"
   ]
  },
  {
   "cell_type": "code",
   "execution_count": 2,
   "id": "f7a5e8df",
   "metadata": {},
   "outputs": [],
   "source": [
    "import json\n",
    "import re\n",
    "import os"
   ]
  },
  {
   "cell_type": "code",
   "execution_count": 3,
   "id": "c9429668",
   "metadata": {},
   "outputs": [
    {
     "name": "stderr",
     "output_type": "stream",
     "text": [
      "c:\\Users\\royka\\.conda\\envs\\rag\\lib\\site-packages\\tqdm\\auto.py:21: TqdmWarning: IProgress not found. Please update jupyter and ipywidgets. See https://ipywidgets.readthedocs.io/en/stable/user_install.html\n",
      "  from .autonotebook import tqdm as notebook_tqdm\n"
     ]
    }
   ],
   "source": [
    "from sentence_transformers import SentenceTransformer"
   ]
  },
  {
   "cell_type": "code",
   "execution_count": 88,
   "id": "dfd53c9a",
   "metadata": {},
   "outputs": [],
   "source": [
    "#variables for Qdrant Database creation\n",
    "json_file_path = \"camera-screen-guards.json\"\n",
    "base_name = os.path.splitext(os.path.basename(json_file_path))[0]\n",
    "chunk_size = 256\n",
    "embedding_model_name = \"all-MiniLM-L6-v2\""
   ]
  },
  {
   "cell_type": "code",
   "execution_count": 89,
   "id": "4d05aca9",
   "metadata": {},
   "outputs": [],
   "source": [
    "#chunking function\n",
    "\n",
    "def chunk_text(text,chunk_size):\n",
    "    start = 0\n",
    "    tokens = re.findall(r'\\w+|[{}[\\]:,\",]', text)\n",
    "    chunks = []\n",
    "    while start<=len(tokens):\n",
    "        end = min(start+chunk_size,len(tokens))\n",
    "        chunk = \" \".join(tokens[start:end])\n",
    "        chunks.append(chunk)\n",
    "        start+=chunk_size\n",
    "\n",
    "    return chunks"
   ]
  },
  {
   "cell_type": "code",
   "execution_count": 90,
   "id": "6b239473",
   "metadata": {},
   "outputs": [],
   "source": [
    "#loading the json file and dumping it into a string\n",
    "\n",
    "with open(json_file_path,'r',encoding=\"utf-8\") as f:\n",
    "    data=json.load(f)\n",
    "\n",
    "#dumping into a raw string\n",
    "\n",
    "raw_text = json.dumps(data)"
   ]
  },
  {
   "cell_type": "code",
   "execution_count": 91,
   "id": "1397e8d9",
   "metadata": {},
   "outputs": [
    {
     "name": "stdout",
     "output_type": "stream",
     "text": [
      "135\n"
     ]
    }
   ],
   "source": [
    "chunks = chunk_text(raw_text,chunk_size=256)\n",
    "\n",
    "print(len(chunks))\n"
   ]
  },
  {
   "cell_type": "code",
   "execution_count": 8,
   "id": "e70d6579",
   "metadata": {},
   "outputs": [],
   "source": [
    "#embedding and storing in a collection\n",
    "\n",
    "encoder = SentenceTransformer(\"all-MiniLM-L6-v2\")"
   ]
  },
  {
   "cell_type": "code",
   "execution_count": 9,
   "id": "ea1a539e",
   "metadata": {},
   "outputs": [],
   "source": [
    "client = QdrantClient(url=\"http://localhost:6333\")"
   ]
  },
  {
   "cell_type": "code",
   "execution_count": 10,
   "id": "320660de",
   "metadata": {},
   "outputs": [
    {
     "data": {
      "text/plain": [
       "384"
      ]
     },
     "execution_count": 10,
     "metadata": {},
     "output_type": "execute_result"
    }
   ],
   "source": [
    "encoder.get_sentence_embedding_dimension()"
   ]
  },
  {
   "cell_type": "code",
   "execution_count": 12,
   "id": "f0f1ff74",
   "metadata": {},
   "outputs": [
    {
     "data": {
      "text/plain": [
       "True"
      ]
     },
     "execution_count": 12,
     "metadata": {},
     "output_type": "execute_result"
    }
   ],
   "source": [
    "client.create_collection(\n",
    "    collection_name = \"daraz_items\",\n",
    "    vectors_config = models.VectorParams(size = encoder.get_sentence_embedding_dimension(), distance = models.Distance.COSINE)\n",
    ")"
   ]
  },
  {
   "cell_type": "code",
   "execution_count": 92,
   "id": "6d8d7ed9",
   "metadata": {},
   "outputs": [],
   "source": [
    "info = client.get_collection(collection_name= \"daraz_items\")"
   ]
  },
  {
   "cell_type": "code",
   "execution_count": 93,
   "id": "ad7a3918",
   "metadata": {},
   "outputs": [
    {
     "data": {
      "text/plain": [
       "716"
      ]
     },
     "execution_count": 93,
     "metadata": {},
     "output_type": "execute_result"
    }
   ],
   "source": [
    "number = info.points_count\n",
    "number"
   ]
  },
  {
   "cell_type": "code",
   "execution_count": 94,
   "id": "96a2de98",
   "metadata": {},
   "outputs": [
    {
     "name": "stderr",
     "output_type": "stream",
     "text": [
      "Batches: 100%|██████████| 5/5 [00:04<00:00,  1.09it/s]\n"
     ]
    }
   ],
   "source": [
    "embeddings = encoder.encode(chunks,show_progress_bar = True, convert_to_numpy = True)"
   ]
  },
  {
   "cell_type": "code",
   "execution_count": 95,
   "id": "a18f99d5",
   "metadata": {},
   "outputs": [
    {
     "data": {
      "text/plain": [
       "array([[ 0.00843654,  0.11279827,  0.01548663, ..., -0.00138694,\n",
       "         0.04105727,  0.035195  ],\n",
       "       [-0.01681552, -0.01440025, -0.09341506, ..., -0.04374988,\n",
       "        -0.08263876,  0.06124899],\n",
       "       [-0.05197982,  0.03899287, -0.07455286, ...,  0.0030145 ,\n",
       "        -0.0104704 ,  0.05836742],\n",
       "       ...,\n",
       "       [-0.09090393,  0.07039408, -0.00985325, ..., -0.0489689 ,\n",
       "         0.01599411,  0.07248552],\n",
       "       [ 0.05407335,  0.09096282,  0.01182684, ..., -0.06614245,\n",
       "        -0.02529055,  0.04595781],\n",
       "       [-0.03317895,  0.04520515, -0.06388604, ..., -0.08347257,\n",
       "         0.00757957,  0.07976647]], shape=(135, 384), dtype=float32)"
      ]
     },
     "execution_count": 95,
     "metadata": {},
     "output_type": "execute_result"
    }
   ],
   "source": [
    "embeddings"
   ]
  },
  {
   "cell_type": "markdown",
   "id": "d476b6bc",
   "metadata": {},
   "source": [
    "# Storing in the database"
   ]
  },
  {
   "cell_type": "code",
   "execution_count": 19,
   "id": "8690f103",
   "metadata": {},
   "outputs": [],
   "source": [
    "offset = 0"
   ]
  },
  {
   "cell_type": "code",
   "execution_count": 96,
   "id": "7ae9255f",
   "metadata": {},
   "outputs": [
    {
     "name": "stdout",
     "output_type": "stream",
     "text": [
      "[Record(id=715, payload=None, vector=None, shard_key=None, order_value=715), Record(id=714, payload=None, vector=None, shard_key=None, order_value=714), Record(id=713, payload=None, vector=None, shard_key=None, order_value=713), Record(id=712, payload=None, vector=None, shard_key=None, order_value=712), Record(id=711, payload=None, vector=None, shard_key=None, order_value=711), Record(id=710, payload=None, vector=None, shard_key=None, order_value=710), Record(id=709, payload=None, vector=None, shard_key=None, order_value=709), Record(id=708, payload=None, vector=None, shard_key=None, order_value=708), Record(id=707, payload=None, vector=None, shard_key=None, order_value=707), Record(id=706, payload=None, vector=None, shard_key=None, order_value=706), Record(id=705, payload=None, vector=None, shard_key=None, order_value=705), Record(id=704, payload=None, vector=None, shard_key=None, order_value=704), Record(id=703, payload=None, vector=None, shard_key=None, order_value=703), Record(id=702, payload=None, vector=None, shard_key=None, order_value=702), Record(id=701, payload=None, vector=None, shard_key=None, order_value=701), Record(id=700, payload=None, vector=None, shard_key=None, order_value=700), Record(id=699, payload=None, vector=None, shard_key=None, order_value=699), Record(id=698, payload=None, vector=None, shard_key=None, order_value=698), Record(id=697, payload=None, vector=None, shard_key=None, order_value=697), Record(id=696, payload=None, vector=None, shard_key=None, order_value=696), Record(id=695, payload=None, vector=None, shard_key=None, order_value=695), Record(id=694, payload=None, vector=None, shard_key=None, order_value=694), Record(id=693, payload=None, vector=None, shard_key=None, order_value=693), Record(id=692, payload=None, vector=None, shard_key=None, order_value=692), Record(id=691, payload=None, vector=None, shard_key=None, order_value=691), Record(id=690, payload=None, vector=None, shard_key=None, order_value=690), Record(id=689, payload=None, vector=None, shard_key=None, order_value=689), Record(id=688, payload=None, vector=None, shard_key=None, order_value=688), Record(id=687, payload=None, vector=None, shard_key=None, order_value=687), Record(id=686, payload=None, vector=None, shard_key=None, order_value=686), Record(id=685, payload=None, vector=None, shard_key=None, order_value=685), Record(id=684, payload=None, vector=None, shard_key=None, order_value=684), Record(id=683, payload=None, vector=None, shard_key=None, order_value=683), Record(id=682, payload=None, vector=None, shard_key=None, order_value=682), Record(id=681, payload=None, vector=None, shard_key=None, order_value=681), Record(id=680, payload=None, vector=None, shard_key=None, order_value=680), Record(id=679, payload=None, vector=None, shard_key=None, order_value=679), Record(id=678, payload=None, vector=None, shard_key=None, order_value=678), Record(id=677, payload=None, vector=None, shard_key=None, order_value=677), Record(id=676, payload=None, vector=None, shard_key=None, order_value=676), Record(id=675, payload=None, vector=None, shard_key=None, order_value=675), Record(id=674, payload=None, vector=None, shard_key=None, order_value=674), Record(id=673, payload=None, vector=None, shard_key=None, order_value=673), Record(id=672, payload=None, vector=None, shard_key=None, order_value=672), Record(id=671, payload=None, vector=None, shard_key=None, order_value=671), Record(id=670, payload=None, vector=None, shard_key=None, order_value=670), Record(id=669, payload=None, vector=None, shard_key=None, order_value=669), Record(id=668, payload=None, vector=None, shard_key=None, order_value=668), Record(id=667, payload=None, vector=None, shard_key=None, order_value=667), Record(id=666, payload=None, vector=None, shard_key=None, order_value=666), Record(id=665, payload=None, vector=None, shard_key=None, order_value=665), Record(id=664, payload=None, vector=None, shard_key=None, order_value=664), Record(id=663, payload=None, vector=None, shard_key=None, order_value=663), Record(id=662, payload=None, vector=None, shard_key=None, order_value=662), Record(id=661, payload=None, vector=None, shard_key=None, order_value=661), Record(id=660, payload=None, vector=None, shard_key=None, order_value=660), Record(id=659, payload=None, vector=None, shard_key=None, order_value=659), Record(id=658, payload=None, vector=None, shard_key=None, order_value=658), Record(id=657, payload=None, vector=None, shard_key=None, order_value=657), Record(id=656, payload=None, vector=None, shard_key=None, order_value=656), Record(id=655, payload=None, vector=None, shard_key=None, order_value=655), Record(id=654, payload=None, vector=None, shard_key=None, order_value=654), Record(id=653, payload=None, vector=None, shard_key=None, order_value=653), Record(id=652, payload=None, vector=None, shard_key=None, order_value=652), Record(id=651, payload=None, vector=None, shard_key=None, order_value=651), Record(id=650, payload=None, vector=None, shard_key=None, order_value=650), Record(id=649, payload=None, vector=None, shard_key=None, order_value=649), Record(id=648, payload=None, vector=None, shard_key=None, order_value=648), Record(id=647, payload=None, vector=None, shard_key=None, order_value=647), Record(id=646, payload=None, vector=None, shard_key=None, order_value=646), Record(id=645, payload=None, vector=None, shard_key=None, order_value=645), Record(id=644, payload=None, vector=None, shard_key=None, order_value=644), Record(id=643, payload=None, vector=None, shard_key=None, order_value=643), Record(id=642, payload=None, vector=None, shard_key=None, order_value=642), Record(id=641, payload=None, vector=None, shard_key=None, order_value=641), Record(id=640, payload=None, vector=None, shard_key=None, order_value=640), Record(id=639, payload=None, vector=None, shard_key=None, order_value=639), Record(id=638, payload=None, vector=None, shard_key=None, order_value=638), Record(id=637, payload=None, vector=None, shard_key=None, order_value=637), Record(id=636, payload=None, vector=None, shard_key=None, order_value=636), Record(id=635, payload=None, vector=None, shard_key=None, order_value=635), Record(id=634, payload=None, vector=None, shard_key=None, order_value=634), Record(id=633, payload=None, vector=None, shard_key=None, order_value=633), Record(id=632, payload=None, vector=None, shard_key=None, order_value=632), Record(id=631, payload=None, vector=None, shard_key=None, order_value=631), Record(id=630, payload=None, vector=None, shard_key=None, order_value=630), Record(id=629, payload=None, vector=None, shard_key=None, order_value=629), Record(id=628, payload=None, vector=None, shard_key=None, order_value=628), Record(id=627, payload=None, vector=None, shard_key=None, order_value=627), Record(id=626, payload=None, vector=None, shard_key=None, order_value=626), Record(id=625, payload=None, vector=None, shard_key=None, order_value=625), Record(id=624, payload=None, vector=None, shard_key=None, order_value=624), Record(id=623, payload=None, vector=None, shard_key=None, order_value=623), Record(id=622, payload=None, vector=None, shard_key=None, order_value=622), Record(id=621, payload=None, vector=None, shard_key=None, order_value=621), Record(id=620, payload=None, vector=None, shard_key=None, order_value=620), Record(id=619, payload=None, vector=None, shard_key=None, order_value=619), Record(id=618, payload=None, vector=None, shard_key=None, order_value=618), Record(id=617, payload=None, vector=None, shard_key=None, order_value=617), Record(id=616, payload=None, vector=None, shard_key=None, order_value=616)]\n"
     ]
    }
   ],
   "source": [
    "offset = 0\n",
    "res, _ = client.scroll(\n",
    "    collection_name=\"daraz_items\",\n",
    "    limit=100,\n",
    "    with_payload=False,\n",
    "    with_vectors=False,\n",
    "    order_by = {\n",
    "        \"key\" : \"chunk_id\",\n",
    "        \"direction\" : \"desc\"\n",
    "    }\n",
    ")\n",
    "print(res)\n",
    "\n",
    "if res:\n",
    "    last_id = res[0].id\n",
    "    offset = last_id + 1\n",
    "else:\n",
    "    offset = 0 "
   ]
  },
  {
   "cell_type": "code",
   "execution_count": 97,
   "id": "361ec179",
   "metadata": {},
   "outputs": [
    {
     "data": {
      "text/plain": [
       "716"
      ]
     },
     "execution_count": 97,
     "metadata": {},
     "output_type": "execute_result"
    }
   ],
   "source": [
    "offset"
   ]
  },
  {
   "cell_type": "code",
   "execution_count": 98,
   "id": "19c0ed53",
   "metadata": {},
   "outputs": [
    {
     "data": {
      "text/plain": [
       "'camera-screen-guards'"
      ]
     },
     "execution_count": 98,
     "metadata": {},
     "output_type": "execute_result"
    }
   ],
   "source": [
    "base_name"
   ]
  },
  {
   "cell_type": "code",
   "execution_count": 99,
   "id": "2e34befc",
   "metadata": {},
   "outputs": [
    {
     "data": {
      "text/plain": [
       "UpdateResult(operation_id=16, status=<UpdateStatus.COMPLETED: 'completed'>)"
      ]
     },
     "execution_count": 99,
     "metadata": {},
     "output_type": "execute_result"
    }
   ],
   "source": [
    "client.upsert(\n",
    "    collection_name = \"daraz_items\",\n",
    "    points = [\n",
    "        models.PointStruct(\n",
    "            id = idx + offset,\n",
    "            vector = embeddings[idx].tolist(), payload = {\n",
    "                \"chunk_id\" : idx + offset,\n",
    "                \"file_name\":base_name,\n",
    "                \"chunk\" : chunks[idx]\n",
    "            })\n",
    "            for idx in range(len(chunks))\n",
    "    ]\n",
    ")"
   ]
  },
  {
   "cell_type": "code",
   "execution_count": 23,
   "id": "1bf3553f",
   "metadata": {},
   "outputs": [
    {
     "data": {
      "text/plain": [
       "UpdateResult(operation_id=6, status=<UpdateStatus.COMPLETED: 'completed'>)"
      ]
     },
     "execution_count": 23,
     "metadata": {},
     "output_type": "execute_result"
    }
   ],
   "source": [
    "client.create_payload_index(\n",
    "    collection_name = \"daraz_items\",\n",
    "    field_name= \"chunk_id\",\n",
    "    field_schema=\"integer\"\n",
    ")"
   ]
  },
  {
   "cell_type": "code",
   "execution_count": 25,
   "id": "a8a579d4",
   "metadata": {},
   "outputs": [
    {
     "data": {
      "text/plain": [
       "UpdateResult(operation_id=10, status=<UpdateStatus.COMPLETED: 'completed'>)"
      ]
     },
     "execution_count": 25,
     "metadata": {},
     "output_type": "execute_result"
    }
   ],
   "source": [
    "client.create_payload_index(\n",
    "    collection_name = \"daraz_items\",\n",
    "    field_name = \"file_name\",\n",
    "    field_schema = models.KeywordIndexParams(type = models.KeywordIndexType.KEYWORD)\n",
    ")"
   ]
  },
  {
   "cell_type": "code",
   "execution_count": 49,
   "id": "48ce450f",
   "metadata": {},
   "outputs": [
    {
     "data": {
      "text/plain": [
       "UpdateResult(operation_id=6, status=<UpdateStatus.COMPLETED: 'completed'>)"
      ]
     },
     "execution_count": 49,
     "metadata": {},
     "output_type": "execute_result"
    }
   ],
   "source": [
    "client.create_payload_index(\n",
    "    collection_name = \"daraz_items\",\n",
    "    field_name = \"chunk\",\n",
    "    field_schema = models.KeywordIndexParams(type = models.KeywordIndexType.KEYWORD)\n",
    ")"
   ]
  },
  {
   "cell_type": "markdown",
   "id": "2135f78b",
   "metadata": {},
   "source": [
    "# Testing out the Vector Database\n"
   ]
  },
  {
   "cell_type": "code",
   "execution_count": 40,
   "id": "831d23fa",
   "metadata": {},
   "outputs": [],
   "source": [
    "query = \"MRK3C Adongruoan 256*192 Pixels Thermal Camera -20°C~550°C Android Type C Mobile Phone Infrared Thermal Imager For Electrical Repair\""
   ]
  },
  {
   "cell_type": "code",
   "execution_count": 41,
   "id": "6edff63f",
   "metadata": {},
   "outputs": [
    {
     "name": "stdout",
     "output_type": "stream",
     "text": [
      "107 score 0.62338877 payload measuring-levelling\n",
      "111 score 0.54712486 payload measuring-levelling\n",
      "106 score 0.5195533 payload measuring-levelling\n"
     ]
    }
   ],
   "source": [
    "hits = client.query_points(\n",
    "    collection_name = \"daraz_items\",\n",
    "    query = encoder.encode([query])[0].tolist(),\n",
    "    limit = 3\n",
    "    \n",
    ").points\n",
    "\n",
    "for hit in hits:\n",
    "    print(hit.id,\"score\",hit.score,\"payload\",hit.payload.get(\"file_name\"))"
   ]
  },
  {
   "cell_type": "code",
   "execution_count": 71,
   "id": "74c26588",
   "metadata": {},
   "outputs": [],
   "source": [
    "res = client.retrieve(\n",
    "    collection_name=\"daraz_items\",\n",
    "    ids = [115]\n",
    ")"
   ]
  },
  {
   "cell_type": "code",
   "execution_count": 72,
   "id": "b6dde449",
   "metadata": {},
   "outputs": [
    {
     "data": {
      "text/plain": [
       "[Record(id=115, payload={'id': 115, 'file_name': 'lens-caps', 'chunk': '5 6G VR 18 55mm Lens Cap Nikon 55mm Front For 18 55mm AF P18 55mm f 3 5 5 6G \" , \" nid \" : \" 433833617 \" , \" itemId \" : \" 433833617 \" , \" icons \" : [ ] , \" image \" : \" https : static 01 daraz com np p 78438e6822b546ba98f7e003f8a53721 jpg \" , \" isSmartImage \" : false , \" originalPriceShow \" : \" \" , \" priceShow \" : \" Rs 3 , 474 \" , \" ratingScore \" : \" \" , \" review \" : \" \" , \" location \" : \" Overseas \" , \" thumbs \" : [ ] , \" sellerName \" : \" 9366c14c \" , \" sellerId \" : \" 900274208781 \" , \" brandName \" : \" No Brand \" , \" brandId \" : \" 39704 \" , \" cheapest_sku \" : \" 433833617_NP 1867948234 \" , \" skuId \" : \" 1867948234 \" , \" sku \" : \" 433833617_NP \" , \" categories \" : [ 240 , 8217 , 8220 , 8223 ] , \" price \" : \" 3474 \" , \" inStock \" : true , \" originalPrice \" : \" 3543 \" , \" clickTrace \" : \" query : camera nid : 433833617 src : LazadaMainSrp rn : 3e3ad865f4f6894a6f06a36a8a95a2fe region : np sku : 433833617_NP price : 3474 client : desktop supplier_id : 900274208781 biz_source : h5_unknow slot : 8 utlog_bucket_id : 470687 asc_category_id : 8223 item_id :'}, vector=None, shard_key=None, order_value=None)]"
      ]
     },
     "execution_count": 72,
     "metadata": {},
     "output_type": "execute_result"
    }
   ],
   "source": [
    "res"
   ]
  }
 ],
 "metadata": {
  "kernelspec": {
   "display_name": "rag",
   "language": "python",
   "name": "python3"
  },
  "language_info": {
   "codemirror_mode": {
    "name": "ipython",
    "version": 3
   },
   "file_extension": ".py",
   "mimetype": "text/x-python",
   "name": "python",
   "nbconvert_exporter": "python",
   "pygments_lexer": "ipython3",
   "version": "3.10.18"
  }
 },
 "nbformat": 4,
 "nbformat_minor": 5
}
