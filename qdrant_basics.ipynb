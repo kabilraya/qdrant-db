{
 "cells": [
  {
   "cell_type": "code",
   "execution_count": 3,
   "id": "cd580c0f",
   "metadata": {},
   "outputs": [],
   "source": [
    "from qdrant_client import QdrantClient , models\n",
    "\n"
   ]
  },
  {
   "cell_type": "code",
   "execution_count": 4,
   "id": "58041f65",
   "metadata": {},
   "outputs": [],
   "source": [
    "client = QdrantClient(url=\"http://localhost:6333\")"
   ]
  },
  {
   "cell_type": "code",
   "execution_count": 4,
   "id": "1e53d9e0",
   "metadata": {},
   "outputs": [
    {
     "data": {
      "text/plain": [
       "True"
      ]
     },
     "execution_count": 4,
     "metadata": {},
     "output_type": "execute_result"
    }
   ],
   "source": [
    "client.create_collection(\n",
    "    collection_name=\"qdrant_basics\",\n",
    "    vectors_config = models.VectorParams(size=3,distance=models.Distance.COSINE)\n",
    ")"
   ]
  },
  {
   "cell_type": "code",
   "execution_count": 34,
   "id": "c4e9b4d5",
   "metadata": {},
   "outputs": [
    {
     "data": {
      "text/plain": [
       "True"
      ]
     },
     "execution_count": 34,
     "metadata": {},
     "output_type": "execute_result"
    }
   ],
   "source": [
    "client.create_collection(\n",
    "    collection_name = \"random\",\n",
    "    vectors_config=models.VectorParams(size=4,distance = models.Distance.COSINE)\n",
    ")"
   ]
  },
  {
   "cell_type": "code",
   "execution_count": 5,
   "id": "ece0cf5e",
   "metadata": {},
   "outputs": [
    {
     "data": {
      "text/plain": [
       "UpdateResult(operation_id=0, status=<UpdateStatus.COMPLETED: 'completed'>)"
      ]
     },
     "execution_count": 5,
     "metadata": {},
     "output_type": "execute_result"
    }
   ],
   "source": [
    "client.upsert(\n",
    "    collection_name=\"qdrant_basics\",\n",
    "    points=[\n",
    "        models.PointStruct(\n",
    "            id=1,\n",
    "            payload={\"color\":\"red\"},\n",
    "            vector=[0.1,0.2,0.3]\n",
    "        ),\n",
    "        models.PointStruct(\n",
    "            id=2,\n",
    "            payload={\"color\":\"blue\"},\n",
    "            vector=[0.22,0.45,0.55]\n",
    "        )\n",
    "\n",
    "            ]\n",
    "    \n",
    ")"
   ]
  },
  {
   "cell_type": "code",
   "execution_count": 6,
   "id": "5ff836a8",
   "metadata": {},
   "outputs": [
    {
     "data": {
      "text/plain": [
       "UpdateResult(operation_id=1, status=<UpdateStatus.COMPLETED: 'completed'>)"
      ]
     },
     "execution_count": 6,
     "metadata": {},
     "output_type": "execute_result"
    }
   ],
   "source": [
    "client.upsert(\n",
    "    collection_name=\"qdrant_basics\",\n",
    "    points = [\n",
    "        models.PointStruct(\n",
    "            id=3,\n",
    "            payload={\"color\":\"red\"},\n",
    "            vector=[0.1,0.22,0.5]\n",
    "        ),\n",
    "        models.PointStruct(\n",
    "            id=4,\n",
    "            payload={\"color\":\"red\"},\n",
    "            vector=[0.2,0.56,0.33]\n",
    "        )\n",
    "\n",
    "    ]\n",
    ")"
   ]
  },
  {
   "cell_type": "markdown",
   "id": "dc71bf9b",
   "metadata": {},
   "source": [
    "# Updating the Payloads"
   ]
  },
  {
   "cell_type": "code",
   "execution_count": 7,
   "id": "785e8a2b",
   "metadata": {},
   "outputs": [
    {
     "data": {
      "text/plain": [
       "UpdateResult(operation_id=2, status=<UpdateStatus.COMPLETED: 'completed'>)"
      ]
     },
     "execution_count": 7,
     "metadata": {},
     "output_type": "execute_result"
    }
   ],
   "source": [
    "client.set_payload(\n",
    "    collection_name=\"qdrant_basics\",\n",
    "    payload={\"color\":\"green\",\n",
    "             \"size\":\"medium\"},\n",
    "    points=[1,4]\n",
    ")"
   ]
  },
  {
   "cell_type": "code",
   "execution_count": 8,
   "id": "0d86a576",
   "metadata": {},
   "outputs": [
    {
     "data": {
      "text/plain": [
       "UpdateResult(operation_id=3, status=<UpdateStatus.COMPLETED: 'completed'>)"
      ]
     },
     "execution_count": 8,
     "metadata": {},
     "output_type": "execute_result"
    }
   ],
   "source": [
    "client.set_payload(\n",
    "    collection_name = \"qdrant_basics\",\n",
    "    payload = {\"color\":\"green\",\"size\":\"medium\"},\n",
    "\n",
    "    points = models.Filter(\n",
    "        must = [models.FieldCondition(\n",
    "                key = \"color\",\n",
    "                match = models.MatchValue(value = \"red\")\n",
    "\n",
    "        ),\n",
    "        models.FieldCondition(\n",
    "            key=\"size\",\n",
    "            match = models.MatchValue(value=\"large\")\n",
    "        )\n",
    "        ]\n",
    "    )\n",
    "\n",
    ")"
   ]
  },
  {
   "cell_type": "code",
   "execution_count": 9,
   "id": "773357e8",
   "metadata": {},
   "outputs": [
    {
     "data": {
      "text/plain": [
       "UpdateResult(operation_id=4, status=<UpdateStatus.COMPLETED: 'completed'>)"
      ]
     },
     "execution_count": 9,
     "metadata": {},
     "output_type": "execute_result"
    }
   ],
   "source": [
    "#deleting the payloads\n",
    "\n",
    "client.clear_payload(\n",
    "    collection_name = \"qdrant_basics\",\n",
    "\n",
    "    points_selector = [1]\n",
    "\n",
    ")"
   ]
  },
  {
   "cell_type": "code",
   "execution_count": 10,
   "id": "ef8c6950",
   "metadata": {},
   "outputs": [
    {
     "data": {
      "text/plain": [
       "UpdateResult(operation_id=5, status=<UpdateStatus.COMPLETED: 'completed'>)"
      ]
     },
     "execution_count": 10,
     "metadata": {},
     "output_type": "execute_result"
    }
   ],
   "source": [
    "#with filter\n",
    "\n",
    "client.clear_payload(\n",
    "    collection_name = \"qdrant_basics\",\n",
    "    points_selector = models.Filter(\n",
    "        must = [\n",
    "            models.FieldCondition(\n",
    "                key = \"color\",\n",
    "                match = models.MatchValue(value = \"red\")\n",
    "            ),\n",
    "            models.FieldCondition(\n",
    "                key = \"size\",\n",
    "                match = models.MatchValue(value = \"small\")\n",
    "            )\n",
    "        ]\n",
    "    )\n",
    ")\n",
    "\n"
   ]
  },
  {
   "cell_type": "code",
   "execution_count": 11,
   "id": "830b716e",
   "metadata": {},
   "outputs": [
    {
     "data": {
      "text/plain": [
       "UpdateResult(operation_id=7, status=<UpdateStatus.COMPLETED: 'completed'>)"
      ]
     },
     "execution_count": 11,
     "metadata": {},
     "output_type": "execute_result"
    }
   ],
   "source": [
    "#creating indexes according to the payload values\n",
    "\n",
    "client.create_payload_index(\n",
    "    collection_name = \"qdrant_basics\",\n",
    "    field_name = \"color\",\n",
    "    field_schema= \"keyword\" #this denotes that color is string type with categorical value\n",
    ")"
   ]
  },
  {
   "cell_type": "code",
   "execution_count": 3,
   "id": "4f983d28",
   "metadata": {},
   "outputs": [
    {
     "data": {
      "text/plain": [
       "UpdateResult(operation_id=11, status=<UpdateStatus.COMPLETED: 'completed'>)"
      ]
     },
     "execution_count": 3,
     "metadata": {},
     "output_type": "execute_result"
    }
   ],
   "source": [
    "#Inserting ten datas with payloads size and color\n",
    "\n",
    "client.upsert(\n",
    "    collection_name = \"qdrant_basics\",\n",
    "    points = [\n",
    "        models.PointStruct(\n",
    "            id=5,\n",
    "            payload = {\n",
    "                \"color\" : \"red\",\n",
    "                \"size\" : \"medium\"\n",
    "            },\n",
    "            vector = [0.11,0.34,0.33]\n",
    "        ),\n",
    "        models.PointStruct(\n",
    "            id=6,\n",
    "            payload = {\n",
    "                \"color\":\"black\",\n",
    "                \"size\" : \"small\"\n",
    "            },\n",
    "            vector = [0.2,0.35,0.27]\n",
    "        ),\n",
    "        models.PointStruct(\n",
    "            id=7,\n",
    "            payload = {\n",
    "                \"color\":\"blue\",\n",
    "                \"size\" : \"large\"\n",
    "            },\n",
    "            vector = [0.21,0.32,0.29]\n",
    "        ),\n",
    "        models.PointStruct(\n",
    "            id=8,\n",
    "            payload = {\n",
    "                \"color\":\"green\",\n",
    "                \"size\" : \"medium\"\n",
    "            },\n",
    "            vector = [0.32,0.11,0.56]\n",
    "        ),\n",
    "        models.PointStruct(\n",
    "            id=9,\n",
    "            payload = {\n",
    "                \"color\":\"red\",\n",
    "                \"size\" : \"small\"\n",
    "            },\n",
    "            vector = [0.22,0.51,0.01]\n",
    "        ),\n",
    "        models.PointStruct(\n",
    "            id=10,\n",
    "            payload = {\n",
    "                \"color\":\"blue\",\n",
    "                \"size\" : \"large\"\n",
    "            },\n",
    "            vector = [0.2,0.35,0.27]\n",
    "        ),\n",
    "        models.PointStruct(\n",
    "            id=11,\n",
    "            payload = {\n",
    "                \"color\":\"red\",\n",
    "                \"size\" : \"large\"\n",
    "            },\n",
    "            vector = [0.11,0.63,0.92]\n",
    "        ),\n",
    "        models.PointStruct(\n",
    "            id=12,\n",
    "            payload = {\n",
    "                \"color\":\"green\",\n",
    "                \"size\" : \"medium\"\n",
    "            },\n",
    "            vector = [0.23,0.82,0.61]\n",
    "        )\n",
    "        \n",
    "    ]\n",
    ")"
   ]
  },
  {
   "cell_type": "code",
   "execution_count": 4,
   "id": "7f20f8c4",
   "metadata": {},
   "outputs": [
    {
     "data": {
      "text/plain": [
       "UpdateResult(operation_id=12, status=<UpdateStatus.COMPLETED: 'completed'>)"
      ]
     },
     "execution_count": 4,
     "metadata": {},
     "output_type": "execute_result"
    }
   ],
   "source": [
    "#setting payloads for points having no size payload\n",
    "\n",
    "client.set_payload(\n",
    "    collection_name = \"qdrant_basics\",\n",
    "    payload = {\"size\":\"small\"},\n",
    "    points = [2,3]\n",
    ")"
   ]
  },
  {
   "cell_type": "code",
   "execution_count": 12,
   "id": "1593e89b",
   "metadata": {},
   "outputs": [
    {
     "data": {
      "text/plain": [
       "UpdateResult(operation_id=8, status=<UpdateStatus.COMPLETED: 'completed'>)"
      ]
     },
     "execution_count": 12,
     "metadata": {},
     "output_type": "execute_result"
    }
   ],
   "source": [
    "client.set_payload(\n",
    "    collection_name= \"qdrant_basics\",\n",
    "    payload = {\n",
    "        \"color\" : \"black\",\n",
    "        \"size\" : \"large\"\n",
    "    },\n",
    "    points = [1]\n",
    ")"
   ]
  },
  {
   "cell_type": "code",
   "execution_count": 13,
   "id": "dc13e39f",
   "metadata": {},
   "outputs": [
    {
     "data": {
      "text/plain": [
       "UpdateResult(operation_id=10, status=<UpdateStatus.COMPLETED: 'completed'>)"
      ]
     },
     "execution_count": 13,
     "metadata": {},
     "output_type": "execute_result"
    }
   ],
   "source": [
    "client.create_payload_index(\n",
    "    collection_name=\"qdrant_basics\",\n",
    "    field_name = \"size\",\n",
    "    field_schema = \"keyword\"\n",
    ")"
   ]
  },
  {
   "cell_type": "code",
   "execution_count": 12,
   "id": "5206896e",
   "metadata": {},
   "outputs": [
    {
     "data": {
      "text/plain": [
       "FacetResponse(hits=[FacetValueHit(value='blue', count=2), FacetValueHit(value='black', count=1), FacetValueHit(value='red', count=1)])"
      ]
     },
     "execution_count": 12,
     "metadata": {},
     "output_type": "execute_result"
    }
   ],
   "source": [
    "#Facet Counts is like the MySQL count aggregation with where and group by clause in vector database\n",
    "client.facet(\n",
    "    collection_name = \"qdrant_basics\",\n",
    "    key = \"color\", #this is like the gorup by clause where the count is done grouped by color key(payload)\n",
    "    facet_filter= models.Filter(must=[models.FieldCondition(\n",
    "        key = \"size\",\n",
    "        match = models.MatchValue(value=\"large\")\n",
    "    )])\n",
    "    #this is like the where clause where the count is \n",
    "    #only done on the basis of the points where size = large\n",
    "    #this is optional field \n",
    ")"
   ]
  },
  {
   "cell_type": "code",
   "execution_count": 5,
   "id": "a753c527",
   "metadata": {},
   "outputs": [
    {
     "data": {
      "text/plain": [
       "FacetResponse(hits=[FacetValueHit(value='red', count=4), FacetValueHit(value='blue', count=3), FacetValueHit(value='green', count=3), FacetValueHit(value='black', count=2)])"
      ]
     },
     "execution_count": 5,
     "metadata": {},
     "output_type": "execute_result"
    }
   ],
   "source": [
    "client.facet(\n",
    "    collection_name = \"qdrant_basics\",\n",
    "    key = \"color\"\n",
    ")"
   ]
  },
  {
   "cell_type": "markdown",
   "id": "2dd8e17e",
   "metadata": {},
   "source": [
    "# Searching\n"
   ]
  },
  {
   "cell_type": "code",
   "execution_count": 13,
   "id": "59fffef1",
   "metadata": {},
   "outputs": [
    {
     "data": {
      "text/plain": [
       "QueryResponse(points=[ScoredPoint(id=1, version=8, score=0.9999998, payload={'color': 'black', 'size': 'large'}, vector=None, shard_key=None, order_value=None), ScoredPoint(id=2, version=12, score=0.9951674, payload={'color': 'blue', 'size': 'small'}, vector=None, shard_key=None, order_value=None), ScoredPoint(id=11, version=11, score=0.9851332, payload={'color': 'red', 'size': 'large'}, vector=None, shard_key=None, order_value=None), ScoredPoint(id=3, version=12, score=0.98176813, payload={'color': 'red', 'size': 'small'}, vector=None, shard_key=None, order_value=None), ScoredPoint(id=5, version=11, score=0.9780219, payload={'color': 'red', 'size': 'medium'}, vector=None, shard_key=None, order_value=None), ScoredPoint(id=7, version=11, score=0.9572706, payload={'color': 'blue', 'size': 'large'}, vector=None, shard_key=None, order_value=None), ScoredPoint(id=12, version=11, score=0.9439634, payload={'color': 'green', 'size': 'medium'}, vector=None, shard_key=None, order_value=None), ScoredPoint(id=10, version=11, score=0.9419521, payload={'color': 'blue', 'size': 'large'}, vector=None, shard_key=None, order_value=None), ScoredPoint(id=6, version=11, score=0.9419521, payload={'color': 'black', 'size': 'small'}, vector=None, shard_key=None, order_value=None), ScoredPoint(id=4, version=2, score=0.9078039, payload={'color': 'green', 'size': 'medium'}, vector=None, shard_key=None, order_value=None)])"
      ]
     },
     "execution_count": 13,
     "metadata": {},
     "output_type": "execute_result"
    }
   ],
   "source": [
    "client.query_points(\n",
    "    collection_name = \"qdrant_basics\",\n",
    "    query = [0.1,0.2,0.3]\n",
    ")"
   ]
  },
  {
   "cell_type": "code",
   "execution_count": 14,
   "id": "4888c5b1",
   "metadata": {},
   "outputs": [
    {
     "data": {
      "text/plain": [
       "QueryResponse(points=[ScoredPoint(id=5, version=11, score=0.97903967, payload={'color': 'red', 'size': 'medium'}, vector=None, shard_key=None, order_value=None), ScoredPoint(id=11, version=11, score=0.9618025, payload={'color': 'red', 'size': 'large'}, vector=None, shard_key=None, order_value=None), ScoredPoint(id=3, version=12, score=0.9571761, payload={'color': 'red', 'size': 'small'}, vector=None, shard_key=None, order_value=None), ScoredPoint(id=9, version=11, score=0.67289865, payload={'color': 'red', 'size': 'small'}, vector=None, shard_key=None, order_value=None)])"
      ]
     },
     "execution_count": 14,
     "metadata": {},
     "output_type": "execute_result"
    }
   ],
   "source": [
    "#searching with Filtering, Limits and Params\n",
    "\n",
    "client.query_points(\n",
    "    collection_name = \"qdrant_basics\",\n",
    "    query = [0.22,0.34,0.45],\n",
    "\n",
    "    query_filter = models.Filter(\n",
    "        must = [\n",
    "            models.FieldCondition(\n",
    "                key = \"color\",\n",
    "                match = models.MatchValue(value = \"red\")\n",
    "            )\n",
    "        ]\n",
    "\n",
    "    ),\n",
    "    search_params = models.SearchParams(hnsw_ef = 128,exact = False), #here the search params are the custom parameters for search\n",
    "    #hnsw = graph search algorithm and the ef paramater determines the number nearest neighbours to expand at once, \n",
    "    # exact determines whether or not to search for the point with the exact vector\n",
    "    #indexed_only = determines whether or not to include the vectors that are indexed\n",
    "    limit = 4 #how many points to return from the search\n",
    "\n",
    ")"
   ]
  },
  {
   "cell_type": "code",
   "execution_count": 24,
   "id": "3eb13d1c",
   "metadata": {},
   "outputs": [
    {
     "data": {
      "text/plain": [
       "QueryResponse(points=[ScoredPoint(id=2, version=12, score=0.99638414, payload={'size': 'small'}, vector=[0.29573527, 0.604913, 0.73933816], shard_key=None, order_value=None), ScoredPoint(id=1, version=8, score=0.99351275, payload={'size': 'large'}, vector=[0.2672612, 0.5345224, 0.8017837], shard_key=None, order_value=None), ScoredPoint(id=7, version=11, score=0.9810333, payload={'size': 'large'}, vector=[0.43731022, 0.6663775, 0.6039046], shard_key=None, order_value=None), ScoredPoint(id=5, version=11, score=0.97779953, payload={'size': 'medium'}, vector=[0.22614412, 0.69899094, 0.6784324], shard_key=None, order_value=None), ScoredPoint(id=10, version=11, score=0.9670415, payload={'size': 'large'}, vector=[0.41221783, 0.7213812, 0.55649406], shard_key=None, order_value=None), ScoredPoint(id=6, version=11, score=0.9670415, payload={'size': 'small'}, vector=[0.41221783, 0.7213812, 0.55649406], shard_key=None, order_value=None), ScoredPoint(id=11, version=11, score=0.96168864, payload={'size': 'large'}, vector=[0.09817516, 0.56227595, 0.82110137], shard_key=None, order_value=None), ScoredPoint(id=3, version=12, score=0.95841885, payload={'size': 'small'}, vector=[0.18007061, 0.39615533, 0.900353], shard_key=None, order_value=None), ScoredPoint(id=12, version=11, score=0.950158, payload={'size': 'medium'}, vector=[0.21955602, 0.7827649, 0.5823007], shard_key=None, order_value=None), ScoredPoint(id=4, version=2, score=0.9274577, payload={'size': 'medium'}, vector=[0.29408583, 0.8234403, 0.48524165], shard_key=None, order_value=None)])"
      ]
     },
     "execution_count": 24,
     "metadata": {},
     "output_type": "execute_result"
    }
   ],
   "source": [
    "#searching with more params\n",
    "\n",
    "client.query_points(\n",
    "    collection_name = \"qdrant_basics\",\n",
    "    query = [0.21,0.32,0.43],\n",
    "    with_vectors = True,\n",
    "    with_payload = models.PayloadSelectorExclude(\n",
    "        exclude = [\"color\"]\n",
    "    )\n",
    ")"
   ]
  },
  {
   "cell_type": "code",
   "execution_count": 42,
   "id": "ffbb0f99",
   "metadata": {},
   "outputs": [
    {
     "data": {
      "text/plain": [
       "[QueryResponse(points=[ScoredPoint(id=11, version=11, score=0.9851332, payload=None, vector=None, shard_key=None, order_value=None), ScoredPoint(id=3, version=12, score=0.98176813, payload=None, vector=None, shard_key=None, order_value=None), ScoredPoint(id=5, version=11, score=0.9780219, payload=None, vector=None, shard_key=None, order_value=None)]),\n",
       " QueryResponse(points=[ScoredPoint(id=11, version=11, score=0.98513323, payload=None, vector=None, shard_key=None, order_value=None), ScoredPoint(id=3, version=12, score=0.98176825, payload=None, vector=None, shard_key=None, order_value=None), ScoredPoint(id=5, version=11, score=0.97802204, payload=None, vector=None, shard_key=None, order_value=None), ScoredPoint(id=9, version=11, score=0.6110008, payload=None, vector=None, shard_key=None, order_value=None)])]"
      ]
     },
     "execution_count": 42,
     "metadata": {},
     "output_type": "execute_result"
    }
   ],
   "source": [
    "#batch search \n",
    "# so we create different single requests and batch them together in a single request \n",
    "filter_ = models.Filter(\n",
    "    must = [\n",
    "        models.FieldCondition(\n",
    "            key = \"color\",\n",
    "            match = models.MatchValue(value = \"red\")\n",
    "        )\n",
    "    ]\n",
    ")\n",
    "search_params = models.SearchParams(hnsw_ef = 128, exact = False )\n",
    "search_queries = [\n",
    "    models.QueryRequest(query=[0.1,0.2,0.3],filter=filter_,limit = 3),\n",
    "    models.QueryRequest(query = [0.11,0.22,0.33],filter = filter_, limit = 5, params = search_params)\n",
    "]\n",
    "\n",
    "client.query_batch_points(collection_name = \"qdrant_basics\",requests = search_queries)   "
   ]
  },
  {
   "cell_type": "code",
   "execution_count": null,
   "id": "a754da65",
   "metadata": {},
   "outputs": [
    {
     "data": {
      "text/plain": [
       "QueryResponse(points=[ScoredPoint(id=2, version=12, score=0.9951674, payload={'color': 'blue', 'size': 'small'}, vector=None, shard_key=None, order_value=None), ScoredPoint(id=11, version=11, score=0.9851332, payload={'color': 'red', 'size': 'large'}, vector=None, shard_key=None, order_value=None), ScoredPoint(id=3, version=12, score=0.98176813, payload={'color': 'red', 'size': 'small'}, vector=None, shard_key=None, order_value=None), ScoredPoint(id=5, version=11, score=0.9780219, payload={'color': 'red', 'size': 'medium'}, vector=None, shard_key=None, order_value=None), ScoredPoint(id=7, version=11, score=0.9572706, payload={'color': 'blue', 'size': 'large'}, vector=None, shard_key=None, order_value=None), ScoredPoint(id=12, version=11, score=0.9439634, payload={'color': 'green', 'size': 'medium'}, vector=None, shard_key=None, order_value=None), ScoredPoint(id=10, version=11, score=0.9419521, payload={'color': 'blue', 'size': 'large'}, vector=None, shard_key=None, order_value=None), ScoredPoint(id=6, version=11, score=0.9419521, payload={'color': 'black', 'size': 'small'}, vector=None, shard_key=None, order_value=None), ScoredPoint(id=4, version=2, score=0.9078039, payload={'color': 'green', 'size': 'medium'}, vector=None, shard_key=None, order_value=None), ScoredPoint(id=8, version=11, score=0.90681005, payload={'color': 'green', 'size': 'medium'}, vector=None, shard_key=None, order_value=None)])"
      ]
     },
     "execution_count": 43,
     "metadata": {},
     "output_type": "execute_result"
    }
   ],
   "source": [
    "#query by id\n",
    "#using the id of a point which fetches the vector of that point and use it as query\n",
    "\n",
    "client.query_points(\n",
    "    collection_name = \"qdrant_basics\",\n",
    "    query = 1 #point 1 is excluded\n",
    ")"
   ]
  },
  {
   "cell_type": "code",
   "execution_count": null,
   "id": "8a3dcc74",
   "metadata": {},
   "outputs": [
    {
     "data": {
      "text/plain": [
       "QueryResponse(points=[ScoredPoint(id=7, version=11, score=0.9906639, payload={'color': 'blue', 'size': 'large'}, vector=[0.43731022, 0.6663775, 0.6039046], shard_key=None, order_value=None), ScoredPoint(id=10, version=11, score=0.9860201, payload={'color': 'blue', 'size': 'large'}, vector=[0.41221783, 0.7213812, 0.55649406], shard_key=None, order_value=None), ScoredPoint(id=6, version=11, score=0.9860201, payload={'color': 'black', 'size': 'small'}, vector=[0.41221783, 0.7213812, 0.55649406], shard_key=None, order_value=None), ScoredPoint(id=1, version=8, score=0.9841269, payload={'color': 'black', 'size': 'large'}, vector=[0.2672612, 0.5345224, 0.8017837], shard_key=None, order_value=None)])"
      ]
     },
     "execution_count": 47,
     "metadata": {},
     "output_type": "execute_result"
    }
   ],
   "source": [
    "#search with an offset. So if the offset is set to 100 the search result skips all the 100 search result and starts\n",
    "#after the first 100 results. This is known as pagination\n",
    "\n",
    "client.query_points(\n",
    "    collection_name = \"qdrant_basics\",\n",
    "    query = [0.11,0.22,0.23],\n",
    "    offset = 2,\n",
    "    with_vectors = True,\n",
    "    with_payload = True,\n",
    "    limit = 4\n",
    ")"
   ]
  },
  {
   "cell_type": "code",
   "execution_count": null,
   "id": "797e7067",
   "metadata": {},
   "outputs": [
    {
     "data": {
      "text/plain": [
       "GroupsResult(groups=[PointGroup(hits=[ScoredPoint(id=1, version=8, score=0.9999998, payload={'color': 'black', 'size': 'large'}, vector=None, shard_key=None, order_value=None), ScoredPoint(id=6, version=11, score=0.9419521, payload={'color': 'black', 'size': 'small'}, vector=None, shard_key=None, order_value=None)], id='black', lookup=None), PointGroup(hits=[ScoredPoint(id=2, version=12, score=0.9951674, payload={'color': 'blue', 'size': 'small'}, vector=None, shard_key=None, order_value=None), ScoredPoint(id=7, version=11, score=0.9572706, payload={'color': 'blue', 'size': 'large'}, vector=None, shard_key=None, order_value=None)], id='blue', lookup=None), PointGroup(hits=[ScoredPoint(id=11, version=11, score=0.9851332, payload={'color': 'red', 'size': 'large'}, vector=None, shard_key=None, order_value=None), ScoredPoint(id=3, version=12, score=0.98176813, payload={'color': 'red', 'size': 'small'}, vector=None, shard_key=None, order_value=None)], id='red', lookup=None), PointGroup(hits=[ScoredPoint(id=12, version=11, score=0.9439634, payload={'color': 'green', 'size': 'medium'}, vector=None, shard_key=None, order_value=None), ScoredPoint(id=4, version=2, score=0.9078039, payload={'color': 'green', 'size': 'medium'}, vector=None, shard_key=None, order_value=None)], id='green', lookup=None)])"
      ]
     },
     "metadata": {},
     "output_type": "display_data"
    }
   ],
   "source": [
    "# Group Searching\n",
    "\n",
    "client.query_points_groups(\n",
    "    collection_name = \"qdrant_basics\",\n",
    "    group_by = \"color\",\n",
    "    limit = 4,\n",
    "    query = [0.1,0.2,0.3],\n",
    "    group_size = 2\n",
    ")"
   ]
  },
  {
   "cell_type": "code",
   "execution_count": 51,
   "id": "1886c92b",
   "metadata": {},
   "outputs": [
    {
     "data": {
      "text/plain": [
       "QueryResponse(points=[ScoredPoint(id=12, version=0, score=0.0, payload={'color': 'green', 'size': 'medium'}, vector=None, shard_key=None, order_value=None), ScoredPoint(id=3, version=0, score=0.0, payload={'color': 'red', 'size': 'small'}, vector=None, shard_key=None, order_value=None), ScoredPoint(id=5, version=0, score=0.0, payload={'color': 'red', 'size': 'medium'}, vector=None, shard_key=None, order_value=None), ScoredPoint(id=10, version=0, score=0.0, payload={'color': 'blue', 'size': 'large'}, vector=None, shard_key=None, order_value=None), ScoredPoint(id=11, version=0, score=0.0, payload={'color': 'red', 'size': 'large'}, vector=None, shard_key=None, order_value=None), ScoredPoint(id=2, version=0, score=0.0, payload={'color': 'blue', 'size': 'small'}, vector=None, shard_key=None, order_value=None), ScoredPoint(id=9, version=0, score=0.0, payload={'color': 'red', 'size': 'small'}, vector=None, shard_key=None, order_value=None), ScoredPoint(id=4, version=0, score=0.0, payload={'color': 'green', 'size': 'medium'}, vector=None, shard_key=None, order_value=None), ScoredPoint(id=8, version=0, score=0.0, payload={'color': 'green', 'size': 'medium'}, vector=None, shard_key=None, order_value=None), ScoredPoint(id=1, version=0, score=0.0, payload={'color': 'black', 'size': 'large'}, vector=None, shard_key=None, order_value=None)])"
      ]
     },
     "execution_count": 51,
     "metadata": {},
     "output_type": "execute_result"
    }
   ],
   "source": [
    "#Random Sampling\n",
    "#this is used to use random sample just to retrieve the points\n",
    "client.query_points(\n",
    "    collection_name = \"qdrant_basics\",\n",
    "    query = models.SampleQuery(sample = models.Sample.RANDOM)\n",
    ")"
   ]
  },
  {
   "cell_type": "code",
   "execution_count": 59,
   "id": "1f779688",
   "metadata": {},
   "outputs": [
    {
     "data": {
      "text/plain": [
       "UpdateResult(operation_id=19, status=<UpdateStatus.COMPLETED: 'completed'>)"
      ]
     },
     "execution_count": 59,
     "metadata": {},
     "output_type": "execute_result"
    }
   ],
   "source": [
    "#Parametarized Indexing of the payloads\n",
    "client.create_payload_index(\n",
    "    collection_name = \"qdrant_basics\",\n",
    "    field_name = \"age\",\n",
    "    field_schema = models.IntegerIndexParams(\n",
    "        type = models.IntegerIndexType.INTEGER,\n",
    "        lookup = False,\n",
    "        range = True\n",
    "    )\n",
    ")"
   ]
  },
  {
   "cell_type": "code",
   "execution_count": 64,
   "id": "b1dd7c67",
   "metadata": {},
   "outputs": [
    {
     "data": {
      "text/plain": [
       "UpdateResult(operation_id=23, status=<UpdateStatus.COMPLETED: 'completed'>)"
      ]
     },
     "execution_count": 64,
     "metadata": {},
     "output_type": "execute_result"
    }
   ],
   "source": [
    "client.create_payload_index(\n",
    "    collection_name = \"qdrant_basics\",\n",
    "    field_name = \"color\",\n",
    "    field_schema = models.KeywordIndexParams(\n",
    "        type = models.KeywordIndexType.KEYWORD,\n",
    "        on_disk=True\n",
    "    )\n",
    ")"
   ]
  },
  {
   "cell_type": "code",
   "execution_count": 65,
   "id": "4348ac87",
   "metadata": {},
   "outputs": [
    {
     "data": {
      "text/plain": [
       "UpdateResult(operation_id=24, status=<UpdateStatus.COMPLETED: 'completed'>)"
      ]
     },
     "execution_count": 65,
     "metadata": {},
     "output_type": "execute_result"
    }
   ],
   "source": [
    "client.set_payload(\n",
    "    collection_name = \"qdrant_basics\",\n",
    "    payload = {\"tenant_id\":\"A\"},\n",
    "    points = [1,2,3,4,5,6]\n",
    ")"
   ]
  },
  {
   "cell_type": "code",
   "execution_count": 66,
   "id": "619beec6",
   "metadata": {},
   "outputs": [
    {
     "data": {
      "text/plain": [
       "UpdateResult(operation_id=25, status=<UpdateStatus.COMPLETED: 'completed'>)"
      ]
     },
     "execution_count": 66,
     "metadata": {},
     "output_type": "execute_result"
    }
   ],
   "source": [
    "client.set_payload(\n",
    "    collection_name = \"qdrant_basics\",\n",
    "    payload = {\"tenant_id\":\"B\"},\n",
    "    points = [7,8,9,10,11,12]\n",
    ")"
   ]
  },
  {
   "cell_type": "code",
   "execution_count": 67,
   "id": "ef55fec8",
   "metadata": {},
   "outputs": [
    {
     "data": {
      "text/plain": [
       "UpdateResult(operation_id=27, status=<UpdateStatus.COMPLETED: 'completed'>)"
      ]
     },
     "execution_count": 67,
     "metadata": {},
     "output_type": "execute_result"
    }
   ],
   "source": [
    "client.create_payload_index(\n",
    "    collection_name = \"qdrant_basics\",\n",
    "    field_name = \"tenant_id\",\n",
    "    field_schema=models.KeywordIndexParams(\n",
    "        type = models.KeywordIndexType.KEYWORD,\n",
    "        is_tenant = True\n",
    "    )\n",
    "    \n",
    ")"
   ]
  },
  {
   "cell_type": "code",
   "execution_count": 56,
   "id": "6f9bf6aa",
   "metadata": {},
   "outputs": [
    {
     "data": {
      "text/plain": [
       "UpdateResult(operation_id=15, status=<UpdateStatus.COMPLETED: 'completed'>)"
      ]
     },
     "execution_count": 56,
     "metadata": {},
     "output_type": "execute_result"
    }
   ],
   "source": [
    "client.set_payload(\n",
    "    collection_name = \"qdrant_basics\",\n",
    "    payload = {\n",
    "        \"age\" :12\n",
    "    },\n",
    "    points= [1,2,3,4]\n",
    ")"
   ]
  },
  {
   "cell_type": "code",
   "execution_count": 57,
   "id": "e13dffa4",
   "metadata": {},
   "outputs": [
    {
     "data": {
      "text/plain": [
       "UpdateResult(operation_id=16, status=<UpdateStatus.COMPLETED: 'completed'>)"
      ]
     },
     "execution_count": 57,
     "metadata": {},
     "output_type": "execute_result"
    }
   ],
   "source": [
    "client.set_payload(\n",
    "    collection_name = \"qdrant_basics\",\n",
    "    payload = {\n",
    "        \"age\" :13\n",
    "    },\n",
    "    points= [5,6,7,8]\n",
    ")"
   ]
  },
  {
   "cell_type": "code",
   "execution_count": 58,
   "id": "48aca0b9",
   "metadata": {},
   "outputs": [
    {
     "data": {
      "text/plain": [
       "UpdateResult(operation_id=17, status=<UpdateStatus.COMPLETED: 'completed'>)"
      ]
     },
     "execution_count": 58,
     "metadata": {},
     "output_type": "execute_result"
    }
   ],
   "source": [
    "client.set_payload(\n",
    "    collection_name = \"qdrant_basics\",\n",
    "    payload = {\n",
    "        \"age\" :14\n",
    "    },\n",
    "    points= [9,10,11,12]\n",
    ")"
   ]
  },
  {
   "cell_type": "code",
   "execution_count": 61,
   "id": "5f36551d",
   "metadata": {},
   "outputs": [
    {
     "data": {
      "text/plain": [
       "QueryResponse(points=[ScoredPoint(id=1, version=15, score=0.9999998, payload={'color': 'black', 'size': 'large', 'age': 12}, vector=None, shard_key=None, order_value=None), ScoredPoint(id=2, version=15, score=0.9951674, payload={'color': 'blue', 'size': 'small', 'age': 12}, vector=None, shard_key=None, order_value=None), ScoredPoint(id=3, version=15, score=0.98176813, payload={'color': 'red', 'size': 'small', 'age': 12}, vector=None, shard_key=None, order_value=None), ScoredPoint(id=5, version=16, score=0.9780219, payload={'color': 'red', 'size': 'medium', 'age': 13}, vector=None, shard_key=None, order_value=None), ScoredPoint(id=7, version=16, score=0.9572706, payload={'color': 'blue', 'size': 'large', 'age': 13}, vector=None, shard_key=None, order_value=None), ScoredPoint(id=6, version=16, score=0.9419521, payload={'color': 'black', 'size': 'small', 'age': 13}, vector=None, shard_key=None, order_value=None), ScoredPoint(id=4, version=15, score=0.9078039, payload={'color': 'green', 'size': 'medium', 'age': 12}, vector=None, shard_key=None, order_value=None), ScoredPoint(id=8, version=16, score=0.90681005, payload={'color': 'green', 'size': 'medium', 'age': 13}, vector=None, shard_key=None, order_value=None)])"
      ]
     },
     "execution_count": 61,
     "metadata": {},
     "output_type": "execute_result"
    }
   ],
   "source": [
    "client.query_points(\n",
    "    collection_name=\"qdrant_basics\",\n",
    "    query=[0.1,0.2,0.3],\n",
    "    query_filter=models.Filter(\n",
    "        must=[models.FieldCondition(\n",
    "            key=\"age\", \n",
    "            range=models.Range(gte=10, lte=13)\n",
    "        )]\n",
    "    )\n",
    ")"
   ]
  },
  {
   "cell_type": "markdown",
   "id": "56770fb6",
   "metadata": {},
   "source": [
    "# Named Vectors Collection"
   ]
  },
  {
   "cell_type": "code",
   "execution_count": 15,
   "id": "2d8ce7c8",
   "metadata": {},
   "outputs": [
    {
     "data": {
      "text/plain": [
       "True"
      ]
     },
     "execution_count": 15,
     "metadata": {},
     "output_type": "execute_result"
    }
   ],
   "source": [
    "#creation of multiple vectors for a point named vectors\n",
    "\n",
    "client.create_collection(\n",
    "    collection_name = \"named_vectored_collection\",\n",
    "    vectors_config = {\n",
    "        \"image\" : models.VectorParams(size = 3, distance=models.Distance.COSINE),\n",
    "        \"text\" : models.VectorParams(size = 4, distance=models.Distance.COSINE)\n",
    "    }\n",
    ")"
   ]
  },
  {
   "cell_type": "code",
   "execution_count": 17,
   "id": "b6b329ab",
   "metadata": {},
   "outputs": [
    {
     "data": {
      "text/plain": [
       "UpdateResult(operation_id=0, status=<UpdateStatus.COMPLETED: 'completed'>)"
      ]
     },
     "execution_count": 17,
     "metadata": {},
     "output_type": "execute_result"
    }
   ],
   "source": [
    "#inserting 10 points in the named Vectors\n",
    "\n",
    "client.upsert(\n",
    "    collection_name = \"named_vectored_collection\",\n",
    "    points = [\n",
    "        models.PointStruct(\n",
    "            id=1,\n",
    "            payload = {\"color\":\"red\", \"size\" : \"XXL\" },\n",
    "            vector = {\n",
    "                \"image\" :[0.1,0.2,0.3],\n",
    "                \"text\" : [0.11,0.21,0.31,0.2]\n",
    "            },\n",
    "\n",
    "        )\n",
    "    ]\n",
    ")"
   ]
  },
  {
   "cell_type": "code",
   "execution_count": 18,
   "id": "76b9aa26",
   "metadata": {},
   "outputs": [
    {
     "data": {
      "text/plain": [
       "UpdateResult(operation_id=1, status=<UpdateStatus.COMPLETED: 'completed'>)"
      ]
     },
     "execution_count": 18,
     "metadata": {},
     "output_type": "execute_result"
    }
   ],
   "source": [
    "client.upsert(\n",
    "    collection_name = \"named_vectored_collection\",\n",
    "    points = [\n",
    "        models.PointStruct(\n",
    "            id=2,\n",
    "            vector = {\n",
    "                \"image\" :[0.23,0.44,0.33],\n",
    "                \"text\" : [0.11,0.2,0.23,0.71]\n",
    "            }\n",
    "        ),\n",
    "        models.PointStruct(\n",
    "            id=3,\n",
    "            vector = {\n",
    "                \"image\" :[0.21,0.34,0.83],\n",
    "                \"text\" : [0.71,0.87,0.91,0.21]\n",
    "            }\n",
    "        ),\n",
    "        models.PointStruct(\n",
    "            id=4,\n",
    "            vector = {\n",
    "                \"image\" :[0.12,0.73,0.93],\n",
    "                \"text\" : [0.01,0.02,0.03,0.11]\n",
    "            }\n",
    "        )\n",
    "    ]\n",
    ")"
   ]
  },
  {
   "cell_type": "code",
   "execution_count": 19,
   "id": "4a70d61b",
   "metadata": {},
   "outputs": [
    {
     "data": {
      "text/plain": [
       "UpdateResult(operation_id=2, status=<UpdateStatus.COMPLETED: 'completed'>)"
      ]
     },
     "execution_count": 19,
     "metadata": {},
     "output_type": "execute_result"
    }
   ],
   "source": [
    "client.set_payload(\n",
    "    collection_name = \"named_vectored_collection\",\n",
    "    payload = {\n",
    "        \"color\":\"black\",\n",
    "        \"size\":\"XL\"\n",
    "    },\n",
    "    points = [2,3,4]\n",
    ")"
   ]
  },
  {
   "cell_type": "code",
   "execution_count": 21,
   "id": "6f04418c",
   "metadata": {},
   "outputs": [
    {
     "data": {
      "text/plain": [
       "UpdateResult(operation_id=4, status=<UpdateStatus.COMPLETED: 'completed'>)"
      ]
     },
     "execution_count": 21,
     "metadata": {},
     "output_type": "execute_result"
    }
   ],
   "source": [
    "client.create_payload_index(\n",
    "    collection_name = \"named_vectored_collection\",\n",
    "    field_name = \"color\",\n",
    "    field_schema = \"keyword\"\n",
    ")\n"
   ]
  },
  {
   "cell_type": "code",
   "execution_count": 22,
   "id": "11c9334b",
   "metadata": {},
   "outputs": [
    {
     "data": {
      "text/plain": [
       "UpdateResult(operation_id=6, status=<UpdateStatus.COMPLETED: 'completed'>)"
      ]
     },
     "execution_count": 22,
     "metadata": {},
     "output_type": "execute_result"
    }
   ],
   "source": [
    "client.create_payload_index(\n",
    "    collection_name = \"named_vectored_collection\",\n",
    "    field_name = \"size\",\n",
    "    field_schema = \"keyword\"\n",
    ")"
   ]
  },
  {
   "cell_type": "code",
   "execution_count": null,
   "id": "c1375853",
   "metadata": {},
   "outputs": [
    {
     "data": {
      "text/plain": [
       "QueryResponse(points=[ScoredPoint(id=3, version=2, score=0.9429046, payload={'color': 'black', 'size': 'XL'}, vector=None, shard_key=None, order_value=None), ScoredPoint(id=1, version=0, score=0.9285713, payload={'color': 'red', 'size': 'XXL'}, vector=None, shard_key=None, order_value=None), ScoredPoint(id=2, version=2, score=0.8473035, payload={'color': 'black', 'size': 'XL'}, vector=None, shard_key=None, order_value=None), ScoredPoint(id=4, version=2, score=0.8456209, payload={'color': 'black', 'size': 'XL'}, vector=None, shard_key=None, order_value=None)])"
      ]
     },
     "execution_count": 23,
     "metadata": {},
     "output_type": "execute_result"
    }
   ],
   "source": [
    "#searching in the named vector\n",
    "\n",
    "client.query_points(\n",
    "    collection_name = \"named_vectored_collection\",\n",
    "    query = [0.2,0.1,0.3],\n",
    "    using = \"image\" # this specifies which vector among the text and image to use for the search \n",
    ")"
   ]
  },
  {
   "cell_type": "markdown",
   "id": "053963f3",
   "metadata": {},
   "source": [
    "# Snapshots"
   ]
  },
  {
   "cell_type": "code",
   "execution_count": 69,
   "id": "d7e034d8",
   "metadata": {},
   "outputs": [
    {
     "data": {
      "text/plain": [
       "SnapshotDescription(name='qdrant_basics-8263441514127146-2025-09-24-10-37-23.snapshot', creation_time='2025-09-24T10:37:23', size=565760, checksum='36e7eca95ec09fac11ca465c7a7ab45b828e204dfe411ffe02f04f4796f3920a')"
      ]
     },
     "execution_count": 69,
     "metadata": {},
     "output_type": "execute_result"
    }
   ],
   "source": [
    "client.create_snapshot(\n",
    "    collection_name = \"qdrant_basics\"\n",
    ")"
   ]
  },
  {
   "cell_type": "code",
   "execution_count": 70,
   "id": "06c60c9f",
   "metadata": {},
   "outputs": [
    {
     "data": {
      "text/plain": [
       "[SnapshotDescription(name='qdrant_basics-8263441514127146-2025-09-24-10-37-23.snapshot', creation_time='2025-09-24T10:37:23', size=565760, checksum='36e7eca95ec09fac11ca465c7a7ab45b828e204dfe411ffe02f04f4796f3920a')]"
      ]
     },
     "execution_count": 70,
     "metadata": {},
     "output_type": "execute_result"
    }
   ],
   "source": [
    "client.list_snapshots(\n",
    "    collection_name = \"qdrant_basics\"\n",
    ")"
   ]
  },
  {
   "cell_type": "markdown",
   "id": "c03b4b20",
   "metadata": {},
   "source": [
    "# RRF and Hybrid Queries\n"
   ]
  },
  {
   "cell_type": "code",
   "execution_count": 83,
   "id": "800960ee",
   "metadata": {},
   "outputs": [
    {
     "data": {
      "text/plain": [
       "True"
      ]
     },
     "execution_count": 83,
     "metadata": {},
     "output_type": "execute_result"
    }
   ],
   "source": [
    "client.create_collection(\n",
    "    collection_name=\"for_rrf\",\n",
    "    vectors_config={\"dense\":models.VectorParams(size=3, distance=models.Distance.COSINE)},\n",
    "    sparse_vectors_config = {\"sparse\":models.SparseVectorParams()}\n",
    ")"
   ]
  },
  {
   "cell_type": "code",
   "execution_count": 5,
   "id": "9d73426d",
   "metadata": {},
   "outputs": [
    {
     "data": {
      "text/plain": [
       "UpdateResult(operation_id=1, status=<UpdateStatus.COMPLETED: 'completed'>)"
      ]
     },
     "execution_count": 5,
     "metadata": {},
     "output_type": "execute_result"
    }
   ],
   "source": [
    "client.upsert(\n",
    "    collection_name = \"for_rrf\",\n",
    "    points= [\n",
    "    models.PointStruct(\n",
    "        id =2,\n",
    "        payload = {\"text\":\"Cats are lovely pets\"},\n",
    "        vector = {\n",
    "            \"dense\":[0.11, 0.25, 0.37],\n",
    "            \"sparse\":models.SparseVector(indices=[10, 42],values=[0.7, 0.3])\n",
    "            \n",
    "        },\n",
    "        \n",
    "    ),\n",
    "    models.PointStruct(\n",
    "        id =3,\n",
    "        payload = {\"text\":\"Dogs are loyal companion\"},\n",
    "        vector = {\n",
    "            \"dense\":[0.15, 0.22, 0.39],\n",
    "            \"sparse\":models.SparseVector(indices=[15, 42],values=[0.5, 0.4])\n",
    "            \n",
    "        },\n",
    "        \n",
    "    ),\n",
    "    models.PointStruct(\n",
    "        id =4,\n",
    "        payload = {\"text\":\"Cats and dogs often play together\"},\n",
    "        vector = {\n",
    "            \"dense\":[0.14, 0.28, 0.36],\n",
    "            \"sparse\":models.SparseVector(indices=[10, 15],values=[0.6, 0.5])\n",
    "            \n",
    "        },\n",
    "        \n",
    "    ),\n",
    "    ]\n",
    ")"
   ]
  },
  {
   "cell_type": "code",
   "execution_count": 6,
   "id": "9bc77e39",
   "metadata": {},
   "outputs": [
    {
     "data": {
      "text/plain": [
       "QueryResponse(points=[ScoredPoint(id=2, version=1, score=1.0, payload={'text': 'Cats are lovely pets'}, vector=None, shard_key=None, order_value=None), ScoredPoint(id=4, version=1, score=0.6666667, payload={'text': 'Cats and dogs often play together'}, vector=None, shard_key=None, order_value=None), ScoredPoint(id=3, version=1, score=0.5, payload={'text': 'Dogs are loyal companion'}, vector=None, shard_key=None, order_value=None)])"
      ]
     },
     "execution_count": 6,
     "metadata": {},
     "output_type": "execute_result"
    }
   ],
   "source": [
    "client.query_points(\n",
    "    collection_name = \"for_rrf\",\n",
    "    prefetch = [models.Prefetch(\n",
    "        query = [0.1,0.2,0.3],\n",
    "        using = \"dense\"\n",
    "    ),\n",
    "    models.Prefetch(\n",
    "        query = models.SparseVector(indices = [10,42],values=[0.61,0.43]),\n",
    "        using = \"sparse\"\n",
    "    ),\n",
    "\n",
    "    ],\n",
    "    query = models.FusionQuery(fusion = models.Fusion.RRF)\n",
    ")"
   ]
  },
  {
   "cell_type": "code",
   "execution_count": 7,
   "id": "784a5b97",
   "metadata": {},
   "outputs": [
    {
     "ename": "UnexpectedResponse",
     "evalue": "Unexpected Response: 400 (Bad Request)\nRaw response content:\nb'{\"status\":{\"error\":\"Wrong input: Vector with name mrl_byte is not configured in this collection\"},\"time\":0.003066627}'",
     "output_type": "error",
     "traceback": [
      "\u001b[1;31m---------------------------------------------------------------------------\u001b[0m",
      "\u001b[1;31mUnexpectedResponse\u001b[0m                        Traceback (most recent call last)",
      "Cell \u001b[1;32mIn[7], line 1\u001b[0m\n\u001b[1;32m----> 1\u001b[0m \u001b[43mclient\u001b[49m\u001b[38;5;241;43m.\u001b[39;49m\u001b[43mquery_points\u001b[49m\u001b[43m(\u001b[49m\n\u001b[0;32m      2\u001b[0m \u001b[43m    \u001b[49m\u001b[43mcollection_name\u001b[49m\u001b[38;5;241;43m=\u001b[39;49m\u001b[38;5;124;43m\"\u001b[39;49m\u001b[38;5;124;43mqdrant_basics\u001b[39;49m\u001b[38;5;124;43m\"\u001b[39;49m\u001b[43m,\u001b[49m\n\u001b[0;32m      3\u001b[0m \u001b[43m    \u001b[49m\u001b[43mprefetch\u001b[49m\u001b[38;5;241;43m=\u001b[39;49m\u001b[43mmodels\u001b[49m\u001b[38;5;241;43m.\u001b[39;49m\u001b[43mPrefetch\u001b[49m\u001b[43m(\u001b[49m\n\u001b[0;32m      4\u001b[0m \u001b[43m        \u001b[49m\u001b[43mquery\u001b[49m\u001b[38;5;241;43m=\u001b[39;49m\u001b[43m[\u001b[49m\u001b[38;5;241;43m1\u001b[39;49m\u001b[43m,\u001b[49m\u001b[43m \u001b[49m\u001b[38;5;241;43m23\u001b[39;49m\u001b[43m,\u001b[49m\u001b[43m \u001b[49m\u001b[38;5;241;43m45\u001b[39;49m\u001b[43m,\u001b[49m\u001b[43m \u001b[49m\u001b[38;5;241;43m67\u001b[39;49m\u001b[43m]\u001b[49m\u001b[43m,\u001b[49m\u001b[43m  \u001b[49m\u001b[38;5;66;43;03m# <------------- small byte vector\u001b[39;49;00m\n\u001b[0;32m      5\u001b[0m \u001b[43m        \u001b[49m\u001b[43musing\u001b[49m\u001b[38;5;241;43m=\u001b[39;49m\u001b[38;5;124;43m\"\u001b[39;49m\u001b[38;5;124;43mmrl_byte\u001b[39;49m\u001b[38;5;124;43m\"\u001b[39;49m\u001b[43m,\u001b[49m\n\u001b[0;32m      6\u001b[0m \u001b[43m        \u001b[49m\u001b[43mlimit\u001b[49m\u001b[38;5;241;43m=\u001b[39;49m\u001b[38;5;241;43m1000\u001b[39;49m\u001b[43m,\u001b[49m\n\u001b[0;32m      7\u001b[0m \u001b[43m    \u001b[49m\u001b[43m)\u001b[49m\u001b[43m,\u001b[49m\n\u001b[0;32m      8\u001b[0m \u001b[43m    \u001b[49m\u001b[43mquery\u001b[49m\u001b[38;5;241;43m=\u001b[39;49m\u001b[43m[\u001b[49m\u001b[38;5;241;43m0.01\u001b[39;49m\u001b[43m,\u001b[49m\u001b[43m \u001b[49m\u001b[38;5;241;43m0.299\u001b[39;49m\u001b[43m,\u001b[49m\u001b[43m \u001b[49m\u001b[38;5;241;43m0.45\u001b[39;49m\u001b[43m,\u001b[49m\u001b[43m \u001b[49m\u001b[38;5;241;43m0.67\u001b[39;49m\u001b[43m]\u001b[49m\u001b[43m,\u001b[49m\u001b[43m  \u001b[49m\u001b[38;5;66;43;03m# <-- full vector\u001b[39;49;00m\n\u001b[0;32m      9\u001b[0m \u001b[43m    \u001b[49m\u001b[43musing\u001b[49m\u001b[38;5;241;43m=\u001b[39;49m\u001b[38;5;124;43m\"\u001b[39;49m\u001b[38;5;124;43mfull\u001b[39;49m\u001b[38;5;124;43m\"\u001b[39;49m\u001b[43m,\u001b[49m\n\u001b[0;32m     10\u001b[0m \u001b[43m    \u001b[49m\u001b[43mlimit\u001b[49m\u001b[38;5;241;43m=\u001b[39;49m\u001b[38;5;241;43m10\u001b[39;49m\u001b[43m,\u001b[49m\n\u001b[0;32m     11\u001b[0m \u001b[43m)\u001b[49m\n",
      "File \u001b[1;32mc:\\Users\\royka\\.conda\\envs\\rag\\lib\\site-packages\\qdrant_client\\qdrant_client.py:593\u001b[0m, in \u001b[0;36mQdrantClient.query_points\u001b[1;34m(self, collection_name, query, using, prefetch, query_filter, search_params, limit, offset, with_payload, with_vectors, score_threshold, lookup_from, consistency, shard_key_selector, timeout, **kwargs)\u001b[0m\n\u001b[0;32m    578\u001b[0m         \u001b[38;5;28;01melse\u001b[39;00m:\n\u001b[0;32m    579\u001b[0m             prefetch \u001b[38;5;241m=\u001b[39m (\n\u001b[0;32m    580\u001b[0m                 \u001b[38;5;28mnext\u001b[39m(\n\u001b[0;32m    581\u001b[0m                     \u001b[38;5;28miter\u001b[39m(\n\u001b[1;32m   (...)\u001b[0m\n\u001b[0;32m    590\u001b[0m                 \u001b[38;5;28;01melse\u001b[39;00m \u001b[38;5;28;01mNone\u001b[39;00m\n\u001b[0;32m    591\u001b[0m             )\n\u001b[1;32m--> 593\u001b[0m \u001b[38;5;28;01mreturn\u001b[39;00m \u001b[38;5;28mself\u001b[39m\u001b[38;5;241m.\u001b[39m_client\u001b[38;5;241m.\u001b[39mquery_points(\n\u001b[0;32m    594\u001b[0m     collection_name\u001b[38;5;241m=\u001b[39mcollection_name,\n\u001b[0;32m    595\u001b[0m     query\u001b[38;5;241m=\u001b[39mquery,\n\u001b[0;32m    596\u001b[0m     prefetch\u001b[38;5;241m=\u001b[39mprefetch,\n\u001b[0;32m    597\u001b[0m     query_filter\u001b[38;5;241m=\u001b[39mquery_filter,\n\u001b[0;32m    598\u001b[0m     search_params\u001b[38;5;241m=\u001b[39msearch_params,\n\u001b[0;32m    599\u001b[0m     limit\u001b[38;5;241m=\u001b[39mlimit,\n\u001b[0;32m    600\u001b[0m     offset\u001b[38;5;241m=\u001b[39moffset,\n\u001b[0;32m    601\u001b[0m     with_payload\u001b[38;5;241m=\u001b[39mwith_payload,\n\u001b[0;32m    602\u001b[0m     with_vectors\u001b[38;5;241m=\u001b[39mwith_vectors,\n\u001b[0;32m    603\u001b[0m     score_threshold\u001b[38;5;241m=\u001b[39mscore_threshold,\n\u001b[0;32m    604\u001b[0m     using\u001b[38;5;241m=\u001b[39musing,\n\u001b[0;32m    605\u001b[0m     lookup_from\u001b[38;5;241m=\u001b[39mlookup_from,\n\u001b[0;32m    606\u001b[0m     consistency\u001b[38;5;241m=\u001b[39mconsistency,\n\u001b[0;32m    607\u001b[0m     shard_key_selector\u001b[38;5;241m=\u001b[39mshard_key_selector,\n\u001b[0;32m    608\u001b[0m     timeout\u001b[38;5;241m=\u001b[39mtimeout,\n\u001b[0;32m    609\u001b[0m     \u001b[38;5;241m*\u001b[39m\u001b[38;5;241m*\u001b[39mkwargs,\n\u001b[0;32m    610\u001b[0m )\n",
      "File \u001b[1;32mc:\\Users\\royka\\.conda\\envs\\rag\\lib\\site-packages\\qdrant_client\\qdrant_remote.py:673\u001b[0m, in \u001b[0;36mQdrantRemote.query_points\u001b[1;34m(self, collection_name, query, using, prefetch, query_filter, search_params, limit, offset, with_payload, with_vectors, score_threshold, lookup_from, consistency, shard_key_selector, timeout, **kwargs)\u001b[0m\n\u001b[0;32m    656\u001b[0m     lookup_from \u001b[38;5;241m=\u001b[39m GrpcToRest\u001b[38;5;241m.\u001b[39mconvert_lookup_location(lookup_from)\n\u001b[0;32m    658\u001b[0m query_request \u001b[38;5;241m=\u001b[39m models\u001b[38;5;241m.\u001b[39mQueryRequest(\n\u001b[0;32m    659\u001b[0m     shard_key\u001b[38;5;241m=\u001b[39mshard_key_selector,\n\u001b[0;32m    660\u001b[0m     prefetch\u001b[38;5;241m=\u001b[39mprefetch,\n\u001b[1;32m   (...)\u001b[0m\n\u001b[0;32m    670\u001b[0m     lookup_from\u001b[38;5;241m=\u001b[39mlookup_from,\n\u001b[0;32m    671\u001b[0m )\n\u001b[1;32m--> 673\u001b[0m query_result \u001b[38;5;241m=\u001b[39m \u001b[38;5;28;43mself\u001b[39;49m\u001b[38;5;241;43m.\u001b[39;49m\u001b[43mhttp\u001b[49m\u001b[38;5;241;43m.\u001b[39;49m\u001b[43msearch_api\u001b[49m\u001b[38;5;241;43m.\u001b[39;49m\u001b[43mquery_points\u001b[49m\u001b[43m(\u001b[49m\n\u001b[0;32m    674\u001b[0m \u001b[43m    \u001b[49m\u001b[43mcollection_name\u001b[49m\u001b[38;5;241;43m=\u001b[39;49m\u001b[43mcollection_name\u001b[49m\u001b[43m,\u001b[49m\n\u001b[0;32m    675\u001b[0m \u001b[43m    \u001b[49m\u001b[43mconsistency\u001b[49m\u001b[38;5;241;43m=\u001b[39;49m\u001b[43mconsistency\u001b[49m\u001b[43m,\u001b[49m\n\u001b[0;32m    676\u001b[0m \u001b[43m    \u001b[49m\u001b[43mtimeout\u001b[49m\u001b[38;5;241;43m=\u001b[39;49m\u001b[43mtimeout\u001b[49m\u001b[43m,\u001b[49m\n\u001b[0;32m    677\u001b[0m \u001b[43m    \u001b[49m\u001b[43mquery_request\u001b[49m\u001b[38;5;241;43m=\u001b[39;49m\u001b[43mquery_request\u001b[49m\u001b[43m,\u001b[49m\n\u001b[0;32m    678\u001b[0m \u001b[43m\u001b[49m\u001b[43m)\u001b[49m\n\u001b[0;32m    680\u001b[0m result: Optional[models\u001b[38;5;241m.\u001b[39mQueryResponse] \u001b[38;5;241m=\u001b[39m query_result\u001b[38;5;241m.\u001b[39mresult\n\u001b[0;32m    681\u001b[0m \u001b[38;5;28;01massert\u001b[39;00m result \u001b[38;5;129;01mis\u001b[39;00m \u001b[38;5;129;01mnot\u001b[39;00m \u001b[38;5;28;01mNone\u001b[39;00m, \u001b[38;5;124m\"\u001b[39m\u001b[38;5;124mSearch returned None\u001b[39m\u001b[38;5;124m\"\u001b[39m\n",
      "File \u001b[1;32mc:\\Users\\royka\\.conda\\envs\\rag\\lib\\site-packages\\qdrant_client\\http\\api\\search_api.py:783\u001b[0m, in \u001b[0;36mSyncSearchApi.query_points\u001b[1;34m(self, collection_name, consistency, timeout, query_request)\u001b[0m\n\u001b[0;32m    773\u001b[0m \u001b[38;5;28;01mdef\u001b[39;00m\u001b[38;5;250m \u001b[39m\u001b[38;5;21mquery_points\u001b[39m(\n\u001b[0;32m    774\u001b[0m     \u001b[38;5;28mself\u001b[39m,\n\u001b[0;32m    775\u001b[0m     collection_name: \u001b[38;5;28mstr\u001b[39m,\n\u001b[1;32m   (...)\u001b[0m\n\u001b[0;32m    778\u001b[0m     query_request: m\u001b[38;5;241m.\u001b[39mQueryRequest \u001b[38;5;241m=\u001b[39m \u001b[38;5;28;01mNone\u001b[39;00m,\n\u001b[0;32m    779\u001b[0m ) \u001b[38;5;241m-\u001b[39m\u001b[38;5;241m>\u001b[39m m\u001b[38;5;241m.\u001b[39mInlineResponse20022:\n\u001b[0;32m    780\u001b[0m \u001b[38;5;250m    \u001b[39m\u001b[38;5;124;03m\"\"\"\u001b[39;00m\n\u001b[0;32m    781\u001b[0m \u001b[38;5;124;03m    Universally query points. This endpoint covers all capabilities of search, recommend, discover, filters. But also enables hybrid and multi-stage queries.\u001b[39;00m\n\u001b[0;32m    782\u001b[0m \u001b[38;5;124;03m    \"\"\"\u001b[39;00m\n\u001b[1;32m--> 783\u001b[0m     \u001b[38;5;28;01mreturn\u001b[39;00m \u001b[38;5;28;43mself\u001b[39;49m\u001b[38;5;241;43m.\u001b[39;49m\u001b[43m_build_for_query_points\u001b[49m\u001b[43m(\u001b[49m\n\u001b[0;32m    784\u001b[0m \u001b[43m        \u001b[49m\u001b[43mcollection_name\u001b[49m\u001b[38;5;241;43m=\u001b[39;49m\u001b[43mcollection_name\u001b[49m\u001b[43m,\u001b[49m\n\u001b[0;32m    785\u001b[0m \u001b[43m        \u001b[49m\u001b[43mconsistency\u001b[49m\u001b[38;5;241;43m=\u001b[39;49m\u001b[43mconsistency\u001b[49m\u001b[43m,\u001b[49m\n\u001b[0;32m    786\u001b[0m \u001b[43m        \u001b[49m\u001b[43mtimeout\u001b[49m\u001b[38;5;241;43m=\u001b[39;49m\u001b[43mtimeout\u001b[49m\u001b[43m,\u001b[49m\n\u001b[0;32m    787\u001b[0m \u001b[43m        \u001b[49m\u001b[43mquery_request\u001b[49m\u001b[38;5;241;43m=\u001b[39;49m\u001b[43mquery_request\u001b[49m\u001b[43m,\u001b[49m\n\u001b[0;32m    788\u001b[0m \u001b[43m    \u001b[49m\u001b[43m)\u001b[49m\n",
      "File \u001b[1;32mc:\\Users\\royka\\.conda\\envs\\rag\\lib\\site-packages\\qdrant_client\\http\\api\\search_api.py:181\u001b[0m, in \u001b[0;36m_SearchApi._build_for_query_points\u001b[1;34m(self, collection_name, consistency, timeout, query_request)\u001b[0m\n\u001b[0;32m    179\u001b[0m \u001b[38;5;28;01mif\u001b[39;00m \u001b[38;5;124m\"\u001b[39m\u001b[38;5;124mContent-Type\u001b[39m\u001b[38;5;124m\"\u001b[39m \u001b[38;5;129;01mnot\u001b[39;00m \u001b[38;5;129;01min\u001b[39;00m headers:\n\u001b[0;32m    180\u001b[0m     headers[\u001b[38;5;124m\"\u001b[39m\u001b[38;5;124mContent-Type\u001b[39m\u001b[38;5;124m\"\u001b[39m] \u001b[38;5;241m=\u001b[39m \u001b[38;5;124m\"\u001b[39m\u001b[38;5;124mapplication/json\u001b[39m\u001b[38;5;124m\"\u001b[39m\n\u001b[1;32m--> 181\u001b[0m \u001b[38;5;28;01mreturn\u001b[39;00m \u001b[38;5;28;43mself\u001b[39;49m\u001b[38;5;241;43m.\u001b[39;49m\u001b[43mapi_client\u001b[49m\u001b[38;5;241;43m.\u001b[39;49m\u001b[43mrequest\u001b[49m\u001b[43m(\u001b[49m\n\u001b[0;32m    182\u001b[0m \u001b[43m    \u001b[49m\u001b[43mtype_\u001b[49m\u001b[38;5;241;43m=\u001b[39;49m\u001b[43mm\u001b[49m\u001b[38;5;241;43m.\u001b[39;49m\u001b[43mInlineResponse20022\u001b[49m\u001b[43m,\u001b[49m\n\u001b[0;32m    183\u001b[0m \u001b[43m    \u001b[49m\u001b[43mmethod\u001b[49m\u001b[38;5;241;43m=\u001b[39;49m\u001b[38;5;124;43m\"\u001b[39;49m\u001b[38;5;124;43mPOST\u001b[39;49m\u001b[38;5;124;43m\"\u001b[39;49m\u001b[43m,\u001b[49m\n\u001b[0;32m    184\u001b[0m \u001b[43m    \u001b[49m\u001b[43murl\u001b[49m\u001b[38;5;241;43m=\u001b[39;49m\u001b[38;5;124;43m\"\u001b[39;49m\u001b[38;5;124;43m/collections/\u001b[39;49m\u001b[38;5;132;43;01m{collection_name}\u001b[39;49;00m\u001b[38;5;124;43m/points/query\u001b[39;49m\u001b[38;5;124;43m\"\u001b[39;49m\u001b[43m,\u001b[49m\n\u001b[0;32m    185\u001b[0m \u001b[43m    \u001b[49m\u001b[43mheaders\u001b[49m\u001b[38;5;241;43m=\u001b[39;49m\u001b[43mheaders\u001b[49m\u001b[43m \u001b[49m\u001b[38;5;28;43;01mif\u001b[39;49;00m\u001b[43m \u001b[49m\u001b[43mheaders\u001b[49m\u001b[43m \u001b[49m\u001b[38;5;28;43;01melse\u001b[39;49;00m\u001b[43m \u001b[49m\u001b[38;5;28;43;01mNone\u001b[39;49;00m\u001b[43m,\u001b[49m\n\u001b[0;32m    186\u001b[0m \u001b[43m    \u001b[49m\u001b[43mpath_params\u001b[49m\u001b[38;5;241;43m=\u001b[39;49m\u001b[43mpath_params\u001b[49m\u001b[43m,\u001b[49m\n\u001b[0;32m    187\u001b[0m \u001b[43m    \u001b[49m\u001b[43mparams\u001b[49m\u001b[38;5;241;43m=\u001b[39;49m\u001b[43mquery_params\u001b[49m\u001b[43m,\u001b[49m\n\u001b[0;32m    188\u001b[0m \u001b[43m    \u001b[49m\u001b[43mcontent\u001b[49m\u001b[38;5;241;43m=\u001b[39;49m\u001b[43mbody\u001b[49m\u001b[43m,\u001b[49m\n\u001b[0;32m    189\u001b[0m \u001b[43m\u001b[49m\u001b[43m)\u001b[49m\n",
      "File \u001b[1;32mc:\\Users\\royka\\.conda\\envs\\rag\\lib\\site-packages\\qdrant_client\\http\\api_client.py:95\u001b[0m, in \u001b[0;36mApiClient.request\u001b[1;34m(self, type_, method, url, path_params, **kwargs)\u001b[0m\n\u001b[0;32m     93\u001b[0m     kwargs[\u001b[38;5;124m\"\u001b[39m\u001b[38;5;124mtimeout\u001b[39m\u001b[38;5;124m\"\u001b[39m] \u001b[38;5;241m=\u001b[39m \u001b[38;5;28mint\u001b[39m(kwargs[\u001b[38;5;124m\"\u001b[39m\u001b[38;5;124mparams\u001b[39m\u001b[38;5;124m\"\u001b[39m][\u001b[38;5;124m\"\u001b[39m\u001b[38;5;124mtimeout\u001b[39m\u001b[38;5;124m\"\u001b[39m])\n\u001b[0;32m     94\u001b[0m request \u001b[38;5;241m=\u001b[39m \u001b[38;5;28mself\u001b[39m\u001b[38;5;241m.\u001b[39m_client\u001b[38;5;241m.\u001b[39mbuild_request(method, url, \u001b[38;5;241m*\u001b[39m\u001b[38;5;241m*\u001b[39mkwargs)\n\u001b[1;32m---> 95\u001b[0m \u001b[38;5;28;01mreturn\u001b[39;00m \u001b[38;5;28;43mself\u001b[39;49m\u001b[38;5;241;43m.\u001b[39;49m\u001b[43msend\u001b[49m\u001b[43m(\u001b[49m\u001b[43mrequest\u001b[49m\u001b[43m,\u001b[49m\u001b[43m \u001b[49m\u001b[43mtype_\u001b[49m\u001b[43m)\u001b[49m\n",
      "File \u001b[1;32mc:\\Users\\royka\\.conda\\envs\\rag\\lib\\site-packages\\qdrant_client\\http\\api_client.py:130\u001b[0m, in \u001b[0;36mApiClient.send\u001b[1;34m(self, request, type_)\u001b[0m\n\u001b[0;32m    128\u001b[0m     \u001b[38;5;28;01mexcept\u001b[39;00m ValidationError \u001b[38;5;28;01mas\u001b[39;00m e:\n\u001b[0;32m    129\u001b[0m         \u001b[38;5;28;01mraise\u001b[39;00m ResponseHandlingException(e)\n\u001b[1;32m--> 130\u001b[0m \u001b[38;5;28;01mraise\u001b[39;00m UnexpectedResponse\u001b[38;5;241m.\u001b[39mfor_response(response)\n",
      "\u001b[1;31mUnexpectedResponse\u001b[0m: Unexpected Response: 400 (Bad Request)\nRaw response content:\nb'{\"status\":{\"error\":\"Wrong input: Vector with name mrl_byte is not configured in this collection\"},\"time\":0.003066627}'"
     ]
    }
   ],
   "source": [
    "client.query_points(\n",
    "    collection_name=\"qdrant_basics\",\n",
    "    prefetch=models.Prefetch(\n",
    "        query=[1, 23, 45, 67],  # <------------- small byte vector\n",
    "        using=\"mrl_byte\",\n",
    "        limit=1000,\n",
    "    ),\n",
    "    query=[0.01, 0.299, 0.45, 0.67],  # <-- full vector\n",
    "    using=\"full\",\n",
    "    limit=10,\n",
    ")"
   ]
  },
  {
   "cell_type": "markdown",
   "id": "3fdbbedb",
   "metadata": {},
   "source": [
    "# Qdrant Basic for a Json File"
   ]
  },
  {
   "cell_type": "code",
   "execution_count": null,
   "id": "0e8504e9",
   "metadata": {},
   "outputs": [],
   "source": [
    "from qdrant_client import QdrantClient, models\n"
   ]
  },
  {
   "cell_type": "code",
   "execution_count": 29,
   "id": "f7a5e8df",
   "metadata": {},
   "outputs": [],
   "source": [
    "import json\n",
    "import re\n",
    "import os"
   ]
  },
  {
   "cell_type": "code",
   "execution_count": 2,
   "id": "c9429668",
   "metadata": {},
   "outputs": [],
   "source": [
    "from sentence_transformers import SentenceTransformer"
   ]
  },
  {
   "cell_type": "code",
   "execution_count": 36,
   "id": "dfd53c9a",
   "metadata": {},
   "outputs": [],
   "source": [
    "#variables for Qdrant Database creation\n",
    "json_file_path = \"accessories-fashion.json\"\n",
    "base_name = os.path.splitext(os.path.basename(json_file_path))[0]\n",
    "chunk_size = 256\n",
    "collection_name_json = \"daraz_product_camera\"\n",
    "embedding_model_name = \"all-MiniLM-L6-v2\""
   ]
  },
  {
   "cell_type": "code",
   "execution_count": 19,
   "id": "4d05aca9",
   "metadata": {},
   "outputs": [],
   "source": [
    "#chunking function\n",
    "\n",
    "def chunk_text(text,chunk_size):\n",
    "    start = 0\n",
    "    tokens = re.findall(r'\\w+|[{}[\\]:,\",]', text)\n",
    "    chunks = []\n",
    "    while start<=len(tokens):\n",
    "        end = min(start+chunk_size,len(tokens))\n",
    "        chunk = \" \".join(tokens[start:end])\n",
    "        chunks.append(chunk)\n",
    "        start+=chunk_size\n",
    "\n",
    "    return chunks"
   ]
  },
  {
   "cell_type": "code",
   "execution_count": 20,
   "id": "6b239473",
   "metadata": {},
   "outputs": [],
   "source": [
    "#loading the json file and dumping it into a string\n",
    "\n",
    "with open(json_file_path,'r',encoding=\"utf-8\") as f:\n",
    "    data=json.load(f)\n",
    "\n",
    "#dumping into a raw string\n",
    "\n",
    "raw_text = json.dumps(data)"
   ]
  },
  {
   "cell_type": "code",
   "execution_count": 21,
   "id": "1397e8d9",
   "metadata": {},
   "outputs": [
    {
     "name": "stdout",
     "output_type": "stream",
     "text": [
      "128\n"
     ]
    }
   ],
   "source": [
    "chunks = chunk_text(raw_text,chunk_size=256)\n",
    "\n",
    "print(len(chunks))\n"
   ]
  },
  {
   "cell_type": "code",
   "execution_count": 22,
   "id": "e70d6579",
   "metadata": {},
   "outputs": [
    {
     "name": "stderr",
     "output_type": "stream",
     "text": [
      "c:\\Users\\royka\\.conda\\envs\\rag\\lib\\site-packages\\huggingface_hub\\file_download.py:143: UserWarning: `huggingface_hub` cache-system uses symlinks by default to efficiently store duplicated files but your machine does not support them in C:\\Users\\royka\\.cache\\huggingface\\hub\\models--sentence-transformers--all-MiniLM-L6-v2. Caching files will still work but in a degraded version that might require more space on your disk. This warning can be disabled by setting the `HF_HUB_DISABLE_SYMLINKS_WARNING` environment variable. For more details, see https://huggingface.co/docs/huggingface_hub/how-to-cache#limitations.\n",
      "To support symlinks on Windows, you either need to activate Developer Mode or to run Python as an administrator. In order to activate developer mode, see this article: https://docs.microsoft.com/en-us/windows/apps/get-started/enable-your-device-for-development\n",
      "  warnings.warn(message)\n",
      "Xet Storage is enabled for this repo, but the 'hf_xet' package is not installed. Falling back to regular HTTP download. For better performance, install the package with: `pip install huggingface_hub[hf_xet]` or `pip install hf_xet`\n"
     ]
    }
   ],
   "source": [
    "#embedding and storing in a collection\n",
    "\n",
    "encoder = SentenceTransformer(\"all-MiniLM-L6-v2\")"
   ]
  },
  {
   "cell_type": "code",
   "execution_count": 24,
   "id": "ea1a539e",
   "metadata": {},
   "outputs": [],
   "source": [
    "client = QdrantClient(url=\"http://localhost:6333\")"
   ]
  },
  {
   "cell_type": "code",
   "execution_count": 25,
   "id": "320660de",
   "metadata": {},
   "outputs": [
    {
     "data": {
      "text/plain": [
       "384"
      ]
     },
     "execution_count": 25,
     "metadata": {},
     "output_type": "execute_result"
    }
   ],
   "source": [
    "encoder.get_sentence_embedding_dimension()"
   ]
  },
  {
   "cell_type": "code",
   "execution_count": 39,
   "id": "f0f1ff74",
   "metadata": {},
   "outputs": [
    {
     "data": {
      "text/plain": [
       "True"
      ]
     },
     "execution_count": 39,
     "metadata": {},
     "output_type": "execute_result"
    }
   ],
   "source": [
    "client.create_collection(\n",
    "    collection_name = \"daraz_items\",\n",
    "    vectors_config = models.VectorParams(size = encoder.get_sentence_embedding_dimension(), distance = models.Distance.COSINE)\n",
    ")"
   ]
  },
  {
   "cell_type": "code",
   "execution_count": 40,
   "id": "357311eb",
   "metadata": {},
   "outputs": [],
   "source": [
    "payloads = {\"file_name\":base_name}"
   ]
  },
  {
   "cell_type": "code",
   "execution_count": 32,
   "id": "96a2de98",
   "metadata": {},
   "outputs": [
    {
     "name": "stderr",
     "output_type": "stream",
     "text": [
      "Batches: 100%|██████████| 4/4 [00:04<00:00,  1.14s/it]\n"
     ]
    }
   ],
   "source": [
    "embeddings = encoder.encode(chunks,show_progress_bar = True, convert_to_numpy = True)"
   ]
  },
  {
   "cell_type": "code",
   "execution_count": 33,
   "id": "a18f99d5",
   "metadata": {},
   "outputs": [
    {
     "data": {
      "text/plain": [
       "array([[-0.02483561,  0.14702807,  0.02601837, ..., -0.03605575,\n",
       "         0.01890442,  0.04215562],\n",
       "       [-0.01898901,  0.08296324,  0.01006372, ...,  0.03021486,\n",
       "        -0.01531859,  0.05498528],\n",
       "       [-0.01357948,  0.07507695, -0.01538894, ...,  0.01180666,\n",
       "        -0.03455568,  0.05093301],\n",
       "       ...,\n",
       "       [-0.03333918,  0.12599342,  0.00798083, ...,  0.00685655,\n",
       "         0.02804666,  0.0272413 ],\n",
       "       [-0.01251123,  0.04299986, -0.01217078, ...,  0.00742458,\n",
       "        -0.05773082,  0.06933547],\n",
       "       [ 0.04940993,  0.12144326,  0.05377852, ..., -0.05159558,\n",
       "        -0.01308045,  0.01573179]], shape=(128, 384), dtype=float32)"
      ]
     },
     "execution_count": 33,
     "metadata": {},
     "output_type": "execute_result"
    }
   ],
   "source": [
    "embeddings"
   ]
  },
  {
   "cell_type": "markdown",
   "id": "d476b6bc",
   "metadata": {},
   "source": [
    "# Storing in the database"
   ]
  },
  {
   "cell_type": "code",
   "execution_count": 41,
   "id": "c7e2dacb",
   "metadata": {},
   "outputs": [
    {
     "data": {
      "text/plain": [
       "UpdateResult(operation_id=0, status=<UpdateStatus.COMPLETED: 'completed'>)"
      ]
     },
     "execution_count": 41,
     "metadata": {},
     "output_type": "execute_result"
    }
   ],
   "source": [
    "client.upsert(\n",
    "    collection_name = \"daraz_items\",\n",
    "    points = [\n",
    "        models.PointStruct(\n",
    "            id = idx, vector = embeddings[idx], payload = payloads)\n",
    "            for idx in range(len(chunks))\n",
    "    ]\n",
    ")"
   ]
  },
  {
   "cell_type": "code",
   "execution_count": 38,
   "id": "1bd38ca1",
   "metadata": {},
   "outputs": [
    {
     "data": {
      "text/plain": [
       "True"
      ]
     },
     "execution_count": 38,
     "metadata": {},
     "output_type": "execute_result"
    }
   ],
   "source": [
    "client.delete_collection(\n",
    "    collection_name = \"daraz_items\"\n",
    ")\n",
    "\n"
   ]
  },
  {
   "cell_type": "code",
   "execution_count": 42,
   "id": "a8a579d4",
   "metadata": {},
   "outputs": [
    {
     "data": {
      "text/plain": [
       "UpdateResult(operation_id=2, status=<UpdateStatus.COMPLETED: 'completed'>)"
      ]
     },
     "execution_count": 42,
     "metadata": {},
     "output_type": "execute_result"
    }
   ],
   "source": [
    "client.create_payload_index(\n",
    "    collection_name = \"daraz_items\",\n",
    "    field_name = \"file_name\",\n",
    "    field_schema = models.KeywordIndexParams(type = models.KeywordIndexType.KEYWORD)\n",
    ")"
   ]
  },
  {
   "cell_type": "code",
   "execution_count": 43,
   "id": "6edff63f",
   "metadata": {},
   "outputs": [
    {
     "name": "stdout",
     "output_type": "stream",
     "text": [
      "{'file_name': 'accessories-fashion'} score 0.50625324\n",
      "{'file_name': 'accessories-fashion'} score 0.4925301\n",
      "{'file_name': 'accessories-fashion'} score 0.45574063\n"
     ]
    }
   ],
   "source": [
    "hits = client.query_points(\n",
    "    collection_name = \"daraz_items\",\n",
    "    query = encoder.encode(\"Suandesha QILENS 300mm CCTV camera lens 1/3 Image Format Long Viewing Distance M12 Mount Horizontal View Angle 1.15D Focus\").tolist(),\n",
    "    limit = 3\n",
    ").points\n",
    "\n",
    "for hit in hits:\n",
    "    print(hit.payload,\"score\",hit.score)"
   ]
  }
 ],
 "metadata": {
  "kernelspec": {
   "display_name": "rag",
   "language": "python",
   "name": "python3"
  },
  "language_info": {
   "codemirror_mode": {
    "name": "ipython",
    "version": 3
   },
   "file_extension": ".py",
   "mimetype": "text/x-python",
   "name": "python",
   "nbconvert_exporter": "python",
   "pygments_lexer": "ipython3",
   "version": "3.10.18"
  }
 },
 "nbformat": 4,
 "nbformat_minor": 5
}
