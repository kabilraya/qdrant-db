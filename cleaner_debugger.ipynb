{
 "cells": [
  {
   "cell_type": "markdown",
   "id": "e731cb84",
   "metadata": {},
   "source": [
    "# Retrieval of Document and Chunks from the JSON file"
   ]
  },
  {
   "cell_type": "code",
   "execution_count": 7,
   "id": "d943562a",
   "metadata": {},
   "outputs": [],
   "source": [
    "import os\n",
    "import json\n",
    "import re\n"
   ]
  },
  {
   "cell_type": "code",
   "execution_count": 2,
   "id": "cb385655",
   "metadata": {},
   "outputs": [
    {
     "name": "stderr",
     "output_type": "stream",
     "text": [
      "c:\\Users\\royka\\.conda\\envs\\rag\\lib\\site-packages\\tqdm\\auto.py:21: TqdmWarning: IProgress not found. Please update jupyter and ipywidgets. See https://ipywidgets.readthedocs.io/en/stable/user_install.html\n",
      "  from .autonotebook import tqdm as notebook_tqdm\n"
     ]
    }
   ],
   "source": [
    "from qdrant_client import QdrantClient,models\n",
    "from sentence_transformers import SentenceTransformer"
   ]
  },
  {
   "cell_type": "code",
   "execution_count": 8,
   "id": "a663e98d",
   "metadata": {},
   "outputs": [],
   "source": [
    "with open(\"camera-screen-guards.json\",'r',encoding=\"utf-8\") as f:\n",
    "    data = json.load(f) #retrievs a dictionary from the json file"
   ]
  },
  {
   "cell_type": "code",
   "execution_count": 9,
   "id": "407a18c1",
   "metadata": {},
   "outputs": [],
   "source": [
    "items_list = data[\"mods\"][\"listItems\"]"
   ]
  },
  {
   "cell_type": "code",
   "execution_count": 10,
   "id": "fe5af0f6",
   "metadata": {},
   "outputs": [
    {
     "data": {
      "text/plain": [
       "list"
      ]
     },
     "execution_count": 10,
     "metadata": {},
     "output_type": "execute_result"
    }
   ],
   "source": [
    "type(items_list)"
   ]
  },
  {
   "cell_type": "code",
   "execution_count": 11,
   "id": "26505dd5",
   "metadata": {},
   "outputs": [
    {
     "data": {
      "text/plain": [
       "{'name': 'Redmi Note 14 (5g) Camera Protector Mettalic Ring Glass',\n",
       " 'nid': '361653530',\n",
       " 'itemId': '361653530',\n",
       " 'icons': [{'domClass': '150565',\n",
       "   'type': 'img',\n",
       "   'group': '6',\n",
       "   'showType': '0'},\n",
       "  {'domClass': '175175', 'type': 'img', 'group': '3', 'showType': '0'}],\n",
       " 'image': 'https://static-01.daraz.com.np/p/59a3b411d874aeeea2f115c998b18143.jpg',\n",
       " 'isSmartImage': False,\n",
       " 'utLogMap': {'srp_name': 'LazadaMainSrp',\n",
       "  'x_object_type': 'item',\n",
       "  'src': 'organic',\n",
       "  'trafficType': 'organic',\n",
       "  'x_sku_ids': '1592835298',\n",
       "  'x_item_ids': '361653530',\n",
       "  'iconList': '150565;175175',\n",
       "  'SN': 'feb7c324dba78761f11a6be643f46dc6',\n",
       "  'current_price': '239',\n",
       "  'x_object_id': '361653530'},\n",
       " 'originalPriceShow': '',\n",
       " 'priceShow': 'Rs. 239',\n",
       " 'ratingScore': '4.4',\n",
       " 'review': '5',\n",
       " 'location': 'Bagmati Province',\n",
       " 'description': [],\n",
       " 'thumbs': [],\n",
       " 'sellerName': 'Zap Home',\n",
       " 'sellerId': '900224992449',\n",
       " 'brandName': 'No Brand',\n",
       " 'brandId': '39704',\n",
       " 'cheapest_sku': '361653530_NP-1592835298',\n",
       " 'skuId': '1592835298',\n",
       " 'sku': '361653530_NP',\n",
       " 'categories': [240, 256, 8204],\n",
       " 'price': '239',\n",
       " 'inStock': True,\n",
       " 'originalPrice': '299',\n",
       " 'clickTrace': 'query:camera;nid:361653530;src:LazadaMainSrp;rn:feb7c324dba78761f11a6be643f46dc6;region:np;sku:361653530_NP;price:239;client:desktop;supplier_id:900224992449;biz_source:h5_unknow;slot:0;utlog_bucket_id:470687;asc_category_id:8204;item_id:361653530;sku_id:1592835298;shop_id:140324;templateInfo:-1_A3_C#1103_L#',\n",
       " 'itemSoldCntShow': '30 sold',\n",
       " 'longImageDisplayable': False,\n",
       " 'skus': [{'id': '361653530_NP-1592835298'}],\n",
       " 'promotionId': '',\n",
       " 'isSponsored': False,\n",
       " 'tItemType': 'nt_product',\n",
       " 'skuType': '',\n",
       " 'adFlag': '0',\n",
       " 'directSimilarUrl': 'https://native.m.lazada.com/dynamicxresult?item_img=https%3A%2F%2Fstatic-01.daraz.com.np%2Fp%2F59a3b411d874aeeea2f115c998b18143.jpg&src=srp_findsimilar&item_id=361653530&sku_id=1592835298&params=%7B%22sub_src%22%3A%22long_press%22%2C%22src%22%3A%22srp_findsimilar%22%7D&m=tpp_findSimilar&q=camera&similarType=findSimilarV1&price=239.00&spuTriggerItem=0',\n",
       " 'gridTitleLine': '2',\n",
       " 'isFission': '0',\n",
       " 'isBadgeAutoScroll': False,\n",
       " 'showCart': False,\n",
       " 'showBackIcon': False,\n",
       " 'showUnitPrice': False,\n",
       " 'itemUrl': '//www.daraz.com.np/products/redmi-note-14-5g-camera-protector-mettalic-ring-glass-i361653530.html',\n",
       " 'querystring': 'fs_ab=1&priceCompare=skuId%3A1592835298%3Bsource%3Alazada-search-voucher%3Bsn%3Afeb7c324dba78761f11a6be643f46dc6%3BoriginPrice%3A23900%3BdisplayPrice%3A23900%3BsinglePromotionId%3A50000018794008%3BsingleToolCode%3ApromPrice%3BvoucherPricePlugin%3A0%3Btimestamp%3A1758872502749&c=&ratingscore=4.4&freeshipping=0&source=search&channelLpJumpArgs=&fuse_fs=&search=1&sale=30&price=239&review=5&location=Bagmati%20Province&stock=1&lang=en&request_id=feb7c324dba78761f11a6be643f46dc6&clickTrackInfo=query%253Acamera%253Bnid%253A361653530%253Bsrc%253ALazadaMainSrp%253Brn%253Afeb7c324dba78761f11a6be643f46dc6%253Bregion%253Anp%253Bsku%253A361653530_NP%253Bprice%253A239%253Bclient%253Adesktop%253Bsupplier_id%253A900224992449%253Bbiz_source%253Ah5_unknow%253Bslot%253A0%253Butlog_bucket_id%253A470687%253Basc_category_id%253A8204%253Bitem_id%253A361653530%253Bsku_id%253A1592835298%253Bshop_id%253A140324%253BtemplateInfo%253A-1_A3_C%25231103_L%2523'}"
      ]
     },
     "execution_count": 11,
     "metadata": {},
     "output_type": "execute_result"
    }
   ],
   "source": [
    "items_list[0]"
   ]
  },
  {
   "cell_type": "code",
   "execution_count": 3,
   "id": "a9bfc29a",
   "metadata": {},
   "outputs": [],
   "source": [
    "encoder = SentenceTransformer(\"all-MiniLM-L6-v2\")"
   ]
  },
  {
   "cell_type": "code",
   "execution_count": 12,
   "id": "9b3ae265",
   "metadata": {},
   "outputs": [],
   "source": [
    "#configuration\n",
    "json_file_path = \"camera-screen-guards.json\"\n",
    "base_name = os.path.splitext(os.path.basename(json_file_path))[0]\n",
    "chunk_size = 128\n"
   ]
  },
  {
   "cell_type": "code",
   "execution_count": 13,
   "id": "f5dd3aa5",
   "metadata": {},
   "outputs": [],
   "source": [
    "def chunking_each_doc(doc,chunk_size=chunk_size):\n",
    "    start = 0\n",
    "    doc = json.dumps(doc)\n",
    "    tokens = re.findall(r'\\w+|[{}[\\]:,\",]',doc)\n",
    "    chunks = []\n",
    "    while start<=len(tokens):\n",
    "        end = min(start+chunk_size,len(tokens))\n",
    "        chunk = \" \".join(tokens[start:end])\n",
    "        chunks.append(chunk)\n",
    "        start+=chunk_size\n",
    "    return chunks"
   ]
  },
  {
   "cell_type": "code",
   "execution_count": 14,
   "id": "b280382a",
   "metadata": {},
   "outputs": [],
   "source": [
    "all_chunks = []\n",
    "for item in items_list:\n",
    "    chunks_of_each_doc = chunking_each_doc(item,chunk_size=chunk_size)\n",
    "    all_chunks.append(chunks_of_each_doc)"
   ]
  },
  {
   "cell_type": "code",
   "execution_count": 15,
   "id": "c81240dd",
   "metadata": {},
   "outputs": [
    {
     "name": "stdout",
     "output_type": "stream",
     "text": [
      "{'name': 'Redmi Note 14 (5g) Camera Protector Mettalic Ring Glass', 'nid': '361653530', 'itemId': '361653530', 'icons': [{'domClass': '150565', 'type': 'img', 'group': '6', 'showType': '0'}, {'domClass': '175175', 'type': 'img', 'group': '3', 'showType': '0'}], 'image': 'https://static-01.daraz.com.np/p/59a3b411d874aeeea2f115c998b18143.jpg', 'isSmartImage': False, 'utLogMap': {'srp_name': 'LazadaMainSrp', 'x_object_type': 'item', 'src': 'organic', 'trafficType': 'organic', 'x_sku_ids': '1592835298', 'x_item_ids': '361653530', 'iconList': '150565;175175', 'SN': 'feb7c324dba78761f11a6be643f46dc6', 'current_price': '239', 'x_object_id': '361653530'}, 'originalPriceShow': '', 'priceShow': 'Rs. 239', 'ratingScore': '4.4', 'review': '5', 'location': 'Bagmati Province', 'description': [], 'thumbs': [], 'sellerName': 'Zap Home', 'sellerId': '900224992449', 'brandName': 'No Brand', 'brandId': '39704', 'cheapest_sku': '361653530_NP-1592835298', 'skuId': '1592835298', 'sku': '361653530_NP', 'categories': [240, 256, 8204], 'price': '239', 'inStock': True, 'originalPrice': '299', 'clickTrace': 'query:camera;nid:361653530;src:LazadaMainSrp;rn:feb7c324dba78761f11a6be643f46dc6;region:np;sku:361653530_NP;price:239;client:desktop;supplier_id:900224992449;biz_source:h5_unknow;slot:0;utlog_bucket_id:470687;asc_category_id:8204;item_id:361653530;sku_id:1592835298;shop_id:140324;templateInfo:-1_A3_C#1103_L#', 'itemSoldCntShow': '30 sold', 'longImageDisplayable': False, 'skus': [{'id': '361653530_NP-1592835298'}], 'promotionId': '', 'isSponsored': False, 'tItemType': 'nt_product', 'skuType': '', 'adFlag': '0', 'directSimilarUrl': 'https://native.m.lazada.com/dynamicxresult?item_img=https%3A%2F%2Fstatic-01.daraz.com.np%2Fp%2F59a3b411d874aeeea2f115c998b18143.jpg&src=srp_findsimilar&item_id=361653530&sku_id=1592835298&params=%7B%22sub_src%22%3A%22long_press%22%2C%22src%22%3A%22srp_findsimilar%22%7D&m=tpp_findSimilar&q=camera&similarType=findSimilarV1&price=239.00&spuTriggerItem=0', 'gridTitleLine': '2', 'isFission': '0', 'isBadgeAutoScroll': False, 'showCart': False, 'showBackIcon': False, 'showUnitPrice': False, 'itemUrl': '//www.daraz.com.np/products/redmi-note-14-5g-camera-protector-mettalic-ring-glass-i361653530.html', 'querystring': 'fs_ab=1&priceCompare=skuId%3A1592835298%3Bsource%3Alazada-search-voucher%3Bsn%3Afeb7c324dba78761f11a6be643f46dc6%3BoriginPrice%3A23900%3BdisplayPrice%3A23900%3BsinglePromotionId%3A50000018794008%3BsingleToolCode%3ApromPrice%3BvoucherPricePlugin%3A0%3Btimestamp%3A1758872502749&c=&ratingscore=4.4&freeshipping=0&source=search&channelLpJumpArgs=&fuse_fs=&search=1&sale=30&price=239&review=5&location=Bagmati%20Province&stock=1&lang=en&request_id=feb7c324dba78761f11a6be643f46dc6&clickTrackInfo=query%253Acamera%253Bnid%253A361653530%253Bsrc%253ALazadaMainSrp%253Brn%253Afeb7c324dba78761f11a6be643f46dc6%253Bregion%253Anp%253Bsku%253A361653530_NP%253Bprice%253A239%253Bclient%253Adesktop%253Bsupplier_id%253A900224992449%253Bbiz_source%253Ah5_unknow%253Bslot%253A0%253Butlog_bucket_id%253A470687%253Basc_category_id%253A8204%253Bitem_id%253A361653530%253Bsku_id%253A1592835298%253Bshop_id%253A140324%253BtemplateInfo%253A-1_A3_C%25231103_L%2523'}\n",
      "{'name': 'Metal Ring Camera Lens Protector For iPhone 12 Pro Max', 'nid': '105302375', 'itemId': '105302375', 'icons': [{'domClass': '150565', 'type': 'img', 'group': '6', 'showType': '0'}, {'domClass': '150318', 'text': 'Gems save Rs. 2', 'type': 'text', 'group': '2', 'showType': '0'}, {'domClass': '175175', 'type': 'img', 'group': '3', 'showType': '0'}], 'image': 'https://static-01.daraz.com.np/p/9a0243a98628b906632c5346c28db43b.jpg', 'isSmartImage': False, 'utLogMap': {'srp_name': 'LazadaMainSrp', 'x_object_type': 'item', 'src': 'organic', 'trafficType': 'organic', 'x_sku_ids': '1026982951', 'x_item_ids': '105302375', 'iconList': '150565;150318;175175', 'SN': 'feb7c324dba78761f11a6be643f46dc6', 'current_price': '153', 'x_object_id': '105302375'}, 'originalPriceShow': '', 'priceShow': 'Rs. 153', 'ratingScore': '4.2', 'review': '20', 'location': 'Bagmati Province', 'description': ['Aluminum alloy protection sticker ,', ' Easy fit , Effective dispersion of impact power when surface is strongly impacted 2 9d arc surface full protection lens ,', ' Avoid force concentration after grinding', ' Hydrophobic oil treatment , Not easily contaminated with fingerprints', 'Nami adsorption , Simple and easy fit , Super adsorption ! Alignment and deposition can automatically adsorb and exhaust the air'], 'thumbs': [], 'sellerName': 'Lavish Deals', 'sellerId': '1006106', 'brandName': 'No Brand', 'brandId': '39704', 'cheapest_sku': '105302375_NP-1026982951', 'skuId': '1026982951', 'sku': '105302375_NP', 'categories': [240, 256, 8204], 'price': '153', 'inStock': True, 'originalPrice': '399', 'clickTrace': 'query:camera;nid:105302375;src:LazadaMainSrp;rn:feb7c324dba78761f11a6be643f46dc6;region:np;sku:105302375_NP;price:153;client:desktop;supplier_id:1006106;biz_source:h5_unknow;slot:1;utlog_bucket_id:470687;asc_category_id:8204;item_id:105302375;sku_id:1026982951;shop_id:16001;templateInfo:-1_A3_C#1103_L#', 'itemSoldCntShow': '116 sold', 'longImageDisplayable': False, 'skus': [{'id': '105302375_NP-1026982951'}], 'promotionId': '', 'isSponsored': False, 'tItemType': 'nt_product', 'skuType': '', 'adFlag': '0', 'directSimilarUrl': 'https://native.m.lazada.com/dynamicxresult?item_img=https%3A%2F%2Fstatic-01.daraz.com.np%2Fp%2F9a0243a98628b906632c5346c28db43b.jpg&src=srp_findsimilar&item_id=105302375&sku_id=1026982951&params=%7B%22sub_src%22%3A%22long_press%22%2C%22src%22%3A%22srp_findsimilar%22%7D&m=tpp_findSimilar&q=camera&similarType=findSimilarV1&price=153.00&spuTriggerItem=0', 'gridTitleLine': '2', 'isFission': '0', 'isBadgeAutoScroll': False, 'showCart': False, 'showBackIcon': False, 'showUnitPrice': False, 'itemUrl': '//www.daraz.com.np/products/metal-ring-camera-lens-protector-for-iphone-12-pro-max-i105302375.html', 'querystring': 'fs_ab=1&priceCompare=skuId%3A1026982951%3Bsource%3Alazada-search-voucher%3Bsn%3Afeb7c324dba78761f11a6be643f46dc6%3BoriginPrice%3A15300%3BdisplayPrice%3A15300%3BsinglePromotionId%3A50000018794008%3BsingleToolCode%3ApromPrice%3BvoucherPricePlugin%3A0%3Btimestamp%3A1758872502749&c=&ratingscore=4.2&freeshipping=0&source=search&channelLpJumpArgs=&fuse_fs=&search=1&sale=116&price=153&review=20&location=Bagmati%20Province&stock=1&lang=en&request_id=feb7c324dba78761f11a6be643f46dc6&clickTrackInfo=query%253Acamera%253Bnid%253A105302375%253Bsrc%253ALazadaMainSrp%253Brn%253Afeb7c324dba78761f11a6be643f46dc6%253Bregion%253Anp%253Bsku%253A105302375_NP%253Bprice%253A153%253Bclient%253Adesktop%253Bsupplier_id%253A1006106%253Bbiz_source%253Ah5_unknow%253Bslot%253A1%253Butlog_bucket_id%253A470687%253Basc_category_id%253A8204%253Bitem_id%253A105302375%253Bsku_id%253A1026982951%253Bshop_id%253A16001%253BtemplateInfo%253A-1_A3_C%25231103_L%2523'}\n",
      "{'name': 'Xiaomi 14T Camera Lens Protector', 'nid': '435211489', 'itemId': '435211489', 'icons': [{'domClass': '150565', 'type': 'img', 'group': '6', 'showType': '0'}], 'image': 'https://static-01.daraz.com.np/p/f66ece6c7404757f5cc91837d9ca7169.jpg', 'isSmartImage': False, 'utLogMap': {'srp_name': 'LazadaMainSrp', 'x_object_type': 'item', 'src': 'organic', 'trafficType': 'organic', 'x_sku_ids': '1884390647', 'x_item_ids': '435211489', 'iconList': '150565', 'SN': 'feb7c324dba78761f11a6be643f46dc6', 'current_price': '350', 'x_object_id': '435211489'}, 'originalPriceShow': '', 'priceShow': 'Rs. 350', 'ratingScore': '5.0', 'review': '5', 'location': 'Bagmati Province', 'description': [], 'thumbs': [], 'sellerName': 'Tech Gadgets', 'sellerId': '900214336035', 'brandName': 'No Brand', 'brandId': '39704', 'cheapest_sku': '435211489_NP-1884390647', 'skuId': '1884390647', 'sku': '435211489_NP', 'categories': [240, 256, 8204], 'price': '350', 'inStock': True, 'originalPrice': '599', 'clickTrace': 'query:camera;nid:435211489;src:LazadaMainSrp;rn:feb7c324dba78761f11a6be643f46dc6;region:np;sku:435211489_NP;price:350;client:desktop;supplier_id:900214336035;biz_source:h5_unknow;slot:2;utlog_bucket_id:470687;asc_category_id:8204;item_id:435211489;sku_id:1884390647;shop_id:130971;templateInfo:-1_A3_C#1103_L#', 'itemSoldCntShow': '23 sold', 'longImageDisplayable': False, 'skus': [{'id': '435211489_NP-1884390647'}], 'promotionId': '', 'isSponsored': False, 'tItemType': 'nt_product', 'skuType': '', 'adFlag': '0', 'directSimilarUrl': 'https://native.m.lazada.com/dynamicxresult?item_img=https%3A%2F%2Fstatic-01.daraz.com.np%2Fp%2Ff66ece6c7404757f5cc91837d9ca7169.jpg&src=srp_findsimilar&item_id=435211489&sku_id=1884390647&params=%7B%22sub_src%22%3A%22long_press%22%2C%22src%22%3A%22srp_findsimilar%22%7D&m=tpp_findSimilar&q=camera&similarType=findSimilarV1&price=350.00&spuTriggerItem=0', 'gridTitleLine': '2', 'isFission': '0', 'isBadgeAutoScroll': False, 'showCart': False, 'showBackIcon': False, 'showUnitPrice': False, 'itemUrl': '//www.daraz.com.np/products/xiaomi-14t-camera-lens-protector-i435211489.html', 'querystring': 'fs_ab=1&priceCompare=skuId%3A1884390647%3Bsource%3Alazada-search-voucher%3Bsn%3Afeb7c324dba78761f11a6be643f46dc6%3BoriginPrice%3A35000%3BdisplayPrice%3A35000%3BsinglePromotionId%3A-1%3BsingleToolCode%3AmockedSalePrice%3BvoucherPricePlugin%3A0%3Btimestamp%3A1758872502749&c=&ratingscore=5.0&freeshipping=0&source=search&channelLpJumpArgs=&fuse_fs=&search=1&sale=23&price=3.5E%202&review=5&location=Bagmati%20Province&stock=1&lang=en&request_id=feb7c324dba78761f11a6be643f46dc6&clickTrackInfo=query%253Acamera%253Bnid%253A435211489%253Bsrc%253ALazadaMainSrp%253Brn%253Afeb7c324dba78761f11a6be643f46dc6%253Bregion%253Anp%253Bsku%253A435211489_NP%253Bprice%253A350%253Bclient%253Adesktop%253Bsupplier_id%253A900214336035%253Bbiz_source%253Ah5_unknow%253Bslot%253A2%253Butlog_bucket_id%253A470687%253Basc_category_id%253A8204%253Bitem_id%253A435211489%253Bsku_id%253A1884390647%253Bshop_id%253A130971%253BtemplateInfo%253A-1_A3_C%25231103_L%2523'}\n",
      "{'name': 'Redmi Note 14 Pro (5g) Camera Protector Mettalic Ring Glass', 'nid': '361670427', 'itemId': '361670427', 'icons': [{'domClass': '150565', 'type': 'img', 'group': '6', 'showType': '0'}, {'domClass': '175175', 'type': 'img', 'group': '3', 'showType': '0'}], 'image': 'https://static-01.daraz.com.np/p/200a15858889b26f88f8b62d604a8f0c.jpg', 'isSmartImage': False, 'utLogMap': {'srp_name': 'LazadaMainSrp', 'x_object_type': 'item', 'src': 'organic', 'trafficType': 'organic', 'x_sku_ids': '1592834541', 'x_item_ids': '361670427', 'iconList': '150565;175175', 'SN': 'feb7c324dba78761f11a6be643f46dc6', 'current_price': '279', 'x_object_id': '361670427'}, 'originalPriceShow': '', 'priceShow': 'Rs. 279', 'ratingScore': '1.0', 'review': '1', 'location': 'Bagmati Province', 'description': [], 'thumbs': [], 'sellerName': 'Zap Home', 'sellerId': '900224992449', 'brandName': 'No Brand', 'brandId': '39704', 'cheapest_sku': '361670427_NP-1592834541', 'skuId': '1592834541', 'sku': '361670427_NP', 'categories': [240, 256, 8204], 'price': '279', 'inStock': True, 'originalPrice': '350', 'clickTrace': 'query:camera;nid:361670427;src:LazadaMainSrp;rn:feb7c324dba78761f11a6be643f46dc6;region:np;sku:361670427_NP;price:279;client:desktop;supplier_id:900224992449;biz_source:h5_unknow;slot:3;utlog_bucket_id:470687;asc_category_id:8204;item_id:361670427;sku_id:1592834541;shop_id:140324;templateInfo:-1_A3_C#1103_L#', 'itemSoldCntShow': '16 sold', 'longImageDisplayable': False, 'skus': [{'id': '361670427_NP-1592834541'}], 'promotionId': '', 'isSponsored': False, 'tItemType': 'nt_product', 'skuType': '', 'adFlag': '0', 'directSimilarUrl': 'https://native.m.lazada.com/dynamicxresult?item_img=https%3A%2F%2Fstatic-01.daraz.com.np%2Fp%2F200a15858889b26f88f8b62d604a8f0c.jpg&src=srp_findsimilar&item_id=361670427&sku_id=1592834541&params=%7B%22sub_src%22%3A%22long_press%22%2C%22src%22%3A%22srp_findsimilar%22%7D&m=tpp_findSimilar&q=camera&similarType=findSimilarV1&price=279.00&spuTriggerItem=0', 'gridTitleLine': '2', 'isFission': '0', 'isBadgeAutoScroll': False, 'showCart': False, 'showBackIcon': False, 'showUnitPrice': False, 'itemUrl': '//www.daraz.com.np/products/redmi-note-14-pro-5g-camera-protector-mettalic-ring-glass-i361670427.html', 'querystring': 'fs_ab=1&priceCompare=skuId%3A1592834541%3Bsource%3Alazada-search-voucher%3Bsn%3Afeb7c324dba78761f11a6be643f46dc6%3BoriginPrice%3A27900%3BdisplayPrice%3A27900%3BsinglePromotionId%3A50000018794008%3BsingleToolCode%3ApromPrice%3BvoucherPricePlugin%3A0%3Btimestamp%3A1758872502749&c=&ratingscore=1.0&freeshipping=0&source=search&channelLpJumpArgs=&fuse_fs=&search=1&sale=16&price=279&review=1&location=Bagmati%20Province&stock=1&lang=en&request_id=feb7c324dba78761f11a6be643f46dc6&clickTrackInfo=query%253Acamera%253Bnid%253A361670427%253Bsrc%253ALazadaMainSrp%253Brn%253Afeb7c324dba78761f11a6be643f46dc6%253Bregion%253Anp%253Bsku%253A361670427_NP%253Bprice%253A279%253Bclient%253Adesktop%253Bsupplier_id%253A900224992449%253Bbiz_source%253Ah5_unknow%253Bslot%253A3%253Butlog_bucket_id%253A470687%253Basc_category_id%253A8204%253Bitem_id%253A361670427%253Bsku_id%253A1592834541%253Bshop_id%253A140324%253BtemplateInfo%253A-1_A3_C%25231103_L%2523'}\n",
      "{'name': 'Tempered Glass Screen Protector for GoPro Hero 9 and 10 Black', 'nid': '114434334', 'itemId': '114434334', 'icons': [{'domClass': '150564', 'type': 'img', 'group': '6', 'showType': '0'}, {'domClass': '175175', 'type': 'img', 'group': '3', 'showType': '0'}], 'image': 'https://static-01.daraz.com.np/p/7a42043b5c7acda34ae7d554fc4bf9be.jpg', 'isSmartImage': False, 'utLogMap': {'srp_name': 'LazadaMainSrp', 'x_object_type': 'item', 'src': 'organic', 'trafficType': 'organic', 'x_sku_ids': '1031065436', 'x_item_ids': '114434334', 'iconList': '150564;175175', 'SN': 'feb7c324dba78761f11a6be643f46dc6', 'current_price': '323', 'x_object_id': '114434334'}, 'originalPriceShow': '', 'priceShow': 'Rs. 323', 'ratingScore': '4.617021276595745', 'review': '47', 'location': 'Bagmati Province', 'description': [], 'thumbs': [], 'sellerName': 'Kushal CD Cassette Store', 'sellerId': '900153420038', 'brandName': 'No Brand', 'brandId': '39704', 'cheapest_sku': '114434334_NP-1031065436', 'skuId': '1031065436', 'sku': '114434334_NP', 'categories': [240, 256, 8204], 'price': '323', 'inStock': True, 'originalPrice': '700', 'clickTrace': 'query:camera;nid:114434334;src:LazadaMainSrp;rn:feb7c324dba78761f11a6be643f46dc6;region:np;sku:114434334_NP;price:323;client:desktop;supplier_id:900153420038;biz_source:h5_unknow;slot:4;utlog_bucket_id:470687;asc_category_id:8204;item_id:114434334;sku_id:1031065436;shop_id:62174;templateInfo:-1_A3_C#1103_L#', 'itemSoldCntShow': '180 sold', 'longImageDisplayable': False, 'skus': [{'id': '114434334_NP-1031065436'}], 'promotionId': '', 'isSponsored': False, 'tItemType': 'nt_product', 'skuType': '', 'adFlag': '0', 'directSimilarUrl': 'https://native.m.lazada.com/dynamicxresult?item_img=https%3A%2F%2Fstatic-01.daraz.com.np%2Fp%2F7a42043b5c7acda34ae7d554fc4bf9be.jpg&src=srp_findsimilar&item_id=114434334&sku_id=1031065436&params=%7B%22sub_src%22%3A%22long_press%22%2C%22src%22%3A%22srp_findsimilar%22%7D&m=tpp_findSimilar&q=camera&similarType=findSimilarV1&price=323.00&spuTriggerItem=0', 'gridTitleLine': '2', 'isFission': '0', 'isBadgeAutoScroll': False, 'showCart': False, 'showBackIcon': False, 'showUnitPrice': False, 'itemUrl': '//www.daraz.com.np/products/tempered-glass-screen-protector-for-gopro-hero-9-and-10-black-i114434334.html', 'querystring': 'fs_ab=1&priceCompare=skuId%3A1031065436%3Bsource%3Alazada-search-voucher%3Bsn%3Afeb7c324dba78761f11a6be643f46dc6%3BoriginPrice%3A32300%3BdisplayPrice%3A32300%3BsinglePromotionId%3A50000018794008%3BsingleToolCode%3ApromPrice%3BvoucherPricePlugin%3A0%3Btimestamp%3A1758872502749&c=&ratingscore=4.617021276595745&freeshipping=0&source=search&channelLpJumpArgs=&fuse_fs=&search=1&sale=180&price=323&review=47&location=Bagmati%20Province&stock=1&lang=en&request_id=feb7c324dba78761f11a6be643f46dc6&clickTrackInfo=query%253Acamera%253Bnid%253A114434334%253Bsrc%253ALazadaMainSrp%253Brn%253Afeb7c324dba78761f11a6be643f46dc6%253Bregion%253Anp%253Bsku%253A114434334_NP%253Bprice%253A323%253Bclient%253Adesktop%253Bsupplier_id%253A900153420038%253Bbiz_source%253Ah5_unknow%253Bslot%253A4%253Butlog_bucket_id%253A470687%253Basc_category_id%253A8204%253Bitem_id%253A114434334%253Bsku_id%253A1031065436%253Bshop_id%253A62174%253BtemplateInfo%253A-1_A3_C%25231103_L%2523'}\n",
      "{'name': 'For  Samsung Galaxy A56 / A36 / A26 5G - 9H Rear Camera Lens Aluminum Alloy Ring Tempered Glass Film(Black)', 'nid': '362308861', 'itemId': '362308861', 'icons': [{'domClass': '150564', 'type': 'img', 'group': '6', 'showType': '0'}, {'domClass': '175175', 'type': 'img', 'group': '3', 'showType': '0'}], 'image': 'https://static-01.daraz.com.np/p/d747667f3f74450b25419075276810e9.jpg', 'isSmartImage': False, 'utLogMap': {'srp_name': 'LazadaMainSrp', 'x_object_type': 'item', 'src': 'organic', 'trafficType': 'organic', 'x_sku_ids': '1597089146', 'x_item_ids': '362308861', 'iconList': '150564;175175', 'SN': 'feb7c324dba78761f11a6be643f46dc6', 'current_price': '366', 'x_object_id': '362308861'}, 'originalPriceShow': '', 'priceShow': 'Rs. 366', 'ratingScore': '3.6666666666666665', 'review': '6', 'location': 'Bagmati Province', 'description': [], 'thumbs': [], 'sellerName': 'Mero Deals', 'sellerId': '900157494400', 'brandName': 'No Brand', 'brandId': '39704', 'cheapest_sku': '362308861_NP-1597089146', 'skuId': '1597089146', 'sku': '362308861_NP', 'categories': [240, 256, 8204], 'price': '366', 'inStock': True, 'originalPrice': '470', 'clickTrace': 'query:camera;nid:362308861;src:LazadaMainSrp;rn:feb7c324dba78761f11a6be643f46dc6;region:np;sku:362308861_NP;price:366;client:desktop;supplier_id:900157494400;biz_source:h5_unknow;slot:5;utlog_bucket_id:470687;asc_category_id:8204;item_id:362308861;sku_id:1597089146;shop_id:93492;templateInfo:-1_A3_C#1103_L#', 'itemSoldCntShow': '27 sold', 'longImageDisplayable': False, 'skus': [{'id': '362308861_NP-1597089146'}], 'promotionId': '', 'isSponsored': False, 'tItemType': 'nt_product', 'skuType': '', 'adFlag': '0', 'directSimilarUrl': 'https://native.m.lazada.com/dynamicxresult?item_img=https%3A%2F%2Fstatic-01.daraz.com.np%2Fp%2Fd747667f3f74450b25419075276810e9.jpg&src=srp_findsimilar&item_id=362308861&sku_id=1597089146&params=%7B%22sub_src%22%3A%22long_press%22%2C%22src%22%3A%22srp_findsimilar%22%7D&m=tpp_findSimilar&q=camera&similarType=findSimilarV1&price=366.00&spuTriggerItem=0', 'gridTitleLine': '2', 'isFission': '0', 'isBadgeAutoScroll': False, 'showCart': False, 'showBackIcon': False, 'showUnitPrice': False, 'itemUrl': '//www.daraz.com.np/products/for-samsung-galaxy-a56-a36-a26-5g-9h-rear-camera-lens-aluminum-alloy-ring-tempered-glass-filmblack-i362308861.html', 'querystring': 'fs_ab=1&priceCompare=skuId%3A1597089146%3Bsource%3Alazada-search-voucher%3Bsn%3Afeb7c324dba78761f11a6be643f46dc6%3BoriginPrice%3A36600%3BdisplayPrice%3A36600%3BsinglePromotionId%3A50000018794008%3BsingleToolCode%3ApromPrice%3BvoucherPricePlugin%3A0%3Btimestamp%3A1758872502749&c=&ratingscore=3.6666666666666665&freeshipping=0&source=search&channelLpJumpArgs=&fuse_fs=&search=1&sale=27&price=366&review=6&location=Bagmati%20Province&stock=1&lang=en&request_id=feb7c324dba78761f11a6be643f46dc6&clickTrackInfo=query%253Acamera%253Bnid%253A362308861%253Bsrc%253ALazadaMainSrp%253Brn%253Afeb7c324dba78761f11a6be643f46dc6%253Bregion%253Anp%253Bsku%253A362308861_NP%253Bprice%253A366%253Bclient%253Adesktop%253Bsupplier_id%253A900157494400%253Bbiz_source%253Ah5_unknow%253Bslot%253A5%253Butlog_bucket_id%253A470687%253Basc_category_id%253A8204%253Bitem_id%253A362308861%253Bsku_id%253A1597089146%253Bshop_id%253A93492%253BtemplateInfo%253A-1_A3_C%25231103_L%2523'}\n",
      "{'name': 'Lens Protector For Samsung Galaxy S24 Ultra Metal Ring Protective By Panchakumari Mobile Hub', 'nid': '129702350', 'itemId': '129702350', 'icons': [{'domClass': '150565', 'type': 'img', 'group': '6', 'showType': '0'}, {'domClass': '116088', 'type': 'img', 'group': '2', 'showType': '0'}, {'domClass': '150318', 'text': 'Gems save Rs. 3', 'type': 'text', 'group': '2', 'showType': '0'}, {'domClass': '175175', 'type': 'img', 'group': '3', 'showType': '0'}], 'image': 'https://static-01.daraz.com.np/p/0782c29cea9bcce34ca2002007b41577.jpg', 'isSmartImage': False, 'utLogMap': {'srp_name': 'LazadaMainSrp', 'x_object_type': 'item', 'src': 'organic', 'trafficType': 'organic', 'x_sku_ids': '1059476616', 'x_item_ids': '129702350', 'iconList': '150565;116088;150318;175175', 'SN': 'feb7c324dba78761f11a6be643f46dc6', 'current_price': '293', 'x_object_id': '129702350'}, 'originalPriceShow': '', 'priceShow': 'Rs. 293', 'ratingScore': '4.545454545454546', 'review': '11', 'location': 'Bagmati Province', 'description': ['The new high-quality combination provides more comprehensive protection for your phone, Please confirm the model size before buying. ', 'The optical-grade antireflection coating technology on the glass surface prevents fingerprints, sweat and grease residues.', ' Aluminum alloy explosion-proof Camera Lens Protector, strong protection of your lens,ensuring worry-free taking pictures. Anti-Scratch/Water/Dust full coverage protection, protect camera lens from daily life. '], 'thumbs': [], 'sellerName': 'Panchakumari Mobile Hub', 'sellerId': '9677', 'brandName': 'No Brand', 'brandId': '39704', 'cheapest_sku': '129702350_NP-1059476616', 'skuId': '1059476616', 'sku': '129702350_NP', 'categories': [240, 256, 8204], 'price': '293', 'inStock': True, 'originalPrice': '850', 'clickTrace': 'query:camera;nid:129702350;src:LazadaMainSrp;rn:feb7c324dba78761f11a6be643f46dc6;region:np;sku:129702350_NP;price:293;client:desktop;supplier_id:9677;biz_source:h5_unknow;slot:6;utlog_bucket_id:470687;asc_category_id:8204;item_id:129702350;sku_id:1059476616;shop_id:9677;templateInfo:-1_A3_C#1103_L#', 'itemSoldCntShow': '106 sold', 'longImageDisplayable': False, 'skus': [{'id': '129702350_NP-1059476616'}], 'promotionId': '', 'isSponsored': False, 'tItemType': 'nt_product', 'skuType': '', 'adFlag': '0', 'directSimilarUrl': 'https://native.m.lazada.com/dynamicxresult?item_img=https%3A%2F%2Fstatic-01.daraz.com.np%2Fp%2F0782c29cea9bcce34ca2002007b41577.jpg&src=srp_findsimilar&item_id=129702350&sku_id=1059476616&params=%7B%22sub_src%22%3A%22long_press%22%2C%22src%22%3A%22srp_findsimilar%22%7D&m=tpp_findSimilar&q=camera&similarType=findSimilarV1&price=293.00&spuTriggerItem=0', 'gridTitleLine': '2', 'isFission': '0', 'isBadgeAutoScroll': False, 'showCart': False, 'showBackIcon': False, 'showUnitPrice': False, 'itemUrl': '//www.daraz.com.np/products/lens-protector-for-samsung-galaxy-ultra-metal-ring-protective-by-panchakumari-mobile-hub-i129702350.html', 'querystring': 'fs_ab=1&priceCompare=skuId%3A1059476616%3Bsource%3Alazada-search-voucher%3Bsn%3Afeb7c324dba78761f11a6be643f46dc6%3BoriginPrice%3A29300%3BdisplayPrice%3A29300%3BsinglePromotionId%3A50000018794008%3BsingleToolCode%3ApromPrice%3BvoucherPricePlugin%3A0%3Btimestamp%3A1758872502749&c=&ratingscore=4.545454545454546&freeshipping=0&source=search&channelLpJumpArgs=&fuse_fs=&search=1&sale=106&price=293&review=11&location=Bagmati%20Province&stock=1&lang=en&request_id=feb7c324dba78761f11a6be643f46dc6&clickTrackInfo=query%253Acamera%253Bnid%253A129702350%253Bsrc%253ALazadaMainSrp%253Brn%253Afeb7c324dba78761f11a6be643f46dc6%253Bregion%253Anp%253Bsku%253A129702350_NP%253Bprice%253A293%253Bclient%253Adesktop%253Bsupplier_id%253A9677%253Bbiz_source%253Ah5_unknow%253Bslot%253A6%253Butlog_bucket_id%253A470687%253Basc_category_id%253A8204%253Bitem_id%253A129702350%253Bsku_id%253A1059476616%253Bshop_id%253A9677%253BtemplateInfo%253A-1_A3_C%25231103_L%2523'}\n",
      "{'name': 'Metal Ring Camera Lens Protector For iPhone 14 Plus By Lavish Deals', 'nid': '129860037', 'itemId': '129860037', 'icons': [{'domClass': '150565', 'type': 'img', 'group': '6', 'showType': '0'}, {'domClass': '150318', 'text': 'Gems save Rs. 1', 'type': 'text', 'group': '2', 'showType': '0'}, {'domClass': '175175', 'type': 'img', 'group': '3', 'showType': '0'}], 'image': 'https://static-01.daraz.com.np/p/a5b0057ef10ced3b6e74b54873315c9d.jpg', 'isSmartImage': False, 'utLogMap': {'srp_name': 'LazadaMainSrp', 'x_object_type': 'item', 'src': 'organic', 'trafficType': 'organic', 'x_sku_ids': '1037690624', 'x_item_ids': '129860037', 'iconList': '150565;150318;175175', 'SN': 'feb7c324dba78761f11a6be643f46dc6', 'current_price': '123', 'x_object_id': '129860037'}, 'originalPriceShow': '', 'priceShow': 'Rs. 123', 'ratingScore': '3.95', 'review': '20', 'location': 'Bagmati Province', 'description': ['Aluminum alloy protection sticker ,', ' Easy fit , Effective dispersion of impact power when surface is strongly impacted 2 9d arc surface full protection lens ,', ' Avoid force concentration after grinding Hydrophobic oil treatment , Not easily contaminated with fingerprints', 'Nami adsorption , Simple and easy fit , Super adsorption ! Alignment and deposition can automatically adsorb and exhaust the air'], 'thumbs': [], 'sellerName': 'Lavish Deals', 'sellerId': '1006106', 'brandName': 'No Brand', 'brandId': '39704', 'cheapest_sku': '129860037_NP-1037690624', 'skuId': '1037690624', 'sku': '129860037_NP', 'categories': [240, 256, 8204], 'price': '123', 'inStock': True, 'originalPrice': '399', 'clickTrace': 'query:camera;nid:129860037;src:LazadaMainSrp;rn:feb7c324dba78761f11a6be643f46dc6;region:np;sku:129860037_NP;price:123;client:desktop;supplier_id:1006106;biz_source:h5_unknow;slot:7;utlog_bucket_id:470687;asc_category_id:8204;item_id:129860037;sku_id:1037690624;shop_id:16001;templateInfo:-1_A3_C#1103_L#', 'itemSoldCntShow': '77 sold', 'longImageDisplayable': False, 'skus': [{'id': '129860037_NP-1037690624'}], 'promotionId': '', 'isSponsored': False, 'tItemType': 'nt_product', 'skuType': '', 'adFlag': '0', 'directSimilarUrl': 'https://native.m.lazada.com/dynamicxresult?item_img=https%3A%2F%2Fstatic-01.daraz.com.np%2Fp%2Fa5b0057ef10ced3b6e74b54873315c9d.jpg&src=srp_findsimilar&item_id=129860037&sku_id=1037690624&params=%7B%22sub_src%22%3A%22long_press%22%2C%22src%22%3A%22srp_findsimilar%22%7D&m=tpp_findSimilar&q=camera&similarType=findSimilarV1&price=123.00&spuTriggerItem=0', 'gridTitleLine': '2', 'isFission': '0', 'isBadgeAutoScroll': False, 'showCart': False, 'showBackIcon': False, 'showUnitPrice': False, 'itemUrl': '//www.daraz.com.np/products/metal-ring-camera-lens-protector-for-iphone-14-plus-by-lavish-deals-i129860037.html', 'querystring': 'fs_ab=1&priceCompare=skuId%3A1037690624%3Bsource%3Alazada-search-voucher%3Bsn%3Afeb7c324dba78761f11a6be643f46dc6%3BoriginPrice%3A12300%3BdisplayPrice%3A12300%3BsinglePromotionId%3A50000018794008%3BsingleToolCode%3ApromPrice%3BvoucherPricePlugin%3A0%3Btimestamp%3A1758872502749&c=&ratingscore=3.95&freeshipping=0&source=search&channelLpJumpArgs=&fuse_fs=&search=1&sale=77&price=123&review=20&location=Bagmati%20Province&stock=1&lang=en&request_id=feb7c324dba78761f11a6be643f46dc6&clickTrackInfo=query%253Acamera%253Bnid%253A129860037%253Bsrc%253ALazadaMainSrp%253Brn%253Afeb7c324dba78761f11a6be643f46dc6%253Bregion%253Anp%253Bsku%253A129860037_NP%253Bprice%253A123%253Bclient%253Adesktop%253Bsupplier_id%253A1006106%253Bbiz_source%253Ah5_unknow%253Bslot%253A7%253Butlog_bucket_id%253A470687%253Basc_category_id%253A8204%253Bitem_id%253A129860037%253Bsku_id%253A1037690624%253Bshop_id%253A16001%253BtemplateInfo%253A-1_A3_C%25231103_L%2523'}\n",
      "{'name': 'Nothing phone 3A Camera Lens Protector', 'nid': '386176979', 'itemId': '386176979', 'icons': [{'domClass': '150565', 'type': 'img', 'group': '6', 'showType': '0'}, {'domClass': '175175', 'type': 'img', 'group': '3', 'showType': '0'}], 'image': 'https://static-01.daraz.com.np/p/16d48664d8e14c65711670476b4e6050.jpg', 'isSmartImage': False, 'utLogMap': {'srp_name': 'LazadaMainSrp', 'x_object_type': 'item', 'src': 'organic', 'trafficType': 'organic', 'x_sku_ids': '1678551503', 'x_item_ids': '386176979', 'iconList': '150565;175175', 'SN': 'feb7c324dba78761f11a6be643f46dc6', 'current_price': '286', 'x_object_id': '386176979'}, 'originalPriceShow': '', 'priceShow': 'Rs. 286', 'ratingScore': '4.222222222222222', 'review': '9', 'location': 'Bagmati Province', 'description': [], 'thumbs': [], 'sellerName': 'Tech NexT', 'sellerId': '900163664044', 'brandName': 'No Brand', 'brandId': '39704', 'cheapest_sku': '386176979_NP-1678551503', 'skuId': '1678551503', 'sku': '386176979_NP', 'categories': [240, 256, 8204], 'price': '286', 'inStock': True, 'originalPrice': '444', 'clickTrace': 'query:camera;nid:386176979;src:LazadaMainSrp;rn:feb7c324dba78761f11a6be643f46dc6;region:np;sku:386176979_NP;price:286;client:desktop;supplier_id:900163664044;biz_source:h5_unknow;slot:8;utlog_bucket_id:470687;asc_category_id:8204;item_id:386176979;sku_id:1678551503;shop_id:105340;templateInfo:-1_A3_C#1103_L#', 'itemSoldCntShow': '27 sold', 'longImageDisplayable': False, 'skus': [{'id': '386176979_NP-1678551503'}], 'promotionId': '', 'isSponsored': False, 'tItemType': 'nt_product', 'skuType': '', 'adFlag': '0', 'directSimilarUrl': 'https://native.m.lazada.com/dynamicxresult?item_img=https%3A%2F%2Fstatic-01.daraz.com.np%2Fp%2F16d48664d8e14c65711670476b4e6050.jpg&src=srp_findsimilar&item_id=386176979&sku_id=1678551503&params=%7B%22sub_src%22%3A%22long_press%22%2C%22src%22%3A%22srp_findsimilar%22%7D&m=tpp_findSimilar&q=camera&similarType=findSimilarV1&price=286.00&spuTriggerItem=0', 'gridTitleLine': '2', 'isFission': '0', 'isBadgeAutoScroll': False, 'showCart': False, 'showBackIcon': False, 'showUnitPrice': False, 'itemUrl': '//www.daraz.com.np/products/nothing-phone-3a-camera-lens-protector-i386176979.html', 'querystring': 'fs_ab=1&priceCompare=skuId%3A1678551503%3Bsource%3Alazada-search-voucher%3Bsn%3Afeb7c324dba78761f11a6be643f46dc6%3BoriginPrice%3A28600%3BdisplayPrice%3A28600%3BsinglePromotionId%3A50000018794008%3BsingleToolCode%3ApromPrice%3BvoucherPricePlugin%3A0%3Btimestamp%3A1758872502749&c=&ratingscore=4.222222222222222&freeshipping=0&source=search&channelLpJumpArgs=&fuse_fs=&search=1&sale=27&price=286&review=9&location=Bagmati%20Province&stock=1&lang=en&request_id=feb7c324dba78761f11a6be643f46dc6&clickTrackInfo=query%253Acamera%253Bnid%253A386176979%253Bsrc%253ALazadaMainSrp%253Brn%253Afeb7c324dba78761f11a6be643f46dc6%253Bregion%253Anp%253Bsku%253A386176979_NP%253Bprice%253A286%253Bclient%253Adesktop%253Bsupplier_id%253A900163664044%253Bbiz_source%253Ah5_unknow%253Bslot%253A8%253Butlog_bucket_id%253A470687%253Basc_category_id%253A8204%253Bitem_id%253A386176979%253Bsku_id%253A1678551503%253Bshop_id%253A105340%253BtemplateInfo%253A-1_A3_C%25231103_L%2523'}\n",
      "{'name': 'Redmi Note 14 Pro Plus (5g) Camera Protector Full Glue Glass', 'nid': '361651522', 'itemId': '361651522', 'icons': [{'domClass': '150565', 'type': 'img', 'group': '6', 'showType': '0'}, {'domClass': '175175', 'type': 'img', 'group': '3', 'showType': '0'}], 'image': 'https://static-01.daraz.com.np/p/66b02da4185fda88aea27764e6f956cf.jpg', 'isSmartImage': False, 'utLogMap': {'srp_name': 'LazadaMainSrp', 'x_object_type': 'item', 'src': 'organic', 'trafficType': 'organic', 'x_sku_ids': '1592745716', 'x_item_ids': '361651522', 'iconList': '150565;175175', 'SN': 'feb7c324dba78761f11a6be643f46dc6', 'current_price': '239', 'x_object_id': '361651522'}, 'originalPriceShow': '', 'priceShow': 'Rs. 239', 'ratingScore': '4.875', 'review': '8', 'location': 'Bagmati Province', 'description': [], 'thumbs': [], 'sellerName': 'Zap Home', 'sellerId': '900224992449', 'brandName': 'No Brand', 'brandId': '39704', 'cheapest_sku': '361651522_NP-1592745716', 'skuId': '1592745716', 'sku': '361651522_NP', 'categories': [240, 256, 8204], 'price': '239', 'inStock': True, 'originalPrice': '299', 'clickTrace': 'query:camera;nid:361651522;src:LazadaMainSrp;rn:feb7c324dba78761f11a6be643f46dc6;region:np;sku:361651522_NP;price:239;client:desktop;supplier_id:900224992449;biz_source:h5_unknow;slot:9;utlog_bucket_id:470687;asc_category_id:8204;item_id:361651522;sku_id:1592745716;shop_id:140324;templateInfo:-1_A3_C#1103_L#', 'itemSoldCntShow': '21 sold', 'longImageDisplayable': False, 'skus': [{'id': '361651522_NP-1592745716'}], 'promotionId': '', 'isSponsored': False, 'tItemType': 'nt_product', 'skuType': '', 'adFlag': '0', 'directSimilarUrl': 'https://native.m.lazada.com/dynamicxresult?item_img=https%3A%2F%2Fstatic-01.daraz.com.np%2Fp%2F66b02da4185fda88aea27764e6f956cf.jpg&src=srp_findsimilar&item_id=361651522&sku_id=1592745716&params=%7B%22sub_src%22%3A%22long_press%22%2C%22src%22%3A%22srp_findsimilar%22%7D&m=tpp_findSimilar&q=camera&similarType=findSimilarV1&price=239.00&spuTriggerItem=0', 'gridTitleLine': '2', 'isFission': '0', 'isBadgeAutoScroll': False, 'showCart': False, 'showBackIcon': False, 'showUnitPrice': False, 'itemUrl': '//www.daraz.com.np/products/redmi-note-14-pro-plus-5g-camera-protector-full-glue-glass-i361651522.html', 'querystring': 'fs_ab=1&priceCompare=skuId%3A1592745716%3Bsource%3Alazada-search-voucher%3Bsn%3Afeb7c324dba78761f11a6be643f46dc6%3BoriginPrice%3A23900%3BdisplayPrice%3A23900%3BsinglePromotionId%3A50000018794008%3BsingleToolCode%3ApromPrice%3BvoucherPricePlugin%3A0%3Btimestamp%3A1758872502749&c=&ratingscore=4.875&freeshipping=0&source=search&channelLpJumpArgs=&fuse_fs=&search=1&sale=21&price=239&review=8&location=Bagmati%20Province&stock=1&lang=en&request_id=feb7c324dba78761f11a6be643f46dc6&clickTrackInfo=query%253Acamera%253Bnid%253A361651522%253Bsrc%253ALazadaMainSrp%253Brn%253Afeb7c324dba78761f11a6be643f46dc6%253Bregion%253Anp%253Bsku%253A361651522_NP%253Bprice%253A239%253Bclient%253Adesktop%253Bsupplier_id%253A900224992449%253Bbiz_source%253Ah5_unknow%253Bslot%253A9%253Butlog_bucket_id%253A470687%253Basc_category_id%253A8204%253Bitem_id%253A361651522%253Bsku_id%253A1592745716%253Bshop_id%253A140324%253BtemplateInfo%253A-1_A3_C%25231103_L%2523'}\n",
      "{'name': 'Metal Ring Camera Lens Protector For iPhone 14 by Lavish Deals', 'nid': '129853204', 'itemId': '129853204', 'icons': [{'domClass': '150565', 'type': 'img', 'group': '6', 'showType': '0'}, {'domClass': '150318', 'text': 'Gems save Rs. 2', 'type': 'text', 'group': '2', 'showType': '0'}, {'domClass': '175175', 'type': 'img', 'group': '3', 'showType': '0'}], 'image': 'https://static-01.daraz.com.np/p/df51e79bc95897a37b921b4208e4674d.jpg', 'isSmartImage': False, 'utLogMap': {'srp_name': 'LazadaMainSrp', 'x_object_type': 'item', 'src': 'organic', 'trafficType': 'organic', 'x_sku_ids': '1037700115', 'x_item_ids': '129853204', 'iconList': '150565;150318;175175', 'SN': 'feb7c324dba78761f11a6be643f46dc6', 'current_price': '163', 'x_object_id': '129853204'}, 'originalPriceShow': '', 'priceShow': 'Rs. 163', 'ratingScore': '4.055555555555555', 'review': '18', 'location': 'Bagmati Province', 'description': ['Aluminum alloy protection sticker ,', ' Easy fit , Effective dispersion of impact power when surface is strongly impacted 2 9d arc surface full protection lens ,', ' Avoid force concentration after grinding Hydrophobic oil treatment , Not easily contaminated with fingerprints', 'Nami adsorption , Simple and easy fit , Super adsorption ! Alignment and deposition can automatically adsorb and exhaust the air'], 'thumbs': [], 'sellerName': 'Lavish Deals', 'sellerId': '1006106', 'brandName': 'No Brand', 'brandId': '39704', 'cheapest_sku': '129853204_NP-1037700115', 'skuId': '1037700115', 'sku': '129853204_NP', 'categories': [240, 256, 8204], 'price': '163', 'inStock': True, 'originalPrice': '399', 'clickTrace': 'query:camera;nid:129853204;src:LazadaMainSrp;rn:feb7c324dba78761f11a6be643f46dc6;region:np;sku:129853204_NP;price:163;client:desktop;supplier_id:1006106;biz_source:h5_unknow;slot:10;utlog_bucket_id:470687;asc_category_id:8204;item_id:129853204;sku_id:1037700115;shop_id:16001;templateInfo:-1_A3_C#1103_L#', 'itemSoldCntShow': '67 sold', 'longImageDisplayable': False, 'skus': [{'id': '129853204_NP-1037700115'}], 'promotionId': '', 'isSponsored': False, 'tItemType': 'nt_product', 'skuType': '', 'adFlag': '0', 'directSimilarUrl': 'https://native.m.lazada.com/dynamicxresult?item_img=https%3A%2F%2Fstatic-01.daraz.com.np%2Fp%2Fdf51e79bc95897a37b921b4208e4674d.jpg&src=srp_findsimilar&item_id=129853204&sku_id=1037700115&params=%7B%22sub_src%22%3A%22long_press%22%2C%22src%22%3A%22srp_findsimilar%22%7D&m=tpp_findSimilar&q=camera&similarType=findSimilarV1&price=163.00&spuTriggerItem=0', 'gridTitleLine': '2', 'isFission': '0', 'isBadgeAutoScroll': False, 'showCart': False, 'showBackIcon': False, 'showUnitPrice': False, 'itemUrl': '//www.daraz.com.np/products/metal-ring-camera-lens-protector-for-iphone-14-by-lavish-deals-i129853204.html', 'querystring': 'fs_ab=1&priceCompare=skuId%3A1037700115%3Bsource%3Alazada-search-voucher%3Bsn%3Afeb7c324dba78761f11a6be643f46dc6%3BoriginPrice%3A16300%3BdisplayPrice%3A16300%3BsinglePromotionId%3A50000018794008%3BsingleToolCode%3ApromPrice%3BvoucherPricePlugin%3A0%3Btimestamp%3A1758872502749&c=&ratingscore=4.055555555555555&freeshipping=0&source=search&channelLpJumpArgs=&fuse_fs=&search=1&sale=67&price=163&review=18&location=Bagmati%20Province&stock=1&lang=en&request_id=feb7c324dba78761f11a6be643f46dc6&clickTrackInfo=query%253Acamera%253Bnid%253A129853204%253Bsrc%253ALazadaMainSrp%253Brn%253Afeb7c324dba78761f11a6be643f46dc6%253Bregion%253Anp%253Bsku%253A129853204_NP%253Bprice%253A163%253Bclient%253Adesktop%253Bsupplier_id%253A1006106%253Bbiz_source%253Ah5_unknow%253Bslot%253A10%253Butlog_bucket_id%253A470687%253Basc_category_id%253A8204%253Bitem_id%253A129853204%253Bsku_id%253A1037700115%253Bshop_id%253A16001%253BtemplateInfo%253A-1_A3_C%25231103_L%2523'}\n",
      "{'name': 'Camera Lens for Redmi Note 13 Pro Plus + 5G - Individual Metal Ring Tempered Glass Camera Screen Protector with Locator (Black)', 'nid': '131305546', 'itemId': '131305546', 'icons': [], 'image': 'https://static-01.daraz.com.np/p/f9c0599852dccc48cde82bc5d468ba72.jpg', 'isSmartImage': False, 'utLogMap': {'srp_name': 'LazadaMainSrp', 'x_object_type': 'item', 'src': 'organic', 'trafficType': 'organic', 'x_sku_ids': '1038156726', 'x_item_ids': '131305546', 'SN': 'feb7c324dba78761f11a6be643f46dc6', 'current_price': '290', 'x_object_id': '131305546'}, 'originalPriceShow': '', 'priceShow': 'Rs. 290', 'ratingScore': '4.142857142857143', 'review': '28', 'location': 'Bagmati Province', 'description': ['【Compatible with Redmi Note 13 Pro Plus + 5G】Back Camera Lens Protector is exclusively designed for Redmi Note 13 Pro Plus + 5G phone, not for other models.', '【High-quality materials 】The rear camera protector is made of aviation aluminum alloy and tempered glass, which is more wear-resistant and stronger. High transparency maintains the original visual effect.', '【Full Lens Coverage】The camera lens protector full cover the lens of the mobile phone. It can prevent your camera lens from scratch effectively in daily life while prevent dust and water.', '【3D Texture 】The delicate and precise spiral pattern produces fascinating reflections and the unbeatable shine in any light. The camera protector not only protect your lens but also making it a personalized decoration.', '【Case Friendly】The ultra-thin design fit for most phone cases and will not affect the use of the case. Easy to install and remove.'], 'thumbs': [], 'sellerName': '55 STORE', 'sellerId': '900154653638', 'brandName': 'No Brand', 'brandId': '39704', 'cheapest_sku': '131305546_NP-1038156726', 'skuId': '1038156726', 'sku': '131305546_NP', 'categories': [240, 256, 8204], 'price': '290', 'inStock': True, 'originalPrice': '475', 'clickTrace': 'query:camera;nid:131305546;src:LazadaMainSrp;rn:feb7c324dba78761f11a6be643f46dc6;region:np;sku:131305546_NP;price:290;client:desktop;supplier_id:900154653638;biz_source:h5_unknow;slot:11;utlog_bucket_id:470687;asc_category_id:8204;item_id:131305546;sku_id:1038156726;shop_id:70477;templateInfo:-1_A3_C#1103_L#', 'itemSoldCntShow': '99 sold', 'longImageDisplayable': False, 'skus': [{'id': '131305546_NP-1038156726'}], 'promotionId': '', 'isSponsored': False, 'tItemType': 'nt_product', 'skuType': '', 'adFlag': '0', 'directSimilarUrl': 'https://native.m.lazada.com/dynamicxresult?item_img=https%3A%2F%2Fstatic-01.daraz.com.np%2Fp%2Ff9c0599852dccc48cde82bc5d468ba72.jpg&src=srp_findsimilar&item_id=131305546&sku_id=1038156726&params=%7B%22sub_src%22%3A%22long_press%22%2C%22src%22%3A%22srp_findsimilar%22%7D&m=tpp_findSimilar&q=camera&similarType=findSimilarV1&price=290.00&spuTriggerItem=0', 'gridTitleLine': '2', 'isFission': '0', 'isBadgeAutoScroll': False, 'showCart': False, 'showBackIcon': False, 'showUnitPrice': False, 'itemUrl': '//www.daraz.com.np/products/camera-lens-for-redmi-note-13-pro-plus-5g-individual-metal-ring-tempered-glass-camera-screen-protector-with-locator-black-i131305546.html', 'querystring': 'fs_ab=1&priceCompare=skuId%3A1038156726%3Bsource%3Alazada-search-voucher%3Bsn%3Afeb7c324dba78761f11a6be643f46dc6%3BoriginPrice%3A29000%3BdisplayPrice%3A29000%3BsinglePromotionId%3A-1%3BsingleToolCode%3AmockedSalePrice%3BvoucherPricePlugin%3A0%3Btimestamp%3A1758872502749&c=&ratingscore=4.142857142857143&freeshipping=0&source=search&channelLpJumpArgs=&fuse_fs=&search=1&sale=99&price=2.9E%202&review=28&location=Bagmati%20Province&stock=1&lang=en&request_id=feb7c324dba78761f11a6be643f46dc6&clickTrackInfo=query%253Acamera%253Bnid%253A131305546%253Bsrc%253ALazadaMainSrp%253Brn%253Afeb7c324dba78761f11a6be643f46dc6%253Bregion%253Anp%253Bsku%253A131305546_NP%253Bprice%253A290%253Bclient%253Adesktop%253Bsupplier_id%253A900154653638%253Bbiz_source%253Ah5_unknow%253Bslot%253A11%253Butlog_bucket_id%253A470687%253Basc_category_id%253A8204%253Bitem_id%253A131305546%253Bsku_id%253A1038156726%253Bshop_id%253A70477%253BtemplateInfo%253A-1_A3_C%25231103_L%2523'}\n",
      "{'name': 'Ultra Clear Tempered Glass Screen Lens Front Screen Protector For GoPro Hero 12 Black', 'nid': '128298846', 'itemId': '128298846', 'icons': [{'domClass': '150565', 'type': 'img', 'group': '6', 'showType': '0'}, {'domClass': '175175', 'type': 'img', 'group': '3', 'showType': '0'}], 'image': 'https://static-01.daraz.com.np/p/072c6c627428c9378044da979de668ca.jpg', 'isSmartImage': False, 'utLogMap': {'srp_name': 'LazadaMainSrp', 'x_object_type': 'item', 'src': 'organic', 'trafficType': 'organic', 'x_sku_ids': '1035554918', 'x_item_ids': '128298846', 'iconList': '150565;175175', 'SN': 'feb7c324dba78761f11a6be643f46dc6', 'current_price': '435', 'x_object_id': '128298846'}, 'originalPriceShow': '', 'priceShow': 'Rs. 435', 'ratingScore': '4.7272727272727275', 'review': '11', 'location': 'Bagmati Province', 'description': ['For Go Pro Hero 12 Black', '3 Pcs Screen Protector', 'Colour Transparent', '0.3mm thickness', 'Made of high quality tempered glass', 'Item Weight \\u200e30 g', 'Package Dimensions\\u200e10.2 x 7 x 3.1 cm; 30 Grams', '1 x Lens Protection Film', '2 x Small Display HD Protective Film', '1 x Wipes', '1 x Screen Dust - Absorb-er'], 'thumbs': [], 'sellerName': 'Next Buy', 'sellerId': '900151185319', 'brandName': 'No Brand', 'brandId': '39704', 'cheapest_sku': '128298846_NP-1035554918', 'skuId': '1035554918', 'sku': '128298846_NP', 'categories': [240, 256, 8204], 'price': '435', 'inStock': True, 'originalPrice': '700', 'clickTrace': 'query:camera;nid:128298846;src:LazadaMainSrp;rn:feb7c324dba78761f11a6be643f46dc6;region:np;sku:128298846_NP;price:435;client:desktop;supplier_id:900151185319;biz_source:h5_unknow;slot:12;utlog_bucket_id:470687;asc_category_id:8204;item_id:128298846;sku_id:1035554918;shop_id:23709;templateInfo:-1_A3_C#1103_L#', 'itemSoldCntShow': '41 sold', 'longImageDisplayable': False, 'skus': [{'id': '128298846_NP-1035554918'}], 'promotionId': '', 'isSponsored': False, 'tItemType': 'nt_product', 'skuType': '', 'adFlag': '0', 'directSimilarUrl': 'https://native.m.lazada.com/dynamicxresult?item_img=https%3A%2F%2Fstatic-01.daraz.com.np%2Fp%2F072c6c627428c9378044da979de668ca.jpg&src=srp_findsimilar&item_id=128298846&sku_id=1035554918&params=%7B%22sub_src%22%3A%22long_press%22%2C%22src%22%3A%22srp_findsimilar%22%7D&m=tpp_findSimilar&q=camera&similarType=findSimilarV1&price=435.00&spuTriggerItem=0', 'gridTitleLine': '2', 'isFission': '0', 'isBadgeAutoScroll': False, 'showCart': False, 'showBackIcon': False, 'showUnitPrice': False, 'itemUrl': '//www.daraz.com.np/products/ultra-clear-tempered-glass-screen-lens-front-screen-protector-for-gopro-hero-12-black-i128298846.html', 'querystring': 'fs_ab=1&priceCompare=skuId%3A1035554918%3Bsource%3Alazada-search-voucher%3Bsn%3Afeb7c324dba78761f11a6be643f46dc6%3BoriginPrice%3A43500%3BdisplayPrice%3A43500%3BsinglePromotionId%3A50000018794008%3BsingleToolCode%3ApromPrice%3BvoucherPricePlugin%3A0%3Btimestamp%3A1758872502749&c=&ratingscore=4.7272727272727275&freeshipping=0&source=search&channelLpJumpArgs=&fuse_fs=&search=1&sale=41&price=435&review=11&location=Bagmati%20Province&stock=1&lang=en&request_id=feb7c324dba78761f11a6be643f46dc6&clickTrackInfo=query%253Acamera%253Bnid%253A128298846%253Bsrc%253ALazadaMainSrp%253Brn%253Afeb7c324dba78761f11a6be643f46dc6%253Bregion%253Anp%253Bsku%253A128298846_NP%253Bprice%253A435%253Bclient%253Adesktop%253Bsupplier_id%253A900151185319%253Bbiz_source%253Ah5_unknow%253Bslot%253A12%253Butlog_bucket_id%253A470687%253Basc_category_id%253A8204%253Bitem_id%253A128298846%253Bsku_id%253A1035554918%253Bshop_id%253A23709%253BtemplateInfo%253A-1_A3_C%25231103_L%2523'}\n",
      "{'name': 'Iphone 11 Camera Protector Mettalic Ring Glass', 'nid': '149524700', 'itemId': '149524700', 'icons': [{'domClass': '150565', 'type': 'img', 'group': '6', 'showType': '0'}, {'domClass': '175175', 'type': 'img', 'group': '3', 'showType': '0'}], 'image': 'https://static-01.daraz.com.np/p/866b4fb72cb2f4d66ceef71b82778d49.jpg', 'isSmartImage': False, 'utLogMap': {'srp_name': 'LazadaMainSrp', 'x_object_type': 'item', 'src': 'organic', 'trafficType': 'organic', 'x_sku_ids': '1104136091', 'x_item_ids': '149524700', 'iconList': '150565;175175', 'SN': 'feb7c324dba78761f11a6be643f46dc6', 'current_price': '158.37', 'x_object_id': '149524700'}, 'originalPriceShow': '', 'priceShow': 'Rs. 158', 'ratingScore': '5.0', 'review': '3', 'location': 'Bagmati Province', 'description': [], 'thumbs': [], 'sellerName': 'Zap Home', 'sellerId': '900224992449', 'brandName': 'No Brand', 'brandId': '39704', 'cheapest_sku': '149524700_NP-1104136091', 'skuId': '1104136091', 'sku': '149524700_NP', 'categories': [240, 256, 8204], 'price': '158.37', 'inStock': True, 'originalPrice': '299', 'clickTrace': 'query:camera;nid:149524700;src:LazadaMainSrp;rn:feb7c324dba78761f11a6be643f46dc6;region:np;sku:149524700_NP;price:158.37;client:desktop;supplier_id:900224992449;biz_source:h5_unknow;slot:13;utlog_bucket_id:470687;asc_category_id:8204;item_id:149524700;sku_id:1104136091;shop_id:140324;templateInfo:-1_A3_C#1103_L#', 'itemSoldCntShow': '10 sold', 'longImageDisplayable': False, 'skus': [{'id': '149524700_NP-1104136091'}], 'promotionId': '', 'isSponsored': False, 'tItemType': 'nt_product', 'skuType': '', 'adFlag': '0', 'directSimilarUrl': 'https://native.m.lazada.com/dynamicxresult?item_img=https%3A%2F%2Fstatic-01.daraz.com.np%2Fp%2F866b4fb72cb2f4d66ceef71b82778d49.jpg&src=srp_findsimilar&item_id=149524700&sku_id=1104136091&params=%7B%22sub_src%22%3A%22long_press%22%2C%22src%22%3A%22srp_findsimilar%22%7D&m=tpp_findSimilar&q=camera&similarType=findSimilarV1&price=158.37&spuTriggerItem=0', 'gridTitleLine': '2', 'isFission': '0', 'isBadgeAutoScroll': False, 'showCart': False, 'showBackIcon': False, 'showUnitPrice': False, 'itemUrl': '//www.daraz.com.np/products/iphone-11-camera-protector-mettalic-ring-glass-i149524700.html', 'querystring': 'fs_ab=1&priceCompare=skuId%3A1104136091%3Bsource%3Alazada-search-voucher%3Bsn%3Afeb7c324dba78761f11a6be643f46dc6%3BoriginPrice%3A15800%3BdisplayPrice%3A15800%3BsinglePromotionId%3A50000018794008%3BsingleToolCode%3ApromPrice%3BvoucherPricePlugin%3A0%3Btimestamp%3A1758872502749&c=&ratingscore=5.0&freeshipping=0&source=search&channelLpJumpArgs=&fuse_fs=&search=1&sale=10&price=158.37&review=3&location=Bagmati%20Province&stock=1&lang=en&request_id=feb7c324dba78761f11a6be643f46dc6&clickTrackInfo=query%253Acamera%253Bnid%253A149524700%253Bsrc%253ALazadaMainSrp%253Brn%253Afeb7c324dba78761f11a6be643f46dc6%253Bregion%253Anp%253Bsku%253A149524700_NP%253Bprice%253A158.37%253Bclient%253Adesktop%253Bsupplier_id%253A900224992449%253Bbiz_source%253Ah5_unknow%253Bslot%253A13%253Butlog_bucket_id%253A470687%253Basc_category_id%253A8204%253Bitem_id%253A149524700%253Bsku_id%253A1104136091%253Bshop_id%253A140324%253BtemplateInfo%253A-1_A3_C%25231103_L%2523'}\n",
      "{'name': 'For Samsung Galaxy A16 5G - 9H Rear Camera Lens Aluminum Alloy Ring Tempered Glass Film(Black)', 'nid': '188477533', 'itemId': '188477533', 'icons': [{'domClass': '150564', 'type': 'img', 'group': '6', 'showType': '0'}, {'domClass': '175175', 'type': 'img', 'group': '3', 'showType': '0'}], 'image': 'https://static-01.daraz.com.np/p/bc8d479cd058b669424939a4b3167e2a.jpg', 'isSmartImage': False, 'utLogMap': {'srp_name': 'LazadaMainSrp', 'x_object_type': 'item', 'src': 'organic', 'trafficType': 'organic', 'x_sku_ids': '1231381669', 'x_item_ids': '188477533', 'iconList': '150564;175175', 'SN': 'feb7c324dba78761f11a6be643f46dc6', 'current_price': '337', 'x_object_id': '188477533'}, 'originalPriceShow': '', 'priceShow': 'Rs. 337', 'ratingScore': '5.0', 'review': '5', 'location': 'Bagmati Province', 'description': [], 'thumbs': [], 'sellerName': 'Mero Deals', 'sellerId': '900157494400', 'brandName': 'No Brand', 'brandId': '39704', 'cheapest_sku': '188477533_NP-1231381669', 'skuId': '1231381669', 'sku': '188477533_NP', 'categories': [240, 256, 8204], 'price': '337', 'inStock': True, 'originalPrice': '466', 'clickTrace': 'query:camera;nid:188477533;src:LazadaMainSrp;rn:feb7c324dba78761f11a6be643f46dc6;region:np;sku:188477533_NP;price:337;client:desktop;supplier_id:900157494400;biz_source:h5_unknow;slot:14;utlog_bucket_id:470687;asc_category_id:8204;item_id:188477533;sku_id:1231381669;shop_id:93492;templateInfo:-1_A3_C#1103_L#', 'itemSoldCntShow': '12 sold', 'longImageDisplayable': False, 'skus': [{'id': '188477533_NP-1231381669'}], 'promotionId': '', 'isSponsored': False, 'tItemType': 'nt_product', 'skuType': '', 'adFlag': '0', 'directSimilarUrl': 'https://native.m.lazada.com/dynamicxresult?item_img=https%3A%2F%2Fstatic-01.daraz.com.np%2Fp%2Fbc8d479cd058b669424939a4b3167e2a.jpg&src=srp_findsimilar&item_id=188477533&sku_id=1231381669&params=%7B%22sub_src%22%3A%22long_press%22%2C%22src%22%3A%22srp_findsimilar%22%7D&m=tpp_findSimilar&q=camera&similarType=findSimilarV1&price=337.00&spuTriggerItem=0', 'gridTitleLine': '2', 'isFission': '0', 'isBadgeAutoScroll': False, 'showCart': False, 'showBackIcon': False, 'showUnitPrice': False, 'itemUrl': '//www.daraz.com.np/products/for-samsung-galaxy-a16-5g-9h-rear-camera-lens-aluminum-alloy-ring-tempered-glass-filmblack-i188477533.html', 'querystring': 'fs_ab=1&priceCompare=skuId%3A1231381669%3Bsource%3Alazada-search-voucher%3Bsn%3Afeb7c324dba78761f11a6be643f46dc6%3BoriginPrice%3A33700%3BdisplayPrice%3A33700%3BsinglePromotionId%3A50000018794008%3BsingleToolCode%3ApromPrice%3BvoucherPricePlugin%3A0%3Btimestamp%3A1758872502749&c=&ratingscore=5.0&freeshipping=0&source=search&channelLpJumpArgs=&fuse_fs=&search=1&sale=12&price=337&review=5&location=Bagmati%20Province&stock=1&lang=en&request_id=feb7c324dba78761f11a6be643f46dc6&clickTrackInfo=query%253Acamera%253Bnid%253A188477533%253Bsrc%253ALazadaMainSrp%253Brn%253Afeb7c324dba78761f11a6be643f46dc6%253Bregion%253Anp%253Bsku%253A188477533_NP%253Bprice%253A337%253Bclient%253Adesktop%253Bsupplier_id%253A900157494400%253Bbiz_source%253Ah5_unknow%253Bslot%253A14%253Butlog_bucket_id%253A470687%253Basc_category_id%253A8204%253Bitem_id%253A188477533%253Bsku_id%253A1231381669%253Bshop_id%253A93492%253BtemplateInfo%253A-1_A3_C%25231103_L%2523'}\n",
      "{'name': 'Nothing phone 3A Pro Camera Lens Protector', 'nid': '386981835', 'itemId': '386981835', 'icons': [{'domClass': '150565', 'type': 'img', 'group': '6', 'showType': '0'}, {'domClass': '175175', 'type': 'img', 'group': '3', 'showType': '0'}], 'image': 'https://static-01.daraz.com.np/p/99d105200f4b58daf00529b5c00c9714.jpg', 'isSmartImage': False, 'utLogMap': {'srp_name': 'LazadaMainSrp', 'x_object_type': 'item', 'src': 'organic', 'trafficType': 'organic', 'x_sku_ids': '1680588187', 'x_item_ids': '386981835', 'iconList': '150565;175175', 'SN': 'feb7c324dba78761f11a6be643f46dc6', 'current_price': '285', 'x_object_id': '386981835'}, 'originalPriceShow': '', 'priceShow': 'Rs. 285', 'ratingScore': '5.0', 'review': '1', 'location': 'Bagmati Province', 'description': [], 'thumbs': [], 'sellerName': 'Tech NexT', 'sellerId': '900163664044', 'brandName': 'No Brand', 'brandId': '39704', 'cheapest_sku': '386981835_NP-1680588187', 'skuId': '1680588187', 'sku': '386981835_NP', 'categories': [240, 256, 8204], 'price': '285', 'inStock': True, 'originalPrice': '444', 'clickTrace': 'query:camera;nid:386981835;src:LazadaMainSrp;rn:feb7c324dba78761f11a6be643f46dc6;region:np;sku:386981835_NP;price:285;client:desktop;supplier_id:900163664044;biz_source:h5_unknow;slot:15;utlog_bucket_id:470687;asc_category_id:8204;item_id:386981835;sku_id:1680588187;shop_id:105340;templateInfo:-1_A3_C#1103_L#', 'itemSoldCntShow': '10 sold', 'longImageDisplayable': False, 'skus': [{'id': '386981835_NP-1680588187'}], 'promotionId': '', 'isSponsored': False, 'tItemType': 'nt_product', 'skuType': '', 'adFlag': '0', 'directSimilarUrl': 'https://native.m.lazada.com/dynamicxresult?item_img=https%3A%2F%2Fstatic-01.daraz.com.np%2Fp%2F99d105200f4b58daf00529b5c00c9714.jpg&src=srp_findsimilar&item_id=386981835&sku_id=1680588187&params=%7B%22sub_src%22%3A%22long_press%22%2C%22src%22%3A%22srp_findsimilar%22%7D&m=tpp_findSimilar&q=camera&similarType=findSimilarV1&price=285.00&spuTriggerItem=0', 'gridTitleLine': '2', 'isFission': '0', 'isBadgeAutoScroll': False, 'showCart': False, 'showBackIcon': False, 'showUnitPrice': False, 'itemUrl': '//www.daraz.com.np/products/nothing-phone-3a-pro-camera-lens-protector-i386981835.html', 'querystring': 'fs_ab=1&priceCompare=skuId%3A1680588187%3Bsource%3Alazada-search-voucher%3Bsn%3Afeb7c324dba78761f11a6be643f46dc6%3BoriginPrice%3A28500%3BdisplayPrice%3A28500%3BsinglePromotionId%3A50000018794008%3BsingleToolCode%3ApromPrice%3BvoucherPricePlugin%3A0%3Btimestamp%3A1758872502749&c=&ratingscore=5.0&freeshipping=0&source=search&channelLpJumpArgs=&fuse_fs=&search=1&sale=10&price=285&review=1&location=Bagmati%20Province&stock=1&lang=en&request_id=feb7c324dba78761f11a6be643f46dc6&clickTrackInfo=query%253Acamera%253Bnid%253A386981835%253Bsrc%253ALazadaMainSrp%253Brn%253Afeb7c324dba78761f11a6be643f46dc6%253Bregion%253Anp%253Bsku%253A386981835_NP%253Bprice%253A285%253Bclient%253Adesktop%253Bsupplier_id%253A900163664044%253Bbiz_source%253Ah5_unknow%253Bslot%253A15%253Butlog_bucket_id%253A470687%253Basc_category_id%253A8204%253Bitem_id%253A386981835%253Bsku_id%253A1680588187%253Bshop_id%253A105340%253BtemplateInfo%253A-1_A3_C%25231103_L%2523'}\n",
      "{'name': 'XMart Apple iPhone 16 / iPhone 16 Plus Camera Ring Tempered Glass', 'nid': '105132088', 'itemId': '105132088', 'icons': [{'domClass': '150565', 'type': 'img', 'group': '6', 'showType': '0'}, {'domClass': '150318', 'text': 'Gems save Rs. 10', 'type': 'text', 'group': '2', 'showType': '0'}, {'domClass': '175175', 'type': 'img', 'group': '3', 'showType': '0'}], 'image': 'https://static-01.daraz.com.np/p/4e7cdf33d4ce8b45665cf8eba105f617.png', 'isSmartImage': False, 'utLogMap': {'srp_name': 'LazadaMainSrp', 'x_object_type': 'item', 'src': 'organic', 'trafficType': 'organic', 'x_sku_ids': '1124823363', 'x_item_ids': '105132088', 'iconList': '150565;150318;175175', 'SN': 'feb7c324dba78761f11a6be643f46dc6', 'current_price': '336', 'x_object_id': '105132088'}, 'originalPriceShow': '', 'priceShow': 'Rs. 336', 'ratingScore': '4.75', 'review': '4', 'location': 'Bagmati Province', 'description': ['Tempered glass screen protector for iPhone 16  / iPhone 16 Plus.', 'Available in different colors to match your style.', 'Protects against scratches and impact.', 'Easy to install and does not affect camera functionality.'], 'thumbs': [], 'sellerName': 'Freakypanda', 'sellerId': '1010509', 'brandName': 'No Brand', 'brandId': '39704', 'cheapest_sku': '105132088_NP-1124823363', 'skuId': '1124823363', 'sku': '105132088_NP', 'categories': [240, 256, 8204], 'price': '336', 'inStock': True, 'originalPrice': '899', 'clickTrace': 'query:camera;nid:105132088;src:LazadaMainSrp;rn:feb7c324dba78761f11a6be643f46dc6;region:np;sku:105132088_NP;price:336;client:desktop;supplier_id:1010509;biz_source:h5_unknow;slot:16;utlog_bucket_id:470687;asc_category_id:8204;item_id:105132088;sku_id:1124823363;shop_id:20257;templateInfo:-1_A3_C#1103_L#', 'itemSoldCntShow': '18 sold', 'longImageDisplayable': False, 'skus': [{'id': '105132088_NP-1124823363'}], 'promotionId': '', 'isSponsored': False, 'tItemType': 'nt_product', 'skuType': '', 'adFlag': '0', 'directSimilarUrl': 'https://native.m.lazada.com/dynamicxresult?item_img=https%3A%2F%2Fstatic-01.daraz.com.np%2Fp%2F4e7cdf33d4ce8b45665cf8eba105f617.png&src=srp_findsimilar&item_id=105132088&sku_id=1124823363&params=%7B%22sub_src%22%3A%22long_press%22%2C%22src%22%3A%22srp_findsimilar%22%7D&m=tpp_findSimilar&q=camera&similarType=findSimilarV1&price=336.00&spuTriggerItem=0', 'gridTitleLine': '2', 'isFission': '0', 'isBadgeAutoScroll': False, 'showCart': False, 'showBackIcon': False, 'showUnitPrice': False, 'itemUrl': '//www.daraz.com.np/products/xmart-apple-iphone-16-iphone-16-plus-camera-ring-tempered-glass-i105132088.html', 'querystring': 'fs_ab=1&priceCompare=skuId%3A1124823363%3Bsource%3Alazada-search-voucher%3Bsn%3Afeb7c324dba78761f11a6be643f46dc6%3BoriginPrice%3A33600%3BdisplayPrice%3A33600%3BsinglePromotionId%3A50000018794008%3BsingleToolCode%3ApromPrice%3BvoucherPricePlugin%3A0%3Btimestamp%3A1758872502749&c=&ratingscore=4.75&freeshipping=0&source=search&channelLpJumpArgs=&fuse_fs=&search=1&sale=18&price=336&review=4&location=Bagmati%20Province&stock=1&lang=en&request_id=feb7c324dba78761f11a6be643f46dc6&clickTrackInfo=query%253Acamera%253Bnid%253A105132088%253Bsrc%253ALazadaMainSrp%253Brn%253Afeb7c324dba78761f11a6be643f46dc6%253Bregion%253Anp%253Bsku%253A105132088_NP%253Bprice%253A336%253Bclient%253Adesktop%253Bsupplier_id%253A1010509%253Bbiz_source%253Ah5_unknow%253Bslot%253A16%253Butlog_bucket_id%253A470687%253Basc_category_id%253A8204%253Bitem_id%253A105132088%253Bsku_id%253A1124823363%253Bshop_id%253A20257%253BtemplateInfo%253A-1_A3_C%25231103_L%2523'}\n",
      "{'name': 'Ultra Clear Tempered Glass Screen Lens Front Screen Protector For GoPro Hero 11 Black', 'nid': '122073984', 'itemId': '122073984', 'icons': [{'domClass': '150565', 'type': 'img', 'group': '6', 'showType': '0'}, {'domClass': '175175', 'type': 'img', 'group': '3', 'showType': '0'}], 'image': 'https://static-01.daraz.com.np/p/ca855fbda1726716fb85e43bfd3dddc4.jpg', 'isSmartImage': False, 'utLogMap': {'srp_name': 'LazadaMainSrp', 'x_object_type': 'item', 'src': 'organic', 'trafficType': 'organic', 'x_sku_ids': '1033187475', 'x_item_ids': '122073984', 'iconList': '150565;175175', 'SN': 'feb7c324dba78761f11a6be643f46dc6', 'current_price': '435', 'x_object_id': '122073984'}, 'originalPriceShow': '', 'priceShow': 'Rs. 435', 'ratingScore': '4.75', 'review': '32', 'location': 'Bagmati Province', 'description': ['Go Pro Hero 11 Black', 'You can use on go pro hero 10 and 9 ', '3 Pcs Screen Protector', 'Colour Transparent', '0.3mm thickness', 'Made of high quality tempered glass', 'Item Weight &lrm;30 g', 'Package Dimensions&lrm;10.2 x 7 x 3.1 cm; 30 Grams', '1 x Lens Protection Film', '2 x Small Display HD Protective Film', '1 x Wipes', '1 x Screen Dust - Absorb-er', '9H Hardness', 'High Definition', 'Anti-shatter'], 'thumbs': [], 'sellerName': 'Next Buy', 'sellerId': '900151185319', 'brandName': 'No Brand', 'brandId': '39704', 'cheapest_sku': '122073984_NP-1033187475', 'skuId': '1033187475', 'sku': '122073984_NP', 'categories': [240, 256, 8204], 'price': '435', 'inStock': True, 'originalPrice': '600', 'clickTrace': 'query:camera;nid:122073984;src:LazadaMainSrp;rn:feb7c324dba78761f11a6be643f46dc6;region:np;sku:122073984_NP;price:435;client:desktop;supplier_id:900151185319;biz_source:h5_unknow;slot:17;utlog_bucket_id:470687;asc_category_id:8204;item_id:122073984;sku_id:1033187475;shop_id:23709;templateInfo:-1_A3_C#1103_L#', 'itemSoldCntShow': '117 sold', 'longImageDisplayable': False, 'skus': [{'id': '122073984_NP-1033187475'}], 'promotionId': '', 'isSponsored': False, 'tItemType': 'nt_product', 'skuType': '', 'adFlag': '0', 'directSimilarUrl': 'https://native.m.lazada.com/dynamicxresult?item_img=https%3A%2F%2Fstatic-01.daraz.com.np%2Fp%2Fca855fbda1726716fb85e43bfd3dddc4.jpg&src=srp_findsimilar&item_id=122073984&sku_id=1033187475&params=%7B%22sub_src%22%3A%22long_press%22%2C%22src%22%3A%22srp_findsimilar%22%7D&m=tpp_findSimilar&q=camera&similarType=findSimilarV1&price=435.00&spuTriggerItem=0', 'gridTitleLine': '2', 'isFission': '0', 'isBadgeAutoScroll': False, 'showCart': False, 'showBackIcon': False, 'showUnitPrice': False, 'itemUrl': '//www.daraz.com.np/products/ultra-clear-tempered-glass-screen-lens-front-screen-protector-for-gopro-hero-11-black-i122073984.html', 'querystring': 'fs_ab=1&priceCompare=skuId%3A1033187475%3Bsource%3Alazada-search-voucher%3Bsn%3Afeb7c324dba78761f11a6be643f46dc6%3BoriginPrice%3A43500%3BdisplayPrice%3A43500%3BsinglePromotionId%3A50000018794008%3BsingleToolCode%3ApromPrice%3BvoucherPricePlugin%3A0%3Btimestamp%3A1758872502749&c=&ratingscore=4.75&freeshipping=0&source=search&channelLpJumpArgs=&fuse_fs=&search=1&sale=117&price=435&review=32&location=Bagmati%20Province&stock=1&lang=en&request_id=feb7c324dba78761f11a6be643f46dc6&clickTrackInfo=query%253Acamera%253Bnid%253A122073984%253Bsrc%253ALazadaMainSrp%253Brn%253Afeb7c324dba78761f11a6be643f46dc6%253Bregion%253Anp%253Bsku%253A122073984_NP%253Bprice%253A435%253Bclient%253Adesktop%253Bsupplier_id%253A900151185319%253Bbiz_source%253Ah5_unknow%253Bslot%253A17%253Butlog_bucket_id%253A470687%253Basc_category_id%253A8204%253Bitem_id%253A122073984%253Bsku_id%253A1033187475%253Bshop_id%253A23709%253BtemplateInfo%253A-1_A3_C%25231103_L%2523'}\n",
      "{'name': 'Iphone XR  Flexible Camera Lens Protector Tempered Glass Film(3pics)', 'nid': '239250947', 'itemId': '239250947', 'icons': [{'domClass': '150564', 'type': 'img', 'group': '6', 'showType': '0'}, {'domClass': '175175', 'type': 'img', 'group': '3', 'showType': '0'}], 'image': 'https://static-01.daraz.com.np/p/31d215daa8884aeef98ee4791b8f2bbe.jpg', 'isSmartImage': False, 'utLogMap': {'srp_name': 'LazadaMainSrp', 'x_object_type': 'item', 'src': 'organic', 'trafficType': 'organic', 'x_sku_ids': '1252924823', 'x_item_ids': '239250947', 'iconList': '150564;175175', 'SN': 'feb7c324dba78761f11a6be643f46dc6', 'current_price': '98', 'x_object_id': '239250947'}, 'originalPriceShow': '', 'priceShow': 'Rs. 98', 'ratingScore': '5.0', 'review': '2', 'location': 'Bagmati Province', 'description': [], 'thumbs': [], 'sellerName': 'shine movie and mobile', 'sellerId': '900152370346', 'brandName': 'No Brand', 'brandId': '39704', 'cheapest_sku': '239250947_NP-1252924823', 'skuId': '1252924823', 'sku': '239250947_NP', 'categories': [240, 256, 8204], 'price': '98', 'inStock': True, 'originalPrice': '200', 'clickTrace': 'query:camera;nid:239250947;src:LazadaMainSrp;rn:feb7c324dba78761f11a6be643f46dc6;region:np;sku:239250947_NP;price:98;client:desktop;supplier_id:900152370346;biz_source:h5_unknow;slot:18;utlog_bucket_id:470687;asc_category_id:8204;item_id:239250947;sku_id:1252924823;shop_id:46116;templateInfo:-1_A3_C#1103_L#', 'itemSoldCntShow': '12 sold', 'longImageDisplayable': False, 'skus': [{'id': '239250947_NP-1252924823'}], 'promotionId': '', 'isSponsored': False, 'tItemType': 'nt_product', 'skuType': '', 'adFlag': '0', 'directSimilarUrl': 'https://native.m.lazada.com/dynamicxresult?item_img=https%3A%2F%2Fstatic-01.daraz.com.np%2Fp%2F31d215daa8884aeef98ee4791b8f2bbe.jpg&src=srp_findsimilar&item_id=239250947&sku_id=1252924823&params=%7B%22sub_src%22%3A%22long_press%22%2C%22src%22%3A%22srp_findsimilar%22%7D&m=tpp_findSimilar&q=camera&similarType=findSimilarV1&price=98.00&spuTriggerItem=0', 'gridTitleLine': '2', 'isFission': '0', 'isBadgeAutoScroll': False, 'showCart': False, 'showBackIcon': False, 'showUnitPrice': False, 'itemUrl': '//www.daraz.com.np/products/iphone-xr-flexible-camera-lens-protector-tempered-glass-film3pics-i239250947.html', 'querystring': 'fs_ab=1&priceCompare=skuId%3A1252924823%3Bsource%3Alazada-search-voucher%3Bsn%3Afeb7c324dba78761f11a6be643f46dc6%3BoriginPrice%3A9800%3BdisplayPrice%3A9800%3BsinglePromotionId%3A50000018794008%3BsingleToolCode%3ApromPrice%3BvoucherPricePlugin%3A0%3Btimestamp%3A1758872502749&c=&ratingscore=5.0&freeshipping=0&source=search&channelLpJumpArgs=&fuse_fs=&search=1&sale=12&price=98&review=2&location=Bagmati%20Province&stock=1&lang=en&request_id=feb7c324dba78761f11a6be643f46dc6&clickTrackInfo=query%253Acamera%253Bnid%253A239250947%253Bsrc%253ALazadaMainSrp%253Brn%253Afeb7c324dba78761f11a6be643f46dc6%253Bregion%253Anp%253Bsku%253A239250947_NP%253Bprice%253A98%253Bclient%253Adesktop%253Bsupplier_id%253A900152370346%253Bbiz_source%253Ah5_unknow%253Bslot%253A18%253Butlog_bucket_id%253A470687%253Basc_category_id%253A8204%253Bitem_id%253A239250947%253Bsku_id%253A1252924823%253Bshop_id%253A46116%253BtemplateInfo%253A-1_A3_C%25231103_L%2523'}\n",
      "{'name': 'Honor 400 Pro (5G) Camera Lens Protector', 'nid': '476385321', 'itemId': '476385321', 'icons': [{'domClass': '150565', 'type': 'img', 'group': '6', 'showType': '0'}, {'domClass': '162933', 'type': 'img', 'group': '2', 'showType': '0'}], 'image': 'https://static-01.daraz.com.np/p/c2a387ea8abb0958179a85bdda075b07.jpg', 'isSmartImage': False, 'utLogMap': {'srp_name': 'LazadaMainSrp', 'x_object_type': 'item', 'src': 'organic', 'trafficType': 'organic', 'x_sku_ids': '2115623431', 'x_item_ids': '476385321', 'iconList': '150565;162933', 'SN': 'feb7c324dba78761f11a6be643f46dc6', 'current_price': '299', 'x_object_id': '476385321'}, 'originalPriceShow': '', 'priceShow': 'Rs. 299', 'ratingScore': '5.0', 'review': '1', 'location': 'Bagmati Province', 'description': [], 'thumbs': [], 'sellerName': 'Tech NexT', 'sellerId': '900163664044', 'brandName': 'No Brand', 'brandId': '39704', 'cheapest_sku': '476385321_NP-2115623431', 'skuId': '2115623431', 'sku': '476385321_NP', 'categories': [240, 256, 8204], 'price': '299', 'inStock': True, 'originalPrice': '830', 'clickTrace': 'query:camera;nid:476385321;src:LazadaMainSrp;rn:feb7c324dba78761f11a6be643f46dc6;region:np;sku:476385321_NP;price:299;client:desktop;supplier_id:900163664044;biz_source:h5_unknow;slot:19;utlog_bucket_id:470687;asc_category_id:8204;item_id:476385321;sku_id:2115623431;shop_id:105340;templateInfo:-1_A3_C#1103_L#', 'longImageDisplayable': False, 'skus': [{'id': '476385321_NP-2115623431'}], 'promotionId': '', 'isSponsored': False, 'tItemType': 'nt_product', 'skuType': '', 'adFlag': '0', 'directSimilarUrl': 'https://native.m.lazada.com/dynamicxresult?item_img=https%3A%2F%2Fstatic-01.daraz.com.np%2Fp%2Fc2a387ea8abb0958179a85bdda075b07.jpg&src=srp_findsimilar&item_id=476385321&sku_id=2115623431&params=%7B%22sub_src%22%3A%22long_press%22%2C%22src%22%3A%22srp_findsimilar%22%7D&m=tpp_findSimilar&q=camera&similarType=findSimilarV1&price=299.00&spuTriggerItem=0', 'gridTitleLine': '2', 'isFission': '0', 'isBadgeAutoScroll': False, 'showCart': False, 'showBackIcon': False, 'showUnitPrice': False, 'itemUrl': '//www.daraz.com.np/products/honor-400-pro-5g-camera-lens-protector-i476385321.html', 'querystring': 'fs_ab=1&priceCompare=skuId%3A2115623431%3Bsource%3Alazada-search-voucher%3Bsn%3Afeb7c324dba78761f11a6be643f46dc6%3BoriginPrice%3A29900%3BdisplayPrice%3A29900%3BsinglePromotionId%3A-1%3BsingleToolCode%3AmockedSalePrice%3BvoucherPricePlugin%3A0%3Btimestamp%3A1758872502749&c=&ratingscore=5.0&freeshipping=0&source=search&channelLpJumpArgs=&fuse_fs=&search=1&sale=3&price=299&review=1&location=Bagmati%20Province&stock=1&lang=en&request_id=feb7c324dba78761f11a6be643f46dc6&clickTrackInfo=query%253Acamera%253Bnid%253A476385321%253Bsrc%253ALazadaMainSrp%253Brn%253Afeb7c324dba78761f11a6be643f46dc6%253Bregion%253Anp%253Bsku%253A476385321_NP%253Bprice%253A299%253Bclient%253Adesktop%253Bsupplier_id%253A900163664044%253Bbiz_source%253Ah5_unknow%253Bslot%253A19%253Butlog_bucket_id%253A470687%253Basc_category_id%253A8204%253Bitem_id%253A476385321%253Bsku_id%253A2115623431%253Bshop_id%253A105340%253BtemplateInfo%253A-1_A3_C%25231103_L%2523'}\n",
      "{'name': 'Full Coverage Back Camera Lens Protector For iPhone 13 By Panchakumari Mobile Hub', 'nid': '130149722', 'itemId': '130149722', 'icons': [{'domClass': '150565', 'type': 'img', 'group': '6', 'showType': '0'}, {'domClass': '150318', 'text': 'Gems save Rs. 3', 'type': 'text', 'group': '2', 'showType': '0'}], 'image': 'https://static-01.daraz.com.np/p/8f846866601d76ec2e37019e82a0b4fd.jpg', 'isSmartImage': False, 'utLogMap': {'srp_name': 'LazadaMainSrp', 'x_object_type': 'item', 'src': 'organic', 'trafficType': 'organic', 'x_sku_ids': '1038059658', 'x_item_ids': '130149722', 'iconList': '150565;150318', 'SN': 'feb7c324dba78761f11a6be643f46dc6', 'current_price': '299', 'x_object_id': '130149722'}, 'originalPriceShow': '', 'priceShow': 'Rs. 299', 'ratingScore': '5.0', 'review': '1', 'location': 'Bagmati Province', 'description': ['Diamond grid matrix craft/Ultra thin/Lightweight', 'Full round coverage', \"0.2mm higher than phone's camera for better protection\", 'Easy installation', 'Cover All surface around Back Camera'], 'thumbs': [], 'sellerName': 'Panchakumari Mobile Hub', 'sellerId': '9677', 'brandName': 'No Brand', 'brandId': '39704', 'cheapest_sku': '130149722_NP-1038059658', 'skuId': '1038059658', 'sku': '130149722_NP', 'categories': [240, 256, 8204], 'price': '299', 'inStock': True, 'originalPrice': '950', 'clickTrace': 'query:camera;nid:130149722;src:LazadaMainSrp;rn:feb7c324dba78761f11a6be643f46dc6;region:np;sku:130149722_NP;price:299;client:desktop;supplier_id:9677;biz_source:h5_unknow;slot:20;utlog_bucket_id:470687;asc_category_id:8204;item_id:130149722;sku_id:1038059658;shop_id:9677;templateInfo:-1_A3_C#1103_L#', 'longImageDisplayable': False, 'skus': [{'id': '130149722_NP-1038059658'}], 'promotionId': '', 'isSponsored': False, 'tItemType': 'nt_product', 'skuType': '', 'adFlag': '0', 'directSimilarUrl': 'https://native.m.lazada.com/dynamicxresult?item_img=https%3A%2F%2Fstatic-01.daraz.com.np%2Fp%2F8f846866601d76ec2e37019e82a0b4fd.jpg&src=srp_findsimilar&item_id=130149722&sku_id=1038059658&params=%7B%22sub_src%22%3A%22long_press%22%2C%22src%22%3A%22srp_findsimilar%22%7D&m=tpp_findSimilar&q=camera&similarType=findSimilarV1&price=299.00&spuTriggerItem=0', 'gridTitleLine': '2', 'isFission': '0', 'isBadgeAutoScroll': False, 'showCart': False, 'showBackIcon': False, 'showUnitPrice': False, 'itemUrl': '//www.daraz.com.np/products/full-coverage-back-camera-lens-protector-for-iphone-13-by-panchakumari-mobile-hub-i130149722.html', 'querystring': 'fs_ab=1&priceCompare=skuId%3A1038059658%3Bsource%3Alazada-search-voucher%3Bsn%3Afeb7c324dba78761f11a6be643f46dc6%3BoriginPrice%3A29900%3BdisplayPrice%3A29900%3BsinglePromotionId%3A-1%3BsingleToolCode%3AmockedSalePrice%3BvoucherPricePlugin%3A0%3Btimestamp%3A1758872502749&c=&ratingscore=5.0&freeshipping=0&source=search&channelLpJumpArgs=&fuse_fs=&search=1&sale=4&price=299&review=1&location=Bagmati%20Province&stock=1&lang=en&request_id=feb7c324dba78761f11a6be643f46dc6&clickTrackInfo=query%253Acamera%253Bnid%253A130149722%253Bsrc%253ALazadaMainSrp%253Brn%253Afeb7c324dba78761f11a6be643f46dc6%253Bregion%253Anp%253Bsku%253A130149722_NP%253Bprice%253A299%253Bclient%253Adesktop%253Bsupplier_id%253A9677%253Bbiz_source%253Ah5_unknow%253Bslot%253A20%253Butlog_bucket_id%253A470687%253Basc_category_id%253A8204%253Bitem_id%253A130149722%253Bsku_id%253A1038059658%253Bshop_id%253A9677%253BtemplateInfo%253A-1_A3_C%25231103_L%2523'}\n",
      "{'name': 'Iphone 14 Pro Max Camera Protector Mettalic Ring Glass', 'nid': '149565279', 'itemId': '149565279', 'icons': [{'domClass': '150565', 'type': 'img', 'group': '6', 'showType': '0'}, {'domClass': '175175', 'type': 'img', 'group': '3', 'showType': '0'}], 'image': 'https://static-01.daraz.com.np/p/a4e6700e032386159ad2b8f50cb96819.png', 'isSmartImage': False, 'utLogMap': {'srp_name': 'LazadaMainSrp', 'x_object_type': 'item', 'src': 'organic', 'trafficType': 'organic', 'x_sku_ids': '1104028853', 'x_item_ids': '149565279', 'iconList': '150565;175175', 'SN': 'feb7c324dba78761f11a6be643f46dc6', 'current_price': '158.37', 'x_object_id': '149565279'}, 'originalPriceShow': '', 'priceShow': 'Rs. 158', 'ratingScore': '4.7272727272727275', 'review': '11', 'location': 'Bagmati Province', 'description': [], 'thumbs': [], 'sellerName': 'Zap Home', 'sellerId': '900224992449', 'brandName': 'No Brand', 'brandId': '39704', 'cheapest_sku': '149565279_NP-1104028853', 'skuId': '1104028853', 'sku': '149565279_NP', 'categories': [240, 256, 8204], 'price': '158.37', 'inStock': True, 'originalPrice': '299', 'clickTrace': 'query:camera;nid:149565279;src:LazadaMainSrp;rn:feb7c324dba78761f11a6be643f46dc6;region:np;sku:149565279_NP;price:158.37;client:desktop;supplier_id:900224992449;biz_source:h5_unknow;slot:21;utlog_bucket_id:470687;asc_category_id:8204;item_id:149565279;sku_id:1104028853;shop_id:140324;templateInfo:-1_A3_C#1103_L#', 'itemSoldCntShow': '51 sold', 'longImageDisplayable': False, 'skus': [{'id': '149565279_NP-1104028853'}], 'promotionId': '', 'isSponsored': False, 'tItemType': 'nt_product', 'skuType': '', 'adFlag': '0', 'directSimilarUrl': 'https://native.m.lazada.com/dynamicxresult?item_img=https%3A%2F%2Fstatic-01.daraz.com.np%2Fp%2Fa4e6700e032386159ad2b8f50cb96819.png&src=srp_findsimilar&item_id=149565279&sku_id=1104028853&params=%7B%22sub_src%22%3A%22long_press%22%2C%22src%22%3A%22srp_findsimilar%22%7D&m=tpp_findSimilar&q=camera&similarType=findSimilarV1&price=158.37&spuTriggerItem=0', 'gridTitleLine': '2', 'isFission': '0', 'isBadgeAutoScroll': False, 'showCart': False, 'showBackIcon': False, 'showUnitPrice': False, 'itemUrl': '//www.daraz.com.np/products/iphone-14-pro-max-camera-protector-mettalic-ring-glass-i149565279.html', 'querystring': 'fs_ab=1&priceCompare=skuId%3A1104028853%3Bsource%3Alazada-search-voucher%3Bsn%3Afeb7c324dba78761f11a6be643f46dc6%3BoriginPrice%3A15800%3BdisplayPrice%3A15800%3BsinglePromotionId%3A50000018794008%3BsingleToolCode%3ApromPrice%3BvoucherPricePlugin%3A0%3Btimestamp%3A1758872502749&c=&ratingscore=4.7272727272727275&freeshipping=0&source=search&channelLpJumpArgs=&fuse_fs=&search=1&sale=51&price=158.37&review=11&location=Bagmati%20Province&stock=1&lang=en&request_id=feb7c324dba78761f11a6be643f46dc6&clickTrackInfo=query%253Acamera%253Bnid%253A149565279%253Bsrc%253ALazadaMainSrp%253Brn%253Afeb7c324dba78761f11a6be643f46dc6%253Bregion%253Anp%253Bsku%253A149565279_NP%253Bprice%253A158.37%253Bclient%253Adesktop%253Bsupplier_id%253A900224992449%253Bbiz_source%253Ah5_unknow%253Bslot%253A21%253Butlog_bucket_id%253A470687%253Basc_category_id%253A8204%253Bitem_id%253A149565279%253Bsku_id%253A1104028853%253Bshop_id%253A140324%253BtemplateInfo%253A-1_A3_C%25231103_L%2523'}\n",
      "{'name': 'Lens Ring for OnePlus Nord CE 4 Lite 5G  - Tempered Protector Glass Back Camera Cover Protection Aluminum Alloy Lens Ring Cover - Black 1+', 'nid': '179337091', 'itemId': '179337091', 'icons': [{'domClass': '150564', 'type': 'img', 'group': '6', 'showType': '0'}, {'domClass': '175175', 'type': 'img', 'group': '3', 'showType': '0'}], 'image': 'https://static-01.daraz.com.np/p/1b925d6195aa47ff04511025112f3533.jpg', 'isSmartImage': False, 'utLogMap': {'srp_name': 'LazadaMainSrp', 'x_object_type': 'item', 'src': 'organic', 'trafficType': 'organic', 'x_sku_ids': '1208103214', 'x_item_ids': '179337091', 'iconList': '150564;175175', 'SN': 'feb7c324dba78761f11a6be643f46dc6', 'current_price': '356', 'x_object_id': '179337091'}, 'originalPriceShow': '', 'priceShow': 'Rs. 356', 'ratingScore': '5.0', 'review': '6', 'location': 'Bagmati Province', 'description': [], 'thumbs': [], 'sellerName': 'Sathi ko Pasal', 'sellerId': '900153150036', 'brandName': 'No Brand', 'brandId': '39704', 'cheapest_sku': '179337091_NP-1208103214', 'skuId': '1208103214', 'sku': '179337091_NP', 'categories': [240, 256, 8204], 'price': '356', 'inStock': True, 'originalPrice': '475', 'clickTrace': 'query:camera;nid:179337091;src:LazadaMainSrp;rn:feb7c324dba78761f11a6be643f46dc6;region:np;sku:179337091_NP;price:356;client:desktop;supplier_id:900153150036;biz_source:h5_unknow;slot:22;utlog_bucket_id:470687;asc_category_id:8204;item_id:179337091;sku_id:1208103214;shop_id:58627;templateInfo:-1_A3_C#1103_L#', 'itemSoldCntShow': '19 sold', 'longImageDisplayable': False, 'skus': [{'id': '179337091_NP-1208103214'}], 'promotionId': '', 'isSponsored': False, 'tItemType': 'nt_product', 'skuType': '', 'adFlag': '0', 'directSimilarUrl': 'https://native.m.lazada.com/dynamicxresult?item_img=https%3A%2F%2Fstatic-01.daraz.com.np%2Fp%2F1b925d6195aa47ff04511025112f3533.jpg&src=srp_findsimilar&item_id=179337091&sku_id=1208103214&params=%7B%22sub_src%22%3A%22long_press%22%2C%22src%22%3A%22srp_findsimilar%22%7D&m=tpp_findSimilar&q=camera&similarType=findSimilarV1&price=356.00&spuTriggerItem=0', 'gridTitleLine': '2', 'isFission': '0', 'isBadgeAutoScroll': False, 'showCart': False, 'showBackIcon': False, 'showUnitPrice': False, 'itemUrl': '//www.daraz.com.np/products/lens-ring-for-oneplus-nord-ce-4-lite-5g-tempered-protector-glass-back-camera-cover-protection-aluminum-alloy-lens-ring-cover-black-1-i179337091.html', 'querystring': 'fs_ab=1&priceCompare=skuId%3A1208103214%3Bsource%3Alazada-search-voucher%3Bsn%3Afeb7c324dba78761f11a6be643f46dc6%3BoriginPrice%3A35600%3BdisplayPrice%3A35600%3BsinglePromotionId%3A50000018794008%3BsingleToolCode%3ApromPrice%3BvoucherPricePlugin%3A0%3Btimestamp%3A1758872502749&c=&ratingscore=5.0&freeshipping=0&source=search&channelLpJumpArgs=&fuse_fs=&search=1&sale=19&price=356&review=6&location=Bagmati%20Province&stock=1&lang=en&request_id=feb7c324dba78761f11a6be643f46dc6&clickTrackInfo=query%253Acamera%253Bnid%253A179337091%253Bsrc%253ALazadaMainSrp%253Brn%253Afeb7c324dba78761f11a6be643f46dc6%253Bregion%253Anp%253Bsku%253A179337091_NP%253Bprice%253A356%253Bclient%253Adesktop%253Bsupplier_id%253A900153150036%253Bbiz_source%253Ah5_unknow%253Bslot%253A22%253Butlog_bucket_id%253A470687%253Basc_category_id%253A8204%253Bitem_id%253A179337091%253Bsku_id%253A1208103214%253Bshop_id%253A58627%253BtemplateInfo%253A-1_A3_C%25231103_L%2523'}\n",
      "{'name': 'Metal Ring Camera Lens Protector For iPhone 12 By Panchakumari Mobile Hub', 'nid': '131709587', 'itemId': '131709587', 'icons': [{'domClass': '150565', 'type': 'img', 'group': '6', 'showType': '0'}, {'domClass': '150318', 'text': 'Gems save Rs. 2', 'type': 'text', 'group': '2', 'showType': '0'}, {'domClass': '175175', 'type': 'img', 'group': '3', 'showType': '0'}], 'image': 'https://static-01.daraz.com.np/p/8fb02660228dc0c76d558f5023eab4d0.jpg', 'isSmartImage': False, 'utLogMap': {'srp_name': 'LazadaMainSrp', 'x_object_type': 'item', 'src': 'organic', 'trafficType': 'organic', 'x_sku_ids': '1038900965', 'x_item_ids': '131709587', 'iconList': '150565;150318;175175', 'SN': 'feb7c324dba78761f11a6be643f46dc6', 'current_price': '161', 'x_object_id': '131709587'}, 'originalPriceShow': '', 'priceShow': 'Rs. 161', 'ratingScore': '5.0', 'review': '1', 'location': 'Bagmati Province', 'description': [' Aluminum alloy protection sticker ,', ' Easy fit , Effective dispersion of impact power when surface is strongly impacted 2 9d arc surface full protection lens ,', ' Avoid force concentration after grinding Hydrophobic oil treatment , Not easily contaminated with fingerprints', 'Nami adsorption , Simple and easy fit , Super adsorption ! Alignment and deposition can automatically adsorb and exhaust the air'], 'thumbs': [], 'sellerName': 'Panchakumari Mobile Hub', 'sellerId': '9677', 'brandName': 'No Brand', 'brandId': '39704', 'cheapest_sku': '131709587_NP-1038900965', 'skuId': '1038900965', 'sku': '131709587_NP', 'categories': [240, 256, 8204], 'price': '161', 'inStock': True, 'originalPrice': '550', 'clickTrace': 'query:camera;nid:131709587;src:LazadaMainSrp;rn:feb7c324dba78761f11a6be643f46dc6;region:np;sku:131709587_NP;price:161;client:desktop;supplier_id:9677;biz_source:h5_unknow;slot:23;utlog_bucket_id:470687;asc_category_id:8204;item_id:131709587;sku_id:1038900965;shop_id:9677;templateInfo:-1_A3_C#1103_L#', 'itemSoldCntShow': '5 sold', 'longImageDisplayable': False, 'skus': [{'id': '131709587_NP-1038900965'}], 'promotionId': '', 'isSponsored': False, 'tItemType': 'nt_product', 'skuType': '', 'adFlag': '0', 'directSimilarUrl': 'https://native.m.lazada.com/dynamicxresult?item_img=https%3A%2F%2Fstatic-01.daraz.com.np%2Fp%2F8fb02660228dc0c76d558f5023eab4d0.jpg&src=srp_findsimilar&item_id=131709587&sku_id=1038900965&params=%7B%22sub_src%22%3A%22long_press%22%2C%22src%22%3A%22srp_findsimilar%22%7D&m=tpp_findSimilar&q=camera&similarType=findSimilarV1&price=161.00&spuTriggerItem=0', 'gridTitleLine': '2', 'isFission': '0', 'isBadgeAutoScroll': False, 'showCart': False, 'showBackIcon': False, 'showUnitPrice': False, 'itemUrl': '//www.daraz.com.np/products/metal-ring-camera-lens-protector-for-iphone-12-by-panchakumari-mobile-hub-i131709587.html', 'querystring': 'fs_ab=1&priceCompare=skuId%3A1038900965%3Bsource%3Alazada-search-voucher%3Bsn%3Afeb7c324dba78761f11a6be643f46dc6%3BoriginPrice%3A16100%3BdisplayPrice%3A16100%3BsinglePromotionId%3A50000018794008%3BsingleToolCode%3ApromPrice%3BvoucherPricePlugin%3A0%3Btimestamp%3A1758872502749&c=&ratingscore=5.0&freeshipping=0&source=search&channelLpJumpArgs=&fuse_fs=&search=1&sale=5&price=161&review=1&location=Bagmati%20Province&stock=1&lang=en&request_id=feb7c324dba78761f11a6be643f46dc6&clickTrackInfo=query%253Acamera%253Bnid%253A131709587%253Bsrc%253ALazadaMainSrp%253Brn%253Afeb7c324dba78761f11a6be643f46dc6%253Bregion%253Anp%253Bsku%253A131709587_NP%253Bprice%253A161%253Bclient%253Adesktop%253Bsupplier_id%253A9677%253Bbiz_source%253Ah5_unknow%253Bslot%253A23%253Butlog_bucket_id%253A470687%253Basc_category_id%253A8204%253Bitem_id%253A131709587%253Bsku_id%253A1038900965%253Bshop_id%253A9677%253BtemplateInfo%253A-1_A3_C%25231103_L%2523'}\n",
      "{'name': 'Iphone 11 Pro Max Camera Protector Mettalic Ring Glass', 'nid': '149565277', 'itemId': '149565277', 'icons': [{'domClass': '150565', 'type': 'img', 'group': '6', 'showType': '0'}, {'domClass': '175175', 'type': 'img', 'group': '3', 'showType': '0'}], 'image': 'https://static-01.daraz.com.np/p/8226b49c8797d0a5a2118c4fb6a09039.jpg', 'isSmartImage': False, 'utLogMap': {'srp_name': 'LazadaMainSrp', 'x_object_type': 'item', 'src': 'organic', 'trafficType': 'organic', 'x_sku_ids': '1104088465', 'x_item_ids': '149565277', 'iconList': '150565;175175', 'SN': 'feb7c324dba78761f11a6be643f46dc6', 'current_price': '158.37', 'x_object_id': '149565277'}, 'originalPriceShow': '', 'priceShow': 'Rs. 158', 'ratingScore': '4.333333333333333', 'review': '3', 'location': 'Bagmati Province', 'description': [], 'thumbs': [], 'sellerName': 'Zap Home', 'sellerId': '900224992449', 'brandName': 'No Brand', 'brandId': '39704', 'cheapest_sku': '149565277_NP-1104088465', 'skuId': '1104088465', 'sku': '149565277_NP', 'categories': [240, 256, 8204], 'price': '158.37', 'inStock': True, 'originalPrice': '299', 'clickTrace': 'query:camera;nid:149565277;src:LazadaMainSrp;rn:feb7c324dba78761f11a6be643f46dc6;region:np;sku:149565277_NP;price:158.37;client:desktop;supplier_id:900224992449;biz_source:h5_unknow;slot:24;utlog_bucket_id:470687;asc_category_id:8204;item_id:149565277;sku_id:1104088465;shop_id:140324;templateInfo:-1_A3_C#1103_L#', 'itemSoldCntShow': '5 sold', 'longImageDisplayable': False, 'skus': [{'id': '149565277_NP-1104088465'}], 'promotionId': '', 'isSponsored': False, 'tItemType': 'nt_product', 'skuType': '', 'adFlag': '0', 'directSimilarUrl': 'https://native.m.lazada.com/dynamicxresult?item_img=https%3A%2F%2Fstatic-01.daraz.com.np%2Fp%2F8226b49c8797d0a5a2118c4fb6a09039.jpg&src=srp_findsimilar&item_id=149565277&sku_id=1104088465&params=%7B%22sub_src%22%3A%22long_press%22%2C%22src%22%3A%22srp_findsimilar%22%7D&m=tpp_findSimilar&q=camera&similarType=findSimilarV1&price=158.37&spuTriggerItem=0', 'gridTitleLine': '2', 'isFission': '0', 'isBadgeAutoScroll': False, 'showCart': False, 'showBackIcon': False, 'showUnitPrice': False, 'itemUrl': '//www.daraz.com.np/products/iphone-11-pro-max-camera-protector-mettalic-ring-glass-i149565277.html', 'querystring': 'fs_ab=1&priceCompare=skuId%3A1104088465%3Bsource%3Alazada-search-voucher%3Bsn%3Afeb7c324dba78761f11a6be643f46dc6%3BoriginPrice%3A15800%3BdisplayPrice%3A15800%3BsinglePromotionId%3A50000018794008%3BsingleToolCode%3ApromPrice%3BvoucherPricePlugin%3A0%3Btimestamp%3A1758872502749&c=&ratingscore=4.333333333333333&freeshipping=0&source=search&channelLpJumpArgs=&fuse_fs=&search=1&sale=5&price=158.37&review=3&location=Bagmati%20Province&stock=1&lang=en&request_id=feb7c324dba78761f11a6be643f46dc6&clickTrackInfo=query%253Acamera%253Bnid%253A149565277%253Bsrc%253ALazadaMainSrp%253Brn%253Afeb7c324dba78761f11a6be643f46dc6%253Bregion%253Anp%253Bsku%253A149565277_NP%253Bprice%253A158.37%253Bclient%253Adesktop%253Bsupplier_id%253A900224992449%253Bbiz_source%253Ah5_unknow%253Bslot%253A24%253Butlog_bucket_id%253A470687%253Basc_category_id%253A8204%253Bitem_id%253A149565277%253Bsku_id%253A1104088465%253Bshop_id%253A140324%253BtemplateInfo%253A-1_A3_C%25231103_L%2523'}\n",
      "{'name': 'Full Coverage Screen Protector for Any DSLR, MirrorlessCamera, Go Pro ,and 2 Pcs Set, Any Camera Models - Request and Get Order', 'nid': '126175959', 'itemId': '126175959', 'icons': [{'domClass': '150565', 'type': 'img', 'group': '6', 'showType': '0'}, {'domClass': '150318', 'text': 'Gems save Rs. 8', 'type': 'text', 'group': '2', 'showType': '0'}, {'domClass': '175175', 'type': 'img', 'group': '3', 'showType': '0'}], 'image': 'https://static-01.daraz.com.np/p/b75446b563e29b31002bceddf0d4a4e3.jpg', 'isSmartImage': False, 'utLogMap': {'srp_name': 'LazadaMainSrp', 'x_object_type': 'item', 'src': 'organic', 'trafficType': 'organic', 'x_sku_ids': '1034188183', 'x_item_ids': '126175959', 'iconList': '150565;150318;175175', 'SN': 'feb7c324dba78761f11a6be643f46dc6', 'current_price': '261', 'x_object_id': '126175959'}, 'originalPriceShow': '', 'priceShow': 'Rs. 261', 'ratingScore': '4.533333333333333', 'review': '15', 'location': 'Bagmati Province', 'description': [\"【High-Tech Nano Flexible Material 】: This 9H glass screen protector is made of nano-coating technology, it has an invisible coating film on your camera screen, improving the smooth surface of your Camera. Made from flexible nano-coated glass ( 9H hardness ) that's been reinforced for superior shock absorbency. Resists drop, cracks, and scratches, making your Camera look as flawless and level 5 scratch-free as the day you bought it. Better than cheap &amp; thick temper glasses. Plus, the ballistic glass protective cases are shatterproof and won't break into smaller pieces in the event of extreme impact or power\", '【Ultra-Clear】: 99. 9% Transparency. The glass protects against sweat and oil residue from fingerprints, keeping your Camera screen spotless over long-term use.', '【10X Sronger】: 10times of tempered time, this screen protector can withstand the impact of a falling 22lbs. steel ball from the height of 3ft. 9H Hardness Screen Protector keeps your screen safe from any keys, coins, and even knives in your pocket.', '【Easy Installation】: Made from the 0.40 mm quality 9H-Glass with 100% Bubble-Free Adhesives for easy installation and no residue when removed.', '【The kit Includes】: 2 Pcs Screen Protector /  Alcohol Cleansing Wipes / 1x Instruction Paper / 1x Dust Absorber Sticker'], 'thumbs': [], 'sellerName': 'Sasto Sales', 'sellerId': '1011154', 'brandName': 'No Brand', 'brandId': '39704', 'cheapest_sku': '126175959_NP-1034188183', 'skuId': '1034188183', 'sku': '126175959_NP', 'categories': [240, 256, 8204], 'price': '261', 'inStock': True, 'originalPrice': '600', 'clickTrace': 'query:camera;nid:126175959;src:LazadaMainSrp;rn:feb7c324dba78761f11a6be643f46dc6;region:np;sku:126175959_NP;price:261;client:desktop;supplier_id:1011154;biz_source:h5_unknow;slot:25;utlog_bucket_id:470687;asc_category_id:8204;item_id:126175959;sku_id:1034188183;shop_id:20846;templateInfo:-1_A3_C#1103_L#', 'itemSoldCntShow': '44 sold', 'longImageDisplayable': False, 'skus': [{'id': '126175959_NP-1034188183'}], 'promotionId': '', 'isSponsored': False, 'tItemType': 'nt_product', 'skuType': '', 'adFlag': '0', 'directSimilarUrl': 'https://native.m.lazada.com/dynamicxresult?item_img=https%3A%2F%2Fstatic-01.daraz.com.np%2Fp%2Fb75446b563e29b31002bceddf0d4a4e3.jpg&src=srp_findsimilar&item_id=126175959&sku_id=1034188183&params=%7B%22sub_src%22%3A%22long_press%22%2C%22src%22%3A%22srp_findsimilar%22%7D&m=tpp_findSimilar&q=camera&similarType=findSimilarV1&price=261.00&spuTriggerItem=0', 'gridTitleLine': '2', 'isFission': '0', 'isBadgeAutoScroll': False, 'showCart': False, 'showBackIcon': False, 'showUnitPrice': False, 'itemUrl': '//www.daraz.com.np/products/full-coverage-screen-protector-for-any-dslr-mirrorlesscamera-go-pro-and-2-pcs-set-any-camera-models-request-and-get-order-i126175959.html', 'querystring': 'fs_ab=1&priceCompare=skuId%3A1034188183%3Bsource%3Alazada-search-voucher%3Bsn%3Afeb7c324dba78761f11a6be643f46dc6%3BoriginPrice%3A26100%3BdisplayPrice%3A26100%3BsinglePromotionId%3A50000018794008%3BsingleToolCode%3ApromPrice%3BvoucherPricePlugin%3A0%3Btimestamp%3A1758872502749&c=&ratingscore=4.533333333333333&freeshipping=0&source=search&channelLpJumpArgs=&fuse_fs=&search=1&sale=44&price=261&review=15&location=Bagmati%20Province&stock=1&lang=en&request_id=feb7c324dba78761f11a6be643f46dc6&clickTrackInfo=query%253Acamera%253Bnid%253A126175959%253Bsrc%253ALazadaMainSrp%253Brn%253Afeb7c324dba78761f11a6be643f46dc6%253Bregion%253Anp%253Bsku%253A126175959_NP%253Bprice%253A261%253Bclient%253Adesktop%253Bsupplier_id%253A1011154%253Bbiz_source%253Ah5_unknow%253Bslot%253A25%253Butlog_bucket_id%253A470687%253Basc_category_id%253A8204%253Bitem_id%253A126175959%253Bsku_id%253A1034188183%253Bshop_id%253A20846%253BtemplateInfo%253A-1_A3_C%25231103_L%2523'}\n",
      "{'name': 'Telesin Tempered Glass For Dji Action 5 Pro Camera Screen scratch Protector Glass (3 Pcs Set)', 'nid': '171223059', 'itemId': '171223059', 'icons': [{'domClass': '150565', 'type': 'img', 'group': '6', 'showType': '0'}], 'image': 'https://static-01.daraz.com.np/p/d15e938e8731af369583a7fc3a90cd64.jpg', 'isSmartImage': False, 'utLogMap': {'srp_name': 'LazadaMainSrp', 'x_object_type': 'item', 'src': 'organic', 'trafficType': 'organic', 'x_sku_ids': '1190480977', 'x_item_ids': '171223059', 'iconList': '150565', 'SN': 'feb7c324dba78761f11a6be643f46dc6', 'current_price': '799', 'x_object_id': '171223059'}, 'originalPriceShow': '', 'priceShow': 'Rs. 799', 'ratingScore': '5.0', 'review': '4', 'location': 'Bagmati Province', 'description': [' Superior Protection: 9H hardness ensures maximum defense against scratches, scuffs, and drops.', ' HD Clarity: Ultra-clear glass preserves the original sharpness and vibrant colors of your screen.', ' 2D Curved Edge: Smooth, curved edges for comfortable handling and seamless integration with your camera.', ' Easy, Bubble-Free Installation: Apply easily with a bubble-free adhesive for a precise, secure fit.', ' Anti-Fingerprint Coating: Smudge-resistant surface keeps your screen clean and clear.', 'Enhance your DJI Action 5 Pro experience with GetZget®, ensuring both protection and HD clarity on all your adventures!', 'Package Include: 1 x Screen glass Back, 1 x Screen glass front, 1 x Lens Glass, 1 x Wet and Dry wipes, 1 x Dust absorber', 'Note: Action Camera is not included'], 'thumbs': [], 'sellerName': 'gizmo-nepal', 'sellerId': '900152730006', 'brandName': 'No Brand', 'brandId': '39704', 'cheapest_sku': '171223059_NP-1190480977', 'skuId': '1190480977', 'sku': '171223059_NP', 'categories': [240, 256, 8204], 'price': '799', 'inStock': True, 'originalPrice': '1199', 'clickTrace': 'query:camera;nid:171223059;src:LazadaMainSrp;rn:feb7c324dba78761f11a6be643f46dc6;region:np;sku:171223059_NP;price:799;client:desktop;supplier_id:900152730006;biz_source:h5_unknow;slot:26;utlog_bucket_id:470687;asc_category_id:8204;item_id:171223059;sku_id:1190480977;shop_id:50985;templateInfo:-1_A3_C#1103_L#', 'itemSoldCntShow': '21 sold', 'longImageDisplayable': False, 'skus': [{'id': '171223059_NP-1190480977'}], 'promotionId': '', 'isSponsored': False, 'tItemType': 'nt_product', 'skuType': '', 'adFlag': '0', 'directSimilarUrl': 'https://native.m.lazada.com/dynamicxresult?item_img=https%3A%2F%2Fstatic-01.daraz.com.np%2Fp%2Fd15e938e8731af369583a7fc3a90cd64.jpg&src=srp_findsimilar&item_id=171223059&sku_id=1190480977&params=%7B%22sub_src%22%3A%22long_press%22%2C%22src%22%3A%22srp_findsimilar%22%7D&m=tpp_findSimilar&q=camera&similarType=findSimilarV1&price=799.00&spuTriggerItem=0', 'gridTitleLine': '2', 'isFission': '0', 'isBadgeAutoScroll': False, 'showCart': False, 'showBackIcon': False, 'showUnitPrice': False, 'itemUrl': '//www.daraz.com.np/products/telesin-tempered-glass-for-dji-action-5-pro-camera-screen-scratch-protector-glass-3-pcs-set-i171223059.html', 'querystring': 'fs_ab=1&priceCompare=skuId%3A1190480977%3Bsource%3Alazada-search-voucher%3Bsn%3Afeb7c324dba78761f11a6be643f46dc6%3BoriginPrice%3A79900%3BdisplayPrice%3A79900%3BsinglePromotionId%3A-1%3BsingleToolCode%3AmockedSalePrice%3BvoucherPricePlugin%3A0%3Btimestamp%3A1758872502749&c=&ratingscore=5.0&freeshipping=0&source=search&channelLpJumpArgs=&fuse_fs=&search=1&sale=21&price=799&review=4&location=Bagmati%20Province&stock=1&lang=en&request_id=feb7c324dba78761f11a6be643f46dc6&clickTrackInfo=query%253Acamera%253Bnid%253A171223059%253Bsrc%253ALazadaMainSrp%253Brn%253Afeb7c324dba78761f11a6be643f46dc6%253Bregion%253Anp%253Bsku%253A171223059_NP%253Bprice%253A799%253Bclient%253Adesktop%253Bsupplier_id%253A900152730006%253Bbiz_source%253Ah5_unknow%253Bslot%253A26%253Butlog_bucket_id%253A470687%253Basc_category_id%253A8204%253Bitem_id%253A171223059%253Bsku_id%253A1190480977%253Bshop_id%253A50985%253BtemplateInfo%253A-1_A3_C%25231103_L%2523'}\n",
      "{'name': 'Puluz 2.5D Curved Edge 9H Surface Hardness Tempered Glass Screen Protector Kit For Canon 5D Mark Iv / Mark Iii Accessories', 'nid': '100280248', 'itemId': '100280248', 'icons': [{'domClass': '150565', 'type': 'img', 'group': '6', 'showType': '0'}, {'domClass': '150318', 'text': 'Gems save Rs. 24', 'type': 'text', 'group': '2', 'showType': '0'}, {'domClass': '175175', 'type': 'img', 'group': '3', 'showType': '0'}], 'image': 'https://static-01.daraz.com.np/p/a2d960ed7f8fc6a25482133aa41d7eb4.jpg', 'isSmartImage': False, 'utLogMap': {'srp_name': 'LazadaMainSrp', 'x_object_type': 'item', 'src': 'organic', 'trafficType': 'organic', 'x_sku_ids': '1020537589', 'x_item_ids': '100280248', 'iconList': '150565;150318;175175', 'SN': 'feb7c324dba78761f11a6be643f46dc6', 'current_price': '489', 'x_object_id': '100280248'}, 'originalPriceShow': '', 'priceShow': 'Rs. 489', 'ratingScore': '4.142857142857143', 'review': '5', 'location': 'Bagmati Province', 'description': [], 'thumbs': [], 'sellerName': 'Aafno Pasal', 'sellerId': '131', 'brandName': 'No Brand', 'brandId': '39704', 'cheapest_sku': '100280248_NP-1020537589', 'skuId': '1020537589', 'sku': '100280248_NP', 'categories': [240, 256, 8204], 'price': '489', 'inStock': True, 'originalPrice': '999', 'clickTrace': 'query:camera;nid:100280248;src:LazadaMainSrp;rn:feb7c324dba78761f11a6be643f46dc6;region:np;sku:100280248_NP;price:489;client:desktop;supplier_id:131;biz_source:h5_unknow;slot:27;utlog_bucket_id:470687;asc_category_id:8204;item_id:100280248;sku_id:1020537589;shop_id:8795;templateInfo:-1_A3_C#1103_L#', 'itemSoldCntShow': '36 sold', 'longImageDisplayable': False, 'skus': [{'id': '100280248_NP-1020537589'}], 'promotionId': '', 'isSponsored': False, 'tItemType': 'nt_product', 'skuType': '', 'adFlag': '0', 'directSimilarUrl': 'https://native.m.lazada.com/dynamicxresult?item_img=https%3A%2F%2Fstatic-01.daraz.com.np%2Fp%2Fa2d960ed7f8fc6a25482133aa41d7eb4.jpg&src=srp_findsimilar&item_id=100280248&sku_id=1020537589&params=%7B%22sub_src%22%3A%22long_press%22%2C%22src%22%3A%22srp_findsimilar%22%7D&m=tpp_findSimilar&q=camera&similarType=findSimilarV1&price=489.00&spuTriggerItem=0', 'gridTitleLine': '2', 'isFission': '0', 'isBadgeAutoScroll': False, 'showCart': False, 'showBackIcon': False, 'showUnitPrice': False, 'itemUrl': '//www.daraz.com.np/products/puluz-25d-curved-edge-9h-surface-hardness-tempered-glass-screen-protector-kit-for-canon-5d-mark-iv-mark-iii-accessories-i100280248.html', 'querystring': 'fs_ab=1&priceCompare=skuId%3A1020537589%3Bsource%3Alazada-search-voucher%3Bsn%3Afeb7c324dba78761f11a6be643f46dc6%3BoriginPrice%3A48900%3BdisplayPrice%3A48900%3BsinglePromotionId%3A50000018794008%3BsingleToolCode%3ApromPrice%3BvoucherPricePlugin%3A0%3Btimestamp%3A1758872502749&c=&ratingscore=4.142857142857143&freeshipping=0&source=search&channelLpJumpArgs=&fuse_fs=&search=1&sale=36&price=489&review=5&location=Bagmati%20Province&stock=1&lang=en&request_id=feb7c324dba78761f11a6be643f46dc6&clickTrackInfo=query%253Acamera%253Bnid%253A100280248%253Bsrc%253ALazadaMainSrp%253Brn%253Afeb7c324dba78761f11a6be643f46dc6%253Bregion%253Anp%253Bsku%253A100280248_NP%253Bprice%253A489%253Bclient%253Adesktop%253Bsupplier_id%253A131%253Bbiz_source%253Ah5_unknow%253Bslot%253A27%253Butlog_bucket_id%253A470687%253Basc_category_id%253A8204%253Bitem_id%253A100280248%253Bsku_id%253A1020537589%253Bshop_id%253A8795%253BtemplateInfo%253A-1_A3_C%25231103_L%2523'}\n",
      "{'name': 'Lens Protector For Redmi Note 13 Pro + Metal Ring Protective By Panchakumari Mobile Hub', 'nid': '131338150', 'itemId': '131338150', 'icons': [{'domClass': '150565', 'type': 'img', 'group': '6', 'showType': '0'}, {'domClass': '150318', 'text': 'Gems save Rs. 3', 'type': 'text', 'group': '2', 'showType': '0'}, {'domClass': '175175', 'type': 'img', 'group': '3', 'showType': '0'}], 'image': 'https://static-01.daraz.com.np/p/029644aab3d306468c19414be860184f.jpg', 'isSmartImage': False, 'utLogMap': {'srp_name': 'LazadaMainSrp', 'x_object_type': 'item', 'src': 'organic', 'trafficType': 'organic', 'x_sku_ids': '1038193572', 'x_item_ids': '131338150', 'iconList': '150565;150318;175175', 'SN': 'feb7c324dba78761f11a6be643f46dc6', 'current_price': '284', 'x_object_id': '131338150'}, 'originalPriceShow': '', 'priceShow': 'Rs. 284', 'ratingScore': '4.0', 'review': '4', 'location': 'Bagmati Province', 'description': ['The new high-quality combination provides more comprehensive protection for your phone, Please confirm the model size before buying. ', 'The optical-grade antireflection coating technology on the glass surface prevents fingerprints, sweat and grease residues.', ' Aluminum alloy explosion-proof Camera Lens Protector, strong protection of your lens,ensuring worry-free taking pictures. Anti-Scratch/Water/Dust full coverage protection, protect camera lens from daily life. '], 'thumbs': [], 'sellerName': 'Panchakumari Mobile Hub', 'sellerId': '9677', 'brandName': 'No Brand', 'brandId': '39704', 'cheapest_sku': '131338150_NP-1038193572', 'skuId': '1038193572', 'sku': '131338150_NP', 'categories': [240, 256, 8204], 'price': '284', 'inStock': True, 'originalPrice': '699', 'clickTrace': 'query:camera;nid:131338150;src:LazadaMainSrp;rn:feb7c324dba78761f11a6be643f46dc6;region:np;sku:131338150_NP;price:284;client:desktop;supplier_id:9677;biz_source:h5_unknow;slot:28;utlog_bucket_id:470687;asc_category_id:8204;item_id:131338150;sku_id:1038193572;shop_id:9677;templateInfo:-1_A3_C#1103_L#', 'itemSoldCntShow': '12 sold', 'longImageDisplayable': False, 'skus': [{'id': '131338150_NP-1038193572'}], 'promotionId': '', 'isSponsored': False, 'tItemType': 'nt_product', 'skuType': '', 'adFlag': '0', 'directSimilarUrl': 'https://native.m.lazada.com/dynamicxresult?item_img=https%3A%2F%2Fstatic-01.daraz.com.np%2Fp%2F029644aab3d306468c19414be860184f.jpg&src=srp_findsimilar&item_id=131338150&sku_id=1038193572&params=%7B%22sub_src%22%3A%22long_press%22%2C%22src%22%3A%22srp_findsimilar%22%7D&m=tpp_findSimilar&q=camera&similarType=findSimilarV1&price=284.00&spuTriggerItem=0', 'gridTitleLine': '2', 'isFission': '0', 'isBadgeAutoScroll': False, 'showCart': False, 'showBackIcon': False, 'showUnitPrice': False, 'itemUrl': '//www.daraz.com.np/products/lens-protector-for-redmi-note-13-pro-metal-ring-protective-by-panchakumari-mobile-hub-i131338150.html', 'querystring': 'fs_ab=1&priceCompare=skuId%3A1038193572%3Bsource%3Alazada-search-voucher%3Bsn%3Afeb7c324dba78761f11a6be643f46dc6%3BoriginPrice%3A28400%3BdisplayPrice%3A28400%3BsinglePromotionId%3A50000018794008%3BsingleToolCode%3ApromPrice%3BvoucherPricePlugin%3A0%3Btimestamp%3A1758872502749&c=&ratingscore=4.0&freeshipping=0&source=search&channelLpJumpArgs=&fuse_fs=&search=1&sale=12&price=284&review=4&location=Bagmati%20Province&stock=1&lang=en&request_id=feb7c324dba78761f11a6be643f46dc6&clickTrackInfo=query%253Acamera%253Bnid%253A131338150%253Bsrc%253ALazadaMainSrp%253Brn%253Afeb7c324dba78761f11a6be643f46dc6%253Bregion%253Anp%253Bsku%253A131338150_NP%253Bprice%253A284%253Bclient%253Adesktop%253Bsupplier_id%253A9677%253Bbiz_source%253Ah5_unknow%253Bslot%253A28%253Butlog_bucket_id%253A470687%253Basc_category_id%253A8204%253Bitem_id%253A131338150%253Bsku_id%253A1038193572%253Bshop_id%253A9677%253BtemplateInfo%253A-1_A3_C%25231103_L%2523'}\n",
      "{'name': 'Lens Guard for Oneplus Nord Ce 3 Lite 5G - Black Metallic Camera Ring Protector', 'nid': '159676400', 'itemId': '159676400', 'icons': [], 'image': 'https://static-01.daraz.com.np/p/31aadc8cc48739492870b674d0f0b762.jpg', 'isSmartImage': False, 'utLogMap': {'srp_name': 'LazadaMainSrp', 'x_object_type': 'item', 'src': 'organic', 'trafficType': 'organic', 'x_sku_ids': '1143413350', 'x_item_ids': '159676400', 'SN': 'feb7c324dba78761f11a6be643f46dc6', 'current_price': '425', 'x_object_id': '159676400'}, 'originalPriceShow': '', 'priceShow': 'Rs. 425', 'ratingScore': '3.6666666666666665', 'review': '3', 'location': 'Bagmati Province', 'description': [], 'thumbs': [], 'sellerName': '55 STORE', 'sellerId': '900154653638', 'brandName': 'No Brand', 'brandId': '39704', 'cheapest_sku': '159676400_NP-1143413350', 'skuId': '1143413350', 'sku': '159676400_NP', 'categories': [240, 256, 8204], 'price': '425', 'inStock': True, 'originalPrice': '525', 'clickTrace': 'query:camera;nid:159676400;src:LazadaMainSrp;rn:feb7c324dba78761f11a6be643f46dc6;region:np;sku:159676400_NP;price:425;client:desktop;supplier_id:900154653638;biz_source:h5_unknow;slot:29;utlog_bucket_id:470687;asc_category_id:8204;item_id:159676400;sku_id:1143413350;shop_id:70477;templateInfo:-1_A3_C#1103_L#', 'itemSoldCntShow': '15 sold', 'longImageDisplayable': False, 'skus': [{'id': '159676400_NP-1143413350'}], 'promotionId': '', 'isSponsored': False, 'tItemType': 'nt_product', 'skuType': '', 'adFlag': '0', 'directSimilarUrl': 'https://native.m.lazada.com/dynamicxresult?item_img=https%3A%2F%2Fstatic-01.daraz.com.np%2Fp%2F31aadc8cc48739492870b674d0f0b762.jpg&src=srp_findsimilar&item_id=159676400&sku_id=1143413350&params=%7B%22sub_src%22%3A%22long_press%22%2C%22src%22%3A%22srp_findsimilar%22%7D&m=tpp_findSimilar&q=camera&similarType=findSimilarV1&price=425.00&spuTriggerItem=0', 'gridTitleLine': '2', 'isFission': '0', 'isBadgeAutoScroll': False, 'showCart': False, 'showBackIcon': False, 'showUnitPrice': False, 'itemUrl': '//www.daraz.com.np/products/lens-guard-for-oneplus-nord-ce-3-lite-5g-black-metallic-camera-ring-protector-i159676400.html', 'querystring': 'fs_ab=1&priceCompare=skuId%3A1143413350%3Bsource%3Alazada-search-voucher%3Bsn%3Afeb7c324dba78761f11a6be643f46dc6%3BoriginPrice%3A42500%3BdisplayPrice%3A42500%3BsinglePromotionId%3A-1%3BsingleToolCode%3AmockedSalePrice%3BvoucherPricePlugin%3A0%3Btimestamp%3A1758872502749&c=&ratingscore=3.6666666666666665&freeshipping=0&source=search&channelLpJumpArgs=&fuse_fs=&search=1&sale=15&price=425&review=3&location=Bagmati%20Province&stock=1&lang=en&request_id=feb7c324dba78761f11a6be643f46dc6&clickTrackInfo=query%253Acamera%253Bnid%253A159676400%253Bsrc%253ALazadaMainSrp%253Brn%253Afeb7c324dba78761f11a6be643f46dc6%253Bregion%253Anp%253Bsku%253A159676400_NP%253Bprice%253A425%253Bclient%253Adesktop%253Bsupplier_id%253A900154653638%253Bbiz_source%253Ah5_unknow%253Bslot%253A29%253Butlog_bucket_id%253A470687%253Basc_category_id%253A8204%253Bitem_id%253A159676400%253Bsku_id%253A1143413350%253Bshop_id%253A70477%253BtemplateInfo%253A-1_A3_C%25231103_L%2523'}\n",
      "{'name': 'Samsung Galaxy A55 / Samsung Galaxy A35 Camera Film Ring Tempered Glass Screen Protector', 'nid': '136761126', 'itemId': '136761126', 'icons': [{'domClass': '150565', 'type': 'img', 'group': '6', 'showType': '0'}, {'domClass': '150318', 'text': 'Gems save Rs. 15', 'type': 'text', 'group': '2', 'showType': '0'}, {'domClass': '175175', 'type': 'img', 'group': '3', 'showType': '0'}], 'image': 'https://static-01.daraz.com.np/p/6f5e13bffad14fe1cdd2113ea9949324.png', 'isSmartImage': False, 'utLogMap': {'srp_name': 'LazadaMainSrp', 'x_object_type': 'item', 'src': 'organic', 'trafficType': 'organic', 'x_sku_ids': '1063987402', 'x_item_ids': '136761126', 'iconList': '150565;150318;175175', 'SN': 'feb7c324dba78761f11a6be643f46dc6', 'current_price': '495', 'x_object_id': '136761126'}, 'originalPriceShow': '', 'priceShow': 'Rs. 495', 'ratingScore': '3.6666666666666665', 'review': '3', 'location': 'Bagmati Province', 'description': [\"The thickness is only 0.33mm, and don't affect the Use of the camera\", 'Full coverage to protect the edges of the lens at the same time.', 'Scratch resistant/Dirt-resistant/Water resistant/ oil resistant/Shock-Proof/YIWHO/Full coverage/', '100% new good quality ,and protector your phone camera', 'Material: Organic Tempered Glass ， it is made of organic tempered glass', '9H hardness to protect your phone lens from scratches .'], 'thumbs': [], 'sellerName': 'Freakypanda', 'sellerId': '1010509', 'brandName': 'No Brand', 'brandId': '39704', 'cheapest_sku': '136761126_NP-1063987402', 'skuId': '1063987402', 'sku': '136761126_NP', 'categories': [240, 256, 8204], 'price': '495', 'inStock': True, 'originalPrice': '690', 'clickTrace': 'query:camera;nid:136761126;src:LazadaMainSrp;rn:feb7c324dba78761f11a6be643f46dc6;region:np;sku:136761126_NP;price:495;client:desktop;supplier_id:1010509;biz_source:h5_unknow;slot:30;utlog_bucket_id:470687;asc_category_id:8204;item_id:136761126;sku_id:1063987402;shop_id:20257;templateInfo:-1_A3_C#1103_L#', 'itemSoldCntShow': '22 sold', 'longImageDisplayable': False, 'skus': [{'id': '136761126_NP-1063987402'}], 'promotionId': '', 'isSponsored': False, 'tItemType': 'nt_product', 'skuType': '', 'adFlag': '0', 'directSimilarUrl': 'https://native.m.lazada.com/dynamicxresult?item_img=https%3A%2F%2Fstatic-01.daraz.com.np%2Fp%2F6f5e13bffad14fe1cdd2113ea9949324.png&src=srp_findsimilar&item_id=136761126&sku_id=1063987402&params=%7B%22sub_src%22%3A%22long_press%22%2C%22src%22%3A%22srp_findsimilar%22%7D&m=tpp_findSimilar&q=camera&similarType=findSimilarV1&price=495.00&spuTriggerItem=0', 'gridTitleLine': '2', 'isFission': '0', 'isBadgeAutoScroll': False, 'showCart': False, 'showBackIcon': False, 'showUnitPrice': False, 'itemUrl': '//www.daraz.com.np/products/samsung-galaxy-a55-samsung-galaxy-a35-camera-film-ring-tempered-glass-screen-protector-i136761126.html', 'querystring': 'fs_ab=1&priceCompare=skuId%3A1063987402%3Bsource%3Alazada-search-voucher%3Bsn%3Afeb7c324dba78761f11a6be643f46dc6%3BoriginPrice%3A49500%3BdisplayPrice%3A49500%3BsinglePromotionId%3A50000018794008%3BsingleToolCode%3ApromPrice%3BvoucherPricePlugin%3A0%3Btimestamp%3A1758872502749&c=&ratingscore=3.6666666666666665&freeshipping=0&source=search&channelLpJumpArgs=&fuse_fs=&search=1&sale=22&price=495&review=3&location=Bagmati%20Province&stock=1&lang=en&request_id=feb7c324dba78761f11a6be643f46dc6&clickTrackInfo=query%253Acamera%253Bnid%253A136761126%253Bsrc%253ALazadaMainSrp%253Brn%253Afeb7c324dba78761f11a6be643f46dc6%253Bregion%253Anp%253Bsku%253A136761126_NP%253Bprice%253A495%253Bclient%253Adesktop%253Bsupplier_id%253A1010509%253Bbiz_source%253Ah5_unknow%253Bslot%253A30%253Butlog_bucket_id%253A470687%253Basc_category_id%253A8204%253Bitem_id%253A136761126%253Bsku_id%253A1063987402%253Bshop_id%253A20257%253BtemplateInfo%253A-1_A3_C%25231103_L%2523'}\n",
      "{'name': 'Full Coverage Back Camera Lens Protector For Vivo X200 Pro By Panchakumari Mobile Hub', 'nid': '420480658', 'itemId': '420480658', 'icons': [{'domClass': '150565', 'type': 'img', 'group': '6', 'showType': '0'}, {'domClass': '150318', 'text': 'Gems save Rs. 4', 'type': 'text', 'group': '2', 'showType': '0'}, {'domClass': '175175', 'type': 'img', 'group': '3', 'showType': '0'}], 'image': 'https://static-01.daraz.com.np/p/9582596ce17560c223bbae70fc35ea7b.jpg', 'isSmartImage': False, 'utLogMap': {'srp_name': 'LazadaMainSrp', 'x_object_type': 'item', 'src': 'organic', 'trafficType': 'organic', 'x_sku_ids': '1826206102', 'x_item_ids': '420480658', 'iconList': '150565;150318;175175', 'SN': 'feb7c324dba78761f11a6be643f46dc6', 'current_price': '427', 'x_object_id': '420480658'}, 'originalPriceShow': '', 'priceShow': 'Rs. 427', 'ratingScore': '5.0', 'review': '0', 'location': 'Bagmati Province', 'description': [], 'thumbs': [], 'sellerName': 'Panchakumari Mobile Hub', 'sellerId': '9677', 'brandName': 'No Brand', 'brandId': '39704', 'cheapest_sku': '420480658_NP-1826206102', 'skuId': '1826206102', 'sku': '420480658_NP', 'categories': [240, 256, 8204], 'price': '427', 'inStock': True, 'originalPrice': '599', 'clickTrace': 'query:camera;nid:420480658;src:LazadaMainSrp;rn:feb7c324dba78761f11a6be643f46dc6;region:np;sku:420480658_NP;price:427;client:desktop;supplier_id:9677;biz_source:h5_unknow;slot:31;utlog_bucket_id:470687;asc_category_id:8204;item_id:420480658;sku_id:1826206102;shop_id:9677;templateInfo:-1_A3_C#1103_L#', 'longImageDisplayable': False, 'skus': [{'id': '420480658_NP-1826206102'}], 'promotionId': '', 'isSponsored': False, 'tItemType': 'nt_product', 'skuType': '', 'adFlag': '0', 'directSimilarUrl': 'https://native.m.lazada.com/dynamicxresult?item_img=https%3A%2F%2Fstatic-01.daraz.com.np%2Fp%2F9582596ce17560c223bbae70fc35ea7b.jpg&src=srp_findsimilar&item_id=420480658&sku_id=1826206102&params=%7B%22sub_src%22%3A%22long_press%22%2C%22src%22%3A%22srp_findsimilar%22%7D&m=tpp_findSimilar&q=camera&similarType=findSimilarV1&price=427.00&spuTriggerItem=0', 'gridTitleLine': '2', 'isFission': '0', 'isBadgeAutoScroll': False, 'showCart': False, 'showBackIcon': False, 'showUnitPrice': False, 'itemUrl': '//www.daraz.com.np/products/full-coverage-back-camera-lens-protector-for-vivo-x200-pro-by-panchakumari-mobile-hub-i420480658.html', 'querystring': 'fs_ab=1&priceCompare=skuId%3A1826206102%3Bsource%3Alazada-search-voucher%3Bsn%3Afeb7c324dba78761f11a6be643f46dc6%3BoriginPrice%3A42700%3BdisplayPrice%3A42700%3BsinglePromotionId%3A50000018794008%3BsingleToolCode%3ApromPrice%3BvoucherPricePlugin%3A0%3Btimestamp%3A1758872502749&c=&ratingscore=5.0&freeshipping=0&source=search&channelLpJumpArgs=&fuse_fs=&search=1&sale=4&price=427&review=0&location=Bagmati%20Province&stock=1&lang=en&request_id=feb7c324dba78761f11a6be643f46dc6&clickTrackInfo=query%253Acamera%253Bnid%253A420480658%253Bsrc%253ALazadaMainSrp%253Brn%253Afeb7c324dba78761f11a6be643f46dc6%253Bregion%253Anp%253Bsku%253A420480658_NP%253Bprice%253A427%253Bclient%253Adesktop%253Bsupplier_id%253A9677%253Bbiz_source%253Ah5_unknow%253Bslot%253A31%253Butlog_bucket_id%253A470687%253Basc_category_id%253A8204%253Bitem_id%253A420480658%253Bsku_id%253A1826206102%253Bshop_id%253A9677%253BtemplateInfo%253A-1_A3_C%25231103_L%2523'}\n",
      "{'name': 'Back Camera Protector Glass for 13 Pro Max', 'nid': '129926039', 'itemId': '129926039', 'icons': [{'domClass': '150565', 'type': 'img', 'group': '6', 'showType': '0'}, {'domClass': '150318', 'text': 'Gems save Rs. 3', 'type': 'text', 'group': '2', 'showType': '0'}], 'image': 'https://static-01.daraz.com.np/p/31a33b2dac0a93393566e2751f46e2ba.jpg', 'isSmartImage': False, 'utLogMap': {'srp_name': 'LazadaMainSrp', 'x_object_type': 'item', 'src': 'organic', 'trafficType': 'organic', 'x_sku_ids': '1037785165', 'x_item_ids': '129926039', 'iconList': '150565;150318', 'SN': 'feb7c324dba78761f11a6be643f46dc6', 'current_price': '269', 'x_object_id': '129926039'}, 'originalPriceShow': '', 'priceShow': 'Rs. 269', 'ratingScore': '5.0', 'review': '1', 'location': 'Bagmati Province', 'description': ['[Compatible Model] Compatible for iPhone 13 13 pro and 13 Pro Max Camera Lens Protector, perfectly protect your rear camera from scratches', '[Innovative Design]The 9H tempered glass protector hole is embedded with night anti-glare coating.Protect your camera and keep the original picture quality', '[Highly Clear] 99.99% transparency preserves the original screen or picture brightness.Not Disturbing the picture quality', '[Excellent Protection] The camera lens protector with oleophobic layer prevents water, oil,dust. Keep your phone lens in HD transparent and clean all the time.', '[Comprehensive after-sales service]If you have any questions, please feel free to contact us. We will reply you within 24 hours!'], 'thumbs': [], 'sellerName': 'Om canvas', 'sellerId': '900151659082', 'brandName': 'No Brand', 'brandId': '39704', 'cheapest_sku': '129926039_NP-1037785165', 'skuId': '1037785165', 'sku': '129926039_NP', 'categories': [240, 256, 8204], 'price': '269', 'inStock': True, 'originalPrice': '300', 'clickTrace': 'query:camera;nid:129926039;src:LazadaMainSrp;rn:feb7c324dba78761f11a6be643f46dc6;region:np;sku:129926039_NP;price:269;client:desktop;supplier_id:900151659082;biz_source:h5_unknow;slot:32;utlog_bucket_id:470687;asc_category_id:8204;item_id:129926039;sku_id:1037785165;shop_id:31100;templateInfo:-1_A3_C#1103_L#', 'itemSoldCntShow': '9 sold', 'longImageDisplayable': False, 'skus': [{'id': '129926039_NP-1037785165'}], 'promotionId': '', 'isSponsored': False, 'tItemType': 'nt_product', 'skuType': '', 'adFlag': '0', 'directSimilarUrl': 'https://native.m.lazada.com/dynamicxresult?item_img=https%3A%2F%2Fstatic-01.daraz.com.np%2Fp%2F31a33b2dac0a93393566e2751f46e2ba.jpg&src=srp_findsimilar&item_id=129926039&sku_id=1037785165&params=%7B%22sub_src%22%3A%22long_press%22%2C%22src%22%3A%22srp_findsimilar%22%7D&m=tpp_findSimilar&q=camera&similarType=findSimilarV1&price=269.00&spuTriggerItem=0', 'gridTitleLine': '2', 'isFission': '0', 'isBadgeAutoScroll': False, 'showCart': False, 'showBackIcon': False, 'showUnitPrice': False, 'itemUrl': '//www.daraz.com.np/products/back-camera-protector-glass-for-13-pro-max-i129926039.html', 'querystring': 'fs_ab=1&priceCompare=skuId%3A1037785165%3Bsource%3Alazada-search-voucher%3Bsn%3Afeb7c324dba78761f11a6be643f46dc6%3BoriginPrice%3A26900%3BdisplayPrice%3A26900%3BsinglePromotionId%3A-1%3BsingleToolCode%3AmockedSalePrice%3BvoucherPricePlugin%3A0%3Btimestamp%3A1758872502749&c=&ratingscore=5.0&freeshipping=0&source=search&channelLpJumpArgs=&fuse_fs=&search=1&sale=9&price=269&review=1&location=Bagmati%20Province&stock=1&lang=en&request_id=feb7c324dba78761f11a6be643f46dc6&clickTrackInfo=query%253Acamera%253Bnid%253A129926039%253Bsrc%253ALazadaMainSrp%253Brn%253Afeb7c324dba78761f11a6be643f46dc6%253Bregion%253Anp%253Bsku%253A129926039_NP%253Bprice%253A269%253Bclient%253Adesktop%253Bsupplier_id%253A900151659082%253Bbiz_source%253Ah5_unknow%253Bslot%253A32%253Butlog_bucket_id%253A470687%253Basc_category_id%253A8204%253Bitem_id%253A129926039%253Bsku_id%253A1037785165%253Bshop_id%253A31100%253BtemplateInfo%253A-1_A3_C%25231103_L%2523'}\n",
      "{'name': 'Ultra-Clear Tempered Glass Screen Protector for GoPro Hero 12, 11, 10, 9 Black', 'nid': '109751082', 'itemId': '109751082', 'icons': [{'domClass': '150565', 'type': 'img', 'group': '6', 'showType': '0'}, {'domClass': '150318', 'text': 'Gems save Rs. 5', 'type': 'text', 'group': '2', 'showType': '0'}, {'domClass': '175175', 'type': 'img', 'group': '3', 'showType': '0'}], 'image': 'https://static-01.daraz.com.np/p/c701f33d4573cbe44c60c2455fd45cee.png', 'isSmartImage': False, 'utLogMap': {'srp_name': 'LazadaMainSrp', 'x_object_type': 'item', 'src': 'organic', 'trafficType': 'organic', 'x_sku_ids': '1029715910', 'x_item_ids': '109751082', 'iconList': '150565;150318;175175', 'SN': 'feb7c324dba78761f11a6be643f46dc6', 'current_price': '498', 'x_object_id': '109751082'}, 'originalPriceShow': '', 'priceShow': 'Rs. 498', 'ratingScore': '4.523809523809524', 'review': '21', 'location': 'Bagmati Province', 'description': ['The highly transparent surface of the protection film for GoPro Hero 10/9 allows a pin sharp and genuine presentation of contents and colors on the screen, maintains the original touch experience and high transparency.', 'Perfectly protect the screen from daily scratches, dust, scrapes, and normal signs of wear allow a pin sharp and genuine presentation of contents and colors on the screen.', 'High definition and precise touch sensitivity.', 'Compatible with GoPro Hero 9 Black Camera.', 'An oleophobic coating on the surface prevents fingerprints and other contaminants and makes the film easy to clean. *', 'Includes: 1X Tempered Glass Screen Protector, 1X Tempered Glass Lens Protector, 2X Plastic Film Front Display Protector, 1X Alcohol-saturated wet wipes, 2X Dust Absorber, 1X Cleaning Cloth.'], 'thumbs': [], 'sellerName': 'Galaxy Stores', 'sellerId': '900153132041', 'brandName': 'No Brand', 'brandId': '39704', 'cheapest_sku': '109751082_NP-1029715910', 'skuId': '1029715910', 'sku': '109751082_NP', 'categories': [240, 256, 8204], 'price': '498', 'inStock': True, 'originalPrice': '700', 'clickTrace': 'query:camera;nid:109751082;src:LazadaMainSrp;rn:feb7c324dba78761f11a6be643f46dc6;region:np;sku:109751082_NP;price:498;client:desktop;supplier_id:900153132041;biz_source:h5_unknow;slot:33;utlog_bucket_id:470687;asc_category_id:8204;item_id:109751082;sku_id:1029715910;shop_id:58419;templateInfo:-1_A3_C#1103_L#', 'itemSoldCntShow': '89 sold', 'longImageDisplayable': False, 'skus': [{'id': '109751082_NP-1029715910'}], 'promotionId': '', 'isSponsored': False, 'tItemType': 'nt_product', 'skuType': '', 'adFlag': '0', 'directSimilarUrl': 'https://native.m.lazada.com/dynamicxresult?item_img=https%3A%2F%2Fstatic-01.daraz.com.np%2Fp%2Fc701f33d4573cbe44c60c2455fd45cee.png&src=srp_findsimilar&item_id=109751082&sku_id=1029715910&params=%7B%22sub_src%22%3A%22long_press%22%2C%22src%22%3A%22srp_findsimilar%22%7D&m=tpp_findSimilar&q=camera&similarType=findSimilarV1&price=498.00&spuTriggerItem=0', 'gridTitleLine': '2', 'isFission': '0', 'isBadgeAutoScroll': False, 'showCart': False, 'showBackIcon': False, 'showUnitPrice': False, 'itemUrl': '//www.daraz.com.np/products/ultra-clear-tempered-glass-screen-protector-for-gopro-hero-12-11-10-9-black-i109751082.html', 'querystring': 'fs_ab=1&priceCompare=skuId%3A1029715910%3Bsource%3Alazada-search-voucher%3Bsn%3Afeb7c324dba78761f11a6be643f46dc6%3BoriginPrice%3A49800%3BdisplayPrice%3A49800%3BsinglePromotionId%3A50000018794008%3BsingleToolCode%3ApromPrice%3BvoucherPricePlugin%3A0%3Btimestamp%3A1758872502749&c=&ratingscore=4.523809523809524&freeshipping=0&source=search&channelLpJumpArgs=&fuse_fs=&search=1&sale=89&price=498&review=21&location=Bagmati%20Province&stock=1&lang=en&request_id=feb7c324dba78761f11a6be643f46dc6&clickTrackInfo=query%253Acamera%253Bnid%253A109751082%253Bsrc%253ALazadaMainSrp%253Brn%253Afeb7c324dba78761f11a6be643f46dc6%253Bregion%253Anp%253Bsku%253A109751082_NP%253Bprice%253A498%253Bclient%253Adesktop%253Bsupplier_id%253A900153132041%253Bbiz_source%253Ah5_unknow%253Bslot%253A33%253Butlog_bucket_id%253A470687%253Basc_category_id%253A8204%253Bitem_id%253A109751082%253Bsku_id%253A1029715910%253Bshop_id%253A58419%253BtemplateInfo%253A-1_A3_C%25231103_L%2523'}\n",
      "{'name': 'Samsung Galaxy A26 / Samsung A36 / Samsung A56 Camera Glass Screen Protector', 'nid': '365900189', 'itemId': '365900189', 'icons': [{'domClass': '150565', 'type': 'img', 'group': '6', 'showType': '0'}], 'image': 'https://static-01.daraz.com.np/p/37a2c00ba3a075eeb4fd271d8e791d93.png', 'isSmartImage': False, 'utLogMap': {'srp_name': 'LazadaMainSrp', 'x_object_type': 'item', 'src': 'organic', 'trafficType': 'organic', 'x_sku_ids': '1620626496', 'x_item_ids': '365900189', 'iconList': '150565', 'SN': 'feb7c324dba78761f11a6be643f46dc6', 'current_price': '499', 'x_object_id': '365900189'}, 'originalPriceShow': '', 'priceShow': 'Rs. 499', 'ratingScore': '5.0', 'review': '1', 'location': 'Bagmati Province', 'description': [\"The thickness is only 0.33mm, and don't affect the Use of the camera\", 'Full coverage to protect the edges of the lens at the same time.', 'Scratch resistant/Dirt-resistant/Water resistant/ oil resistant/Shock-Proof/YIWHO/Full coverage/', '100% new good quality ,and protector your phone camera', 'Material: Organic Tempered Glass ， it is made of organic tempered glass', '9H hardness to protect your phone lens from scratches .'], 'thumbs': [], 'sellerName': 'SaturnTech', 'sellerId': '900152283013', 'brandName': 'No Brand', 'brandId': '39704', 'cheapest_sku': '365900189_NP-1620626496', 'skuId': '1620626496', 'sku': '365900189_NP', 'categories': [240, 256, 8204], 'price': '499', 'inStock': True, 'originalPrice': '699', 'clickTrace': 'query:camera;nid:365900189;src:LazadaMainSrp;rn:feb7c324dba78761f11a6be643f46dc6;region:np;sku:365900189_NP;price:499;client:desktop;supplier_id:900152283013;biz_source:h5_unknow;slot:34;utlog_bucket_id:470687;asc_category_id:8204;item_id:365900189;sku_id:1620626496;shop_id:42772;templateInfo:-1_A3_C#1103_L#', 'longImageDisplayable': False, 'skus': [{'id': '365900189_NP-1620626496'}], 'promotionId': '', 'isSponsored': False, 'tItemType': 'nt_product', 'skuType': '', 'adFlag': '0', 'directSimilarUrl': 'https://native.m.lazada.com/dynamicxresult?item_img=https%3A%2F%2Fstatic-01.daraz.com.np%2Fp%2F37a2c00ba3a075eeb4fd271d8e791d93.png&src=srp_findsimilar&item_id=365900189&sku_id=1620626496&params=%7B%22sub_src%22%3A%22long_press%22%2C%22src%22%3A%22srp_findsimilar%22%7D&m=tpp_findSimilar&q=camera&similarType=findSimilarV1&price=499.00&spuTriggerItem=0', 'gridTitleLine': '2', 'isFission': '0', 'isBadgeAutoScroll': False, 'showCart': False, 'showBackIcon': False, 'showUnitPrice': False, 'itemUrl': '//www.daraz.com.np/products/samsung-galaxy-a26-samsung-a36-samsung-a56-camera-glass-screen-protector-i365900189.html', 'querystring': 'fs_ab=1&priceCompare=skuId%3A1620626496%3Bsource%3Alazada-search-voucher%3Bsn%3Afeb7c324dba78761f11a6be643f46dc6%3BoriginPrice%3A49900%3BdisplayPrice%3A49900%3BsinglePromotionId%3A-1%3BsingleToolCode%3AmockedSalePrice%3BvoucherPricePlugin%3A0%3Btimestamp%3A1758872502749&c=&ratingscore=5.0&freeshipping=0&source=search&channelLpJumpArgs=&fuse_fs=&search=1&sale=4&price=499&review=1&location=Bagmati%20Province&stock=1&lang=en&request_id=feb7c324dba78761f11a6be643f46dc6&clickTrackInfo=query%253Acamera%253Bnid%253A365900189%253Bsrc%253ALazadaMainSrp%253Brn%253Afeb7c324dba78761f11a6be643f46dc6%253Bregion%253Anp%253Bsku%253A365900189_NP%253Bprice%253A499%253Bclient%253Adesktop%253Bsupplier_id%253A900152283013%253Bbiz_source%253Ah5_unknow%253Bslot%253A34%253Butlog_bucket_id%253A470687%253Basc_category_id%253A8204%253Bitem_id%253A365900189%253Bsku_id%253A1620626496%253Bshop_id%253A42772%253BtemplateInfo%253A-1_A3_C%25231103_L%2523'}\n",
      "{'name': 'Tempered Glass Lens, LCD Screen Protector for GoPro Hero 13 Action Camera', 'nid': '181562636', 'itemId': '181562636', 'icons': [{'domClass': '150565', 'type': 'img', 'group': '6', 'showType': '0'}, {'domClass': '150318', 'text': 'Gems save Rs. 5', 'type': 'text', 'group': '2', 'showType': '0'}, {'domClass': '175175', 'type': 'img', 'group': '3', 'showType': '0'}], 'image': 'https://static-01.daraz.com.np/p/d9147a8bd00d53d7375d9ca75174f2fc.jpg', 'isSmartImage': False, 'utLogMap': {'srp_name': 'LazadaMainSrp', 'x_object_type': 'item', 'src': 'organic', 'trafficType': 'organic', 'x_sku_ids': '1212744098', 'x_item_ids': '181562636', 'iconList': '150565;150318;175175', 'SN': 'feb7c324dba78761f11a6be643f46dc6', 'current_price': '498', 'x_object_id': '181562636'}, 'originalPriceShow': '', 'priceShow': 'Rs. 498', 'ratingScore': '5.0', 'review': '1', 'location': 'Bagmati Province', 'description': [], 'thumbs': [], 'sellerName': 'Galaxy Stores', 'sellerId': '900153132041', 'brandName': 'No Brand', 'brandId': '39704', 'cheapest_sku': '181562636_NP-1212744098', 'skuId': '1212744098', 'sku': '181562636_NP', 'categories': [240, 256, 8204], 'price': '498', 'inStock': True, 'originalPrice': '699', 'clickTrace': 'query:camera;nid:181562636;src:LazadaMainSrp;rn:feb7c324dba78761f11a6be643f46dc6;region:np;sku:181562636_NP;price:498;client:desktop;supplier_id:900153132041;biz_source:h5_unknow;slot:35;utlog_bucket_id:470687;asc_category_id:8204;item_id:181562636;sku_id:1212744098;shop_id:58419;templateInfo:-1_A3_C#1103_L#', 'itemSoldCntShow': '9 sold', 'longImageDisplayable': False, 'skus': [{'id': '181562636_NP-1212744098'}], 'promotionId': '', 'isSponsored': False, 'tItemType': 'nt_product', 'skuType': '', 'adFlag': '0', 'directSimilarUrl': 'https://native.m.lazada.com/dynamicxresult?item_img=https%3A%2F%2Fstatic-01.daraz.com.np%2Fp%2Fd9147a8bd00d53d7375d9ca75174f2fc.jpg&src=srp_findsimilar&item_id=181562636&sku_id=1212744098&params=%7B%22sub_src%22%3A%22long_press%22%2C%22src%22%3A%22srp_findsimilar%22%7D&m=tpp_findSimilar&q=camera&similarType=findSimilarV1&price=498.00&spuTriggerItem=0', 'gridTitleLine': '2', 'isFission': '0', 'isBadgeAutoScroll': False, 'showCart': False, 'showBackIcon': False, 'showUnitPrice': False, 'itemUrl': '//www.daraz.com.np/products/tempered-glass-lens-lcd-screen-protector-for-gopro-hero-13-action-camera-i181562636.html', 'querystring': 'fs_ab=1&priceCompare=skuId%3A1212744098%3Bsource%3Alazada-search-voucher%3Bsn%3Afeb7c324dba78761f11a6be643f46dc6%3BoriginPrice%3A49800%3BdisplayPrice%3A49800%3BsinglePromotionId%3A50000018794008%3BsingleToolCode%3ApromPrice%3BvoucherPricePlugin%3A0%3Btimestamp%3A1758872502749&c=&ratingscore=5.0&freeshipping=0&source=search&channelLpJumpArgs=&fuse_fs=&search=1&sale=9&price=498&review=1&location=Bagmati%20Province&stock=1&lang=en&request_id=feb7c324dba78761f11a6be643f46dc6&clickTrackInfo=query%253Acamera%253Bnid%253A181562636%253Bsrc%253ALazadaMainSrp%253Brn%253Afeb7c324dba78761f11a6be643f46dc6%253Bregion%253Anp%253Bsku%253A181562636_NP%253Bprice%253A498%253Bclient%253Adesktop%253Bsupplier_id%253A900153132041%253Bbiz_source%253Ah5_unknow%253Bslot%253A35%253Butlog_bucket_id%253A470687%253Basc_category_id%253A8204%253Bitem_id%253A181562636%253Bsku_id%253A1212744098%253Bshop_id%253A58419%253BtemplateInfo%253A-1_A3_C%25231103_L%2523'}\n",
      "{'name': 'Lens Protector Ring for Samsung Galaxy A35 / A55 5G - Tempered Glass Back Camera Cover Protection Aluminum Alloy Lens Ring Cover - Black', 'nid': '135495100', 'itemId': '135495100', 'icons': [], 'image': 'https://static-01.daraz.com.np/p/def9507cb247448730efd72fe1bb0872.jpg', 'isSmartImage': False, 'utLogMap': {'srp_name': 'LazadaMainSrp', 'x_object_type': 'item', 'src': 'organic', 'trafficType': 'organic', 'x_sku_ids': '1060377971', 'x_item_ids': '135495100', 'SN': 'feb7c324dba78761f11a6be643f46dc6', 'current_price': '375', 'x_object_id': '135495100'}, 'originalPriceShow': '', 'priceShow': 'Rs. 375', 'ratingScore': '5.0', 'review': '6', 'location': 'Bagmati Province', 'description': [], 'thumbs': [], 'sellerName': 'Sketch Nepal', 'sellerId': '900152148046', 'brandName': 'No Brand', 'brandId': '39704', 'cheapest_sku': '135495100_NP-1060377971', 'skuId': '1060377971', 'sku': '135495100_NP', 'categories': [240, 256, 8204], 'price': '375', 'inStock': True, 'originalPrice': '475', 'clickTrace': 'query:camera;nid:135495100;src:LazadaMainSrp;rn:feb7c324dba78761f11a6be643f46dc6;region:np;sku:135495100_NP;price:375;client:desktop;supplier_id:900152148046;biz_source:h5_unknow;slot:36;utlog_bucket_id:470687;asc_category_id:8204;item_id:135495100;sku_id:1060377971;shop_id:39023;templateInfo:-1_A3_C#1103_L#', 'itemSoldCntShow': '23 sold', 'longImageDisplayable': False, 'skus': [{'id': '135495100_NP-1060377971'}], 'promotionId': '', 'isSponsored': False, 'tItemType': 'nt_product', 'skuType': '', 'adFlag': '0', 'directSimilarUrl': 'https://native.m.lazada.com/dynamicxresult?item_img=https%3A%2F%2Fstatic-01.daraz.com.np%2Fp%2Fdef9507cb247448730efd72fe1bb0872.jpg&src=srp_findsimilar&item_id=135495100&sku_id=1060377971&params=%7B%22sub_src%22%3A%22long_press%22%2C%22src%22%3A%22srp_findsimilar%22%7D&m=tpp_findSimilar&q=camera&similarType=findSimilarV1&price=375.00&spuTriggerItem=0', 'gridTitleLine': '2', 'isFission': '0', 'isBadgeAutoScroll': False, 'showCart': False, 'showBackIcon': False, 'showUnitPrice': False, 'itemUrl': '//www.daraz.com.np/products/lens-protector-ring-for-samsung-galaxy-a35-a55-5g-tempered-glass-back-camera-cover-protection-aluminum-alloy-lens-ring-cover-black-i135495100.html', 'querystring': 'fs_ab=1&priceCompare=skuId%3A1060377971%3Bsource%3Alazada-search-voucher%3Bsn%3Afeb7c324dba78761f11a6be643f46dc6%3BoriginPrice%3A37500%3BdisplayPrice%3A37500%3BsinglePromotionId%3A-1%3BsingleToolCode%3AmockedSalePrice%3BvoucherPricePlugin%3A0%3Btimestamp%3A1758872502749&c=&ratingscore=5.0&freeshipping=0&source=search&channelLpJumpArgs=&fuse_fs=&search=1&sale=23&price=375&review=6&location=Bagmati%20Province&stock=1&lang=en&request_id=feb7c324dba78761f11a6be643f46dc6&clickTrackInfo=query%253Acamera%253Bnid%253A135495100%253Bsrc%253ALazadaMainSrp%253Brn%253Afeb7c324dba78761f11a6be643f46dc6%253Bregion%253Anp%253Bsku%253A135495100_NP%253Bprice%253A375%253Bclient%253Adesktop%253Bsupplier_id%253A900152148046%253Bbiz_source%253Ah5_unknow%253Bslot%253A36%253Butlog_bucket_id%253A470687%253Basc_category_id%253A8204%253Bitem_id%253A135495100%253Bsku_id%253A1060377971%253Bshop_id%253A39023%253BtemplateInfo%253A-1_A3_C%25231103_L%2523'}\n",
      "{'name': 'Insta 360 - X3 Full Glue Curved Tempered Glass', 'nid': '134241594', 'itemId': '134241594', 'icons': [{'domClass': '150565', 'type': 'img', 'group': '6', 'showType': '0'}, {'domClass': '150318', 'text': 'Gems save Rs. 5', 'type': 'text', 'group': '2', 'showType': '0'}, {'domClass': '175175', 'type': 'img', 'group': '3', 'showType': '0'}], 'image': 'https://static-01.daraz.com.np/p/299999092f0edbed5a7f50a1cbb786e9.jpg', 'isSmartImage': False, 'utLogMap': {'srp_name': 'LazadaMainSrp', 'x_object_type': 'item', 'src': 'organic', 'trafficType': 'organic', 'x_sku_ids': '1057583594', 'x_item_ids': '134241594', 'iconList': '150565;150318;175175', 'SN': 'feb7c324dba78761f11a6be643f46dc6', 'current_price': '450', 'x_object_id': '134241594'}, 'originalPriceShow': '', 'priceShow': 'Rs. 450', 'ratingScore': '4.0', 'review': '1', 'location': 'Bagmati Province', 'description': ['• Ceramic Flexible Full Glue Protective Glass for Zeblaze Btalk 2 lite.', '• Provides full coverage protection for your smartwatch screen.', '• Made with high-quality ceramic material for durability.', '• Flexible design allows for easy installation and removal.', '• Full glue adhesive ensures a secure fit to your device.', '• Compatible with Zeblaze Btalk 2 lite smartwatches.', '• Protects against scratches, cracks, and other damage.', '• Easy to clean and maintain for long-lasting use.'], 'thumbs': [], 'sellerName': 'Titan Tech', 'sellerId': '900159732413', 'brandName': 'No Brand', 'brandId': '39704', 'cheapest_sku': '134241594_NP-1057583594', 'skuId': '1057583594', 'sku': '134241594_NP', 'categories': [240, 256, 8204], 'price': '450', 'inStock': True, 'clickTrace': 'query:camera;nid:134241594;src:LazadaMainSrp;rn:feb7c324dba78761f11a6be643f46dc6;region:np;sku:134241594_NP;price:450;client:desktop;supplier_id:900159732413;biz_source:h5_unknow;slot:37;utlog_bucket_id:470687;asc_category_id:8204;item_id:134241594;sku_id:1057583594;shop_id:102439;templateInfo:-1_A3_C#1103_L#', 'itemSoldCntShow': '9 sold', 'longImageDisplayable': False, 'skus': [{'id': '134241594_NP-1057583594'}], 'promotionId': '', 'isSponsored': False, 'tItemType': 'nt_product', 'skuType': '', 'adFlag': '0', 'directSimilarUrl': 'https://native.m.lazada.com/dynamicxresult?item_img=https%3A%2F%2Fstatic-01.daraz.com.np%2Fp%2F299999092f0edbed5a7f50a1cbb786e9.jpg&src=srp_findsimilar&item_id=134241594&sku_id=1057583594&params=%7B%22sub_src%22%3A%22long_press%22%2C%22src%22%3A%22srp_findsimilar%22%7D&m=tpp_findSimilar&q=camera&similarType=findSimilarV1&price=450.00&spuTriggerItem=0', 'gridTitleLine': '2', 'isFission': '0', 'isBadgeAutoScroll': False, 'showCart': False, 'showBackIcon': False, 'showUnitPrice': False, 'itemUrl': '//www.daraz.com.np/products/insta-360-x3-full-glue-curved-tempered-glass-i134241594.html', 'querystring': 'fs_ab=1&priceCompare=skuId%3A1057583594%3Bsource%3Alazada-search-voucher%3Bsn%3Afeb7c324dba78761f11a6be643f46dc6%3BoriginPrice%3A45000%3BdisplayPrice%3A45000%3BsinglePromotionId%3A50000018794008%3BsingleToolCode%3ApromPrice%3BvoucherPricePlugin%3A0%3Btimestamp%3A1758872502749&c=&ratingscore=4.0&freeshipping=0&source=search&channelLpJumpArgs=&fuse_fs=&search=1&sale=9&price=4.5E%202&review=1&location=Bagmati%20Province&stock=1&lang=en&request_id=feb7c324dba78761f11a6be643f46dc6&clickTrackInfo=query%253Acamera%253Bnid%253A134241594%253Bsrc%253ALazadaMainSrp%253Brn%253Afeb7c324dba78761f11a6be643f46dc6%253Bregion%253Anp%253Bsku%253A134241594_NP%253Bprice%253A450%253Bclient%253Adesktop%253Bsupplier_id%253A900159732413%253Bbiz_source%253Ah5_unknow%253Bslot%253A37%253Butlog_bucket_id%253A470687%253Basc_category_id%253A8204%253Bitem_id%253A134241594%253Bsku_id%253A1057583594%253Bshop_id%253A102439%253BtemplateInfo%253A-1_A3_C%25231103_L%2523'}\n",
      "{'name': 'Apple iPhone 14 Pro / iPhone 14 Pro Max Camera Film Tempered Glass In Different Color', 'nid': '131511853', 'itemId': '131511853', 'icons': [{'domClass': '150565', 'type': 'img', 'group': '6', 'showType': '0'}, {'domClass': '150318', 'text': 'Gems save Rs. 17', 'type': 'text', 'group': '2', 'showType': '0'}], 'image': 'https://static-01.daraz.com.np/p/f46e85fa1c86a0387159506d98871cc1.jpg', 'isSmartImage': False, 'utLogMap': {'srp_name': 'LazadaMainSrp', 'x_object_type': 'item', 'src': 'organic', 'trafficType': 'organic', 'x_sku_ids': '1038671036', 'x_item_ids': '131511853', 'iconList': '150565;150318', 'SN': 'feb7c324dba78761f11a6be643f46dc6', 'current_price': '550', 'x_object_id': '131511853'}, 'originalPriceShow': '', 'priceShow': 'Rs. 550', 'ratingScore': '5.0', 'review': '1', 'location': 'Bagmati Province', 'description': ['Tempered glass screen protector for iPhone 14 Pro / iPhone 14 Pro Max camera.• Available in different colors to match your style.', '• Protects against scratches and impact.', '• Easy to install and does not affect camera functionality.'], 'thumbs': [], 'sellerName': 'Freakypanda', 'sellerId': '1010509', 'brandName': 'No Brand', 'brandId': '39704', 'cheapest_sku': '131511853_NP-1038671036', 'skuId': '1038671036', 'sku': '131511853_NP', 'categories': [240, 256, 8204], 'price': '550', 'inStock': True, 'originalPrice': '590', 'clickTrace': 'query:camera;nid:131511853;src:LazadaMainSrp;rn:feb7c324dba78761f11a6be643f46dc6;region:np;sku:131511853_NP;price:550;client:desktop;supplier_id:1010509;biz_source:h5_unknow;slot:38;utlog_bucket_id:470687;asc_category_id:8204;item_id:131511853;sku_id:1038671036;shop_id:20257;templateInfo:-1_A3_C#1103_L#', 'itemSoldCntShow': '8 sold', 'longImageDisplayable': False, 'skus': [{'id': '131511853_NP-1038671036'}], 'promotionId': '', 'isSponsored': False, 'tItemType': 'nt_product', 'skuType': '', 'adFlag': '0', 'directSimilarUrl': 'https://native.m.lazada.com/dynamicxresult?item_img=https%3A%2F%2Fstatic-01.daraz.com.np%2Fp%2Ff46e85fa1c86a0387159506d98871cc1.jpg&src=srp_findsimilar&item_id=131511853&sku_id=1038671036&params=%7B%22sub_src%22%3A%22long_press%22%2C%22src%22%3A%22srp_findsimilar%22%7D&m=tpp_findSimilar&q=camera&similarType=findSimilarV1&price=550.00&spuTriggerItem=0', 'gridTitleLine': '2', 'isFission': '0', 'isBadgeAutoScroll': False, 'showCart': False, 'showBackIcon': False, 'showUnitPrice': False, 'itemUrl': '//www.daraz.com.np/products/apple-iphone-14-pro-iphone-14-pro-max-camera-film-tempered-glass-in-different-color-i131511853.html', 'querystring': 'fs_ab=1&priceCompare=skuId%3A1038671036%3Bsource%3Alazada-search-voucher%3Bsn%3Afeb7c324dba78761f11a6be643f46dc6%3BoriginPrice%3A55000%3BdisplayPrice%3A55000%3BsinglePromotionId%3A-1%3BsingleToolCode%3AmockedSalePrice%3BvoucherPricePlugin%3A0%3Btimestamp%3A1758872502749&c=&ratingscore=5.0&freeshipping=0&source=search&channelLpJumpArgs=&fuse_fs=&search=1&sale=8&price=5.5E%202&review=1&location=Bagmati%20Province&stock=1&lang=en&request_id=feb7c324dba78761f11a6be643f46dc6&clickTrackInfo=query%253Acamera%253Bnid%253A131511853%253Bsrc%253ALazadaMainSrp%253Brn%253Afeb7c324dba78761f11a6be643f46dc6%253Bregion%253Anp%253Bsku%253A131511853_NP%253Bprice%253A550%253Bclient%253Adesktop%253Bsupplier_id%253A1010509%253Bbiz_source%253Ah5_unknow%253Bslot%253A38%253Butlog_bucket_id%253A470687%253Basc_category_id%253A8204%253Bitem_id%253A131511853%253Bsku_id%253A1038671036%253Bshop_id%253A20257%253BtemplateInfo%253A-1_A3_C%25231103_L%2523'}\n",
      "{'name': 'Back Camera Lens Glass Protector For 15 Pro Max', 'nid': '130112433', 'itemId': '130112433', 'icons': [{'domClass': '150565', 'type': 'img', 'group': '6', 'showType': '0'}], 'image': 'https://static-01.daraz.com.np/p/aea5511506a6583a51428e563f0d83c1.jpg', 'isSmartImage': False, 'utLogMap': {'srp_name': 'LazadaMainSrp', 'x_object_type': 'item', 'src': 'organic', 'trafficType': 'organic', 'x_sku_ids': '1038006068', 'x_item_ids': '130112433', 'iconList': '150565', 'SN': 'feb7c324dba78761f11a6be643f46dc6', 'current_price': '199', 'x_object_id': '130112433'}, 'originalPriceShow': '', 'priceShow': 'Rs. 199', 'ratingScore': '4.833333333333333', 'review': '6', 'location': 'Bagmati Province', 'description': ['Step 1:', '- Product Title: Back Camera Lens Glass Protector For 15 Pro Max', '- Category Path: Cameras&gt;Camera Accessories&gt;Camera Screen Protector', 'Step 2:', '- Additional Keywords: None', 'Step 3:', '• Protects back camera lens from scratches and damage.', '• Specifically designed for 15 Pro Max camera lens.', '• Easy to install and provides a clear view.', '• Durable glass material ensures long-lasting protection.', 'Step 4:', '- No false information found.', 'Step 5:', '- Return the product highlights to the user.'], 'thumbs': [], 'sellerName': 'Tech Eleven', 'sellerId': '900164096666', 'brandName': 'No Brand', 'brandId': '39704', 'cheapest_sku': '130112433_NP-1038006068', 'skuId': '1038006068', 'sku': '130112433_NP', 'categories': [240, 256, 8204], 'price': '199', 'inStock': True, 'clickTrace': 'query:camera;nid:130112433;src:LazadaMainSrp;rn:feb7c324dba78761f11a6be643f46dc6;region:np;sku:130112433_NP;price:199;client:desktop;supplier_id:900164096666;biz_source:h5_unknow;slot:39;utlog_bucket_id:470687;asc_category_id:8204;item_id:130112433;sku_id:1038006068;shop_id:105674;templateInfo:-1_A3_C#1103_L#', 'itemSoldCntShow': '29 sold', 'longImageDisplayable': False, 'skus': [{'id': '130112433_NP-1038006068'}], 'promotionId': '', 'isSponsored': False, 'tItemType': 'nt_product', 'skuType': '', 'adFlag': '0', 'directSimilarUrl': 'https://native.m.lazada.com/dynamicxresult?item_img=https%3A%2F%2Fstatic-01.daraz.com.np%2Fp%2Faea5511506a6583a51428e563f0d83c1.jpg&src=srp_findsimilar&item_id=130112433&sku_id=1038006068&params=%7B%22sub_src%22%3A%22long_press%22%2C%22src%22%3A%22srp_findsimilar%22%7D&m=tpp_findSimilar&q=camera&similarType=findSimilarV1&price=199.00&spuTriggerItem=0', 'gridTitleLine': '2', 'isFission': '0', 'isBadgeAutoScroll': False, 'showCart': False, 'showBackIcon': False, 'showUnitPrice': False, 'itemUrl': '//www.daraz.com.np/products/back-camera-lens-glass-protector-for-15-pro-max-i130112433.html', 'querystring': 'fs_ab=1&priceCompare=skuId%3A1038006068%3Bsource%3Alazada-search-voucher%3Bsn%3Afeb7c324dba78761f11a6be643f46dc6%3BoriginPrice%3A19900%3BdisplayPrice%3A19900%3BsinglePromotionId%3A-1%3BsingleToolCode%3AmockedSalePrice%3BvoucherPricePlugin%3A0%3Btimestamp%3A1758872502749&c=&ratingscore=4.833333333333333&freeshipping=0&source=search&channelLpJumpArgs=&fuse_fs=&search=1&sale=29&price=199&review=6&location=Bagmati%20Province&stock=1&lang=en&request_id=feb7c324dba78761f11a6be643f46dc6&clickTrackInfo=query%253Acamera%253Bnid%253A130112433%253Bsrc%253ALazadaMainSrp%253Brn%253Afeb7c324dba78761f11a6be643f46dc6%253Bregion%253Anp%253Bsku%253A130112433_NP%253Bprice%253A199%253Bclient%253Adesktop%253Bsupplier_id%253A900164096666%253Bbiz_source%253Ah5_unknow%253Bslot%253A39%253Butlog_bucket_id%253A470687%253Basc_category_id%253A8204%253Bitem_id%253A130112433%253Bsku_id%253A1038006068%253Bshop_id%253A105674%253BtemplateInfo%253A-1_A3_C%25231103_L%2523'}\n"
     ]
    }
   ],
   "source": [
    "for item in items_list:\n",
    "    print(item)"
   ]
  },
  {
   "cell_type": "code",
   "execution_count": 16,
   "id": "1825afb5",
   "metadata": {},
   "outputs": [
    {
     "data": {
      "text/plain": [
       "40"
      ]
     },
     "execution_count": 16,
     "metadata": {},
     "output_type": "execute_result"
    }
   ],
   "source": [
    "len(all_chunks)"
   ]
  },
  {
   "cell_type": "code",
   "execution_count": 44,
   "id": "307dd465",
   "metadata": {},
   "outputs": [
    {
     "data": {
      "text/plain": [
       "'{ \" name \" : \" Redmi Note 14 5g Camera Protector Mettalic Ring Glass \" , \" nid \" : \" 361653530 \" , \" itemId \" : \" 361653530 \" , \" icons \" : [ { \" domClass \" : \" 150565 \" , \" type \" : \" img \" , \" group \" : \" 6 \" , \" showType \" : \" 0 \" } , { \" domClass \" : \" 175175 \" , \" type \" : \" img \" , \" group \" : \" 3 \" , \" showType \" : \" 0 \" } ] , \" image \" : \" https : static 01 daraz com np p 59a3b411d874aeeea2f115c998b18143 jpg \" , \" isSmartImage \" :'"
      ]
     },
     "execution_count": 44,
     "metadata": {},
     "output_type": "execute_result"
    }
   ],
   "source": [
    "all_chunks[0][0]"
   ]
  },
  {
   "cell_type": "code",
   "execution_count": 4,
   "id": "a751f4f7",
   "metadata": {},
   "outputs": [],
   "source": [
    "client = QdrantClient(url = \"http://localhost:6333\")"
   ]
  },
  {
   "cell_type": "code",
   "execution_count": 52,
   "id": "28f6666e",
   "metadata": {},
   "outputs": [
    {
     "data": {
      "text/plain": [
       "True"
      ]
     },
     "execution_count": 52,
     "metadata": {},
     "output_type": "execute_result"
    }
   ],
   "source": [
    "client.create_collection(\n",
    "    collection_name = \"daraz_items_with_docs\",\n",
    "    vectors_config = models.VectorParams(size = encoder.get_sentence_embedding_dimension(),distance = models.Distance.COSINE)\n",
    ")"
   ]
  },
  {
   "cell_type": "code",
   "execution_count": 17,
   "id": "54ed87a6",
   "metadata": {},
   "outputs": [
    {
     "name": "stderr",
     "output_type": "stream",
     "text": [
      "Batches: 100%|██████████| 1/1 [00:00<00:00,  2.01it/s]\n",
      "Batches: 100%|██████████| 1/1 [00:00<00:00,  4.92it/s]\n",
      "Batches: 100%|██████████| 1/1 [00:00<00:00,  6.12it/s]\n",
      "Batches: 100%|██████████| 1/1 [00:00<00:00,  6.03it/s]\n",
      "Batches: 100%|██████████| 1/1 [00:00<00:00,  6.16it/s]\n",
      "Batches: 100%|██████████| 1/1 [00:00<00:00,  4.59it/s]\n",
      "Batches: 100%|██████████| 1/1 [00:00<00:00,  4.30it/s]\n",
      "Batches: 100%|██████████| 1/1 [00:00<00:00,  5.27it/s]\n",
      "Batches: 100%|██████████| 1/1 [00:00<00:00,  5.86it/s]\n",
      "Batches: 100%|██████████| 1/1 [00:00<00:00,  7.10it/s]\n",
      "Batches: 100%|██████████| 1/1 [00:00<00:00,  4.47it/s]\n",
      "Batches: 100%|██████████| 1/1 [00:00<00:00,  4.61it/s]\n",
      "Batches: 100%|██████████| 1/1 [00:00<00:00,  4.55it/s]\n",
      "Batches: 100%|██████████| 1/1 [00:00<00:00,  5.45it/s]\n",
      "Batches: 100%|██████████| 1/1 [00:00<00:00,  5.90it/s]\n",
      "Batches: 100%|██████████| 1/1 [00:00<00:00,  5.54it/s]\n",
      "Batches: 100%|██████████| 1/1 [00:00<00:00,  4.74it/s]\n",
      "Batches: 100%|██████████| 1/1 [00:00<00:00,  4.09it/s]\n",
      "Batches: 100%|██████████| 1/1 [00:00<00:00,  6.49it/s]\n",
      "Batches: 100%|██████████| 1/1 [00:00<00:00,  6.21it/s]\n",
      "Batches: 100%|██████████| 1/1 [00:00<00:00,  5.96it/s]\n",
      "Batches: 100%|██████████| 1/1 [00:00<00:00,  6.67it/s]\n",
      "Batches: 100%|██████████| 1/1 [00:00<00:00,  6.68it/s]\n",
      "Batches: 100%|██████████| 1/1 [00:00<00:00,  4.34it/s]\n",
      "Batches: 100%|██████████| 1/1 [00:00<00:00,  6.23it/s]\n",
      "Batches: 100%|██████████| 1/1 [00:00<00:00,  3.87it/s]\n",
      "Batches: 100%|██████████| 1/1 [00:00<00:00,  4.35it/s]\n",
      "Batches: 100%|██████████| 1/1 [00:00<00:00,  4.28it/s]\n",
      "Batches: 100%|██████████| 1/1 [00:00<00:00,  5.00it/s]\n",
      "Batches: 100%|██████████| 1/1 [00:00<00:00,  6.24it/s]\n",
      "Batches: 100%|██████████| 1/1 [00:00<00:00,  4.93it/s]\n",
      "Batches: 100%|██████████| 1/1 [00:00<00:00,  6.38it/s]\n",
      "Batches: 100%|██████████| 1/1 [00:00<00:00,  4.52it/s]\n",
      "Batches: 100%|██████████| 1/1 [00:00<00:00,  4.42it/s]\n",
      "Batches: 100%|██████████| 1/1 [00:00<00:00,  6.24it/s]\n",
      "Batches: 100%|██████████| 1/1 [00:00<00:00,  5.77it/s]\n",
      "Batches: 100%|██████████| 1/1 [00:00<00:00,  6.06it/s]\n",
      "Batches: 100%|██████████| 1/1 [00:00<00:00,  5.06it/s]\n",
      "Batches: 100%|██████████| 1/1 [00:00<00:00,  4.46it/s]\n",
      "Batches: 100%|██████████| 1/1 [00:00<00:00,  4.70it/s]\n"
     ]
    }
   ],
   "source": [
    "final_embeddings_of_json = []\n",
    "for i in range(len(all_chunks)):\n",
    "    embeddings = encoder.encode(all_chunks[i],show_progress_bar = True,convert_to_numpy = True)\n",
    "    final_embeddings_of_json.append(embeddings)\n"
   ]
  },
  {
   "cell_type": "code",
   "execution_count": 18,
   "id": "98fcc56e",
   "metadata": {},
   "outputs": [
    {
     "data": {
      "text/plain": [
       "[array([[-0.01524544,  0.11217152,  0.01946851, ...,  0.02310828,\n",
       "          0.03304934,  0.03856251],\n",
       "        [-0.00372009,  0.02864468, -0.07242841, ..., -0.0312691 ,\n",
       "          0.00417812,  0.07721543],\n",
       "        [-0.0112862 , -0.00651247, -0.05137919, ..., -0.06196759,\n",
       "         -0.10690705,  0.08370256],\n",
       "        [-0.04091834,  0.08021604, -0.08623229, ..., -0.02984095,\n",
       "         -0.03074864,  0.04868243],\n",
       "        [-0.05845777,  0.02152266, -0.08699869, ..., -0.03636439,\n",
       "         -0.01718228,  0.05314913],\n",
       "        [ 0.0064926 , -0.03356766, -0.05606353, ..., -0.0600832 ,\n",
       "         -0.03997165,  0.06155678]], shape=(6, 384), dtype=float32),\n",
       " array([[-0.03561339,  0.10013042,  0.00377591, ..., -0.00324291,\n",
       "         -0.00762909,  0.06073818],\n",
       "        [ 0.00279725,  0.06036287, -0.03809437, ..., -0.01679109,\n",
       "          0.01709243,  0.02467602],\n",
       "        [-0.16405948,  0.00689422,  0.02147788, ...,  0.01122284,\n",
       "         -0.0270455 ,  0.01229977],\n",
       "        ...,\n",
       "        [-0.03826234,  0.07369687, -0.07392322, ..., -0.01299779,\n",
       "         -0.02365414,  0.04154343],\n",
       "        [-0.07829257,  0.04135455, -0.05178501, ..., -0.04435229,\n",
       "         -0.026101  ,  0.08864266],\n",
       "        [-0.01106111, -0.00989314, -0.02583202, ..., -0.0504685 ,\n",
       "         -0.0383902 ,  0.05152869]], shape=(7, 384), dtype=float32),\n",
       " array([[ 0.01169971,  0.07724136,  0.05096567, ...,  0.02206154,\n",
       "          0.00082998,  0.03708294],\n",
       "        [-0.02486455,  0.03631115, -0.04525405, ..., -0.02186838,\n",
       "         -0.06200268,  0.08715933],\n",
       "        [-0.02948567, -0.02224795, -0.08961556, ..., -0.01965312,\n",
       "         -0.07376425,  0.07006185],\n",
       "        [-0.07019448,  0.0449158 , -0.10638415, ..., -0.04675126,\n",
       "         -0.03792036,  0.06061897],\n",
       "        [-0.09009998, -0.00975214, -0.07573549, ..., -0.02032575,\n",
       "          0.00686907,  0.0623933 ],\n",
       "        [-0.03908918,  0.00779837, -0.05647481, ..., -0.01956375,\n",
       "          0.0348148 ,  0.02997693]], shape=(6, 384), dtype=float32),\n",
       " array([[-0.01386754,  0.11081968,  0.01779964, ...,  0.02830374,\n",
       "          0.0326702 ,  0.03730856],\n",
       "        [-0.00305133,  0.02565812, -0.0677815 , ..., -0.0200241 ,\n",
       "         -0.00072918,  0.07523061],\n",
       "        [-0.02441539,  0.01044859, -0.05643432, ..., -0.09256832,\n",
       "         -0.10832907,  0.07216376],\n",
       "        [-0.01570479,  0.08121365, -0.08003666, ..., -0.02052329,\n",
       "         -0.06156051,  0.04955495],\n",
       "        [-0.07912178,  0.02613476, -0.07445082, ..., -0.04258005,\n",
       "         -0.02814941,  0.05273749],\n",
       "        [ 0.00812865, -0.02644773, -0.04503178, ..., -0.05838739,\n",
       "         -0.02674032,  0.06570123]], shape=(6, 384), dtype=float32),\n",
       " array([[-0.01175455,  0.11108913,  0.01007612, ..., -0.0420918 ,\n",
       "          0.02957071,  0.0650594 ],\n",
       "        [-0.01132456,  0.02718778, -0.07672673, ..., -0.0199741 ,\n",
       "         -0.00207327,  0.07888314],\n",
       "        [-0.02970961,  0.01848022, -0.07363197, ..., -0.07426985,\n",
       "         -0.0473135 ,  0.10199831],\n",
       "        [-0.02446816,  0.06817421, -0.07193314, ..., -0.03330483,\n",
       "         -0.05230553,  0.04414842],\n",
       "        [-0.06708043,  0.02147115, -0.09121464, ..., -0.05383505,\n",
       "         -0.01774716,  0.07759392],\n",
       "        [-0.0356346 , -0.04208487, -0.07403246, ..., -0.06217765,\n",
       "          0.00021704,  0.06102732]], shape=(6, 384), dtype=float32),\n",
       " array([[-0.04926394,  0.08441651,  0.01635877, ...,  0.02005369,\n",
       "         -0.04361874,  0.03731416],\n",
       "        [-0.02741748,  0.05111989, -0.06694469, ..., -0.03888807,\n",
       "          0.00744314,  0.06254719],\n",
       "        [-0.00989603,  0.01424925, -0.07679816, ..., -0.04637307,\n",
       "         -0.09094314,  0.08953765],\n",
       "        [-0.02909457,  0.05696599, -0.09091368, ...,  0.00422918,\n",
       "         -0.02970263,  0.046579  ],\n",
       "        [-0.09299012,  0.05897354, -0.01080143, ..., -0.06755453,\n",
       "         -0.04354847,  0.05055818],\n",
       "        [-0.04976443, -0.05292738, -0.10818695, ..., -0.09168109,\n",
       "         -0.00719362,  0.04949957]], shape=(6, 384), dtype=float32),\n",
       " array([[-0.06199979,  0.08224951, -0.01542807, ..., -0.01872998,\n",
       "         -0.0148283 ,  0.06181373],\n",
       "        [ 0.0401401 ,  0.08375412,  0.00123525, ...,  0.00124669,\n",
       "          0.02638611,  0.0112907 ],\n",
       "        [-0.10136034,  0.0153375 ,  0.03551092, ..., -0.02478544,\n",
       "         -0.02128125,  0.05426133],\n",
       "        ...,\n",
       "        [-0.04144371,  0.05269597, -0.07880072, ..., -0.04446129,\n",
       "         -0.05534845,  0.06857254],\n",
       "        [-0.07366409,  0.02254838, -0.06791054, ...,  0.00233575,\n",
       "         -0.0250914 ,  0.07041567],\n",
       "        [-0.13407116,  0.03633695, -0.06990325, ..., -0.0947988 ,\n",
       "          0.0098283 ,  0.09779441]], shape=(7, 384), dtype=float32),\n",
       " array([[-0.04719291,  0.11369143,  0.03436204, ..., -0.03809576,\n",
       "         -0.01360478,  0.0474217 ],\n",
       "        [ 0.00187731,  0.05968469, -0.04327745, ..., -0.01786922,\n",
       "          0.01484676,  0.01860972],\n",
       "        [-0.17169476,  0.0181033 ,  0.01203643, ...,  0.02061422,\n",
       "         -0.03048517,  0.02295226],\n",
       "        ...,\n",
       "        [-0.04112501,  0.08992042, -0.06208125, ..., -0.00643401,\n",
       "         -0.01316511,  0.03971384],\n",
       "        [-0.07209265,  0.04040077, -0.02611288, ..., -0.05590778,\n",
       "         -0.02020875,  0.06490752],\n",
       "        [ 0.02950676, -0.00600559, -0.018451  , ..., -0.06697717,\n",
       "         -0.00854935,  0.05017257]], shape=(7, 384), dtype=float32),\n",
       " array([[-0.01962418,  0.11433546,  0.03459752, ...,  0.02872188,\n",
       "          0.00619906,  0.02872372],\n",
       "        [ 0.03724341,  0.04351413, -0.05170324, ..., -0.03043718,\n",
       "         -0.03495637,  0.06757732],\n",
       "        [-0.03022152, -0.02064185, -0.06261777, ..., -0.06349242,\n",
       "         -0.09532543,  0.08658756],\n",
       "        [-0.03716995,  0.08180337, -0.08122347, ..., -0.01956281,\n",
       "         -0.03370112,  0.04073627],\n",
       "        [-0.07803267,  0.04925479, -0.06766631, ..., -0.04177693,\n",
       "         -0.03811736,  0.05050006],\n",
       "        [ 0.00811502, -0.02820628, -0.03283005, ..., -0.05470308,\n",
       "         -0.03375393,  0.05570494]], shape=(6, 384), dtype=float32),\n",
       " array([[-0.02672465,  0.10592192,  0.03697085, ...,  0.01972162,\n",
       "          0.0426386 ,  0.0464936 ],\n",
       "        [-0.00762219,  0.02779366, -0.07965651, ..., -0.01792642,\n",
       "         -0.00569043,  0.07895551],\n",
       "        [-0.03662102,  0.00105209, -0.07452565, ..., -0.05978743,\n",
       "         -0.10682029,  0.08037066],\n",
       "        [-0.0276774 ,  0.05213195, -0.07795279, ..., -0.03211532,\n",
       "         -0.05426863,  0.04091563],\n",
       "        [-0.08224517,  0.02508479, -0.0660464 , ..., -0.03915261,\n",
       "         -0.02417511,  0.05873995],\n",
       "        [-0.02549229, -0.02583926, -0.05853121, ..., -0.07949818,\n",
       "         -0.00417299,  0.07048751]], shape=(6, 384), dtype=float32),\n",
       " array([[-0.04613934,  0.11739547,  0.03139031, ..., -0.03284236,\n",
       "         -0.01172493,  0.04907712],\n",
       "        [-0.00674711,  0.05851338, -0.03606183, ..., -0.0183355 ,\n",
       "          0.02036401,  0.02232128],\n",
       "        [-0.17492336,  0.01652092,  0.02165532, ..., -0.00208351,\n",
       "         -0.01350682,  0.02667394],\n",
       "        ...,\n",
       "        [-0.03907648,  0.08396178, -0.06800506, ..., -0.01307312,\n",
       "         -0.01551212,  0.034156  ],\n",
       "        [-0.08692075,  0.02990406, -0.03202786, ..., -0.04553153,\n",
       "         -0.01697054,  0.08514357],\n",
       "        [-0.00159902, -0.01294221, -0.01684543, ..., -0.03779892,\n",
       "         -0.03594301,  0.0570583 ]], shape=(7, 384), dtype=float32),\n",
       " array([[-0.03001883,  0.06225258, -0.01875734, ...,  0.02024498,\n",
       "         -0.00685247,  0.05288136],\n",
       "        [-0.14651568, -0.01666317, -0.029759  , ..., -0.04410479,\n",
       "          0.01779326,  0.12036532],\n",
       "        [-0.1261952 ,  0.04764982,  0.0296374 , ..., -0.01119863,\n",
       "          0.05805713,  0.06218655],\n",
       "        ...,\n",
       "        [-0.05348966,  0.06836758, -0.08062626, ..., -0.0530407 ,\n",
       "         -0.03399483,  0.05839973],\n",
       "        [-0.08735402, -0.00819747, -0.0901666 , ..., -0.03659456,\n",
       "         -0.02246149,  0.05304696],\n",
       "        [-0.01448885, -0.01143137, -0.03288055, ..., -0.06490761,\n",
       "         -0.02773188,  0.04655335]], shape=(7, 384), dtype=float32),\n",
       " array([[-0.02193768,  0.10810196,  0.00377889, ..., -0.00504773,\n",
       "          0.00929768,  0.07116883],\n",
       "        [-0.00390005,  0.04899363, -0.06124458, ..., -0.03193505,\n",
       "         -0.01409147,  0.07082108],\n",
       "        [-0.06061987,  0.07293542, -0.05056704, ..., -0.06582782,\n",
       "         -0.0205915 ,  0.06009575],\n",
       "        ...,\n",
       "        [-0.04285755,  0.06256413, -0.08971298, ..., -0.04327938,\n",
       "         -0.01535573,  0.06148572],\n",
       "        [-0.05763574, -0.00856465, -0.10421459, ..., -0.01303056,\n",
       "          0.04192766,  0.05375727],\n",
       "        [-0.01205825, -0.00550122, -0.01570467, ..., -0.00355381,\n",
       "         -0.00030496,  0.04462157]], shape=(7, 384), dtype=float32),\n",
       " array([[-0.01252044,  0.11460237,  0.03103815, ..., -0.00661502,\n",
       "          0.0316731 ,  0.04309133],\n",
       "        [ 0.02220584,  0.04224041, -0.05879097, ..., -0.03171442,\n",
       "         -0.03807963,  0.07806697],\n",
       "        [-0.03282652, -0.01951263, -0.07148089, ..., -0.05998412,\n",
       "         -0.10818809,  0.08699081],\n",
       "        [-0.04691366,  0.08080093, -0.08504616, ..., -0.03506066,\n",
       "         -0.04784844,  0.05114702],\n",
       "        [-0.07562393,  0.05744975, -0.05348955, ..., -0.07010426,\n",
       "         -0.00741338,  0.06212212],\n",
       "        [ 0.0010461 , -0.02305658, -0.07710246, ..., -0.06333572,\n",
       "         -0.04119105,  0.06777751]], shape=(6, 384), dtype=float32),\n",
       " array([[-0.06886879,  0.11213229,  0.01575605, ...,  0.01541213,\n",
       "         -0.04210394,  0.04794952],\n",
       "        [-0.01094223,  0.07673944, -0.02943323, ..., -0.06249484,\n",
       "         -0.01292459,  0.06892015],\n",
       "        [-0.00787651,  0.01164587, -0.07158708, ..., -0.0581998 ,\n",
       "         -0.10532526,  0.09515777],\n",
       "        [-0.04553283,  0.0483442 , -0.10464297, ...,  0.00945113,\n",
       "         -0.03768147,  0.06203165],\n",
       "        [-0.10445312,  0.05920593, -0.02824494, ..., -0.06383426,\n",
       "         -0.06114832,  0.06146551],\n",
       "        [-0.04892439, -0.06023736, -0.11039747, ..., -0.07610963,\n",
       "          0.00906334,  0.05693371]], shape=(6, 384), dtype=float32),\n",
       " array([[-0.02471316,  0.11896966,  0.02477335, ...,  0.02019694,\n",
       "          0.00956378,  0.03256775],\n",
       "        [ 0.02789746,  0.04820319, -0.05497561, ..., -0.01809043,\n",
       "         -0.03049369,  0.08158866],\n",
       "        [-0.02535832, -0.00772584, -0.06660841, ..., -0.05000743,\n",
       "         -0.08551069,  0.07940719],\n",
       "        [-0.04499171,  0.08138765, -0.0901423 , ..., -0.02448803,\n",
       "         -0.0447069 ,  0.0510828 ],\n",
       "        [-0.07456078,  0.02891029, -0.0592873 , ..., -0.03683178,\n",
       "         -0.03314887,  0.06030076],\n",
       "        [ 0.01441492, -0.02498636, -0.0237188 , ..., -0.07032659,\n",
       "         -0.02383288,  0.04857878]], shape=(6, 384), dtype=float32),\n",
       " array([[ 0.00165435,  0.11352339,  0.0383958 , ..., -0.0393162 ,\n",
       "          0.01595302,  0.04028516],\n",
       "        [-0.0019216 ,  0.05575639, -0.03451739, ..., -0.0134713 ,\n",
       "          0.01696503,  0.01710105],\n",
       "        [-0.04881826,  0.06881878,  0.0276843 , ..., -0.03340701,\n",
       "         -0.03628245,  0.07883856],\n",
       "        ...,\n",
       "        [-0.07329278,  0.03753854, -0.08001953, ..., -0.04359777,\n",
       "         -0.05267116,  0.05664839],\n",
       "        [-0.05018283,  0.02844137, -0.06193583, ..., -0.02454757,\n",
       "          0.0417752 ,  0.05216321],\n",
       "        [-0.01911403,  0.00382769, -0.01500498, ..., -0.00028037,\n",
       "         -0.00114703,  0.03227822]], shape=(7, 384), dtype=float32),\n",
       " array([[-0.02382566,  0.11217572,  0.00668607, ..., -0.01263165,\n",
       "          0.01180735,  0.06822629],\n",
       "        [ 0.00039455,  0.04304948, -0.06725107, ..., -0.02397721,\n",
       "         -0.00744938,  0.07534349],\n",
       "        [-0.06973504,  0.04315863, -0.04214579, ..., -0.05272376,\n",
       "          0.00519674,  0.06891205],\n",
       "        ...,\n",
       "        [-0.03831939,  0.08518799, -0.08354414, ..., -0.01196404,\n",
       "         -0.0416143 ,  0.04026664],\n",
       "        [-0.07904303,  0.04592438, -0.0957329 , ..., -0.07481307,\n",
       "         -0.03314086,  0.07743515],\n",
       "        [ 0.00534339, -0.02476943, -0.05075311, ..., -0.06093268,\n",
       "         -0.02959389,  0.06718952]], shape=(7, 384), dtype=float32),\n",
       " array([[-0.02004795,  0.1083279 ,  0.03873386, ..., -0.00401915,\n",
       "          0.01596734,  0.04193698],\n",
       "        [-0.00035572,  0.04212472, -0.07098304, ..., -0.01794603,\n",
       "         -0.00539738,  0.07768758],\n",
       "        [-0.04534282,  0.00041957, -0.05744546, ..., -0.06417455,\n",
       "         -0.10258241,  0.09090645],\n",
       "        [-0.02408765,  0.05635342, -0.07583166, ..., -0.02344359,\n",
       "         -0.05231858,  0.04088255],\n",
       "        [-0.07827593,  0.03909001, -0.05749858, ..., -0.0728748 ,\n",
       "         -0.00203395,  0.06966553],\n",
       "        [-0.03493666, -0.04420875, -0.07295912, ..., -0.09267652,\n",
       "          0.00794135,  0.06656623]], shape=(6, 384), dtype=float32),\n",
       " array([[-0.01851924,  0.11126842,  0.02029396, ...,  0.00547741,\n",
       "          0.00119637,  0.03201043],\n",
       "        [ 0.02441691,  0.04380436, -0.0618012 , ..., -0.02659534,\n",
       "         -0.02969162,  0.07969188],\n",
       "        [-0.02879379, -0.00761989, -0.07043457, ..., -0.05108578,\n",
       "         -0.09300824,  0.08437325],\n",
       "        [-0.03882751,  0.05318363, -0.08203952, ...,  0.00611747,\n",
       "         -0.01619987,  0.05289024],\n",
       "        [-0.07913937, -0.00045442, -0.08276606, ..., -0.03685569,\n",
       "         -0.0251473 ,  0.04541564],\n",
       "        [ 0.00777892, -0.00962682, -0.03561253, ..., -0.06978275,\n",
       "         -0.04440046,  0.0503903 ]], shape=(6, 384), dtype=float32),\n",
       " array([[-0.05089822,  0.12286436,  0.00578568, ..., -0.01583626,\n",
       "         -0.00118986,  0.0593804 ],\n",
       "        [-0.00743088,  0.05782182, -0.06651391, ..., -0.02366141,\n",
       "         -0.01642567,  0.0386576 ],\n",
       "        [-0.08082651,  0.07023218, -0.05809008, ..., -0.03178673,\n",
       "         -0.0891434 ,  0.09525324],\n",
       "        [-0.02286157,  0.06917318, -0.07321878, ..., -0.01473352,\n",
       "         -0.04556377,  0.08101447],\n",
       "        [-0.06032652,  0.01998287, -0.10680724, ..., -0.01700984,\n",
       "         -0.03209678,  0.03846721],\n",
       "        [-0.07956611,  0.03141523, -0.06601891, ..., -0.07324486,\n",
       "          0.01846795,  0.08185953]], shape=(6, 384), dtype=float32),\n",
       " array([[-0.00117937,  0.10982428,  0.03069208, ...,  0.00398494,\n",
       "          0.03309928,  0.04458899],\n",
       "        [-0.00338323,  0.03424993, -0.06235652, ..., -0.02814089,\n",
       "         -0.00531944,  0.07503624],\n",
       "        [-0.03954326,  0.00808859, -0.06643385, ..., -0.07232147,\n",
       "         -0.11781628,  0.08121495],\n",
       "        [-0.03126828,  0.05048   , -0.08081201, ..., -0.02405738,\n",
       "         -0.05730427,  0.04457918],\n",
       "        [-0.06856123,  0.03465567, -0.05757179, ..., -0.04116066,\n",
       "         -0.00442707,  0.0760586 ],\n",
       "        [-0.05843578, -0.02856564, -0.07791745, ..., -0.08773823,\n",
       "          0.00335297,  0.06872184]], shape=(6, 384), dtype=float32),\n",
       " array([[-0.02344751,  0.14696215,  0.00929027, ..., -0.02774603,\n",
       "         -0.0125137 ,  0.08555181],\n",
       "        [-0.02236948,  0.04877852, -0.072504  , ..., -0.02751725,\n",
       "         -0.02260441,  0.03943258],\n",
       "        [-0.06196764,  0.00126168, -0.07395566, ..., -0.07732441,\n",
       "         -0.05982604,  0.06995218],\n",
       "        [-0.02041077,  0.06824175, -0.07837877, ..., -0.00210386,\n",
       "         -0.07136527,  0.08883496],\n",
       "        [-0.06284325,  0.04122178, -0.08499085, ..., -0.018981  ,\n",
       "         -0.05348887,  0.03992854],\n",
       "        [-0.0214721 , -0.02602769, -0.14562911, ..., -0.08028197,\n",
       "         -0.00454894,  0.06213471]], shape=(6, 384), dtype=float32),\n",
       " array([[-0.03936373,  0.11211737,  0.0140104 , ...,  0.00196874,\n",
       "          0.00562571,  0.07212321],\n",
       "        [ 0.0017856 ,  0.05819454, -0.04395819, ..., -0.01260887,\n",
       "          0.01462516,  0.02179311],\n",
       "        [-0.18317863,  0.01195992,  0.01571384, ...,  0.01186464,\n",
       "         -0.02601433,  0.0266592 ],\n",
       "        ...,\n",
       "        [-0.0408216 ,  0.06782231, -0.07232356, ...,  0.00380751,\n",
       "         -0.03159057,  0.04539958],\n",
       "        [-0.0796228 ,  0.05600172, -0.05631465, ..., -0.03621706,\n",
       "         -0.02809968,  0.09546211],\n",
       "        [-0.00264675, -0.01999725, -0.03103828, ..., -0.06454782,\n",
       "         -0.02801567,  0.04468655]], shape=(7, 384), dtype=float32),\n",
       " array([[-0.01324697,  0.11683828,  0.02449821, ...,  0.00442459,\n",
       "          0.02990029,  0.03917965],\n",
       "        [-0.00312374,  0.03407904, -0.07186468, ..., -0.01853595,\n",
       "          0.00017186,  0.07412247],\n",
       "        [-0.03532973,  0.01135568, -0.07145692, ..., -0.07070627,\n",
       "         -0.11063208,  0.0829208 ],\n",
       "        [-0.02295051,  0.04007056, -0.08251444, ..., -0.01592954,\n",
       "         -0.05580119,  0.05286906],\n",
       "        [-0.07062636,  0.03848634, -0.05690414, ..., -0.05099   ,\n",
       "         -0.01082792,  0.07340424],\n",
       "        [-0.04500094, -0.02806706, -0.08146394, ..., -0.08862349,\n",
       "          0.00243073,  0.0664575 ]], shape=(6, 384), dtype=float32),\n",
       " array([[-0.03468165,  0.07869029,  0.02159235, ..., -0.01110522,\n",
       "          0.01364261,  0.06769234],\n",
       "        [ 0.01894424,  0.0810004 , -0.01395156, ...,  0.025467  ,\n",
       "          0.02847737,  0.01005749],\n",
       "        [-0.12761277,  0.01056357, -0.01362448, ..., -0.05704294,\n",
       "          0.03169197,  0.09112701],\n",
       "        ...,\n",
       "        [-0.05992174,  0.00335052, -0.09518714, ..., -0.02300332,\n",
       "         -0.03748365,  0.03919525],\n",
       "        [-0.07466633, -0.01051695, -0.04346738, ..., -0.05837722,\n",
       "          0.0124068 ,  0.03456987],\n",
       "        [-0.11883831,  0.04829877, -0.00254817, ...,  0.1264095 ,\n",
       "          0.04654906, -0.0157172 ]], shape=(9, 384), dtype=float32),\n",
       " array([[-0.0063411 ,  0.06988266,  0.01649904, ...,  0.01383987,\n",
       "         -0.00028939,  0.05751439],\n",
       "        [-0.03446444,  0.00824163, -0.04600938, ..., -0.07810376,\n",
       "          0.03042308,  0.07548272],\n",
       "        [-0.07205852,  0.04919341,  0.0139462 , ...,  0.03895262,\n",
       "          0.02115646,  0.05950497],\n",
       "        ...,\n",
       "        [-0.03991243,  0.06395302, -0.09087077, ...,  0.00194958,\n",
       "         -0.03910499,  0.04794681],\n",
       "        [-0.0768297 ,  0.02560059, -0.07214431, ..., -0.05403373,\n",
       "         -0.01889055,  0.07164303],\n",
       "        [-0.04862942, -0.05664355, -0.10529885, ..., -0.07338464,\n",
       "          0.00504956,  0.05493188]], shape=(7, 384), dtype=float32),\n",
       " array([[-0.07381275,  0.04471091,  0.02222966, ..., -0.08961976,\n",
       "          0.04777081,  0.07392904],\n",
       "        [ 0.02065552,  0.06756091, -0.00781679, ...,  0.02240507,\n",
       "          0.03465714,  0.02316757],\n",
       "        [-0.00068971,  0.01885028, -0.06701939, ..., -0.03952739,\n",
       "         -0.06321681,  0.08859903],\n",
       "        ...,\n",
       "        [-0.05500906,  0.02200295, -0.11582541, ..., -0.00768006,\n",
       "         -0.04398671,  0.02830608],\n",
       "        [-0.08100171, -0.01098997, -0.0636697 , ..., -0.0770402 ,\n",
       "          0.08664206,  0.06042301],\n",
       "        [-0.12445411, -0.01724791, -0.08016343, ..., -0.02120218,\n",
       "         -0.00476969, -0.02836321]], shape=(7, 384), dtype=float32),\n",
       " array([[-0.05963368,  0.07604705, -0.01024331, ...,  0.01630758,\n",
       "          0.02686734,  0.07490684],\n",
       "        [-0.01146528,  0.0619    , -0.04421771, ..., -0.01260132,\n",
       "          0.00913413,  0.0282078 ],\n",
       "        [-0.1151339 ,  0.03959009,  0.04882876, ..., -0.04635424,\n",
       "         -0.04876431,  0.07790398],\n",
       "        ...,\n",
       "        [-0.02667283,  0.0547085 , -0.07765403, ..., -0.02023427,\n",
       "         -0.05769136,  0.04506311],\n",
       "        [-0.09351584,  0.02696038, -0.07362849, ..., -0.03252243,\n",
       "         -0.02397749,  0.08465041],\n",
       "        [-0.03429051, -0.03833359, -0.07807305, ..., -0.05683425,\n",
       "         -0.00253457,  0.06664068]], shape=(7, 384), dtype=float32),\n",
       " array([[-5.99687337e-05,  7.70275220e-02, -1.96643230e-02, ...,\n",
       "          4.76267561e-03, -5.97892934e-03,  4.92217280e-02],\n",
       "        [-1.70324545e-03,  2.23827437e-02, -6.74471557e-02, ...,\n",
       "         -5.08520827e-02, -7.33932778e-02,  8.88522491e-02],\n",
       "        [-3.75225283e-02,  4.38452885e-02, -8.36904049e-02, ...,\n",
       "         -3.76530886e-02, -4.97704446e-02,  7.09301829e-02],\n",
       "        [-6.16963394e-02,  9.64947417e-03, -1.13463774e-01, ...,\n",
       "         -1.06512653e-02, -4.49013785e-02,  3.70668098e-02],\n",
       "        [-5.86983263e-02,  2.59323940e-02, -1.21005140e-01, ...,\n",
       "         -6.71052486e-02, -1.20391883e-02,  6.88224509e-02],\n",
       "        [-4.04067338e-02,  3.98423150e-03, -4.58560586e-02, ...,\n",
       "         -2.59793531e-02, -1.48312235e-02, -4.10690568e-02]],\n",
       "       shape=(6, 384), dtype=float32),\n",
       " array([[-0.02833104,  0.11308753,  0.02767582, ..., -0.02189519,\n",
       "          0.00978297,  0.06174716],\n",
       "        [-0.00547611,  0.05316837, -0.03820559, ..., -0.01010109,\n",
       "          0.01892499,  0.02072335],\n",
       "        [-0.11128462,  0.07450046,  0.01647185, ..., -0.03583457,\n",
       "         -0.01618826,  0.10589324],\n",
       "        ...,\n",
       "        [-0.03658019,  0.04563927, -0.0704541 , ..., -0.01437485,\n",
       "         -0.08263955,  0.07081279],\n",
       "        [-0.07401557,  0.05347598, -0.0319703 , ..., -0.04400461,\n",
       "         -0.02431177,  0.05480919],\n",
       "        [-0.05354575, -0.0570989 , -0.11193077, ..., -0.07644432,\n",
       "          0.00608094,  0.04458508]], shape=(7, 384), dtype=float32),\n",
       " array([[-0.04247014,  0.09829425,  0.02810651, ...,  0.03978861,\n",
       "          0.00696642,  0.02950662],\n",
       "        [-0.00797036,  0.05982587, -0.04502744, ..., -0.01072243,\n",
       "          0.01035905,  0.0293658 ],\n",
       "        [-0.01256411,  0.02436958, -0.03661495, ..., -0.00922755,\n",
       "         -0.07910514,  0.08241965],\n",
       "        [-0.02415621,  0.07745983, -0.07538968, ..., -0.02257546,\n",
       "         -0.0399895 ,  0.07939807],\n",
       "        [-0.06190317,  0.00959628, -0.08706634, ...,  0.00399966,\n",
       "         -0.04076714,  0.0433349 ],\n",
       "        [-0.06037967,  0.00832309, -0.06219478, ..., -0.03435895,\n",
       "          0.00911298,  0.04714698]], shape=(6, 384), dtype=float32),\n",
       " array([[-0.03390303,  0.094755  , -0.02096485, ..., -0.00199512,\n",
       "         -0.00414708,  0.03098473],\n",
       "        [-0.01220047,  0.04832327, -0.06263479, ..., -0.01807295,\n",
       "          0.00743891,  0.03251949],\n",
       "        [-0.08168289,  0.04643991, -0.01867365, ..., -0.01778942,\n",
       "          0.04642791,  0.07440621],\n",
       "        ...,\n",
       "        [-0.03696765,  0.04228292, -0.09221037, ..., -0.02259391,\n",
       "         -0.05829807,  0.08814324],\n",
       "        [-0.05009219,  0.02794894, -0.07191548, ..., -0.00738986,\n",
       "         -0.00385813,  0.06843642],\n",
       "        [-0.03764274, -0.06388884, -0.09597481, ..., -0.08168669,\n",
       "         -0.01869662,  0.04608475]], shape=(7, 384), dtype=float32),\n",
       " array([[-0.01714444,  0.09299453, -0.00129568, ..., -0.0325469 ,\n",
       "          0.03471142,  0.07650065],\n",
       "        [-0.00458364,  0.06452569, -0.04054736, ..., -0.00872119,\n",
       "          0.00795909,  0.0270302 ],\n",
       "        [-0.11448772,  0.01446288, -0.00299323, ..., -0.04795854,\n",
       "          0.02368678,  0.11475477],\n",
       "        ...,\n",
       "        [-0.08666553,  0.06728588, -0.09734242, ..., -0.03265715,\n",
       "         -0.03992816,  0.04695439],\n",
       "        [-0.08581291, -0.0126055 , -0.08944254, ..., -0.05654275,\n",
       "          0.06417546,  0.07857036],\n",
       "        [-0.0494764 , -0.01289752, -0.0320005 , ...,  0.01527844,\n",
       "          0.00583126, -0.0064454 ]], shape=(8, 384), dtype=float32),\n",
       " array([[-0.00706808,  0.10070854,  0.03917774, ...,  0.01183905,\n",
       "          0.0225995 ,  0.03062048],\n",
       "        [-0.00127477,  0.04110816, -0.0458749 , ..., -0.0100892 ,\n",
       "         -0.06579718,  0.08530173],\n",
       "        [-0.11901512, -0.00563722,  0.02732075, ..., -0.02818295,\n",
       "          0.00707716,  0.14747433],\n",
       "        [-0.02501776,  0.07025325, -0.07229802, ..., -0.03002089,\n",
       "         -0.03670032,  0.06619753],\n",
       "        [-0.05842918,  0.00913855, -0.0923859 , ..., -0.01722903,\n",
       "         -0.04030559,  0.03509455],\n",
       "        [-0.10848051,  0.02707016, -0.05557554, ..., -0.0588268 ,\n",
       "          0.02303863,  0.05107159]], shape=(6, 384), dtype=float32),\n",
       " array([[-0.02404256,  0.08334284, -0.0008749 , ..., -0.02057499,\n",
       "         -0.01648713,  0.06008561],\n",
       "        [-0.01231888,  0.05574718, -0.0394648 , ..., -0.01588657,\n",
       "          0.01121222,  0.02048053],\n",
       "        [-0.00464299,  0.02214157, -0.04322699, ..., -0.03514732,\n",
       "         -0.07721909,  0.07413267],\n",
       "        [-0.04631652,  0.07799688, -0.07724728, ..., -0.02533267,\n",
       "         -0.04107478,  0.07259481],\n",
       "        [-0.06286499,  0.02148439, -0.11174896, ..., -0.01560036,\n",
       "         -0.0415794 ,  0.03284552],\n",
       "        [-0.10986372,  0.00325195, -0.09510544, ..., -0.0886399 ,\n",
       "          0.01353898,  0.0923856 ]], shape=(6, 384), dtype=float32),\n",
       " array([[-0.05152884,  0.08328313,  0.00833981, ...,  0.00329753,\n",
       "         -0.02280523,  0.06251875],\n",
       "        [-0.03463658, -0.00258022, -0.05326245, ..., -0.06017467,\n",
       "         -0.09358585,  0.07874395],\n",
       "        [-0.04410486,  0.04857831, -0.08056445, ..., -0.0373349 ,\n",
       "         -0.05100363,  0.08223993],\n",
       "        [-0.07558061,  0.01656442, -0.10599957, ..., -0.0136687 ,\n",
       "         -0.04788499,  0.03190546],\n",
       "        [-0.10330665,  0.05100447, -0.08324561, ..., -0.04728524,\n",
       "          0.01289097,  0.07016029],\n",
       "        [-0.0267867 , -0.00432531, -0.02508561, ...,  0.02377475,\n",
       "          0.00297782,  0.00688226]], shape=(6, 384), dtype=float32),\n",
       " array([[-0.01624315,  0.07624219,  0.01257877, ..., -0.04050782,\n",
       "          0.01235472,  0.02855726],\n",
       "        [ 0.00823999,  0.07045379, -0.03524843, ..., -0.01409596,\n",
       "          0.00174521,  0.01519979],\n",
       "        [-0.08752605,  0.05698281,  0.00346649, ..., -0.01343112,\n",
       "          0.03431829,  0.07166428],\n",
       "        ...,\n",
       "        [-0.04241364,  0.05476476, -0.09414157, ...,  0.00037237,\n",
       "         -0.04453879,  0.06231328],\n",
       "        [-0.034624  ,  0.02906503, -0.06352298, ..., -0.02749653,\n",
       "         -0.03482657,  0.04165719],\n",
       "        [-0.04012494, -0.04978229, -0.07046349, ..., -0.07421495,\n",
       "         -0.01159867,  0.0740543 ]], shape=(7, 384), dtype=float32),\n",
       " array([[-0.01464694,  0.0947879 ,  0.04214546, ..., -0.05948943,\n",
       "          0.01106609,  0.06757028],\n",
       "        [-0.0072373 ,  0.04972149, -0.07175778, ..., -0.02636383,\n",
       "         -0.01580454,  0.05569327],\n",
       "        [-0.04781509,  0.03324649,  0.01083779, ..., -0.04911072,\n",
       "         -0.01390689,  0.10540953],\n",
       "        ...,\n",
       "        [-0.07235938,  0.00441336, -0.11224571, ...,  0.00603808,\n",
       "         -0.04833605,  0.02855564],\n",
       "        [-0.06236777,  0.0151101 , -0.07375614, ..., -0.06700633,\n",
       "          0.05527958,  0.06862303],\n",
       "        [-0.09874128, -0.00672036, -0.061796  , ...,  0.00073348,\n",
       "         -0.00669101, -0.02979721]], shape=(7, 384), dtype=float32),\n",
       " array([[ 0.02353536,  0.0959303 ,  0.03146152, ...,  0.03405681,\n",
       "         -0.01012332,  0.0262048 ],\n",
       "        [-0.03849917,  0.01776371, -0.05035672, ..., -0.02054869,\n",
       "         -0.04396834,  0.0588641 ],\n",
       "        [-0.11093941,  0.04388621, -0.02807418, ...,  0.02674287,\n",
       "         -0.015484  ,  0.06215634],\n",
       "        ...,\n",
       "        [-0.07477941,  0.0364095 , -0.11141948, ..., -0.04331162,\n",
       "         -0.04858613,  0.06303868],\n",
       "        [-0.08049379, -0.01809855, -0.0914795 , ..., -0.02576117,\n",
       "          0.02010984,  0.0429276 ],\n",
       "        [-0.03152773,  0.00161938, -0.07031234, ..., -0.0412591 ,\n",
       "          0.03244917,  0.02589937]], shape=(7, 384), dtype=float32)]"
      ]
     },
     "execution_count": 18,
     "metadata": {},
     "output_type": "execute_result"
    }
   ],
   "source": [
    "final_embeddings_of_json"
   ]
  },
  {
   "cell_type": "code",
   "execution_count": 19,
   "id": "26715d0b",
   "metadata": {},
   "outputs": [
    {
     "data": {
      "text/plain": [
       "40"
      ]
     },
     "execution_count": 19,
     "metadata": {},
     "output_type": "execute_result"
    }
   ],
   "source": [
    "len(final_embeddings_of_json)"
   ]
  },
  {
   "cell_type": "code",
   "execution_count": 20,
   "id": "aa170d07",
   "metadata": {},
   "outputs": [],
   "source": [
    "offset = 0"
   ]
  },
  {
   "cell_type": "code",
   "execution_count": 56,
   "id": "6ec7660e",
   "metadata": {},
   "outputs": [],
   "source": [
    "offset = 0\n",
    "info = client.get_collection(collection_name= \"daraz_items\")\n",
    "\n",
    "\n",
    "\n",
    "\n",
    "for doc_number in range(len(final_embeddings_of_json)):\n",
    "    if(info.points_count != 0):\n",
    "            res,_ = client.scroll(\n",
    "            collection_name = \"daraz_items_with_docs\",\n",
    "            limit=1,\n",
    "            with_payload=False,\n",
    "            with_vectors=False,\n",
    "            order_by = {\n",
    "                        \"key\" : \"chunk_id\",\n",
    "                        \"direction\" : \"desc\",\n",
    "                        },\n",
    "            )\n",
    "            if(res):\n",
    "                last_id = res[0].id\n",
    "                offset = last_id+1\n",
    "            else:\n",
    "                offset = 0\n",
    "    else:\n",
    "        offset = 0\n",
    "    for idx in range(len(final_embeddings_of_json[doc_number])):\n",
    "        client.upsert(\n",
    "            collection_name = \"daraz_items_with_docs\",\n",
    "            points = [models.PointStruct(\n",
    "                id = idx+offset,\n",
    "                payload = {\n",
    "                \"doc_id\":doc_number,\n",
    "                \"chunk_id\":idx+offset,\n",
    "                \"chunk_desc\" : all_chunks[doc_number][idx],\n",
    "                \"file_name\" : base_name\n",
    "            },\n",
    "            vector = final_embeddings_of_json[doc_number][idx].tolist()\n",
    "            )]\n",
    "        \n",
    "        )"
   ]
  },
  {
   "cell_type": "code",
   "execution_count": 53,
   "id": "9160ccd5",
   "metadata": {},
   "outputs": [
    {
     "data": {
      "text/plain": [
       "UpdateResult(operation_id=1, status=<UpdateStatus.COMPLETED: 'completed'>)"
      ]
     },
     "execution_count": 53,
     "metadata": {},
     "output_type": "execute_result"
    }
   ],
   "source": [
    "client.create_payload_index(\n",
    "    collection_name = \"daraz_items_with_docs\",\n",
    "    field_name = \"chunk_id\",\n",
    "    field_schema = \"integer\"\n",
    ")"
   ]
  },
  {
   "cell_type": "code",
   "execution_count": 54,
   "id": "9eb218af",
   "metadata": {},
   "outputs": [
    {
     "data": {
      "text/plain": [
       "UpdateResult(operation_id=3, status=<UpdateStatus.COMPLETED: 'completed'>)"
      ]
     },
     "execution_count": 54,
     "metadata": {},
     "output_type": "execute_result"
    }
   ],
   "source": [
    "client.create_payload_index(\n",
    "    collection_name = \"daraz_items_with_docs\",\n",
    "    field_name = \"doc_id\",\n",
    "    field_schema = \"integer\"\n",
    ")"
   ]
  },
  {
   "cell_type": "code",
   "execution_count": 55,
   "id": "be8335d6",
   "metadata": {},
   "outputs": [
    {
     "data": {
      "text/plain": [
       "UpdateResult(operation_id=5, status=<UpdateStatus.COMPLETED: 'completed'>)"
      ]
     },
     "execution_count": 55,
     "metadata": {},
     "output_type": "execute_result"
    }
   ],
   "source": [
    "client.create_payload_index(\n",
    "    collection_name = \"daraz_items_with_docs\",\n",
    "    field_name = \"file_name\",\n",
    "    field_schema=\"keyword\"\n",
    ")"
   ]
  },
  {
   "cell_type": "code",
   "execution_count": 26,
   "id": "4063ea3f",
   "metadata": {},
   "outputs": [
    {
     "data": {
      "text/plain": [
       "40"
      ]
     },
     "execution_count": 26,
     "metadata": {},
     "output_type": "execute_result"
    }
   ],
   "source": [
    "len(final_embeddings_of_json)"
   ]
  },
  {
   "cell_type": "code",
   "execution_count": 30,
   "id": "99db5cec",
   "metadata": {},
   "outputs": [
    {
     "name": "stdout",
     "output_type": "stream",
     "text": [
      "6\n",
      "7\n",
      "6\n",
      "6\n",
      "6\n",
      "6\n",
      "7\n",
      "7\n",
      "6\n",
      "6\n",
      "7\n",
      "7\n",
      "7\n",
      "6\n",
      "6\n",
      "6\n",
      "7\n",
      "7\n",
      "6\n",
      "6\n",
      "6\n",
      "6\n",
      "6\n",
      "7\n",
      "6\n",
      "9\n",
      "7\n",
      "7\n",
      "7\n",
      "6\n",
      "7\n",
      "6\n",
      "7\n",
      "8\n",
      "6\n",
      "6\n",
      "6\n",
      "7\n",
      "7\n",
      "7\n"
     ]
    }
   ],
   "source": [
    "for doc in range(len(final_embeddings_of_json)):\n",
    "    print(len(final_embeddings_of_json[doc]))"
   ]
  },
  {
   "cell_type": "markdown",
   "id": "0a890290",
   "metadata": {},
   "source": []
  },
  {
   "cell_type": "code",
   "execution_count": null,
   "id": "05b8e71b",
   "metadata": {},
   "outputs": [
    {
     "data": {
      "text/plain": [
       "UpdateResult(operation_id=0, status=<UpdateStatus.COMPLETED: 'completed'>)"
      ]
     },
     "execution_count": 25,
     "metadata": {},
     "output_type": "execute_result"
    }
   ],
   "source": [
    "\n"
   ]
  }
 ],
 "metadata": {
  "kernelspec": {
   "display_name": "rag",
   "language": "python",
   "name": "python3"
  },
  "language_info": {
   "codemirror_mode": {
    "name": "ipython",
    "version": 3
   },
   "file_extension": ".py",
   "mimetype": "text/x-python",
   "name": "python",
   "nbconvert_exporter": "python",
   "pygments_lexer": "ipython3",
   "version": "3.10.18"
  }
 },
 "nbformat": 4,
 "nbformat_minor": 5
}
